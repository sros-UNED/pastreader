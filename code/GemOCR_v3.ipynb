{
 "cells": [
  {
   "cell_type": "code",
   "execution_count": null,
   "id": "07ed39d8",
   "metadata": {},
   "outputs": [
    {
     "name": "stderr",
     "output_type": "stream",
     "text": [
      "[codecarbon INFO @ 11:14:17] offline tracker init\n",
      "[codecarbon WARNING @ 11:14:17] Multiple instances of codecarbon are allowed to run at the same time.\n",
      "[codecarbon INFO @ 11:14:17] [setup] RAM Tracking...\n",
      "[codecarbon INFO @ 11:14:17] [setup] CPU Tracking...\n",
      "[codecarbon DEBUG @ 11:14:17] Not using PowerGadget, an exception occurred while instantiating IntelPowerGadget : Platform not supported by Intel Power Gadget\n",
      "[codecarbon DEBUG @ 11:14:17] Not using the RAPL interface, an exception occurred while instantiating IntelRAPL : [Errno Unable to read Intel RAPL files for CPU power, we will use a constant for your CPU power. Please view https://github.com/mlco2/codecarbon/issues/244 for workarounds : %s] [Errno 13] Permission denied: '/sys/class/powercap/intel-rapl/intel-rapl:0/energy_uj'\n",
      "[codecarbon DEBUG @ 11:14:17] Not using PowerMetrics, an exception occurred while instantiating Powermetrics : Platform not supported by Powermetrics\n",
      "[codecarbon WARNING @ 11:14:17] No CPU tracking mode found. Falling back on CPU constant mode. \n",
      " Linux OS detected: Please ensure RAPL files exist at \\sys\\class\\powercap\\intel-rapl to measure CPU\n",
      "\n",
      "[codecarbon WARNING @ 11:14:18] We saw that you have a 13th Gen Intel(R) Core(TM) i9-13900 but we don't know it. Please contact us.\n",
      "[codecarbon INFO @ 11:14:18] CPU Model on constant consumption mode: 13th Gen Intel(R) Core(TM) i9-13900\n",
      "[codecarbon INFO @ 11:14:18] [setup] GPU Tracking...\n",
      "[codecarbon INFO @ 11:14:18] Tracking Nvidia GPU via pynvml\n",
      "[codecarbon DEBUG @ 11:14:18] GPU available. Starting setup\n",
      "[codecarbon DEBUG @ 11:14:18] GPU available. Starting setup\n",
      "[codecarbon DEBUG @ 11:14:18] The below tracking methods have been set up:\n",
      "                RAM Tracking Method: 3 Watts for 8 GB ratio constant\n",
      "                CPU Tracking Method: TDP constant\n",
      "                GPU Tracking Method: Unspecified\n",
      "            \n",
      "[codecarbon INFO @ 11:14:18] >>> Tracker's metadata:\n",
      "[codecarbon INFO @ 11:14:18]   Platform system: Linux-6.8.0-57-generic-x86_64-with-glibc2.35\n",
      "[codecarbon INFO @ 11:14:18]   Python version: 3.12.9\n",
      "[codecarbon INFO @ 11:14:18]   CodeCarbon version: 2.8.3\n",
      "[codecarbon INFO @ 11:14:18]   Available RAM : 62.503 GB\n",
      "[codecarbon INFO @ 11:14:18]   CPU count: 32\n",
      "[codecarbon INFO @ 11:14:18]   CPU model: 13th Gen Intel(R) Core(TM) i9-13900\n",
      "[codecarbon INFO @ 11:14:18]   GPU count: 1\n",
      "[codecarbon INFO @ 11:14:18]   GPU model: 1 x NVIDIA RTX 5000 Ada Generation BUT only tracking these GPU ids : [0]\n",
      "[codecarbon INFO @ 11:14:18] Saving emissions data to file /home/tmp/Ceura_Master_IA_2024/TFM/BNE_test/emissions.csv\n"
     ]
    },
    {
     "name": "stdout",
     "output_type": "stream",
     "text": [
      "[1/1000] ./test/pdf/545.pdf\n",
      "[2/1000] ./test/pdf/546.pdf\n"
     ]
    },
    {
     "name": "stderr",
     "output_type": "stream",
     "text": [
      "[codecarbon INFO @ 11:14:33] Energy consumed for RAM : 0.000000 kWh. RAM Power : 0.08745145797729492 W\n",
      "[codecarbon DEBUG @ 11:14:33] RAM : 0.09 W during 15.01 s [measurement time: 0.0104]\n",
      "[codecarbon INFO @ 11:14:33] Energy consumed for all CPUs : 0.000177 kWh. Total CPU Power : 42.5 W\n",
      "[codecarbon DEBUG @ 11:14:33] CPU : 42.50 W during 15.02 s [measurement time: 0.0004]\n",
      "[codecarbon INFO @ 11:14:33] Energy consumed for all GPUs : 0.000060 kWh. Total GPU Power : 14.327974244653587 W\n",
      "[codecarbon DEBUG @ 11:14:33] GPU : 14.33 W during 15.02 s [measurement time: 0.0081]\n",
      "[codecarbon INFO @ 11:14:33] 0.000238 kWh of electricity used since the beginning.\n",
      "[codecarbon DEBUG @ 11:14:33] last_duration=15.005453579000005\n",
      "------------------------\n"
     ]
    },
    {
     "name": "stdout",
     "output_type": "stream",
     "text": [
      "[3/1000] ./test/pdf/547.pdf\n"
     ]
    },
    {
     "name": "stderr",
     "output_type": "stream",
     "text": [
      "[codecarbon INFO @ 11:14:48] Energy consumed for RAM : 0.000001 kWh. RAM Power : 0.08754301071166992 W\n",
      "[codecarbon DEBUG @ 11:14:48] RAM : 0.09 W during 14.97 s [measurement time: 0.0139]\n",
      "[codecarbon INFO @ 11:14:48] Energy consumed for all CPUs : 0.000354 kWh. Total CPU Power : 42.5 W\n",
      "[codecarbon DEBUG @ 11:14:48] CPU : 42.50 W during 14.99 s [measurement time: 0.0003]\n",
      "[codecarbon INFO @ 11:14:48] Energy consumed for all GPUs : 0.000115 kWh. Total GPU Power : 13.256432675428249 W\n",
      "[codecarbon DEBUG @ 11:14:48] GPU : 13.26 W during 14.99 s [measurement time: 0.0043]\n",
      "[codecarbon INFO @ 11:14:48] 0.000470 kWh of electricity used since the beginning.\n",
      "[codecarbon DEBUG @ 11:14:48] last_duration=14.971972463\n",
      "------------------------\n",
      "[codecarbon INFO @ 11:15:03] Energy consumed for RAM : 0.000001 kWh. RAM Power : 0.08763456344604494 W\n",
      "[codecarbon DEBUG @ 11:15:03] RAM : 0.09 W during 14.97 s [measurement time: 0.0154]\n",
      "[codecarbon INFO @ 11:15:03] Energy consumed for all CPUs : 0.000531 kWh. Total CPU Power : 42.5 W\n",
      "[codecarbon DEBUG @ 11:15:03] CPU : 42.50 W during 15.00 s [measurement time: 0.0003]\n",
      "[codecarbon INFO @ 11:15:03] Energy consumed for all GPUs : 0.000179 kWh. Total GPU Power : 15.38676160374201 W\n",
      "[codecarbon DEBUG @ 11:15:03] GPU : 15.39 W during 15.00 s [measurement time: 0.0035]\n",
      "[codecarbon INFO @ 11:15:03] 0.000712 kWh of electricity used since the beginning.\n",
      "[codecarbon DEBUG @ 11:15:03] last_duration=14.974518945\n",
      "------------------------\n"
     ]
    },
    {
     "name": "stdout",
     "output_type": "stream",
     "text": [
      "[4/1000] ./test/pdf/548.pdf\n"
     ]
    },
    {
     "name": "stderr",
     "output_type": "stream",
     "text": [
      "[codecarbon INFO @ 11:15:18] Energy consumed for RAM : 0.000001 kWh. RAM Power : 0.08763456344604494 W\n",
      "[codecarbon DEBUG @ 11:15:18] RAM : 0.09 W during 14.97 s [measurement time: 0.0143]\n",
      "[codecarbon INFO @ 11:15:18] Energy consumed for all CPUs : 0.000708 kWh. Total CPU Power : 42.5 W\n",
      "[codecarbon DEBUG @ 11:15:18] CPU : 42.50 W during 14.99 s [measurement time: 0.0002]\n",
      "[codecarbon INFO @ 11:15:18] Energy consumed for all GPUs : 0.000272 kWh. Total GPU Power : 22.367683312081194 W\n",
      "[codecarbon DEBUG @ 11:15:18] GPU : 22.37 W during 15.00 s [measurement time: 0.0038]\n",
      "[codecarbon INFO @ 11:15:18] 0.000982 kWh of electricity used since the beginning.\n",
      "[codecarbon DEBUG @ 11:15:18] last_duration=14.970595021999998\n",
      "------------------------\n"
     ]
    },
    {
     "name": "stdout",
     "output_type": "stream",
     "text": [
      "[5/1000] ./test/pdf/549.pdf\n"
     ]
    },
    {
     "name": "stderr",
     "output_type": "stream",
     "text": [
      "[codecarbon INFO @ 11:15:33] Energy consumed for RAM : 0.000002 kWh. RAM Power : 0.08772611618041992 W\n",
      "[codecarbon DEBUG @ 11:15:33] RAM : 0.09 W during 14.97 s [measurement time: 0.0141]\n",
      "[codecarbon INFO @ 11:15:33] Energy consumed for all CPUs : 0.000885 kWh. Total CPU Power : 42.5 W\n",
      "[codecarbon DEBUG @ 11:15:33] CPU : 42.50 W during 14.99 s [measurement time: 0.0003]\n",
      "[codecarbon INFO @ 11:15:33] Energy consumed for all GPUs : 0.000353 kWh. Total GPU Power : 19.387762605291094 W\n",
      "[codecarbon DEBUG @ 11:15:33] GPU : 19.39 W during 14.99 s [measurement time: 0.0076]\n",
      "[codecarbon INFO @ 11:15:33] 0.001240 kWh of electricity used since the beginning.\n",
      "[codecarbon DEBUG @ 11:15:33] last_duration=14.971565845000015\n",
      "------------------------\n"
     ]
    },
    {
     "name": "stdout",
     "output_type": "stream",
     "text": [
      "[6/1000] ./test/pdf/55.pdf\n"
     ]
    },
    {
     "name": "stderr",
     "output_type": "stream",
     "text": [
      "[codecarbon INFO @ 11:15:48] Energy consumed for RAM : 0.000002 kWh. RAM Power : 0.08772611618041992 W\n",
      "[codecarbon DEBUG @ 11:15:48] RAM : 0.09 W during 14.97 s [measurement time: 0.0166]\n",
      "[codecarbon INFO @ 11:15:48] Energy consumed for all CPUs : 0.001063 kWh. Total CPU Power : 42.5 W\n",
      "[codecarbon DEBUG @ 11:15:48] CPU : 42.50 W during 15.00 s [measurement time: 0.0005]\n",
      "[codecarbon INFO @ 11:15:48] Energy consumed for all GPUs : 0.000418 kWh. Total GPU Power : 15.474538600169826 W\n",
      "[codecarbon DEBUG @ 11:15:48] GPU : 15.47 W during 15.00 s [measurement time: 0.0037]\n",
      "[codecarbon INFO @ 11:15:48] 0.001482 kWh of electricity used since the beginning.\n",
      "[codecarbon DEBUG @ 11:15:48] last_duration=14.970966285999992\n",
      "------------------------\n",
      "[codecarbon INFO @ 11:16:03] Energy consumed for RAM : 0.000003 kWh. RAM Power : 0.08772611618041992 W\n",
      "[codecarbon DEBUG @ 11:16:03] RAM : 0.09 W during 14.97 s [measurement time: 0.0112]\n",
      "[codecarbon INFO @ 11:16:03] Energy consumed for all CPUs : 0.001239 kWh. Total CPU Power : 42.5 W\n",
      "[codecarbon DEBUG @ 11:16:03] CPU : 42.50 W during 14.98 s [measurement time: 0.0004]\n",
      "[codecarbon INFO @ 11:16:03] Energy consumed for all GPUs : 0.000476 kWh. Total GPU Power : 14.070692558238935 W\n",
      "[codecarbon DEBUG @ 11:16:03] GPU : 14.07 W during 14.98 s [measurement time: 0.0020]\n",
      "[codecarbon INFO @ 11:16:03] 0.001718 kWh of electricity used since the beginning.\n",
      "[codecarbon DEBUG @ 11:16:03] last_duration=14.967639259999999\n",
      "------------------------\n"
     ]
    },
    {
     "name": "stdout",
     "output_type": "stream",
     "text": [
      "[7/1000] ./test/pdf/550.pdf\n"
     ]
    },
    {
     "name": "stderr",
     "output_type": "stream",
     "text": [
      "[codecarbon INFO @ 11:16:18] Energy consumed for RAM : 0.000003 kWh. RAM Power : 0.08772611618041992 W\n",
      "[codecarbon DEBUG @ 11:16:18] RAM : 0.09 W during 14.98 s [measurement time: 0.0112]\n",
      "[codecarbon INFO @ 11:16:18] Energy consumed for all CPUs : 0.001417 kWh. Total CPU Power : 42.5 W\n",
      "[codecarbon DEBUG @ 11:16:18] CPU : 42.50 W during 15.00 s [measurement time: 0.0004]\n",
      "[codecarbon INFO @ 11:16:18] Energy consumed for all GPUs : 0.000532 kWh. Total GPU Power : 13.374983968421256 W\n",
      "[codecarbon DEBUG @ 11:16:18] GPU : 13.37 W during 15.00 s [measurement time: 0.0020]\n",
      "[codecarbon INFO @ 11:16:18] 0.001951 kWh of electricity used since the beginning.\n",
      "[codecarbon DEBUG @ 11:16:18] We apply an energy mix of 174 g.CO2eq/kWh for Spain\n",
      "[codecarbon DEBUG @ 11:16:18] EmissionsData(timestamp='2025-04-13T11:16:18', project_name='codecarbon', run_id='868e486c-ef2f-47f1-8b33-54ddf9c190fd', experiment_id='5b0fa12a-3dd7-45bb-9766-cc326314d9f1', duration=120.03406135000002, emissions=0.0003396169621475774, emissions_rate=2.8293382588906075e-06, cpu_power=42.5, gpu_power=13.374983968421256, ram_power=0.08772611618041992, cpu_energy=0.0014165262476937503, gpu_energy=0.000531817647676, ram_energy=2.917019008746683e-06, energy_consumed=0.001951260914378497, country_name='Spain', country_iso_code='ESP', region=None, cloud_provider='', cloud_region='', os='Linux-6.8.0-57-generic-x86_64-with-glibc2.35', python_version='3.12.9', codecarbon_version='2.8.3', cpu_count=32, cpu_model='13th Gen Intel(R) Core(TM) i9-13900', gpu_count=1, gpu_model='1 x NVIDIA RTX 5000 Ada Generation', longitude=None, latitude=None, ram_total_size=62.50331497192383, tracking_mode='process', on_cloud='N', pue=1.0)\n",
      "[codecarbon INFO @ 11:16:18] 0.002829 g.CO2eq/s mean an estimation of 89.22601133237421 kg.CO2eq/year\n",
      "[codecarbon DEBUG @ 11:16:18] last_duration=14.981833115\n",
      "------------------------\n"
     ]
    },
    {
     "name": "stdout",
     "output_type": "stream",
     "text": [
      "[8/1000] ./test/pdf/551.pdf\n"
     ]
    },
    {
     "name": "stderr",
     "output_type": "stream",
     "text": [
      "[codecarbon INFO @ 11:16:33] Energy consumed for RAM : 0.000003 kWh. RAM Power : 0.08781766891479492 W\n",
      "[codecarbon DEBUG @ 11:16:33] RAM : 0.09 W during 14.98 s [measurement time: 0.0139]\n",
      "[codecarbon INFO @ 11:16:33] Energy consumed for all CPUs : 0.001594 kWh. Total CPU Power : 42.5 W\n",
      "[codecarbon DEBUG @ 11:16:33] CPU : 42.50 W during 15.00 s [measurement time: 0.0004]\n",
      "[codecarbon INFO @ 11:16:33] Energy consumed for all GPUs : 0.000593 kWh. Total GPU Power : 14.746151047957515 W\n",
      "[codecarbon DEBUG @ 11:16:33] GPU : 14.75 W during 15.00 s [measurement time: 0.0078]\n",
      "[codecarbon INFO @ 11:16:33] 0.002190 kWh of electricity used since the beginning.\n",
      "[codecarbon DEBUG @ 11:16:33] last_duration=14.97827964199999\n",
      "------------------------\n"
     ]
    },
    {
     "name": "stdout",
     "output_type": "stream",
     "text": [
      "[9/1000] ./test/pdf/552.pdf\n"
     ]
    },
    {
     "name": "stderr",
     "output_type": "stream",
     "text": [
      "[codecarbon INFO @ 11:16:48] Energy consumed for RAM : 0.000004 kWh. RAM Power : 0.08781766891479492 W\n",
      "[codecarbon DEBUG @ 11:16:48] RAM : 0.09 W during 14.97 s [measurement time: 0.0110]\n",
      "[codecarbon INFO @ 11:16:48] Energy consumed for all CPUs : 0.001771 kWh. Total CPU Power : 42.5 W\n",
      "[codecarbon DEBUG @ 11:16:48] CPU : 42.50 W during 14.99 s [measurement time: 0.0005]\n",
      "[codecarbon INFO @ 11:16:48] Energy consumed for all GPUs : 0.000653 kWh. Total GPU Power : 14.35213494501114 W\n",
      "[codecarbon DEBUG @ 11:16:48] GPU : 14.35 W during 14.99 s [measurement time: 0.0028]\n",
      "[codecarbon INFO @ 11:16:48] 0.002427 kWh of electricity used since the beginning.\n",
      "[codecarbon DEBUG @ 11:16:48] last_duration=14.97343890900001\n",
      "------------------------\n"
     ]
    },
    {
     "name": "stdout",
     "output_type": "stream",
     "text": [
      "[10/1000] ./test/pdf/553.pdf\n"
     ]
    },
    {
     "name": "stderr",
     "output_type": "stream",
     "text": [
      "[codecarbon INFO @ 11:17:03] Energy consumed for RAM : 0.000004 kWh. RAM Power : 0.08781766891479492 W\n",
      "[codecarbon DEBUG @ 11:17:03] RAM : 0.09 W during 14.98 s [measurement time: 0.0156]\n",
      "[codecarbon INFO @ 11:17:03] Energy consumed for all CPUs : 0.001948 kWh. Total CPU Power : 42.5 W\n",
      "[codecarbon DEBUG @ 11:17:03] CPU : 42.50 W during 15.01 s [measurement time: 0.0011]\n",
      "[codecarbon INFO @ 11:17:03] Energy consumed for all GPUs : 0.000709 kWh. Total GPU Power : 13.460657265891545 W\n",
      "[codecarbon DEBUG @ 11:17:03] GPU : 13.46 W during 15.01 s [measurement time: 0.0039]\n",
      "[codecarbon INFO @ 11:17:03] 0.002661 kWh of electricity used since the beginning.\n",
      "[codecarbon DEBUG @ 11:17:03] last_duration=14.977400098000004\n",
      "------------------------\n"
     ]
    },
    {
     "name": "stdout",
     "output_type": "stream",
     "text": [
      "[11/1000] ./test/pdf/554.pdf\n"
     ]
    },
    {
     "name": "stderr",
     "output_type": "stream",
     "text": [
      "[codecarbon INFO @ 11:17:18] Energy consumed for RAM : 0.000004 kWh. RAM Power : 0.08781766891479492 W\n",
      "[codecarbon DEBUG @ 11:17:18] RAM : 0.09 W during 14.96 s [measurement time: 0.0171]\n",
      "[codecarbon INFO @ 11:17:18] Energy consumed for all CPUs : 0.002125 kWh. Total CPU Power : 42.5 W\n",
      "[codecarbon DEBUG @ 11:17:18] CPU : 42.50 W during 14.99 s [measurement time: 0.0004]\n",
      "[codecarbon INFO @ 11:17:18] Energy consumed for all GPUs : 0.000766 kWh. Total GPU Power : 13.702394690428191 W\n",
      "[codecarbon DEBUG @ 11:17:18] GPU : 13.70 W during 14.99 s [measurement time: 0.0095]\n",
      "[codecarbon INFO @ 11:17:18] 0.002895 kWh of electricity used since the beginning.\n",
      "[codecarbon DEBUG @ 11:17:18] last_duration=14.96173509099998\n",
      "------------------------\n",
      "[codecarbon INFO @ 11:17:33] Energy consumed for RAM : 0.000005 kWh. RAM Power : 0.08781766891479492 W\n",
      "[codecarbon DEBUG @ 11:17:33] RAM : 0.09 W during 14.96 s [measurement time: 0.0148]\n",
      "[codecarbon INFO @ 11:17:33] Energy consumed for all CPUs : 0.002302 kWh. Total CPU Power : 42.5 W\n",
      "[codecarbon DEBUG @ 11:17:33] CPU : 42.50 W during 14.99 s [measurement time: 0.0006]\n",
      "[codecarbon INFO @ 11:17:33] Energy consumed for all GPUs : 0.000821 kWh. Total GPU Power : 13.24615809096676 W\n",
      "[codecarbon DEBUG @ 11:17:33] GPU : 13.25 W during 14.99 s [measurement time: 0.0041]\n",
      "[codecarbon INFO @ 11:17:33] 0.003128 kWh of electricity used since the beginning.\n",
      "[codecarbon DEBUG @ 11:17:33] last_duration=14.963557680999998\n",
      "------------------------\n"
     ]
    },
    {
     "name": "stdout",
     "output_type": "stream",
     "text": [
      "[12/1000] ./test/pdf/555.pdf\n"
     ]
    },
    {
     "name": "stderr",
     "output_type": "stream",
     "text": [
      "[codecarbon INFO @ 11:17:48] Energy consumed for RAM : 0.000005 kWh. RAM Power : 0.08781766891479492 W\n",
      "[codecarbon DEBUG @ 11:17:48] RAM : 0.09 W during 14.97 s [measurement time: 0.0102]\n",
      "[codecarbon INFO @ 11:17:48] Energy consumed for all CPUs : 0.002479 kWh. Total CPU Power : 42.5 W\n",
      "[codecarbon DEBUG @ 11:17:48] CPU : 42.50 W during 14.99 s [measurement time: 0.0003]\n",
      "[codecarbon INFO @ 11:17:48] Energy consumed for all GPUs : 0.000881 kWh. Total GPU Power : 14.235327056875523 W\n",
      "[codecarbon DEBUG @ 11:17:48] GPU : 14.24 W during 14.99 s [measurement time: 0.0047]\n",
      "[codecarbon INFO @ 11:17:48] 0.003364 kWh of electricity used since the beginning.\n",
      "[codecarbon DEBUG @ 11:17:48] last_duration=14.972613465999984\n",
      "------------------------\n"
     ]
    },
    {
     "name": "stdout",
     "output_type": "stream",
     "text": [
      "[13/1000] ./test/pdf/556.pdf\n"
     ]
    },
    {
     "name": "stderr",
     "output_type": "stream",
     "text": [
      "[codecarbon INFO @ 11:18:03] Energy consumed for RAM : 0.000005 kWh. RAM Power : 0.08781766891479492 W\n",
      "[codecarbon DEBUG @ 11:18:03] RAM : 0.09 W during 14.98 s [measurement time: 0.0152]\n",
      "[codecarbon INFO @ 11:18:03] Energy consumed for all CPUs : 0.002656 kWh. Total CPU Power : 42.5 W\n",
      "[codecarbon DEBUG @ 11:18:03] CPU : 42.50 W during 15.00 s [measurement time: 0.0003]\n",
      "[codecarbon INFO @ 11:18:03] Energy consumed for all GPUs : 0.000943 kWh. Total GPU Power : 14.921162312460691 W\n",
      "[codecarbon DEBUG @ 11:18:03] GPU : 14.92 W during 15.00 s [measurement time: 0.0021]\n",
      "[codecarbon INFO @ 11:18:03] 0.003604 kWh of electricity used since the beginning.\n",
      "[codecarbon DEBUG @ 11:18:03] last_duration=14.979320845000018\n",
      "------------------------\n",
      "[codecarbon INFO @ 11:18:18] Energy consumed for RAM : 0.000006 kWh. RAM Power : 0.08781766891479492 W\n",
      "[codecarbon DEBUG @ 11:18:18] RAM : 0.09 W during 14.98 s [measurement time: 0.0121]\n",
      "[codecarbon INFO @ 11:18:18] Energy consumed for all CPUs : 0.002833 kWh. Total CPU Power : 42.5 W\n",
      "[codecarbon DEBUG @ 11:18:18] CPU : 42.50 W during 15.00 s [measurement time: 0.0004]\n",
      "[codecarbon INFO @ 11:18:18] Energy consumed for all GPUs : 0.000999 kWh. Total GPU Power : 13.564870163544944 W\n",
      "[codecarbon DEBUG @ 11:18:18] GPU : 13.56 W during 15.00 s [measurement time: 0.0085]\n",
      "[codecarbon INFO @ 11:18:18] 0.003838 kWh of electricity used since the beginning.\n",
      "[codecarbon DEBUG @ 11:18:18] We apply an energy mix of 174 g.CO2eq/kWh for Spain\n",
      "[codecarbon DEBUG @ 11:18:18] EmissionsData(timestamp='2025-04-13T11:18:18', project_name='codecarbon', run_id='868e486c-ef2f-47f1-8b33-54ddf9c190fd', experiment_id='5b0fa12a-3dd7-45bb-9766-cc326314d9f1', duration=240.050759186, emissions=0.0006679807967362862, emissions_rate=2.7826647955681346e-06, cpu_power=42.5, gpu_power=13.564870163544944, ram_power=0.08781766891479492, cpu_energy=0.002832717207539582, gpu_energy=0.000999311077226, ram_energy=5.838976000211353e-06, energy_consumed=0.0038378672607657927, country_name='Spain', country_iso_code='ESP', region=None, cloud_provider='', cloud_region='', os='Linux-6.8.0-57-generic-x86_64-with-glibc2.35', python_version='3.12.9', codecarbon_version='2.8.3', cpu_count=32, cpu_model='13th Gen Intel(R) Core(TM) i9-13900', gpu_count=1, gpu_model='1 x NVIDIA RTX 5000 Ada Generation', longitude=None, latitude=None, ram_total_size=62.50331497192383, tracking_mode='process', on_cloud='N', pue=1.0)\n",
      "[codecarbon INFO @ 11:18:18] 0.002736 g.CO2eq/s mean an estimation of 86.2820097061808 kg.CO2eq/year\n",
      "[codecarbon DEBUG @ 11:18:18] last_duration=14.976297810999995\n",
      "------------------------\n"
     ]
    },
    {
     "name": "stdout",
     "output_type": "stream",
     "text": [
      "[14/1000] ./test/pdf/557.pdf\n"
     ]
    },
    {
     "name": "stderr",
     "output_type": "stream",
     "text": [
      "[codecarbon INFO @ 11:18:33] Energy consumed for RAM : 0.000006 kWh. RAM Power : 0.08781766891479492 W\n",
      "[codecarbon DEBUG @ 11:18:33] RAM : 0.09 W during 14.97 s [measurement time: 0.0134]\n",
      "[codecarbon INFO @ 11:18:33] Energy consumed for all CPUs : 0.003010 kWh. Total CPU Power : 42.5 W\n",
      "[codecarbon DEBUG @ 11:18:33] CPU : 42.50 W during 14.99 s [measurement time: 0.0003]\n",
      "[codecarbon INFO @ 11:18:33] Energy consumed for all GPUs : 0.001063 kWh. Total GPU Power : 15.384216186790352 W\n",
      "[codecarbon DEBUG @ 11:18:33] GPU : 15.38 W during 14.99 s [measurement time: 0.0044]\n",
      "[codecarbon INFO @ 11:18:33] 0.004079 kWh of electricity used since the beginning.\n",
      "[codecarbon DEBUG @ 11:18:33] last_duration=14.968811431000006\n",
      "------------------------\n"
     ]
    },
    {
     "name": "stdout",
     "output_type": "stream",
     "text": [
      "[15/1000] ./test/pdf/558.pdf\n"
     ]
    },
    {
     "name": "stderr",
     "output_type": "stream",
     "text": [
      "[codecarbon INFO @ 11:18:48] Energy consumed for RAM : 0.000007 kWh. RAM Power : 0.08781766891479492 W\n",
      "[codecarbon DEBUG @ 11:18:48] RAM : 0.09 W during 14.97 s [measurement time: 0.0108]\n",
      "[codecarbon INFO @ 11:18:48] Energy consumed for all CPUs : 0.003187 kWh. Total CPU Power : 42.5 W\n",
      "[codecarbon DEBUG @ 11:18:48] CPU : 42.50 W during 14.99 s [measurement time: 0.0004]\n",
      "[codecarbon INFO @ 11:18:48] Energy consumed for all GPUs : 0.001120 kWh. Total GPU Power : 13.662148763918857 W\n",
      "[codecarbon DEBUG @ 11:18:48] GPU : 13.66 W during 14.99 s [measurement time: 0.0075]\n",
      "[codecarbon INFO @ 11:18:48] 0.004313 kWh of electricity used since the beginning.\n",
      "[codecarbon DEBUG @ 11:18:48] last_duration=14.973328943000013\n",
      "------------------------\n"
     ]
    },
    {
     "name": "stdout",
     "output_type": "stream",
     "text": [
      "[16/1000] ./test/pdf/559.pdf\n"
     ]
    },
    {
     "name": "stderr",
     "output_type": "stream",
     "text": [
      "[codecarbon INFO @ 11:19:03] Energy consumed for RAM : 0.000007 kWh. RAM Power : 0.08781766891479492 W\n",
      "[codecarbon DEBUG @ 11:19:03] RAM : 0.09 W during 14.97 s [measurement time: 0.0048]\n",
      "[codecarbon INFO @ 11:19:03] Energy consumed for all CPUs : 0.003364 kWh. Total CPU Power : 42.5 W\n",
      "[codecarbon DEBUG @ 11:19:03] CPU : 42.50 W during 14.98 s [measurement time: 0.0004]\n",
      "[codecarbon INFO @ 11:19:03] Energy consumed for all GPUs : 0.001178 kWh. Total GPU Power : 13.895643397123932 W\n",
      "[codecarbon DEBUG @ 11:19:03] GPU : 13.90 W during 14.98 s [measurement time: 0.0055]\n",
      "[codecarbon INFO @ 11:19:03] 0.004549 kWh of electricity used since the beginning.\n",
      "[codecarbon DEBUG @ 11:19:03] last_duration=14.974864479999951\n",
      "------------------------\n"
     ]
    },
    {
     "name": "stdout",
     "output_type": "stream",
     "text": [
      "[17/1000] ./test/pdf/56.pdf\n"
     ]
    },
    {
     "name": "stderr",
     "output_type": "stream",
     "text": [
      "[codecarbon INFO @ 11:19:18] Energy consumed for RAM : 0.000007 kWh. RAM Power : 0.08781766891479492 W\n",
      "[codecarbon DEBUG @ 11:19:18] RAM : 0.09 W during 14.99 s [measurement time: 0.0160]\n",
      "[codecarbon INFO @ 11:19:18] Energy consumed for all CPUs : 0.003541 kWh. Total CPU Power : 42.5 W\n",
      "[codecarbon DEBUG @ 11:19:18] CPU : 42.50 W during 15.01 s [measurement time: 0.0007]\n",
      "[codecarbon INFO @ 11:19:18] Energy consumed for all GPUs : 0.001241 kWh. Total GPU Power : 15.165636637502871 W\n",
      "[codecarbon DEBUG @ 11:19:18] GPU : 15.17 W during 15.01 s [measurement time: 0.0068]\n",
      "[codecarbon INFO @ 11:19:18] 0.004789 kWh of electricity used since the beginning.\n",
      "[codecarbon DEBUG @ 11:19:18] last_duration=14.985794958000042\n",
      "------------------------\n",
      "[codecarbon INFO @ 11:19:33] Energy consumed for RAM : 0.000008 kWh. RAM Power : 0.08781766891479492 W\n",
      "[codecarbon DEBUG @ 11:19:33] RAM : 0.09 W during 14.97 s [measurement time: 0.0129]\n",
      "[codecarbon INFO @ 11:19:33] Energy consumed for all CPUs : 0.003718 kWh. Total CPU Power : 42.5 W\n",
      "[codecarbon DEBUG @ 11:19:33] CPU : 42.50 W during 14.99 s [measurement time: 0.0004]\n",
      "[codecarbon INFO @ 11:19:33] Energy consumed for all GPUs : 0.001300 kWh. Total GPU Power : 13.96674742858246 W\n",
      "[codecarbon DEBUG @ 11:19:33] GPU : 13.97 W during 14.99 s [measurement time: 0.0024]\n",
      "[codecarbon INFO @ 11:19:33] 0.005025 kWh of electricity used since the beginning.\n",
      "[codecarbon DEBUG @ 11:19:33] last_duration=14.966345896000007\n",
      "------------------------\n"
     ]
    },
    {
     "name": "stdout",
     "output_type": "stream",
     "text": [
      "[18/1000] ./test/pdf/560.pdf\n"
     ]
    },
    {
     "name": "stderr",
     "output_type": "stream",
     "text": [
      "[codecarbon INFO @ 11:19:48] Energy consumed for RAM : 0.000008 kWh. RAM Power : 0.08781766891479492 W\n",
      "[codecarbon DEBUG @ 11:19:48] RAM : 0.09 W during 14.97 s [measurement time: 0.0131]\n",
      "[codecarbon INFO @ 11:19:48] Energy consumed for all CPUs : 0.003895 kWh. Total CPU Power : 42.5 W\n",
      "[codecarbon DEBUG @ 11:19:48] CPU : 42.50 W during 14.99 s [measurement time: 0.0003]\n",
      "[codecarbon INFO @ 11:19:48] Energy consumed for all GPUs : 0.001359 kWh. Total GPU Power : 14.334595361477119 W\n",
      "[codecarbon DEBUG @ 11:19:48] GPU : 14.33 W during 14.99 s [measurement time: 0.0084]\n",
      "[codecarbon INFO @ 11:19:48] 0.005262 kWh of electricity used since the beginning.\n",
      "[codecarbon DEBUG @ 11:19:48] last_duration=14.974611780000032\n",
      "------------------------\n"
     ]
    },
    {
     "name": "stdout",
     "output_type": "stream",
     "text": [
      "[19/1000] ./test/pdf/561.pdf\n"
     ]
    },
    {
     "name": "stderr",
     "output_type": "stream",
     "text": [
      "[codecarbon INFO @ 11:20:03] Energy consumed for RAM : 0.000008 kWh. RAM Power : 0.08781766891479492 W\n",
      "[codecarbon DEBUG @ 11:20:03] RAM : 0.09 W during 14.97 s [measurement time: 0.0108]\n",
      "[codecarbon INFO @ 11:20:03] Energy consumed for all CPUs : 0.004072 kWh. Total CPU Power : 42.5 W\n",
      "[codecarbon DEBUG @ 11:20:03] CPU : 42.50 W during 14.99 s [measurement time: 0.0005]\n",
      "[codecarbon INFO @ 11:20:03] Energy consumed for all GPUs : 0.001423 kWh. Total GPU Power : 15.25024829807269 W\n",
      "[codecarbon DEBUG @ 11:20:03] GPU : 15.25 W during 14.99 s [measurement time: 0.0051]\n",
      "[codecarbon INFO @ 11:20:03] 0.005503 kWh of electricity used since the beginning.\n",
      "[codecarbon DEBUG @ 11:20:03] last_duration=14.972452753000027\n",
      "------------------------\n"
     ]
    },
    {
     "name": "stdout",
     "output_type": "stream",
     "text": [
      "[20/1000] ./test/pdf/562.pdf\n"
     ]
    },
    {
     "name": "stderr",
     "output_type": "stream",
     "text": [
      "[codecarbon INFO @ 11:20:18] Energy consumed for RAM : 0.000009 kWh. RAM Power : 0.08781766891479492 W\n",
      "[codecarbon DEBUG @ 11:20:18] RAM : 0.09 W during 14.98 s [measurement time: 0.0133]\n",
      "[codecarbon INFO @ 11:20:18] Energy consumed for all CPUs : 0.004249 kWh. Total CPU Power : 42.5 W\n",
      "[codecarbon DEBUG @ 11:20:18] CPU : 42.50 W during 15.00 s [measurement time: 0.0011]\n",
      "[codecarbon INFO @ 11:20:18] Energy consumed for all GPUs : 0.001481 kWh. Total GPU Power : 14.02523653389846 W\n",
      "[codecarbon DEBUG @ 11:20:18] GPU : 14.03 W during 15.00 s [measurement time: 0.0031]\n",
      "[codecarbon INFO @ 11:20:18] 0.005739 kWh of electricity used since the beginning.\n",
      "[codecarbon DEBUG @ 11:20:18] We apply an energy mix of 174 g.CO2eq/kWh for Spain\n",
      "[codecarbon DEBUG @ 11:20:18] EmissionsData(timestamp='2025-04-13T11:20:18', project_name='codecarbon', run_id='868e486c-ef2f-47f1-8b33-54ddf9c190fd', experiment_id='5b0fa12a-3dd7-45bb-9766-cc326314d9f1', duration=360.058721741, emissions=0.000998828092843565, emissions_rate=2.774069985067739e-06, cpu_power=42.5, gpu_power=14.02523653389846, ram_power=0.08781766891479492, cpu_energy=0.0042488121359083334, gpu_energy=0.0014811689627120001, ram_energy=8.761175689147478e-06, energy_consumed=0.00573874227430948, country_name='Spain', country_iso_code='ESP', region=None, cloud_provider='', cloud_region='', os='Linux-6.8.0-57-generic-x86_64-with-glibc2.35', python_version='3.12.9', codecarbon_version='2.8.3', cpu_count=32, cpu_model='13th Gen Intel(R) Core(TM) i9-13900', gpu_count=1, gpu_model='1 x NVIDIA RTX 5000 Ada Generation', longitude=None, latitude=None, ram_total_size=62.50331497192383, tracking_mode='process', on_cloud='N', pue=1.0)\n",
      "[codecarbon INFO @ 11:20:18] 0.002757 g.CO2eq/s mean an estimation of 86.94090048614397 kg.CO2eq/year\n",
      "[codecarbon DEBUG @ 11:20:18] last_duration=14.976449702000025\n",
      "------------------------\n"
     ]
    },
    {
     "name": "stdout",
     "output_type": "stream",
     "text": [
      "[21/1000] ./test/pdf/563.pdf\n"
     ]
    },
    {
     "name": "stderr",
     "output_type": "stream",
     "text": [
      "[codecarbon INFO @ 11:20:33] Energy consumed for RAM : 0.000009 kWh. RAM Power : 0.08781766891479492 W\n",
      "[codecarbon DEBUG @ 11:20:33] RAM : 0.09 W during 14.97 s [measurement time: 0.0135]\n",
      "[codecarbon INFO @ 11:20:33] Energy consumed for all CPUs : 0.004426 kWh. Total CPU Power : 42.5 W\n",
      "[codecarbon DEBUG @ 11:20:33] CPU : 42.50 W during 14.99 s [measurement time: 0.0007]\n",
      "[codecarbon INFO @ 11:20:33] Energy consumed for all GPUs : 0.001545 kWh. Total GPU Power : 15.218652191094886 W\n",
      "[codecarbon DEBUG @ 11:20:33] GPU : 15.22 W during 14.99 s [measurement time: 0.0023]\n",
      "[codecarbon INFO @ 11:20:33] 0.005980 kWh of electricity used since the beginning.\n",
      "[codecarbon DEBUG @ 11:20:33] last_duration=14.967467366999983\n",
      "------------------------\n"
     ]
    },
    {
     "name": "stdout",
     "output_type": "stream",
     "text": [
      "[22/1000] ./test/pdf/564.pdf\n"
     ]
    },
    {
     "name": "stderr",
     "output_type": "stream",
     "text": [
      "[codecarbon INFO @ 11:20:48] Energy consumed for RAM : 0.000009 kWh. RAM Power : 0.08781766891479492 W\n",
      "[codecarbon DEBUG @ 11:20:48] RAM : 0.09 W during 14.97 s [measurement time: 0.0117]\n",
      "[codecarbon INFO @ 11:20:48] Energy consumed for all CPUs : 0.004603 kWh. Total CPU Power : 42.5 W\n",
      "[codecarbon DEBUG @ 11:20:48] CPU : 42.50 W during 14.99 s [measurement time: 0.0004]\n",
      "[codecarbon INFO @ 11:20:48] Energy consumed for all GPUs : 0.001604 kWh. Total GPU Power : 14.33213761080353 W\n",
      "[codecarbon DEBUG @ 11:20:48] GPU : 14.33 W during 14.99 s [measurement time: 0.0025]\n",
      "[codecarbon INFO @ 11:20:48] 0.006217 kWh of electricity used since the beginning.\n",
      "[codecarbon DEBUG @ 11:20:48] last_duration=14.970320847999972\n",
      "------------------------\n"
     ]
    },
    {
     "name": "stdout",
     "output_type": "stream",
     "text": [
      "[23/1000] ./test/pdf/565.pdf\n"
     ]
    },
    {
     "name": "stderr",
     "output_type": "stream",
     "text": [
      "[codecarbon INFO @ 11:21:03] Energy consumed for RAM : 0.000010 kWh. RAM Power : 0.08781766891479492 W\n",
      "[codecarbon DEBUG @ 11:21:03] RAM : 0.09 W during 14.98 s [measurement time: 0.0163]\n",
      "[codecarbon INFO @ 11:21:03] Energy consumed for all CPUs : 0.004780 kWh. Total CPU Power : 42.5 W\n",
      "[codecarbon DEBUG @ 11:21:03] CPU : 42.50 W during 15.00 s [measurement time: 0.0004]\n",
      "[codecarbon INFO @ 11:21:03] Energy consumed for all GPUs : 0.001667 kWh. Total GPU Power : 15.050270941283918 W\n",
      "[codecarbon DEBUG @ 11:21:03] GPU : 15.05 W during 15.00 s [measurement time: 0.0063]\n",
      "[codecarbon INFO @ 11:21:03] 0.006457 kWh of electricity used since the beginning.\n",
      "[codecarbon DEBUG @ 11:21:03] last_duration=14.976019021000013\n",
      "------------------------\n"
     ]
    },
    {
     "name": "stdout",
     "output_type": "stream",
     "text": [
      "[24/1000] ./test/pdf/566.pdf\n"
     ]
    },
    {
     "name": "stderr",
     "output_type": "stream",
     "text": [
      "[codecarbon INFO @ 11:21:18] Energy consumed for RAM : 0.000010 kWh. RAM Power : 0.08781766891479492 W\n",
      "[codecarbon DEBUG @ 11:21:18] RAM : 0.09 W during 14.97 s [measurement time: 0.0142]\n",
      "[codecarbon INFO @ 11:21:18] Energy consumed for all CPUs : 0.004957 kWh. Total CPU Power : 42.5 W\n",
      "[codecarbon DEBUG @ 11:21:18] CPU : 42.50 W during 14.98 s [measurement time: 0.0004]\n",
      "[codecarbon INFO @ 11:21:18] Energy consumed for all GPUs : 0.001728 kWh. Total GPU Power : 14.716181482070551 W\n",
      "[codecarbon DEBUG @ 11:21:18] GPU : 14.72 W during 14.99 s [measurement time: 0.0083]\n",
      "[codecarbon INFO @ 11:21:18] 0.006695 kWh of electricity used since the beginning.\n",
      "[codecarbon DEBUG @ 11:21:18] last_duration=14.965245359999983\n",
      "------------------------\n"
     ]
    },
    {
     "name": "stdout",
     "output_type": "stream",
     "text": [
      "[25/1000] ./test/pdf/567.pdf\n"
     ]
    },
    {
     "name": "stderr",
     "output_type": "stream",
     "text": [
      "[codecarbon INFO @ 11:21:33] Energy consumed for RAM : 0.000011 kWh. RAM Power : 0.08781766891479492 W\n",
      "[codecarbon DEBUG @ 11:21:33] RAM : 0.09 W during 14.97 s [measurement time: 0.0141]\n",
      "[codecarbon INFO @ 11:21:33] Energy consumed for all CPUs : 0.005134 kWh. Total CPU Power : 42.5 W\n",
      "[codecarbon DEBUG @ 11:21:33] CPU : 42.50 W during 14.99 s [measurement time: 0.0005]\n",
      "[codecarbon INFO @ 11:21:33] Energy consumed for all GPUs : 0.001788 kWh. Total GPU Power : 14.385977922011978 W\n",
      "[codecarbon DEBUG @ 11:21:33] GPU : 14.39 W during 15.00 s [measurement time: 0.0042]\n",
      "[codecarbon INFO @ 11:21:33] 0.006933 kWh of electricity used since the beginning.\n",
      "[codecarbon DEBUG @ 11:21:33] last_duration=14.971590696999954\n",
      "------------------------\n"
     ]
    },
    {
     "name": "stdout",
     "output_type": "stream",
     "text": [
      "[26/1000] ./test/pdf/568.pdf\n"
     ]
    },
    {
     "name": "stderr",
     "output_type": "stream",
     "text": [
      "[codecarbon INFO @ 11:21:48] Energy consumed for RAM : 0.000011 kWh. RAM Power : 0.08781766891479492 W\n",
      "[codecarbon DEBUG @ 11:21:48] RAM : 0.09 W during 14.97 s [measurement time: 0.0086]\n",
      "[codecarbon INFO @ 11:21:48] Energy consumed for all CPUs : 0.005311 kWh. Total CPU Power : 42.5 W\n",
      "[codecarbon DEBUG @ 11:21:48] CPU : 42.50 W during 14.99 s [measurement time: 0.0003]\n",
      "[codecarbon INFO @ 11:21:48] Energy consumed for all GPUs : 0.001847 kWh. Total GPU Power : 14.106732712865599 W\n",
      "[codecarbon DEBUG @ 11:21:48] GPU : 14.11 W during 14.99 s [measurement time: 0.0045]\n",
      "[codecarbon INFO @ 11:21:48] 0.007169 kWh of electricity used since the beginning.\n",
      "[codecarbon DEBUG @ 11:21:48] last_duration=14.971768608000048\n",
      "------------------------\n"
     ]
    },
    {
     "name": "stdout",
     "output_type": "stream",
     "text": [
      "[27/1000] ./test/pdf/569.pdf\n"
     ]
    },
    {
     "name": "stderr",
     "output_type": "stream",
     "text": [
      "[codecarbon INFO @ 11:22:03] Energy consumed for RAM : 0.000011 kWh. RAM Power : 0.08781766891479492 W\n",
      "[codecarbon DEBUG @ 11:22:03] RAM : 0.09 W during 14.98 s [measurement time: 0.0152]\n",
      "[codecarbon INFO @ 11:22:03] Energy consumed for all CPUs : 0.005488 kWh. Total CPU Power : 42.5 W\n",
      "[codecarbon DEBUG @ 11:22:03] CPU : 42.50 W during 15.00 s [measurement time: 0.0002]\n",
      "[codecarbon INFO @ 11:22:03] Energy consumed for all GPUs : 0.001906 kWh. Total GPU Power : 14.266135087726203 W\n",
      "[codecarbon DEBUG @ 11:22:03] GPU : 14.27 W during 15.00 s [measurement time: 0.0020]\n",
      "[codecarbon INFO @ 11:22:03] 0.007405 kWh of electricity used since the beginning.\n",
      "[codecarbon DEBUG @ 11:22:03] last_duration=14.981793348999986\n",
      "------------------------\n"
     ]
    },
    {
     "name": "stdout",
     "output_type": "stream",
     "text": [
      "[28/1000] ./test/pdf/57.pdf\n"
     ]
    },
    {
     "name": "stderr",
     "output_type": "stream",
     "text": [
      "[codecarbon INFO @ 11:22:18] Energy consumed for RAM : 0.000012 kWh. RAM Power : 0.08781766891479492 W\n",
      "[codecarbon DEBUG @ 11:22:18] RAM : 0.09 W during 14.98 s [measurement time: 0.0112]\n",
      "[codecarbon INFO @ 11:22:18] Energy consumed for all CPUs : 0.005665 kWh. Total CPU Power : 42.5 W\n",
      "[codecarbon DEBUG @ 11:22:18] CPU : 42.50 W during 15.00 s [measurement time: 0.0003]\n",
      "[codecarbon INFO @ 11:22:18] Energy consumed for all GPUs : 0.001965 kWh. Total GPU Power : 14.066836433922592 W\n",
      "[codecarbon DEBUG @ 11:22:18] GPU : 14.07 W during 15.00 s [measurement time: 0.0065]\n",
      "[codecarbon INFO @ 11:22:18] 0.007641 kWh of electricity used since the beginning.\n",
      "[codecarbon DEBUG @ 11:22:18] We apply an energy mix of 174 g.CO2eq/kWh for Spain\n",
      "[codecarbon DEBUG @ 11:22:18] EmissionsData(timestamp='2025-04-13T11:22:18', project_name='codecarbon', run_id='868e486c-ef2f-47f1-8b33-54ddf9c190fd', experiment_id='5b0fa12a-3dd7-45bb-9766-cc326314d9f1', duration=480.05722692899997, emissions=0.0013300000565609142, emissions_rate=2.7705031441128997e-06, cpu_power=42.5, gpu_power=14.066836433922592, ram_power=0.08781766891479492, cpu_energy=0.005664877670993751, gpu_energy=0.001964921849714, ram_energy=1.1683136924620539e-05, energy_consumed=0.007641482657632371, country_name='Spain', country_iso_code='ESP', region=None, cloud_provider='', cloud_region='', os='Linux-6.8.0-57-generic-x86_64-with-glibc2.35', python_version='3.12.9', codecarbon_version='2.8.3', cpu_count=32, cpu_model='13th Gen Intel(R) Core(TM) i9-13900', gpu_count=1, gpu_model='1 x NVIDIA RTX 5000 Ada Generation', longitude=None, latitude=None, ram_total_size=62.50331497192383, tracking_mode='process', on_cloud='N', pue=1.0)\n",
      "[codecarbon INFO @ 11:22:18] 0.002760 g.CO2eq/s mean an estimation of 87.03307621564207 kg.CO2eq/year\n",
      "[codecarbon DEBUG @ 11:22:18] last_duration=14.978674564000016\n",
      "------------------------\n"
     ]
    },
    {
     "name": "stdout",
     "output_type": "stream",
     "text": [
      "[29/1000] ./test/pdf/570.pdf\n"
     ]
    },
    {
     "name": "stderr",
     "output_type": "stream",
     "text": [
      "[codecarbon INFO @ 11:22:33] Energy consumed for RAM : 0.000012 kWh. RAM Power : 0.08781766891479492 W\n",
      "[codecarbon DEBUG @ 11:22:33] RAM : 0.09 W during 14.98 s [measurement time: 0.0149]\n",
      "[codecarbon INFO @ 11:22:33] Energy consumed for all CPUs : 0.005842 kWh. Total CPU Power : 42.5 W\n",
      "[codecarbon DEBUG @ 11:22:33] CPU : 42.50 W during 15.00 s [measurement time: 0.0004]\n",
      "[codecarbon INFO @ 11:22:33] Energy consumed for all GPUs : 0.002025 kWh. Total GPU Power : 14.308655521972941 W\n",
      "[codecarbon DEBUG @ 11:22:33] GPU : 14.31 W during 15.00 s [measurement time: 0.0103]\n",
      "[codecarbon INFO @ 11:22:33] 0.007879 kWh of electricity used since the beginning.\n",
      "[codecarbon DEBUG @ 11:22:33] last_duration=14.975553778000062\n",
      "------------------------\n"
     ]
    },
    {
     "name": "stdout",
     "output_type": "stream",
     "text": [
      "[30/1000] ./test/pdf/571.pdf\n"
     ]
    },
    {
     "name": "stderr",
     "output_type": "stream",
     "text": [
      "[codecarbon INFO @ 11:22:48] Energy consumed for RAM : 0.000012 kWh. RAM Power : 0.08781766891479492 W\n",
      "[codecarbon DEBUG @ 11:22:48] RAM : 0.09 W during 14.97 s [measurement time: 0.0117]\n",
      "[codecarbon INFO @ 11:22:48] Energy consumed for all CPUs : 0.006019 kWh. Total CPU Power : 42.5 W\n",
      "[codecarbon DEBUG @ 11:22:48] CPU : 42.50 W during 14.98 s [measurement time: 0.0003]\n",
      "[codecarbon INFO @ 11:22:48] Energy consumed for all GPUs : 0.002079 kWh. Total GPU Power : 13.170190826927524 W\n",
      "[codecarbon DEBUG @ 11:22:48] GPU : 13.17 W during 14.99 s [measurement time: 0.0017]\n",
      "[codecarbon INFO @ 11:22:48] 0.008111 kWh of electricity used since the beginning.\n",
      "[codecarbon DEBUG @ 11:22:48] last_duration=14.965614615999925\n",
      "------------------------\n"
     ]
    },
    {
     "name": "stdout",
     "output_type": "stream",
     "text": [
      "[31/1000] ./test/pdf/572.pdf\n"
     ]
    },
    {
     "name": "stderr",
     "output_type": "stream",
     "text": [
      "[codecarbon INFO @ 11:23:03] Energy consumed for RAM : 0.000013 kWh. RAM Power : 0.08781766891479492 W\n",
      "[codecarbon DEBUG @ 11:23:03] RAM : 0.09 W during 14.98 s [measurement time: 0.0143]\n",
      "[codecarbon INFO @ 11:23:03] Energy consumed for all CPUs : 0.006196 kWh. Total CPU Power : 42.5 W\n",
      "[codecarbon DEBUG @ 11:23:03] CPU : 42.50 W during 15.00 s [measurement time: 0.0004]\n",
      "[codecarbon INFO @ 11:23:03] Energy consumed for all GPUs : 0.002135 kWh. Total GPU Power : 13.304876868300115 W\n",
      "[codecarbon DEBUG @ 11:23:03] GPU : 13.30 W during 15.00 s [measurement time: 0.0028]\n",
      "[codecarbon INFO @ 11:23:03] 0.008344 kWh of electricity used since the beginning.\n",
      "[codecarbon DEBUG @ 11:23:03] last_duration=14.979176865999989\n",
      "------------------------\n",
      "[codecarbon INFO @ 11:23:18] Energy consumed for RAM : 0.000013 kWh. RAM Power : 0.08781766891479492 W\n",
      "[codecarbon DEBUG @ 11:23:18] RAM : 0.09 W during 14.97 s [measurement time: 0.0104]\n",
      "[codecarbon INFO @ 11:23:18] Energy consumed for all CPUs : 0.006373 kWh. Total CPU Power : 42.5 W\n",
      "[codecarbon DEBUG @ 11:23:18] CPU : 42.50 W during 15.00 s [measurement time: 0.0005]\n",
      "[codecarbon INFO @ 11:23:18] Energy consumed for all GPUs : 0.002192 kWh. Total GPU Power : 13.687195831537762 W\n",
      "[codecarbon DEBUG @ 11:23:18] GPU : 13.69 W during 15.00 s [measurement time: 0.0020]\n",
      "[codecarbon INFO @ 11:23:18] 0.008578 kWh of electricity used since the beginning.\n",
      "[codecarbon DEBUG @ 11:23:18] last_duration=14.973535868999988\n",
      "------------------------\n"
     ]
    },
    {
     "name": "stdout",
     "output_type": "stream",
     "text": [
      "[32/1000] ./test/pdf/573.pdf\n"
     ]
    },
    {
     "name": "stderr",
     "output_type": "stream",
     "text": [
      "[codecarbon INFO @ 11:23:33] Energy consumed for RAM : 0.000014 kWh. RAM Power : 0.08781766891479492 W\n",
      "[codecarbon DEBUG @ 11:23:33] RAM : 0.09 W during 14.97 s [measurement time: 0.0112]\n",
      "[codecarbon INFO @ 11:23:33] Energy consumed for all CPUs : 0.006550 kWh. Total CPU Power : 42.5 W\n",
      "[codecarbon DEBUG @ 11:23:33] CPU : 42.50 W during 14.99 s [measurement time: 0.0004]\n",
      "[codecarbon INFO @ 11:23:33] Energy consumed for all GPUs : 0.002249 kWh. Total GPU Power : 13.61464041609554 W\n",
      "[codecarbon DEBUG @ 11:23:33] GPU : 13.61 W during 14.99 s [measurement time: 0.0027]\n",
      "[codecarbon INFO @ 11:23:33] 0.008812 kWh of electricity used since the beginning.\n",
      "[codecarbon DEBUG @ 11:23:33] last_duration=14.973633479\n",
      "------------------------\n",
      "[codecarbon INFO @ 11:23:48] Energy consumed for RAM : 0.000014 kWh. RAM Power : 0.08781766891479492 W\n",
      "[codecarbon DEBUG @ 11:23:48] RAM : 0.09 W during 14.98 s [measurement time: 0.0151]\n",
      "[codecarbon INFO @ 11:23:48] Energy consumed for all CPUs : 0.006727 kWh. Total CPU Power : 42.5 W\n",
      "[codecarbon DEBUG @ 11:23:48] CPU : 42.50 W during 15.00 s [measurement time: 0.0003]\n",
      "[codecarbon INFO @ 11:23:48] Energy consumed for all GPUs : 0.002302 kWh. Total GPU Power : 12.738357353764245 W\n",
      "[codecarbon DEBUG @ 11:23:48] GPU : 12.74 W during 15.01 s [measurement time: 0.0027]\n",
      "[codecarbon INFO @ 11:23:48] 0.009043 kWh of electricity used since the beginning.\n",
      "[codecarbon DEBUG @ 11:23:48] last_duration=14.979163889999995\n",
      "------------------------\n"
     ]
    },
    {
     "name": "stdout",
     "output_type": "stream",
     "text": [
      "[33/1000] ./test/pdf/574.pdf\n"
     ]
    },
    {
     "name": "stderr",
     "output_type": "stream",
     "text": [
      "[codecarbon INFO @ 11:24:03] Energy consumed for RAM : 0.000014 kWh. RAM Power : 0.08781766891479492 W\n",
      "[codecarbon DEBUG @ 11:24:03] RAM : 0.09 W during 14.97 s [measurement time: 0.0098]\n",
      "[codecarbon INFO @ 11:24:03] Energy consumed for all CPUs : 0.006904 kWh. Total CPU Power : 42.5 W\n",
      "[codecarbon DEBUG @ 11:24:03] CPU : 42.50 W during 14.99 s [measurement time: 0.0005]\n",
      "[codecarbon INFO @ 11:24:03] Energy consumed for all GPUs : 0.002359 kWh. Total GPU Power : 13.763487340056898 W\n",
      "[codecarbon DEBUG @ 11:24:03] GPU : 13.76 W during 14.99 s [measurement time: 0.0020]\n",
      "[codecarbon INFO @ 11:24:03] 0.009277 kWh of electricity used since the beginning.\n",
      "[codecarbon DEBUG @ 11:24:03] last_duration=14.971185348000063\n",
      "------------------------\n"
     ]
    },
    {
     "name": "stdout",
     "output_type": "stream",
     "text": [
      "[34/1000] ./test/pdf/575.pdf\n"
     ]
    },
    {
     "name": "stderr",
     "output_type": "stream",
     "text": [
      "[codecarbon INFO @ 11:24:18] Energy consumed for RAM : 0.000015 kWh. RAM Power : 0.08781766891479492 W\n",
      "[codecarbon DEBUG @ 11:24:18] RAM : 0.09 W during 14.98 s [measurement time: 0.0145]\n",
      "[codecarbon INFO @ 11:24:18] Energy consumed for all CPUs : 0.007081 kWh. Total CPU Power : 42.5 W\n",
      "[codecarbon DEBUG @ 11:24:18] CPU : 42.50 W during 15.01 s [measurement time: 0.0004]\n",
      "[codecarbon INFO @ 11:24:18] Energy consumed for all GPUs : 0.002419 kWh. Total GPU Power : 14.296068487641909 W\n",
      "[codecarbon DEBUG @ 11:24:18] GPU : 14.30 W during 15.01 s [measurement time: 0.0024]\n",
      "[codecarbon INFO @ 11:24:18] 0.009514 kWh of electricity used since the beginning.\n",
      "[codecarbon DEBUG @ 11:24:18] We apply an energy mix of 174 g.CO2eq/kWh for Spain\n",
      "[codecarbon DEBUG @ 11:24:18] EmissionsData(timestamp='2025-04-13T11:24:18', project_name='codecarbon', run_id='868e486c-ef2f-47f1-8b33-54ddf9c190fd', experiment_id='5b0fa12a-3dd7-45bb-9766-cc326314d9f1', duration=600.066204316, emissions=0.001655968830003856, emissions_rate=2.7596435494837644e-06, cpu_power=42.5, gpu_power=14.296068487641909, ram_power=0.08781766891479492, cpu_energy=0.007081205527164582, gpu_energy=0.00241851721259, ram_energy=1.4605499279346904e-05, energy_consumed=0.009514328239033932, country_name='Spain', country_iso_code='ESP', region=None, cloud_provider='', cloud_region='', os='Linux-6.8.0-57-generic-x86_64-with-glibc2.35', python_version='3.12.9', codecarbon_version='2.8.3', cpu_count=32, cpu_model='13th Gen Intel(R) Core(TM) i9-13900', gpu_count=1, gpu_model='1 x NVIDIA RTX 5000 Ada Generation', longitude=None, latitude=None, ram_total_size=62.50331497192383, tracking_mode='process', on_cloud='N', pue=1.0)\n",
      "[codecarbon INFO @ 11:24:18] 0.002716 g.CO2eq/s mean an estimation of 85.65818543846842 kg.CO2eq/year\n",
      "[codecarbon DEBUG @ 11:24:18] last_duration=14.981451755999956\n",
      "------------------------\n"
     ]
    },
    {
     "name": "stdout",
     "output_type": "stream",
     "text": [
      "[35/1000] ./test/pdf/576.pdf\n"
     ]
    },
    {
     "name": "stderr",
     "output_type": "stream",
     "text": [
      "[codecarbon INFO @ 11:24:33] Energy consumed for RAM : 0.000015 kWh. RAM Power : 0.08781766891479492 W\n",
      "[codecarbon DEBUG @ 11:24:33] RAM : 0.09 W during 14.97 s [measurement time: 0.0127]\n",
      "[codecarbon INFO @ 11:24:33] Energy consumed for all CPUs : 0.007258 kWh. Total CPU Power : 42.5 W\n",
      "[codecarbon DEBUG @ 11:24:33] CPU : 42.50 W during 14.99 s [measurement time: 0.0003]\n",
      "[codecarbon INFO @ 11:24:33] Energy consumed for all GPUs : 0.002476 kWh. Total GPU Power : 13.889708437499694 W\n",
      "[codecarbon DEBUG @ 11:24:33] GPU : 13.89 W during 14.99 s [measurement time: 0.0063]\n",
      "[codecarbon INFO @ 11:24:33] 0.009750 kWh of electricity used since the beginning.\n",
      "[codecarbon DEBUG @ 11:24:33] last_duration=14.973237191999942\n",
      "------------------------\n"
     ]
    },
    {
     "name": "stdout",
     "output_type": "stream",
     "text": [
      "[36/1000] ./test/pdf/577.pdf\n"
     ]
    },
    {
     "name": "stderr",
     "output_type": "stream",
     "text": [
      "[codecarbon INFO @ 11:24:48] Energy consumed for RAM : 0.000015 kWh. RAM Power : 0.08781766891479492 W\n",
      "[codecarbon DEBUG @ 11:24:48] RAM : 0.09 W during 14.97 s [measurement time: 0.0109]\n",
      "[codecarbon INFO @ 11:24:48] Energy consumed for all CPUs : 0.007435 kWh. Total CPU Power : 42.5 W\n",
      "[codecarbon DEBUG @ 11:24:48] CPU : 42.50 W during 15.00 s [measurement time: 0.0007]\n",
      "[codecarbon INFO @ 11:24:48] Energy consumed for all GPUs : 0.002536 kWh. Total GPU Power : 14.431624760673452 W\n",
      "[codecarbon DEBUG @ 11:24:48] GPU : 14.43 W during 15.00 s [measurement time: 0.0024]\n",
      "[codecarbon INFO @ 11:24:48] 0.009987 kWh of electricity used since the beginning.\n",
      "[codecarbon DEBUG @ 11:24:48] last_duration=14.972741704999976\n",
      "------------------------\n"
     ]
    },
    {
     "name": "stdout",
     "output_type": "stream",
     "text": [
      "[37/1000] ./test/pdf/578.pdf\n"
     ]
    },
    {
     "name": "stderr",
     "output_type": "stream",
     "text": [
      "[codecarbon INFO @ 11:25:03] Energy consumed for RAM : 0.000016 kWh. RAM Power : 0.08781766891479492 W\n",
      "[codecarbon DEBUG @ 11:25:03] RAM : 0.09 W during 14.97 s [measurement time: 0.0145]\n",
      "[codecarbon INFO @ 11:25:03] Energy consumed for all CPUs : 0.007612 kWh. Total CPU Power : 42.5 W\n",
      "[codecarbon DEBUG @ 11:25:03] CPU : 42.50 W during 14.99 s [measurement time: 0.0005]\n",
      "[codecarbon INFO @ 11:25:03] Energy consumed for all GPUs : 0.002594 kWh. Total GPU Power : 13.910981462424356 W\n",
      "[codecarbon DEBUG @ 11:25:03] GPU : 13.91 W during 14.99 s [measurement time: 0.0022]\n",
      "[codecarbon INFO @ 11:25:03] 0.010222 kWh of electricity used since the beginning.\n",
      "[codecarbon DEBUG @ 11:25:03] last_duration=14.971751879000067\n",
      "------------------------\n"
     ]
    },
    {
     "name": "stdout",
     "output_type": "stream",
     "text": [
      "[38/1000] ./test/pdf/579.pdf\n"
     ]
    },
    {
     "name": "stderr",
     "output_type": "stream",
     "text": [
      "[codecarbon INFO @ 11:25:18] Energy consumed for RAM : 0.000016 kWh. RAM Power : 0.08781766891479492 W\n",
      "[codecarbon DEBUG @ 11:25:18] RAM : 0.09 W during 14.98 s [measurement time: 0.0142]\n",
      "[codecarbon INFO @ 11:25:18] Energy consumed for all CPUs : 0.007789 kWh. Total CPU Power : 42.5 W\n",
      "[codecarbon DEBUG @ 11:25:18] CPU : 42.50 W during 15.00 s [measurement time: 0.0004]\n",
      "[codecarbon INFO @ 11:25:18] Energy consumed for all GPUs : 0.002656 kWh. Total GPU Power : 14.882555282735572 W\n",
      "[codecarbon DEBUG @ 11:25:18] GPU : 14.88 W during 15.00 s [measurement time: 0.0018]\n",
      "[codecarbon INFO @ 11:25:18] 0.010462 kWh of electricity used since the beginning.\n",
      "[codecarbon DEBUG @ 11:25:18] last_duration=14.978026692000071\n",
      "------------------------\n",
      "[codecarbon INFO @ 11:25:33] Energy consumed for RAM : 0.000016 kWh. RAM Power : 0.08781766891479492 W\n",
      "[codecarbon DEBUG @ 11:25:33] RAM : 0.09 W during 14.98 s [measurement time: 0.0155]\n",
      "[codecarbon INFO @ 11:25:33] Energy consumed for all CPUs : 0.007966 kWh. Total CPU Power : 42.5 W\n",
      "[codecarbon DEBUG @ 11:25:33] CPU : 42.50 W during 15.00 s [measurement time: 0.0002]\n",
      "[codecarbon INFO @ 11:25:33] Energy consumed for all GPUs : 0.002713 kWh. Total GPU Power : 13.515859630503435 W\n",
      "[codecarbon DEBUG @ 11:25:33] GPU : 13.52 W during 15.00 s [measurement time: 0.0019]\n",
      "[codecarbon INFO @ 11:25:33] 0.010696 kWh of electricity used since the beginning.\n",
      "[codecarbon DEBUG @ 11:25:33] last_duration=14.976336347000029\n",
      "------------------------\n"
     ]
    },
    {
     "name": "stdout",
     "output_type": "stream",
     "text": [
      "[39/1000] ./test/pdf/58.pdf\n"
     ]
    },
    {
     "name": "stderr",
     "output_type": "stream",
     "text": [
      "[codecarbon INFO @ 11:25:48] Energy consumed for RAM : 0.000017 kWh. RAM Power : 0.08781766891479492 W\n",
      "[codecarbon DEBUG @ 11:25:48] RAM : 0.09 W during 14.97 s [measurement time: 0.0056]\n",
      "[codecarbon INFO @ 11:25:48] Energy consumed for all CPUs : 0.008143 kWh. Total CPU Power : 42.5 W\n",
      "[codecarbon DEBUG @ 11:25:48] CPU : 42.50 W during 14.98 s [measurement time: 0.0002]\n",
      "[codecarbon INFO @ 11:25:48] Energy consumed for all GPUs : 0.002769 kWh. Total GPU Power : 13.467323993061965 W\n",
      "[codecarbon DEBUG @ 11:25:48] GPU : 13.47 W during 14.98 s [measurement time: 0.0071]\n",
      "[codecarbon INFO @ 11:25:48] 0.010929 kWh of electricity used since the beginning.\n",
      "[codecarbon DEBUG @ 11:25:48] last_duration=14.971765905999973\n",
      "------------------------\n"
     ]
    },
    {
     "name": "stdout",
     "output_type": "stream",
     "text": [
      "[40/1000] ./test/pdf/580.pdf\n"
     ]
    },
    {
     "name": "stderr",
     "output_type": "stream",
     "text": [
      "[codecarbon INFO @ 11:26:03] Energy consumed for RAM : 0.000017 kWh. RAM Power : 0.08781766891479492 W\n",
      "[codecarbon DEBUG @ 11:26:03] RAM : 0.09 W during 14.98 s [measurement time: 0.0107]\n",
      "[codecarbon INFO @ 11:26:03] Energy consumed for all CPUs : 0.008320 kWh. Total CPU Power : 42.5 W\n",
      "[codecarbon DEBUG @ 11:26:03] CPU : 42.50 W during 15.00 s [measurement time: 0.0003]\n",
      "[codecarbon INFO @ 11:26:03] Energy consumed for all GPUs : 0.002825 kWh. Total GPU Power : 13.489957159174867 W\n",
      "[codecarbon DEBUG @ 11:26:03] GPU : 13.49 W during 15.00 s [measurement time: 0.0024]\n",
      "[codecarbon INFO @ 11:26:03] 0.011163 kWh of electricity used since the beginning.\n",
      "[codecarbon DEBUG @ 11:26:03] last_duration=14.982665227000098\n",
      "------------------------\n"
     ]
    },
    {
     "name": "stdout",
     "output_type": "stream",
     "text": [
      "[41/1000] ./test/pdf/581.pdf\n"
     ]
    },
    {
     "name": "stderr",
     "output_type": "stream",
     "text": [
      "[codecarbon INFO @ 11:26:18] Energy consumed for RAM : 0.000018 kWh. RAM Power : 0.08781766891479492 W\n",
      "[codecarbon DEBUG @ 11:26:18] RAM : 0.09 W during 14.98 s [measurement time: 0.0128]\n",
      "[codecarbon INFO @ 11:26:18] Energy consumed for all CPUs : 0.008498 kWh. Total CPU Power : 42.5 W\n",
      "[codecarbon DEBUG @ 11:26:18] CPU : 42.50 W during 15.00 s [measurement time: 0.0007]\n",
      "[codecarbon INFO @ 11:26:18] Energy consumed for all GPUs : 0.002884 kWh. Total GPU Power : 14.19711877567051 W\n",
      "[codecarbon DEBUG @ 11:26:18] GPU : 14.20 W during 15.00 s [measurement time: 0.0047]\n",
      "[codecarbon INFO @ 11:26:18] 0.011399 kWh of electricity used since the beginning.\n",
      "[codecarbon DEBUG @ 11:26:18] We apply an energy mix of 174 g.CO2eq/kWh for Spain\n",
      "[codecarbon DEBUG @ 11:26:18] EmissionsData(timestamp='2025-04-13T11:26:18', project_name='codecarbon', run_id='868e486c-ef2f-47f1-8b33-54ddf9c190fd', experiment_id='5b0fa12a-3dd7-45bb-9766-cc326314d9f1', duration=720.07669699, emissions=0.001984037280220545, emissions_rate=2.755313827699243e-06, cpu_power=42.5, gpu_power=14.19711877567051, ram_power=0.08781766891479492, cpu_energy=0.008497513295037501, gpu_energy=0.0028841961962439997, ram_energy=1.752797048548873e-05, energy_consumed=0.01139923746176699, country_name='Spain', country_iso_code='ESP', region=None, cloud_provider='', cloud_region='', os='Linux-6.8.0-57-generic-x86_64-with-glibc2.35', python_version='3.12.9', codecarbon_version='2.8.3', cpu_count=32, cpu_model='13th Gen Intel(R) Core(TM) i9-13900', gpu_count=1, gpu_model='1 x NVIDIA RTX 5000 Ada Generation', longitude=None, latitude=None, ram_total_size=62.50331497192383, tracking_mode='process', on_cloud='N', pue=1.0)\n",
      "[codecarbon INFO @ 11:26:18] 0.002734 g.CO2eq/s mean an estimation of 86.20885070555944 kg.CO2eq/year\n",
      "[codecarbon DEBUG @ 11:26:18] last_duration=14.977266375999989\n",
      "------------------------\n"
     ]
    },
    {
     "name": "stdout",
     "output_type": "stream",
     "text": [
      "[42/1000] ./test/pdf/582.pdf\n"
     ]
    },
    {
     "name": "stderr",
     "output_type": "stream",
     "text": [
      "[codecarbon INFO @ 11:26:33] Energy consumed for RAM : 0.000018 kWh. RAM Power : 0.08781766891479492 W\n",
      "[codecarbon DEBUG @ 11:26:33] RAM : 0.09 W during 14.97 s [measurement time: 0.0126]\n",
      "[codecarbon INFO @ 11:26:33] Energy consumed for all CPUs : 0.008674 kWh. Total CPU Power : 42.5 W\n",
      "[codecarbon DEBUG @ 11:26:33] CPU : 42.50 W during 14.99 s [measurement time: 0.0003]\n",
      "[codecarbon INFO @ 11:26:33] Energy consumed for all GPUs : 0.002942 kWh. Total GPU Power : 13.98170032613743 W\n",
      "[codecarbon DEBUG @ 11:26:33] GPU : 13.98 W during 14.99 s [measurement time: 0.0021]\n",
      "[codecarbon INFO @ 11:26:33] 0.011635 kWh of electricity used since the beginning.\n",
      "[codecarbon DEBUG @ 11:26:33] last_duration=14.969161137000015\n",
      "------------------------\n"
     ]
    },
    {
     "name": "stdout",
     "output_type": "stream",
     "text": [
      "[43/1000] ./test/pdf/583.pdf\n"
     ]
    },
    {
     "name": "stderr",
     "output_type": "stream",
     "text": [
      "[codecarbon INFO @ 11:26:48] Energy consumed for RAM : 0.000018 kWh. RAM Power : 0.08781766891479492 W\n",
      "[codecarbon DEBUG @ 11:26:48] RAM : 0.09 W during 14.97 s [measurement time: 0.0060]\n",
      "[codecarbon INFO @ 11:26:48] Energy consumed for all CPUs : 0.008851 kWh. Total CPU Power : 42.5 W\n",
      "[codecarbon DEBUG @ 11:26:48] CPU : 42.50 W during 14.99 s [measurement time: 0.0002]\n",
      "[codecarbon INFO @ 11:26:48] Energy consumed for all GPUs : 0.002999 kWh. Total GPU Power : 13.711327583480802 W\n",
      "[codecarbon DEBUG @ 11:26:48] GPU : 13.71 W during 14.99 s [measurement time: 0.0051]\n",
      "[codecarbon INFO @ 11:26:48] 0.011869 kWh of electricity used since the beginning.\n",
      "[codecarbon DEBUG @ 11:26:48] last_duration=14.974859400000014\n",
      "------------------------\n"
     ]
    },
    {
     "name": "stdout",
     "output_type": "stream",
     "text": [
      "[44/1000] ./test/pdf/584.pdf\n"
     ]
    },
    {
     "name": "stderr",
     "output_type": "stream",
     "text": [
      "[codecarbon INFO @ 11:27:03] Energy consumed for RAM : 0.000019 kWh. RAM Power : 0.08781766891479492 W\n",
      "[codecarbon DEBUG @ 11:27:03] RAM : 0.09 W during 14.98 s [measurement time: 0.0099]\n",
      "[codecarbon INFO @ 11:27:03] Energy consumed for all CPUs : 0.009029 kWh. Total CPU Power : 42.5 W\n",
      "[codecarbon DEBUG @ 11:27:03] CPU : 42.50 W during 15.00 s [measurement time: 0.0005]\n",
      "[codecarbon INFO @ 11:27:03] Energy consumed for all GPUs : 0.003055 kWh. Total GPU Power : 13.304492203804127 W\n",
      "[codecarbon DEBUG @ 11:27:03] GPU : 13.30 W during 15.00 s [measurement time: 0.0021]\n",
      "[codecarbon INFO @ 11:27:03] 0.012102 kWh of electricity used since the beginning.\n",
      "[codecarbon DEBUG @ 11:27:03] last_duration=14.98479020800005\n",
      "------------------------\n"
     ]
    },
    {
     "name": "stdout",
     "output_type": "stream",
     "text": [
      "[45/1000] ./test/pdf/585.pdf\n"
     ]
    },
    {
     "name": "stderr",
     "output_type": "stream",
     "text": [
      "[codecarbon INFO @ 11:27:18] Energy consumed for RAM : 0.000019 kWh. RAM Power : 0.08781766891479492 W\n",
      "[codecarbon DEBUG @ 11:27:18] RAM : 0.09 W during 14.98 s [measurement time: 0.0116]\n",
      "[codecarbon INFO @ 11:27:18] Energy consumed for all CPUs : 0.009206 kWh. Total CPU Power : 42.5 W\n",
      "[codecarbon DEBUG @ 11:27:18] CPU : 42.50 W during 15.00 s [measurement time: 0.0002]\n",
      "[codecarbon INFO @ 11:27:18] Energy consumed for all GPUs : 0.003111 kWh. Total GPU Power : 13.529387558405448 W\n",
      "[codecarbon DEBUG @ 11:27:18] GPU : 13.53 W during 15.00 s [measurement time: 0.0032]\n",
      "[codecarbon INFO @ 11:27:18] 0.012336 kWh of electricity used since the beginning.\n",
      "[codecarbon DEBUG @ 11:27:18] last_duration=14.980283010999983\n",
      "------------------------\n",
      "[codecarbon INFO @ 11:27:33] Energy consumed for RAM : 0.000019 kWh. RAM Power : 0.08781766891479492 W\n",
      "[codecarbon DEBUG @ 11:27:33] RAM : 0.09 W during 14.98 s [measurement time: 0.0103]\n",
      "[codecarbon INFO @ 11:27:33] Energy consumed for all CPUs : 0.009383 kWh. Total CPU Power : 42.5 W\n",
      "[codecarbon DEBUG @ 11:27:33] CPU : 42.50 W during 15.00 s [measurement time: 0.0013]\n",
      "[codecarbon INFO @ 11:27:33] Energy consumed for all GPUs : 0.003165 kWh. Total GPU Power : 12.880127432718943 W\n",
      "[codecarbon DEBUG @ 11:27:33] GPU : 12.88 W during 15.00 s [measurement time: 0.0046]\n",
      "[codecarbon INFO @ 11:27:33] 0.012567 kWh of electricity used since the beginning.\n",
      "[codecarbon DEBUG @ 11:27:33] last_duration=14.981217662000063\n",
      "------------------------\n"
     ]
    },
    {
     "name": "stdout",
     "output_type": "stream",
     "text": [
      "[46/1000] ./test/pdf/586.pdf\n"
     ]
    },
    {
     "name": "stderr",
     "output_type": "stream",
     "text": [
      "[codecarbon INFO @ 11:27:48] Energy consumed for RAM : 0.000020 kWh. RAM Power : 0.08781766891479492 W\n",
      "[codecarbon DEBUG @ 11:27:48] RAM : 0.09 W during 14.97 s [measurement time: 0.0123]\n",
      "[codecarbon INFO @ 11:27:48] Energy consumed for all CPUs : 0.009560 kWh. Total CPU Power : 42.5 W\n",
      "[codecarbon DEBUG @ 11:27:48] CPU : 42.50 W during 14.99 s [measurement time: 0.0004]\n",
      "[codecarbon INFO @ 11:27:48] Energy consumed for all GPUs : 0.003219 kWh. Total GPU Power : 13.064305319049646 W\n",
      "[codecarbon DEBUG @ 11:27:48] GPU : 13.06 W during 14.99 s [measurement time: 0.0025]\n",
      "[codecarbon INFO @ 11:27:48] 0.012799 kWh of electricity used since the beginning.\n",
      "[codecarbon DEBUG @ 11:27:48] last_duration=14.973302232000037\n",
      "------------------------\n"
     ]
    },
    {
     "name": "stdout",
     "output_type": "stream",
     "text": [
      "[47/1000] ./test/pdf/587.pdf\n"
     ]
    },
    {
     "name": "stderr",
     "output_type": "stream",
     "text": [
      "[codecarbon INFO @ 11:28:03] Energy consumed for RAM : 0.000020 kWh. RAM Power : 0.08781766891479492 W\n",
      "[codecarbon DEBUG @ 11:28:03] RAM : 0.09 W during 14.98 s [measurement time: 0.0134]\n",
      "[codecarbon INFO @ 11:28:03] Energy consumed for all CPUs : 0.009737 kWh. Total CPU Power : 42.5 W\n",
      "[codecarbon DEBUG @ 11:28:03] CPU : 42.50 W during 15.00 s [measurement time: 0.0003]\n",
      "[codecarbon INFO @ 11:28:03] Energy consumed for all GPUs : 0.003275 kWh. Total GPU Power : 13.401485686355048 W\n",
      "[codecarbon DEBUG @ 11:28:03] GPU : 13.40 W during 15.01 s [measurement time: 0.0025]\n",
      "[codecarbon INFO @ 11:28:03] 0.013032 kWh of electricity used since the beginning.\n",
      "[codecarbon DEBUG @ 11:28:03] last_duration=14.978523985999914\n",
      "------------------------\n"
     ]
    },
    {
     "name": "stdout",
     "output_type": "stream",
     "text": [
      "[48/1000] ./test/pdf/588.pdf\n"
     ]
    },
    {
     "name": "stderr",
     "output_type": "stream",
     "text": [
      "[codecarbon INFO @ 11:28:18] Energy consumed for RAM : 0.000020 kWh. RAM Power : 0.08781766891479492 W\n",
      "[codecarbon DEBUG @ 11:28:18] RAM : 0.09 W during 14.97 s [measurement time: 0.0115]\n",
      "[codecarbon INFO @ 11:28:18] Energy consumed for all CPUs : 0.009914 kWh. Total CPU Power : 42.5 W\n",
      "[codecarbon DEBUG @ 11:28:18] CPU : 42.50 W during 14.99 s [measurement time: 0.0004]\n",
      "[codecarbon INFO @ 11:28:18] Energy consumed for all GPUs : 0.003333 kWh. Total GPU Power : 13.85540853295627 W\n",
      "[codecarbon DEBUG @ 11:28:18] GPU : 13.86 W during 14.99 s [measurement time: 0.0057]\n",
      "[codecarbon INFO @ 11:28:18] 0.013267 kWh of electricity used since the beginning.\n",
      "[codecarbon DEBUG @ 11:28:18] We apply an energy mix of 174 g.CO2eq/kWh for Spain\n",
      "[codecarbon DEBUG @ 11:28:18] EmissionsData(timestamp='2025-04-13T11:28:18', project_name='codecarbon', run_id='868e486c-ef2f-47f1-8b33-54ddf9c190fd', experiment_id='5b0fa12a-3dd7-45bb-9766-cc326314d9f1', duration=840.075744681, emissions=0.0023091325273338604, emissions_rate=2.7487194362583364e-06, cpu_power=42.5, gpu_power=13.85540853295627, ram_power=0.08781766891479492, cpu_energy=0.009913684779281949, gpu_energy=0.0033329287774519997, ram_energy=2.045066236321096e-05, energy_consumed=0.013267064219097157, country_name='Spain', country_iso_code='ESP', region=None, cloud_provider='', cloud_region='', os='Linux-6.8.0-57-generic-x86_64-with-glibc2.35', python_version='3.12.9', codecarbon_version='2.8.3', cpu_count=32, cpu_model='13th Gen Intel(R) Core(TM) i9-13900', gpu_count=1, gpu_model='1 x NVIDIA RTX 5000 Ada Generation', longitude=None, latitude=None, ram_total_size=62.50331497192383, tracking_mode='process', on_cloud='N', pue=1.0)\n",
      "[codecarbon INFO @ 11:28:18] 0.002709 g.CO2eq/s mean an estimation of 85.43570895133396 kg.CO2eq/year\n",
      "[codecarbon DEBUG @ 11:28:18] last_duration=14.970663261000027\n",
      "------------------------\n"
     ]
    },
    {
     "name": "stdout",
     "output_type": "stream",
     "text": [
      "[49/1000] ./test/pdf/589.pdf\n"
     ]
    },
    {
     "name": "stderr",
     "output_type": "stream",
     "text": [
      "[codecarbon INFO @ 11:28:33] Energy consumed for RAM : 0.000021 kWh. RAM Power : 0.08781766891479492 W\n",
      "[codecarbon DEBUG @ 11:28:33] RAM : 0.09 W during 14.98 s [measurement time: 0.0133]\n",
      "[codecarbon INFO @ 11:28:33] Energy consumed for all CPUs : 0.010091 kWh. Total CPU Power : 42.5 W\n",
      "[codecarbon DEBUG @ 11:28:33] CPU : 42.50 W during 15.00 s [measurement time: 0.0010]\n",
      "[codecarbon INFO @ 11:28:33] Energy consumed for all GPUs : 0.003392 kWh. Total GPU Power : 14.090756900248358 W\n",
      "[codecarbon DEBUG @ 11:28:33] GPU : 14.09 W during 15.00 s [measurement time: 0.0024]\n",
      "[codecarbon INFO @ 11:28:33] 0.013503 kWh of electricity used since the beginning.\n",
      "[codecarbon DEBUG @ 11:28:33] last_duration=14.976591428999996\n",
      "------------------------\n"
     ]
    },
    {
     "name": "stdout",
     "output_type": "stream",
     "text": [
      "[50/1000] ./test/pdf/59.pdf\n"
     ]
    },
    {
     "name": "stderr",
     "output_type": "stream",
     "text": [
      "[codecarbon INFO @ 11:28:48] Energy consumed for RAM : 0.000021 kWh. RAM Power : 0.08781766891479492 W\n",
      "[codecarbon DEBUG @ 11:28:48] RAM : 0.09 W during 14.97 s [measurement time: 0.0127]\n",
      "[codecarbon INFO @ 11:28:48] Energy consumed for all CPUs : 0.010268 kWh. Total CPU Power : 42.5 W\n",
      "[codecarbon DEBUG @ 11:28:48] CPU : 42.50 W during 14.99 s [measurement time: 0.0006]\n",
      "[codecarbon INFO @ 11:28:48] Energy consumed for all GPUs : 0.003448 kWh. Total GPU Power : 13.59844295493392 W\n",
      "[codecarbon DEBUG @ 11:28:48] GPU : 13.60 W during 14.99 s [measurement time: 0.0019]\n",
      "[codecarbon INFO @ 11:28:48] 0.013737 kWh of electricity used since the beginning.\n",
      "[codecarbon DEBUG @ 11:28:48] last_duration=14.970238742999982\n",
      "------------------------\n"
     ]
    },
    {
     "name": "stdout",
     "output_type": "stream",
     "text": [
      "[51/1000] ./test/pdf/590.pdf\n"
     ]
    },
    {
     "name": "stderr",
     "output_type": "stream",
     "text": [
      "[codecarbon INFO @ 11:29:03] Energy consumed for RAM : 0.000022 kWh. RAM Power : 0.08781766891479492 W\n",
      "[codecarbon DEBUG @ 11:29:03] RAM : 0.09 W during 14.98 s [measurement time: 0.0132]\n",
      "[codecarbon INFO @ 11:29:03] Energy consumed for all CPUs : 0.010445 kWh. Total CPU Power : 42.5 W\n",
      "[codecarbon DEBUG @ 11:29:03] CPU : 42.50 W during 15.00 s [measurement time: 0.0005]\n",
      "[codecarbon INFO @ 11:29:03] Energy consumed for all GPUs : 0.003503 kWh. Total GPU Power : 13.043575671317699 W\n",
      "[codecarbon DEBUG @ 11:29:03] GPU : 13.04 W during 15.00 s [measurement time: 0.0047]\n",
      "[codecarbon INFO @ 11:29:03] 0.013969 kWh of electricity used since the beginning.\n",
      "[codecarbon DEBUG @ 11:29:03] last_duration=14.976428135999981\n",
      "------------------------\n"
     ]
    },
    {
     "name": "stdout",
     "output_type": "stream",
     "text": [
      "[52/1000] ./test/pdf/591.pdf\n"
     ]
    },
    {
     "name": "stderr",
     "output_type": "stream",
     "text": [
      "[codecarbon INFO @ 11:29:18] Energy consumed for RAM : 0.000022 kWh. RAM Power : 0.08781766891479492 W\n",
      "[codecarbon DEBUG @ 11:29:18] RAM : 0.09 W during 14.97 s [measurement time: 0.0136]\n",
      "[codecarbon INFO @ 11:29:18] Energy consumed for all CPUs : 0.010622 kWh. Total CPU Power : 42.5 W\n",
      "[codecarbon DEBUG @ 11:29:18] CPU : 42.50 W during 14.99 s [measurement time: 0.0005]\n",
      "[codecarbon INFO @ 11:29:18] Energy consumed for all GPUs : 0.003561 kWh. Total GPU Power : 13.93016496791911 W\n",
      "[codecarbon DEBUG @ 11:29:18] GPU : 13.93 W during 14.99 s [measurement time: 0.0027]\n",
      "[codecarbon INFO @ 11:29:18] 0.014204 kWh of electricity used since the beginning.\n",
      "[codecarbon DEBUG @ 11:29:18] last_duration=14.973256350000042\n",
      "------------------------\n"
     ]
    },
    {
     "name": "stdout",
     "output_type": "stream",
     "text": [
      "[53/1000] ./test/pdf/592.pdf\n"
     ]
    },
    {
     "name": "stderr",
     "output_type": "stream",
     "text": [
      "[codecarbon INFO @ 11:29:33] Energy consumed for RAM : 0.000022 kWh. RAM Power : 0.08781766891479492 W\n",
      "[codecarbon DEBUG @ 11:29:33] RAM : 0.09 W during 14.98 s [measurement time: 0.0131]\n",
      "[codecarbon INFO @ 11:29:33] Energy consumed for all CPUs : 0.010799 kWh. Total CPU Power : 42.5 W\n",
      "[codecarbon DEBUG @ 11:29:33] CPU : 42.50 W during 15.00 s [measurement time: 0.0004]\n",
      "[codecarbon INFO @ 11:29:33] Energy consumed for all GPUs : 0.003614 kWh. Total GPU Power : 12.72025294488633 W\n",
      "[codecarbon DEBUG @ 11:29:33] GPU : 12.72 W during 15.00 s [measurement time: 0.0034]\n",
      "[codecarbon INFO @ 11:29:33] 0.014435 kWh of electricity used since the beginning.\n",
      "[codecarbon DEBUG @ 11:29:33] last_duration=14.975892638999994\n",
      "------------------------\n"
     ]
    },
    {
     "name": "stdout",
     "output_type": "stream",
     "text": [
      "[54/1000] ./test/pdf/593.pdf\n"
     ]
    },
    {
     "name": "stderr",
     "output_type": "stream",
     "text": [
      "[codecarbon INFO @ 11:29:48] Energy consumed for RAM : 0.000023 kWh. RAM Power : 0.08781766891479492 W\n",
      "[codecarbon DEBUG @ 11:29:48] RAM : 0.09 W during 14.97 s [measurement time: 0.0084]\n",
      "[codecarbon INFO @ 11:29:48] Energy consumed for all CPUs : 0.010976 kWh. Total CPU Power : 42.5 W\n",
      "[codecarbon DEBUG @ 11:29:48] CPU : 42.50 W during 14.99 s [measurement time: 0.0002]\n",
      "[codecarbon INFO @ 11:29:48] Energy consumed for all GPUs : 0.003673 kWh. Total GPU Power : 14.194231354419058 W\n",
      "[codecarbon DEBUG @ 11:29:48] GPU : 14.19 W during 14.99 s [measurement time: 0.0025]\n",
      "[codecarbon INFO @ 11:29:48] 0.014671 kWh of electricity used since the beginning.\n",
      "[codecarbon DEBUG @ 11:29:48] last_duration=14.973771891999945\n",
      "------------------------\n"
     ]
    },
    {
     "name": "stdout",
     "output_type": "stream",
     "text": [
      "[55/1000] ./test/pdf/594.pdf\n"
     ]
    },
    {
     "name": "stderr",
     "output_type": "stream",
     "text": [
      "[codecarbon INFO @ 11:30:03] Energy consumed for RAM : 0.000023 kWh. RAM Power : 0.08781766891479492 W\n",
      "[codecarbon DEBUG @ 11:30:03] RAM : 0.09 W during 14.98 s [measurement time: 0.0133]\n",
      "[codecarbon INFO @ 11:30:03] Energy consumed for all CPUs : 0.011153 kWh. Total CPU Power : 42.5 W\n",
      "[codecarbon DEBUG @ 11:30:03] CPU : 42.50 W during 15.01 s [measurement time: 0.0004]\n",
      "[codecarbon INFO @ 11:30:03] Energy consumed for all GPUs : 0.003731 kWh. Total GPU Power : 14.080923337364197 W\n",
      "[codecarbon DEBUG @ 11:30:03] GPU : 14.08 W during 15.01 s [measurement time: 0.0045]\n",
      "[codecarbon INFO @ 11:30:03] 0.014907 kWh of electricity used since the beginning.\n",
      "[codecarbon DEBUG @ 11:30:03] last_duration=14.984104485999978\n",
      "------------------------\n"
     ]
    },
    {
     "name": "stdout",
     "output_type": "stream",
     "text": [
      "[56/1000] ./test/pdf/595.pdf\n"
     ]
    },
    {
     "name": "stderr",
     "output_type": "stream",
     "text": [
      "[codecarbon INFO @ 11:30:18] Energy consumed for RAM : 0.000023 kWh. RAM Power : 0.08781766891479492 W\n",
      "[codecarbon DEBUG @ 11:30:18] RAM : 0.09 W during 14.97 s [measurement time: 0.0146]\n",
      "[codecarbon INFO @ 11:30:18] Energy consumed for all CPUs : 0.011330 kWh. Total CPU Power : 42.5 W\n",
      "[codecarbon DEBUG @ 11:30:18] CPU : 42.50 W during 15.00 s [measurement time: 0.0003]\n",
      "[codecarbon INFO @ 11:30:18] Energy consumed for all GPUs : 0.003791 kWh. Total GPU Power : 14.344762933277734 W\n",
      "[codecarbon DEBUG @ 11:30:18] GPU : 14.34 W during 15.00 s [measurement time: 0.0022]\n",
      "[codecarbon INFO @ 11:30:18] 0.015145 kWh of electricity used since the beginning.\n",
      "[codecarbon DEBUG @ 11:30:18] We apply an energy mix of 174 g.CO2eq/kWh for Spain\n",
      "[codecarbon DEBUG @ 11:30:18] EmissionsData(timestamp='2025-04-13T11:30:18', project_name='codecarbon', run_id='868e486c-ef2f-47f1-8b33-54ddf9c190fd', experiment_id='5b0fa12a-3dd7-45bb-9766-cc326314d9f1', duration=960.0855873139999, emissions=0.0026359185723352106, emissions_rate=2.7455037417128965e-06, cpu_power=42.5, gpu_power=14.344762933277734, ram_power=0.08781766891479492, cpu_energy=0.011330033442177782, gpu_energy=0.0037911988662899998, ram_energy=2.337310569602467e-05, energy_consumed=0.015144605414163806, country_name='Spain', country_iso_code='ESP', region=None, cloud_provider='', cloud_region='', os='Linux-6.8.0-57-generic-x86_64-with-glibc2.35', python_version='3.12.9', codecarbon_version='2.8.3', cpu_count=32, cpu_model='13th Gen Intel(R) Core(TM) i9-13900', gpu_count=1, gpu_model='1 x NVIDIA RTX 5000 Ada Generation', longitude=None, latitude=None, ram_total_size=62.50331497192383, tracking_mode='process', on_cloud='N', pue=1.0)\n",
      "[codecarbon INFO @ 11:30:18] 0.002723 g.CO2eq/s mean an estimation of 85.87232921117753 kg.CO2eq/year\n",
      "[codecarbon DEBUG @ 11:30:18] last_duration=14.972318352000002\n",
      "------------------------\n"
     ]
    },
    {
     "name": "stdout",
     "output_type": "stream",
     "text": [
      "[57/1000] ./test/pdf/596.pdf\n"
     ]
    },
    {
     "name": "stderr",
     "output_type": "stream",
     "text": [
      "[codecarbon INFO @ 11:30:33] Energy consumed for RAM : 0.000024 kWh. RAM Power : 0.08781766891479492 W\n",
      "[codecarbon DEBUG @ 11:30:33] RAM : 0.09 W during 14.97 s [measurement time: 0.0107]\n",
      "[codecarbon INFO @ 11:30:33] Energy consumed for all CPUs : 0.011507 kWh. Total CPU Power : 42.5 W\n",
      "[codecarbon DEBUG @ 11:30:33] CPU : 42.50 W during 14.99 s [measurement time: 0.0005]\n",
      "[codecarbon INFO @ 11:30:33] Energy consumed for all GPUs : 0.003850 kWh. Total GPU Power : 14.135342965412969 W\n",
      "[codecarbon DEBUG @ 11:30:33] GPU : 14.14 W during 14.99 s [measurement time: 0.0019]\n",
      "[codecarbon INFO @ 11:30:33] 0.015381 kWh of electricity used since the beginning.\n",
      "[codecarbon DEBUG @ 11:30:33] last_duration=14.97340775900011\n",
      "------------------------\n"
     ]
    },
    {
     "name": "stdout",
     "output_type": "stream",
     "text": [
      "[58/1000] ./test/pdf/597.pdf\n"
     ]
    },
    {
     "name": "stderr",
     "output_type": "stream",
     "text": [
      "[codecarbon INFO @ 11:30:48] Energy consumed for RAM : 0.000024 kWh. RAM Power : 0.08781766891479492 W\n",
      "[codecarbon DEBUG @ 11:30:48] RAM : 0.09 W during 14.98 s [measurement time: 0.0107]\n",
      "[codecarbon INFO @ 11:30:48] Energy consumed for all CPUs : 0.011684 kWh. Total CPU Power : 42.5 W\n",
      "[codecarbon DEBUG @ 11:30:48] CPU : 42.50 W during 15.00 s [measurement time: 0.0005]\n",
      "[codecarbon INFO @ 11:30:48] Energy consumed for all GPUs : 0.003911 kWh. Total GPU Power : 14.521767415358562 W\n",
      "[codecarbon DEBUG @ 11:30:48] GPU : 14.52 W during 15.00 s [measurement time: 0.0048]\n",
      "[codecarbon INFO @ 11:30:48] 0.015619 kWh of electricity used since the beginning.\n",
      "[codecarbon DEBUG @ 11:30:48] last_duration=14.98013529700006\n",
      "------------------------\n",
      "[codecarbon INFO @ 11:31:03] Energy consumed for RAM : 0.000024 kWh. RAM Power : 0.08781766891479492 W\n",
      "[codecarbon DEBUG @ 11:31:03] RAM : 0.09 W during 14.98 s [measurement time: 0.0134]\n",
      "[codecarbon INFO @ 11:31:03] Energy consumed for all CPUs : 0.011861 kWh. Total CPU Power : 42.5 W\n",
      "[codecarbon DEBUG @ 11:31:03] CPU : 42.50 W during 15.00 s [measurement time: 0.0006]\n",
      "[codecarbon INFO @ 11:31:03] Energy consumed for all GPUs : 0.003968 kWh. Total GPU Power : 13.66397555415449 W\n",
      "[codecarbon DEBUG @ 11:31:03] GPU : 13.66 W during 15.01 s [measurement time: 0.0024]\n",
      "[codecarbon INFO @ 11:31:03] 0.015853 kWh of electricity used since the beginning.\n",
      "[codecarbon DEBUG @ 11:31:03] last_duration=14.976679569999988\n",
      "------------------------\n"
     ]
    },
    {
     "name": "stdout",
     "output_type": "stream",
     "text": [
      "[59/1000] ./test/pdf/598.pdf\n"
     ]
    },
    {
     "name": "stderr",
     "output_type": "stream",
     "text": [
      "[codecarbon INFO @ 11:31:18] Energy consumed for RAM : 0.000025 kWh. RAM Power : 0.08781766891479492 W\n",
      "[codecarbon DEBUG @ 11:31:18] RAM : 0.09 W during 14.97 s [measurement time: 0.0139]\n",
      "[codecarbon INFO @ 11:31:18] Energy consumed for all CPUs : 0.012038 kWh. Total CPU Power : 42.5 W\n",
      "[codecarbon DEBUG @ 11:31:18] CPU : 42.50 W during 14.99 s [measurement time: 0.0006]\n",
      "[codecarbon INFO @ 11:31:18] Energy consumed for all GPUs : 0.004022 kWh. Total GPU Power : 13.186892770294476 W\n",
      "[codecarbon DEBUG @ 11:31:18] GPU : 13.19 W during 14.99 s [measurement time: 0.0035]\n",
      "[codecarbon INFO @ 11:31:18] 0.016085 kWh of electricity used since the beginning.\n",
      "[codecarbon DEBUG @ 11:31:18] last_duration=14.968756818999964\n",
      "------------------------\n"
     ]
    },
    {
     "name": "stdout",
     "output_type": "stream",
     "text": [
      "[60/1000] ./test/pdf/599.pdf\n"
     ]
    },
    {
     "name": "stderr",
     "output_type": "stream",
     "text": [
      "[codecarbon INFO @ 11:31:33] Energy consumed for RAM : 0.000025 kWh. RAM Power : 0.08781766891479492 W\n",
      "[codecarbon DEBUG @ 11:31:33] RAM : 0.09 W during 14.98 s [measurement time: 0.0098]\n",
      "[codecarbon INFO @ 11:31:33] Energy consumed for all CPUs : 0.012215 kWh. Total CPU Power : 42.5 W\n",
      "[codecarbon DEBUG @ 11:31:33] CPU : 42.50 W during 14.99 s [measurement time: 0.0005]\n",
      "[codecarbon INFO @ 11:31:33] Energy consumed for all GPUs : 0.004084 kWh. Total GPU Power : 14.693155435771642 W\n",
      "[codecarbon DEBUG @ 11:31:33] GPU : 14.69 W during 14.99 s [measurement time: 0.0022]\n",
      "[codecarbon INFO @ 11:31:33] 0.016324 kWh of electricity used since the beginning.\n",
      "[codecarbon DEBUG @ 11:31:33] last_duration=14.975415224000017\n",
      "------------------------\n"
     ]
    },
    {
     "name": "stdout",
     "output_type": "stream",
     "text": [
      "[61/1000] ./test/pdf/6.pdf\n"
     ]
    },
    {
     "name": "stderr",
     "output_type": "stream",
     "text": [
      "[codecarbon INFO @ 11:31:48] Energy consumed for RAM : 0.000026 kWh. RAM Power : 0.08781766891479492 W\n",
      "[codecarbon DEBUG @ 11:31:48] RAM : 0.09 W during 14.98 s [measurement time: 0.0104]\n",
      "[codecarbon INFO @ 11:31:48] Energy consumed for all CPUs : 0.012392 kWh. Total CPU Power : 42.5 W\n",
      "[codecarbon DEBUG @ 11:31:48] CPU : 42.50 W during 15.00 s [measurement time: 0.0002]\n",
      "[codecarbon INFO @ 11:31:48] Energy consumed for all GPUs : 0.004145 kWh. Total GPU Power : 14.7005604059806 W\n",
      "[codecarbon DEBUG @ 11:31:48] GPU : 14.70 W during 15.00 s [measurement time: 0.0018]\n",
      "[codecarbon INFO @ 11:31:48] 0.016563 kWh of electricity used since the beginning.\n",
      "[codecarbon DEBUG @ 11:31:48] last_duration=14.979307523000216\n",
      "------------------------\n"
     ]
    },
    {
     "name": "stdout",
     "output_type": "stream",
     "text": [
      "[62/1000] ./test/pdf/60.pdf\n"
     ]
    },
    {
     "name": "stderr",
     "output_type": "stream",
     "text": [
      "[codecarbon INFO @ 11:32:03] Energy consumed for RAM : 0.000026 kWh. RAM Power : 0.08781766891479492 W\n",
      "[codecarbon DEBUG @ 11:32:03] RAM : 0.09 W during 14.98 s [measurement time: 0.0141]\n",
      "[codecarbon INFO @ 11:32:03] Energy consumed for all CPUs : 0.012569 kWh. Total CPU Power : 42.5 W\n",
      "[codecarbon DEBUG @ 11:32:03] CPU : 42.50 W during 15.00 s [measurement time: 0.0006]\n",
      "[codecarbon INFO @ 11:32:03] Energy consumed for all GPUs : 0.004206 kWh. Total GPU Power : 14.54834078847161 W\n",
      "[codecarbon DEBUG @ 11:32:03] GPU : 14.55 W during 15.01 s [measurement time: 0.0021]\n",
      "[codecarbon INFO @ 11:32:03] 0.016801 kWh of electricity used since the beginning.\n",
      "[codecarbon DEBUG @ 11:32:03] last_duration=14.980788942000117\n",
      "------------------------\n",
      "[codecarbon INFO @ 11:32:18] Energy consumed for RAM : 0.000026 kWh. RAM Power : 0.08781766891479492 W\n",
      "[codecarbon DEBUG @ 11:32:18] RAM : 0.09 W during 14.97 s [measurement time: 0.0145]\n",
      "[codecarbon INFO @ 11:32:18] Energy consumed for all CPUs : 0.012746 kWh. Total CPU Power : 42.5 W\n",
      "[codecarbon DEBUG @ 11:32:18] CPU : 42.50 W during 14.99 s [measurement time: 0.0006]\n",
      "[codecarbon INFO @ 11:32:18] Energy consumed for all GPUs : 0.004260 kWh. Total GPU Power : 13.015914194573762 W\n",
      "[codecarbon DEBUG @ 11:32:18] GPU : 13.02 W during 15.00 s [measurement time: 0.0036]\n",
      "[codecarbon INFO @ 11:32:18] 0.017032 kWh of electricity used since the beginning.\n",
      "[codecarbon DEBUG @ 11:32:18] We apply an energy mix of 174 g.CO2eq/kWh for Spain\n",
      "[codecarbon DEBUG @ 11:32:18] EmissionsData(timestamp='2025-04-13T11:32:18', project_name='codecarbon', run_id='868e486c-ef2f-47f1-8b33-54ddf9c190fd', experiment_id='5b0fa12a-3dd7-45bb-9766-cc326314d9f1', duration=1080.090911951, emissions=0.002964482270917079, emissions_rate=2.744659952338871e-06, cpu_power=42.5, gpu_power=13.015914194573762, ram_power=0.08781766891479492, cpu_energy=0.01274634321023056, gpu_energy=0.004259721185552, ram_energy=2.6295678432198513e-05, energy_consumed=0.01703236007421476, country_name='Spain', country_iso_code='ESP', region=None, cloud_provider='', cloud_region='', os='Linux-6.8.0-57-generic-x86_64-with-glibc2.35', python_version='3.12.9', codecarbon_version='2.8.3', cpu_count=32, cpu_model='13th Gen Intel(R) Core(TM) i9-13900', gpu_count=1, gpu_model='1 x NVIDIA RTX 5000 Ada Generation', longitude=None, latitude=None, ram_total_size=62.50331497192383, tracking_mode='process', on_cloud='N', pue=1.0)\n",
      "[codecarbon INFO @ 11:32:18] 0.002738 g.CO2eq/s mean an estimation of 86.34270879079912 kg.CO2eq/year\n",
      "[codecarbon DEBUG @ 11:32:18] last_duration=14.973457473000053\n",
      "------------------------\n"
     ]
    },
    {
     "name": "stdout",
     "output_type": "stream",
     "text": [
      "[63/1000] ./test/pdf/600.pdf\n"
     ]
    },
    {
     "name": "stderr",
     "output_type": "stream",
     "text": [
      "[codecarbon INFO @ 11:32:33] Energy consumed for RAM : 0.000027 kWh. RAM Power : 0.08781766891479492 W\n",
      "[codecarbon DEBUG @ 11:32:33] RAM : 0.09 W during 14.98 s [measurement time: 0.0116]\n",
      "[codecarbon INFO @ 11:32:33] Energy consumed for all CPUs : 0.012923 kWh. Total CPU Power : 42.5 W\n",
      "[codecarbon DEBUG @ 11:32:33] CPU : 42.50 W during 14.99 s [measurement time: 0.0002]\n",
      "[codecarbon INFO @ 11:32:33] Energy consumed for all GPUs : 0.004316 kWh. Total GPU Power : 13.402087879783428 W\n",
      "[codecarbon DEBUG @ 11:32:33] GPU : 13.40 W during 14.99 s [measurement time: 0.0025]\n",
      "[codecarbon INFO @ 11:32:33] 0.017266 kWh of electricity used since the beginning.\n",
      "[codecarbon DEBUG @ 11:32:33] last_duration=14.975068590000092\n",
      "------------------------\n"
     ]
    },
    {
     "name": "stdout",
     "output_type": "stream",
     "text": [
      "[64/1000] ./test/pdf/601.pdf\n"
     ]
    },
    {
     "name": "stderr",
     "output_type": "stream",
     "text": [
      "[codecarbon INFO @ 11:32:48] Energy consumed for RAM : 0.000027 kWh. RAM Power : 0.08781766891479492 W\n",
      "[codecarbon DEBUG @ 11:32:48] RAM : 0.09 W during 14.98 s [measurement time: 0.0111]\n",
      "[codecarbon INFO @ 11:32:48] Energy consumed for all CPUs : 0.013100 kWh. Total CPU Power : 42.5 W\n",
      "[codecarbon DEBUG @ 11:32:48] CPU : 42.50 W during 15.00 s [measurement time: 0.0004]\n",
      "[codecarbon INFO @ 11:32:48] Energy consumed for all GPUs : 0.004374 kWh. Total GPU Power : 13.978802816194047 W\n",
      "[codecarbon DEBUG @ 11:32:48] GPU : 13.98 W during 15.00 s [measurement time: 0.0021]\n",
      "[codecarbon INFO @ 11:32:48] 0.017501 kWh of electricity used since the beginning.\n",
      "[codecarbon DEBUG @ 11:32:48] last_duration=14.979138702\n",
      "------------------------\n"
     ]
    },
    {
     "name": "stdout",
     "output_type": "stream",
     "text": [
      "[65/1000] ./test/pdf/602.pdf\n"
     ]
    },
    {
     "name": "stderr",
     "output_type": "stream",
     "text": [
      "[codecarbon INFO @ 11:33:03] Energy consumed for RAM : 0.000027 kWh. RAM Power : 0.08781766891479492 W\n",
      "[codecarbon DEBUG @ 11:33:03] RAM : 0.09 W during 14.98 s [measurement time: 0.0129]\n",
      "[codecarbon INFO @ 11:33:03] Energy consumed for all CPUs : 0.013277 kWh. Total CPU Power : 42.5 W\n",
      "[codecarbon DEBUG @ 11:33:03] CPU : 42.50 W during 15.00 s [measurement time: 0.0006]\n",
      "[codecarbon INFO @ 11:33:03] Energy consumed for all GPUs : 0.004432 kWh. Total GPU Power : 13.917531141825625 W\n",
      "[codecarbon DEBUG @ 11:33:03] GPU : 13.92 W during 15.00 s [measurement time: 0.0022]\n",
      "[codecarbon INFO @ 11:33:03] 0.017737 kWh of electricity used since the beginning.\n",
      "[codecarbon DEBUG @ 11:33:03] last_duration=14.979923837999877\n",
      "------------------------\n"
     ]
    },
    {
     "name": "stdout",
     "output_type": "stream",
     "text": [
      "[66/1000] ./test/pdf/603.pdf\n"
     ]
    },
    {
     "name": "stderr",
     "output_type": "stream",
     "text": [
      "[codecarbon INFO @ 11:33:18] Energy consumed for RAM : 0.000028 kWh. RAM Power : 0.08781766891479492 W\n",
      "[codecarbon DEBUG @ 11:33:18] RAM : 0.09 W during 14.98 s [measurement time: 0.0129]\n",
      "[codecarbon INFO @ 11:33:18] Energy consumed for all CPUs : 0.013455 kWh. Total CPU Power : 42.5 W\n",
      "[codecarbon DEBUG @ 11:33:18] CPU : 42.50 W during 15.00 s [measurement time: 0.0005]\n",
      "[codecarbon INFO @ 11:33:18] Energy consumed for all GPUs : 0.004490 kWh. Total GPU Power : 13.997839690090148 W\n",
      "[codecarbon DEBUG @ 11:33:18] GPU : 14.00 W during 15.00 s [measurement time: 0.0030]\n",
      "[codecarbon INFO @ 11:33:18] 0.017972 kWh of electricity used since the beginning.\n",
      "[codecarbon DEBUG @ 11:33:18] last_duration=14.975854067\n",
      "------------------------\n",
      "[codecarbon INFO @ 11:33:33] Energy consumed for RAM : 0.000028 kWh. RAM Power : 0.08781766891479492 W\n",
      "[codecarbon DEBUG @ 11:33:33] RAM : 0.09 W during 14.97 s [measurement time: 0.0115]\n",
      "[codecarbon INFO @ 11:33:33] Energy consumed for all CPUs : 0.013632 kWh. Total CPU Power : 42.5 W\n",
      "[codecarbon DEBUG @ 11:33:33] CPU : 42.50 W during 14.99 s [measurement time: 0.0002]\n",
      "[codecarbon INFO @ 11:33:33] Energy consumed for all GPUs : 0.004548 kWh. Total GPU Power : 13.965006043377768 W\n",
      "[codecarbon DEBUG @ 11:33:33] GPU : 13.97 W during 14.99 s [measurement time: 0.0019]\n",
      "[codecarbon INFO @ 11:33:33] 0.018208 kWh of electricity used since the beginning.\n",
      "[codecarbon DEBUG @ 11:33:33] last_duration=14.974401643999954\n",
      "------------------------\n",
      "[codecarbon INFO @ 11:33:48] Energy consumed for RAM : 0.000028 kWh. RAM Power : 0.08781766891479492 W\n",
      "[codecarbon DEBUG @ 11:33:48] RAM : 0.09 W during 14.98 s [measurement time: 0.0065]\n",
      "[codecarbon INFO @ 11:33:48] Energy consumed for all CPUs : 0.013809 kWh. Total CPU Power : 42.5 W\n",
      "[codecarbon DEBUG @ 11:33:48] CPU : 42.50 W during 15.00 s [measurement time: 0.0003]\n",
      "[codecarbon INFO @ 11:33:48] Energy consumed for all GPUs : 0.004601 kWh. Total GPU Power : 12.594205362400945 W\n",
      "[codecarbon DEBUG @ 11:33:48] GPU : 12.59 W during 15.00 s [measurement time: 0.0025]\n",
      "[codecarbon INFO @ 11:33:48] 0.018438 kWh of electricity used since the beginning.\n",
      "[codecarbon DEBUG @ 11:33:48] last_duration=14.98270778899996\n",
      "------------------------\n"
     ]
    },
    {
     "name": "stdout",
     "output_type": "stream",
     "text": [
      "[67/1000] ./test/pdf/604.pdf\n"
     ]
    },
    {
     "name": "stderr",
     "output_type": "stream",
     "text": [
      "[codecarbon INFO @ 11:34:03] Energy consumed for RAM : 0.000029 kWh. RAM Power : 0.08781766891479492 W\n",
      "[codecarbon DEBUG @ 11:34:03] RAM : 0.09 W during 14.99 s [measurement time: 0.0096]\n",
      "[codecarbon INFO @ 11:34:03] Energy consumed for all CPUs : 0.013986 kWh. Total CPU Power : 42.5 W\n",
      "[codecarbon DEBUG @ 11:34:03] CPU : 42.50 W during 15.00 s [measurement time: 0.0002]\n",
      "[codecarbon INFO @ 11:34:03] Energy consumed for all GPUs : 0.004660 kWh. Total GPU Power : 14.301165345534045 W\n",
      "[codecarbon DEBUG @ 11:34:03] GPU : 14.30 W during 15.00 s [measurement time: 0.0034]\n",
      "[codecarbon INFO @ 11:34:03] 0.018675 kWh of electricity used since the beginning.\n",
      "[codecarbon DEBUG @ 11:34:03] last_duration=14.985083931999952\n",
      "------------------------\n"
     ]
    },
    {
     "name": "stdout",
     "output_type": "stream",
     "text": [
      "[68/1000] ./test/pdf/605.pdf\n"
     ]
    },
    {
     "name": "stderr",
     "output_type": "stream",
     "text": [
      "[codecarbon INFO @ 11:34:18] Energy consumed for RAM : 0.000029 kWh. RAM Power : 0.08781766891479492 W\n",
      "[codecarbon DEBUG @ 11:34:18] RAM : 0.09 W during 14.98 s [measurement time: 0.0118]\n",
      "[codecarbon INFO @ 11:34:18] Energy consumed for all CPUs : 0.014163 kWh. Total CPU Power : 42.5 W\n",
      "[codecarbon DEBUG @ 11:34:18] CPU : 42.50 W during 15.00 s [measurement time: 0.0004]\n",
      "[codecarbon INFO @ 11:34:18] Energy consumed for all GPUs : 0.004722 kWh. Total GPU Power : 14.748630159294356 W\n",
      "[codecarbon DEBUG @ 11:34:18] GPU : 14.75 W during 15.00 s [measurement time: 0.0020]\n",
      "[codecarbon INFO @ 11:34:18] 0.018914 kWh of electricity used since the beginning.\n",
      "[codecarbon DEBUG @ 11:34:18] We apply an energy mix of 174 g.CO2eq/kWh for Spain\n",
      "[codecarbon DEBUG @ 11:34:18] EmissionsData(timestamp='2025-04-13T11:34:18', project_name='codecarbon', run_id='868e486c-ef2f-47f1-8b33-54ddf9c190fd', experiment_id='5b0fa12a-3dd7-45bb-9766-cc326314d9f1', duration=1200.0967493169999, emissions=0.0032919310595027483, emissions_rate=2.7430547256929534e-06, cpu_power=42.5, gpu_power=14.748630159294356, ram_power=0.08781766891479492, cpu_energy=0.014162730919446531, gpu_energy=0.00472175933296, ram_energy=2.921879386034364e-05, energy_consumed=0.018913709046266866, country_name='Spain', country_iso_code='ESP', region=None, cloud_provider='', cloud_region='', os='Linux-6.8.0-57-generic-x86_64-with-glibc2.35', python_version='3.12.9', codecarbon_version='2.8.3', cpu_count=32, cpu_model='13th Gen Intel(R) Core(TM) i9-13900', gpu_count=1, gpu_model='1 x NVIDIA RTX 5000 Ada Generation', longitude=None, latitude=None, ram_total_size=62.50331497192383, tracking_mode='process', on_cloud='N', pue=1.0)\n",
      "[codecarbon INFO @ 11:34:18] 0.002729 g.CO2eq/s mean an estimation of 86.04935579378197 kg.CO2eq/year\n",
      "[codecarbon DEBUG @ 11:34:18] last_duration=14.978022294000084\n",
      "------------------------\n"
     ]
    },
    {
     "name": "stdout",
     "output_type": "stream",
     "text": [
      "[69/1000] ./test/pdf/606.pdf\n"
     ]
    },
    {
     "name": "stderr",
     "output_type": "stream",
     "text": [
      "[codecarbon INFO @ 11:34:33] Energy consumed for RAM : 0.000030 kWh. RAM Power : 0.08781766891479492 W\n",
      "[codecarbon DEBUG @ 11:34:33] RAM : 0.09 W during 14.98 s [measurement time: 0.0112]\n",
      "[codecarbon INFO @ 11:34:33] Energy consumed for all CPUs : 0.014340 kWh. Total CPU Power : 42.5 W\n",
      "[codecarbon DEBUG @ 11:34:33] CPU : 42.50 W during 14.99 s [measurement time: 0.0002]\n",
      "[codecarbon INFO @ 11:34:33] Energy consumed for all GPUs : 0.004788 kWh. Total GPU Power : 15.861534273223354 W\n",
      "[codecarbon DEBUG @ 11:34:33] GPU : 15.86 W during 14.99 s [measurement time: 0.0022]\n",
      "[codecarbon INFO @ 11:34:33] 0.019157 kWh of electricity used since the beginning.\n",
      "[codecarbon DEBUG @ 11:34:33] last_duration=14.975103789999821\n",
      "------------------------\n",
      "[codecarbon INFO @ 11:34:48] Energy consumed for RAM : 0.000030 kWh. RAM Power : 0.08781766891479492 W\n",
      "[codecarbon DEBUG @ 11:34:48] RAM : 0.09 W during 14.98 s [measurement time: 0.0147]\n",
      "[codecarbon INFO @ 11:34:48] Energy consumed for all CPUs : 0.014517 kWh. Total CPU Power : 42.5 W\n",
      "[codecarbon DEBUG @ 11:34:48] CPU : 42.50 W during 15.00 s [measurement time: 0.0004]\n",
      "[codecarbon INFO @ 11:34:48] Energy consumed for all GPUs : 0.004856 kWh. Total GPU Power : 16.255032534170347 W\n",
      "[codecarbon DEBUG @ 11:34:48] GPU : 16.26 W during 15.01 s [measurement time: 0.0042]\n",
      "[codecarbon INFO @ 11:34:48] 0.019402 kWh of electricity used since the beginning.\n",
      "[codecarbon DEBUG @ 11:34:48] last_duration=14.982534825999892\n",
      "------------------------\n"
     ]
    },
    {
     "name": "stdout",
     "output_type": "stream",
     "text": [
      "[70/1000] ./test/pdf/607.pdf\n"
     ]
    },
    {
     "name": "stderr",
     "output_type": "stream",
     "text": [
      "[codecarbon INFO @ 11:35:03] Energy consumed for RAM : 0.000030 kWh. RAM Power : 0.08781766891479492 W\n",
      "[codecarbon DEBUG @ 11:35:03] RAM : 0.09 W during 14.97 s [measurement time: 0.0118]\n",
      "[codecarbon INFO @ 11:35:03] Energy consumed for all CPUs : 0.014694 kWh. Total CPU Power : 42.5 W\n",
      "[codecarbon DEBUG @ 11:35:03] CPU : 42.50 W during 14.99 s [measurement time: 0.0007]\n",
      "[codecarbon INFO @ 11:35:03] Energy consumed for all GPUs : 0.004917 kWh. Total GPU Power : 14.769802517314847 W\n",
      "[codecarbon DEBUG @ 11:35:03] GPU : 14.77 W during 14.99 s [measurement time: 0.0045]\n",
      "[codecarbon INFO @ 11:35:03] 0.019641 kWh of electricity used since the beginning.\n",
      "[codecarbon DEBUG @ 11:35:03] last_duration=14.972867266999856\n",
      "------------------------\n"
     ]
    },
    {
     "name": "stdout",
     "output_type": "stream",
     "text": [
      "[71/1000] ./test/pdf/608.pdf\n"
     ]
    },
    {
     "name": "stderr",
     "output_type": "stream",
     "text": [
      "[codecarbon INFO @ 11:35:18] Energy consumed for RAM : 0.000031 kWh. RAM Power : 0.08781766891479492 W\n",
      "[codecarbon DEBUG @ 11:35:18] RAM : 0.09 W during 14.97 s [measurement time: 0.0139]\n",
      "[codecarbon INFO @ 11:35:18] Energy consumed for all CPUs : 0.014871 kWh. Total CPU Power : 42.5 W\n",
      "[codecarbon DEBUG @ 11:35:18] CPU : 42.50 W during 15.00 s [measurement time: 0.0004]\n",
      "[codecarbon INFO @ 11:35:18] Energy consumed for all GPUs : 0.004973 kWh. Total GPU Power : 13.456722470076148 W\n",
      "[codecarbon DEBUG @ 11:35:18] GPU : 13.46 W during 15.00 s [measurement time: 0.0027]\n",
      "[codecarbon INFO @ 11:35:18] 0.019875 kWh of electricity used since the beginning.\n",
      "[codecarbon DEBUG @ 11:35:18] last_duration=14.97451927599991\n",
      "------------------------\n"
     ]
    },
    {
     "name": "stdout",
     "output_type": "stream",
     "text": [
      "[72/1000] ./test/pdf/609.pdf\n"
     ]
    },
    {
     "name": "stderr",
     "output_type": "stream",
     "text": [
      "[codecarbon INFO @ 11:35:33] Energy consumed for RAM : 0.000031 kWh. RAM Power : 0.08790922164916992 W\n",
      "[codecarbon DEBUG @ 11:35:33] RAM : 0.09 W during 14.97 s [measurement time: 0.0110]\n",
      "[codecarbon INFO @ 11:35:33] Energy consumed for all CPUs : 0.015048 kWh. Total CPU Power : 42.5 W\n",
      "[codecarbon DEBUG @ 11:35:33] CPU : 42.50 W during 14.99 s [measurement time: 0.0005]\n",
      "[codecarbon INFO @ 11:35:33] Energy consumed for all GPUs : 0.005027 kWh. Total GPU Power : 13.026558756208287 W\n",
      "[codecarbon DEBUG @ 11:35:33] GPU : 13.03 W during 14.99 s [measurement time: 0.0054]\n",
      "[codecarbon INFO @ 11:35:33] 0.020106 kWh of electricity used since the beginning.\n",
      "[codecarbon DEBUG @ 11:35:33] last_duration=14.973164069999939\n",
      "------------------------\n",
      "[codecarbon INFO @ 11:35:48] Energy consumed for RAM : 0.000031 kWh. RAM Power : 0.08790922164916992 W\n",
      "[codecarbon DEBUG @ 11:35:48] RAM : 0.09 W during 14.98 s [measurement time: 0.0148]\n",
      "[codecarbon INFO @ 11:35:48] Energy consumed for all CPUs : 0.015225 kWh. Total CPU Power : 42.5 W\n",
      "[codecarbon DEBUG @ 11:35:48] CPU : 42.50 W during 15.00 s [measurement time: 0.0003]\n",
      "[codecarbon INFO @ 11:35:48] Energy consumed for all GPUs : 0.005085 kWh. Total GPU Power : 13.896402736580795 W\n",
      "[codecarbon DEBUG @ 11:35:48] GPU : 13.90 W during 15.00 s [measurement time: 0.0019]\n",
      "[codecarbon INFO @ 11:35:48] 0.020342 kWh of electricity used since the beginning.\n",
      "[codecarbon DEBUG @ 11:35:48] last_duration=14.976433007999958\n",
      "------------------------\n"
     ]
    },
    {
     "name": "stdout",
     "output_type": "stream",
     "text": [
      "[73/1000] ./test/pdf/61.pdf\n"
     ]
    },
    {
     "name": "stderr",
     "output_type": "stream",
     "text": [
      "[codecarbon INFO @ 11:36:03] Energy consumed for RAM : 0.000032 kWh. RAM Power : 0.08790922164916992 W\n",
      "[codecarbon DEBUG @ 11:36:03] RAM : 0.09 W during 14.98 s [measurement time: 0.0107]\n",
      "[codecarbon INFO @ 11:36:03] Energy consumed for all CPUs : 0.015402 kWh. Total CPU Power : 42.5 W\n",
      "[codecarbon DEBUG @ 11:36:03] CPU : 42.50 W during 15.00 s [measurement time: 0.0014]\n",
      "[codecarbon INFO @ 11:36:03] Energy consumed for all GPUs : 0.005141 kWh. Total GPU Power : 13.334363498486308 W\n",
      "[codecarbon DEBUG @ 11:36:03] GPU : 13.33 W during 15.00 s [measurement time: 0.0028]\n",
      "[codecarbon INFO @ 11:36:03] 0.020575 kWh of electricity used since the beginning.\n",
      "[codecarbon DEBUG @ 11:36:03] last_duration=14.978621658000066\n",
      "------------------------\n",
      "[codecarbon INFO @ 11:36:18] Energy consumed for RAM : 0.000032 kWh. RAM Power : 0.08790922164916992 W\n",
      "[codecarbon DEBUG @ 11:36:18] RAM : 0.09 W during 14.98 s [measurement time: 0.0147]\n",
      "[codecarbon INFO @ 11:36:18] Energy consumed for all CPUs : 0.015579 kWh. Total CPU Power : 42.5 W\n",
      "[codecarbon DEBUG @ 11:36:18] CPU : 42.50 W during 15.00 s [measurement time: 0.0006]\n",
      "[codecarbon INFO @ 11:36:18] Energy consumed for all GPUs : 0.005198 kWh. Total GPU Power : 13.661305996086487 W\n",
      "[codecarbon DEBUG @ 11:36:18] GPU : 13.66 W during 15.00 s [measurement time: 0.0022]\n",
      "[codecarbon INFO @ 11:36:18] 0.020809 kWh of electricity used since the beginning.\n",
      "[codecarbon DEBUG @ 11:36:18] We apply an energy mix of 174 g.CO2eq/kWh for Spain\n",
      "[codecarbon DEBUG @ 11:36:18] EmissionsData(timestamp='2025-04-13T11:36:18', project_name='codecarbon', run_id='868e486c-ef2f-47f1-8b33-54ddf9c190fd', experiment_id='5b0fa12a-3dd7-45bb-9766-cc326314d9f1', duration=1320.103556526, emissions=0.003621786306456545, emissions_rate=2.7435622671812815e-06, cpu_power=42.5, gpu_power=13.661305996086487, ram_power=0.08790922164916992, cpu_energy=0.015578991370251392, gpu_energy=0.00519774999153, ram_energy=3.214290398445133e-05, energy_consumed=0.020808884265765843, country_name='Spain', country_iso_code='ESP', region=None, cloud_provider='', cloud_region='', os='Linux-6.8.0-57-generic-x86_64-with-glibc2.35', python_version='3.12.9', codecarbon_version='2.8.3', cpu_count=32, cpu_model='13th Gen Intel(R) Core(TM) i9-13900', gpu_count=1, gpu_model='1 x NVIDIA RTX 5000 Ada Generation', longitude=None, latitude=None, ram_total_size=62.50331497192383, tracking_mode='process', on_cloud='N', pue=1.0)\n",
      "[codecarbon INFO @ 11:36:18] 0.002749 g.CO2eq/s mean an estimation of 86.68104176639409 kg.CO2eq/year\n",
      "[codecarbon DEBUG @ 11:36:18] last_duration=14.975263970000015\n",
      "------------------------\n"
     ]
    },
    {
     "name": "stdout",
     "output_type": "stream",
     "text": [
      "[74/1000] ./test/pdf/610.pdf\n"
     ]
    },
    {
     "name": "stderr",
     "output_type": "stream",
     "text": [
      "[codecarbon INFO @ 11:36:33] Energy consumed for RAM : 0.000033 kWh. RAM Power : 0.08790922164916992 W\n",
      "[codecarbon DEBUG @ 11:36:33] RAM : 0.09 W during 14.98 s [measurement time: 0.0153]\n",
      "[codecarbon INFO @ 11:36:33] Energy consumed for all CPUs : 0.015756 kWh. Total CPU Power : 42.5 W\n",
      "[codecarbon DEBUG @ 11:36:33] CPU : 42.50 W during 15.00 s [measurement time: 0.0004]\n",
      "[codecarbon INFO @ 11:36:33] Energy consumed for all GPUs : 0.005254 kWh. Total GPU Power : 13.461687226263207 W\n",
      "[codecarbon DEBUG @ 11:36:33] GPU : 13.46 W during 15.00 s [measurement time: 0.0022]\n",
      "[codecarbon INFO @ 11:36:33] 0.021042 kWh of electricity used since the beginning.\n",
      "[codecarbon DEBUG @ 11:36:33] last_duration=14.975713180000184\n",
      "------------------------\n",
      "[codecarbon INFO @ 11:36:48] Energy consumed for RAM : 0.000033 kWh. RAM Power : 0.08790922164916992 W\n",
      "[codecarbon DEBUG @ 11:36:48] RAM : 0.09 W during 14.98 s [measurement time: 0.0146]\n",
      "[codecarbon INFO @ 11:36:48] Energy consumed for all CPUs : 0.015933 kWh. Total CPU Power : 42.5 W\n",
      "[codecarbon DEBUG @ 11:36:48] CPU : 42.50 W during 15.00 s [measurement time: 0.0005]\n",
      "[codecarbon INFO @ 11:36:48] Energy consumed for all GPUs : 0.005312 kWh. Total GPU Power : 13.990870355951927 W\n",
      "[codecarbon DEBUG @ 11:36:48] GPU : 13.99 W during 15.00 s [measurement time: 0.0029]\n",
      "[codecarbon INFO @ 11:36:48] 0.021278 kWh of electricity used since the beginning.\n",
      "[codecarbon DEBUG @ 11:36:48] last_duration=14.977030917000093\n",
      "------------------------\n"
     ]
    },
    {
     "name": "stdout",
     "output_type": "stream",
     "text": [
      "[75/1000] ./test/pdf/611.pdf\n",
      "[76/1000] ./test/pdf/612.pdf\n"
     ]
    },
    {
     "name": "stderr",
     "output_type": "stream",
     "text": [
      "[codecarbon INFO @ 11:37:03] Energy consumed for RAM : 0.000033 kWh. RAM Power : 0.08790922164916992 W\n",
      "[codecarbon DEBUG @ 11:37:03] RAM : 0.09 W during 14.97 s [measurement time: 0.0136]\n",
      "[codecarbon INFO @ 11:37:03] Energy consumed for all CPUs : 0.016110 kWh. Total CPU Power : 42.5 W\n",
      "[codecarbon DEBUG @ 11:37:03] CPU : 42.50 W during 15.00 s [measurement time: 0.0007]\n",
      "[codecarbon INFO @ 11:37:03] Energy consumed for all GPUs : 0.005367 kWh. Total GPU Power : 13.208862650697144 W\n",
      "[codecarbon DEBUG @ 11:37:03] GPU : 13.21 W during 15.00 s [measurement time: 0.0023]\n",
      "[codecarbon INFO @ 11:37:03] 0.021511 kWh of electricity used since the beginning.\n",
      "[codecarbon DEBUG @ 11:37:03] last_duration=14.973011368000016\n",
      "------------------------\n"
     ]
    },
    {
     "name": "stdout",
     "output_type": "stream",
     "text": [
      "[77/1000] ./test/pdf/613.pdf\n"
     ]
    },
    {
     "name": "stderr",
     "output_type": "stream",
     "text": [
      "[codecarbon INFO @ 11:37:18] Energy consumed for RAM : 0.000034 kWh. RAM Power : 0.08790922164916992 W\n",
      "[codecarbon DEBUG @ 11:37:18] RAM : 0.09 W during 14.97 s [measurement time: 0.0156]\n",
      "[codecarbon INFO @ 11:37:18] Energy consumed for all CPUs : 0.016287 kWh. Total CPU Power : 42.5 W\n",
      "[codecarbon DEBUG @ 11:37:18] CPU : 42.50 W during 14.99 s [measurement time: 0.0003]\n",
      "[codecarbon INFO @ 11:37:18] Energy consumed for all GPUs : 0.005421 kWh. Total GPU Power : 12.888383227721308 W\n",
      "[codecarbon DEBUG @ 11:37:18] GPU : 12.89 W during 14.99 s [measurement time: 0.0020]\n",
      "[codecarbon INFO @ 11:37:18] 0.021742 kWh of electricity used since the beginning.\n",
      "[codecarbon DEBUG @ 11:37:18] last_duration=14.966905953999913\n",
      "------------------------\n",
      "[codecarbon INFO @ 11:37:33] Energy consumed for RAM : 0.000034 kWh. RAM Power : 0.08790922164916992 W\n",
      "[codecarbon DEBUG @ 11:37:33] RAM : 0.09 W during 14.97 s [measurement time: 0.0139]\n",
      "[codecarbon INFO @ 11:37:33] Energy consumed for all CPUs : 0.016464 kWh. Total CPU Power : 42.5 W\n",
      "[codecarbon DEBUG @ 11:37:33] CPU : 42.50 W during 14.99 s [measurement time: 0.0004]\n",
      "[codecarbon INFO @ 11:37:33] Energy consumed for all GPUs : 0.005477 kWh. Total GPU Power : 13.400635182650072 W\n",
      "[codecarbon DEBUG @ 11:37:33] GPU : 13.40 W during 14.99 s [measurement time: 0.0022]\n",
      "[codecarbon INFO @ 11:37:33] 0.021975 kWh of electricity used since the beginning.\n",
      "[codecarbon DEBUG @ 11:37:33] last_duration=14.974480643000106\n",
      "------------------------\n"
     ]
    },
    {
     "name": "stdout",
     "output_type": "stream",
     "text": [
      "[78/1000] ./test/pdf/614.pdf\n"
     ]
    },
    {
     "name": "stderr",
     "output_type": "stream",
     "text": [
      "[codecarbon INFO @ 11:37:48] Energy consumed for RAM : 0.000034 kWh. RAM Power : 0.08790922164916992 W\n",
      "[codecarbon DEBUG @ 11:37:48] RAM : 0.09 W during 14.98 s [measurement time: 0.0084]\n",
      "[codecarbon INFO @ 11:37:48] Energy consumed for all CPUs : 0.016641 kWh. Total CPU Power : 42.5 W\n",
      "[codecarbon DEBUG @ 11:37:48] CPU : 42.50 W during 14.99 s [measurement time: 0.0003]\n",
      "[codecarbon INFO @ 11:37:48] Energy consumed for all GPUs : 0.005530 kWh. Total GPU Power : 12.788139113813001 W\n",
      "[codecarbon DEBUG @ 11:37:48] GPU : 12.79 W during 14.99 s [measurement time: 0.0029]\n",
      "[codecarbon INFO @ 11:37:48] 0.022205 kWh of electricity used since the beginning.\n",
      "[codecarbon DEBUG @ 11:37:48] last_duration=14.977765535999879\n",
      "------------------------\n"
     ]
    },
    {
     "name": "stdout",
     "output_type": "stream",
     "text": [
      "[79/1000] ./test/pdf/615.pdf\n"
     ]
    },
    {
     "name": "stderr",
     "output_type": "stream",
     "text": [
      "[codecarbon INFO @ 11:38:03] Energy consumed for RAM : 0.000035 kWh. RAM Power : 0.08790922164916992 W\n",
      "[codecarbon DEBUG @ 11:38:03] RAM : 0.09 W during 14.98 s [measurement time: 0.0109]\n",
      "[codecarbon INFO @ 11:38:03] Energy consumed for all CPUs : 0.016818 kWh. Total CPU Power : 42.5 W\n",
      "[codecarbon DEBUG @ 11:38:03] CPU : 42.50 W during 15.00 s [measurement time: 0.0006]\n",
      "[codecarbon INFO @ 11:38:03] Energy consumed for all GPUs : 0.005585 kWh. Total GPU Power : 13.238672416461567 W\n",
      "[codecarbon DEBUG @ 11:38:03] GPU : 13.24 W during 15.00 s [measurement time: 0.0028]\n",
      "[codecarbon INFO @ 11:38:03] 0.022438 kWh of electricity used since the beginning.\n",
      "[codecarbon DEBUG @ 11:38:03] last_duration=14.982837315000097\n",
      "------------------------\n"
     ]
    },
    {
     "name": "stdout",
     "output_type": "stream",
     "text": [
      "[80/1000] ./test/pdf/616.pdf\n"
     ]
    },
    {
     "name": "stderr",
     "output_type": "stream",
     "text": [
      "[codecarbon INFO @ 11:38:18] Energy consumed for RAM : 0.000035 kWh. RAM Power : 0.08790922164916992 W\n",
      "[codecarbon DEBUG @ 11:38:18] RAM : 0.09 W during 14.98 s [measurement time: 0.0173]\n",
      "[codecarbon INFO @ 11:38:18] Energy consumed for all CPUs : 0.016995 kWh. Total CPU Power : 42.5 W\n",
      "[codecarbon DEBUG @ 11:38:18] CPU : 42.50 W during 15.00 s [measurement time: 0.0003]\n",
      "[codecarbon INFO @ 11:38:18] Energy consumed for all GPUs : 0.005633 kWh. Total GPU Power : 11.577147031313991 W\n",
      "[codecarbon DEBUG @ 11:38:18] GPU : 11.58 W during 15.00 s [measurement time: 0.0059]\n",
      "[codecarbon INFO @ 11:38:18] 0.022664 kWh of electricity used since the beginning.\n",
      "[codecarbon DEBUG @ 11:38:18] We apply an energy mix of 174 g.CO2eq/kWh for Spain\n",
      "[codecarbon DEBUG @ 11:38:18] EmissionsData(timestamp='2025-04-13T11:38:18', project_name='codecarbon', run_id='868e486c-ef2f-47f1-8b33-54ddf9c190fd', experiment_id='5b0fa12a-3dd7-45bb-9766-cc326314d9f1', duration=1440.11799122, emissions=0.00394463608407222, emissions_rate=2.7391061761061054e-06, cpu_power=42.5, gpu_power=11.577147031313991, ram_power=0.08790922164916992, cpu_energy=0.016995401805386116, gpu_energy=0.005633339506668, ram_energy=3.506842119621693e-05, energy_consumed=0.022663809733250332, country_name='Spain', country_iso_code='ESP', region=None, cloud_provider='', cloud_region='', os='Linux-6.8.0-57-generic-x86_64-with-glibc2.35', python_version='3.12.9', codecarbon_version='2.8.3', cpu_count=32, cpu_model='13th Gen Intel(R) Core(TM) i9-13900', gpu_count=1, gpu_model='1 x NVIDIA RTX 5000 Ada Generation', longitude=None, latitude=None, ram_total_size=62.50331497192383, tracking_mode='process', on_cloud='N', pue=1.0)\n",
      "[codecarbon INFO @ 11:38:18] 0.002690 g.CO2eq/s mean an estimation of 84.83471686424507 kg.CO2eq/year\n",
      "[codecarbon DEBUG @ 11:38:18] last_duration=14.976007971999934\n",
      "------------------------\n",
      "[codecarbon INFO @ 11:38:33] Energy consumed for RAM : 0.000035 kWh. RAM Power : 0.08790922164916992 W\n",
      "[codecarbon DEBUG @ 11:38:33] RAM : 0.09 W during 14.97 s [measurement time: 0.0134]\n",
      "[codecarbon INFO @ 11:38:33] Energy consumed for all CPUs : 0.017172 kWh. Total CPU Power : 42.5 W\n",
      "[codecarbon DEBUG @ 11:38:33] CPU : 42.50 W during 14.99 s [measurement time: 0.0006]\n",
      "[codecarbon INFO @ 11:38:33] Energy consumed for all GPUs : 0.005687 kWh. Total GPU Power : 12.828750110380197 W\n",
      "[codecarbon DEBUG @ 11:38:33] GPU : 12.83 W during 14.99 s [measurement time: 0.0041]\n",
      "[codecarbon INFO @ 11:38:33] 0.022895 kWh of electricity used since the beginning.\n",
      "[codecarbon DEBUG @ 11:38:33] last_duration=14.967477072000065\n",
      "------------------------\n"
     ]
    },
    {
     "name": "stdout",
     "output_type": "stream",
     "text": [
      "[81/1000] ./test/pdf/617.pdf\n"
     ]
    },
    {
     "name": "stderr",
     "output_type": "stream",
     "text": [
      "[codecarbon INFO @ 11:38:48] Energy consumed for RAM : 0.000036 kWh. RAM Power : 0.08790922164916992 W\n",
      "[codecarbon DEBUG @ 11:38:48] RAM : 0.09 W during 14.97 s [measurement time: 0.0196]\n",
      "[codecarbon INFO @ 11:38:48] Energy consumed for all CPUs : 0.017349 kWh. Total CPU Power : 42.5 W\n",
      "[codecarbon DEBUG @ 11:38:48] CPU : 42.50 W during 15.00 s [measurement time: 0.0002]\n",
      "[codecarbon INFO @ 11:38:48] Energy consumed for all GPUs : 0.005738 kWh. Total GPU Power : 12.222347413945299 W\n",
      "[codecarbon DEBUG @ 11:38:48] GPU : 12.22 W during 15.00 s [measurement time: 0.0025]\n",
      "[codecarbon INFO @ 11:38:48] 0.023123 kWh of electricity used since the beginning.\n",
      "[codecarbon DEBUG @ 11:38:48] last_duration=14.973120533000156\n",
      "------------------------\n"
     ]
    },
    {
     "name": "stdout",
     "output_type": "stream",
     "text": [
      "[82/1000] ./test/pdf/618.pdf\n"
     ]
    },
    {
     "name": "stderr",
     "output_type": "stream",
     "text": [
      "[codecarbon INFO @ 11:39:03] Energy consumed for RAM : 0.000036 kWh. RAM Power : 0.08790922164916992 W\n",
      "[codecarbon DEBUG @ 11:39:03] RAM : 0.09 W during 14.97 s [measurement time: 0.0156]\n",
      "[codecarbon INFO @ 11:39:03] Energy consumed for all CPUs : 0.017526 kWh. Total CPU Power : 42.5 W\n",
      "[codecarbon DEBUG @ 11:39:03] CPU : 42.50 W during 15.00 s [measurement time: 0.0002]\n",
      "[codecarbon INFO @ 11:39:03] Energy consumed for all GPUs : 0.005796 kWh. Total GPU Power : 13.995991370570676 W\n",
      "[codecarbon DEBUG @ 11:39:03] GPU : 14.00 W during 15.00 s [measurement time: 0.0018]\n",
      "[codecarbon INFO @ 11:39:03] 0.023359 kWh of electricity used since the beginning.\n",
      "[codecarbon DEBUG @ 11:39:03] last_duration=14.973054367000032\n",
      "------------------------\n"
     ]
    },
    {
     "name": "stdout",
     "output_type": "stream",
     "text": [
      "[83/1000] ./test/pdf/619.pdf\n"
     ]
    },
    {
     "name": "stderr",
     "output_type": "stream",
     "text": [
      "[codecarbon INFO @ 11:39:18] Energy consumed for RAM : 0.000037 kWh. RAM Power : 0.08790922164916992 W\n",
      "[codecarbon DEBUG @ 11:39:18] RAM : 0.09 W during 14.97 s [measurement time: 0.0165]\n",
      "[codecarbon INFO @ 11:39:18] Energy consumed for all CPUs : 0.017704 kWh. Total CPU Power : 42.5 W\n",
      "[codecarbon DEBUG @ 11:39:18] CPU : 42.50 W during 15.00 s [measurement time: 0.0008]\n",
      "[codecarbon INFO @ 11:39:18] Energy consumed for all GPUs : 0.005853 kWh. Total GPU Power : 13.662615406040192 W\n",
      "[codecarbon DEBUG @ 11:39:18] GPU : 13.66 W during 15.00 s [measurement time: 0.0036]\n",
      "[codecarbon INFO @ 11:39:18] 0.023593 kWh of electricity used since the beginning.\n",
      "[codecarbon DEBUG @ 11:39:18] last_duration=14.972853074999875\n",
      "------------------------\n",
      "[codecarbon INFO @ 11:39:33] Energy consumed for RAM : 0.000037 kWh. RAM Power : 0.08790922164916992 W\n",
      "[codecarbon DEBUG @ 11:39:33] RAM : 0.09 W during 14.97 s [measurement time: 0.0134]\n",
      "[codecarbon INFO @ 11:39:33] Energy consumed for all CPUs : 0.017881 kWh. Total CPU Power : 42.5 W\n",
      "[codecarbon DEBUG @ 11:39:33] CPU : 42.50 W during 15.00 s [measurement time: 0.0010]\n",
      "[codecarbon INFO @ 11:39:33] Energy consumed for all GPUs : 0.005907 kWh. Total GPU Power : 13.052411392365736 W\n",
      "[codecarbon DEBUG @ 11:39:33] GPU : 13.05 W during 15.00 s [measurement time: 0.0029]\n",
      "[codecarbon INFO @ 11:39:33] 0.023825 kWh of electricity used since the beginning.\n",
      "[codecarbon DEBUG @ 11:39:33] last_duration=14.966605664999861\n",
      "------------------------\n"
     ]
    },
    {
     "name": "stdout",
     "output_type": "stream",
     "text": [
      "[84/1000] ./test/pdf/62.pdf\n"
     ]
    },
    {
     "name": "stderr",
     "output_type": "stream",
     "text": [
      "[codecarbon INFO @ 11:39:48] Energy consumed for RAM : 0.000037 kWh. RAM Power : 0.08790922164916992 W\n",
      "[codecarbon DEBUG @ 11:39:48] RAM : 0.09 W during 14.97 s [measurement time: 0.0151]\n",
      "[codecarbon INFO @ 11:39:48] Energy consumed for all CPUs : 0.018058 kWh. Total CPU Power : 42.5 W\n",
      "[codecarbon DEBUG @ 11:39:48] CPU : 42.50 W during 15.00 s [measurement time: 0.0008]\n",
      "[codecarbon INFO @ 11:39:48] Energy consumed for all GPUs : 0.005963 kWh. Total GPU Power : 13.381316410050326 W\n",
      "[codecarbon DEBUG @ 11:39:48] GPU : 13.38 W during 15.00 s [measurement time: 0.0024]\n",
      "[codecarbon INFO @ 11:39:48] 0.024058 kWh of electricity used since the beginning.\n",
      "[codecarbon DEBUG @ 11:39:48] last_duration=14.965405365000152\n",
      "------------------------\n"
     ]
    },
    {
     "name": "stdout",
     "output_type": "stream",
     "text": [
      "[85/1000] ./test/pdf/620.pdf\n"
     ]
    },
    {
     "name": "stderr",
     "output_type": "stream",
     "text": [
      "[codecarbon INFO @ 11:40:03] Energy consumed for RAM : 0.000038 kWh. RAM Power : 0.08790922164916992 W\n",
      "[codecarbon DEBUG @ 11:40:03] RAM : 0.09 W during 14.96 s [measurement time: 0.0147]\n",
      "[codecarbon INFO @ 11:40:03] Energy consumed for all CPUs : 0.018235 kWh. Total CPU Power : 42.5 W\n",
      "[codecarbon DEBUG @ 11:40:03] CPU : 42.50 W during 14.98 s [measurement time: 0.0003]\n",
      "[codecarbon INFO @ 11:40:03] Energy consumed for all GPUs : 0.006020 kWh. Total GPU Power : 13.628175657487901 W\n",
      "[codecarbon DEBUG @ 11:40:03] GPU : 13.63 W during 14.99 s [measurement time: 0.0047]\n",
      "[codecarbon INFO @ 11:40:03] 0.024292 kWh of electricity used since the beginning.\n",
      "[codecarbon DEBUG @ 11:40:03] last_duration=14.964881264000041\n",
      "------------------------\n",
      "[codecarbon INFO @ 11:40:18] Energy consumed for RAM : 0.000038 kWh. RAM Power : 0.08790922164916992 W\n",
      "[codecarbon DEBUG @ 11:40:18] RAM : 0.09 W during 14.97 s [measurement time: 0.0149]\n",
      "[codecarbon INFO @ 11:40:18] Energy consumed for all CPUs : 0.018412 kWh. Total CPU Power : 42.5 W\n",
      "[codecarbon DEBUG @ 11:40:18] CPU : 42.50 W during 15.00 s [measurement time: 0.0005]\n",
      "[codecarbon INFO @ 11:40:18] Energy consumed for all GPUs : 0.006076 kWh. Total GPU Power : 13.423405349050624 W\n",
      "[codecarbon DEBUG @ 11:40:18] GPU : 13.42 W during 15.00 s [measurement time: 0.0026]\n",
      "[codecarbon INFO @ 11:40:18] 0.024525 kWh of electricity used since the beginning.\n",
      "[codecarbon DEBUG @ 11:40:18] We apply an energy mix of 174 g.CO2eq/kWh for Spain\n",
      "[codecarbon DEBUG @ 11:40:18] EmissionsData(timestamp='2025-04-13T11:40:18', project_name='codecarbon', run_id='868e486c-ef2f-47f1-8b33-54ddf9c190fd', experiment_id='5b0fa12a-3dd7-45bb-9766-cc326314d9f1', duration=1560.120289603, emissions=0.0042686272524613865, emissions_rate=2.736088544523457e-06, cpu_power=42.5, gpu_power=13.423405349050624, ram_power=0.08790922164916992, cpu_energy=0.01841159592973473, gpu_energy=0.006075704305004, ram_energy=3.799279865044326e-05, energy_consumed=0.024525293033389177, country_name='Spain', country_iso_code='ESP', region=None, cloud_provider='', cloud_region='', os='Linux-6.8.0-57-generic-x86_64-with-glibc2.35', python_version='3.12.9', codecarbon_version='2.8.3', cpu_count=32, cpu_model='13th Gen Intel(R) Core(TM) i9-13900', gpu_count=1, gpu_model='1 x NVIDIA RTX 5000 Ada Generation', longitude=None, latitude=None, ram_total_size=62.50331497192383, tracking_mode='process', on_cloud='N', pue=1.0)\n",
      "[codecarbon INFO @ 11:40:18] 0.002700 g.CO2eq/s mean an estimation of 85.1432482877194 kg.CO2eq/year\n",
      "[codecarbon DEBUG @ 11:40:18] last_duration=14.973672872999941\n",
      "------------------------\n"
     ]
    },
    {
     "name": "stdout",
     "output_type": "stream",
     "text": [
      "[86/1000] ./test/pdf/621.pdf\n"
     ]
    },
    {
     "name": "stderr",
     "output_type": "stream",
     "text": [
      "[codecarbon INFO @ 11:40:33] Energy consumed for RAM : 0.000038 kWh. RAM Power : 0.08790922164916992 W\n",
      "[codecarbon DEBUG @ 11:40:33] RAM : 0.09 W during 14.97 s [measurement time: 0.0137]\n",
      "[codecarbon INFO @ 11:40:33] Energy consumed for all CPUs : 0.018589 kWh. Total CPU Power : 42.5 W\n",
      "[codecarbon DEBUG @ 11:40:33] CPU : 42.50 W during 14.99 s [measurement time: 0.0007]\n",
      "[codecarbon INFO @ 11:40:33] Energy consumed for all GPUs : 0.006129 kWh. Total GPU Power : 12.74687390953922 W\n",
      "[codecarbon DEBUG @ 11:40:33] GPU : 12.75 W during 15.00 s [measurement time: 0.0026]\n",
      "[codecarbon INFO @ 11:40:33] 0.024756 kWh of electricity used since the beginning.\n",
      "[codecarbon DEBUG @ 11:40:33] last_duration=14.971923495000055\n",
      "------------------------\n"
     ]
    },
    {
     "name": "stdout",
     "output_type": "stream",
     "text": [
      "[87/1000] ./test/pdf/622.pdf\n"
     ]
    },
    {
     "name": "stderr",
     "output_type": "stream",
     "text": [
      "[codecarbon INFO @ 11:40:48] Energy consumed for RAM : 0.000039 kWh. RAM Power : 0.08790922164916992 W\n",
      "[codecarbon DEBUG @ 11:40:48] RAM : 0.09 W during 14.97 s [measurement time: 0.0154]\n",
      "[codecarbon INFO @ 11:40:48] Energy consumed for all CPUs : 0.018766 kWh. Total CPU Power : 42.5 W\n",
      "[codecarbon DEBUG @ 11:40:48] CPU : 42.50 W during 14.99 s [measurement time: 0.0005]\n",
      "[codecarbon INFO @ 11:40:48] Energy consumed for all GPUs : 0.006189 kWh. Total GPU Power : 14.354734547196431 W\n",
      "[codecarbon DEBUG @ 11:40:48] GPU : 14.35 W during 14.99 s [measurement time: 0.0022]\n",
      "[codecarbon INFO @ 11:40:48] 0.024993 kWh of electricity used since the beginning.\n",
      "[codecarbon DEBUG @ 11:40:48] last_duration=14.972867408999946\n",
      "------------------------\n",
      "[codecarbon INFO @ 11:41:03] Energy consumed for RAM : 0.000039 kWh. RAM Power : 0.08790922164916992 W\n",
      "[codecarbon DEBUG @ 11:41:03] RAM : 0.09 W during 14.98 s [measurement time: 0.0135]\n",
      "[codecarbon INFO @ 11:41:03] Energy consumed for all CPUs : 0.018943 kWh. Total CPU Power : 42.5 W\n",
      "[codecarbon DEBUG @ 11:41:03] CPU : 42.50 W during 15.00 s [measurement time: 0.0006]\n",
      "[codecarbon INFO @ 11:41:03] Energy consumed for all GPUs : 0.006244 kWh. Total GPU Power : 13.277703059787447 W\n",
      "[codecarbon DEBUG @ 11:41:03] GPU : 13.28 W during 15.00 s [measurement time: 0.0031]\n",
      "[codecarbon INFO @ 11:41:03] 0.025226 kWh of electricity used since the beginning.\n",
      "[codecarbon DEBUG @ 11:41:03] last_duration=14.975875896999923\n",
      "------------------------\n"
     ]
    },
    {
     "name": "stdout",
     "output_type": "stream",
     "text": [
      "[88/1000] ./test/pdf/623.pdf\n",
      "[89/1000] ./test/pdf/624.pdf\n"
     ]
    },
    {
     "name": "stderr",
     "output_type": "stream",
     "text": [
      "[codecarbon INFO @ 11:41:18] Energy consumed for RAM : 0.000039 kWh. RAM Power : 0.08790922164916992 W\n",
      "[codecarbon DEBUG @ 11:41:18] RAM : 0.09 W during 14.97 s [measurement time: 0.0138]\n",
      "[codecarbon INFO @ 11:41:18] Energy consumed for all CPUs : 0.019120 kWh. Total CPU Power : 42.5 W\n",
      "[codecarbon DEBUG @ 11:41:18] CPU : 42.50 W during 14.99 s [measurement time: 0.0003]\n",
      "[codecarbon INFO @ 11:41:18] Energy consumed for all GPUs : 0.006303 kWh. Total GPU Power : 14.143978408417412 W\n",
      "[codecarbon DEBUG @ 11:41:18] GPU : 14.14 W during 14.99 s [measurement time: 0.0080]\n",
      "[codecarbon INFO @ 11:41:18] 0.025462 kWh of electricity used since the beginning.\n",
      "[codecarbon DEBUG @ 11:41:18] last_duration=14.971138106999888\n",
      "------------------------\n",
      "[codecarbon INFO @ 11:41:33] Energy consumed for RAM : 0.000040 kWh. RAM Power : 0.08790922164916992 W\n",
      "[codecarbon DEBUG @ 11:41:33] RAM : 0.09 W during 14.97 s [measurement time: 0.0115]\n",
      "[codecarbon INFO @ 11:41:33] Energy consumed for all CPUs : 0.019297 kWh. Total CPU Power : 42.5 W\n",
      "[codecarbon DEBUG @ 11:41:33] CPU : 42.50 W during 14.99 s [measurement time: 0.0003]\n",
      "[codecarbon INFO @ 11:41:33] Energy consumed for all GPUs : 0.006359 kWh. Total GPU Power : 13.440025694525797 W\n",
      "[codecarbon DEBUG @ 11:41:33] GPU : 13.44 W during 14.99 s [measurement time: 0.0033]\n",
      "[codecarbon INFO @ 11:41:33] 0.025695 kWh of electricity used since the beginning.\n",
      "[codecarbon DEBUG @ 11:41:33] last_duration=14.969452344000047\n",
      "------------------------\n",
      "[codecarbon INFO @ 11:41:48] Energy consumed for RAM : 0.000040 kWh. RAM Power : 0.08790922164916992 W\n",
      "[codecarbon DEBUG @ 11:41:48] RAM : 0.09 W during 14.97 s [measurement time: 0.0091]\n",
      "[codecarbon INFO @ 11:41:48] Energy consumed for all CPUs : 0.019474 kWh. Total CPU Power : 42.5 W\n",
      "[codecarbon DEBUG @ 11:41:48] CPU : 42.50 W during 14.99 s [measurement time: 0.0005]\n",
      "[codecarbon INFO @ 11:41:48] Energy consumed for all GPUs : 0.006413 kWh. Total GPU Power : 13.030501709433668 W\n",
      "[codecarbon DEBUG @ 11:41:48] GPU : 13.03 W during 14.99 s [measurement time: 0.0045]\n",
      "[codecarbon INFO @ 11:41:48] 0.025927 kWh of electricity used since the beginning.\n",
      "[codecarbon DEBUG @ 11:41:48] last_duration=14.973686573000123\n",
      "------------------------\n"
     ]
    },
    {
     "name": "stdout",
     "output_type": "stream",
     "text": [
      "[90/1000] ./test/pdf/625.pdf\n"
     ]
    },
    {
     "name": "stderr",
     "output_type": "stream",
     "text": [
      "[codecarbon INFO @ 11:42:03] Energy consumed for RAM : 0.000041 kWh. RAM Power : 0.08790922164916992 W\n",
      "[codecarbon DEBUG @ 11:42:03] RAM : 0.09 W during 14.98 s [measurement time: 0.0152]\n",
      "[codecarbon INFO @ 11:42:03] Energy consumed for all CPUs : 0.019651 kWh. Total CPU Power : 42.5 W\n",
      "[codecarbon DEBUG @ 11:42:03] CPU : 42.50 W during 15.00 s [measurement time: 0.0003]\n",
      "[codecarbon INFO @ 11:42:03] Energy consumed for all GPUs : 0.006469 kWh. Total GPU Power : 13.342657515058447 W\n",
      "[codecarbon DEBUG @ 11:42:03] GPU : 13.34 W during 15.00 s [measurement time: 0.0081]\n",
      "[codecarbon INFO @ 11:42:03] 0.026160 kWh of electricity used since the beginning.\n",
      "[codecarbon DEBUG @ 11:42:03] last_duration=14.977073401000098\n",
      "------------------------\n"
     ]
    },
    {
     "name": "stdout",
     "output_type": "stream",
     "text": [
      "[91/1000] ./test/pdf/626.pdf\n"
     ]
    },
    {
     "name": "stderr",
     "output_type": "stream",
     "text": [
      "[codecarbon INFO @ 11:42:18] Energy consumed for RAM : 0.000041 kWh. RAM Power : 0.08790922164916992 W\n",
      "[codecarbon DEBUG @ 11:42:18] RAM : 0.09 W during 14.97 s [measurement time: 0.0160]\n",
      "[codecarbon INFO @ 11:42:18] Energy consumed for all CPUs : 0.019828 kWh. Total CPU Power : 42.5 W\n",
      "[codecarbon DEBUG @ 11:42:18] CPU : 42.50 W during 15.00 s [measurement time: 0.0009]\n",
      "[codecarbon INFO @ 11:42:18] Energy consumed for all GPUs : 0.006528 kWh. Total GPU Power : 14.337665113730209 W\n",
      "[codecarbon DEBUG @ 11:42:18] GPU : 14.34 W during 15.00 s [measurement time: 0.0034]\n",
      "[codecarbon INFO @ 11:42:18] 0.026397 kWh of electricity used since the beginning.\n",
      "[codecarbon DEBUG @ 11:42:18] We apply an energy mix of 174 g.CO2eq/kWh for Spain\n",
      "[codecarbon DEBUG @ 11:42:18] EmissionsData(timestamp='2025-04-13T11:42:18', project_name='codecarbon', run_id='868e486c-ef2f-47f1-8b33-54ddf9c190fd', experiment_id='5b0fa12a-3dd7-45bb-9766-cc326314d9f1', duration=1680.13579314, emissions=0.004594423859120786, emissions_rate=2.734555074583753e-06, cpu_power=42.5, gpu_power=14.337665113730209, ram_power=0.08790922164916992, cpu_energy=0.019827826246988894, gpu_energy=0.006528405500498, ram_energy=4.091768727774648e-05, energy_consumed=0.026397149434764643, country_name='Spain', country_iso_code='ESP', region=None, cloud_provider='', cloud_region='', os='Linux-6.8.0-57-generic-x86_64-with-glibc2.35', python_version='3.12.9', codecarbon_version='2.8.3', cpu_count=32, cpu_model='13th Gen Intel(R) Core(TM) i9-13900', gpu_count=1, gpu_model='1 x NVIDIA RTX 5000 Ada Generation', longitude=None, latitude=None, ram_total_size=62.50331497192383, tracking_mode='process', on_cloud='N', pue=1.0)\n",
      "[codecarbon INFO @ 11:42:18] 0.002715 g.CO2eq/s mean an estimation of 85.60828796958978 kg.CO2eq/year\n",
      "[codecarbon DEBUG @ 11:42:18] last_duration=14.96594403600011\n",
      "------------------------\n"
     ]
    },
    {
     "name": "stdout",
     "output_type": "stream",
     "text": [
      "[92/1000] ./test/pdf/627.pdf\n"
     ]
    },
    {
     "name": "stderr",
     "output_type": "stream",
     "text": [
      "[codecarbon INFO @ 11:42:33] Energy consumed for RAM : 0.000041 kWh. RAM Power : 0.08790922164916992 W\n",
      "[codecarbon DEBUG @ 11:42:33] RAM : 0.09 W during 14.96 s [measurement time: 0.0149]\n",
      "[codecarbon INFO @ 11:42:33] Energy consumed for all CPUs : 0.020005 kWh. Total CPU Power : 42.5 W\n",
      "[codecarbon DEBUG @ 11:42:33] CPU : 42.50 W during 14.99 s [measurement time: 0.0007]\n",
      "[codecarbon INFO @ 11:42:33] Energy consumed for all GPUs : 0.006586 kWh. Total GPU Power : 13.734290613746033 W\n",
      "[codecarbon DEBUG @ 11:42:33] GPU : 13.73 W during 14.99 s [measurement time: 0.0022]\n",
      "[codecarbon INFO @ 11:42:33] 0.026632 kWh of electricity used since the beginning.\n",
      "[codecarbon DEBUG @ 11:42:33] last_duration=14.962800692999963\n",
      "------------------------\n"
     ]
    },
    {
     "name": "stdout",
     "output_type": "stream",
     "text": [
      "[93/1000] ./test/pdf/628.pdf\n"
     ]
    },
    {
     "name": "stderr",
     "output_type": "stream",
     "text": [
      "[codecarbon INFO @ 11:42:48] Energy consumed for RAM : 0.000042 kWh. RAM Power : 0.08790922164916992 W\n",
      "[codecarbon DEBUG @ 11:42:48] RAM : 0.09 W during 14.97 s [measurement time: 0.0121]\n",
      "[codecarbon INFO @ 11:42:48] Energy consumed for all CPUs : 0.020182 kWh. Total CPU Power : 42.5 W\n",
      "[codecarbon DEBUG @ 11:42:48] CPU : 42.50 W during 14.99 s [measurement time: 0.0005]\n",
      "[codecarbon INFO @ 11:42:48] Energy consumed for all GPUs : 0.006642 kWh. Total GPU Power : 13.494262438828867 W\n",
      "[codecarbon DEBUG @ 11:42:48] GPU : 13.49 W during 14.99 s [measurement time: 0.0048]\n",
      "[codecarbon INFO @ 11:42:48] 0.026865 kWh of electricity used since the beginning.\n",
      "[codecarbon DEBUG @ 11:42:48] last_duration=14.967153373999963\n",
      "------------------------\n"
     ]
    },
    {
     "name": "stdout",
     "output_type": "stream",
     "text": [
      "[94/1000] ./test/pdf/629.pdf\n"
     ]
    },
    {
     "name": "stderr",
     "output_type": "stream",
     "text": [
      "[codecarbon INFO @ 11:43:03] Energy consumed for RAM : 0.000042 kWh. RAM Power : 0.08790922164916992 W\n",
      "[codecarbon DEBUG @ 11:43:03] RAM : 0.09 W during 14.97 s [measurement time: 0.0173]\n",
      "[codecarbon INFO @ 11:43:03] Energy consumed for all CPUs : 0.020359 kWh. Total CPU Power : 42.5 W\n",
      "[codecarbon DEBUG @ 11:43:03] CPU : 42.50 W during 15.00 s [measurement time: 0.0009]\n",
      "[codecarbon INFO @ 11:43:03] Energy consumed for all GPUs : 0.006697 kWh. Total GPU Power : 13.218126705137658 W\n",
      "[codecarbon DEBUG @ 11:43:03] GPU : 13.22 W during 15.00 s [measurement time: 0.0030]\n",
      "[codecarbon INFO @ 11:43:03] 0.027098 kWh of electricity used since the beginning.\n",
      "[codecarbon DEBUG @ 11:43:03] last_duration=14.972704508000106\n",
      "------------------------\n"
     ]
    },
    {
     "name": "stdout",
     "output_type": "stream",
     "text": [
      "[95/1000] ./test/pdf/63.pdf\n"
     ]
    },
    {
     "name": "stderr",
     "output_type": "stream",
     "text": [
      "[codecarbon INFO @ 11:43:18] Energy consumed for RAM : 0.000042 kWh. RAM Power : 0.08790922164916992 W\n",
      "[codecarbon DEBUG @ 11:43:18] RAM : 0.09 W during 14.97 s [measurement time: 0.0103]\n",
      "[codecarbon INFO @ 11:43:18] Energy consumed for all CPUs : 0.020536 kWh. Total CPU Power : 42.5 W\n",
      "[codecarbon DEBUG @ 11:43:18] CPU : 42.50 W during 14.98 s [measurement time: 0.0007]\n",
      "[codecarbon INFO @ 11:43:18] Energy consumed for all GPUs : 0.006751 kWh. Total GPU Power : 13.045560981685592 W\n",
      "[codecarbon DEBUG @ 11:43:18] GPU : 13.05 W during 14.98 s [measurement time: 0.0022]\n",
      "[codecarbon INFO @ 11:43:18] 0.027329 kWh of electricity used since the beginning.\n",
      "[codecarbon DEBUG @ 11:43:18] last_duration=14.96516672100006\n",
      "------------------------\n"
     ]
    },
    {
     "name": "stdout",
     "output_type": "stream",
     "text": [
      "[96/1000] ./test/pdf/630.pdf\n"
     ]
    },
    {
     "name": "stderr",
     "output_type": "stream",
     "text": [
      "[codecarbon INFO @ 11:43:33] Energy consumed for RAM : 0.000043 kWh. RAM Power : 0.08790922164916992 W\n",
      "[codecarbon DEBUG @ 11:43:33] RAM : 0.09 W during 14.98 s [measurement time: 0.0104]\n",
      "[codecarbon INFO @ 11:43:33] Energy consumed for all CPUs : 0.020713 kWh. Total CPU Power : 42.5 W\n",
      "[codecarbon DEBUG @ 11:43:33] CPU : 42.50 W during 15.00 s [measurement time: 0.0004]\n",
      "[codecarbon INFO @ 11:43:33] Energy consumed for all GPUs : 0.006812 kWh. Total GPU Power : 14.479960624207788 W\n",
      "[codecarbon DEBUG @ 11:43:33] GPU : 14.48 W during 15.00 s [measurement time: 0.0027]\n",
      "[codecarbon INFO @ 11:43:33] 0.027567 kWh of electricity used since the beginning.\n",
      "[codecarbon DEBUG @ 11:43:33] last_duration=14.979395804999967\n",
      "------------------------\n",
      "[codecarbon INFO @ 11:43:48] Energy consumed for RAM : 0.000043 kWh. RAM Power : 0.08790922164916992 W\n",
      "[codecarbon DEBUG @ 11:43:48] RAM : 0.09 W during 14.98 s [measurement time: 0.0167]\n",
      "[codecarbon INFO @ 11:43:48] Energy consumed for all CPUs : 0.020890 kWh. Total CPU Power : 42.5 W\n",
      "[codecarbon DEBUG @ 11:43:48] CPU : 42.50 W during 15.00 s [measurement time: 0.0009]\n",
      "[codecarbon INFO @ 11:43:48] Energy consumed for all GPUs : 0.006863 kWh. Total GPU Power : 12.470810548902511 W\n",
      "[codecarbon DEBUG @ 11:43:48] GPU : 12.47 W during 15.00 s [measurement time: 0.0031]\n",
      "[codecarbon INFO @ 11:43:48] 0.027797 kWh of electricity used since the beginning.\n",
      "[codecarbon DEBUG @ 11:43:48] last_duration=14.975131474000136\n",
      "------------------------\n"
     ]
    },
    {
     "name": "stdout",
     "output_type": "stream",
     "text": [
      "[97/1000] ./test/pdf/631.pdf\n"
     ]
    },
    {
     "name": "stderr",
     "output_type": "stream",
     "text": [
      "[codecarbon INFO @ 11:44:03] Energy consumed for RAM : 0.000043 kWh. RAM Power : 0.08790922164916992 W\n",
      "[codecarbon DEBUG @ 11:44:03] RAM : 0.09 W during 14.97 s [measurement time: 0.0154]\n",
      "[codecarbon INFO @ 11:44:03] Energy consumed for all CPUs : 0.021067 kWh. Total CPU Power : 42.5 W\n",
      "[codecarbon DEBUG @ 11:44:03] CPU : 42.50 W during 14.99 s [measurement time: 0.0003]\n",
      "[codecarbon INFO @ 11:44:03] Energy consumed for all GPUs : 0.006923 kWh. Total GPU Power : 14.190621275442659 W\n",
      "[codecarbon DEBUG @ 11:44:03] GPU : 14.19 W during 14.99 s [measurement time: 0.0058]\n",
      "[codecarbon INFO @ 11:44:03] 0.028033 kWh of electricity used since the beginning.\n",
      "[codecarbon DEBUG @ 11:44:03] last_duration=14.966648720999956\n",
      "------------------------\n"
     ]
    },
    {
     "name": "stdout",
     "output_type": "stream",
     "text": [
      "[98/1000] ./test/pdf/632.pdf\n"
     ]
    },
    {
     "name": "stderr",
     "output_type": "stream",
     "text": [
      "[codecarbon INFO @ 11:44:18] Energy consumed for RAM : 0.000044 kWh. RAM Power : 0.08790922164916992 W\n",
      "[codecarbon DEBUG @ 11:44:18] RAM : 0.09 W during 14.97 s [measurement time: 0.0165]\n",
      "[codecarbon INFO @ 11:44:18] Energy consumed for all CPUs : 0.021244 kWh. Total CPU Power : 42.5 W\n",
      "[codecarbon DEBUG @ 11:44:18] CPU : 42.50 W during 14.99 s [measurement time: 0.0003]\n",
      "[codecarbon INFO @ 11:44:18] Energy consumed for all GPUs : 0.006979 kWh. Total GPU Power : 13.525653429936606 W\n",
      "[codecarbon DEBUG @ 11:44:18] GPU : 13.53 W during 14.99 s [measurement time: 0.0025]\n",
      "[codecarbon INFO @ 11:44:18] 0.028267 kWh of electricity used since the beginning.\n",
      "[codecarbon DEBUG @ 11:44:18] We apply an energy mix of 174 g.CO2eq/kWh for Spain\n",
      "[codecarbon DEBUG @ 11:44:18] EmissionsData(timestamp='2025-04-13T11:44:18', project_name='codecarbon', run_id='868e486c-ef2f-47f1-8b33-54ddf9c190fd', experiment_id='5b0fa12a-3dd7-45bb-9766-cc326314d9f1', duration=1800.130453681, emissions=0.004919811913652094, emissions_rate=2.7330307665157308e-06, cpu_power=42.5, gpu_power=13.525653429936606, ram_power=0.08790922164916992, cpu_energy=0.0212439027855132, gpu_energy=0.006978913638681999, ram_energy=4.384208572777175e-05, energy_consumed=0.028266658509922972, country_name='Spain', country_iso_code='ESP', region=None, cloud_provider='', cloud_region='', os='Linux-6.8.0-57-generic-x86_64-with-glibc2.35', python_version='3.12.9', codecarbon_version='2.8.3', cpu_count=32, cpu_model='13th Gen Intel(R) Core(TM) i9-13900', gpu_count=1, gpu_model='1 x NVIDIA RTX 5000 Ada Generation', longitude=None, latitude=None, ram_total_size=62.50331497192383, tracking_mode='process', on_cloud='N', pue=1.0)\n",
      "[codecarbon INFO @ 11:44:18] 0.002712 g.CO2eq/s mean an estimation of 85.51578579776196 kg.CO2eq/year\n",
      "[codecarbon DEBUG @ 11:44:18] last_duration=14.968926599999804\n",
      "------------------------\n"
     ]
    },
    {
     "name": "stdout",
     "output_type": "stream",
     "text": [
      "[99/1000] ./test/pdf/633.pdf\n"
     ]
    },
    {
     "name": "stderr",
     "output_type": "stream",
     "text": [
      "[codecarbon INFO @ 11:44:33] Energy consumed for RAM : 0.000044 kWh. RAM Power : 0.08790922164916992 W\n",
      "[codecarbon DEBUG @ 11:44:33] RAM : 0.09 W during 14.98 s [measurement time: 0.0113]\n",
      "[codecarbon INFO @ 11:44:33] Energy consumed for all CPUs : 0.021421 kWh. Total CPU Power : 42.5 W\n",
      "[codecarbon DEBUG @ 11:44:33] CPU : 42.50 W during 15.00 s [measurement time: 0.0005]\n",
      "[codecarbon INFO @ 11:44:33] Energy consumed for all GPUs : 0.007035 kWh. Total GPU Power : 13.468233726464767 W\n",
      "[codecarbon DEBUG @ 11:44:33] GPU : 13.47 W during 15.00 s [measurement time: 0.0022]\n",
      "[codecarbon INFO @ 11:44:33] 0.028500 kWh of electricity used since the beginning.\n",
      "[codecarbon DEBUG @ 11:44:33] last_duration=14.975497141000005\n",
      "------------------------\n"
     ]
    },
    {
     "name": "stdout",
     "output_type": "stream",
     "text": [
      "[100/1000] ./test/pdf/634.pdf\n"
     ]
    },
    {
     "name": "stderr",
     "output_type": "stream",
     "text": [
      "[codecarbon INFO @ 11:44:48] Energy consumed for RAM : 0.000045 kWh. RAM Power : 0.08790922164916992 W\n",
      "[codecarbon DEBUG @ 11:44:48] RAM : 0.09 W during 14.98 s [measurement time: 0.0145]\n",
      "[codecarbon INFO @ 11:44:48] Energy consumed for all CPUs : 0.021598 kWh. Total CPU Power : 42.5 W\n",
      "[codecarbon DEBUG @ 11:44:48] CPU : 42.50 W during 15.00 s [measurement time: 0.0009]\n",
      "[codecarbon INFO @ 11:44:48] Energy consumed for all GPUs : 0.007092 kWh. Total GPU Power : 13.558462954434765 W\n",
      "[codecarbon DEBUG @ 11:44:48] GPU : 13.56 W during 15.00 s [measurement time: 0.0031]\n",
      "[codecarbon INFO @ 11:44:48] 0.028734 kWh of electricity used since the beginning.\n",
      "[codecarbon DEBUG @ 11:44:48] last_duration=14.975938778\n",
      "------------------------\n",
      "[codecarbon INFO @ 11:45:03] Energy consumed for RAM : 0.000045 kWh. RAM Power : 0.08790922164916992 W\n",
      "[codecarbon DEBUG @ 11:45:03] RAM : 0.09 W during 14.97 s [measurement time: 0.0161]\n",
      "[codecarbon INFO @ 11:45:03] Energy consumed for all CPUs : 0.021775 kWh. Total CPU Power : 42.5 W\n",
      "[codecarbon DEBUG @ 11:45:03] CPU : 42.50 W during 15.00 s [measurement time: 0.0004]\n",
      "[codecarbon INFO @ 11:45:03] Energy consumed for all GPUs : 0.007150 kWh. Total GPU Power : 14.057975853329522 W\n",
      "[codecarbon DEBUG @ 11:45:03] GPU : 14.06 W during 15.00 s [measurement time: 0.0029]\n",
      "[codecarbon INFO @ 11:45:03] 0.028970 kWh of electricity used since the beginning.\n",
      "[codecarbon DEBUG @ 11:45:03] last_duration=14.968984005000038\n",
      "------------------------\n"
     ]
    },
    {
     "name": "stdout",
     "output_type": "stream",
     "text": [
      "[101/1000] ./test/pdf/635.pdf\n"
     ]
    },
    {
     "name": "stderr",
     "output_type": "stream",
     "text": [
      "[codecarbon INFO @ 11:45:18] Energy consumed for RAM : 0.000045 kWh. RAM Power : 0.08790922164916992 W\n",
      "[codecarbon DEBUG @ 11:45:18] RAM : 0.09 W during 14.97 s [measurement time: 0.0138]\n",
      "[codecarbon INFO @ 11:45:18] Energy consumed for all CPUs : 0.021952 kWh. Total CPU Power : 42.5 W\n",
      "[codecarbon DEBUG @ 11:45:18] CPU : 42.50 W during 14.99 s [measurement time: 0.0009]\n",
      "[codecarbon INFO @ 11:45:18] Energy consumed for all GPUs : 0.007206 kWh. Total GPU Power : 13.39375484067974 W\n",
      "[codecarbon DEBUG @ 11:45:18] GPU : 13.39 W during 14.99 s [measurement time: 0.0026]\n",
      "[codecarbon INFO @ 11:45:18] 0.029203 kWh of electricity used since the beginning.\n",
      "[codecarbon DEBUG @ 11:45:18] last_duration=14.969007436000084\n",
      "------------------------\n"
     ]
    },
    {
     "name": "stdout",
     "output_type": "stream",
     "text": [
      "[102/1000] ./test/pdf/636.pdf\n"
     ]
    },
    {
     "name": "stderr",
     "output_type": "stream",
     "text": [
      "[codecarbon INFO @ 11:45:33] Energy consumed for RAM : 0.000046 kWh. RAM Power : 0.08790922164916992 W\n",
      "[codecarbon DEBUG @ 11:45:33] RAM : 0.09 W during 14.97 s [measurement time: 0.0158]\n",
      "[codecarbon INFO @ 11:45:33] Energy consumed for all CPUs : 0.022129 kWh. Total CPU Power : 42.5 W\n",
      "[codecarbon DEBUG @ 11:45:33] CPU : 42.50 W during 15.00 s [measurement time: 0.0003]\n",
      "[codecarbon INFO @ 11:45:33] Energy consumed for all GPUs : 0.007263 kWh. Total GPU Power : 13.744406565245717 W\n",
      "[codecarbon DEBUG @ 11:45:33] GPU : 13.74 W during 15.00 s [measurement time: 0.0021]\n",
      "[codecarbon INFO @ 11:45:33] 0.029438 kWh of electricity used since the beginning.\n",
      "[codecarbon DEBUG @ 11:45:33] last_duration=14.971828606000145\n",
      "------------------------\n"
     ]
    },
    {
     "name": "stdout",
     "output_type": "stream",
     "text": [
      "[103/1000] ./test/pdf/637.pdf\n"
     ]
    },
    {
     "name": "stderr",
     "output_type": "stream",
     "text": [
      "[codecarbon INFO @ 11:45:48] Energy consumed for RAM : 0.000046 kWh. RAM Power : 0.08790922164916992 W\n",
      "[codecarbon DEBUG @ 11:45:48] RAM : 0.09 W during 14.97 s [measurement time: 0.0085]\n",
      "[codecarbon INFO @ 11:45:48] Energy consumed for all CPUs : 0.022306 kWh. Total CPU Power : 42.5 W\n",
      "[codecarbon DEBUG @ 11:45:48] CPU : 42.50 W during 14.99 s [measurement time: 0.0006]\n",
      "[codecarbon INFO @ 11:45:48] Energy consumed for all GPUs : 0.007315 kWh. Total GPU Power : 12.569180308156167 W\n",
      "[codecarbon DEBUG @ 11:45:48] GPU : 12.57 W during 14.99 s [measurement time: 0.0027]\n",
      "[codecarbon INFO @ 11:45:48] 0.029668 kWh of electricity used since the beginning.\n",
      "[codecarbon DEBUG @ 11:45:48] last_duration=14.96996429900014\n",
      "------------------------\n"
     ]
    },
    {
     "name": "stdout",
     "output_type": "stream",
     "text": [
      "[104/1000] ./test/pdf/638.pdf\n"
     ]
    },
    {
     "name": "stderr",
     "output_type": "stream",
     "text": [
      "[codecarbon INFO @ 11:46:03] Energy consumed for RAM : 0.000046 kWh. RAM Power : 0.08790922164916992 W\n",
      "[codecarbon DEBUG @ 11:46:03] RAM : 0.09 W during 14.98 s [measurement time: 0.0166]\n",
      "[codecarbon INFO @ 11:46:03] Energy consumed for all CPUs : 0.022483 kWh. Total CPU Power : 42.5 W\n",
      "[codecarbon DEBUG @ 11:46:03] CPU : 42.50 W during 15.01 s [measurement time: 0.0006]\n",
      "[codecarbon INFO @ 11:46:03] Energy consumed for all GPUs : 0.007369 kWh. Total GPU Power : 12.835699141850222 W\n",
      "[codecarbon DEBUG @ 11:46:03] GPU : 12.84 W during 15.01 s [measurement time: 0.0022]\n",
      "[codecarbon INFO @ 11:46:03] 0.029899 kWh of electricity used since the beginning.\n",
      "[codecarbon DEBUG @ 11:46:03] last_duration=14.980786893999948\n",
      "------------------------\n",
      "[codecarbon INFO @ 11:46:18] Energy consumed for RAM : 0.000047 kWh. RAM Power : 0.08790922164916992 W\n",
      "[codecarbon DEBUG @ 11:46:18] RAM : 0.09 W during 14.97 s [measurement time: 0.0157]\n",
      "[codecarbon INFO @ 11:46:18] Energy consumed for all CPUs : 0.022660 kWh. Total CPU Power : 42.5 W\n",
      "[codecarbon DEBUG @ 11:46:18] CPU : 42.50 W during 14.99 s [measurement time: 0.0004]\n",
      "[codecarbon INFO @ 11:46:18] Energy consumed for all GPUs : 0.007427 kWh. Total GPU Power : 14.025841125393157 W\n",
      "[codecarbon DEBUG @ 11:46:18] GPU : 14.03 W during 14.99 s [measurement time: 0.0025]\n",
      "[codecarbon INFO @ 11:46:18] 0.030134 kWh of electricity used since the beginning.\n",
      "[codecarbon DEBUG @ 11:46:18] We apply an energy mix of 174 g.CO2eq/kWh for Spain\n",
      "[codecarbon DEBUG @ 11:46:18] EmissionsData(timestamp='2025-04-13T11:46:18', project_name='codecarbon', run_id='868e486c-ef2f-47f1-8b33-54ddf9c190fd', experiment_id='5b0fa12a-3dd7-45bb-9766-cc326314d9f1', duration=1920.141951587, emissions=0.005244893854223774, emissions_rate=2.7315135997569666e-06, cpu_power=42.5, gpu_power=14.025841125393157, ram_power=0.08790922164916992, cpu_energy=0.022660241129881263, gpu_energy=0.007427400664138, ram_energy=4.6767020825745386e-05, energy_consumed=0.03013440881484501, country_name='Spain', country_iso_code='ESP', region=None, cloud_provider='', cloud_region='', os='Linux-6.8.0-57-generic-x86_64-with-glibc2.35', python_version='3.12.9', codecarbon_version='2.8.3', cpu_count=32, cpu_model='13th Gen Intel(R) Core(TM) i9-13900', gpu_count=1, gpu_model='1 x NVIDIA RTX 5000 Ada Generation', longitude=None, latitude=None, ram_total_size=62.50331497192383, tracking_mode='process', on_cloud='N', pue=1.0)\n",
      "[codecarbon INFO @ 11:46:18] 0.002709 g.CO2eq/s mean an estimation of 85.42334906858927 kg.CO2eq/year\n",
      "[codecarbon DEBUG @ 11:46:18] last_duration=14.967906232999894\n",
      "------------------------\n"
     ]
    },
    {
     "name": "stdout",
     "output_type": "stream",
     "text": [
      "[105/1000] ./test/pdf/639.pdf\n"
     ]
    },
    {
     "name": "stderr",
     "output_type": "stream",
     "text": [
      "[codecarbon INFO @ 11:46:33] Energy consumed for RAM : 0.000047 kWh. RAM Power : 0.08790922164916992 W\n",
      "[codecarbon DEBUG @ 11:46:33] RAM : 0.09 W during 14.97 s [measurement time: 0.0097]\n",
      "[codecarbon INFO @ 11:46:33] Energy consumed for all CPUs : 0.022837 kWh. Total CPU Power : 42.5 W\n",
      "[codecarbon DEBUG @ 11:46:33] CPU : 42.50 W during 14.99 s [measurement time: 0.0005]\n",
      "[codecarbon INFO @ 11:46:33] Energy consumed for all GPUs : 0.007485 kWh. Total GPU Power : 13.836885207757875 W\n",
      "[codecarbon DEBUG @ 11:46:33] GPU : 13.84 W during 14.99 s [measurement time: 0.0037]\n",
      "[codecarbon INFO @ 11:46:33] 0.030369 kWh of electricity used since the beginning.\n",
      "[codecarbon DEBUG @ 11:46:33] last_duration=14.970460355999876\n",
      "------------------------\n"
     ]
    },
    {
     "name": "stdout",
     "output_type": "stream",
     "text": [
      "[106/1000] ./test/pdf/64.pdf\n"
     ]
    },
    {
     "name": "stderr",
     "output_type": "stream",
     "text": [
      "[codecarbon INFO @ 11:46:48] Energy consumed for RAM : 0.000047 kWh. RAM Power : 0.08790922164916992 W\n",
      "[codecarbon DEBUG @ 11:46:48] RAM : 0.09 W during 14.98 s [measurement time: 0.0149]\n",
      "[codecarbon INFO @ 11:46:48] Energy consumed for all CPUs : 0.023014 kWh. Total CPU Power : 42.5 W\n",
      "[codecarbon DEBUG @ 11:46:48] CPU : 42.50 W during 15.01 s [measurement time: 0.0012]\n",
      "[codecarbon INFO @ 11:46:48] Energy consumed for all GPUs : 0.007537 kWh. Total GPU Power : 12.550802751214972 W\n",
      "[codecarbon DEBUG @ 11:46:48] GPU : 12.55 W during 15.01 s [measurement time: 0.0027]\n",
      "[codecarbon INFO @ 11:46:48] 0.030599 kWh of electricity used since the beginning.\n",
      "[codecarbon DEBUG @ 11:46:48] last_duration=14.977501950000033\n",
      "------------------------\n"
     ]
    },
    {
     "name": "stdout",
     "output_type": "stream",
     "text": [
      "[107/1000] ./test/pdf/640.pdf\n"
     ]
    },
    {
     "name": "stderr",
     "output_type": "stream",
     "text": [
      "[codecarbon INFO @ 11:47:03] Energy consumed for RAM : 0.000048 kWh. RAM Power : 0.08790922164916992 W\n",
      "[codecarbon DEBUG @ 11:47:03] RAM : 0.09 W during 14.96 s [measurement time: 0.0156]\n",
      "[codecarbon INFO @ 11:47:03] Energy consumed for all CPUs : 0.023191 kWh. Total CPU Power : 42.5 W\n",
      "[codecarbon DEBUG @ 11:47:03] CPU : 42.50 W during 14.99 s [measurement time: 0.0005]\n",
      "[codecarbon INFO @ 11:47:03] Energy consumed for all GPUs : 0.007598 kWh. Total GPU Power : 14.567691406217723 W\n",
      "[codecarbon DEBUG @ 11:47:03] GPU : 14.57 W during 14.99 s [measurement time: 0.0027]\n",
      "[codecarbon INFO @ 11:47:03] 0.030837 kWh of electricity used since the beginning.\n",
      "[codecarbon DEBUG @ 11:47:03] last_duration=14.964703074999989\n",
      "------------------------\n"
     ]
    },
    {
     "name": "stdout",
     "output_type": "stream",
     "text": [
      "[108/1000] ./test/pdf/641.pdf\n"
     ]
    },
    {
     "name": "stderr",
     "output_type": "stream",
     "text": [
      "[codecarbon INFO @ 11:47:18] Energy consumed for RAM : 0.000048 kWh. RAM Power : 0.08790922164916992 W\n",
      "[codecarbon DEBUG @ 11:47:18] RAM : 0.09 W during 14.97 s [measurement time: 0.0129]\n",
      "[codecarbon INFO @ 11:47:18] Energy consumed for all CPUs : 0.023368 kWh. Total CPU Power : 42.5 W\n",
      "[codecarbon DEBUG @ 11:47:18] CPU : 42.50 W during 15.00 s [measurement time: 0.0008]\n",
      "[codecarbon INFO @ 11:47:18] Energy consumed for all GPUs : 0.007659 kWh. Total GPU Power : 14.666781456527168 W\n",
      "[codecarbon DEBUG @ 11:47:18] GPU : 14.67 W during 15.00 s [measurement time: 0.0024]\n",
      "[codecarbon INFO @ 11:47:18] 0.031076 kWh of electricity used since the beginning.\n",
      "[codecarbon DEBUG @ 11:47:18] last_duration=14.970554370999707\n",
      "------------------------\n",
      "[codecarbon INFO @ 11:47:33] Energy consumed for RAM : 0.000049 kWh. RAM Power : 0.08790922164916992 W\n",
      "[codecarbon DEBUG @ 11:47:33] RAM : 0.09 W during 14.97 s [measurement time: 0.0136]\n",
      "[codecarbon INFO @ 11:47:33] Energy consumed for all CPUs : 0.023545 kWh. Total CPU Power : 42.5 W\n",
      "[codecarbon DEBUG @ 11:47:33] CPU : 42.50 W during 15.00 s [measurement time: 0.0006]\n",
      "[codecarbon INFO @ 11:47:33] Energy consumed for all GPUs : 0.007720 kWh. Total GPU Power : 14.708065733629091 W\n",
      "[codecarbon DEBUG @ 11:47:33] GPU : 14.71 W during 15.00 s [measurement time: 0.0066]\n",
      "[codecarbon INFO @ 11:47:33] 0.031314 kWh of electricity used since the beginning.\n",
      "[codecarbon DEBUG @ 11:47:33] last_duration=14.968870722999782\n",
      "------------------------\n"
     ]
    },
    {
     "name": "stdout",
     "output_type": "stream",
     "text": [
      "[109/1000] ./test/pdf/642.pdf\n"
     ]
    },
    {
     "name": "stderr",
     "output_type": "stream",
     "text": [
      "[codecarbon INFO @ 11:47:48] Energy consumed for RAM : 0.000049 kWh. RAM Power : 0.08790922164916992 W\n",
      "[codecarbon DEBUG @ 11:47:48] RAM : 0.09 W during 14.96 s [measurement time: 0.0147]\n",
      "[codecarbon INFO @ 11:47:48] Energy consumed for all CPUs : 0.023722 kWh. Total CPU Power : 42.5 W\n",
      "[codecarbon DEBUG @ 11:47:48] CPU : 42.50 W during 14.99 s [measurement time: 0.0003]\n",
      "[codecarbon INFO @ 11:47:48] Energy consumed for all GPUs : 0.007785 kWh. Total GPU Power : 15.430234454796508 W\n",
      "[codecarbon DEBUG @ 11:47:48] GPU : 15.43 W during 14.99 s [measurement time: 0.0062]\n",
      "[codecarbon INFO @ 11:47:48] 0.031556 kWh of electricity used since the beginning.\n",
      "[codecarbon DEBUG @ 11:47:48] last_duration=14.96483441600003\n",
      "------------------------\n"
     ]
    },
    {
     "name": "stdout",
     "output_type": "stream",
     "text": [
      "[110/1000] ./test/pdf/643.pdf\n"
     ]
    },
    {
     "name": "stderr",
     "output_type": "stream",
     "text": [
      "[codecarbon INFO @ 11:48:03] Energy consumed for RAM : 0.000049 kWh. RAM Power : 0.08790922164916992 W\n",
      "[codecarbon DEBUG @ 11:48:03] RAM : 0.09 W during 14.97 s [measurement time: 0.0167]\n",
      "[codecarbon INFO @ 11:48:03] Energy consumed for all CPUs : 0.023899 kWh. Total CPU Power : 42.5 W\n",
      "[codecarbon DEBUG @ 11:48:03] CPU : 42.50 W during 15.00 s [measurement time: 0.0002]\n",
      "[codecarbon INFO @ 11:48:03] Energy consumed for all GPUs : 0.007849 kWh. Total GPU Power : 15.45703622380947 W\n",
      "[codecarbon DEBUG @ 11:48:03] GPU : 15.46 W during 15.00 s [measurement time: 0.0024]\n",
      "[codecarbon INFO @ 11:48:03] 0.031798 kWh of electricity used since the beginning.\n",
      "[codecarbon DEBUG @ 11:48:03] last_duration=14.972234810000373\n",
      "------------------------\n"
     ]
    },
    {
     "name": "stdout",
     "output_type": "stream",
     "text": [
      "[111/1000] ./test/pdf/644.pdf\n"
     ]
    },
    {
     "name": "stderr",
     "output_type": "stream",
     "text": [
      "[codecarbon INFO @ 11:48:18] Energy consumed for RAM : 0.000050 kWh. RAM Power : 0.08790922164916992 W\n",
      "[codecarbon DEBUG @ 11:48:18] RAM : 0.09 W during 14.97 s [measurement time: 0.0125]\n",
      "[codecarbon INFO @ 11:48:18] Energy consumed for all CPUs : 0.024076 kWh. Total CPU Power : 42.5 W\n",
      "[codecarbon DEBUG @ 11:48:18] CPU : 42.50 W during 14.99 s [measurement time: 0.0002]\n",
      "[codecarbon INFO @ 11:48:18] Energy consumed for all GPUs : 0.007914 kWh. Total GPU Power : 15.529725866652115 W\n",
      "[codecarbon DEBUG @ 11:48:18] GPU : 15.53 W during 14.99 s [measurement time: 0.0030]\n",
      "[codecarbon INFO @ 11:48:18] 0.032040 kWh of electricity used since the beginning.\n",
      "[codecarbon DEBUG @ 11:48:18] We apply an energy mix of 174 g.CO2eq/kWh for Spain\n",
      "[codecarbon DEBUG @ 11:48:18] EmissionsData(timestamp='2025-04-13T11:48:18', project_name='codecarbon', run_id='868e486c-ef2f-47f1-8b33-54ddf9c190fd', experiment_id='5b0fa12a-3dd7-45bb-9766-cc326314d9f1', duration=2040.141087291, emissions=0.005576518910652751, emissions_rate=2.733398658255311e-06, cpu_power=42.5, gpu_power=15.529725866652115, ram_power=0.08790922164916992, cpu_energy=0.024076371820099318, gpu_energy=0.007913689108724, ram_energy=4.969150239042335e-05, energy_consumed=0.032039752431213736, country_name='Spain', country_iso_code='ESP', region=None, cloud_provider='', cloud_region='', os='Linux-6.8.0-57-generic-x86_64-with-glibc2.35', python_version='3.12.9', codecarbon_version='2.8.3', cpu_count=32, cpu_model='13th Gen Intel(R) Core(TM) i9-13900', gpu_count=1, gpu_model='1 x NVIDIA RTX 5000 Ada Generation', longitude=None, latitude=None, ram_total_size=62.50331497192383, tracking_mode='process', on_cloud='N', pue=1.0)\n",
      "[codecarbon INFO @ 11:48:18] 0.002764 g.CO2eq/s mean an estimation of 87.15169253669562 kg.CO2eq/year\n",
      "[codecarbon DEBUG @ 11:48:18] last_duration=14.972186416000113\n",
      "------------------------\n"
     ]
    },
    {
     "name": "stdout",
     "output_type": "stream",
     "text": [
      "[112/1000] ./test/pdf/645.pdf\n"
     ]
    },
    {
     "name": "stderr",
     "output_type": "stream",
     "text": [
      "[codecarbon INFO @ 11:48:33] Energy consumed for RAM : 0.000050 kWh. RAM Power : 0.08790922164916992 W\n",
      "[codecarbon DEBUG @ 11:48:33] RAM : 0.09 W during 14.98 s [measurement time: 0.0145]\n",
      "[codecarbon INFO @ 11:48:33] Energy consumed for all CPUs : 0.024253 kWh. Total CPU Power : 42.5 W\n",
      "[codecarbon DEBUG @ 11:48:33] CPU : 42.50 W during 15.00 s [measurement time: 0.0003]\n",
      "[codecarbon INFO @ 11:48:33] Energy consumed for all GPUs : 0.007959 kWh. Total GPU Power : 10.963832272338525 W\n",
      "[codecarbon DEBUG @ 11:48:33] GPU : 10.96 W during 15.00 s [measurement time: 0.0027]\n",
      "[codecarbon INFO @ 11:48:33] 0.032263 kWh of electricity used since the beginning.\n",
      "[codecarbon DEBUG @ 11:48:33] last_duration=14.977083979999861\n",
      "------------------------\n",
      "[codecarbon INFO @ 11:48:48] Energy consumed for RAM : 0.000050 kWh. RAM Power : 0.08790922164916992 W\n",
      "[codecarbon DEBUG @ 11:48:48] RAM : 0.09 W during 14.97 s [measurement time: 0.0139]\n",
      "[codecarbon INFO @ 11:48:48] Energy consumed for all CPUs : 0.024430 kWh. Total CPU Power : 42.5 W\n",
      "[codecarbon DEBUG @ 11:48:48] CPU : 42.50 W during 14.99 s [measurement time: 0.0003]\n",
      "[codecarbon INFO @ 11:48:48] Energy consumed for all GPUs : 0.008019 kWh. Total GPU Power : 14.390522457217577 W\n",
      "[codecarbon DEBUG @ 11:48:48] GPU : 14.39 W during 14.99 s [measurement time: 0.0022]\n",
      "[codecarbon INFO @ 11:48:48] 0.032500 kWh of electricity used since the beginning.\n",
      "[codecarbon DEBUG @ 11:48:48] last_duration=14.974891399999706\n",
      "------------------------\n"
     ]
    },
    {
     "name": "stdout",
     "output_type": "stream",
     "text": [
      "[113/1000] ./test/pdf/646.pdf\n"
     ]
    },
    {
     "name": "stderr",
     "output_type": "stream",
     "text": [
      "[codecarbon INFO @ 11:49:03] Energy consumed for RAM : 0.000051 kWh. RAM Power : 0.08790922164916992 W\n",
      "[codecarbon DEBUG @ 11:49:03] RAM : 0.09 W during 14.98 s [measurement time: 0.0148]\n",
      "[codecarbon INFO @ 11:49:03] Energy consumed for all CPUs : 0.024608 kWh. Total CPU Power : 42.5 W\n",
      "[codecarbon DEBUG @ 11:49:03] CPU : 42.50 W during 15.00 s [measurement time: 0.0005]\n",
      "[codecarbon INFO @ 11:49:03] Energy consumed for all GPUs : 0.008073 kWh. Total GPU Power : 12.798195346869827 W\n",
      "[codecarbon DEBUG @ 11:49:03] GPU : 12.80 W during 15.00 s [measurement time: 0.0036]\n",
      "[codecarbon INFO @ 11:49:03] 0.032731 kWh of electricity used since the beginning.\n",
      "[codecarbon DEBUG @ 11:49:03] last_duration=14.978679915000157\n",
      "------------------------\n",
      "[codecarbon INFO @ 11:49:18] Energy consumed for RAM : 0.000051 kWh. RAM Power : 0.08790922164916992 W\n",
      "[codecarbon DEBUG @ 11:49:18] RAM : 0.09 W during 14.97 s [measurement time: 0.0170]\n",
      "[codecarbon INFO @ 11:49:18] Energy consumed for all CPUs : 0.024785 kWh. Total CPU Power : 42.5 W\n",
      "[codecarbon DEBUG @ 11:49:18] CPU : 42.50 W during 15.00 s [measurement time: 0.0007]\n",
      "[codecarbon INFO @ 11:49:18] Energy consumed for all GPUs : 0.008117 kWh. Total GPU Power : 10.538422429282743 W\n",
      "[codecarbon DEBUG @ 11:49:18] GPU : 10.54 W during 15.01 s [measurement time: 0.0021]\n",
      "[codecarbon INFO @ 11:49:18] 0.032952 kWh of electricity used since the beginning.\n",
      "[codecarbon DEBUG @ 11:49:18] last_duration=14.974258110000392\n",
      "------------------------\n"
     ]
    },
    {
     "name": "stdout",
     "output_type": "stream",
     "text": [
      "[114/1000] ./test/pdf/647.pdf\n",
      "[115/1000] ./test/pdf/648.pdf\n"
     ]
    },
    {
     "name": "stderr",
     "output_type": "stream",
     "text": [
      "[codecarbon INFO @ 11:49:33] Energy consumed for RAM : 0.000052 kWh. RAM Power : 0.08790922164916992 W\n",
      "[codecarbon DEBUG @ 11:49:33] RAM : 0.09 W during 14.97 s [measurement time: 0.0069]\n",
      "[codecarbon INFO @ 11:49:33] Energy consumed for all CPUs : 0.024962 kWh. Total CPU Power : 42.5 W\n",
      "[codecarbon DEBUG @ 11:49:33] CPU : 42.50 W during 14.98 s [measurement time: 0.0004]\n",
      "[codecarbon INFO @ 11:49:33] Energy consumed for all GPUs : 0.008182 kWh. Total GPU Power : 15.808536501936684 W\n",
      "[codecarbon DEBUG @ 11:49:33] GPU : 15.81 W during 14.98 s [measurement time: 0.0032]\n",
      "[codecarbon INFO @ 11:49:33] 0.033195 kWh of electricity used since the beginning.\n",
      "[codecarbon DEBUG @ 11:49:33] last_duration=14.96543372699989\n",
      "------------------------\n",
      "[codecarbon INFO @ 11:49:48] Energy consumed for RAM : 0.000052 kWh. RAM Power : 0.08790922164916992 W\n",
      "[codecarbon DEBUG @ 11:49:48] RAM : 0.09 W during 14.98 s [measurement time: 0.0056]\n",
      "[codecarbon INFO @ 11:49:48] Energy consumed for all CPUs : 0.025139 kWh. Total CPU Power : 42.5 W\n",
      "[codecarbon DEBUG @ 11:49:48] CPU : 42.50 W during 14.99 s [measurement time: 0.0002]\n",
      "[codecarbon INFO @ 11:49:48] Energy consumed for all GPUs : 0.008240 kWh. Total GPU Power : 13.7340955052106 W\n",
      "[codecarbon DEBUG @ 11:49:48] GPU : 13.73 W during 14.99 s [measurement time: 0.0020]\n",
      "[codecarbon INFO @ 11:49:48] 0.033430 kWh of electricity used since the beginning.\n",
      "[codecarbon DEBUG @ 11:49:48] last_duration=14.983326058999864\n",
      "------------------------\n"
     ]
    },
    {
     "name": "stdout",
     "output_type": "stream",
     "text": [
      "[116/1000] ./test/pdf/649.pdf\n"
     ]
    },
    {
     "name": "stderr",
     "output_type": "stream",
     "text": [
      "[codecarbon INFO @ 11:50:03] Energy consumed for RAM : 0.000052 kWh. RAM Power : 0.08790922164916992 W\n",
      "[codecarbon DEBUG @ 11:50:03] RAM : 0.09 W during 14.99 s [measurement time: 0.0143]\n",
      "[codecarbon INFO @ 11:50:03] Energy consumed for all CPUs : 0.025316 kWh. Total CPU Power : 42.5 W\n",
      "[codecarbon DEBUG @ 11:50:03] CPU : 42.50 W during 15.01 s [measurement time: 0.0005]\n",
      "[codecarbon INFO @ 11:50:03] Energy consumed for all GPUs : 0.008302 kWh. Total GPU Power : 15.039833937305351 W\n",
      "[codecarbon DEBUG @ 11:50:03] GPU : 15.04 W during 15.01 s [measurement time: 0.0078]\n",
      "[codecarbon INFO @ 11:50:03] 0.033670 kWh of electricity used since the beginning.\n",
      "[codecarbon DEBUG @ 11:50:03] last_duration=14.987612236000132\n",
      "------------------------\n",
      "[codecarbon INFO @ 11:50:18] Energy consumed for RAM : 0.000053 kWh. RAM Power : 0.08790922164916992 W\n",
      "[codecarbon DEBUG @ 11:50:18] RAM : 0.09 W during 14.97 s [measurement time: 0.0141]\n",
      "[codecarbon INFO @ 11:50:18] Energy consumed for all CPUs : 0.025493 kWh. Total CPU Power : 42.5 W\n",
      "[codecarbon DEBUG @ 11:50:18] CPU : 42.50 W during 14.99 s [measurement time: 0.0004]\n",
      "[codecarbon INFO @ 11:50:18] Energy consumed for all GPUs : 0.008364 kWh. Total GPU Power : 14.824291643726871 W\n",
      "[codecarbon DEBUG @ 11:50:18] GPU : 14.82 W during 14.99 s [measurement time: 0.0017]\n",
      "[codecarbon INFO @ 11:50:18] 0.033909 kWh of electricity used since the beginning.\n",
      "[codecarbon DEBUG @ 11:50:18] We apply an energy mix of 174 g.CO2eq/kWh for Spain\n",
      "[codecarbon DEBUG @ 11:50:18] EmissionsData(timestamp='2025-04-13T11:50:18', project_name='codecarbon', run_id='868e486c-ef2f-47f1-8b33-54ddf9c190fd', experiment_id='5b0fa12a-3dd7-45bb-9766-cc326314d9f1', duration=2160.144349573, emissions=0.005901906113558094, emissions_rate=2.73218135386403e-06, cpu_power=42.5, gpu_power=14.824291643726871, ram_power=0.08790922164916992, cpu_energy=0.02549266225419377, gpu_energy=0.008363977246732001, ram_energy=5.2617112450223925e-05, energy_consumed=0.033909256613376, country_name='Spain', country_iso_code='ESP', region=None, cloud_provider='', cloud_region='', os='Linux-6.8.0-57-generic-x86_64-with-glibc2.35', python_version='3.12.9', codecarbon_version='2.8.3', cpu_count=32, cpu_model='13th Gen Intel(R) Core(TM) i9-13900', gpu_count=1, gpu_model='1 x NVIDIA RTX 5000 Ada Generation', longitude=None, latitude=None, ram_total_size=62.50331497192383, tracking_mode='process', on_cloud='N', pue=1.0)\n",
      "[codecarbon INFO @ 11:50:18] 0.002711 g.CO2eq/s mean an estimation of 85.5094322911758 kg.CO2eq/year\n",
      "[codecarbon DEBUG @ 11:50:18] last_duration=14.966282562999822\n",
      "------------------------\n",
      "[codecarbon INFO @ 11:50:33] Energy consumed for RAM : 0.000053 kWh. RAM Power : 0.08790922164916992 W\n",
      "[codecarbon DEBUG @ 11:50:33] RAM : 0.09 W during 14.98 s [measurement time: 0.0183]\n",
      "[codecarbon INFO @ 11:50:33] Energy consumed for all CPUs : 0.025670 kWh. Total CPU Power : 42.5 W\n",
      "[codecarbon DEBUG @ 11:50:33] CPU : 42.50 W during 15.00 s [measurement time: 0.0002]\n",
      "[codecarbon INFO @ 11:50:33] Energy consumed for all GPUs : 0.008428 kWh. Total GPU Power : 15.32441807377822 W\n",
      "[codecarbon DEBUG @ 11:50:33] GPU : 15.32 W during 15.00 s [measurement time: 0.0038]\n",
      "[codecarbon INFO @ 11:50:33] 0.034151 kWh of electricity used since the beginning.\n",
      "[codecarbon DEBUG @ 11:50:33] last_duration=14.978930730999764\n",
      "------------------------\n"
     ]
    },
    {
     "name": "stdout",
     "output_type": "stream",
     "text": [
      "[117/1000] ./test/pdf/65.pdf\n"
     ]
    },
    {
     "name": "stderr",
     "output_type": "stream",
     "text": [
      "[codecarbon INFO @ 11:50:48] Energy consumed for RAM : 0.000053 kWh. RAM Power : 0.08790922164916992 W\n",
      "[codecarbon DEBUG @ 11:50:48] RAM : 0.09 W during 14.97 s [measurement time: 0.0101]\n",
      "[codecarbon INFO @ 11:50:48] Energy consumed for all CPUs : 0.025847 kWh. Total CPU Power : 42.5 W\n",
      "[codecarbon DEBUG @ 11:50:48] CPU : 42.50 W during 14.99 s [measurement time: 0.0002]\n",
      "[codecarbon INFO @ 11:50:48] Energy consumed for all GPUs : 0.008491 kWh. Total GPU Power : 15.273555905502183 W\n",
      "[codecarbon DEBUG @ 11:50:48] GPU : 15.27 W during 14.99 s [measurement time: 0.0025]\n",
      "[codecarbon INFO @ 11:50:48] 0.034392 kWh of electricity used since the beginning.\n",
      "[codecarbon DEBUG @ 11:50:48] last_duration=14.971762575999946\n",
      "------------------------\n"
     ]
    },
    {
     "name": "stdout",
     "output_type": "stream",
     "text": [
      "[118/1000] ./test/pdf/650.pdf\n"
     ]
    },
    {
     "name": "stderr",
     "output_type": "stream",
     "text": [
      "[codecarbon INFO @ 11:51:03] Energy consumed for RAM : 0.000054 kWh. RAM Power : 0.08790922164916992 W\n",
      "[codecarbon DEBUG @ 11:51:03] RAM : 0.09 W during 14.98 s [measurement time: 0.0147]\n",
      "[codecarbon INFO @ 11:51:03] Energy consumed for all CPUs : 0.026024 kWh. Total CPU Power : 42.5 W\n",
      "[codecarbon DEBUG @ 11:51:03] CPU : 42.50 W during 15.00 s [measurement time: 0.0004]\n",
      "[codecarbon INFO @ 11:51:03] Energy consumed for all GPUs : 0.008555 kWh. Total GPU Power : 15.363877012169139 W\n",
      "[codecarbon DEBUG @ 11:51:03] GPU : 15.36 W during 15.00 s [measurement time: 0.0028]\n",
      "[codecarbon INFO @ 11:51:03] 0.034633 kWh of electricity used since the beginning.\n",
      "[codecarbon DEBUG @ 11:51:03] last_duration=14.98080273000005\n",
      "------------------------\n"
     ]
    },
    {
     "name": "stdout",
     "output_type": "stream",
     "text": [
      "[119/1000] ./test/pdf/651.pdf\n"
     ]
    },
    {
     "name": "stderr",
     "output_type": "stream",
     "text": [
      "[codecarbon INFO @ 11:51:18] Energy consumed for RAM : 0.000054 kWh. RAM Power : 0.08790922164916992 W\n",
      "[codecarbon DEBUG @ 11:51:18] RAM : 0.09 W during 14.98 s [measurement time: 0.0189]\n",
      "[codecarbon INFO @ 11:51:18] Energy consumed for all CPUs : 0.026201 kWh. Total CPU Power : 42.5 W\n",
      "[codecarbon DEBUG @ 11:51:18] CPU : 42.50 W during 15.01 s [measurement time: 0.0003]\n",
      "[codecarbon INFO @ 11:51:18] Energy consumed for all GPUs : 0.008619 kWh. Total GPU Power : 15.233585601099513 W\n",
      "[codecarbon DEBUG @ 11:51:18] GPU : 15.23 W during 15.01 s [measurement time: 0.0021]\n",
      "[codecarbon INFO @ 11:51:18] 0.034874 kWh of electricity used since the beginning.\n",
      "[codecarbon DEBUG @ 11:51:18] last_duration=14.976162278000174\n",
      "------------------------\n"
     ]
    },
    {
     "name": "stdout",
     "output_type": "stream",
     "text": [
      "[120/1000] ./test/pdf/652.pdf\n"
     ]
    },
    {
     "name": "stderr",
     "output_type": "stream",
     "text": [
      "[codecarbon INFO @ 11:51:33] Energy consumed for RAM : 0.000054 kWh. RAM Power : 0.08790922164916992 W\n",
      "[codecarbon DEBUG @ 11:51:33] RAM : 0.09 W during 14.97 s [measurement time: 0.0079]\n",
      "[codecarbon INFO @ 11:51:33] Energy consumed for all CPUs : 0.026378 kWh. Total CPU Power : 42.5 W\n",
      "[codecarbon DEBUG @ 11:51:33] CPU : 42.50 W during 14.98 s [measurement time: 0.0002]\n",
      "[codecarbon INFO @ 11:51:33] Energy consumed for all GPUs : 0.008683 kWh. Total GPU Power : 15.488077747905676 W\n",
      "[codecarbon DEBUG @ 11:51:33] GPU : 15.49 W during 14.98 s [measurement time: 0.0080]\n",
      "[codecarbon INFO @ 11:51:33] 0.035116 kWh of electricity used since the beginning.\n",
      "[codecarbon DEBUG @ 11:51:33] last_duration=14.965606260000186\n",
      "------------------------\n"
     ]
    },
    {
     "name": "stdout",
     "output_type": "stream",
     "text": [
      "[121/1000] ./test/pdf/653.pdf\n"
     ]
    },
    {
     "name": "stderr",
     "output_type": "stream",
     "text": [
      "[codecarbon INFO @ 11:51:48] Energy consumed for RAM : 0.000055 kWh. RAM Power : 0.08790922164916992 W\n",
      "[codecarbon DEBUG @ 11:51:48] RAM : 0.09 W during 14.98 s [measurement time: 0.0128]\n",
      "[codecarbon INFO @ 11:51:48] Energy consumed for all CPUs : 0.026555 kWh. Total CPU Power : 42.5 W\n",
      "[codecarbon DEBUG @ 11:51:48] CPU : 42.50 W during 15.00 s [measurement time: 0.0004]\n",
      "[codecarbon INFO @ 11:51:48] Energy consumed for all GPUs : 0.008746 kWh. Total GPU Power : 15.141521232407646 W\n",
      "[codecarbon DEBUG @ 11:51:48] GPU : 15.14 W during 15.00 s [measurement time: 0.0034]\n",
      "[codecarbon INFO @ 11:51:48] 0.035356 kWh of electricity used since the beginning.\n",
      "[codecarbon DEBUG @ 11:51:48] last_duration=14.979458373999933\n",
      "------------------------\n"
     ]
    },
    {
     "name": "stdout",
     "output_type": "stream",
     "text": [
      "[122/1000] ./test/pdf/654.pdf\n"
     ]
    },
    {
     "name": "stderr",
     "output_type": "stream",
     "text": [
      "[codecarbon INFO @ 11:52:03] Energy consumed for RAM : 0.000055 kWh. RAM Power : 0.08790922164916992 W\n",
      "[codecarbon DEBUG @ 11:52:03] RAM : 0.09 W during 14.98 s [measurement time: 0.0132]\n",
      "[codecarbon INFO @ 11:52:03] Energy consumed for all CPUs : 0.026732 kWh. Total CPU Power : 42.5 W\n",
      "[codecarbon DEBUG @ 11:52:03] CPU : 42.50 W during 15.00 s [measurement time: 0.0006]\n",
      "[codecarbon INFO @ 11:52:03] Energy consumed for all GPUs : 0.008798 kWh. Total GPU Power : 12.341946339720348 W\n",
      "[codecarbon DEBUG @ 11:52:03] GPU : 12.34 W during 15.00 s [measurement time: 0.0024]\n",
      "[codecarbon INFO @ 11:52:03] 0.035585 kWh of electricity used since the beginning.\n",
      "[codecarbon DEBUG @ 11:52:03] last_duration=14.978817466000237\n",
      "------------------------\n",
      "[codecarbon INFO @ 11:52:18] Energy consumed for RAM : 0.000056 kWh. RAM Power : 0.08790922164916992 W\n",
      "[codecarbon DEBUG @ 11:52:18] RAM : 0.09 W during 14.97 s [measurement time: 0.0148]\n",
      "[codecarbon INFO @ 11:52:18] Energy consumed for all CPUs : 0.026909 kWh. Total CPU Power : 42.5 W\n",
      "[codecarbon DEBUG @ 11:52:18] CPU : 42.50 W during 14.99 s [measurement time: 0.0005]\n",
      "[codecarbon INFO @ 11:52:18] Energy consumed for all GPUs : 0.008862 kWh. Total GPU Power : 15.42040292778829 W\n",
      "[codecarbon DEBUG @ 11:52:18] GPU : 15.42 W during 15.00 s [measurement time: 0.0025]\n",
      "[codecarbon INFO @ 11:52:18] 0.035827 kWh of electricity used since the beginning.\n",
      "[codecarbon DEBUG @ 11:52:18] We apply an energy mix of 174 g.CO2eq/kWh for Spain\n",
      "[codecarbon DEBUG @ 11:52:18] EmissionsData(timestamp='2025-04-13T11:52:18', project_name='codecarbon', run_id='868e486c-ef2f-47f1-8b33-54ddf9c190fd', experiment_id='5b0fa12a-3dd7-45bb-9766-cc326314d9f1', duration=2280.154202068, emissions=0.006235639259375433, emissions_rate=2.734744542154202e-06, cpu_power=42.5, gpu_power=15.42040292778829, ram_power=0.08790922164916992, cpu_energy=0.026909008859239605, gpu_energy=0.008862160700834001, ram_energy=5.554264547324446e-05, energy_consumed=0.03582671220554687, country_name='Spain', country_iso_code='ESP', region=None, cloud_provider='', cloud_region='', os='Linux-6.8.0-57-generic-x86_64-with-glibc2.35', python_version='3.12.9', codecarbon_version='2.8.3', cpu_count=32, cpu_model='13th Gen Intel(R) Core(TM) i9-13900', gpu_count=1, gpu_model='1 x NVIDIA RTX 5000 Ada Generation', longitude=None, latitude=None, ram_total_size=62.50331497192383, tracking_mode='process', on_cloud='N', pue=1.0)\n",
      "[codecarbon INFO @ 11:52:18] 0.002781 g.CO2eq/s mean an estimation of 87.69787036388622 kg.CO2eq/year\n",
      "[codecarbon DEBUG @ 11:52:18] last_duration=14.972868961000131\n",
      "------------------------\n",
      "[codecarbon INFO @ 11:52:33] Energy consumed for RAM : 0.000056 kWh. RAM Power : 0.08790922164916992 W\n",
      "[codecarbon DEBUG @ 11:52:33] RAM : 0.09 W during 14.97 s [measurement time: 0.0121]\n",
      "[codecarbon INFO @ 11:52:33] Energy consumed for all CPUs : 0.027086 kWh. Total CPU Power : 42.5 W\n",
      "[codecarbon DEBUG @ 11:52:33] CPU : 42.50 W during 15.00 s [measurement time: 0.0010]\n",
      "[codecarbon INFO @ 11:52:33] Energy consumed for all GPUs : 0.008924 kWh. Total GPU Power : 14.91936135072796 W\n",
      "[codecarbon DEBUG @ 11:52:33] GPU : 14.92 W during 15.00 s [measurement time: 0.0067]\n",
      "[codecarbon INFO @ 11:52:33] 0.036066 kWh of electricity used since the beginning.\n",
      "[codecarbon DEBUG @ 11:52:33] last_duration=14.974737710000227\n",
      "------------------------\n"
     ]
    },
    {
     "name": "stdout",
     "output_type": "stream",
     "text": [
      "[123/1000] ./test/pdf/655.pdf\n"
     ]
    },
    {
     "name": "stderr",
     "output_type": "stream",
     "text": [
      "[codecarbon INFO @ 11:52:48] Energy consumed for RAM : 0.000056 kWh. RAM Power : 0.08790922164916992 W\n",
      "[codecarbon DEBUG @ 11:52:48] RAM : 0.09 W during 14.97 s [measurement time: 0.0145]\n",
      "[codecarbon INFO @ 11:52:48] Energy consumed for all CPUs : 0.027263 kWh. Total CPU Power : 42.5 W\n",
      "[codecarbon DEBUG @ 11:52:48] CPU : 42.50 W during 14.99 s [measurement time: 0.0005]\n",
      "[codecarbon INFO @ 11:52:48] Energy consumed for all GPUs : 0.008988 kWh. Total GPU Power : 15.28926916527543 W\n",
      "[codecarbon DEBUG @ 11:52:48] GPU : 15.29 W during 14.99 s [measurement time: 0.0023]\n",
      "[codecarbon INFO @ 11:52:48] 0.036307 kWh of electricity used since the beginning.\n",
      "[codecarbon DEBUG @ 11:52:48] last_duration=14.965850795999813\n",
      "------------------------\n"
     ]
    },
    {
     "name": "stdout",
     "output_type": "stream",
     "text": [
      "[124/1000] ./test/pdf/656.pdf\n"
     ]
    },
    {
     "name": "stderr",
     "output_type": "stream",
     "text": [
      "[codecarbon INFO @ 11:53:03] Energy consumed for RAM : 0.000057 kWh. RAM Power : 0.08790922164916992 W\n",
      "[codecarbon DEBUG @ 11:53:03] RAM : 0.09 W during 14.97 s [measurement time: 0.0102]\n",
      "[codecarbon INFO @ 11:53:03] Energy consumed for all CPUs : 0.027440 kWh. Total CPU Power : 42.5 W\n",
      "[codecarbon DEBUG @ 11:53:03] CPU : 42.50 W during 14.99 s [measurement time: 0.0007]\n",
      "[codecarbon INFO @ 11:53:03] Energy consumed for all GPUs : 0.009053 kWh. Total GPU Power : 15.66471312016332 W\n",
      "[codecarbon DEBUG @ 11:53:03] GPU : 15.66 W during 14.99 s [measurement time: 0.0023]\n",
      "[codecarbon INFO @ 11:53:03] 0.036550 kWh of electricity used since the beginning.\n",
      "[codecarbon DEBUG @ 11:53:03] last_duration=14.97117678900031\n",
      "------------------------\n",
      "[codecarbon INFO @ 11:53:18] Energy consumed for RAM : 0.000057 kWh. RAM Power : 0.08790922164916992 W\n",
      "[codecarbon DEBUG @ 11:53:18] RAM : 0.09 W during 14.97 s [measurement time: 0.0121]\n",
      "[codecarbon INFO @ 11:53:18] Energy consumed for all CPUs : 0.027617 kWh. Total CPU Power : 42.5 W\n",
      "[codecarbon DEBUG @ 11:53:18] CPU : 42.50 W during 15.00 s [measurement time: 0.0005]\n",
      "[codecarbon INFO @ 11:53:18] Energy consumed for all GPUs : 0.009117 kWh. Total GPU Power : 15.209493244862978 W\n",
      "[codecarbon DEBUG @ 11:53:18] GPU : 15.21 W during 15.00 s [measurement time: 0.0041]\n",
      "[codecarbon INFO @ 11:53:18] 0.036791 kWh of electricity used since the beginning.\n",
      "[codecarbon DEBUG @ 11:53:18] last_duration=14.974564453000312\n",
      "------------------------\n"
     ]
    },
    {
     "name": "stdout",
     "output_type": "stream",
     "text": [
      "[125/1000] ./test/pdf/657.pdf\n"
     ]
    },
    {
     "name": "stderr",
     "output_type": "stream",
     "text": [
      "[codecarbon INFO @ 11:53:33] Energy consumed for RAM : 0.000057 kWh. RAM Power : 0.08790922164916992 W\n",
      "[codecarbon DEBUG @ 11:53:33] RAM : 0.09 W during 14.97 s [measurement time: 0.0150]\n",
      "[codecarbon INFO @ 11:53:33] Energy consumed for all CPUs : 0.027794 kWh. Total CPU Power : 42.5 W\n",
      "[codecarbon DEBUG @ 11:53:33] CPU : 42.50 W during 14.99 s [measurement time: 0.0002]\n",
      "[codecarbon INFO @ 11:53:33] Energy consumed for all GPUs : 0.009177 kWh. Total GPU Power : 14.394740680819222 W\n",
      "[codecarbon DEBUG @ 11:53:33] GPU : 14.39 W during 14.99 s [measurement time: 0.0026]\n",
      "[codecarbon INFO @ 11:53:33] 0.037028 kWh of electricity used since the beginning.\n",
      "[codecarbon DEBUG @ 11:53:33] last_duration=14.97196502199995\n",
      "------------------------\n"
     ]
    },
    {
     "name": "stdout",
     "output_type": "stream",
     "text": [
      "[126/1000] ./test/pdf/658.pdf\n"
     ]
    },
    {
     "name": "stderr",
     "output_type": "stream",
     "text": [
      "[codecarbon INFO @ 11:53:48] Energy consumed for RAM : 0.000058 kWh. RAM Power : 0.08790922164916992 W\n",
      "[codecarbon DEBUG @ 11:53:48] RAM : 0.09 W during 14.97 s [measurement time: 0.0059]\n",
      "[codecarbon INFO @ 11:53:48] Energy consumed for all CPUs : 0.027971 kWh. Total CPU Power : 42.5 W\n",
      "[codecarbon DEBUG @ 11:53:48] CPU : 42.50 W during 14.98 s [measurement time: 0.0002]\n",
      "[codecarbon INFO @ 11:53:48] Energy consumed for all GPUs : 0.009242 kWh. Total GPU Power : 15.792934088061182 W\n",
      "[codecarbon DEBUG @ 11:53:48] GPU : 15.79 W during 14.98 s [measurement time: 0.0026]\n",
      "[codecarbon INFO @ 11:53:48] 0.037271 kWh of electricity used since the beginning.\n",
      "[codecarbon DEBUG @ 11:53:48] last_duration=14.974257164000392\n",
      "------------------------\n",
      "[codecarbon INFO @ 11:54:03] Energy consumed for RAM : 0.000058 kWh. RAM Power : 0.08790922164916992 W\n",
      "[codecarbon DEBUG @ 11:54:03] RAM : 0.09 W during 14.99 s [measurement time: 0.0110]\n",
      "[codecarbon INFO @ 11:54:03] Energy consumed for all CPUs : 0.028148 kWh. Total CPU Power : 42.5 W\n",
      "[codecarbon DEBUG @ 11:54:03] CPU : 42.50 W during 15.01 s [measurement time: 0.0005]\n",
      "[codecarbon INFO @ 11:54:03] Energy consumed for all GPUs : 0.009302 kWh. Total GPU Power : 14.411273886616415 W\n",
      "[codecarbon DEBUG @ 11:54:03] GPU : 14.41 W during 15.01 s [measurement time: 0.0023]\n",
      "[codecarbon INFO @ 11:54:03] 0.037509 kWh of electricity used since the beginning.\n",
      "[codecarbon DEBUG @ 11:54:03] last_duration=14.987237088999791\n",
      "------------------------\n"
     ]
    },
    {
     "name": "stdout",
     "output_type": "stream",
     "text": [
      "[127/1000] ./test/pdf/659.pdf\n",
      "[128/1000] ./test/pdf/66.pdf\n"
     ]
    },
    {
     "name": "stderr",
     "output_type": "stream",
     "text": [
      "[codecarbon INFO @ 11:54:18] Energy consumed for RAM : 0.000058 kWh. RAM Power : 0.08790922164916992 W\n",
      "[codecarbon DEBUG @ 11:54:18] RAM : 0.09 W during 14.98 s [measurement time: 0.0091]\n",
      "[codecarbon INFO @ 11:54:18] Energy consumed for all CPUs : 0.028325 kWh. Total CPU Power : 42.5 W\n",
      "[codecarbon DEBUG @ 11:54:18] CPU : 42.50 W during 14.99 s [measurement time: 0.0005]\n",
      "[codecarbon INFO @ 11:54:18] Energy consumed for all GPUs : 0.009364 kWh. Total GPU Power : 14.727481030892035 W\n",
      "[codecarbon DEBUG @ 11:54:18] GPU : 14.73 W during 14.99 s [measurement time: 0.0027]\n",
      "[codecarbon INFO @ 11:54:18] 0.037747 kWh of electricity used since the beginning.\n",
      "[codecarbon DEBUG @ 11:54:18] We apply an energy mix of 174 g.CO2eq/kWh for Spain\n",
      "[codecarbon DEBUG @ 11:54:18] EmissionsData(timestamp='2025-04-13T11:54:18', project_name='codecarbon', run_id='868e486c-ef2f-47f1-8b33-54ddf9c190fd', experiment_id='5b0fa12a-3dd7-45bb-9766-cc326314d9f1', duration=2400.154157555, emissions=0.006569940727522378, emissions_rate=2.7372994800530127e-06, cpu_power=42.5, gpu_power=14.727481030892035, ram_power=0.08790922164916992, cpu_energy=0.02832523090508475, gpu_energy=0.009363734157648, ram_energy=5.846801697064018e-05, energy_consumed=0.03774743307970341, country_name='Spain', country_iso_code='ESP', region=None, cloud_provider='', cloud_region='', os='Linux-6.8.0-57-generic-x86_64-with-glibc2.35', python_version='3.12.9', codecarbon_version='2.8.3', cpu_count=32, cpu_model='13th Gen Intel(R) Core(TM) i9-13900', gpu_count=1, gpu_model='1 x NVIDIA RTX 5000 Ada Generation', longitude=None, latitude=None, ram_total_size=62.50331497192383, tracking_mode='process', on_cloud='N', pue=1.0)\n",
      "[codecarbon INFO @ 11:54:18] 0.002786 g.CO2eq/s mean an estimation of 87.85445841789637 kg.CO2eq/year\n",
      "[codecarbon DEBUG @ 11:54:18] last_duration=14.977959664000082\n",
      "------------------------\n",
      "[codecarbon INFO @ 11:54:33] Energy consumed for RAM : 0.000059 kWh. RAM Power : 0.08790922164916992 W\n",
      "[codecarbon DEBUG @ 11:54:33] RAM : 0.09 W during 14.98 s [measurement time: 0.0131]\n",
      "[codecarbon INFO @ 11:54:33] Energy consumed for all CPUs : 0.028502 kWh. Total CPU Power : 42.5 W\n",
      "[codecarbon DEBUG @ 11:54:33] CPU : 42.50 W during 15.00 s [measurement time: 0.0005]\n",
      "[codecarbon INFO @ 11:54:33] Energy consumed for all GPUs : 0.009409 kWh. Total GPU Power : 10.760573326652521 W\n",
      "[codecarbon DEBUG @ 11:54:33] GPU : 10.76 W during 15.00 s [measurement time: 0.0020]\n",
      "[codecarbon INFO @ 11:54:33] 0.037970 kWh of electricity used since the beginning.\n",
      "[codecarbon DEBUG @ 11:54:33] last_duration=14.979786716000035\n",
      "------------------------\n"
     ]
    },
    {
     "name": "stdout",
     "output_type": "stream",
     "text": [
      "[129/1000] ./test/pdf/660.pdf\n"
     ]
    },
    {
     "name": "stderr",
     "output_type": "stream",
     "text": [
      "[codecarbon INFO @ 11:54:48] Energy consumed for RAM : 0.000059 kWh. RAM Power : 0.08790922164916992 W\n",
      "[codecarbon DEBUG @ 11:54:48] RAM : 0.09 W during 14.98 s [measurement time: 0.0099]\n",
      "[codecarbon INFO @ 11:54:48] Energy consumed for all CPUs : 0.028679 kWh. Total CPU Power : 42.5 W\n",
      "[codecarbon DEBUG @ 11:54:48] CPU : 42.50 W during 14.99 s [measurement time: 0.0003]\n",
      "[codecarbon INFO @ 11:54:48] Energy consumed for all GPUs : 0.009468 kWh. Total GPU Power : 14.253328409904109 W\n",
      "[codecarbon DEBUG @ 11:54:48] GPU : 14.25 W during 14.99 s [measurement time: 0.0047]\n",
      "[codecarbon INFO @ 11:54:48] 0.038206 kWh of electricity used since the beginning.\n",
      "[codecarbon DEBUG @ 11:54:48] last_duration=14.97514660700017\n",
      "------------------------\n"
     ]
    },
    {
     "name": "stdout",
     "output_type": "stream",
     "text": [
      "[130/1000] ./test/pdf/661.pdf\n"
     ]
    },
    {
     "name": "stderr",
     "output_type": "stream",
     "text": [
      "[codecarbon INFO @ 11:55:03] Energy consumed for RAM : 0.000060 kWh. RAM Power : 0.08790922164916992 W\n",
      "[codecarbon DEBUG @ 11:55:03] RAM : 0.09 W during 14.98 s [measurement time: 0.0134]\n",
      "[codecarbon INFO @ 11:55:03] Energy consumed for all CPUs : 0.028856 kWh. Total CPU Power : 42.5 W\n",
      "[codecarbon DEBUG @ 11:55:03] CPU : 42.50 W during 15.00 s [measurement time: 0.0004]\n",
      "[codecarbon INFO @ 11:55:03] Energy consumed for all GPUs : 0.009533 kWh. Total GPU Power : 15.530707045954726 W\n",
      "[codecarbon DEBUG @ 11:55:03] GPU : 15.53 W during 15.00 s [measurement time: 0.0023]\n",
      "[codecarbon INFO @ 11:55:03] 0.038449 kWh of electricity used since the beginning.\n",
      "[codecarbon DEBUG @ 11:55:03] last_duration=14.976713262999965\n",
      "------------------------\n"
     ]
    },
    {
     "name": "stdout",
     "output_type": "stream",
     "text": [
      "[131/1000] ./test/pdf/662.pdf\n"
     ]
    },
    {
     "name": "stderr",
     "output_type": "stream",
     "text": [
      "[codecarbon INFO @ 11:55:18] Energy consumed for RAM : 0.000060 kWh. RAM Power : 0.08790922164916992 W\n",
      "[codecarbon DEBUG @ 11:55:18] RAM : 0.09 W during 14.98 s [measurement time: 0.0131]\n",
      "[codecarbon INFO @ 11:55:18] Energy consumed for all CPUs : 0.029033 kWh. Total CPU Power : 42.5 W\n",
      "[codecarbon DEBUG @ 11:55:18] CPU : 42.50 W during 15.00 s [measurement time: 0.0004]\n",
      "[codecarbon INFO @ 11:55:18] Energy consumed for all GPUs : 0.009599 kWh. Total GPU Power : 15.91453077109568 W\n",
      "[codecarbon DEBUG @ 11:55:18] GPU : 15.91 W during 15.00 s [measurement time: 0.0026]\n",
      "[codecarbon INFO @ 11:55:18] 0.038692 kWh of electricity used since the beginning.\n",
      "[codecarbon DEBUG @ 11:55:18] last_duration=14.977912457999992\n",
      "------------------------\n"
     ]
    },
    {
     "name": "stdout",
     "output_type": "stream",
     "text": [
      "[132/1000] ./test/pdf/663.pdf\n"
     ]
    },
    {
     "name": "stderr",
     "output_type": "stream",
     "text": [
      "[codecarbon INFO @ 11:55:33] Energy consumed for RAM : 0.000060 kWh. RAM Power : 0.08790922164916992 W\n",
      "[codecarbon DEBUG @ 11:55:33] RAM : 0.09 W during 14.98 s [measurement time: 0.0094]\n",
      "[codecarbon INFO @ 11:55:33] Energy consumed for all CPUs : 0.029210 kWh. Total CPU Power : 42.5 W\n",
      "[codecarbon DEBUG @ 11:55:33] CPU : 42.50 W during 15.00 s [measurement time: 0.0007]\n",
      "[codecarbon INFO @ 11:55:33] Energy consumed for all GPUs : 0.009661 kWh. Total GPU Power : 14.958939423099926 W\n",
      "[codecarbon DEBUG @ 11:55:33] GPU : 14.96 W during 15.00 s [measurement time: 0.0024]\n",
      "[codecarbon INFO @ 11:55:33] 0.038932 kWh of electricity used since the beginning.\n",
      "[codecarbon DEBUG @ 11:55:33] last_duration=14.975441829999909\n",
      "------------------------\n",
      "[codecarbon INFO @ 11:55:48] Energy consumed for RAM : 0.000061 kWh. RAM Power : 0.08790922164916992 W\n",
      "[codecarbon DEBUG @ 11:55:48] RAM : 0.09 W during 14.98 s [measurement time: 0.0147]\n",
      "[codecarbon INFO @ 11:55:48] Energy consumed for all CPUs : 0.029388 kWh. Total CPU Power : 42.5 W\n",
      "[codecarbon DEBUG @ 11:55:48] CPU : 42.50 W during 15.00 s [measurement time: 0.0002]\n",
      "[codecarbon INFO @ 11:55:48] Energy consumed for all GPUs : 0.009724 kWh. Total GPU Power : 15.142830424079968 W\n",
      "[codecarbon DEBUG @ 11:55:48] GPU : 15.14 W during 15.00 s [measurement time: 0.0027]\n",
      "[codecarbon INFO @ 11:55:48] 0.039173 kWh of electricity used since the beginning.\n",
      "[codecarbon DEBUG @ 11:55:48] last_duration=14.975046608999946\n",
      "------------------------\n"
     ]
    },
    {
     "name": "stdout",
     "output_type": "stream",
     "text": [
      "[133/1000] ./test/pdf/664.pdf\n"
     ]
    },
    {
     "name": "stderr",
     "output_type": "stream",
     "text": [
      "[codecarbon INFO @ 11:56:03] Energy consumed for RAM : 0.000061 kWh. RAM Power : 0.08790922164916992 W\n",
      "[codecarbon DEBUG @ 11:56:03] RAM : 0.09 W during 14.97 s [measurement time: 0.0115]\n",
      "[codecarbon INFO @ 11:56:03] Energy consumed for all CPUs : 0.029565 kWh. Total CPU Power : 42.5 W\n",
      "[codecarbon DEBUG @ 11:56:03] CPU : 42.50 W during 14.99 s [measurement time: 0.0004]\n",
      "[codecarbon INFO @ 11:56:03] Energy consumed for all GPUs : 0.009776 kWh. Total GPU Power : 12.30209593635051 W\n",
      "[codecarbon DEBUG @ 11:56:03] GPU : 12.30 W during 14.99 s [measurement time: 0.0051]\n",
      "[codecarbon INFO @ 11:56:03] 0.039401 kWh of electricity used since the beginning.\n",
      "[codecarbon DEBUG @ 11:56:03] last_duration=14.973488996000015\n",
      "------------------------\n"
     ]
    },
    {
     "name": "stdout",
     "output_type": "stream",
     "text": [
      "[134/1000] ./test/pdf/665.pdf\n"
     ]
    },
    {
     "name": "stderr",
     "output_type": "stream",
     "text": [
      "[codecarbon INFO @ 11:56:18] Energy consumed for RAM : 0.000061 kWh. RAM Power : 0.08790922164916992 W\n",
      "[codecarbon DEBUG @ 11:56:18] RAM : 0.09 W during 14.98 s [measurement time: 0.0165]\n",
      "[codecarbon INFO @ 11:56:18] Energy consumed for all CPUs : 0.029742 kWh. Total CPU Power : 42.5 W\n",
      "[codecarbon DEBUG @ 11:56:18] CPU : 42.50 W during 15.00 s [measurement time: 0.0004]\n",
      "[codecarbon INFO @ 11:56:18] Energy consumed for all GPUs : 0.009815 kWh. Total GPU Power : 9.39968935718678 W\n",
      "[codecarbon DEBUG @ 11:56:18] GPU : 9.40 W during 15.00 s [measurement time: 0.0020]\n",
      "[codecarbon INFO @ 11:56:18] 0.039618 kWh of electricity used since the beginning.\n",
      "[codecarbon DEBUG @ 11:56:18] We apply an energy mix of 174 g.CO2eq/kWh for Spain\n",
      "[codecarbon DEBUG @ 11:56:18] EmissionsData(timestamp='2025-04-13T11:56:18', project_name='codecarbon', run_id='868e486c-ef2f-47f1-8b33-54ddf9c190fd', experiment_id='5b0fa12a-3dd7-45bb-9766-cc326314d9f1', duration=2520.170003864, emissions=0.0068954855965605725, emissions_rate=2.736119224492081e-06, cpu_power=42.5, gpu_power=9.39968935718678, ram_power=0.08790922164916992, cpu_energy=0.029741676602681965, gpu_energy=0.009814772851812, ram_energy=6.139367426540859e-05, energy_consumed=0.03961784312875939, country_name='Spain', country_iso_code='ESP', region=None, cloud_provider='', cloud_region='', os='Linux-6.8.0-57-generic-x86_64-with-glibc2.35', python_version='3.12.9', codecarbon_version='2.8.3', cpu_count=32, cpu_model='13th Gen Intel(R) Core(TM) i9-13900', gpu_count=1, gpu_model='1 x NVIDIA RTX 5000 Ada Generation', longitude=None, latitude=None, ram_total_size=62.50331497192383, tracking_mode='process', on_cloud='N', pue=1.0)\n",
      "[codecarbon INFO @ 11:56:18] 0.002713 g.CO2eq/s mean an estimation of 85.54189555565885 kg.CO2eq/year\n",
      "[codecarbon DEBUG @ 11:56:18] last_duration=14.975958997999896\n",
      "------------------------\n",
      "[codecarbon INFO @ 11:56:33] Energy consumed for RAM : 0.000062 kWh. RAM Power : 0.08790922164916992 W\n",
      "[codecarbon DEBUG @ 11:56:33] RAM : 0.09 W during 14.97 s [measurement time: 0.0160]\n",
      "[codecarbon INFO @ 11:56:33] Energy consumed for all CPUs : 0.029919 kWh. Total CPU Power : 42.5 W\n",
      "[codecarbon DEBUG @ 11:56:33] CPU : 42.50 W during 15.00 s [measurement time: 0.0003]\n",
      "[codecarbon INFO @ 11:56:33] Energy consumed for all GPUs : 0.009855 kWh. Total GPU Power : 9.663857690256862 W\n",
      "[codecarbon DEBUG @ 11:56:33] GPU : 9.66 W during 15.00 s [measurement time: 0.0022]\n",
      "[codecarbon INFO @ 11:56:33] 0.039835 kWh of electricity used since the beginning.\n",
      "[codecarbon DEBUG @ 11:56:33] last_duration=14.96968180399972\n",
      "------------------------\n",
      "[codecarbon INFO @ 11:56:48] Energy consumed for RAM : 0.000062 kWh. RAM Power : 0.08790922164916992 W\n",
      "[codecarbon DEBUG @ 11:56:48] RAM : 0.09 W during 14.97 s [measurement time: 0.0140]\n",
      "[codecarbon INFO @ 11:56:48] Energy consumed for all CPUs : 0.030096 kWh. Total CPU Power : 42.5 W\n",
      "[codecarbon DEBUG @ 11:56:48] CPU : 42.50 W during 14.99 s [measurement time: 0.0003]\n",
      "[codecarbon INFO @ 11:56:48] Energy consumed for all GPUs : 0.009915 kWh. Total GPU Power : 14.400704777783194 W\n",
      "[codecarbon DEBUG @ 11:56:48] GPU : 14.40 W during 14.99 s [measurement time: 0.0040]\n",
      "[codecarbon INFO @ 11:56:48] 0.040073 kWh of electricity used since the beginning.\n",
      "[codecarbon DEBUG @ 11:56:48] last_duration=14.971246012000393\n",
      "------------------------\n"
     ]
    },
    {
     "name": "stdout",
     "output_type": "stream",
     "text": [
      "[135/1000] ./test/pdf/666.pdf\n"
     ]
    },
    {
     "name": "stderr",
     "output_type": "stream",
     "text": [
      "[codecarbon INFO @ 11:57:03] Energy consumed for RAM : 0.000062 kWh. RAM Power : 0.08790922164916992 W\n",
      "[codecarbon DEBUG @ 11:57:03] RAM : 0.09 W during 14.97 s [measurement time: 0.0101]\n",
      "[codecarbon INFO @ 11:57:03] Energy consumed for all CPUs : 0.030273 kWh. Total CPU Power : 42.5 W\n",
      "[codecarbon DEBUG @ 11:57:03] CPU : 42.50 W during 14.99 s [measurement time: 0.0011]\n",
      "[codecarbon INFO @ 11:57:03] Energy consumed for all GPUs : 0.009973 kWh. Total GPU Power : 13.9737036374964 W\n",
      "[codecarbon DEBUG @ 11:57:03] GPU : 13.97 W during 15.00 s [measurement time: 0.0028]\n",
      "[codecarbon INFO @ 11:57:03] 0.040308 kWh of electricity used since the beginning.\n",
      "[codecarbon DEBUG @ 11:57:03] last_duration=14.974609672000042\n",
      "------------------------\n",
      "[codecarbon INFO @ 11:57:18] Energy consumed for RAM : 0.000063 kWh. RAM Power : 0.08790922164916992 W\n",
      "[codecarbon DEBUG @ 11:57:18] RAM : 0.09 W during 14.98 s [measurement time: 0.0097]\n",
      "[codecarbon INFO @ 11:57:18] Energy consumed for all CPUs : 0.030450 kWh. Total CPU Power : 42.5 W\n",
      "[codecarbon DEBUG @ 11:57:18] CPU : 42.50 W during 15.00 s [measurement time: 0.0007]\n",
      "[codecarbon INFO @ 11:57:18] Energy consumed for all GPUs : 0.010010 kWh. Total GPU Power : 8.76976355902017 W\n",
      "[codecarbon DEBUG @ 11:57:18] GPU : 8.77 W during 15.00 s [measurement time: 0.0039]\n",
      "[codecarbon INFO @ 11:57:18] 0.040522 kWh of electricity used since the beginning.\n",
      "[codecarbon DEBUG @ 11:57:18] last_duration=14.97590599599971\n",
      "------------------------\n"
     ]
    },
    {
     "name": "stdout",
     "output_type": "stream",
     "text": [
      "[136/1000] ./test/pdf/667.pdf\n"
     ]
    },
    {
     "name": "stderr",
     "output_type": "stream",
     "text": [
      "[codecarbon INFO @ 11:57:33] Energy consumed for RAM : 0.000063 kWh. RAM Power : 0.08790922164916992 W\n",
      "[codecarbon DEBUG @ 11:57:33] RAM : 0.09 W during 14.97 s [measurement time: 0.0111]\n",
      "[codecarbon INFO @ 11:57:33] Energy consumed for all CPUs : 0.030627 kWh. Total CPU Power : 42.5 W\n",
      "[codecarbon DEBUG @ 11:57:33] CPU : 42.50 W during 14.99 s [measurement time: 0.0003]\n",
      "[codecarbon INFO @ 11:57:33] Energy consumed for all GPUs : 0.010071 kWh. Total GPU Power : 14.59219252094393 W\n",
      "[codecarbon DEBUG @ 11:57:33] GPU : 14.59 W during 14.99 s [measurement time: 0.0023]\n",
      "[codecarbon INFO @ 11:57:33] 0.040761 kWh of electricity used since the beginning.\n",
      "[codecarbon DEBUG @ 11:57:33] last_duration=14.974171833999662\n",
      "------------------------\n",
      "[codecarbon INFO @ 11:57:48] Energy consumed for RAM : 0.000064 kWh. RAM Power : 0.08790922164916992 W\n",
      "[codecarbon DEBUG @ 11:57:48] RAM : 0.09 W during 14.98 s [measurement time: 0.0087]\n",
      "[codecarbon INFO @ 11:57:48] Energy consumed for all CPUs : 0.030804 kWh. Total CPU Power : 42.5 W\n",
      "[codecarbon DEBUG @ 11:57:48] CPU : 42.50 W during 14.99 s [measurement time: 0.0002]\n",
      "[codecarbon INFO @ 11:57:48] Energy consumed for all GPUs : 0.010129 kWh. Total GPU Power : 14.129004823052524 W\n",
      "[codecarbon DEBUG @ 11:57:48] GPU : 14.13 W during 14.99 s [measurement time: 0.0050]\n",
      "[codecarbon INFO @ 11:57:48] 0.040997 kWh of electricity used since the beginning.\n",
      "[codecarbon DEBUG @ 11:57:48] last_duration=14.97634839300008\n",
      "------------------------\n"
     ]
    },
    {
     "name": "stdout",
     "output_type": "stream",
     "text": [
      "[137/1000] ./test/pdf/668.pdf\n",
      "[138/1000] ./test/pdf/669.pdf\n"
     ]
    },
    {
     "name": "stderr",
     "output_type": "stream",
     "text": [
      "[codecarbon INFO @ 11:58:03] Energy consumed for RAM : 0.000064 kWh. RAM Power : 0.08790922164916992 W\n",
      "[codecarbon DEBUG @ 11:58:03] RAM : 0.09 W during 14.98 s [measurement time: 0.0131]\n",
      "[codecarbon INFO @ 11:58:03] Energy consumed for all CPUs : 0.030981 kWh. Total CPU Power : 42.5 W\n",
      "[codecarbon DEBUG @ 11:58:03] CPU : 42.50 W during 15.00 s [measurement time: 0.0002]\n",
      "[codecarbon INFO @ 11:58:03] Energy consumed for all GPUs : 0.010185 kWh. Total GPU Power : 13.453040930239188 W\n",
      "[codecarbon DEBUG @ 11:58:03] GPU : 13.45 W during 15.00 s [measurement time: 0.0036]\n",
      "[codecarbon INFO @ 11:58:03] 0.041230 kWh of electricity used since the beginning.\n",
      "[codecarbon DEBUG @ 11:58:03] last_duration=14.979989666000165\n",
      "------------------------\n",
      "[codecarbon INFO @ 11:58:18] Energy consumed for RAM : 0.000064 kWh. RAM Power : 0.08790922164916992 W\n",
      "[codecarbon DEBUG @ 11:58:18] RAM : 0.09 W during 14.98 s [measurement time: 0.0105]\n",
      "[codecarbon INFO @ 11:58:18] Energy consumed for all CPUs : 0.031158 kWh. Total CPU Power : 42.5 W\n",
      "[codecarbon DEBUG @ 11:58:18] CPU : 42.50 W during 14.99 s [measurement time: 0.0004]\n",
      "[codecarbon INFO @ 11:58:18] Energy consumed for all GPUs : 0.010251 kWh. Total GPU Power : 15.797281932834892 W\n",
      "[codecarbon DEBUG @ 11:58:18] GPU : 15.80 W during 14.99 s [measurement time: 0.0061]\n",
      "[codecarbon INFO @ 11:58:18] 0.041473 kWh of electricity used since the beginning.\n",
      "[codecarbon DEBUG @ 11:58:18] We apply an energy mix of 174 g.CO2eq/kWh for Spain\n",
      "[codecarbon DEBUG @ 11:58:18] EmissionsData(timestamp='2025-04-13T11:58:18', project_name='codecarbon', run_id='868e486c-ef2f-47f1-8b33-54ddf9c190fd', experiment_id='5b0fa12a-3dd7-45bb-9766-cc326314d9f1', duration=2640.168816601, emissions=0.007218441799326239, emissions_rate=2.7340834244907826e-06, cpu_power=42.5, gpu_power=15.797281932834892, ram_power=0.08790922164916992, cpu_energy=0.031157841954684042, gpu_energy=0.010251219034302001, ram_energy=6.431907034307736e-05, energy_consumed=0.04147338005932915, country_name='Spain', country_iso_code='ESP', region=None, cloud_provider='', cloud_region='', os='Linux-6.8.0-57-generic-x86_64-with-glibc2.35', python_version='3.12.9', codecarbon_version='2.8.3', cpu_count=32, cpu_model='13th Gen Intel(R) Core(TM) i9-13900', gpu_count=1, gpu_model='1 x NVIDIA RTX 5000 Ada Generation', longitude=None, latitude=None, ram_total_size=62.50331497192383, tracking_mode='process', on_cloud='N', pue=1.0)\n",
      "[codecarbon INFO @ 11:58:18] 0.002691 g.CO2eq/s mean an estimation of 84.87372981547631 kg.CO2eq/year\n",
      "[codecarbon DEBUG @ 11:58:18] last_duration=14.976851125000394\n",
      "------------------------\n"
     ]
    },
    {
     "name": "stdout",
     "output_type": "stream",
     "text": [
      "[139/1000] ./test/pdf/67.pdf\n"
     ]
    },
    {
     "name": "stderr",
     "output_type": "stream",
     "text": [
      "[codecarbon INFO @ 11:58:33] Energy consumed for RAM : 0.000065 kWh. RAM Power : 0.08790922164916992 W\n",
      "[codecarbon DEBUG @ 11:58:33] RAM : 0.09 W during 14.98 s [measurement time: 0.0140]\n",
      "[codecarbon INFO @ 11:58:33] Energy consumed for all CPUs : 0.031335 kWh. Total CPU Power : 42.5 W\n",
      "[codecarbon DEBUG @ 11:58:33] CPU : 42.50 W during 15.00 s [measurement time: 0.0006]\n",
      "[codecarbon INFO @ 11:58:33] Energy consumed for all GPUs : 0.010317 kWh. Total GPU Power : 15.773602777772826 W\n",
      "[codecarbon DEBUG @ 11:58:33] GPU : 15.77 W during 15.00 s [measurement time: 0.0027]\n",
      "[codecarbon INFO @ 11:58:33] 0.041717 kWh of electricity used since the beginning.\n",
      "[codecarbon DEBUG @ 11:58:33] last_duration=14.97591479499988\n",
      "------------------------\n"
     ]
    },
    {
     "name": "stdout",
     "output_type": "stream",
     "text": [
      "[140/1000] ./test/pdf/670.pdf\n"
     ]
    },
    {
     "name": "stderr",
     "output_type": "stream",
     "text": [
      "[codecarbon INFO @ 11:58:48] Energy consumed for RAM : 0.000065 kWh. RAM Power : 0.08790922164916992 W\n",
      "[codecarbon DEBUG @ 11:58:48] RAM : 0.09 W during 14.98 s [measurement time: 0.0124]\n",
      "[codecarbon INFO @ 11:58:48] Energy consumed for all CPUs : 0.031512 kWh. Total CPU Power : 42.5 W\n",
      "[codecarbon DEBUG @ 11:58:48] CPU : 42.50 W during 15.00 s [measurement time: 0.0005]\n",
      "[codecarbon INFO @ 11:58:48] Energy consumed for all GPUs : 0.010386 kWh. Total GPU Power : 16.477386326467215 W\n",
      "[codecarbon DEBUG @ 11:58:48] GPU : 16.48 W during 15.00 s [measurement time: 0.0026]\n",
      "[codecarbon INFO @ 11:58:48] 0.041963 kWh of electricity used since the beginning.\n",
      "[codecarbon DEBUG @ 11:58:48] last_duration=14.975480051999966\n",
      "------------------------\n"
     ]
    },
    {
     "name": "stdout",
     "output_type": "stream",
     "text": [
      "[141/1000] ./test/pdf/671.pdf\n"
     ]
    },
    {
     "name": "stderr",
     "output_type": "stream",
     "text": [
      "[codecarbon INFO @ 11:59:03] Energy consumed for RAM : 0.000065 kWh. RAM Power : 0.08790922164916992 W\n",
      "[codecarbon DEBUG @ 11:59:03] RAM : 0.09 W during 14.98 s [measurement time: 0.0131]\n",
      "[codecarbon INFO @ 11:59:03] Energy consumed for all CPUs : 0.031689 kWh. Total CPU Power : 42.5 W\n",
      "[codecarbon DEBUG @ 11:59:03] CPU : 42.50 W during 14.99 s [measurement time: 0.0003]\n",
      "[codecarbon INFO @ 11:59:03] Energy consumed for all GPUs : 0.010455 kWh. Total GPU Power : 16.730797703645475 W\n",
      "[codecarbon DEBUG @ 11:59:03] GPU : 16.73 W during 14.99 s [measurement time: 0.0025]\n",
      "[codecarbon INFO @ 11:59:03] 0.042210 kWh of electricity used since the beginning.\n",
      "[codecarbon DEBUG @ 11:59:03] last_duration=14.975659438000093\n",
      "------------------------\n"
     ]
    },
    {
     "name": "stdout",
     "output_type": "stream",
     "text": [
      "[142/1000] ./test/pdf/672.pdf\n"
     ]
    },
    {
     "name": "stderr",
     "output_type": "stream",
     "text": [
      "[codecarbon INFO @ 11:59:18] Energy consumed for RAM : 0.000066 kWh. RAM Power : 0.08790922164916992 W\n",
      "[codecarbon DEBUG @ 11:59:18] RAM : 0.09 W during 14.98 s [measurement time: 0.0140]\n",
      "[codecarbon INFO @ 11:59:18] Energy consumed for all CPUs : 0.031866 kWh. Total CPU Power : 42.5 W\n",
      "[codecarbon DEBUG @ 11:59:18] CPU : 42.50 W during 15.00 s [measurement time: 0.0003]\n",
      "[codecarbon INFO @ 11:59:18] Energy consumed for all GPUs : 0.010524 kWh. Total GPU Power : 16.536201459290364 W\n",
      "[codecarbon DEBUG @ 11:59:18] GPU : 16.54 W during 15.00 s [measurement time: 0.0036]\n",
      "[codecarbon INFO @ 11:59:18] 0.042456 kWh of electricity used since the beginning.\n",
      "[codecarbon DEBUG @ 11:59:18] last_duration=14.978875191999578\n",
      "------------------------\n"
     ]
    },
    {
     "name": "stdout",
     "output_type": "stream",
     "text": [
      "[143/1000] ./test/pdf/673.pdf\n",
      "[144/1000] ./test/pdf/674.pdf\n"
     ]
    },
    {
     "name": "stderr",
     "output_type": "stream",
     "text": [
      "[codecarbon INFO @ 11:59:33] Energy consumed for RAM : 0.000066 kWh. RAM Power : 0.08800077438354494 W\n",
      "[codecarbon DEBUG @ 11:59:33] RAM : 0.09 W during 14.97 s [measurement time: 0.0141]\n",
      "[codecarbon INFO @ 11:59:33] Energy consumed for all CPUs : 0.032043 kWh. Total CPU Power : 42.5 W\n",
      "[codecarbon DEBUG @ 11:59:33] CPU : 42.50 W during 14.99 s [measurement time: 0.0003]\n",
      "[codecarbon INFO @ 11:59:33] Energy consumed for all GPUs : 0.010595 kWh. Total GPU Power : 16.8915271712279 W\n",
      "[codecarbon DEBUG @ 11:59:33] GPU : 16.89 W during 15.00 s [measurement time: 0.0022]\n",
      "[codecarbon INFO @ 11:59:33] 0.042704 kWh of electricity used since the beginning.\n",
      "[codecarbon DEBUG @ 11:59:33] last_duration=14.9708435069997\n",
      "------------------------\n",
      "[codecarbon INFO @ 11:59:48] Energy consumed for RAM : 0.000067 kWh. RAM Power : 0.08800077438354494 W\n",
      "[codecarbon DEBUG @ 11:59:48] RAM : 0.09 W during 14.97 s [measurement time: 0.0111]\n",
      "[codecarbon INFO @ 11:59:48] Energy consumed for all CPUs : 0.032220 kWh. Total CPU Power : 42.5 W\n",
      "[codecarbon DEBUG @ 11:59:48] CPU : 42.50 W during 14.99 s [measurement time: 0.0005]\n",
      "[codecarbon INFO @ 11:59:48] Energy consumed for all GPUs : 0.010665 kWh. Total GPU Power : 16.956954952720004 W\n",
      "[codecarbon DEBUG @ 11:59:48] GPU : 16.96 W during 14.99 s [measurement time: 0.0022]\n",
      "[codecarbon INFO @ 11:59:48] 0.042952 kWh of electricity used since the beginning.\n",
      "[codecarbon DEBUG @ 11:59:48] last_duration=14.973421400999996\n",
      "------------------------\n"
     ]
    },
    {
     "name": "stdout",
     "output_type": "stream",
     "text": [
      "[145/1000] ./test/pdf/675.pdf\n"
     ]
    },
    {
     "name": "stderr",
     "output_type": "stream",
     "text": [
      "[codecarbon INFO @ 12:00:03] Energy consumed for RAM : 0.000067 kWh. RAM Power : 0.08800077438354494 W\n",
      "[codecarbon DEBUG @ 12:00:03] RAM : 0.09 W during 14.98 s [measurement time: 0.0127]\n",
      "[codecarbon INFO @ 12:00:03] Energy consumed for all CPUs : 0.032397 kWh. Total CPU Power : 42.5 W\n",
      "[codecarbon DEBUG @ 12:00:03] CPU : 42.50 W during 15.00 s [measurement time: 0.0004]\n",
      "[codecarbon INFO @ 12:00:03] Energy consumed for all GPUs : 0.010738 kWh. Total GPU Power : 17.46759468992852 W\n",
      "[codecarbon DEBUG @ 12:00:03] GPU : 17.47 W during 15.00 s [measurement time: 0.0043]\n",
      "[codecarbon INFO @ 12:00:03] 0.043202 kWh of electricity used since the beginning.\n",
      "[codecarbon DEBUG @ 12:00:03] last_duration=14.97890220599993\n",
      "------------------------\n"
     ]
    },
    {
     "name": "stdout",
     "output_type": "stream",
     "text": [
      "[146/1000] ./test/pdf/676.pdf\n"
     ]
    },
    {
     "name": "stderr",
     "output_type": "stream",
     "text": [
      "[codecarbon INFO @ 12:00:18] Energy consumed for RAM : 0.000067 kWh. RAM Power : 0.08800077438354494 W\n",
      "[codecarbon DEBUG @ 12:00:18] RAM : 0.09 W during 14.97 s [measurement time: 0.0118]\n",
      "[codecarbon INFO @ 12:00:18] Energy consumed for all CPUs : 0.032574 kWh. Total CPU Power : 42.5 W\n",
      "[codecarbon DEBUG @ 12:00:18] CPU : 42.50 W during 14.99 s [measurement time: 0.0006]\n",
      "[codecarbon INFO @ 12:00:18] Energy consumed for all GPUs : 0.010803 kWh. Total GPU Power : 15.517788935616998 W\n",
      "[codecarbon DEBUG @ 12:00:18] GPU : 15.52 W during 14.99 s [measurement time: 0.0030]\n",
      "[codecarbon INFO @ 12:00:18] 0.043444 kWh of electricity used since the beginning.\n",
      "[codecarbon DEBUG @ 12:00:18] We apply an energy mix of 174 g.CO2eq/kWh for Spain\n",
      "[codecarbon DEBUG @ 12:00:18] EmissionsData(timestamp='2025-04-13T12:00:18', project_name='codecarbon', run_id='868e486c-ef2f-47f1-8b33-54ddf9c190fd', experiment_id='5b0fa12a-3dd7-45bb-9766-cc326314d9f1', duration=2760.174493805, emissions=0.007561427288256203, emissions_rate=2.7394743720830863e-06, cpu_power=42.5, gpu_power=15.517788935616998, ram_power=0.08800077438354494, cpu_energy=0.032574166183975704, gpu_energy=0.010802582530948, ram_energy=6.724604667465928e-05, energy_consumed=0.0434439947615984, country_name='Spain', country_iso_code='ESP', region=None, cloud_provider='', cloud_region='', os='Linux-6.8.0-57-generic-x86_64-with-glibc2.35', python_version='3.12.9', codecarbon_version='2.8.3', cpu_count=32, cpu_model='13th Gen Intel(R) Core(TM) i9-13900', gpu_count=1, gpu_model='1 x NVIDIA RTX 5000 Ada Generation', longitude=None, latitude=None, ram_total_size=62.50331497192383, tracking_mode='process', on_cloud='N', pue=1.0)\n",
      "[codecarbon INFO @ 12:00:18] 0.002858 g.CO2eq/s mean an estimation of 90.13232232762061 kg.CO2eq/year\n",
      "[codecarbon DEBUG @ 12:00:18] last_duration=14.972028170000158\n",
      "------------------------\n"
     ]
    },
    {
     "name": "stdout",
     "output_type": "stream",
     "text": [
      "[147/1000] ./test/pdf/677.pdf\n"
     ]
    },
    {
     "name": "stderr",
     "output_type": "stream",
     "text": [
      "[codecarbon INFO @ 12:00:33] Energy consumed for RAM : 0.000068 kWh. RAM Power : 0.08800077438354494 W\n",
      "[codecarbon DEBUG @ 12:00:33] RAM : 0.09 W during 14.98 s [measurement time: 0.0153]\n",
      "[codecarbon INFO @ 12:00:33] Energy consumed for all CPUs : 0.032751 kWh. Total CPU Power : 42.5 W\n",
      "[codecarbon DEBUG @ 12:00:33] CPU : 42.50 W during 15.00 s [measurement time: 0.0006]\n",
      "[codecarbon INFO @ 12:00:33] Energy consumed for all GPUs : 0.010867 kWh. Total GPU Power : 15.381583526069422 W\n",
      "[codecarbon DEBUG @ 12:00:33] GPU : 15.38 W during 15.00 s [measurement time: 0.0045]\n",
      "[codecarbon INFO @ 12:00:33] 0.043686 kWh of electricity used since the beginning.\n",
      "[codecarbon DEBUG @ 12:00:33] last_duration=14.975982676000058\n",
      "------------------------\n"
     ]
    },
    {
     "name": "stdout",
     "output_type": "stream",
     "text": [
      "[148/1000] ./test/pdf/678.pdf\n"
     ]
    },
    {
     "name": "stderr",
     "output_type": "stream",
     "text": [
      "[codecarbon INFO @ 12:00:48] Energy consumed for RAM : 0.000068 kWh. RAM Power : 0.08800077438354494 W\n",
      "[codecarbon DEBUG @ 12:00:48] RAM : 0.09 W during 14.97 s [measurement time: 0.0138]\n",
      "[codecarbon INFO @ 12:00:48] Energy consumed for all CPUs : 0.032928 kWh. Total CPU Power : 42.5 W\n",
      "[codecarbon DEBUG @ 12:00:48] CPU : 42.50 W during 14.99 s [measurement time: 0.0004]\n",
      "[codecarbon INFO @ 12:00:48] Energy consumed for all GPUs : 0.010930 kWh. Total GPU Power : 15.23436641081491 W\n",
      "[codecarbon DEBUG @ 12:00:48] GPU : 15.23 W during 14.99 s [measurement time: 0.0051]\n",
      "[codecarbon INFO @ 12:00:48] 0.043926 kWh of electricity used since the beginning.\n",
      "[codecarbon DEBUG @ 12:00:48] last_duration=14.968522967999888\n",
      "------------------------\n"
     ]
    },
    {
     "name": "stdout",
     "output_type": "stream",
     "text": [
      "[149/1000] ./test/pdf/679.pdf\n"
     ]
    },
    {
     "name": "stderr",
     "output_type": "stream",
     "text": [
      "[codecarbon INFO @ 12:01:03] Energy consumed for RAM : 0.000068 kWh. RAM Power : 0.08800077438354494 W\n",
      "[codecarbon DEBUG @ 12:01:03] RAM : 0.09 W during 14.97 s [measurement time: 0.0150]\n",
      "[codecarbon INFO @ 12:01:03] Energy consumed for all CPUs : 0.033105 kWh. Total CPU Power : 42.5 W\n",
      "[codecarbon DEBUG @ 12:01:03] CPU : 42.50 W during 15.00 s [measurement time: 0.0004]\n",
      "[codecarbon INFO @ 12:01:03] Energy consumed for all GPUs : 0.010998 kWh. Total GPU Power : 16.206069430827483 W\n",
      "[codecarbon DEBUG @ 12:01:03] GPU : 16.21 W during 15.00 s [measurement time: 0.0030]\n",
      "[codecarbon INFO @ 12:01:03] 0.044171 kWh of electricity used since the beginning.\n",
      "[codecarbon DEBUG @ 12:01:03] last_duration=14.970994709000024\n",
      "------------------------\n",
      "[codecarbon INFO @ 12:01:18] Energy consumed for RAM : 0.000069 kWh. RAM Power : 0.08800077438354494 W\n",
      "[codecarbon DEBUG @ 12:01:18] RAM : 0.09 W during 14.97 s [measurement time: 0.0163]\n",
      "[codecarbon INFO @ 12:01:18] Energy consumed for all CPUs : 0.033282 kWh. Total CPU Power : 42.5 W\n",
      "[codecarbon DEBUG @ 12:01:18] CPU : 42.50 W during 15.00 s [measurement time: 0.0003]\n",
      "[codecarbon INFO @ 12:01:18] Energy consumed for all GPUs : 0.011060 kWh. Total GPU Power : 14.949781216447441 W\n",
      "[codecarbon DEBUG @ 12:01:18] GPU : 14.95 W during 15.00 s [measurement time: 0.0093]\n",
      "[codecarbon INFO @ 12:01:18] 0.044411 kWh of electricity used since the beginning.\n",
      "[codecarbon DEBUG @ 12:01:18] last_duration=14.971603179999875\n",
      "------------------------\n",
      "[codecarbon INFO @ 12:01:33] Energy consumed for RAM : 0.000069 kWh. RAM Power : 0.08800077438354494 W\n",
      "[codecarbon DEBUG @ 12:01:33] RAM : 0.09 W during 14.96 s [measurement time: 0.0138]\n",
      "[codecarbon INFO @ 12:01:33] Energy consumed for all CPUs : 0.033459 kWh. Total CPU Power : 42.5 W\n",
      "[codecarbon DEBUG @ 12:01:33] CPU : 42.50 W during 14.98 s [measurement time: 0.0006]\n",
      "[codecarbon INFO @ 12:01:33] Energy consumed for all GPUs : 0.011113 kWh. Total GPU Power : 12.685126544509341 W\n",
      "[codecarbon DEBUG @ 12:01:33] GPU : 12.69 W during 14.99 s [measurement time: 0.0087]\n",
      "[codecarbon INFO @ 12:01:33] 0.044641 kWh of electricity used since the beginning.\n",
      "[codecarbon DEBUG @ 12:01:33] last_duration=14.962367209999684\n",
      "------------------------\n"
     ]
    },
    {
     "name": "stdout",
     "output_type": "stream",
     "text": [
      "[150/1000] ./test/pdf/68.pdf\n"
     ]
    },
    {
     "name": "stderr",
     "output_type": "stream",
     "text": [
      "[codecarbon INFO @ 12:01:48] Energy consumed for RAM : 0.000069 kWh. RAM Power : 0.08800077438354494 W\n",
      "[codecarbon DEBUG @ 12:01:48] RAM : 0.09 W during 14.97 s [measurement time: 0.0083]\n",
      "[codecarbon INFO @ 12:01:48] Energy consumed for all CPUs : 0.033636 kWh. Total CPU Power : 42.5 W\n",
      "[codecarbon DEBUG @ 12:01:48] CPU : 42.50 W during 14.98 s [measurement time: 0.0004]\n",
      "[codecarbon INFO @ 12:01:48] Energy consumed for all GPUs : 0.011164 kWh. Total GPU Power : 12.306659257524801 W\n",
      "[codecarbon DEBUG @ 12:01:48] GPU : 12.31 W during 14.98 s [measurement time: 0.0034]\n",
      "[codecarbon INFO @ 12:01:48] 0.044869 kWh of electricity used since the beginning.\n",
      "[codecarbon DEBUG @ 12:01:48] last_duration=14.965635529999872\n",
      "------------------------\n",
      "[codecarbon INFO @ 12:02:03] Energy consumed for RAM : 0.000070 kWh. RAM Power : 0.08800077438354494 W\n",
      "[codecarbon DEBUG @ 12:02:03] RAM : 0.09 W during 14.98 s [measurement time: 0.0142]\n",
      "[codecarbon INFO @ 12:02:03] Energy consumed for all CPUs : 0.033813 kWh. Total CPU Power : 42.5 W\n",
      "[codecarbon DEBUG @ 12:02:03] CPU : 42.50 W during 15.00 s [measurement time: 0.0004]\n",
      "[codecarbon INFO @ 12:02:03] Energy consumed for all GPUs : 0.011219 kWh. Total GPU Power : 13.242010976787714 W\n",
      "[codecarbon DEBUG @ 12:02:03] GPU : 13.24 W during 15.00 s [measurement time: 0.0022]\n",
      "[codecarbon INFO @ 12:02:03] 0.045102 kWh of electricity used since the beginning.\n",
      "[codecarbon DEBUG @ 12:02:03] last_duration=14.98067736799976\n",
      "------------------------\n"
     ]
    },
    {
     "name": "stdout",
     "output_type": "stream",
     "text": [
      "[151/1000] ./test/pdf/680.pdf\n"
     ]
    },
    {
     "name": "stderr",
     "output_type": "stream",
     "text": [
      "[codecarbon INFO @ 12:02:18] Energy consumed for RAM : 0.000070 kWh. RAM Power : 0.08800077438354494 W\n",
      "[codecarbon DEBUG @ 12:02:18] RAM : 0.09 W during 14.97 s [measurement time: 0.0106]\n",
      "[codecarbon INFO @ 12:02:18] Energy consumed for all CPUs : 0.033990 kWh. Total CPU Power : 42.5 W\n",
      "[codecarbon DEBUG @ 12:02:18] CPU : 42.50 W during 14.99 s [measurement time: 0.0005]\n",
      "[codecarbon INFO @ 12:02:18] Energy consumed for all GPUs : 0.011275 kWh. Total GPU Power : 13.440015664699585 W\n",
      "[codecarbon DEBUG @ 12:02:18] GPU : 13.44 W during 14.99 s [measurement time: 0.0043]\n",
      "[codecarbon INFO @ 12:02:18] 0.045335 kWh of electricity used since the beginning.\n",
      "[codecarbon DEBUG @ 12:02:18] We apply an energy mix of 174 g.CO2eq/kWh for Spain\n",
      "[codecarbon DEBUG @ 12:02:18] EmissionsData(timestamp='2025-04-13T12:02:18', project_name='codecarbon', run_id='868e486c-ef2f-47f1-8b33-54ddf9c190fd', experiment_id='5b0fa12a-3dd7-45bb-9766-cc326314d9f1', duration=2880.178617167, emissions=0.007890643634361769, emissions_rate=2.7396369056177356e-06, cpu_power=42.5, gpu_power=13.440015664699585, ram_power=0.08800077438354494, cpu_energy=0.03399021861927432, gpu_energy=0.011275106797856002, ram_energy=7.017377483612405e-05, energy_consumed=0.04533549919196649, country_name='Spain', country_iso_code='ESP', region=None, cloud_provider='', cloud_region='', os='Linux-6.8.0-57-generic-x86_64-with-glibc2.35', python_version='3.12.9', codecarbon_version='2.8.3', cpu_count=32, cpu_model='13th Gen Intel(R) Core(TM) i9-13900', gpu_count=1, gpu_model='1 x NVIDIA RTX 5000 Ada Generation', longitude=None, latitude=None, ram_total_size=62.50331497192383, tracking_mode='process', on_cloud='N', pue=1.0)\n",
      "[codecarbon INFO @ 12:02:18] 0.002743 g.CO2eq/s mean an estimation of 86.51508298149623 kg.CO2eq/year\n",
      "[codecarbon DEBUG @ 12:02:18] last_duration=14.97378224699969\n",
      "------------------------\n"
     ]
    },
    {
     "name": "stdout",
     "output_type": "stream",
     "text": [
      "[152/1000] ./test/pdf/681.pdf\n"
     ]
    },
    {
     "name": "stderr",
     "output_type": "stream",
     "text": [
      "[codecarbon INFO @ 12:02:33] Energy consumed for RAM : 0.000071 kWh. RAM Power : 0.08800077438354494 W\n",
      "[codecarbon DEBUG @ 12:02:33] RAM : 0.09 W during 14.98 s [measurement time: 0.0138]\n",
      "[codecarbon INFO @ 12:02:33] Energy consumed for all CPUs : 0.034167 kWh. Total CPU Power : 42.5 W\n",
      "[codecarbon DEBUG @ 12:02:33] CPU : 42.50 W during 15.00 s [measurement time: 0.0002]\n",
      "[codecarbon INFO @ 12:02:33] Energy consumed for all GPUs : 0.011330 kWh. Total GPU Power : 13.19636213518248 W\n",
      "[codecarbon DEBUG @ 12:02:33] GPU : 13.20 W during 15.00 s [measurement time: 0.0041]\n",
      "[codecarbon INFO @ 12:02:33] 0.045568 kWh of electricity used since the beginning.\n",
      "[codecarbon DEBUG @ 12:02:33] last_duration=14.978006706000087\n",
      "------------------------\n"
     ]
    },
    {
     "name": "stdout",
     "output_type": "stream",
     "text": [
      "[153/1000] ./test/pdf/682.pdf\n"
     ]
    },
    {
     "name": "stderr",
     "output_type": "stream",
     "text": [
      "[codecarbon INFO @ 12:02:48] Energy consumed for RAM : 0.000071 kWh. RAM Power : 0.08800077438354494 W\n",
      "[codecarbon DEBUG @ 12:02:48] RAM : 0.09 W during 14.98 s [measurement time: 0.0136]\n",
      "[codecarbon INFO @ 12:02:48] Energy consumed for all CPUs : 0.034344 kWh. Total CPU Power : 42.5 W\n",
      "[codecarbon DEBUG @ 12:02:48] CPU : 42.50 W during 15.00 s [measurement time: 0.0007]\n",
      "[codecarbon INFO @ 12:02:48] Energy consumed for all GPUs : 0.011386 kWh. Total GPU Power : 13.52143677999461 W\n",
      "[codecarbon DEBUG @ 12:02:48] GPU : 13.52 W during 15.00 s [measurement time: 0.0026]\n",
      "[codecarbon INFO @ 12:02:48] 0.045802 kWh of electricity used since the beginning.\n",
      "[codecarbon DEBUG @ 12:02:48] last_duration=14.975890474999687\n",
      "------------------------\n",
      "[codecarbon INFO @ 12:03:03] Energy consumed for RAM : 0.000071 kWh. RAM Power : 0.08800077438354494 W\n",
      "[codecarbon DEBUG @ 12:03:03] RAM : 0.09 W during 14.97 s [measurement time: 0.0077]\n",
      "[codecarbon INFO @ 12:03:03] Energy consumed for all CPUs : 0.034521 kWh. Total CPU Power : 42.5 W\n",
      "[codecarbon DEBUG @ 12:03:03] CPU : 42.50 W during 14.98 s [measurement time: 0.0002]\n",
      "[codecarbon INFO @ 12:03:03] Energy consumed for all GPUs : 0.011441 kWh. Total GPU Power : 13.103643271453135 W\n",
      "[codecarbon DEBUG @ 12:03:03] GPU : 13.10 W during 14.98 s [measurement time: 0.0018]\n",
      "[codecarbon INFO @ 12:03:03] 0.046033 kWh of electricity used since the beginning.\n",
      "[codecarbon DEBUG @ 12:03:03] last_duration=14.97073155399994\n",
      "------------------------\n"
     ]
    },
    {
     "name": "stdout",
     "output_type": "stream",
     "text": [
      "[154/1000] ./test/pdf/683.pdf\n"
     ]
    },
    {
     "name": "stderr",
     "output_type": "stream",
     "text": [
      "[codecarbon INFO @ 12:03:18] Energy consumed for RAM : 0.000072 kWh. RAM Power : 0.08800077438354494 W\n",
      "[codecarbon DEBUG @ 12:03:18] RAM : 0.09 W during 14.99 s [measurement time: 0.0133]\n",
      "[codecarbon INFO @ 12:03:18] Energy consumed for all CPUs : 0.034699 kWh. Total CPU Power : 42.5 W\n",
      "[codecarbon DEBUG @ 12:03:18] CPU : 42.50 W during 15.02 s [measurement time: 0.0012]\n",
      "[codecarbon INFO @ 12:03:18] Energy consumed for all GPUs : 0.011498 kWh. Total GPU Power : 13.65262812124381 W\n",
      "[codecarbon DEBUG @ 12:03:18] GPU : 13.65 W during 15.02 s [measurement time: 0.0027]\n",
      "[codecarbon INFO @ 12:03:18] 0.046268 kWh of electricity used since the beginning.\n",
      "[codecarbon DEBUG @ 12:03:18] last_duration=14.986321897999915\n",
      "------------------------\n"
     ]
    },
    {
     "name": "stdout",
     "output_type": "stream",
     "text": [
      "[155/1000] ./test/pdf/684.pdf\n"
     ]
    },
    {
     "name": "stderr",
     "output_type": "stream",
     "text": [
      "[codecarbon INFO @ 12:03:33] Energy consumed for RAM : 0.000072 kWh. RAM Power : 0.08800077438354494 W\n",
      "[codecarbon DEBUG @ 12:03:33] RAM : 0.09 W during 14.96 s [measurement time: 0.0114]\n",
      "[codecarbon INFO @ 12:03:33] Energy consumed for all CPUs : 0.034875 kWh. Total CPU Power : 42.5 W\n",
      "[codecarbon DEBUG @ 12:03:33] CPU : 42.50 W during 14.98 s [measurement time: 0.0003]\n",
      "[codecarbon INFO @ 12:03:33] Energy consumed for all GPUs : 0.011553 kWh. Total GPU Power : 13.156369053211698 W\n",
      "[codecarbon DEBUG @ 12:03:33] GPU : 13.16 W during 14.98 s [measurement time: 0.0026]\n",
      "[codecarbon INFO @ 12:03:33] 0.046500 kWh of electricity used since the beginning.\n",
      "[codecarbon DEBUG @ 12:03:33] last_duration=14.963851544000136\n",
      "------------------------\n"
     ]
    },
    {
     "name": "stdout",
     "output_type": "stream",
     "text": [
      "[156/1000] ./test/pdf/685.pdf\n"
     ]
    },
    {
     "name": "stderr",
     "output_type": "stream",
     "text": [
      "[codecarbon INFO @ 12:03:48] Energy consumed for RAM : 0.000072 kWh. RAM Power : 0.08800077438354494 W\n",
      "[codecarbon DEBUG @ 12:03:48] RAM : 0.09 W during 14.98 s [measurement time: 0.0140]\n",
      "[codecarbon INFO @ 12:03:48] Energy consumed for all CPUs : 0.035052 kWh. Total CPU Power : 42.5 W\n",
      "[codecarbon DEBUG @ 12:03:48] CPU : 42.50 W during 15.00 s [measurement time: 0.0006]\n",
      "[codecarbon INFO @ 12:03:48] Energy consumed for all GPUs : 0.011601 kWh. Total GPU Power : 11.714972795922405 W\n",
      "[codecarbon DEBUG @ 12:03:48] GPU : 11.71 W during 15.00 s [measurement time: 0.0023]\n",
      "[codecarbon INFO @ 12:03:48] 0.046726 kWh of electricity used since the beginning.\n",
      "[codecarbon DEBUG @ 12:03:48] last_duration=14.976111620999745\n",
      "------------------------\n"
     ]
    },
    {
     "name": "stdout",
     "output_type": "stream",
     "text": [
      "[157/1000] ./test/pdf/686.pdf\n"
     ]
    },
    {
     "name": "stderr",
     "output_type": "stream",
     "text": [
      "[codecarbon INFO @ 12:04:03] Energy consumed for RAM : 0.000073 kWh. RAM Power : 0.08800077438354494 W\n",
      "[codecarbon DEBUG @ 12:04:03] RAM : 0.09 W during 14.98 s [measurement time: 0.0114]\n",
      "[codecarbon INFO @ 12:04:03] Energy consumed for all CPUs : 0.035229 kWh. Total CPU Power : 42.5 W\n",
      "[codecarbon DEBUG @ 12:04:03] CPU : 42.50 W during 14.99 s [measurement time: 0.0008]\n",
      "[codecarbon INFO @ 12:04:03] Energy consumed for all GPUs : 0.011659 kWh. Total GPU Power : 13.739895380640537 W\n",
      "[codecarbon DEBUG @ 12:04:03] GPU : 13.74 W during 15.00 s [measurement time: 0.0035]\n",
      "[codecarbon INFO @ 12:04:03] 0.046961 kWh of electricity used since the beginning.\n",
      "[codecarbon DEBUG @ 12:04:03] last_duration=14.975166314000035\n",
      "------------------------\n"
     ]
    },
    {
     "name": "stdout",
     "output_type": "stream",
     "text": [
      "[158/1000] ./test/pdf/687.pdf\n"
     ]
    },
    {
     "name": "stderr",
     "output_type": "stream",
     "text": [
      "[codecarbon INFO @ 12:04:18] Energy consumed for RAM : 0.000073 kWh. RAM Power : 0.08800077438354494 W\n",
      "[codecarbon DEBUG @ 12:04:18] RAM : 0.09 W during 14.98 s [measurement time: 0.0143]\n",
      "[codecarbon INFO @ 12:04:18] Energy consumed for all CPUs : 0.035407 kWh. Total CPU Power : 42.5 W\n",
      "[codecarbon DEBUG @ 12:04:18] CPU : 42.50 W during 15.00 s [measurement time: 0.0005]\n",
      "[codecarbon INFO @ 12:04:18] Energy consumed for all GPUs : 0.011716 kWh. Total GPU Power : 13.85098663306287 W\n",
      "[codecarbon DEBUG @ 12:04:18] GPU : 13.85 W during 15.00 s [measurement time: 0.0082]\n",
      "[codecarbon INFO @ 12:04:18] 0.047196 kWh of electricity used since the beginning.\n",
      "[codecarbon DEBUG @ 12:04:18] We apply an energy mix of 174 g.CO2eq/kWh for Spain\n",
      "[codecarbon DEBUG @ 12:04:18] EmissionsData(timestamp='2025-04-13T12:04:18', project_name='codecarbon', run_id='868e486c-ef2f-47f1-8b33-54ddf9c190fd', experiment_id='5b0fa12a-3dd7-45bb-9766-cc326314d9f1', duration=3000.194003027, emissions=0.008214479027744418, emissions_rate=2.737982616942953e-06, cpu_power=42.5, gpu_power=13.85098663306287, ram_power=0.08800077438354494, cpu_energy=0.03540654777063266, gpu_energy=0.011716437428698, ram_energy=7.310229130082568e-05, energy_consumed=0.04719608749063153, country_name='Spain', country_iso_code='ESP', region=None, cloud_provider='', cloud_region='', os='Linux-6.8.0-57-generic-x86_64-with-glibc2.35', python_version='3.12.9', codecarbon_version='2.8.3', cpu_count=32, cpu_model='13th Gen Intel(R) Core(TM) i9-13900', gpu_count=1, gpu_model='1 x NVIDIA RTX 5000 Ada Generation', longitude=None, latitude=None, ram_total_size=62.50331497192383, tracking_mode='process', on_cloud='N', pue=1.0)\n",
      "[codecarbon INFO @ 12:04:18] 0.002698 g.CO2eq/s mean an estimation of 85.09303113542687 kg.CO2eq/year\n",
      "[codecarbon DEBUG @ 12:04:18] last_duration=14.97570469700031\n",
      "------------------------\n"
     ]
    },
    {
     "name": "stdout",
     "output_type": "stream",
     "text": [
      "[159/1000] ./test/pdf/688.pdf\n",
      "[160/1000] ./test/pdf/689.pdf\n"
     ]
    },
    {
     "name": "stderr",
     "output_type": "stream",
     "text": [
      "[codecarbon INFO @ 12:04:33] Energy consumed for RAM : 0.000073 kWh. RAM Power : 0.08800077438354494 W\n",
      "[codecarbon DEBUG @ 12:04:33] RAM : 0.09 W during 14.97 s [measurement time: 0.0144]\n",
      "[codecarbon INFO @ 12:04:33] Energy consumed for all CPUs : 0.035584 kWh. Total CPU Power : 42.5 W\n",
      "[codecarbon DEBUG @ 12:04:33] CPU : 42.50 W during 15.00 s [measurement time: 0.0010]\n",
      "[codecarbon INFO @ 12:04:33] Energy consumed for all GPUs : 0.011771 kWh. Total GPU Power : 13.048740416771281 W\n",
      "[codecarbon DEBUG @ 12:04:33] GPU : 13.05 W during 15.00 s [measurement time: 0.0032]\n",
      "[codecarbon INFO @ 12:04:33] 0.047428 kWh of electricity used since the beginning.\n",
      "[codecarbon DEBUG @ 12:04:33] last_duration=14.968536888000017\n",
      "------------------------\n"
     ]
    },
    {
     "name": "stdout",
     "output_type": "stream",
     "text": [
      "[161/1000] ./test/pdf/69.pdf\n"
     ]
    },
    {
     "name": "stderr",
     "output_type": "stream",
     "text": [
      "[codecarbon INFO @ 12:04:48] Energy consumed for RAM : 0.000074 kWh. RAM Power : 0.08800077438354494 W\n",
      "[codecarbon DEBUG @ 12:04:48] RAM : 0.09 W during 14.96 s [measurement time: 0.0155]\n",
      "[codecarbon INFO @ 12:04:48] Energy consumed for all CPUs : 0.035761 kWh. Total CPU Power : 42.5 W\n",
      "[codecarbon DEBUG @ 12:04:48] CPU : 42.50 W during 14.99 s [measurement time: 0.0003]\n",
      "[codecarbon INFO @ 12:04:48] Energy consumed for all GPUs : 0.011824 kWh. Total GPU Power : 12.844229682936843 W\n",
      "[codecarbon DEBUG @ 12:04:48] GPU : 12.84 W during 14.99 s [measurement time: 0.0039]\n",
      "[codecarbon INFO @ 12:04:48] 0.047659 kWh of electricity used since the beginning.\n",
      "[codecarbon DEBUG @ 12:04:48] last_duration=14.964582702999905\n",
      "------------------------\n",
      "[codecarbon INFO @ 12:05:03] Energy consumed for RAM : 0.000074 kWh. RAM Power : 0.08800077438354494 W\n",
      "[codecarbon DEBUG @ 12:05:03] RAM : 0.09 W during 14.97 s [measurement time: 0.0166]\n",
      "[codecarbon INFO @ 12:05:03] Energy consumed for all CPUs : 0.035938 kWh. Total CPU Power : 42.5 W\n",
      "[codecarbon DEBUG @ 12:05:03] CPU : 42.50 W during 15.00 s [measurement time: 0.0004]\n",
      "[codecarbon INFO @ 12:05:03] Energy consumed for all GPUs : 0.011882 kWh. Total GPU Power : 13.94154273365711 W\n",
      "[codecarbon DEBUG @ 12:05:03] GPU : 13.94 W during 15.00 s [measurement time: 0.0027]\n",
      "[codecarbon INFO @ 12:05:03] 0.047894 kWh of electricity used since the beginning.\n",
      "[codecarbon DEBUG @ 12:05:03] last_duration=14.969782662999933\n",
      "------------------------\n"
     ]
    },
    {
     "name": "stdout",
     "output_type": "stream",
     "text": [
      "[162/1000] ./test/pdf/690.pdf\n"
     ]
    },
    {
     "name": "stderr",
     "output_type": "stream",
     "text": [
      "[codecarbon INFO @ 12:05:18] Energy consumed for RAM : 0.000075 kWh. RAM Power : 0.08800077438354494 W\n",
      "[codecarbon DEBUG @ 12:05:18] RAM : 0.09 W during 14.96 s [measurement time: 0.0151]\n",
      "[codecarbon INFO @ 12:05:18] Energy consumed for all CPUs : 0.036115 kWh. Total CPU Power : 42.5 W\n",
      "[codecarbon DEBUG @ 12:05:18] CPU : 42.50 W during 14.99 s [measurement time: 0.0004]\n",
      "[codecarbon INFO @ 12:05:18] Energy consumed for all GPUs : 0.011940 kWh. Total GPU Power : 13.72755611697695 W\n",
      "[codecarbon DEBUG @ 12:05:18] GPU : 13.73 W during 14.99 s [measurement time: 0.0022]\n",
      "[codecarbon INFO @ 12:05:18] 0.048129 kWh of electricity used since the beginning.\n",
      "[codecarbon DEBUG @ 12:05:18] last_duration=14.964284633999796\n",
      "------------------------\n"
     ]
    },
    {
     "name": "stdout",
     "output_type": "stream",
     "text": [
      "[163/1000] ./test/pdf/691.pdf\n"
     ]
    },
    {
     "name": "stderr",
     "output_type": "stream",
     "text": [
      "[codecarbon INFO @ 12:05:33] Energy consumed for RAM : 0.000075 kWh. RAM Power : 0.08800077438354494 W\n",
      "[codecarbon DEBUG @ 12:05:33] RAM : 0.09 W during 14.97 s [measurement time: 0.0147]\n",
      "[codecarbon INFO @ 12:05:33] Energy consumed for all CPUs : 0.036292 kWh. Total CPU Power : 42.5 W\n",
      "[codecarbon DEBUG @ 12:05:33] CPU : 42.50 W during 15.00 s [measurement time: 0.0006]\n",
      "[codecarbon INFO @ 12:05:33] Energy consumed for all GPUs : 0.011998 kWh. Total GPU Power : 13.986620914642751 W\n",
      "[codecarbon DEBUG @ 12:05:33] GPU : 13.99 W during 15.00 s [measurement time: 0.0021]\n",
      "[codecarbon INFO @ 12:05:33] 0.048364 kWh of electricity used since the beginning.\n",
      "[codecarbon DEBUG @ 12:05:33] last_duration=14.97142895800016\n",
      "------------------------\n"
     ]
    },
    {
     "name": "stdout",
     "output_type": "stream",
     "text": [
      "[164/1000] ./test/pdf/692.pdf\n"
     ]
    },
    {
     "name": "stderr",
     "output_type": "stream",
     "text": [
      "[codecarbon INFO @ 12:05:48] Energy consumed for RAM : 0.000075 kWh. RAM Power : 0.08800077438354494 W\n",
      "[codecarbon DEBUG @ 12:05:48] RAM : 0.09 W during 14.97 s [measurement time: 0.0078]\n",
      "[codecarbon INFO @ 12:05:48] Energy consumed for all CPUs : 0.036469 kWh. Total CPU Power : 42.5 W\n",
      "[codecarbon DEBUG @ 12:05:48] CPU : 42.50 W during 14.98 s [measurement time: 0.0002]\n",
      "[codecarbon INFO @ 12:05:48] Energy consumed for all GPUs : 0.012055 kWh. Total GPU Power : 13.83771712053468 W\n",
      "[codecarbon DEBUG @ 12:05:48] GPU : 13.84 W during 14.99 s [measurement time: 0.0057]\n",
      "[codecarbon INFO @ 12:05:48] 0.048599 kWh of electricity used since the beginning.\n",
      "[codecarbon DEBUG @ 12:05:48] last_duration=14.972458268000082\n",
      "------------------------\n",
      "[codecarbon INFO @ 12:06:03] Energy consumed for RAM : 0.000076 kWh. RAM Power : 0.08800077438354494 W\n",
      "[codecarbon DEBUG @ 12:06:03] RAM : 0.09 W during 14.98 s [measurement time: 0.0101]\n",
      "[codecarbon INFO @ 12:06:03] Energy consumed for all CPUs : 0.036646 kWh. Total CPU Power : 42.5 W\n",
      "[codecarbon DEBUG @ 12:06:03] CPU : 42.50 W during 15.00 s [measurement time: 0.0007]\n",
      "[codecarbon INFO @ 12:06:03] Energy consumed for all GPUs : 0.012114 kWh. Total GPU Power : 13.98616507670346 W\n",
      "[codecarbon DEBUG @ 12:06:03] GPU : 13.99 W during 15.00 s [measurement time: 0.0051]\n",
      "[codecarbon INFO @ 12:06:03] 0.048835 kWh of electricity used since the beginning.\n",
      "[codecarbon DEBUG @ 12:06:03] last_duration=14.981782418999956\n",
      "------------------------\n",
      "[codecarbon INFO @ 12:06:18] Energy consumed for RAM : 0.000076 kWh. RAM Power : 0.08800077438354494 W\n",
      "[codecarbon DEBUG @ 12:06:18] RAM : 0.09 W during 14.98 s [measurement time: 0.0142]\n",
      "[codecarbon INFO @ 12:06:18] Energy consumed for all CPUs : 0.036823 kWh. Total CPU Power : 42.5 W\n",
      "[codecarbon DEBUG @ 12:06:18] CPU : 42.50 W during 15.00 s [measurement time: 0.0005]\n",
      "[codecarbon INFO @ 12:06:18] Energy consumed for all GPUs : 0.012172 kWh. Total GPU Power : 14.046452020034858 W\n",
      "[codecarbon DEBUG @ 12:06:18] GPU : 14.05 W during 15.00 s [measurement time: 0.0027]\n",
      "[codecarbon INFO @ 12:06:18] 0.049071 kWh of electricity used since the beginning.\n",
      "[codecarbon DEBUG @ 12:06:18] We apply an energy mix of 174 g.CO2eq/kWh for Spain\n",
      "[codecarbon DEBUG @ 12:06:18] EmissionsData(timestamp='2025-04-13T12:06:18', project_name='codecarbon', run_id='868e486c-ef2f-47f1-8b33-54ddf9c190fd', experiment_id='5b0fa12a-3dd7-45bb-9766-cc326314d9f1', duration=3120.197984749, emissions=0.00854081279526217, emissions_rate=2.737266300730985e-06, cpu_power=42.5, gpu_power=14.046452020034858, ram_power=0.08800077438354494, cpu_energy=0.036822765380186126, gpu_energy=0.012172234737779999, ram_energy=7.603001855879139e-05, energy_consumed=0.04907103013652497, country_name='Spain', country_iso_code='ESP', region=None, cloud_provider='', cloud_region='', os='Linux-6.8.0-57-generic-x86_64-with-glibc2.35', python_version='3.12.9', codecarbon_version='2.8.3', cpu_count=32, cpu_model='13th Gen Intel(R) Core(TM) i9-13900', gpu_count=1, gpu_model='1 x NVIDIA RTX 5000 Ada Generation', longitude=None, latitude=None, ram_total_size=62.50331497192383, tracking_mode='process', on_cloud='N', pue=1.0)\n",
      "[codecarbon INFO @ 12:06:18] 0.002719 g.CO2eq/s mean an estimation of 85.75766857703468 kg.CO2eq/year\n",
      "[codecarbon DEBUG @ 12:06:18] last_duration=14.976620376000028\n",
      "------------------------\n"
     ]
    },
    {
     "name": "stdout",
     "output_type": "stream",
     "text": [
      "[165/1000] ./test/pdf/693.pdf\n"
     ]
    },
    {
     "name": "stderr",
     "output_type": "stream",
     "text": [
      "[codecarbon INFO @ 12:06:33] Energy consumed for RAM : 0.000076 kWh. RAM Power : 0.08800077438354494 W\n",
      "[codecarbon DEBUG @ 12:06:33] RAM : 0.09 W during 14.97 s [measurement time: 0.0109]\n",
      "[codecarbon INFO @ 12:06:33] Energy consumed for all CPUs : 0.037000 kWh. Total CPU Power : 42.5 W\n",
      "[codecarbon DEBUG @ 12:06:33] CPU : 42.50 W during 14.99 s [measurement time: 0.0002]\n",
      "[codecarbon INFO @ 12:06:33] Energy consumed for all GPUs : 0.012230 kWh. Total GPU Power : 13.938989037642838 W\n",
      "[codecarbon DEBUG @ 12:06:33] GPU : 13.94 W during 14.99 s [measurement time: 0.0032]\n",
      "[codecarbon INFO @ 12:06:33] 0.049306 kWh of electricity used since the beginning.\n",
      "[codecarbon DEBUG @ 12:06:33] last_duration=14.970986552999875\n",
      "------------------------\n"
     ]
    },
    {
     "name": "stdout",
     "output_type": "stream",
     "text": [
      "[166/1000] ./test/pdf/694.pdf\n"
     ]
    },
    {
     "name": "stderr",
     "output_type": "stream",
     "text": [
      "[codecarbon INFO @ 12:06:48] Energy consumed for RAM : 0.000077 kWh. RAM Power : 0.08800077438354494 W\n",
      "[codecarbon DEBUG @ 12:06:48] RAM : 0.09 W during 14.98 s [measurement time: 0.0140]\n",
      "[codecarbon INFO @ 12:06:48] Energy consumed for all CPUs : 0.037177 kWh. Total CPU Power : 42.5 W\n",
      "[codecarbon DEBUG @ 12:06:48] CPU : 42.50 W during 15.00 s [measurement time: 0.0003]\n",
      "[codecarbon INFO @ 12:06:48] Energy consumed for all GPUs : 0.012287 kWh. Total GPU Power : 13.659589709157258 W\n",
      "[codecarbon DEBUG @ 12:06:48] GPU : 13.66 W during 15.00 s [measurement time: 0.0032]\n",
      "[codecarbon INFO @ 12:06:48] 0.049541 kWh of electricity used since the beginning.\n",
      "[codecarbon DEBUG @ 12:06:48] last_duration=14.975226443999873\n",
      "------------------------\n"
     ]
    },
    {
     "name": "stdout",
     "output_type": "stream",
     "text": [
      "[167/1000] ./test/pdf/695.pdf\n"
     ]
    },
    {
     "name": "stderr",
     "output_type": "stream",
     "text": [
      "[codecarbon INFO @ 12:07:03] Energy consumed for RAM : 0.000077 kWh. RAM Power : 0.08800077438354494 W\n",
      "[codecarbon DEBUG @ 12:07:03] RAM : 0.09 W during 14.97 s [measurement time: 0.0165]\n",
      "[codecarbon INFO @ 12:07:03] Energy consumed for all CPUs : 0.037354 kWh. Total CPU Power : 42.5 W\n",
      "[codecarbon DEBUG @ 12:07:03] CPU : 42.50 W during 15.00 s [measurement time: 0.0005]\n",
      "[codecarbon INFO @ 12:07:03] Energy consumed for all GPUs : 0.012344 kWh. Total GPU Power : 13.707713199098471 W\n",
      "[codecarbon DEBUG @ 12:07:03] GPU : 13.71 W during 15.00 s [measurement time: 0.0026]\n",
      "[codecarbon INFO @ 12:07:03] 0.049775 kWh of electricity used since the beginning.\n",
      "[codecarbon DEBUG @ 12:07:03] last_duration=14.974439022999832\n",
      "------------------------\n",
      "[codecarbon INFO @ 12:07:18] Energy consumed for RAM : 0.000077 kWh. RAM Power : 0.08800077438354494 W\n",
      "[codecarbon DEBUG @ 12:07:18] RAM : 0.09 W during 14.97 s [measurement time: 0.0176]\n",
      "[codecarbon INFO @ 12:07:18] Energy consumed for all CPUs : 0.037531 kWh. Total CPU Power : 42.5 W\n",
      "[codecarbon DEBUG @ 12:07:18] CPU : 42.50 W during 14.99 s [measurement time: 0.0003]\n",
      "[codecarbon INFO @ 12:07:18] Energy consumed for all GPUs : 0.012401 kWh. Total GPU Power : 13.566228078108264 W\n",
      "[codecarbon DEBUG @ 12:07:18] GPU : 13.57 W during 14.99 s [measurement time: 0.0021]\n",
      "[codecarbon INFO @ 12:07:18] 0.050009 kWh of electricity used since the beginning.\n",
      "[codecarbon DEBUG @ 12:07:18] last_duration=14.970019557999876\n",
      "------------------------\n"
     ]
    },
    {
     "name": "stdout",
     "output_type": "stream",
     "text": [
      "[168/1000] ./test/pdf/696.pdf\n"
     ]
    },
    {
     "name": "stderr",
     "output_type": "stream",
     "text": [
      "[codecarbon INFO @ 12:07:33] Energy consumed for RAM : 0.000078 kWh. RAM Power : 0.08800077438354494 W\n",
      "[codecarbon DEBUG @ 12:07:33] RAM : 0.09 W during 14.97 s [measurement time: 0.0137]\n",
      "[codecarbon INFO @ 12:07:33] Energy consumed for all CPUs : 0.037708 kWh. Total CPU Power : 42.5 W\n",
      "[codecarbon DEBUG @ 12:07:33] CPU : 42.50 W during 14.99 s [measurement time: 0.0005]\n",
      "[codecarbon INFO @ 12:07:33] Energy consumed for all GPUs : 0.012453 kWh. Total GPU Power : 12.596844318669076 W\n",
      "[codecarbon DEBUG @ 12:07:33] GPU : 12.60 W during 15.00 s [measurement time: 0.0024]\n",
      "[codecarbon INFO @ 12:07:33] 0.050239 kWh of electricity used since the beginning.\n",
      "[codecarbon DEBUG @ 12:07:33] last_duration=14.974477419000323\n",
      "------------------------\n",
      "[codecarbon INFO @ 12:07:48] Energy consumed for RAM : 0.000078 kWh. RAM Power : 0.08800077438354494 W\n",
      "[codecarbon DEBUG @ 12:07:48] RAM : 0.09 W during 14.98 s [measurement time: 0.0146]\n",
      "[codecarbon INFO @ 12:07:48] Energy consumed for all CPUs : 0.037885 kWh. Total CPU Power : 42.5 W\n",
      "[codecarbon DEBUG @ 12:07:48] CPU : 42.50 W during 15.00 s [measurement time: 0.0003]\n",
      "[codecarbon INFO @ 12:07:48] Energy consumed for all GPUs : 0.012510 kWh. Total GPU Power : 13.677513347004242 W\n",
      "[codecarbon DEBUG @ 12:07:48] GPU : 13.68 W during 15.00 s [measurement time: 0.0028]\n",
      "[codecarbon INFO @ 12:07:48] 0.050474 kWh of electricity used since the beginning.\n",
      "[codecarbon DEBUG @ 12:07:48] last_duration=14.976287602999946\n",
      "------------------------\n"
     ]
    },
    {
     "name": "stdout",
     "output_type": "stream",
     "text": [
      "[169/1000] ./test/pdf/697.pdf\n"
     ]
    },
    {
     "name": "stderr",
     "output_type": "stream",
     "text": [
      "[codecarbon INFO @ 12:08:03] Energy consumed for RAM : 0.000079 kWh. RAM Power : 0.08800077438354494 W\n",
      "[codecarbon DEBUG @ 12:08:03] RAM : 0.09 W during 14.97 s [measurement time: 0.0118]\n",
      "[codecarbon INFO @ 12:08:03] Energy consumed for all CPUs : 0.038062 kWh. Total CPU Power : 42.5 W\n",
      "[codecarbon DEBUG @ 12:08:03] CPU : 42.50 W during 14.99 s [measurement time: 0.0003]\n",
      "[codecarbon INFO @ 12:08:03] Energy consumed for all GPUs : 0.012567 kWh. Total GPU Power : 13.52113834147403 W\n",
      "[codecarbon DEBUG @ 12:08:03] GPU : 13.52 W during 14.99 s [measurement time: 0.0028]\n",
      "[codecarbon INFO @ 12:08:03] 0.050707 kWh of electricity used since the beginning.\n",
      "[codecarbon DEBUG @ 12:08:03] last_duration=14.97287009899992\n",
      "------------------------\n",
      "[codecarbon INFO @ 12:08:18] Energy consumed for RAM : 0.000079 kWh. RAM Power : 0.08800077438354494 W\n",
      "[codecarbon DEBUG @ 12:08:18] RAM : 0.09 W during 14.98 s [measurement time: 0.0160]\n",
      "[codecarbon INFO @ 12:08:18] Energy consumed for all CPUs : 0.038239 kWh. Total CPU Power : 42.5 W\n",
      "[codecarbon DEBUG @ 12:08:18] CPU : 42.50 W during 15.01 s [measurement time: 0.0004]\n",
      "[codecarbon INFO @ 12:08:18] Energy consumed for all GPUs : 0.012622 kWh. Total GPU Power : 13.356740100089562 W\n",
      "[codecarbon DEBUG @ 12:08:18] GPU : 13.36 W during 15.01 s [measurement time: 0.0026]\n",
      "[codecarbon INFO @ 12:08:18] 0.050940 kWh of electricity used since the beginning.\n",
      "[codecarbon DEBUG @ 12:08:18] We apply an energy mix of 174 g.CO2eq/kWh for Spain\n",
      "[codecarbon DEBUG @ 12:08:18] EmissionsData(timestamp='2025-04-13T12:08:18', project_name='codecarbon', run_id='868e486c-ef2f-47f1-8b33-54ddf9c190fd', experiment_id='5b0fa12a-3dd7-45bb-9766-cc326314d9f1', duration=3240.206307382, emissions=0.008866167314498883, emissions_rate=2.73629715931962e-06, cpu_power=42.5, gpu_power=13.356740100089562, ram_power=0.08800077438354494, cpu_energy=0.03823912584445834, gpu_energy=0.012622262320024, ram_energy=7.895837098948731e-05, energy_consumed=0.050940346535471887, country_name='Spain', country_iso_code='ESP', region=None, cloud_provider='', cloud_region='', os='Linux-6.8.0-57-generic-x86_64-with-glibc2.35', python_version='3.12.9', codecarbon_version='2.8.3', cpu_count=32, cpu_model='13th Gen Intel(R) Core(TM) i9-13900', gpu_count=1, gpu_model='1 x NVIDIA RTX 5000 Ada Generation', longitude=None, latitude=None, ram_total_size=62.50331497192383, tracking_mode='process', on_cloud='N', pue=1.0)\n",
      "[codecarbon INFO @ 12:08:18] 0.002711 g.CO2eq/s mean an estimation of 85.49723797095699 kg.CO2eq/year\n",
      "[codecarbon DEBUG @ 12:08:18] last_duration=14.980785052999636\n",
      "------------------------\n"
     ]
    },
    {
     "name": "stdout",
     "output_type": "stream",
     "text": [
      "[170/1000] ./test/pdf/698.pdf\n"
     ]
    },
    {
     "name": "stderr",
     "output_type": "stream",
     "text": [
      "[codecarbon INFO @ 12:08:33] Energy consumed for RAM : 0.000079 kWh. RAM Power : 0.08800077438354494 W\n",
      "[codecarbon DEBUG @ 12:08:33] RAM : 0.09 W during 14.97 s [measurement time: 0.0143]\n",
      "[codecarbon INFO @ 12:08:33] Energy consumed for all CPUs : 0.038416 kWh. Total CPU Power : 42.5 W\n",
      "[codecarbon DEBUG @ 12:08:33] CPU : 42.50 W during 15.00 s [measurement time: 0.0006]\n",
      "[codecarbon INFO @ 12:08:33] Energy consumed for all GPUs : 0.012683 kWh. Total GPU Power : 14.46771989855032 W\n",
      "[codecarbon DEBUG @ 12:08:33] GPU : 14.47 W during 15.00 s [measurement time: 0.0025]\n",
      "[codecarbon INFO @ 12:08:33] 0.051178 kWh of electricity used since the beginning.\n",
      "[codecarbon DEBUG @ 12:08:33] last_duration=14.969417192000037\n",
      "------------------------\n"
     ]
    },
    {
     "name": "stdout",
     "output_type": "stream",
     "text": [
      "[171/1000] ./test/pdf/699.pdf\n"
     ]
    },
    {
     "name": "stderr",
     "output_type": "stream",
     "text": [
      "[codecarbon INFO @ 12:08:48] Energy consumed for RAM : 0.000080 kWh. RAM Power : 0.08800077438354494 W\n",
      "[codecarbon DEBUG @ 12:08:48] RAM : 0.09 W during 14.97 s [measurement time: 0.0145]\n",
      "[codecarbon INFO @ 12:08:48] Energy consumed for all CPUs : 0.038593 kWh. Total CPU Power : 42.5 W\n",
      "[codecarbon DEBUG @ 12:08:48] CPU : 42.50 W during 14.99 s [measurement time: 0.0006]\n",
      "[codecarbon INFO @ 12:08:48] Energy consumed for all GPUs : 0.012732 kWh. Total GPU Power : 11.97710892222245 W\n",
      "[codecarbon DEBUG @ 12:08:48] GPU : 11.98 W during 14.99 s [measurement time: 0.0068]\n",
      "[codecarbon INFO @ 12:08:48] 0.051405 kWh of electricity used since the beginning.\n",
      "[codecarbon DEBUG @ 12:08:48] last_duration=14.968559973000083\n",
      "------------------------\n"
     ]
    },
    {
     "name": "stdout",
     "output_type": "stream",
     "text": [
      "[172/1000] ./test/pdf/7.pdf\n"
     ]
    },
    {
     "name": "stderr",
     "output_type": "stream",
     "text": [
      "[codecarbon INFO @ 12:09:03] Energy consumed for RAM : 0.000080 kWh. RAM Power : 0.08800077438354494 W\n",
      "[codecarbon DEBUG @ 12:09:03] RAM : 0.09 W during 14.97 s [measurement time: 0.0203]\n",
      "[codecarbon INFO @ 12:09:03] Energy consumed for all CPUs : 0.038770 kWh. Total CPU Power : 42.5 W\n",
      "[codecarbon DEBUG @ 12:09:03] CPU : 42.50 W during 15.00 s [measurement time: 0.0004]\n",
      "[codecarbon INFO @ 12:09:03] Energy consumed for all GPUs : 0.012790 kWh. Total GPU Power : 13.901331901815313 W\n",
      "[codecarbon DEBUG @ 12:09:03] GPU : 13.90 W during 15.00 s [measurement time: 0.0031]\n",
      "[codecarbon INFO @ 12:09:03] 0.051641 kWh of electricity used since the beginning.\n",
      "[codecarbon DEBUG @ 12:09:03] last_duration=14.967912855000122\n",
      "------------------------\n",
      "[codecarbon INFO @ 12:09:18] Energy consumed for RAM : 0.000080 kWh. RAM Power : 0.08800077438354494 W\n",
      "[codecarbon DEBUG @ 12:09:18] RAM : 0.09 W during 14.97 s [measurement time: 0.0109]\n",
      "[codecarbon INFO @ 12:09:18] Energy consumed for all CPUs : 0.038947 kWh. Total CPU Power : 42.5 W\n",
      "[codecarbon DEBUG @ 12:09:18] CPU : 42.50 W during 14.99 s [measurement time: 0.0009]\n",
      "[codecarbon INFO @ 12:09:18] Energy consumed for all GPUs : 0.012845 kWh. Total GPU Power : 13.035872878926504 W\n",
      "[codecarbon DEBUG @ 12:09:18] GPU : 13.04 W during 14.99 s [measurement time: 0.0025]\n",
      "[codecarbon INFO @ 12:09:18] 0.051872 kWh of electricity used since the beginning.\n",
      "[codecarbon DEBUG @ 12:09:18] last_duration=14.965985307999745\n",
      "------------------------\n"
     ]
    },
    {
     "name": "stdout",
     "output_type": "stream",
     "text": [
      "[173/1000] ./test/pdf/70.pdf\n"
     ]
    },
    {
     "name": "stderr",
     "output_type": "stream",
     "text": [
      "[codecarbon INFO @ 12:09:33] Energy consumed for RAM : 0.000081 kWh. RAM Power : 0.08800077438354494 W\n",
      "[codecarbon DEBUG @ 12:09:33] RAM : 0.09 W during 14.98 s [measurement time: 0.0122]\n",
      "[codecarbon INFO @ 12:09:33] Energy consumed for all CPUs : 0.039124 kWh. Total CPU Power : 42.5 W\n",
      "[codecarbon DEBUG @ 12:09:33] CPU : 42.50 W during 14.99 s [measurement time: 0.0003]\n",
      "[codecarbon INFO @ 12:09:33] Energy consumed for all GPUs : 0.012900 kWh. Total GPU Power : 13.279121557404245 W\n",
      "[codecarbon DEBUG @ 12:09:33] GPU : 13.28 W during 15.00 s [measurement time: 0.0020]\n",
      "[codecarbon INFO @ 12:09:33] 0.052105 kWh of electricity used since the beginning.\n",
      "[codecarbon DEBUG @ 12:09:33] last_duration=14.975130404000083\n",
      "------------------------\n"
     ]
    },
    {
     "name": "stdout",
     "output_type": "stream",
     "text": [
      "[174/1000] ./test/pdf/700.pdf\n"
     ]
    },
    {
     "name": "stderr",
     "output_type": "stream",
     "text": [
      "[codecarbon INFO @ 12:09:48] Energy consumed for RAM : 0.000081 kWh. RAM Power : 0.08800077438354494 W\n",
      "[codecarbon DEBUG @ 12:09:48] RAM : 0.09 W during 14.98 s [measurement time: 0.0055]\n",
      "[codecarbon INFO @ 12:09:48] Energy consumed for all CPUs : 0.039301 kWh. Total CPU Power : 42.5 W\n",
      "[codecarbon DEBUG @ 12:09:48] CPU : 42.50 W during 14.99 s [measurement time: 0.0003]\n",
      "[codecarbon INFO @ 12:09:48] Energy consumed for all GPUs : 0.012954 kWh. Total GPU Power : 13.051152555615039 W\n",
      "[codecarbon DEBUG @ 12:09:48] GPU : 13.05 W during 14.99 s [measurement time: 0.0019]\n",
      "[codecarbon INFO @ 12:09:48] 0.052337 kWh of electricity used since the beginning.\n",
      "[codecarbon DEBUG @ 12:09:48] last_duration=14.977896910999789\n",
      "------------------------\n"
     ]
    },
    {
     "name": "stdout",
     "output_type": "stream",
     "text": [
      "[175/1000] ./test/pdf/701.pdf\n"
     ]
    },
    {
     "name": "stderr",
     "output_type": "stream",
     "text": [
      "[codecarbon INFO @ 12:10:03] Energy consumed for RAM : 0.000082 kWh. RAM Power : 0.08800077438354494 W\n",
      "[codecarbon DEBUG @ 12:10:03] RAM : 0.09 W during 14.99 s [measurement time: 0.0100]\n",
      "[codecarbon INFO @ 12:10:03] Energy consumed for all CPUs : 0.039478 kWh. Total CPU Power : 42.5 W\n",
      "[codecarbon DEBUG @ 12:10:03] CPU : 42.50 W during 15.00 s [measurement time: 0.0010]\n",
      "[codecarbon INFO @ 12:10:03] Energy consumed for all GPUs : 0.013013 kWh. Total GPU Power : 14.056854941246725 W\n",
      "[codecarbon DEBUG @ 12:10:03] GPU : 14.06 W during 15.01 s [measurement time: 0.0025]\n",
      "[codecarbon INFO @ 12:10:03] 0.052573 kWh of electricity used since the beginning.\n",
      "[codecarbon DEBUG @ 12:10:03] last_duration=14.987917356000253\n",
      "------------------------\n"
     ]
    },
    {
     "name": "stdout",
     "output_type": "stream",
     "text": [
      "[176/1000] ./test/pdf/702.pdf\n"
     ]
    },
    {
     "name": "stderr",
     "output_type": "stream",
     "text": [
      "[codecarbon INFO @ 12:10:18] Energy consumed for RAM : 0.000082 kWh. RAM Power : 0.08800077438354494 W\n",
      "[codecarbon DEBUG @ 12:10:18] RAM : 0.09 W during 14.98 s [measurement time: 0.0112]\n",
      "[codecarbon INFO @ 12:10:18] Energy consumed for all CPUs : 0.039655 kWh. Total CPU Power : 42.5 W\n",
      "[codecarbon DEBUG @ 12:10:18] CPU : 42.50 W during 15.01 s [measurement time: 0.0015]\n",
      "[codecarbon INFO @ 12:10:18] Energy consumed for all GPUs : 0.013071 kWh. Total GPU Power : 14.035741416263619 W\n",
      "[codecarbon DEBUG @ 12:10:18] GPU : 14.04 W during 15.01 s [measurement time: 0.0050]\n",
      "[codecarbon INFO @ 12:10:18] 0.052809 kWh of electricity used since the beginning.\n",
      "[codecarbon DEBUG @ 12:10:18] We apply an energy mix of 174 g.CO2eq/kWh for Spain\n",
      "[codecarbon DEBUG @ 12:10:18] EmissionsData(timestamp='2025-04-13T12:10:18', project_name='codecarbon', run_id='868e486c-ef2f-47f1-8b33-54ddf9c190fd', experiment_id='5b0fa12a-3dd7-45bb-9766-cc326314d9f1', duration=3360.217320644, emissions=0.009191346184507804, emissions_rate=2.7353427791825807e-06, cpu_power=42.5, gpu_power=14.035741416263619, ram_power=0.08800077438354494, cpu_energy=0.03965539691088958, gpu_energy=0.01307137017931, ram_energy=8.18866558951846e-05, energy_consumed=0.05280865374609482, country_name='Spain', country_iso_code='ESP', region=None, cloud_provider='', cloud_region='', os='Linux-6.8.0-57-generic-x86_64-with-glibc2.35', python_version='3.12.9', codecarbon_version='2.8.3', cpu_count=32, cpu_model='13th Gen Intel(R) Core(TM) i9-13900', gpu_count=1, gpu_model='1 x NVIDIA RTX 5000 Ada Generation', longitude=None, latitude=None, ram_total_size=62.50331497192383, tracking_mode='process', on_cloud='N', pue=1.0)\n",
      "[codecarbon INFO @ 12:10:18] 0.002710 g.CO2eq/s mean an estimation of 85.449164754685 kg.CO2eq/year\n",
      "[codecarbon DEBUG @ 12:10:18] last_duration=14.979508205999991\n",
      "------------------------\n",
      "[codecarbon INFO @ 12:10:33] Energy consumed for RAM : 0.000082 kWh. RAM Power : 0.08800077438354494 W\n",
      "[codecarbon DEBUG @ 12:10:33] RAM : 0.09 W during 14.96 s [measurement time: 0.0135]\n",
      "[codecarbon INFO @ 12:10:33] Energy consumed for all CPUs : 0.039832 kWh. Total CPU Power : 42.5 W\n",
      "[codecarbon DEBUG @ 12:10:33] CPU : 42.50 W during 14.99 s [measurement time: 0.0006]\n",
      "[codecarbon INFO @ 12:10:33] Energy consumed for all GPUs : 0.013129 kWh. Total GPU Power : 13.948865453904933 W\n",
      "[codecarbon DEBUG @ 12:10:33] GPU : 13.95 W during 14.99 s [measurement time: 0.0025]\n",
      "[codecarbon INFO @ 12:10:33] 0.053044 kWh of electricity used since the beginning.\n",
      "[codecarbon DEBUG @ 12:10:33] last_duration=14.964741567000146\n",
      "------------------------\n"
     ]
    },
    {
     "name": "stdout",
     "output_type": "stream",
     "text": [
      "[177/1000] ./test/pdf/703.pdf\n"
     ]
    },
    {
     "name": "stderr",
     "output_type": "stream",
     "text": [
      "[codecarbon INFO @ 12:10:48] Energy consumed for RAM : 0.000083 kWh. RAM Power : 0.08800077438354494 W\n",
      "[codecarbon DEBUG @ 12:10:48] RAM : 0.09 W during 14.97 s [measurement time: 0.0143]\n",
      "[codecarbon INFO @ 12:10:48] Energy consumed for all CPUs : 0.040009 kWh. Total CPU Power : 42.5 W\n",
      "[codecarbon DEBUG @ 12:10:48] CPU : 42.50 W during 15.00 s [measurement time: 0.0006]\n",
      "[codecarbon INFO @ 12:10:48] Energy consumed for all GPUs : 0.013187 kWh. Total GPU Power : 13.900564808165687 W\n",
      "[codecarbon DEBUG @ 12:10:48] GPU : 13.90 W during 15.00 s [measurement time: 0.0022]\n",
      "[codecarbon INFO @ 12:10:48] 0.053279 kWh of electricity used since the beginning.\n",
      "[codecarbon DEBUG @ 12:10:48] last_duration=14.974705443999937\n",
      "------------------------\n"
     ]
    },
    {
     "name": "stdout",
     "output_type": "stream",
     "text": [
      "[178/1000] ./test/pdf/704.pdf\n"
     ]
    },
    {
     "name": "stderr",
     "output_type": "stream",
     "text": [
      "[codecarbon INFO @ 12:11:03] Energy consumed for RAM : 0.000083 kWh. RAM Power : 0.08800077438354494 W\n",
      "[codecarbon DEBUG @ 12:11:03] RAM : 0.09 W during 14.97 s [measurement time: 0.0117]\n",
      "[codecarbon INFO @ 12:11:03] Energy consumed for all CPUs : 0.040186 kWh. Total CPU Power : 42.5 W\n",
      "[codecarbon DEBUG @ 12:11:03] CPU : 42.50 W during 14.99 s [measurement time: 0.0005]\n",
      "[codecarbon INFO @ 12:11:03] Energy consumed for all GPUs : 0.013243 kWh. Total GPU Power : 13.276083631774508 W\n",
      "[codecarbon DEBUG @ 12:11:03] GPU : 13.28 W during 14.99 s [measurement time: 0.0077]\n",
      "[codecarbon INFO @ 12:11:03] 0.053512 kWh of electricity used since the beginning.\n",
      "[codecarbon DEBUG @ 12:11:03] last_duration=14.973461061000307\n",
      "------------------------\n"
     ]
    },
    {
     "name": "stdout",
     "output_type": "stream",
     "text": [
      "[179/1000] ./test/pdf/705.pdf\n"
     ]
    },
    {
     "name": "stderr",
     "output_type": "stream",
     "text": [
      "[codecarbon INFO @ 12:11:18] Energy consumed for RAM : 0.000083 kWh. RAM Power : 0.08800077438354494 W\n",
      "[codecarbon DEBUG @ 12:11:18] RAM : 0.09 W during 14.97 s [measurement time: 0.0112]\n",
      "[codecarbon INFO @ 12:11:18] Energy consumed for all CPUs : 0.040363 kWh. Total CPU Power : 42.5 W\n",
      "[codecarbon DEBUG @ 12:11:18] CPU : 42.50 W during 14.99 s [measurement time: 0.0005]\n",
      "[codecarbon INFO @ 12:11:18] Energy consumed for all GPUs : 0.013300 kWh. Total GPU Power : 13.797387219949554 W\n",
      "[codecarbon DEBUG @ 12:11:18] GPU : 13.80 W during 15.00 s [measurement time: 0.0027]\n",
      "[codecarbon INFO @ 12:11:18] 0.053747 kWh of electricity used since the beginning.\n",
      "[codecarbon DEBUG @ 12:11:18] last_duration=14.97344152200003\n",
      "------------------------\n"
     ]
    },
    {
     "name": "stdout",
     "output_type": "stream",
     "text": [
      "[180/1000] ./test/pdf/706.pdf\n"
     ]
    },
    {
     "name": "stderr",
     "output_type": "stream",
     "text": [
      "[codecarbon INFO @ 12:11:33] Energy consumed for RAM : 0.000084 kWh. RAM Power : 0.08800077438354494 W\n",
      "[codecarbon DEBUG @ 12:11:33] RAM : 0.09 W during 14.97 s [measurement time: 0.0100]\n",
      "[codecarbon INFO @ 12:11:33] Energy consumed for all CPUs : 0.040540 kWh. Total CPU Power : 42.5 W\n",
      "[codecarbon DEBUG @ 12:11:33] CPU : 42.50 W during 15.00 s [measurement time: 0.0009]\n",
      "[codecarbon INFO @ 12:11:33] Energy consumed for all GPUs : 0.013356 kWh. Total GPU Power : 13.512566508917777 W\n",
      "[codecarbon DEBUG @ 12:11:33] GPU : 13.51 W during 15.00 s [measurement time: 0.0078]\n",
      "[codecarbon INFO @ 12:11:33] 0.053981 kWh of electricity used since the beginning.\n",
      "[codecarbon DEBUG @ 12:11:33] last_duration=14.974952830999882\n",
      "------------------------\n",
      "[codecarbon INFO @ 12:11:48] Energy consumed for RAM : 0.000084 kWh. RAM Power : 0.08800077438354494 W\n",
      "[codecarbon DEBUG @ 12:11:48] RAM : 0.09 W during 14.97 s [measurement time: 0.0144]\n",
      "[codecarbon INFO @ 12:11:48] Energy consumed for all CPUs : 0.040717 kWh. Total CPU Power : 42.5 W\n",
      "[codecarbon DEBUG @ 12:11:48] CPU : 42.50 W during 15.00 s [measurement time: 0.0008]\n",
      "[codecarbon INFO @ 12:11:48] Energy consumed for all GPUs : 0.013410 kWh. Total GPU Power : 12.976534810378867 W\n",
      "[codecarbon DEBUG @ 12:11:48] GPU : 12.98 W during 15.00 s [measurement time: 0.0030]\n",
      "[codecarbon INFO @ 12:11:48] 0.054212 kWh of electricity used since the beginning.\n",
      "[codecarbon DEBUG @ 12:11:48] last_duration=14.967696786000033\n",
      "------------------------\n"
     ]
    },
    {
     "name": "stdout",
     "output_type": "stream",
     "text": [
      "[181/1000] ./test/pdf/707.pdf\n"
     ]
    },
    {
     "name": "stderr",
     "output_type": "stream",
     "text": [
      "[codecarbon INFO @ 12:12:03] Energy consumed for RAM : 0.000084 kWh. RAM Power : 0.08800077438354494 W\n",
      "[codecarbon DEBUG @ 12:12:03] RAM : 0.09 W during 14.97 s [measurement time: 0.0123]\n",
      "[codecarbon INFO @ 12:12:03] Energy consumed for all CPUs : 0.040894 kWh. Total CPU Power : 42.5 W\n",
      "[codecarbon DEBUG @ 12:12:03] CPU : 42.50 W during 14.99 s [measurement time: 0.0005]\n",
      "[codecarbon INFO @ 12:12:03] Energy consumed for all GPUs : 0.013466 kWh. Total GPU Power : 13.313963581930338 W\n",
      "[codecarbon DEBUG @ 12:12:03] GPU : 13.31 W during 14.99 s [measurement time: 0.0025]\n",
      "[codecarbon INFO @ 12:12:03] 0.054445 kWh of electricity used since the beginning.\n",
      "[codecarbon DEBUG @ 12:12:03] last_duration=14.966146442000081\n",
      "------------------------\n"
     ]
    },
    {
     "name": "stdout",
     "output_type": "stream",
     "text": [
      "[182/1000] ./test/pdf/708.pdf\n"
     ]
    },
    {
     "name": "stderr",
     "output_type": "stream",
     "text": [
      "[codecarbon INFO @ 12:12:18] Energy consumed for RAM : 0.000085 kWh. RAM Power : 0.08800077438354494 W\n",
      "[codecarbon DEBUG @ 12:12:18] RAM : 0.09 W during 14.98 s [measurement time: 0.0148]\n",
      "[codecarbon INFO @ 12:12:18] Energy consumed for all CPUs : 0.041071 kWh. Total CPU Power : 42.5 W\n",
      "[codecarbon DEBUG @ 12:12:18] CPU : 42.50 W during 15.00 s [measurement time: 0.0006]\n",
      "[codecarbon INFO @ 12:12:18] Energy consumed for all GPUs : 0.013523 kWh. Total GPU Power : 13.669044642667892 W\n",
      "[codecarbon DEBUG @ 12:12:18] GPU : 13.67 W during 15.00 s [measurement time: 0.0031]\n",
      "[codecarbon INFO @ 12:12:18] 0.054679 kWh of electricity used since the beginning.\n",
      "[codecarbon DEBUG @ 12:12:18] We apply an energy mix of 174 g.CO2eq/kWh for Spain\n",
      "[codecarbon DEBUG @ 12:12:18] EmissionsData(timestamp='2025-04-13T12:12:18', project_name='codecarbon', run_id='868e486c-ef2f-47f1-8b33-54ddf9c190fd', experiment_id='5b0fa12a-3dd7-45bb-9766-cc326314d9f1', duration=3480.212615875, emissions=0.009516896552384024, emissions_rate=2.7345733157142964e-06, cpu_power=42.5, gpu_power=13.669044642667892, ram_power=0.08800077438354494, cpu_energy=0.04107142847180554, gpu_energy=0.01352285248494, ram_energy=8.481443184402765e-05, energy_consumed=0.05467909538858962, country_name='Spain', country_iso_code='ESP', region=None, cloud_provider='', cloud_region='', os='Linux-6.8.0-57-generic-x86_64-with-glibc2.35', python_version='3.12.9', codecarbon_version='2.8.3', cpu_count=32, cpu_model='13th Gen Intel(R) Core(TM) i9-13900', gpu_count=1, gpu_model='1 x NVIDIA RTX 5000 Ada Generation', longitude=None, latitude=None, ram_total_size=62.50331497192383, tracking_mode='process', on_cloud='N', pue=1.0)\n",
      "[codecarbon INFO @ 12:12:18] 0.002713 g.CO2eq/s mean an estimation of 85.55799109940581 kg.CO2eq/year\n",
      "[codecarbon DEBUG @ 12:12:18] last_duration=14.976365654999881\n",
      "------------------------\n"
     ]
    },
    {
     "name": "stdout",
     "output_type": "stream",
     "text": [
      "[183/1000] ./test/pdf/709.pdf\n"
     ]
    },
    {
     "name": "stderr",
     "output_type": "stream",
     "text": [
      "[codecarbon INFO @ 12:12:33] Energy consumed for RAM : 0.000085 kWh. RAM Power : 0.08800077438354494 W\n",
      "[codecarbon DEBUG @ 12:12:33] RAM : 0.09 W during 14.98 s [measurement time: 0.0160]\n",
      "[codecarbon INFO @ 12:12:33] Energy consumed for all CPUs : 0.041249 kWh. Total CPU Power : 42.5 W\n",
      "[codecarbon DEBUG @ 12:12:33] CPU : 42.50 W during 15.00 s [measurement time: 0.0003]\n",
      "[codecarbon INFO @ 12:12:33] Energy consumed for all GPUs : 0.013578 kWh. Total GPU Power : 13.33035602336863 W\n",
      "[codecarbon DEBUG @ 12:12:33] GPU : 13.33 W during 15.00 s [measurement time: 0.0049]\n",
      "[codecarbon INFO @ 12:12:33] 0.054912 kWh of electricity used since the beginning.\n",
      "[codecarbon DEBUG @ 12:12:33] last_duration=14.976419425000131\n",
      "------------------------\n"
     ]
    },
    {
     "name": "stdout",
     "output_type": "stream",
     "text": [
      "[184/1000] ./test/pdf/71.pdf\n"
     ]
    },
    {
     "name": "stderr",
     "output_type": "stream",
     "text": [
      "[codecarbon INFO @ 12:12:48] Energy consumed for RAM : 0.000086 kWh. RAM Power : 0.08800077438354494 W\n",
      "[codecarbon DEBUG @ 12:12:48] RAM : 0.09 W during 14.97 s [measurement time: 0.0128]\n",
      "[codecarbon INFO @ 12:12:48] Energy consumed for all CPUs : 0.041425 kWh. Total CPU Power : 42.5 W\n",
      "[codecarbon DEBUG @ 12:12:48] CPU : 42.50 W during 14.99 s [measurement time: 0.0003]\n",
      "[codecarbon INFO @ 12:12:48] Energy consumed for all GPUs : 0.013637 kWh. Total GPU Power : 13.976696106712769 W\n",
      "[codecarbon DEBUG @ 12:12:48] GPU : 13.98 W during 14.99 s [measurement time: 0.0038]\n",
      "[codecarbon INFO @ 12:12:48] 0.055148 kWh of electricity used since the beginning.\n",
      "[codecarbon DEBUG @ 12:12:48] last_duration=14.968026780999935\n",
      "------------------------\n",
      "[codecarbon INFO @ 12:13:03] Energy consumed for RAM : 0.000086 kWh. RAM Power : 0.08800077438354494 W\n",
      "[codecarbon DEBUG @ 12:13:03] RAM : 0.09 W during 14.97 s [measurement time: 0.0146]\n",
      "[codecarbon INFO @ 12:13:03] Energy consumed for all CPUs : 0.041603 kWh. Total CPU Power : 42.5 W\n",
      "[codecarbon DEBUG @ 12:13:03] CPU : 42.50 W during 15.00 s [measurement time: 0.0007]\n",
      "[codecarbon INFO @ 12:13:03] Energy consumed for all GPUs : 0.013693 kWh. Total GPU Power : 13.526254671815305 W\n",
      "[codecarbon DEBUG @ 12:13:03] GPU : 13.53 W during 15.00 s [measurement time: 0.0048]\n",
      "[codecarbon INFO @ 12:13:03] 0.055381 kWh of electricity used since the beginning.\n",
      "[codecarbon DEBUG @ 12:13:03] last_duration=14.974700890999884\n",
      "------------------------\n"
     ]
    },
    {
     "name": "stdout",
     "output_type": "stream",
     "text": [
      "[185/1000] ./test/pdf/710.pdf\n"
     ]
    },
    {
     "name": "stderr",
     "output_type": "stream",
     "text": [
      "[codecarbon INFO @ 12:13:18] Energy consumed for RAM : 0.000086 kWh. RAM Power : 0.08800077438354494 W\n",
      "[codecarbon DEBUG @ 12:13:18] RAM : 0.09 W during 14.97 s [measurement time: 0.0154]\n",
      "[codecarbon INFO @ 12:13:18] Energy consumed for all CPUs : 0.041780 kWh. Total CPU Power : 42.5 W\n",
      "[codecarbon DEBUG @ 12:13:18] CPU : 42.50 W during 15.00 s [measurement time: 0.0005]\n",
      "[codecarbon INFO @ 12:13:18] Energy consumed for all GPUs : 0.013750 kWh. Total GPU Power : 13.73244728124871 W\n",
      "[codecarbon DEBUG @ 12:13:18] GPU : 13.73 W during 15.00 s [measurement time: 0.0074]\n",
      "[codecarbon INFO @ 12:13:18] 0.055616 kWh of electricity used since the beginning.\n",
      "[codecarbon DEBUG @ 12:13:18] last_duration=14.972702649999974\n",
      "------------------------\n",
      "[codecarbon INFO @ 12:13:33] Energy consumed for RAM : 0.000087 kWh. RAM Power : 0.08800077438354494 W\n",
      "[codecarbon DEBUG @ 12:13:33] RAM : 0.09 W during 14.97 s [measurement time: 0.0148]\n",
      "[codecarbon INFO @ 12:13:33] Energy consumed for all CPUs : 0.041957 kWh. Total CPU Power : 42.5 W\n",
      "[codecarbon DEBUG @ 12:13:33] CPU : 42.50 W during 14.99 s [measurement time: 0.0005]\n",
      "[codecarbon INFO @ 12:13:33] Energy consumed for all GPUs : 0.013802 kWh. Total GPU Power : 12.487805920237143 W\n",
      "[codecarbon DEBUG @ 12:13:33] GPU : 12.49 W during 14.99 s [measurement time: 0.0027]\n",
      "[codecarbon INFO @ 12:13:33] 0.055845 kWh of electricity used since the beginning.\n",
      "[codecarbon DEBUG @ 12:13:33] last_duration=14.966399327999625\n",
      "------------------------\n",
      "[codecarbon INFO @ 12:13:48] Energy consumed for RAM : 0.000087 kWh. RAM Power : 0.08800077438354494 W\n",
      "[codecarbon DEBUG @ 12:13:48] RAM : 0.09 W during 14.97 s [measurement time: 0.0071]\n",
      "[codecarbon INFO @ 12:13:48] Energy consumed for all CPUs : 0.042133 kWh. Total CPU Power : 42.5 W\n",
      "[codecarbon DEBUG @ 12:13:48] CPU : 42.50 W during 14.98 s [measurement time: 0.0004]\n",
      "[codecarbon INFO @ 12:13:48] Energy consumed for all GPUs : 0.013858 kWh. Total GPU Power : 13.384317657510971 W\n",
      "[codecarbon DEBUG @ 12:13:48] GPU : 13.38 W during 14.98 s [measurement time: 0.0028]\n",
      "[codecarbon INFO @ 12:13:48] 0.056078 kWh of electricity used since the beginning.\n",
      "[codecarbon DEBUG @ 12:13:48] last_duration=14.968967756999973\n",
      "------------------------\n",
      "[codecarbon INFO @ 12:14:03] Energy consumed for RAM : 0.000087 kWh. RAM Power : 0.08800077438354494 W\n",
      "[codecarbon DEBUG @ 12:14:03] RAM : 0.09 W during 14.98 s [measurement time: 0.0144]\n",
      "[codecarbon INFO @ 12:14:03] Energy consumed for all CPUs : 0.042311 kWh. Total CPU Power : 42.5 W\n",
      "[codecarbon DEBUG @ 12:14:03] CPU : 42.50 W during 15.01 s [measurement time: 0.0005]\n",
      "[codecarbon INFO @ 12:14:03] Energy consumed for all GPUs : 0.013908 kWh. Total GPU Power : 12.002580479635691 W\n",
      "[codecarbon DEBUG @ 12:14:03] GPU : 12.00 W during 15.01 s [measurement time: 0.0025]\n",
      "[codecarbon INFO @ 12:14:03] 0.056306 kWh of electricity used since the beginning.\n",
      "[codecarbon DEBUG @ 12:14:03] last_duration=14.983792729000015\n",
      "------------------------\n"
     ]
    },
    {
     "name": "stdout",
     "output_type": "stream",
     "text": [
      "[186/1000] ./test/pdf/711.pdf\n",
      "[187/1000] ./test/pdf/712.pdf\n"
     ]
    },
    {
     "name": "stderr",
     "output_type": "stream",
     "text": [
      "[codecarbon INFO @ 12:14:18] Energy consumed for RAM : 0.000088 kWh. RAM Power : 0.08800077438354494 W\n",
      "[codecarbon DEBUG @ 12:14:18] RAM : 0.09 W during 14.97 s [measurement time: 0.0135]\n",
      "[codecarbon INFO @ 12:14:18] Energy consumed for all CPUs : 0.042488 kWh. Total CPU Power : 42.5 W\n",
      "[codecarbon DEBUG @ 12:14:18] CPU : 42.50 W during 14.99 s [measurement time: 0.0006]\n",
      "[codecarbon INFO @ 12:14:18] Energy consumed for all GPUs : 0.013962 kWh. Total GPU Power : 13.032554884815564 W\n",
      "[codecarbon DEBUG @ 12:14:18] GPU : 13.03 W during 14.99 s [measurement time: 0.0086]\n",
      "[codecarbon INFO @ 12:14:18] 0.056538 kWh of electricity used since the beginning.\n",
      "[codecarbon DEBUG @ 12:14:18] We apply an energy mix of 174 g.CO2eq/kWh for Spain\n",
      "[codecarbon DEBUG @ 12:14:18] EmissionsData(timestamp='2025-04-13T12:14:18', project_name='codecarbon', run_id='868e486c-ef2f-47f1-8b33-54ddf9c190fd', experiment_id='5b0fa12a-3dd7-45bb-9766-cc326314d9f1', duration=3600.227194295, emissions=0.009840364443219287, emissions_rate=2.733262072686009e-06, cpu_power=42.5, gpu_power=13.032554884815564, ram_power=0.08800077438354494, cpu_energy=0.042487629131013185, gpu_energy=0.013962200614196, ram_energy=8.774246518596905e-05, energy_consumed=0.05653757221039521, country_name='Spain', country_iso_code='ESP', region=None, cloud_provider='', cloud_region='', os='Linux-6.8.0-57-generic-x86_64-with-glibc2.35', python_version='3.12.9', codecarbon_version='2.8.3', cpu_count=32, cpu_model='13th Gen Intel(R) Core(TM) i9-13900', gpu_count=1, gpu_model='1 x NVIDIA RTX 5000 Ada Generation', longitude=None, latitude=None, ram_total_size=62.50331497192383, tracking_mode='process', on_cloud='N', pue=1.0)\n",
      "[codecarbon INFO @ 12:14:18] 0.002695 g.CO2eq/s mean an estimation of 84.99703569079821 kg.CO2eq/year\n",
      "[codecarbon DEBUG @ 12:14:18] last_duration=14.971032343999923\n",
      "------------------------\n",
      "[codecarbon INFO @ 12:14:33] Energy consumed for RAM : 0.000088 kWh. RAM Power : 0.08800077438354494 W\n",
      "[codecarbon DEBUG @ 12:14:33] RAM : 0.09 W during 14.97 s [measurement time: 0.0144]\n",
      "[codecarbon INFO @ 12:14:33] Energy consumed for all CPUs : 0.042665 kWh. Total CPU Power : 42.5 W\n",
      "[codecarbon DEBUG @ 12:14:33] CPU : 42.50 W during 14.99 s [measurement time: 0.0005]\n",
      "[codecarbon INFO @ 12:14:33] Energy consumed for all GPUs : 0.014016 kWh. Total GPU Power : 12.859533984992828 W\n",
      "[codecarbon DEBUG @ 12:14:33] GPU : 12.86 W during 14.99 s [measurement time: 0.0026]\n",
      "[codecarbon INFO @ 12:14:33] 0.056768 kWh of electricity used since the beginning.\n",
      "[codecarbon DEBUG @ 12:14:33] last_duration=14.968499120999695\n",
      "------------------------\n"
     ]
    },
    {
     "name": "stdout",
     "output_type": "stream",
     "text": [
      "[188/1000] ./test/pdf/713.pdf\n"
     ]
    },
    {
     "name": "stderr",
     "output_type": "stream",
     "text": [
      "[codecarbon INFO @ 12:14:48] Energy consumed for RAM : 0.000088 kWh. RAM Power : 0.08809232711791992 W\n",
      "[codecarbon DEBUG @ 12:14:48] RAM : 0.09 W during 14.97 s [measurement time: 0.0110]\n",
      "[codecarbon INFO @ 12:14:48] Energy consumed for all CPUs : 0.042842 kWh. Total CPU Power : 42.5 W\n",
      "[codecarbon DEBUG @ 12:14:48] CPU : 42.50 W during 14.99 s [measurement time: 0.0003]\n",
      "[codecarbon INFO @ 12:14:48] Energy consumed for all GPUs : 0.014071 kWh. Total GPU Power : 13.367794314825552 W\n",
      "[codecarbon DEBUG @ 12:14:48] GPU : 13.37 W during 14.99 s [measurement time: 0.0032]\n",
      "[codecarbon INFO @ 12:14:48] 0.057002 kWh of electricity used since the beginning.\n",
      "[codecarbon DEBUG @ 12:14:48] last_duration=14.972944869000003\n",
      "------------------------\n",
      "[codecarbon INFO @ 12:15:03] Energy consumed for RAM : 0.000089 kWh. RAM Power : 0.08809232711791992 W\n",
      "[codecarbon DEBUG @ 12:15:03] RAM : 0.09 W during 14.98 s [measurement time: 0.0114]\n",
      "[codecarbon INFO @ 12:15:03] Energy consumed for all CPUs : 0.043019 kWh. Total CPU Power : 42.5 W\n",
      "[codecarbon DEBUG @ 12:15:03] CPU : 42.50 W during 15.00 s [measurement time: 0.0005]\n",
      "[codecarbon INFO @ 12:15:03] Energy consumed for all GPUs : 0.014131 kWh. Total GPU Power : 14.3240675342626 W\n",
      "[codecarbon DEBUG @ 12:15:03] GPU : 14.32 W during 15.00 s [measurement time: 0.0024]\n",
      "[codecarbon INFO @ 12:15:03] 0.057239 kWh of electricity used since the beginning.\n",
      "[codecarbon DEBUG @ 12:15:03] last_duration=14.975728029000038\n",
      "------------------------\n"
     ]
    },
    {
     "name": "stdout",
     "output_type": "stream",
     "text": [
      "[189/1000] ./test/pdf/714.pdf\n"
     ]
    },
    {
     "name": "stderr",
     "output_type": "stream",
     "text": [
      "[codecarbon INFO @ 12:15:18] Energy consumed for RAM : 0.000089 kWh. RAM Power : 0.08809232711791992 W\n",
      "[codecarbon DEBUG @ 12:15:18] RAM : 0.09 W during 14.97 s [measurement time: 0.0149]\n",
      "[codecarbon INFO @ 12:15:18] Energy consumed for all CPUs : 0.043196 kWh. Total CPU Power : 42.5 W\n",
      "[codecarbon DEBUG @ 12:15:18] CPU : 42.50 W during 14.99 s [measurement time: 0.0004]\n",
      "[codecarbon INFO @ 12:15:18] Energy consumed for all GPUs : 0.014186 kWh. Total GPU Power : 13.218486296736659 W\n",
      "[codecarbon DEBUG @ 12:15:18] GPU : 13.22 W during 14.99 s [measurement time: 0.0024]\n",
      "[codecarbon INFO @ 12:15:18] 0.057471 kWh of electricity used since the beginning.\n",
      "[codecarbon DEBUG @ 12:15:18] last_duration=14.97254074700004\n",
      "------------------------\n"
     ]
    },
    {
     "name": "stdout",
     "output_type": "stream",
     "text": [
      "[190/1000] ./test/pdf/715.pdf\n"
     ]
    },
    {
     "name": "stderr",
     "output_type": "stream",
     "text": [
      "[codecarbon INFO @ 12:15:33] Energy consumed for RAM : 0.000090 kWh. RAM Power : 0.08809232711791992 W\n",
      "[codecarbon DEBUG @ 12:15:33] RAM : 0.09 W during 14.98 s [measurement time: 0.0150]\n",
      "[codecarbon INFO @ 12:15:33] Energy consumed for all CPUs : 0.043373 kWh. Total CPU Power : 42.5 W\n",
      "[codecarbon DEBUG @ 12:15:33] CPU : 42.50 W during 15.00 s [measurement time: 0.0007]\n",
      "[codecarbon INFO @ 12:15:33] Energy consumed for all GPUs : 0.014242 kWh. Total GPU Power : 13.343596433346645 W\n",
      "[codecarbon DEBUG @ 12:15:33] GPU : 13.34 W during 15.00 s [measurement time: 0.0026]\n",
      "[codecarbon INFO @ 12:15:33] 0.057704 kWh of electricity used since the beginning.\n",
      "[codecarbon DEBUG @ 12:15:33] last_duration=14.975680813000054\n",
      "------------------------\n"
     ]
    },
    {
     "name": "stdout",
     "output_type": "stream",
     "text": [
      "[191/1000] ./test/pdf/716.pdf\n",
      "[192/1000] ./test/pdf/717.pdf\n"
     ]
    },
    {
     "name": "stderr",
     "output_type": "stream",
     "text": [
      "[codecarbon INFO @ 12:15:48] Energy consumed for RAM : 0.000090 kWh. RAM Power : 0.08809232711791992 W\n",
      "[codecarbon DEBUG @ 12:15:48] RAM : 0.09 W during 14.97 s [measurement time: 0.0111]\n",
      "[codecarbon INFO @ 12:15:48] Energy consumed for all CPUs : 0.043550 kWh. Total CPU Power : 42.5 W\n",
      "[codecarbon DEBUG @ 12:15:48] CPU : 42.50 W during 14.99 s [measurement time: 0.0009]\n",
      "[codecarbon INFO @ 12:15:48] Energy consumed for all GPUs : 0.014297 kWh. Total GPU Power : 13.165929536978659 W\n",
      "[codecarbon DEBUG @ 12:15:48] GPU : 13.17 W during 14.99 s [measurement time: 0.0025]\n",
      "[codecarbon INFO @ 12:15:48] 0.057936 kWh of electricity used since the beginning.\n",
      "[codecarbon DEBUG @ 12:15:48] last_duration=14.968741391000094\n",
      "------------------------\n",
      "[codecarbon INFO @ 12:16:03] Energy consumed for RAM : 0.000090 kWh. RAM Power : 0.08809232711791992 W\n",
      "[codecarbon DEBUG @ 12:16:03] RAM : 0.09 W during 14.97 s [measurement time: 0.0142]\n",
      "[codecarbon INFO @ 12:16:03] Energy consumed for all CPUs : 0.043727 kWh. Total CPU Power : 42.5 W\n",
      "[codecarbon DEBUG @ 12:16:03] CPU : 42.50 W during 15.00 s [measurement time: 0.0004]\n",
      "[codecarbon INFO @ 12:16:03] Energy consumed for all GPUs : 0.014355 kWh. Total GPU Power : 13.935464606729417 W\n",
      "[codecarbon DEBUG @ 12:16:03] GPU : 13.94 W during 15.00 s [measurement time: 0.0028]\n",
      "[codecarbon INFO @ 12:16:03] 0.058172 kWh of electricity used since the beginning.\n",
      "[codecarbon DEBUG @ 12:16:03] last_duration=14.972793419000027\n",
      "------------------------\n"
     ]
    },
    {
     "name": "stdout",
     "output_type": "stream",
     "text": [
      "[193/1000] ./test/pdf/718.pdf\n"
     ]
    },
    {
     "name": "stderr",
     "output_type": "stream",
     "text": [
      "[codecarbon INFO @ 12:16:18] Energy consumed for RAM : 0.000091 kWh. RAM Power : 0.08809232711791992 W\n",
      "[codecarbon DEBUG @ 12:16:18] RAM : 0.09 W during 14.97 s [measurement time: 0.0107]\n",
      "[codecarbon INFO @ 12:16:18] Energy consumed for all CPUs : 0.043904 kWh. Total CPU Power : 42.5 W\n",
      "[codecarbon DEBUG @ 12:16:18] CPU : 42.50 W during 14.99 s [measurement time: 0.0005]\n",
      "[codecarbon INFO @ 12:16:18] Energy consumed for all GPUs : 0.014414 kWh. Total GPU Power : 14.204482265056425 W\n",
      "[codecarbon DEBUG @ 12:16:18] GPU : 14.20 W during 14.99 s [measurement time: 0.0024]\n",
      "[codecarbon INFO @ 12:16:18] 0.058408 kWh of electricity used since the beginning.\n",
      "[codecarbon DEBUG @ 12:16:18] We apply an energy mix of 174 g.CO2eq/kWh for Spain\n",
      "[codecarbon DEBUG @ 12:16:18] EmissionsData(timestamp='2025-04-13T12:16:18', project_name='codecarbon', run_id='868e486c-ef2f-47f1-8b33-54ddf9c190fd', experiment_id='5b0fa12a-3dd7-45bb-9766-cc326314d9f1', duration=3720.223933511, emissions=0.010165968405743776, emissions_rate=2.7326227096629473e-06, cpu_power=42.5, gpu_power=14.204482265056425, ram_power=0.08809232711791992, cpu_energy=0.04390382160126179, gpu_energy=0.014413827086608001, ram_energy=9.067309175540364e-05, energy_consumed=0.05840832177962525, country_name='Spain', country_iso_code='ESP', region=None, cloud_provider='', cloud_region='', os='Linux-6.8.0-57-generic-x86_64-with-glibc2.35', python_version='3.12.9', codecarbon_version='2.8.3', cpu_count=32, cpu_model='13th Gen Intel(R) Core(TM) i9-13900', gpu_count=1, gpu_model='1 x NVIDIA RTX 5000 Ada Generation', longitude=None, latitude=None, ram_total_size=62.50331497192383, tracking_mode='process', on_cloud='N', pue=1.0)\n",
      "[codecarbon INFO @ 12:16:18] 0.002713 g.CO2eq/s mean an estimation of 85.57104659059931 kg.CO2eq/year\n",
      "[codecarbon DEBUG @ 12:16:18] last_duration=14.972167973999603\n",
      "------------------------\n",
      "[codecarbon INFO @ 12:16:33] Energy consumed for RAM : 0.000091 kWh. RAM Power : 0.08809232711791992 W\n",
      "[codecarbon DEBUG @ 12:16:33] RAM : 0.09 W during 14.98 s [measurement time: 0.0146]\n",
      "[codecarbon INFO @ 12:16:33] Energy consumed for all CPUs : 0.044081 kWh. Total CPU Power : 42.5 W\n",
      "[codecarbon DEBUG @ 12:16:33] CPU : 42.50 W during 15.00 s [measurement time: 0.0005]\n",
      "[codecarbon INFO @ 12:16:33] Energy consumed for all GPUs : 0.014471 kWh. Total GPU Power : 13.795855630716353 W\n",
      "[codecarbon DEBUG @ 12:16:33] GPU : 13.80 W during 15.00 s [measurement time: 0.0024]\n",
      "[codecarbon INFO @ 12:16:33] 0.058643 kWh of electricity used since the beginning.\n",
      "[codecarbon DEBUG @ 12:16:33] last_duration=14.977987561999726\n",
      "------------------------\n"
     ]
    },
    {
     "name": "stdout",
     "output_type": "stream",
     "text": [
      "[194/1000] ./test/pdf/719.pdf\n"
     ]
    },
    {
     "name": "stderr",
     "output_type": "stream",
     "text": [
      "[codecarbon INFO @ 12:16:48] Energy consumed for RAM : 0.000091 kWh. RAM Power : 0.08809232711791992 W\n",
      "[codecarbon DEBUG @ 12:16:48] RAM : 0.09 W during 14.97 s [measurement time: 0.0111]\n",
      "[codecarbon INFO @ 12:16:48] Energy consumed for all CPUs : 0.044258 kWh. Total CPU Power : 42.5 W\n",
      "[codecarbon DEBUG @ 12:16:48] CPU : 42.50 W during 14.99 s [measurement time: 0.0004]\n",
      "[codecarbon INFO @ 12:16:48] Energy consumed for all GPUs : 0.014527 kWh. Total GPU Power : 13.354970677139622 W\n",
      "[codecarbon DEBUG @ 12:16:48] GPU : 13.35 W during 14.99 s [measurement time: 0.0021]\n",
      "[codecarbon INFO @ 12:16:48] 0.058876 kWh of electricity used since the beginning.\n",
      "[codecarbon DEBUG @ 12:16:48] last_duration=14.972850740000013\n",
      "------------------------\n"
     ]
    },
    {
     "name": "stdout",
     "output_type": "stream",
     "text": [
      "[195/1000] ./test/pdf/72.pdf\n"
     ]
    },
    {
     "name": "stderr",
     "output_type": "stream",
     "text": [
      "[codecarbon INFO @ 12:17:03] Energy consumed for RAM : 0.000092 kWh. RAM Power : 0.08809232711791992 W\n",
      "[codecarbon DEBUG @ 12:17:03] RAM : 0.09 W during 14.98 s [measurement time: 0.0140]\n",
      "[codecarbon INFO @ 12:17:03] Energy consumed for all CPUs : 0.044435 kWh. Total CPU Power : 42.5 W\n",
      "[codecarbon DEBUG @ 12:17:03] CPU : 42.50 W during 15.00 s [measurement time: 0.0005]\n",
      "[codecarbon INFO @ 12:17:03] Energy consumed for all GPUs : 0.014583 kWh. Total GPU Power : 13.47869967601019 W\n",
      "[codecarbon DEBUG @ 12:17:03] GPU : 13.48 W during 15.00 s [measurement time: 0.0026]\n",
      "[codecarbon INFO @ 12:17:03] 0.059110 kWh of electricity used since the beginning.\n",
      "[codecarbon DEBUG @ 12:17:03] last_duration=14.978314836000209\n",
      "------------------------\n"
     ]
    },
    {
     "name": "stdout",
     "output_type": "stream",
     "text": [
      "[196/1000] ./test/pdf/720.pdf\n"
     ]
    },
    {
     "name": "stderr",
     "output_type": "stream",
     "text": [
      "[codecarbon INFO @ 12:17:18] Energy consumed for RAM : 0.000092 kWh. RAM Power : 0.08809232711791992 W\n",
      "[codecarbon DEBUG @ 12:17:18] RAM : 0.09 W during 14.98 s [measurement time: 0.0142]\n",
      "[codecarbon INFO @ 12:17:18] Energy consumed for all CPUs : 0.044612 kWh. Total CPU Power : 42.5 W\n",
      "[codecarbon DEBUG @ 12:17:18] CPU : 42.50 W during 15.00 s [measurement time: 0.0004]\n",
      "[codecarbon INFO @ 12:17:18] Energy consumed for all GPUs : 0.014641 kWh. Total GPU Power : 13.886984185096928 W\n",
      "[codecarbon DEBUG @ 12:17:18] GPU : 13.89 W during 15.00 s [measurement time: 0.0027]\n",
      "[codecarbon INFO @ 12:17:18] 0.059345 kWh of electricity used since the beginning.\n",
      "[codecarbon DEBUG @ 12:17:18] last_duration=14.976443670000208\n",
      "------------------------\n"
     ]
    },
    {
     "name": "stdout",
     "output_type": "stream",
     "text": [
      "[197/1000] ./test/pdf/721.pdf\n"
     ]
    },
    {
     "name": "stderr",
     "output_type": "stream",
     "text": [
      "[codecarbon INFO @ 12:17:33] Energy consumed for RAM : 0.000093 kWh. RAM Power : 0.08809232711791992 W\n",
      "[codecarbon DEBUG @ 12:17:33] RAM : 0.09 W during 14.98 s [measurement time: 0.0121]\n",
      "[codecarbon INFO @ 12:17:33] Energy consumed for all CPUs : 0.044789 kWh. Total CPU Power : 42.5 W\n",
      "[codecarbon DEBUG @ 12:17:33] CPU : 42.50 W during 15.00 s [measurement time: 0.0007]\n",
      "[codecarbon INFO @ 12:17:33] Energy consumed for all GPUs : 0.014695 kWh. Total GPU Power : 12.903467953006519 W\n",
      "[codecarbon DEBUG @ 12:17:33] GPU : 12.90 W during 15.00 s [measurement time: 0.0021]\n",
      "[codecarbon INFO @ 12:17:33] 0.059576 kWh of electricity used since the beginning.\n",
      "[codecarbon DEBUG @ 12:17:33] last_duration=14.976346017999731\n",
      "------------------------\n",
      "[codecarbon INFO @ 12:17:48] Energy consumed for RAM : 0.000093 kWh. RAM Power : 0.08809232711791992 W\n",
      "[codecarbon DEBUG @ 12:17:48] RAM : 0.09 W during 14.97 s [measurement time: 0.0058]\n",
      "[codecarbon INFO @ 12:17:48] Energy consumed for all CPUs : 0.044966 kWh. Total CPU Power : 42.5 W\n",
      "[codecarbon DEBUG @ 12:17:48] CPU : 42.50 W during 14.98 s [measurement time: 0.0003]\n",
      "[codecarbon INFO @ 12:17:48] Energy consumed for all GPUs : 0.014753 kWh. Total GPU Power : 14.041736315345435 W\n",
      "[codecarbon DEBUG @ 12:17:48] GPU : 14.04 W during 14.98 s [measurement time: 0.0051]\n",
      "[codecarbon INFO @ 12:17:48] 0.059812 kWh of electricity used since the beginning.\n",
      "[codecarbon DEBUG @ 12:17:48] last_duration=14.970550009999897\n",
      "------------------------\n"
     ]
    },
    {
     "name": "stdout",
     "output_type": "stream",
     "text": [
      "[198/1000] ./test/pdf/722.pdf\n"
     ]
    },
    {
     "name": "stderr",
     "output_type": "stream",
     "text": [
      "[codecarbon INFO @ 12:18:03] Energy consumed for RAM : 0.000093 kWh. RAM Power : 0.08809232711791992 W\n",
      "[codecarbon DEBUG @ 12:18:03] RAM : 0.09 W during 14.98 s [measurement time: 0.0141]\n",
      "[codecarbon INFO @ 12:18:03] Energy consumed for all CPUs : 0.045143 kWh. Total CPU Power : 42.5 W\n",
      "[codecarbon DEBUG @ 12:18:03] CPU : 42.50 W during 15.01 s [measurement time: 0.0003]\n",
      "[codecarbon INFO @ 12:18:03] Energy consumed for all GPUs : 0.014807 kWh. Total GPU Power : 12.959211468962158 W\n",
      "[codecarbon DEBUG @ 12:18:03] GPU : 12.96 W during 15.01 s [measurement time: 0.0051]\n",
      "[codecarbon INFO @ 12:18:03] 0.060044 kWh of electricity used since the beginning.\n",
      "[codecarbon DEBUG @ 12:18:03] last_duration=14.984225771999718\n",
      "------------------------\n"
     ]
    },
    {
     "name": "stdout",
     "output_type": "stream",
     "text": [
      "[199/1000] ./test/pdf/723.pdf\n"
     ]
    },
    {
     "name": "stderr",
     "output_type": "stream",
     "text": [
      "[codecarbon INFO @ 12:18:18] Energy consumed for RAM : 0.000094 kWh. RAM Power : 0.08809232711791992 W\n",
      "[codecarbon DEBUG @ 12:18:18] RAM : 0.09 W during 14.97 s [measurement time: 0.0124]\n",
      "[codecarbon INFO @ 12:18:18] Energy consumed for all CPUs : 0.045320 kWh. Total CPU Power : 42.5 W\n",
      "[codecarbon DEBUG @ 12:18:18] CPU : 42.50 W during 14.99 s [measurement time: 0.0006]\n",
      "[codecarbon INFO @ 12:18:18] Energy consumed for all GPUs : 0.014867 kWh. Total GPU Power : 14.264163060698293 W\n",
      "[codecarbon DEBUG @ 12:18:18] GPU : 14.26 W during 15.00 s [measurement time: 0.0051]\n",
      "[codecarbon INFO @ 12:18:18] 0.060280 kWh of electricity used since the beginning.\n",
      "[codecarbon DEBUG @ 12:18:18] We apply an energy mix of 174 g.CO2eq/kWh for Spain\n",
      "[codecarbon DEBUG @ 12:18:18] EmissionsData(timestamp='2025-04-13T12:18:18', project_name='codecarbon', run_id='868e486c-ef2f-47f1-8b33-54ddf9c190fd', experiment_id='5b0fa12a-3dd7-45bb-9766-cc326314d9f1', duration=3840.240354088, emissions=0.01049180944445502, emissions_rate=2.7320710364616406e-06, cpu_power=42.5, gpu_power=14.264163060698293, ram_power=0.08809232711791992, cpu_energy=0.04532021294001318, gpu_energy=0.014866615782172, ram_energy=9.360474207801032e-05, energy_consumed=0.06028043346426325, country_name='Spain', country_iso_code='ESP', region=None, cloud_provider='', cloud_region='', os='Linux-6.8.0-57-generic-x86_64-with-glibc2.35', python_version='3.12.9', codecarbon_version='2.8.3', cpu_count=32, cpu_model='13th Gen Intel(R) Core(TM) i9-13900', gpu_count=1, gpu_model='1 x NVIDIA RTX 5000 Ada Generation', longitude=None, latitude=None, ram_total_size=62.50331497192383, tracking_mode='process', on_cloud='N', pue=1.0)\n",
      "[codecarbon INFO @ 12:18:18] 0.002715 g.CO2eq/s mean an estimation of 85.61930898618203 kg.CO2eq/year\n",
      "[codecarbon DEBUG @ 12:18:18] last_duration=14.968656136999925\n",
      "------------------------\n"
     ]
    },
    {
     "name": "stdout",
     "output_type": "stream",
     "text": [
      "[200/1000] ./test/pdf/724.pdf\n"
     ]
    },
    {
     "name": "stderr",
     "output_type": "stream",
     "text": [
      "[codecarbon INFO @ 12:18:33] Energy consumed for RAM : 0.000094 kWh. RAM Power : 0.08809232711791992 W\n",
      "[codecarbon DEBUG @ 12:18:33] RAM : 0.09 W during 14.97 s [measurement time: 0.0098]\n",
      "[codecarbon INFO @ 12:18:33] Energy consumed for all CPUs : 0.045497 kWh. Total CPU Power : 42.5 W\n",
      "[codecarbon DEBUG @ 12:18:33] CPU : 42.50 W during 14.99 s [measurement time: 0.0003]\n",
      "[codecarbon INFO @ 12:18:33] Energy consumed for all GPUs : 0.014925 kWh. Total GPU Power : 14.0059751634068 W\n",
      "[codecarbon DEBUG @ 12:18:33] GPU : 14.01 W during 14.99 s [measurement time: 0.0057]\n",
      "[codecarbon INFO @ 12:18:33] 0.060516 kWh of electricity used since the beginning.\n",
      "[codecarbon DEBUG @ 12:18:33] last_duration=14.968171324000195\n",
      "------------------------\n"
     ]
    },
    {
     "name": "stdout",
     "output_type": "stream",
     "text": [
      "[201/1000] ./test/pdf/725.pdf\n"
     ]
    },
    {
     "name": "stderr",
     "output_type": "stream",
     "text": [
      "[codecarbon INFO @ 12:18:48] Energy consumed for RAM : 0.000094 kWh. RAM Power : 0.08809232711791992 W\n",
      "[codecarbon DEBUG @ 12:18:48] RAM : 0.09 W during 14.97 s [measurement time: 0.0145]\n",
      "[codecarbon INFO @ 12:18:48] Energy consumed for all CPUs : 0.045674 kWh. Total CPU Power : 42.5 W\n",
      "[codecarbon DEBUG @ 12:18:48] CPU : 42.50 W during 14.99 s [measurement time: 0.0005]\n",
      "[codecarbon INFO @ 12:18:48] Energy consumed for all GPUs : 0.014981 kWh. Total GPU Power : 13.512964863832465 W\n",
      "[codecarbon DEBUG @ 12:18:48] GPU : 13.51 W during 15.00 s [measurement time: 0.0023]\n",
      "[codecarbon INFO @ 12:18:48] 0.060750 kWh of electricity used since the beginning.\n",
      "[codecarbon DEBUG @ 12:18:48] last_duration=14.974323609000294\n",
      "------------------------\n",
      "[codecarbon INFO @ 12:19:03] Energy consumed for RAM : 0.000095 kWh. RAM Power : 0.08809232711791992 W\n",
      "[codecarbon DEBUG @ 12:19:03] RAM : 0.09 W during 14.98 s [measurement time: 0.0139]\n",
      "[codecarbon INFO @ 12:19:03] Energy consumed for all CPUs : 0.045851 kWh. Total CPU Power : 42.5 W\n",
      "[codecarbon DEBUG @ 12:19:03] CPU : 42.50 W during 15.00 s [measurement time: 0.0013]\n",
      "[codecarbon INFO @ 12:19:03] Energy consumed for all GPUs : 0.015034 kWh. Total GPU Power : 12.76527366408719 W\n",
      "[codecarbon DEBUG @ 12:19:03] GPU : 12.77 W during 15.00 s [measurement time: 0.0030]\n",
      "[codecarbon INFO @ 12:19:03] 0.060980 kWh of electricity used since the beginning.\n",
      "[codecarbon DEBUG @ 12:19:03] last_duration=14.975737235999986\n",
      "------------------------\n"
     ]
    },
    {
     "name": "stdout",
     "output_type": "stream",
     "text": [
      "[202/1000] ./test/pdf/726.pdf\n"
     ]
    },
    {
     "name": "stderr",
     "output_type": "stream",
     "text": [
      "[codecarbon INFO @ 12:19:18] Energy consumed for RAM : 0.000095 kWh. RAM Power : 0.08809232711791992 W\n",
      "[codecarbon DEBUG @ 12:19:18] RAM : 0.09 W during 14.97 s [measurement time: 0.0134]\n",
      "[codecarbon INFO @ 12:19:18] Energy consumed for all CPUs : 0.046028 kWh. Total CPU Power : 42.5 W\n",
      "[codecarbon DEBUG @ 12:19:18] CPU : 42.50 W during 14.99 s [measurement time: 0.0005]\n",
      "[codecarbon INFO @ 12:19:18] Energy consumed for all GPUs : 0.015089 kWh. Total GPU Power : 13.189378734500023 W\n",
      "[codecarbon DEBUG @ 12:19:18] GPU : 13.19 W during 14.99 s [measurement time: 0.0035]\n",
      "[codecarbon INFO @ 12:19:18] 0.061213 kWh of electricity used since the beginning.\n",
      "[codecarbon DEBUG @ 12:19:18] last_duration=14.96832409300032\n",
      "------------------------\n"
     ]
    },
    {
     "name": "stdout",
     "output_type": "stream",
     "text": [
      "[203/1000] ./test/pdf/727.pdf\n"
     ]
    },
    {
     "name": "stderr",
     "output_type": "stream",
     "text": [
      "[codecarbon INFO @ 12:19:33] Energy consumed for RAM : 0.000095 kWh. RAM Power : 0.08809232711791992 W\n",
      "[codecarbon DEBUG @ 12:19:33] RAM : 0.09 W during 14.97 s [measurement time: 0.0126]\n",
      "[codecarbon INFO @ 12:19:33] Energy consumed for all CPUs : 0.046205 kWh. Total CPU Power : 42.5 W\n",
      "[codecarbon DEBUG @ 12:19:33] CPU : 42.50 W during 14.99 s [measurement time: 0.0006]\n",
      "[codecarbon INFO @ 12:19:33] Energy consumed for all GPUs : 0.015145 kWh. Total GPU Power : 13.404750448640193 W\n",
      "[codecarbon DEBUG @ 12:19:33] GPU : 13.40 W during 15.00 s [measurement time: 0.0020]\n",
      "[codecarbon INFO @ 12:19:33] 0.061446 kWh of electricity used since the beginning.\n",
      "[codecarbon DEBUG @ 12:19:33] last_duration=14.972072909999952\n",
      "------------------------\n"
     ]
    },
    {
     "name": "stdout",
     "output_type": "stream",
     "text": [
      "[204/1000] ./test/pdf/728.pdf\n"
     ]
    },
    {
     "name": "stderr",
     "output_type": "stream",
     "text": [
      "[codecarbon INFO @ 12:19:48] Energy consumed for RAM : 0.000096 kWh. RAM Power : 0.08809232711791992 W\n",
      "[codecarbon DEBUG @ 12:19:48] RAM : 0.09 W during 14.97 s [measurement time: 0.0130]\n",
      "[codecarbon INFO @ 12:19:48] Energy consumed for all CPUs : 0.046382 kWh. Total CPU Power : 42.5 W\n",
      "[codecarbon DEBUG @ 12:19:48] CPU : 42.50 W during 15.00 s [measurement time: 0.0003]\n",
      "[codecarbon INFO @ 12:19:48] Energy consumed for all GPUs : 0.015203 kWh. Total GPU Power : 13.770179790422672 W\n",
      "[codecarbon DEBUG @ 12:19:48] GPU : 13.77 W during 15.00 s [measurement time: 0.0068]\n",
      "[codecarbon INFO @ 12:19:48] 0.061681 kWh of electricity used since the beginning.\n",
      "[codecarbon DEBUG @ 12:19:48] last_duration=14.974038212000323\n",
      "------------------------\n"
     ]
    },
    {
     "name": "stdout",
     "output_type": "stream",
     "text": [
      "[205/1000] ./test/pdf/729.pdf\n"
     ]
    },
    {
     "name": "stderr",
     "output_type": "stream",
     "text": [
      "[codecarbon INFO @ 12:20:03] Energy consumed for RAM : 0.000096 kWh. RAM Power : 0.08809232711791992 W\n",
      "[codecarbon DEBUG @ 12:20:03] RAM : 0.09 W during 14.97 s [measurement time: 0.0115]\n",
      "[codecarbon INFO @ 12:20:03] Energy consumed for all CPUs : 0.046559 kWh. Total CPU Power : 42.5 W\n",
      "[codecarbon DEBUG @ 12:20:03] CPU : 42.50 W during 14.99 s [measurement time: 0.0007]\n",
      "[codecarbon INFO @ 12:20:03] Energy consumed for all GPUs : 0.015261 kWh. Total GPU Power : 14.091256440645841 W\n",
      "[codecarbon DEBUG @ 12:20:03] GPU : 14.09 W during 14.99 s [measurement time: 0.0023]\n",
      "[codecarbon INFO @ 12:20:03] 0.061917 kWh of electricity used since the beginning.\n",
      "[codecarbon DEBUG @ 12:20:03] last_duration=14.968828140000369\n",
      "------------------------\n"
     ]
    },
    {
     "name": "stdout",
     "output_type": "stream",
     "text": [
      "[206/1000] ./test/pdf/73.pdf\n"
     ]
    },
    {
     "name": "stderr",
     "output_type": "stream",
     "text": [
      "[codecarbon INFO @ 12:20:18] Energy consumed for RAM : 0.000097 kWh. RAM Power : 0.08809232711791992 W\n",
      "[codecarbon DEBUG @ 12:20:18] RAM : 0.09 W during 14.97 s [measurement time: 0.0146]\n",
      "[codecarbon INFO @ 12:20:18] Energy consumed for all CPUs : 0.046736 kWh. Total CPU Power : 42.5 W\n",
      "[codecarbon DEBUG @ 12:20:18] CPU : 42.50 W during 14.99 s [measurement time: 0.0007]\n",
      "[codecarbon INFO @ 12:20:18] Energy consumed for all GPUs : 0.015317 kWh. Total GPU Power : 13.273131340046993 W\n",
      "[codecarbon DEBUG @ 12:20:18] GPU : 13.27 W during 15.00 s [measurement time: 0.0050]\n",
      "[codecarbon INFO @ 12:20:18] 0.062149 kWh of electricity used since the beginning.\n",
      "[codecarbon DEBUG @ 12:20:18] We apply an energy mix of 174 g.CO2eq/kWh for Spain\n",
      "[codecarbon DEBUG @ 12:20:18] EmissionsData(timestamp='2025-04-13T12:20:18', project_name='codecarbon', run_id='868e486c-ef2f-47f1-8b33-54ddf9c190fd', experiment_id='5b0fa12a-3dd7-45bb-9766-cc326314d9f1', duration=3960.245568517, emissions=0.010817105858121855, emissions_rate=2.731423006723433e-06, cpu_power=42.5, gpu_power=13.273131340046993, ram_power=0.08809232711791992, cpu_energy=0.046736345108227766, gpu_energy=0.015316535308774002, ram_energy=9.653560208380352e-05, energy_consumed=0.062149416019085635, country_name='Spain', country_iso_code='ESP', region=None, cloud_provider='', cloud_region='', os='Linux-6.8.0-57-generic-x86_64-with-glibc2.35', python_version='3.12.9', codecarbon_version='2.8.3', cpu_count=32, cpu_model='13th Gen Intel(R) Core(TM) i9-13900', gpu_count=1, gpu_model='1 x NVIDIA RTX 5000 Ada Generation', longitude=None, latitude=None, ram_total_size=62.50331497192383, tracking_mode='process', on_cloud='N', pue=1.0)\n",
      "[codecarbon INFO @ 12:20:18] 0.002711 g.CO2eq/s mean an estimation of 85.4841829182909 kg.CO2eq/year\n",
      "[codecarbon DEBUG @ 12:20:18] last_duration=14.971569732999797\n",
      "------------------------\n"
     ]
    },
    {
     "name": "stdout",
     "output_type": "stream",
     "text": [
      "[207/1000] ./test/pdf/730.pdf\n"
     ]
    },
    {
     "name": "stderr",
     "output_type": "stream",
     "text": [
      "[codecarbon INFO @ 12:20:33] Energy consumed for RAM : 0.000097 kWh. RAM Power : 0.08809232711791992 W\n",
      "[codecarbon DEBUG @ 12:20:33] RAM : 0.09 W during 14.97 s [measurement time: 0.0116]\n",
      "[codecarbon INFO @ 12:20:33] Energy consumed for all CPUs : 0.046913 kWh. Total CPU Power : 42.5 W\n",
      "[codecarbon DEBUG @ 12:20:33] CPU : 42.50 W during 15.00 s [measurement time: 0.0005]\n",
      "[codecarbon INFO @ 12:20:33] Energy consumed for all GPUs : 0.015374 kWh. Total GPU Power : 13.900294178879527 W\n",
      "[codecarbon DEBUG @ 12:20:33] GPU : 13.90 W during 15.00 s [measurement time: 0.0087]\n",
      "[codecarbon INFO @ 12:20:33] 0.062385 kWh of electricity used since the beginning.\n",
      "[codecarbon DEBUG @ 12:20:33] last_duration=14.970749871999942\n",
      "------------------------\n",
      "[codecarbon INFO @ 12:20:48] Energy consumed for RAM : 0.000097 kWh. RAM Power : 0.08809232711791992 W\n",
      "[codecarbon DEBUG @ 12:20:48] RAM : 0.09 W during 14.97 s [measurement time: 0.0135]\n",
      "[codecarbon INFO @ 12:20:48] Energy consumed for all CPUs : 0.047090 kWh. Total CPU Power : 42.5 W\n",
      "[codecarbon DEBUG @ 12:20:48] CPU : 42.50 W during 14.99 s [measurement time: 0.0003]\n",
      "[codecarbon INFO @ 12:20:48] Energy consumed for all GPUs : 0.015430 kWh. Total GPU Power : 13.322531856667002 W\n",
      "[codecarbon DEBUG @ 12:20:48] GPU : 13.32 W during 14.99 s [measurement time: 0.0056]\n",
      "[codecarbon INFO @ 12:20:48] 0.062618 kWh of electricity used since the beginning.\n",
      "[codecarbon DEBUG @ 12:20:48] last_duration=14.965651182999864\n",
      "------------------------\n"
     ]
    },
    {
     "name": "stdout",
     "output_type": "stream",
     "text": [
      "[208/1000] ./test/pdf/731.pdf\n"
     ]
    },
    {
     "name": "stderr",
     "output_type": "stream",
     "text": [
      "[codecarbon INFO @ 12:21:03] Energy consumed for RAM : 0.000098 kWh. RAM Power : 0.08809232711791992 W\n",
      "[codecarbon DEBUG @ 12:21:03] RAM : 0.09 W during 14.97 s [measurement time: 0.0140]\n",
      "[codecarbon INFO @ 12:21:03] Energy consumed for all CPUs : 0.047267 kWh. Total CPU Power : 42.5 W\n",
      "[codecarbon DEBUG @ 12:21:03] CPU : 42.50 W during 14.99 s [measurement time: 0.0006]\n",
      "[codecarbon INFO @ 12:21:03] Energy consumed for all GPUs : 0.015490 kWh. Total GPU Power : 14.507947456330015 W\n",
      "[codecarbon DEBUG @ 12:21:03] GPU : 14.51 W during 14.99 s [measurement time: 0.0030]\n",
      "[codecarbon INFO @ 12:21:03] 0.062855 kWh of electricity used since the beginning.\n",
      "[codecarbon DEBUG @ 12:21:03] last_duration=14.970807665999928\n",
      "------------------------\n"
     ]
    },
    {
     "name": "stdout",
     "output_type": "stream",
     "text": [
      "[209/1000] ./test/pdf/732.pdf\n"
     ]
    },
    {
     "name": "stderr",
     "output_type": "stream",
     "text": [
      "[codecarbon INFO @ 12:21:18] Energy consumed for RAM : 0.000098 kWh. RAM Power : 0.08809232711791992 W\n",
      "[codecarbon DEBUG @ 12:21:18] RAM : 0.09 W during 14.98 s [measurement time: 0.0142]\n",
      "[codecarbon INFO @ 12:21:18] Energy consumed for all CPUs : 0.047444 kWh. Total CPU Power : 42.5 W\n",
      "[codecarbon DEBUG @ 12:21:18] CPU : 42.50 W during 15.00 s [measurement time: 0.0004]\n",
      "[codecarbon INFO @ 12:21:18] Energy consumed for all GPUs : 0.015548 kWh. Total GPU Power : 13.901517743159179 W\n",
      "[codecarbon DEBUG @ 12:21:18] GPU : 13.90 W during 15.00 s [measurement time: 0.0033]\n",
      "[codecarbon INFO @ 12:21:18] 0.063091 kWh of electricity used since the beginning.\n",
      "[codecarbon DEBUG @ 12:21:18] last_duration=14.975337352999759\n",
      "------------------------\n"
     ]
    },
    {
     "name": "stdout",
     "output_type": "stream",
     "text": [
      "[210/1000] ./test/pdf/733.pdf\n"
     ]
    },
    {
     "name": "stderr",
     "output_type": "stream",
     "text": [
      "[codecarbon INFO @ 12:21:33] Energy consumed for RAM : 0.000098 kWh. RAM Power : 0.08809232711791992 W\n",
      "[codecarbon DEBUG @ 12:21:33] RAM : 0.09 W during 14.97 s [measurement time: 0.0108]\n",
      "[codecarbon INFO @ 12:21:33] Energy consumed for all CPUs : 0.047621 kWh. Total CPU Power : 42.5 W\n",
      "[codecarbon DEBUG @ 12:21:33] CPU : 42.50 W during 15.00 s [measurement time: 0.0005]\n",
      "[codecarbon INFO @ 12:21:33] Energy consumed for all GPUs : 0.015605 kWh. Total GPU Power : 13.691312661698339 W\n",
      "[codecarbon DEBUG @ 12:21:33] GPU : 13.69 W during 15.00 s [measurement time: 0.0075]\n",
      "[codecarbon INFO @ 12:21:33] 0.063325 kWh of electricity used since the beginning.\n",
      "[codecarbon DEBUG @ 12:21:33] last_duration=14.971527754999443\n",
      "------------------------\n"
     ]
    },
    {
     "name": "stdout",
     "output_type": "stream",
     "text": [
      "[211/1000] ./test/pdf/734.pdf\n"
     ]
    },
    {
     "name": "stderr",
     "output_type": "stream",
     "text": [
      "[codecarbon INFO @ 12:21:48] Energy consumed for RAM : 0.000099 kWh. RAM Power : 0.08809232711791992 W\n",
      "[codecarbon DEBUG @ 12:21:48] RAM : 0.09 W during 14.97 s [measurement time: 0.0111]\n",
      "[codecarbon INFO @ 12:21:48] Energy consumed for all CPUs : 0.047798 kWh. Total CPU Power : 42.5 W\n",
      "[codecarbon DEBUG @ 12:21:48] CPU : 42.50 W during 14.98 s [measurement time: 0.0006]\n",
      "[codecarbon INFO @ 12:21:48] Energy consumed for all GPUs : 0.015661 kWh. Total GPU Power : 13.289052349736275 W\n",
      "[codecarbon DEBUG @ 12:21:48] GPU : 13.29 W during 14.99 s [measurement time: 0.0090]\n",
      "[codecarbon INFO @ 12:21:48] 0.063558 kWh of electricity used since the beginning.\n",
      "[codecarbon DEBUG @ 12:21:48] last_duration=14.96732862800036\n",
      "------------------------\n"
     ]
    },
    {
     "name": "stdout",
     "output_type": "stream",
     "text": [
      "[212/1000] ./test/pdf/735.pdf\n"
     ]
    },
    {
     "name": "stderr",
     "output_type": "stream",
     "text": [
      "[codecarbon INFO @ 12:22:03] Energy consumed for RAM : 0.000099 kWh. RAM Power : 0.08809232711791992 W\n",
      "[codecarbon DEBUG @ 12:22:03] RAM : 0.09 W during 14.97 s [measurement time: 0.0117]\n",
      "[codecarbon INFO @ 12:22:03] Energy consumed for all CPUs : 0.047975 kWh. Total CPU Power : 42.5 W\n",
      "[codecarbon DEBUG @ 12:22:03] CPU : 42.50 W during 14.99 s [measurement time: 0.0003]\n",
      "[codecarbon INFO @ 12:22:03] Energy consumed for all GPUs : 0.015716 kWh. Total GPU Power : 13.28205316548496 W\n",
      "[codecarbon DEBUG @ 12:22:03] GPU : 13.28 W during 14.99 s [measurement time: 0.0020]\n",
      "[codecarbon INFO @ 12:22:03] 0.063790 kWh of electricity used since the beginning.\n",
      "[codecarbon DEBUG @ 12:22:03] last_duration=14.973378818999663\n",
      "------------------------\n"
     ]
    },
    {
     "name": "stdout",
     "output_type": "stream",
     "text": [
      "[213/1000] ./test/pdf/736.pdf\n"
     ]
    },
    {
     "name": "stderr",
     "output_type": "stream",
     "text": [
      "[codecarbon INFO @ 12:22:18] Energy consumed for RAM : 0.000099 kWh. RAM Power : 0.08809232711791992 W\n",
      "[codecarbon DEBUG @ 12:22:18] RAM : 0.09 W during 14.98 s [measurement time: 0.0099]\n",
      "[codecarbon INFO @ 12:22:18] Energy consumed for all CPUs : 0.048152 kWh. Total CPU Power : 42.5 W\n",
      "[codecarbon DEBUG @ 12:22:18] CPU : 42.50 W during 15.00 s [measurement time: 0.0006]\n",
      "[codecarbon INFO @ 12:22:18] Energy consumed for all GPUs : 0.015774 kWh. Total GPU Power : 13.823776620225741 W\n",
      "[codecarbon DEBUG @ 12:22:18] GPU : 13.82 W during 15.00 s [measurement time: 0.0020]\n",
      "[codecarbon INFO @ 12:22:18] 0.064025 kWh of electricity used since the beginning.\n",
      "[codecarbon DEBUG @ 12:22:18] We apply an energy mix of 174 g.CO2eq/kWh for Spain\n",
      "[codecarbon DEBUG @ 12:22:18] EmissionsData(timestamp='2025-04-13T12:22:18', project_name='codecarbon', run_id='868e486c-ef2f-47f1-8b33-54ddf9c190fd', experiment_id='5b0fa12a-3dd7-45bb-9766-cc326314d9f1', duration=4080.242510136, emissions=0.011143603562782642, emissions_rate=2.731113049065118e-06, cpu_power=42.5, gpu_power=13.823776620225741, ram_power=0.08809232711791992, cpu_energy=0.04815232840215344, gpu_energy=0.01577350567435, ram_energy=9.94664853042495e-05, energy_consumed=0.06402530056180776, country_name='Spain', country_iso_code='ESP', region=None, cloud_provider='', cloud_region='', os='Linux-6.8.0-57-generic-x86_64-with-glibc2.35', python_version='3.12.9', codecarbon_version='2.8.3', cpu_count=32, cpu_model='13th Gen Intel(R) Core(TM) i9-13900', gpu_count=1, gpu_model='1 x NVIDIA RTX 5000 Ada Generation', longitude=None, latitude=None, ram_total_size=62.50331497192383, tracking_mode='process', on_cloud='N', pue=1.0)\n",
      "[codecarbon INFO @ 12:22:18] 0.002721 g.CO2eq/s mean an estimation of 85.80578367467528 kg.CO2eq/year\n",
      "[codecarbon DEBUG @ 12:22:18] last_duration=14.979240733000552\n",
      "------------------------\n",
      "[codecarbon INFO @ 12:22:33] Energy consumed for RAM : 0.000100 kWh. RAM Power : 0.08809232711791992 W\n",
      "[codecarbon DEBUG @ 12:22:33] RAM : 0.09 W during 14.98 s [measurement time: 0.0104]\n",
      "[codecarbon INFO @ 12:22:33] Energy consumed for all CPUs : 0.048329 kWh. Total CPU Power : 42.5 W\n",
      "[codecarbon DEBUG @ 12:22:33] CPU : 42.50 W during 15.01 s [measurement time: 0.0008]\n",
      "[codecarbon INFO @ 12:22:33] Energy consumed for all GPUs : 0.015830 kWh. Total GPU Power : 13.489929665278362 W\n",
      "[codecarbon DEBUG @ 12:22:33] GPU : 13.49 W during 15.01 s [measurement time: 0.0032]\n",
      "[codecarbon INFO @ 12:22:33] 0.064259 kWh of electricity used since the beginning.\n",
      "[codecarbon DEBUG @ 12:22:33] last_duration=14.980905854999946\n",
      "------------------------\n"
     ]
    },
    {
     "name": "stdout",
     "output_type": "stream",
     "text": [
      "[214/1000] ./test/pdf/737.pdf\n"
     ]
    },
    {
     "name": "stderr",
     "output_type": "stream",
     "text": [
      "[codecarbon INFO @ 12:22:48] Energy consumed for RAM : 0.000100 kWh. RAM Power : 0.08809232711791992 W\n",
      "[codecarbon DEBUG @ 12:22:48] RAM : 0.09 W during 14.97 s [measurement time: 0.0137]\n",
      "[codecarbon INFO @ 12:22:48] Energy consumed for all CPUs : 0.048506 kWh. Total CPU Power : 42.5 W\n",
      "[codecarbon DEBUG @ 12:22:48] CPU : 42.50 W during 14.99 s [measurement time: 0.0005]\n",
      "[codecarbon INFO @ 12:22:48] Energy consumed for all GPUs : 0.015886 kWh. Total GPU Power : 13.553767658334529 W\n",
      "[codecarbon DEBUG @ 12:22:48] GPU : 13.55 W during 14.99 s [measurement time: 0.0036]\n",
      "[codecarbon INFO @ 12:22:48] 0.064493 kWh of electricity used since the beginning.\n",
      "[codecarbon DEBUG @ 12:22:48] last_duration=14.968786940000427\n",
      "------------------------\n"
     ]
    },
    {
     "name": "stdout",
     "output_type": "stream",
     "text": [
      "[215/1000] ./test/pdf/738.pdf\n"
     ]
    },
    {
     "name": "stderr",
     "output_type": "stream",
     "text": [
      "[codecarbon INFO @ 12:23:03] Energy consumed for RAM : 0.000101 kWh. RAM Power : 0.08809232711791992 W\n",
      "[codecarbon DEBUG @ 12:23:03] RAM : 0.09 W during 14.98 s [measurement time: 0.0147]\n",
      "[codecarbon INFO @ 12:23:03] Energy consumed for all CPUs : 0.048684 kWh. Total CPU Power : 42.5 W\n",
      "[codecarbon DEBUG @ 12:23:03] CPU : 42.50 W during 15.00 s [measurement time: 0.0005]\n",
      "[codecarbon INFO @ 12:23:03] Energy consumed for all GPUs : 0.015942 kWh. Total GPU Power : 13.298857085741007 W\n",
      "[codecarbon DEBUG @ 12:23:03] GPU : 13.30 W during 15.00 s [measurement time: 0.0056]\n",
      "[codecarbon INFO @ 12:23:03] 0.064726 kWh of electricity used since the beginning.\n",
      "[codecarbon DEBUG @ 12:23:03] last_duration=14.978105877999951\n",
      "------------------------\n"
     ]
    },
    {
     "name": "stdout",
     "output_type": "stream",
     "text": [
      "[216/1000] ./test/pdf/739.pdf\n"
     ]
    },
    {
     "name": "stderr",
     "output_type": "stream",
     "text": [
      "[codecarbon INFO @ 12:23:18] Energy consumed for RAM : 0.000101 kWh. RAM Power : 0.08809232711791992 W\n",
      "[codecarbon DEBUG @ 12:23:18] RAM : 0.09 W during 14.97 s [measurement time: 0.0136]\n",
      "[codecarbon INFO @ 12:23:18] Energy consumed for all CPUs : 0.048860 kWh. Total CPU Power : 42.5 W\n",
      "[codecarbon DEBUG @ 12:23:18] CPU : 42.50 W during 14.99 s [measurement time: 0.0005]\n",
      "[codecarbon INFO @ 12:23:18] Energy consumed for all GPUs : 0.015998 kWh. Total GPU Power : 13.569896983415006 W\n",
      "[codecarbon DEBUG @ 12:23:18] GPU : 13.57 W during 14.99 s [measurement time: 0.0068]\n",
      "[codecarbon INFO @ 12:23:18] 0.064960 kWh of electricity used since the beginning.\n",
      "[codecarbon DEBUG @ 12:23:18] last_duration=14.966564602999824\n",
      "------------------------\n"
     ]
    },
    {
     "name": "stdout",
     "output_type": "stream",
     "text": [
      "[217/1000] ./test/pdf/74.pdf\n"
     ]
    },
    {
     "name": "stderr",
     "output_type": "stream",
     "text": [
      "[codecarbon INFO @ 12:23:33] Energy consumed for RAM : 0.000101 kWh. RAM Power : 0.08809232711791992 W\n",
      "[codecarbon DEBUG @ 12:23:33] RAM : 0.09 W during 14.97 s [measurement time: 0.0155]\n",
      "[codecarbon INFO @ 12:23:33] Energy consumed for all CPUs : 0.049038 kWh. Total CPU Power : 42.5 W\n",
      "[codecarbon DEBUG @ 12:23:33] CPU : 42.50 W during 15.00 s [measurement time: 0.0008]\n",
      "[codecarbon INFO @ 12:23:33] Energy consumed for all GPUs : 0.016059 kWh. Total GPU Power : 14.647876056504249 W\n",
      "[codecarbon DEBUG @ 12:23:33] GPU : 14.65 W during 15.00 s [measurement time: 0.0029]\n",
      "[codecarbon INFO @ 12:23:33] 0.065198 kWh of electricity used since the beginning.\n",
      "[codecarbon DEBUG @ 12:23:33] last_duration=14.970395103000556\n",
      "------------------------\n"
     ]
    },
    {
     "name": "stdout",
     "output_type": "stream",
     "text": [
      "[218/1000] ./test/pdf/740.pdf\n"
     ]
    },
    {
     "name": "stderr",
     "output_type": "stream",
     "text": [
      "[codecarbon INFO @ 12:23:48] Energy consumed for RAM : 0.000102 kWh. RAM Power : 0.08809232711791992 W\n",
      "[codecarbon DEBUG @ 12:23:48] RAM : 0.09 W during 14.96 s [measurement time: 0.0107]\n",
      "[codecarbon INFO @ 12:23:48] Energy consumed for all CPUs : 0.049214 kWh. Total CPU Power : 42.5 W\n",
      "[codecarbon DEBUG @ 12:23:48] CPU : 42.50 W during 14.98 s [measurement time: 0.0004]\n",
      "[codecarbon INFO @ 12:23:48] Energy consumed for all GPUs : 0.016117 kWh. Total GPU Power : 13.875443855762725 W\n",
      "[codecarbon DEBUG @ 12:23:48] GPU : 13.88 W during 14.98 s [measurement time: 0.0018]\n",
      "[codecarbon INFO @ 12:23:48] 0.065433 kWh of electricity used since the beginning.\n",
      "[codecarbon DEBUG @ 12:23:48] last_duration=14.963423367999894\n",
      "------------------------\n"
     ]
    },
    {
     "name": "stdout",
     "output_type": "stream",
     "text": [
      "[219/1000] ./test/pdf/741.pdf\n"
     ]
    },
    {
     "name": "stderr",
     "output_type": "stream",
     "text": [
      "[codecarbon INFO @ 12:24:03] Energy consumed for RAM : 0.000102 kWh. RAM Power : 0.08809232711791992 W\n",
      "[codecarbon DEBUG @ 12:24:03] RAM : 0.09 W during 14.98 s [measurement time: 0.0129]\n",
      "[codecarbon INFO @ 12:24:03] Energy consumed for all CPUs : 0.049392 kWh. Total CPU Power : 42.5 W\n",
      "[codecarbon DEBUG @ 12:24:03] CPU : 42.50 W during 15.01 s [measurement time: 0.0006]\n",
      "[codecarbon INFO @ 12:24:03] Energy consumed for all GPUs : 0.016174 kWh. Total GPU Power : 13.732022095194454 W\n",
      "[codecarbon DEBUG @ 12:24:03] GPU : 13.73 W during 15.01 s [measurement time: 0.0033]\n",
      "[codecarbon INFO @ 12:24:03] 0.065668 kWh of electricity used since the beginning.\n",
      "[codecarbon DEBUG @ 12:24:03] last_duration=14.981916035000722\n",
      "------------------------\n"
     ]
    },
    {
     "name": "stdout",
     "output_type": "stream",
     "text": [
      "[220/1000] ./test/pdf/742.pdf\n"
     ]
    },
    {
     "name": "stderr",
     "output_type": "stream",
     "text": [
      "[codecarbon INFO @ 12:24:18] Energy consumed for RAM : 0.000102 kWh. RAM Power : 0.08809232711791992 W\n",
      "[codecarbon DEBUG @ 12:24:18] RAM : 0.09 W during 14.97 s [measurement time: 0.0114]\n",
      "[codecarbon INFO @ 12:24:18] Energy consumed for all CPUs : 0.049569 kWh. Total CPU Power : 42.5 W\n",
      "[codecarbon DEBUG @ 12:24:18] CPU : 42.50 W during 14.98 s [measurement time: 0.0002]\n",
      "[codecarbon INFO @ 12:24:18] Energy consumed for all GPUs : 0.016232 kWh. Total GPU Power : 13.978523440328228 W\n",
      "[codecarbon DEBUG @ 12:24:18] GPU : 13.98 W during 14.98 s [measurement time: 0.0020]\n",
      "[codecarbon INFO @ 12:24:18] 0.065903 kWh of electricity used since the beginning.\n",
      "[codecarbon DEBUG @ 12:24:18] We apply an energy mix of 174 g.CO2eq/kWh for Spain\n",
      "[codecarbon DEBUG @ 12:24:18] EmissionsData(timestamp='2025-04-13T12:24:18', project_name='codecarbon', run_id='868e486c-ef2f-47f1-8b33-54ddf9c190fd', experiment_id='5b0fa12a-3dd7-45bb-9766-cc326314d9f1', duration=4200.247955383001, emissions=0.011470456995429075, emissions_rate=2.730899965257679e-06, cpu_power=42.5, gpu_power=13.978523440328228, ram_power=0.08809232711791992, cpu_energy=0.04956850568882844, gpu_energy=0.016232325763628, ram_energy=0.00010239747847752518, energy_consumed=0.06590322893093406, country_name='Spain', country_iso_code='ESP', region=None, cloud_provider='', cloud_region='', os='Linux-6.8.0-57-generic-x86_64-with-glibc2.35', python_version='3.12.9', codecarbon_version='2.8.3', cpu_count=32, cpu_model='13th Gen Intel(R) Core(TM) i9-13900', gpu_count=1, gpu_model='1 x NVIDIA RTX 5000 Ada Generation', longitude=None, latitude=None, ram_total_size=62.50331497192383, tracking_mode='process', on_cloud='N', pue=1.0)\n",
      "[codecarbon INFO @ 12:24:18] 0.002724 g.CO2eq/s mean an estimation of 85.89318451943758 kg.CO2eq/year\n",
      "[codecarbon DEBUG @ 12:24:18] last_duration=14.968416059999981\n",
      "------------------------\n",
      "[codecarbon INFO @ 12:24:33] Energy consumed for RAM : 0.000103 kWh. RAM Power : 0.08809232711791992 W\n",
      "[codecarbon DEBUG @ 12:24:33] RAM : 0.09 W during 14.98 s [measurement time: 0.0142]\n",
      "[codecarbon INFO @ 12:24:33] Energy consumed for all CPUs : 0.049746 kWh. Total CPU Power : 42.5 W\n",
      "[codecarbon DEBUG @ 12:24:33] CPU : 42.50 W during 15.01 s [measurement time: 0.0010]\n",
      "[codecarbon INFO @ 12:24:33] Energy consumed for all GPUs : 0.016285 kWh. Total GPU Power : 12.654481244406387 W\n",
      "[codecarbon DEBUG @ 12:24:33] GPU : 12.65 W during 15.01 s [measurement time: 0.0024]\n",
      "[codecarbon INFO @ 12:24:33] 0.066134 kWh of electricity used since the beginning.\n",
      "[codecarbon DEBUG @ 12:24:33] last_duration=14.98251044099925\n",
      "------------------------\n"
     ]
    },
    {
     "name": "stdout",
     "output_type": "stream",
     "text": [
      "[221/1000] ./test/pdf/743.pdf\n"
     ]
    },
    {
     "name": "stderr",
     "output_type": "stream",
     "text": [
      "[codecarbon INFO @ 12:24:48] Energy consumed for RAM : 0.000103 kWh. RAM Power : 0.08809232711791992 W\n",
      "[codecarbon DEBUG @ 12:24:48] RAM : 0.09 W during 14.97 s [measurement time: 0.0155]\n",
      "[codecarbon INFO @ 12:24:48] Energy consumed for all CPUs : 0.049923 kWh. Total CPU Power : 42.5 W\n",
      "[codecarbon DEBUG @ 12:24:48] CPU : 42.50 W during 14.99 s [measurement time: 0.0005]\n",
      "[codecarbon INFO @ 12:24:48] Energy consumed for all GPUs : 0.016339 kWh. Total GPU Power : 12.925445876931796 W\n",
      "[codecarbon DEBUG @ 12:24:48] GPU : 12.93 W during 14.99 s [measurement time: 0.0090]\n",
      "[codecarbon INFO @ 12:24:48] 0.066365 kWh of electricity used since the beginning.\n",
      "[codecarbon DEBUG @ 12:24:48] last_duration=14.965111904999503\n",
      "------------------------\n"
     ]
    },
    {
     "name": "stdout",
     "output_type": "stream",
     "text": [
      "[222/1000] ./test/pdf/744.pdf\n"
     ]
    },
    {
     "name": "stderr",
     "output_type": "stream",
     "text": [
      "[codecarbon INFO @ 12:25:03] Energy consumed for RAM : 0.000103 kWh. RAM Power : 0.08809232711791992 W\n",
      "[codecarbon DEBUG @ 12:25:03] RAM : 0.09 W during 14.96 s [measurement time: 0.0131]\n",
      "[codecarbon INFO @ 12:25:03] Energy consumed for all CPUs : 0.050100 kWh. Total CPU Power : 42.5 W\n",
      "[codecarbon DEBUG @ 12:25:03] CPU : 42.50 W during 14.98 s [measurement time: 0.0002]\n",
      "[codecarbon INFO @ 12:25:03] Energy consumed for all GPUs : 0.016396 kWh. Total GPU Power : 13.705429615230637 W\n",
      "[codecarbon DEBUG @ 12:25:03] GPU : 13.71 W during 14.99 s [measurement time: 0.0078]\n",
      "[codecarbon INFO @ 12:25:03] 0.066599 kWh of electricity used since the beginning.\n",
      "[codecarbon DEBUG @ 12:25:03] last_duration=14.964235103999272\n",
      "------------------------\n",
      "[codecarbon INFO @ 12:25:18] Energy consumed for RAM : 0.000104 kWh. RAM Power : 0.08809232711791992 W\n",
      "[codecarbon DEBUG @ 12:25:18] RAM : 0.09 W during 14.97 s [measurement time: 0.0156]\n",
      "[codecarbon INFO @ 12:25:18] Energy consumed for all CPUs : 0.050277 kWh. Total CPU Power : 42.5 W\n",
      "[codecarbon DEBUG @ 12:25:18] CPU : 42.50 W during 15.00 s [measurement time: 0.0005]\n",
      "[codecarbon INFO @ 12:25:18] Energy consumed for all GPUs : 0.016453 kWh. Total GPU Power : 13.761478018241567 W\n",
      "[codecarbon DEBUG @ 12:25:18] GPU : 13.76 W during 15.00 s [measurement time: 0.0026]\n",
      "[codecarbon INFO @ 12:25:18] 0.066834 kWh of electricity used since the beginning.\n",
      "[codecarbon DEBUG @ 12:25:18] last_duration=14.970312442999784\n",
      "------------------------\n"
     ]
    },
    {
     "name": "stdout",
     "output_type": "stream",
     "text": [
      "[223/1000] ./test/pdf/745.pdf\n"
     ]
    },
    {
     "name": "stderr",
     "output_type": "stream",
     "text": [
      "[codecarbon INFO @ 12:25:33] Energy consumed for RAM : 0.000104 kWh. RAM Power : 0.08809232711791992 W\n",
      "[codecarbon DEBUG @ 12:25:33] RAM : 0.09 W during 14.97 s [measurement time: 0.0115]\n",
      "[codecarbon INFO @ 12:25:33] Energy consumed for all CPUs : 0.050454 kWh. Total CPU Power : 42.5 W\n",
      "[codecarbon DEBUG @ 12:25:33] CPU : 42.50 W during 14.99 s [measurement time: 0.0003]\n",
      "[codecarbon INFO @ 12:25:33] Energy consumed for all GPUs : 0.016510 kWh. Total GPU Power : 13.51832340881694 W\n",
      "[codecarbon DEBUG @ 12:25:33] GPU : 13.52 W during 14.99 s [measurement time: 0.0023]\n",
      "[codecarbon INFO @ 12:25:33] 0.067067 kWh of electricity used since the beginning.\n",
      "[codecarbon DEBUG @ 12:25:33] last_duration=14.969041070999992\n",
      "------------------------\n"
     ]
    },
    {
     "name": "stdout",
     "output_type": "stream",
     "text": [
      "[224/1000] ./test/pdf/746.pdf\n"
     ]
    },
    {
     "name": "stderr",
     "output_type": "stream",
     "text": [
      "[codecarbon INFO @ 12:25:48] Energy consumed for RAM : 0.000105 kWh. RAM Power : 0.08809232711791992 W\n",
      "[codecarbon DEBUG @ 12:25:48] RAM : 0.09 W during 14.98 s [measurement time: 0.0082]\n",
      "[codecarbon INFO @ 12:25:48] Energy consumed for all CPUs : 0.050631 kWh. Total CPU Power : 42.5 W\n",
      "[codecarbon DEBUG @ 12:25:48] CPU : 42.50 W during 14.99 s [measurement time: 0.0004]\n",
      "[codecarbon INFO @ 12:25:48] Energy consumed for all GPUs : 0.016562 kWh. Total GPU Power : 12.618252235219353 W\n",
      "[codecarbon DEBUG @ 12:25:48] GPU : 12.62 W during 14.99 s [measurement time: 0.0019]\n",
      "[codecarbon INFO @ 12:25:48] 0.067297 kWh of electricity used since the beginning.\n",
      "[codecarbon DEBUG @ 12:25:48] last_duration=14.975756054999692\n",
      "------------------------\n"
     ]
    },
    {
     "name": "stdout",
     "output_type": "stream",
     "text": [
      "[225/1000] ./test/pdf/747.pdf\n"
     ]
    },
    {
     "name": "stderr",
     "output_type": "stream",
     "text": [
      "[codecarbon INFO @ 12:26:03] Energy consumed for RAM : 0.000105 kWh. RAM Power : 0.08809232711791992 W\n",
      "[codecarbon DEBUG @ 12:26:03] RAM : 0.09 W during 14.98 s [measurement time: 0.0117]\n",
      "[codecarbon INFO @ 12:26:03] Energy consumed for all CPUs : 0.050808 kWh. Total CPU Power : 42.5 W\n",
      "[codecarbon DEBUG @ 12:26:03] CPU : 42.50 W during 15.00 s [measurement time: 0.0004]\n",
      "[codecarbon INFO @ 12:26:03] Energy consumed for all GPUs : 0.016619 kWh. Total GPU Power : 13.622094746313657 W\n",
      "[codecarbon DEBUG @ 12:26:03] GPU : 13.62 W during 15.00 s [measurement time: 0.0098]\n",
      "[codecarbon INFO @ 12:26:03] 0.067532 kWh of electricity used since the beginning.\n",
      "[codecarbon DEBUG @ 12:26:03] last_duration=14.984929014000045\n",
      "------------------------\n",
      "[codecarbon INFO @ 12:26:18] Energy consumed for RAM : 0.000105 kWh. RAM Power : 0.08809232711791992 W\n",
      "[codecarbon DEBUG @ 12:26:18] RAM : 0.09 W during 14.97 s [measurement time: 0.0125]\n",
      "[codecarbon INFO @ 12:26:18] Energy consumed for all CPUs : 0.050985 kWh. Total CPU Power : 42.5 W\n",
      "[codecarbon DEBUG @ 12:26:18] CPU : 42.50 W during 15.00 s [measurement time: 0.0007]\n",
      "[codecarbon INFO @ 12:26:18] Energy consumed for all GPUs : 0.016673 kWh. Total GPU Power : 13.07727719699122 W\n",
      "[codecarbon DEBUG @ 12:26:18] GPU : 13.08 W during 15.00 s [measurement time: 0.0032]\n",
      "[codecarbon INFO @ 12:26:18] 0.067763 kWh of electricity used since the beginning.\n",
      "[codecarbon DEBUG @ 12:26:18] We apply an energy mix of 174 g.CO2eq/kWh for Spain\n",
      "[codecarbon DEBUG @ 12:26:18] EmissionsData(timestamp='2025-04-13T12:26:18', project_name='codecarbon', run_id='868e486c-ef2f-47f1-8b33-54ddf9c190fd', experiment_id='5b0fa12a-3dd7-45bb-9766-cc326314d9f1', duration=4320.267469681001, emissions=0.011794233851504554, emissions_rate=2.729977700287018e-06, cpu_power=42.5, gpu_power=13.07727719699122, ram_power=0.08809232711791992, cpu_energy=0.05098475119913606, gpu_energy=0.016673401116488, ram_energy=0.00010532858931440072, energy_consumed=0.06776348090493854, country_name='Spain', country_iso_code='ESP', region=None, cloud_provider='', cloud_region='', os='Linux-6.8.0-57-generic-x86_64-with-glibc2.35', python_version='3.12.9', codecarbon_version='2.8.3', cpu_count=32, cpu_model='13th Gen Intel(R) Core(TM) i9-13900', gpu_count=1, gpu_model='1 x NVIDIA RTX 5000 Ada Generation', longitude=None, latitude=None, ram_total_size=62.50331497192383, tracking_mode='process', on_cloud='N', pue=1.0)\n",
      "[codecarbon INFO @ 12:26:18] 0.002698 g.CO2eq/s mean an estimation of 85.0747229974955 kg.CO2eq/year\n",
      "[codecarbon DEBUG @ 12:26:18] last_duration=14.971420983999451\n",
      "------------------------\n"
     ]
    },
    {
     "name": "stdout",
     "output_type": "stream",
     "text": [
      "[226/1000] ./test/pdf/748.pdf\n"
     ]
    },
    {
     "name": "stderr",
     "output_type": "stream",
     "text": [
      "[codecarbon INFO @ 12:26:33] Energy consumed for RAM : 0.000106 kWh. RAM Power : 0.08809232711791992 W\n",
      "[codecarbon DEBUG @ 12:26:33] RAM : 0.09 W during 14.97 s [measurement time: 0.0108]\n",
      "[codecarbon INFO @ 12:26:33] Energy consumed for all CPUs : 0.051162 kWh. Total CPU Power : 42.5 W\n",
      "[codecarbon DEBUG @ 12:26:33] CPU : 42.50 W during 14.99 s [measurement time: 0.0010]\n",
      "[codecarbon INFO @ 12:26:33] Energy consumed for all GPUs : 0.016730 kWh. Total GPU Power : 13.561305572851133 W\n",
      "[codecarbon DEBUG @ 12:26:33] GPU : 13.56 W during 14.99 s [measurement time: 0.0042]\n",
      "[codecarbon INFO @ 12:26:33] 0.067997 kWh of electricity used since the beginning.\n",
      "[codecarbon DEBUG @ 12:26:33] last_duration=14.969605948000208\n",
      "------------------------\n"
     ]
    },
    {
     "name": "stdout",
     "output_type": "stream",
     "text": [
      "[227/1000] ./test/pdf/749.pdf\n"
     ]
    },
    {
     "name": "stderr",
     "output_type": "stream",
     "text": [
      "[codecarbon INFO @ 12:26:48] Energy consumed for RAM : 0.000106 kWh. RAM Power : 0.08809232711791992 W\n",
      "[codecarbon DEBUG @ 12:26:48] RAM : 0.09 W during 14.97 s [measurement time: 0.0154]\n",
      "[codecarbon INFO @ 12:26:48] Energy consumed for all CPUs : 0.051339 kWh. Total CPU Power : 42.5 W\n",
      "[codecarbon DEBUG @ 12:26:48] CPU : 42.50 W during 14.99 s [measurement time: 0.0004]\n",
      "[codecarbon INFO @ 12:26:48] Energy consumed for all GPUs : 0.016784 kWh. Total GPU Power : 12.8785500659583 W\n",
      "[codecarbon DEBUG @ 12:26:48] GPU : 12.88 W during 14.99 s [measurement time: 0.0029]\n",
      "[codecarbon INFO @ 12:26:48] 0.068228 kWh of electricity used since the beginning.\n",
      "[codecarbon DEBUG @ 12:26:48] last_duration=14.97098435099997\n",
      "------------------------\n"
     ]
    },
    {
     "name": "stdout",
     "output_type": "stream",
     "text": [
      "[228/1000] ./test/pdf/75.pdf\n"
     ]
    },
    {
     "name": "stderr",
     "output_type": "stream",
     "text": [
      "[codecarbon INFO @ 12:27:03] Energy consumed for RAM : 0.000106 kWh. RAM Power : 0.08809232711791992 W\n",
      "[codecarbon DEBUG @ 12:27:03] RAM : 0.09 W during 14.98 s [measurement time: 0.0147]\n",
      "[codecarbon INFO @ 12:27:03] Energy consumed for all CPUs : 0.051516 kWh. Total CPU Power : 42.5 W\n",
      "[codecarbon DEBUG @ 12:27:03] CPU : 42.50 W during 15.00 s [measurement time: 0.0007]\n",
      "[codecarbon INFO @ 12:27:03] Energy consumed for all GPUs : 0.016840 kWh. Total GPU Power : 13.479863866211874 W\n",
      "[codecarbon DEBUG @ 12:27:03] GPU : 13.48 W during 15.00 s [measurement time: 0.0043]\n",
      "[codecarbon INFO @ 12:27:03] 0.068462 kWh of electricity used since the beginning.\n",
      "[codecarbon DEBUG @ 12:27:03] last_duration=14.975489264000316\n",
      "------------------------\n"
     ]
    },
    {
     "name": "stdout",
     "output_type": "stream",
     "text": [
      "[229/1000] ./test/pdf/750.pdf\n"
     ]
    },
    {
     "name": "stderr",
     "output_type": "stream",
     "text": [
      "[codecarbon INFO @ 12:27:18] Energy consumed for RAM : 0.000107 kWh. RAM Power : 0.08809232711791992 W\n",
      "[codecarbon DEBUG @ 12:27:18] RAM : 0.09 W during 14.97 s [measurement time: 0.0118]\n",
      "[codecarbon INFO @ 12:27:18] Energy consumed for all CPUs : 0.051693 kWh. Total CPU Power : 42.5 W\n",
      "[codecarbon DEBUG @ 12:27:18] CPU : 42.50 W during 14.99 s [measurement time: 0.0008]\n",
      "[codecarbon INFO @ 12:27:18] Energy consumed for all GPUs : 0.016895 kWh. Total GPU Power : 13.326951995418716 W\n",
      "[codecarbon DEBUG @ 12:27:18] GPU : 13.33 W during 14.99 s [measurement time: 0.0027]\n",
      "[codecarbon INFO @ 12:27:18] 0.068695 kWh of electricity used since the beginning.\n",
      "[codecarbon DEBUG @ 12:27:18] last_duration=14.967448098000204\n",
      "------------------------\n"
     ]
    },
    {
     "name": "stdout",
     "output_type": "stream",
     "text": [
      "[230/1000] ./test/pdf/751.pdf\n"
     ]
    },
    {
     "name": "stderr",
     "output_type": "stream",
     "text": [
      "[codecarbon INFO @ 12:27:33] Energy consumed for RAM : 0.000107 kWh. RAM Power : 0.08809232711791992 W\n",
      "[codecarbon DEBUG @ 12:27:33] RAM : 0.09 W during 14.97 s [measurement time: 0.0136]\n",
      "[codecarbon INFO @ 12:27:33] Energy consumed for all CPUs : 0.051870 kWh. Total CPU Power : 42.5 W\n",
      "[codecarbon DEBUG @ 12:27:33] CPU : 42.50 W during 14.99 s [measurement time: 0.0004]\n",
      "[codecarbon INFO @ 12:27:33] Energy consumed for all GPUs : 0.016947 kWh. Total GPU Power : 12.37666633802319 W\n",
      "[codecarbon DEBUG @ 12:27:33] GPU : 12.38 W during 14.99 s [measurement time: 0.0023]\n",
      "[codecarbon INFO @ 12:27:33] 0.068924 kWh of electricity used since the beginning.\n",
      "[codecarbon DEBUG @ 12:27:33] last_duration=14.96877046499958\n",
      "------------------------\n"
     ]
    },
    {
     "name": "stdout",
     "output_type": "stream",
     "text": [
      "[231/1000] ./test/pdf/752.pdf\n"
     ]
    },
    {
     "name": "stderr",
     "output_type": "stream",
     "text": [
      "[codecarbon INFO @ 12:27:48] Energy consumed for RAM : 0.000108 kWh. RAM Power : 0.08809232711791992 W\n",
      "[codecarbon DEBUG @ 12:27:48] RAM : 0.09 W during 14.98 s [measurement time: 0.0135]\n",
      "[codecarbon INFO @ 12:27:48] Energy consumed for all CPUs : 0.052047 kWh. Total CPU Power : 42.5 W\n",
      "[codecarbon DEBUG @ 12:27:48] CPU : 42.50 W during 15.01 s [measurement time: 0.0008]\n",
      "[codecarbon INFO @ 12:27:48] Energy consumed for all GPUs : 0.017007 kWh. Total GPU Power : 14.35061123017865 W\n",
      "[codecarbon DEBUG @ 12:27:48] GPU : 14.35 W during 15.01 s [measurement time: 0.0023]\n",
      "[codecarbon INFO @ 12:27:48] 0.069161 kWh of electricity used since the beginning.\n",
      "[codecarbon DEBUG @ 12:27:48] last_duration=14.975988105999932\n",
      "------------------------\n",
      "[codecarbon INFO @ 12:28:03] Energy consumed for RAM : 0.000108 kWh. RAM Power : 0.08809232711791992 W\n",
      "[codecarbon DEBUG @ 12:28:03] RAM : 0.09 W during 14.97 s [measurement time: 0.0160]\n",
      "[codecarbon INFO @ 12:28:03] Energy consumed for all CPUs : 0.052224 kWh. Total CPU Power : 42.5 W\n",
      "[codecarbon DEBUG @ 12:28:03] CPU : 42.50 W during 14.99 s [measurement time: 0.0005]\n",
      "[codecarbon INFO @ 12:28:03] Energy consumed for all GPUs : 0.017064 kWh. Total GPU Power : 13.773291220459036 W\n",
      "[codecarbon DEBUG @ 12:28:03] GPU : 13.77 W during 14.99 s [measurement time: 0.0026]\n",
      "[codecarbon INFO @ 12:28:03] 0.069396 kWh of electricity used since the beginning.\n",
      "[codecarbon DEBUG @ 12:28:03] last_duration=14.966189771000245\n",
      "------------------------\n"
     ]
    },
    {
     "name": "stdout",
     "output_type": "stream",
     "text": [
      "[232/1000] ./test/pdf/753.pdf\n"
     ]
    },
    {
     "name": "stderr",
     "output_type": "stream",
     "text": [
      "[codecarbon INFO @ 12:28:18] Energy consumed for RAM : 0.000108 kWh. RAM Power : 0.08809232711791992 W\n",
      "[codecarbon DEBUG @ 12:28:18] RAM : 0.09 W during 14.97 s [measurement time: 0.0148]\n",
      "[codecarbon INFO @ 12:28:18] Energy consumed for all CPUs : 0.052401 kWh. Total CPU Power : 42.5 W\n",
      "[codecarbon DEBUG @ 12:28:18] CPU : 42.50 W during 15.00 s [measurement time: 0.0004]\n",
      "[codecarbon INFO @ 12:28:18] Energy consumed for all GPUs : 0.017118 kWh. Total GPU Power : 13.036388960654996 W\n",
      "[codecarbon DEBUG @ 12:28:18] GPU : 13.04 W during 15.00 s [measurement time: 0.0072]\n",
      "[codecarbon INFO @ 12:28:18] 0.069627 kWh of electricity used since the beginning.\n",
      "[codecarbon DEBUG @ 12:28:18] We apply an energy mix of 174 g.CO2eq/kWh for Spain\n",
      "[codecarbon DEBUG @ 12:28:18] EmissionsData(timestamp='2025-04-13T12:28:18', project_name='codecarbon', run_id='868e486c-ef2f-47f1-8b33-54ddf9c190fd', experiment_id='5b0fa12a-3dd7-45bb-9766-cc326314d9f1', duration=4440.2766424500005, emissions=0.012118658569511631, emissions_rate=2.7292575542826873e-06, cpu_power=42.5, gpu_power=13.036388960654996, ram_power=0.08809232711791992, cpu_energy=0.052400963312247174, gpu_energy=0.017118232583464, ram_energy=0.00010825925804701245, energy_consumed=0.06962745515375829, country_name='Spain', country_iso_code='ESP', region=None, cloud_provider='', cloud_region='', os='Linux-6.8.0-57-generic-x86_64-with-glibc2.35', python_version='3.12.9', codecarbon_version='2.8.3', cpu_count=32, cpu_model='13th Gen Intel(R) Core(TM) i9-13900', gpu_count=1, gpu_model='1 x NVIDIA RTX 5000 Ada Generation', longitude=None, latitude=None, ram_total_size=62.50331497192383, tracking_mode='process', on_cloud='N', pue=1.0)\n",
      "[codecarbon INFO @ 12:28:18] 0.002703 g.CO2eq/s mean an estimation of 85.25229922853075 kg.CO2eq/year\n",
      "[codecarbon DEBUG @ 12:28:18] last_duration=14.970776761999332\n",
      "------------------------\n"
     ]
    },
    {
     "name": "stdout",
     "output_type": "stream",
     "text": [
      "[233/1000] ./test/pdf/754.pdf\n"
     ]
    },
    {
     "name": "stderr",
     "output_type": "stream",
     "text": [
      "[codecarbon INFO @ 12:28:33] Energy consumed for RAM : 0.000109 kWh. RAM Power : 0.08809232711791992 W\n",
      "[codecarbon DEBUG @ 12:28:33] RAM : 0.09 W during 14.97 s [measurement time: 0.0100]\n",
      "[codecarbon INFO @ 12:28:33] Energy consumed for all CPUs : 0.052578 kWh. Total CPU Power : 42.5 W\n",
      "[codecarbon DEBUG @ 12:28:33] CPU : 42.50 W during 14.99 s [measurement time: 0.0005]\n",
      "[codecarbon INFO @ 12:28:33] Energy consumed for all GPUs : 0.017177 kWh. Total GPU Power : 14.203238189366422 W\n",
      "[codecarbon DEBUG @ 12:28:33] GPU : 14.20 W during 14.99 s [measurement time: 0.0031]\n",
      "[codecarbon INFO @ 12:28:33] 0.069864 kWh of electricity used since the beginning.\n",
      "[codecarbon DEBUG @ 12:28:33] last_duration=14.967841453999426\n",
      "------------------------\n"
     ]
    },
    {
     "name": "stdout",
     "output_type": "stream",
     "text": [
      "[234/1000] ./test/pdf/755.pdf\n"
     ]
    },
    {
     "name": "stderr",
     "output_type": "stream",
     "text": [
      "[codecarbon INFO @ 12:28:48] Energy consumed for RAM : 0.000109 kWh. RAM Power : 0.08809232711791992 W\n",
      "[codecarbon DEBUG @ 12:28:48] RAM : 0.09 W during 14.98 s [measurement time: 0.0137]\n",
      "[codecarbon INFO @ 12:28:48] Energy consumed for all CPUs : 0.052755 kWh. Total CPU Power : 42.5 W\n",
      "[codecarbon DEBUG @ 12:28:48] CPU : 42.50 W during 15.00 s [measurement time: 0.0007]\n",
      "[codecarbon INFO @ 12:28:48] Energy consumed for all GPUs : 0.017231 kWh. Total GPU Power : 12.846840287719207 W\n",
      "[codecarbon DEBUG @ 12:28:48] GPU : 12.85 W during 15.00 s [measurement time: 0.0021]\n",
      "[codecarbon INFO @ 12:28:48] 0.070095 kWh of electricity used since the beginning.\n",
      "[codecarbon DEBUG @ 12:28:48] last_duration=14.975945462000709\n",
      "------------------------\n"
     ]
    },
    {
     "name": "stdout",
     "output_type": "stream",
     "text": [
      "[235/1000] ./test/pdf/756.pdf\n"
     ]
    },
    {
     "name": "stderr",
     "output_type": "stream",
     "text": [
      "[codecarbon INFO @ 12:29:03] Energy consumed for RAM : 0.000109 kWh. RAM Power : 0.08809232711791992 W\n",
      "[codecarbon DEBUG @ 12:29:03] RAM : 0.09 W during 14.97 s [measurement time: 0.0143]\n",
      "[codecarbon INFO @ 12:29:03] Energy consumed for all CPUs : 0.052932 kWh. Total CPU Power : 42.5 W\n",
      "[codecarbon DEBUG @ 12:29:03] CPU : 42.50 W during 15.00 s [measurement time: 0.0004]\n",
      "[codecarbon INFO @ 12:29:03] Energy consumed for all GPUs : 0.017289 kWh. Total GPU Power : 13.838759716705672 W\n",
      "[codecarbon DEBUG @ 12:29:03] GPU : 13.84 W during 15.00 s [measurement time: 0.0038]\n",
      "[codecarbon INFO @ 12:29:03] 0.070330 kWh of electricity used since the beginning.\n",
      "[codecarbon DEBUG @ 12:29:03] last_duration=14.973512818999552\n",
      "------------------------\n"
     ]
    },
    {
     "name": "stdout",
     "output_type": "stream",
     "text": [
      "[236/1000] ./test/pdf/757.pdf\n"
     ]
    },
    {
     "name": "stderr",
     "output_type": "stream",
     "text": [
      "[codecarbon INFO @ 12:29:18] Energy consumed for RAM : 0.000110 kWh. RAM Power : 0.08809232711791992 W\n",
      "[codecarbon DEBUG @ 12:29:18] RAM : 0.09 W during 14.97 s [measurement time: 0.0145]\n",
      "[codecarbon INFO @ 12:29:18] Energy consumed for all CPUs : 0.053109 kWh. Total CPU Power : 42.5 W\n",
      "[codecarbon DEBUG @ 12:29:18] CPU : 42.50 W during 14.99 s [measurement time: 0.0006]\n",
      "[codecarbon INFO @ 12:29:18] Energy consumed for all GPUs : 0.017346 kWh. Total GPU Power : 13.752047828613156 W\n",
      "[codecarbon DEBUG @ 12:29:18] GPU : 13.75 W during 15.00 s [measurement time: 0.0051]\n",
      "[codecarbon INFO @ 12:29:18] 0.070565 kWh of electricity used since the beginning.\n",
      "[codecarbon DEBUG @ 12:29:18] last_duration=14.970973355999377\n",
      "------------------------\n"
     ]
    },
    {
     "name": "stdout",
     "output_type": "stream",
     "text": [
      "[237/1000] ./test/pdf/758.pdf\n"
     ]
    },
    {
     "name": "stderr",
     "output_type": "stream",
     "text": [
      "[codecarbon INFO @ 12:29:33] Energy consumed for RAM : 0.000110 kWh. RAM Power : 0.08809232711791992 W\n",
      "[codecarbon DEBUG @ 12:29:33] RAM : 0.09 W during 14.97 s [measurement time: 0.0137]\n",
      "[codecarbon INFO @ 12:29:33] Energy consumed for all CPUs : 0.053286 kWh. Total CPU Power : 42.5 W\n",
      "[codecarbon DEBUG @ 12:29:33] CPU : 42.50 W during 15.00 s [measurement time: 0.0006]\n",
      "[codecarbon INFO @ 12:29:33] Energy consumed for all GPUs : 0.017400 kWh. Total GPU Power : 13.000280090720986 W\n",
      "[codecarbon DEBUG @ 12:29:33] GPU : 13.00 W during 15.00 s [measurement time: 0.0024]\n",
      "[codecarbon INFO @ 12:29:33] 0.070796 kWh of electricity used since the beginning.\n",
      "[codecarbon DEBUG @ 12:29:33] last_duration=14.970414813999923\n",
      "------------------------\n",
      "[codecarbon INFO @ 12:29:48] Energy consumed for RAM : 0.000110 kWh. RAM Power : 0.08809232711791992 W\n",
      "[codecarbon DEBUG @ 12:29:48] RAM : 0.09 W during 14.97 s [measurement time: 0.0083]\n",
      "[codecarbon INFO @ 12:29:48] Energy consumed for all CPUs : 0.053463 kWh. Total CPU Power : 42.5 W\n",
      "[codecarbon DEBUG @ 12:29:48] CPU : 42.50 W during 14.99 s [measurement time: 0.0005]\n",
      "[codecarbon INFO @ 12:29:48] Energy consumed for all GPUs : 0.017452 kWh. Total GPU Power : 12.445213443109486 W\n",
      "[codecarbon DEBUG @ 12:29:48] GPU : 12.45 W during 14.99 s [measurement time: 0.0026]\n",
      "[codecarbon INFO @ 12:29:48] 0.071025 kWh of electricity used since the beginning.\n",
      "[codecarbon DEBUG @ 12:29:48] last_duration=14.969046424000226\n",
      "------------------------\n"
     ]
    },
    {
     "name": "stdout",
     "output_type": "stream",
     "text": [
      "[238/1000] ./test/pdf/759.pdf\n"
     ]
    },
    {
     "name": "stderr",
     "output_type": "stream",
     "text": [
      "[codecarbon INFO @ 12:30:03] Energy consumed for RAM : 0.000111 kWh. RAM Power : 0.08809232711791992 W\n",
      "[codecarbon DEBUG @ 12:30:03] RAM : 0.09 W during 14.98 s [measurement time: 0.0126]\n",
      "[codecarbon INFO @ 12:30:03] Energy consumed for all CPUs : 0.053640 kWh. Total CPU Power : 42.5 W\n",
      "[codecarbon DEBUG @ 12:30:03] CPU : 42.50 W during 15.00 s [measurement time: 0.0007]\n",
      "[codecarbon INFO @ 12:30:03] Energy consumed for all GPUs : 0.017509 kWh. Total GPU Power : 13.829055974979045 W\n",
      "[codecarbon DEBUG @ 12:30:03] GPU : 13.83 W during 15.00 s [measurement time: 0.0051]\n",
      "[codecarbon INFO @ 12:30:03] 0.071260 kWh of electricity used since the beginning.\n",
      "[codecarbon DEBUG @ 12:30:03] last_duration=14.97743879600057\n",
      "------------------------\n"
     ]
    },
    {
     "name": "stdout",
     "output_type": "stream",
     "text": [
      "[239/1000] ./test/pdf/76.pdf\n"
     ]
    },
    {
     "name": "stderr",
     "output_type": "stream",
     "text": [
      "[codecarbon INFO @ 12:30:18] Energy consumed for RAM : 0.000111 kWh. RAM Power : 0.08809232711791992 W\n",
      "[codecarbon DEBUG @ 12:30:18] RAM : 0.09 W during 14.97 s [measurement time: 0.0145]\n",
      "[codecarbon INFO @ 12:30:18] Energy consumed for all CPUs : 0.053817 kWh. Total CPU Power : 42.5 W\n",
      "[codecarbon DEBUG @ 12:30:18] CPU : 42.50 W during 14.99 s [measurement time: 0.0007]\n",
      "[codecarbon INFO @ 12:30:18] Energy consumed for all GPUs : 0.017566 kWh. Total GPU Power : 13.466628771415158 W\n",
      "[codecarbon DEBUG @ 12:30:18] GPU : 13.47 W during 14.99 s [measurement time: 0.0036]\n",
      "[codecarbon INFO @ 12:30:18] 0.071494 kWh of electricity used since the beginning.\n",
      "[codecarbon DEBUG @ 12:30:18] We apply an energy mix of 174 g.CO2eq/kWh for Spain\n",
      "[codecarbon DEBUG @ 12:30:18] EmissionsData(timestamp='2025-04-13T12:30:18', project_name='codecarbon', run_id='868e486c-ef2f-47f1-8b33-54ddf9c190fd', experiment_id='5b0fa12a-3dd7-45bb-9766-cc326314d9f1', duration=4560.278674803, emissions=0.012443502226713992, emissions_rate=2.72867145059979e-06, cpu_power=42.5, gpu_power=13.466628771415158, ram_power=0.08809232711791992, cpu_energy=0.05381711836907289, gpu_energy=0.0175655279413, ram_energy=0.00011119009706162752, energy_consumed=0.07149383640743459, country_name='Spain', country_iso_code='ESP', region=None, cloud_provider='', cloud_region='', os='Linux-6.8.0-57-generic-x86_64-with-glibc2.35', python_version='3.12.9', codecarbon_version='2.8.3', cpu_count=32, cpu_model='13th Gen Intel(R) Core(TM) i9-13900', gpu_count=1, gpu_model='1 x NVIDIA RTX 5000 Ada Generation', longitude=None, latitude=None, ram_total_size=62.50331497192383, tracking_mode='process', on_cloud='N', pue=1.0)\n",
      "[codecarbon INFO @ 12:30:18] 0.002707 g.CO2eq/s mean an estimation of 85.3674673058781 kg.CO2eq/year\n",
      "[codecarbon DEBUG @ 12:30:18] last_duration=14.967042765999395\n",
      "------------------------\n"
     ]
    },
    {
     "name": "stdout",
     "output_type": "stream",
     "text": [
      "[240/1000] ./test/pdf/760.pdf\n"
     ]
    },
    {
     "name": "stderr",
     "output_type": "stream",
     "text": [
      "[codecarbon INFO @ 12:30:33] Energy consumed for RAM : 0.000112 kWh. RAM Power : 0.08809232711791992 W\n",
      "[codecarbon DEBUG @ 12:30:33] RAM : 0.09 W during 14.97 s [measurement time: 0.0119]\n",
      "[codecarbon INFO @ 12:30:33] Energy consumed for all CPUs : 0.053994 kWh. Total CPU Power : 42.5 W\n",
      "[codecarbon DEBUG @ 12:30:33] CPU : 42.50 W during 15.00 s [measurement time: 0.0009]\n",
      "[codecarbon INFO @ 12:30:33] Energy consumed for all GPUs : 0.017622 kWh. Total GPU Power : 13.63702781455007 W\n",
      "[codecarbon DEBUG @ 12:30:33] GPU : 13.64 W during 15.00 s [measurement time: 0.0056]\n",
      "[codecarbon INFO @ 12:30:33] 0.071728 kWh of electricity used since the beginning.\n",
      "[codecarbon DEBUG @ 12:30:33] last_duration=14.97238222299984\n",
      "------------------------\n"
     ]
    },
    {
     "name": "stdout",
     "output_type": "stream",
     "text": [
      "[241/1000] ./test/pdf/761.pdf\n"
     ]
    },
    {
     "name": "stderr",
     "output_type": "stream",
     "text": [
      "[codecarbon INFO @ 12:30:48] Energy consumed for RAM : 0.000112 kWh. RAM Power : 0.08809232711791992 W\n",
      "[codecarbon DEBUG @ 12:30:48] RAM : 0.09 W during 14.97 s [measurement time: 0.0114]\n",
      "[codecarbon INFO @ 12:30:48] Energy consumed for all CPUs : 0.054171 kWh. Total CPU Power : 42.5 W\n",
      "[codecarbon DEBUG @ 12:30:48] CPU : 42.50 W during 14.98 s [measurement time: 0.0004]\n",
      "[codecarbon INFO @ 12:30:48] Energy consumed for all GPUs : 0.017675 kWh. Total GPU Power : 12.73161411372105 W\n",
      "[codecarbon DEBUG @ 12:30:48] GPU : 12.73 W during 14.98 s [measurement time: 0.0021]\n",
      "[codecarbon INFO @ 12:30:48] 0.071958 kWh of electricity used since the beginning.\n",
      "[codecarbon DEBUG @ 12:30:48] last_duration=14.965795864000029\n",
      "------------------------\n",
      "[codecarbon INFO @ 12:31:03] Energy consumed for RAM : 0.000112 kWh. RAM Power : 0.08809232711791992 W\n",
      "[codecarbon DEBUG @ 12:31:03] RAM : 0.09 W during 14.98 s [measurement time: 0.0103]\n",
      "[codecarbon INFO @ 12:31:03] Energy consumed for all CPUs : 0.054348 kWh. Total CPU Power : 42.5 W\n",
      "[codecarbon DEBUG @ 12:31:03] CPU : 42.50 W during 14.99 s [measurement time: 0.0004]\n",
      "[codecarbon INFO @ 12:31:03] Energy consumed for all GPUs : 0.017734 kWh. Total GPU Power : 14.01652106988184 W\n",
      "[codecarbon DEBUG @ 12:31:03] GPU : 14.02 W during 14.99 s [measurement time: 0.0025]\n",
      "[codecarbon INFO @ 12:31:03] 0.072194 kWh of electricity used since the beginning.\n",
      "[codecarbon DEBUG @ 12:31:03] last_duration=14.978976269000668\n",
      "------------------------\n"
     ]
    },
    {
     "name": "stdout",
     "output_type": "stream",
     "text": [
      "[242/1000] ./test/pdf/762.pdf\n"
     ]
    },
    {
     "name": "stderr",
     "output_type": "stream",
     "text": [
      "[codecarbon INFO @ 12:31:18] Energy consumed for RAM : 0.000113 kWh. RAM Power : 0.08809232711791992 W\n",
      "[codecarbon DEBUG @ 12:31:18] RAM : 0.09 W during 14.98 s [measurement time: 0.0132]\n",
      "[codecarbon INFO @ 12:31:18] Energy consumed for all CPUs : 0.054525 kWh. Total CPU Power : 42.5 W\n",
      "[codecarbon DEBUG @ 12:31:18] CPU : 42.50 W during 15.00 s [measurement time: 0.0005]\n",
      "[codecarbon INFO @ 12:31:18] Energy consumed for all GPUs : 0.017792 kWh. Total GPU Power : 13.885414361071277 W\n",
      "[codecarbon DEBUG @ 12:31:18] GPU : 13.89 W during 15.00 s [measurement time: 0.0020]\n",
      "[codecarbon INFO @ 12:31:18] 0.072429 kWh of electricity used since the beginning.\n",
      "[codecarbon DEBUG @ 12:31:18] last_duration=14.981445983999947\n",
      "------------------------\n"
     ]
    },
    {
     "name": "stdout",
     "output_type": "stream",
     "text": [
      "[243/1000] ./test/pdf/763.pdf\n"
     ]
    },
    {
     "name": "stderr",
     "output_type": "stream",
     "text": [
      "[codecarbon INFO @ 12:31:33] Energy consumed for RAM : 0.000113 kWh. RAM Power : 0.08809232711791992 W\n",
      "[codecarbon DEBUG @ 12:31:33] RAM : 0.09 W during 14.98 s [measurement time: 0.0145]\n",
      "[codecarbon INFO @ 12:31:33] Energy consumed for all CPUs : 0.054702 kWh. Total CPU Power : 42.5 W\n",
      "[codecarbon DEBUG @ 12:31:33] CPU : 42.50 W during 15.01 s [measurement time: 0.0004]\n",
      "[codecarbon INFO @ 12:31:33] Energy consumed for all GPUs : 0.017848 kWh. Total GPU Power : 13.48102644628525 W\n",
      "[codecarbon DEBUG @ 12:31:33] GPU : 13.48 W during 15.01 s [measurement time: 0.0025]\n",
      "[codecarbon INFO @ 12:31:33] 0.072663 kWh of electricity used since the beginning.\n",
      "[codecarbon DEBUG @ 12:31:33] last_duration=14.97814653399928\n",
      "------------------------\n"
     ]
    },
    {
     "name": "stdout",
     "output_type": "stream",
     "text": [
      "[244/1000] ./test/pdf/764.pdf\n"
     ]
    },
    {
     "name": "stderr",
     "output_type": "stream",
     "text": [
      "[codecarbon INFO @ 12:31:48] Energy consumed for RAM : 0.000113 kWh. RAM Power : 0.08809232711791992 W\n",
      "[codecarbon DEBUG @ 12:31:48] RAM : 0.09 W during 14.97 s [measurement time: 0.0129]\n",
      "[codecarbon INFO @ 12:31:48] Energy consumed for all CPUs : 0.054879 kWh. Total CPU Power : 42.5 W\n",
      "[codecarbon DEBUG @ 12:31:48] CPU : 42.50 W during 14.99 s [measurement time: 0.0005]\n",
      "[codecarbon INFO @ 12:31:48] Energy consumed for all GPUs : 0.017902 kWh. Total GPU Power : 12.91027518725252 W\n",
      "[codecarbon DEBUG @ 12:31:48] GPU : 12.91 W during 14.99 s [measurement time: 0.0034]\n",
      "[codecarbon INFO @ 12:31:48] 0.072894 kWh of electricity used since the beginning.\n",
      "[codecarbon DEBUG @ 12:31:48] last_duration=14.969173624999712\n",
      "------------------------\n"
     ]
    },
    {
     "name": "stdout",
     "output_type": "stream",
     "text": [
      "[245/1000] ./test/pdf/765.pdf\n"
     ]
    },
    {
     "name": "stderr",
     "output_type": "stream",
     "text": [
      "[codecarbon INFO @ 12:32:03] Energy consumed for RAM : 0.000114 kWh. RAM Power : 0.08809232711791992 W\n",
      "[codecarbon DEBUG @ 12:32:03] RAM : 0.09 W during 14.97 s [measurement time: 0.0090]\n",
      "[codecarbon INFO @ 12:32:03] Energy consumed for all CPUs : 0.055056 kWh. Total CPU Power : 42.5 W\n",
      "[codecarbon DEBUG @ 12:32:03] CPU : 42.50 W during 14.99 s [measurement time: 0.0004]\n",
      "[codecarbon INFO @ 12:32:03] Energy consumed for all GPUs : 0.017959 kWh. Total GPU Power : 13.893923761378552 W\n",
      "[codecarbon DEBUG @ 12:32:03] GPU : 13.89 W during 14.99 s [measurement time: 0.0030]\n",
      "[codecarbon INFO @ 12:32:03] 0.073129 kWh of electricity used since the beginning.\n",
      "[codecarbon DEBUG @ 12:32:03] last_duration=14.972913251000136\n",
      "------------------------\n",
      "[codecarbon INFO @ 12:32:18] Energy consumed for RAM : 0.000114 kWh. RAM Power : 0.08809232711791992 W\n",
      "[codecarbon DEBUG @ 12:32:18] RAM : 0.09 W during 14.98 s [measurement time: 0.0140]\n",
      "[codecarbon INFO @ 12:32:18] Energy consumed for all CPUs : 0.055233 kWh. Total CPU Power : 42.5 W\n",
      "[codecarbon DEBUG @ 12:32:18] CPU : 42.50 W during 15.00 s [measurement time: 0.0005]\n",
      "[codecarbon INFO @ 12:32:18] Energy consumed for all GPUs : 0.018018 kWh. Total GPU Power : 14.13911753113822 W\n",
      "[codecarbon DEBUG @ 12:32:18] GPU : 14.14 W during 15.00 s [measurement time: 0.0033]\n",
      "[codecarbon INFO @ 12:32:18] 0.073366 kWh of electricity used since the beginning.\n",
      "[codecarbon DEBUG @ 12:32:18] We apply an energy mix of 174 g.CO2eq/kWh for Spain\n",
      "[codecarbon DEBUG @ 12:32:18] EmissionsData(timestamp='2025-04-13T12:32:18', project_name='codecarbon', run_id='868e486c-ef2f-47f1-8b33-54ddf9c190fd', experiment_id='5b0fa12a-3dd7-45bb-9766-cc326314d9f1', duration=4680.283623676, emissions=0.012769315068113267, emissions_rate=2.7283207802872337e-06, cpu_power=42.5, gpu_power=14.13911753113822, ram_power=0.08809232711791992, cpu_energy=0.05523334700283122, gpu_energy=0.018018317470198, ram_energy=0.00011412161207994996, energy_consumed=0.07336578608510926, country_name='Spain', country_iso_code='ESP', region=None, cloud_provider='', cloud_region='', os='Linux-6.8.0-57-generic-x86_64-with-glibc2.35', python_version='3.12.9', codecarbon_version='2.8.3', cpu_count=32, cpu_model='13th Gen Intel(R) Core(TM) i9-13900', gpu_count=1, gpu_model='1 x NVIDIA RTX 5000 Ada Generation', longitude=None, latitude=None, ram_total_size=62.50331497192383, tracking_mode='process', on_cloud='N', pue=1.0)\n",
      "[codecarbon INFO @ 12:32:18] 0.002715 g.CO2eq/s mean an estimation of 85.62008369539221 kg.CO2eq/year\n",
      "[codecarbon DEBUG @ 12:32:18] last_duration=14.981007569000212\n",
      "------------------------\n"
     ]
    },
    {
     "name": "stdout",
     "output_type": "stream",
     "text": [
      "[246/1000] ./test/pdf/766.pdf\n"
     ]
    },
    {
     "name": "stderr",
     "output_type": "stream",
     "text": [
      "[codecarbon INFO @ 12:32:33] Energy consumed for RAM : 0.000114 kWh. RAM Power : 0.08809232711791992 W\n",
      "[codecarbon DEBUG @ 12:32:33] RAM : 0.09 W during 14.97 s [measurement time: 0.0113]\n",
      "[codecarbon INFO @ 12:32:33] Energy consumed for all CPUs : 0.055410 kWh. Total CPU Power : 42.5 W\n",
      "[codecarbon DEBUG @ 12:32:33] CPU : 42.50 W during 15.00 s [measurement time: 0.0007]\n",
      "[codecarbon INFO @ 12:32:33] Energy consumed for all GPUs : 0.018076 kWh. Total GPU Power : 13.813004143560073 W\n",
      "[codecarbon DEBUG @ 12:32:33] GPU : 13.81 W during 15.00 s [measurement time: 0.0029]\n",
      "[codecarbon INFO @ 12:32:33] 0.073601 kWh of electricity used since the beginning.\n",
      "[codecarbon DEBUG @ 12:32:33] last_duration=14.974525478999567\n",
      "------------------------\n"
     ]
    },
    {
     "name": "stdout",
     "output_type": "stream",
     "text": [
      "[247/1000] ./test/pdf/767.pdf\n"
     ]
    },
    {
     "name": "stderr",
     "output_type": "stream",
     "text": [
      "[codecarbon INFO @ 12:32:48] Energy consumed for RAM : 0.000115 kWh. RAM Power : 0.08809232711791992 W\n",
      "[codecarbon DEBUG @ 12:32:48] RAM : 0.09 W during 14.97 s [measurement time: 0.0135]\n",
      "[codecarbon INFO @ 12:32:48] Energy consumed for all CPUs : 0.055587 kWh. Total CPU Power : 42.5 W\n",
      "[codecarbon DEBUG @ 12:32:48] CPU : 42.50 W during 15.00 s [measurement time: 0.0012]\n",
      "[codecarbon INFO @ 12:32:48] Energy consumed for all GPUs : 0.018129 kWh. Total GPU Power : 12.798215052468704 W\n",
      "[codecarbon DEBUG @ 12:32:48] GPU : 12.80 W during 15.00 s [measurement time: 0.0028]\n",
      "[codecarbon INFO @ 12:32:48] 0.073832 kWh of electricity used since the beginning.\n",
      "[codecarbon DEBUG @ 12:32:48] last_duration=14.971095292000427\n",
      "------------------------\n"
     ]
    },
    {
     "name": "stdout",
     "output_type": "stream",
     "text": [
      "[248/1000] ./test/pdf/768.pdf\n"
     ]
    },
    {
     "name": "stderr",
     "output_type": "stream",
     "text": [
      "[codecarbon INFO @ 12:33:03] Energy consumed for RAM : 0.000115 kWh. RAM Power : 0.08809232711791992 W\n",
      "[codecarbon DEBUG @ 12:33:03] RAM : 0.09 W during 14.97 s [measurement time: 0.0116]\n",
      "[codecarbon INFO @ 12:33:03] Energy consumed for all CPUs : 0.055764 kWh. Total CPU Power : 42.5 W\n",
      "[codecarbon DEBUG @ 12:33:03] CPU : 42.50 W during 14.99 s [measurement time: 0.0009]\n",
      "[codecarbon INFO @ 12:33:03] Energy consumed for all GPUs : 0.018186 kWh. Total GPU Power : 13.658182508474372 W\n",
      "[codecarbon DEBUG @ 12:33:03] GPU : 13.66 W during 14.99 s [measurement time: 0.0030]\n",
      "[codecarbon INFO @ 12:33:03] 0.074066 kWh of electricity used since the beginning.\n",
      "[codecarbon DEBUG @ 12:33:03] last_duration=14.966103892999854\n",
      "------------------------\n"
     ]
    },
    {
     "name": "stdout",
     "output_type": "stream",
     "text": [
      "[249/1000] ./test/pdf/769.pdf\n"
     ]
    },
    {
     "name": "stderr",
     "output_type": "stream",
     "text": [
      "[codecarbon INFO @ 12:33:18] Energy consumed for RAM : 0.000116 kWh. RAM Power : 0.08809232711791992 W\n",
      "[codecarbon DEBUG @ 12:33:18] RAM : 0.09 W during 14.97 s [measurement time: 0.0138]\n",
      "[codecarbon INFO @ 12:33:18] Energy consumed for all CPUs : 0.055941 kWh. Total CPU Power : 42.5 W\n",
      "[codecarbon DEBUG @ 12:33:18] CPU : 42.50 W during 14.99 s [measurement time: 0.0009]\n",
      "[codecarbon INFO @ 12:33:18] Energy consumed for all GPUs : 0.018242 kWh. Total GPU Power : 13.312104037645804 W\n",
      "[codecarbon DEBUG @ 12:33:18] GPU : 13.31 W during 14.99 s [measurement time: 0.0060]\n",
      "[codecarbon INFO @ 12:33:18] 0.074299 kWh of electricity used since the beginning.\n",
      "[codecarbon DEBUG @ 12:33:18] last_duration=14.97077439199984\n",
      "------------------------\n",
      "[codecarbon INFO @ 12:33:33] Energy consumed for RAM : 0.000116 kWh. RAM Power : 0.08809232711791992 W\n",
      "[codecarbon DEBUG @ 12:33:33] RAM : 0.09 W during 14.97 s [measurement time: 0.0113]\n",
      "[codecarbon INFO @ 12:33:33] Energy consumed for all CPUs : 0.056118 kWh. Total CPU Power : 42.5 W\n",
      "[codecarbon DEBUG @ 12:33:33] CPU : 42.50 W during 14.99 s [measurement time: 0.0003]\n",
      "[codecarbon INFO @ 12:33:33] Energy consumed for all GPUs : 0.018291 kWh. Total GPU Power : 11.914783601621993 W\n",
      "[codecarbon DEBUG @ 12:33:33] GPU : 11.91 W during 14.99 s [measurement time: 0.0058]\n",
      "[codecarbon INFO @ 12:33:33] 0.074526 kWh of electricity used since the beginning.\n",
      "[codecarbon DEBUG @ 12:33:33] last_duration=14.969986406999851\n",
      "------------------------\n"
     ]
    },
    {
     "name": "stdout",
     "output_type": "stream",
     "text": [
      "[250/1000] ./test/pdf/77.pdf\n"
     ]
    },
    {
     "name": "stderr",
     "output_type": "stream",
     "text": [
      "[codecarbon INFO @ 12:33:48] Energy consumed for RAM : 0.000116 kWh. RAM Power : 0.08809232711791992 W\n",
      "[codecarbon DEBUG @ 12:33:48] RAM : 0.09 W during 14.97 s [measurement time: 0.0139]\n",
      "[codecarbon INFO @ 12:33:48] Energy consumed for all CPUs : 0.056295 kWh. Total CPU Power : 42.5 W\n",
      "[codecarbon DEBUG @ 12:33:48] CPU : 42.50 W during 14.99 s [measurement time: 0.0004]\n",
      "[codecarbon INFO @ 12:33:48] Energy consumed for all GPUs : 0.018344 kWh. Total GPU Power : 12.758285826308366 W\n",
      "[codecarbon DEBUG @ 12:33:48] GPU : 12.76 W during 14.99 s [measurement time: 0.0063]\n",
      "[codecarbon INFO @ 12:33:48] 0.074756 kWh of electricity used since the beginning.\n",
      "[codecarbon DEBUG @ 12:33:48] last_duration=14.972334442999454\n",
      "------------------------\n"
     ]
    },
    {
     "name": "stdout",
     "output_type": "stream",
     "text": [
      "[251/1000] ./test/pdf/770.pdf\n"
     ]
    },
    {
     "name": "stderr",
     "output_type": "stream",
     "text": [
      "[codecarbon INFO @ 12:34:03] Energy consumed for RAM : 0.000117 kWh. RAM Power : 0.08809232711791992 W\n",
      "[codecarbon DEBUG @ 12:34:03] RAM : 0.09 W during 14.97 s [measurement time: 0.0139]\n",
      "[codecarbon INFO @ 12:34:03] Energy consumed for all CPUs : 0.056472 kWh. Total CPU Power : 42.5 W\n",
      "[codecarbon DEBUG @ 12:34:03] CPU : 42.50 W during 14.99 s [measurement time: 0.0003]\n",
      "[codecarbon INFO @ 12:34:03] Energy consumed for all GPUs : 0.018396 kWh. Total GPU Power : 12.443839070142952 W\n",
      "[codecarbon DEBUG @ 12:34:03] GPU : 12.44 W during 14.99 s [measurement time: 0.0024]\n",
      "[codecarbon INFO @ 12:34:03] 0.074985 kWh of electricity used since the beginning.\n",
      "[codecarbon DEBUG @ 12:34:03] last_duration=14.97268619299939\n",
      "------------------------\n"
     ]
    },
    {
     "name": "stdout",
     "output_type": "stream",
     "text": [
      "[252/1000] ./test/pdf/771.pdf\n"
     ]
    },
    {
     "name": "stderr",
     "output_type": "stream",
     "text": [
      "[codecarbon INFO @ 12:34:18] Energy consumed for RAM : 0.000117 kWh. RAM Power : 0.08809232711791992 W\n",
      "[codecarbon DEBUG @ 12:34:18] RAM : 0.09 W during 14.98 s [measurement time: 0.0147]\n",
      "[codecarbon INFO @ 12:34:18] Energy consumed for all CPUs : 0.056650 kWh. Total CPU Power : 42.5 W\n",
      "[codecarbon DEBUG @ 12:34:18] CPU : 42.50 W during 15.00 s [measurement time: 0.0003]\n",
      "[codecarbon INFO @ 12:34:18] Energy consumed for all GPUs : 0.018455 kWh. Total GPU Power : 14.10147274718927 W\n",
      "[codecarbon DEBUG @ 12:34:18] GPU : 14.10 W during 15.00 s [measurement time: 0.0024]\n",
      "[codecarbon INFO @ 12:34:18] 0.075221 kWh of electricity used since the beginning.\n",
      "[codecarbon DEBUG @ 12:34:18] We apply an energy mix of 174 g.CO2eq/kWh for Spain\n",
      "[codecarbon DEBUG @ 12:34:18] EmissionsData(timestamp='2025-04-13T12:34:18', project_name='codecarbon', run_id='868e486c-ef2f-47f1-8b33-54ddf9c190fd', experiment_id='5b0fa12a-3dd7-45bb-9766-cc326314d9f1', duration=4800.293531441001, emissions=0.01309230044969678, emissions_rate=2.7273958069323734e-06, cpu_power=42.5, gpu_power=14.10147274718927, ram_power=0.08809232711791992, cpu_energy=0.0566495581128243, gpu_energy=0.018454880041669997, ram_energy=0.00011705250736588816, energy_consumed=0.07522149066186026, country_name='Spain', country_iso_code='ESP', region=None, cloud_provider='', cloud_region='', os='Linux-6.8.0-57-generic-x86_64-with-glibc2.35', python_version='3.12.9', codecarbon_version='2.8.3', cpu_count=32, cpu_model='13th Gen Intel(R) Core(TM) i9-13900', gpu_count=1, gpu_model='1 x NVIDIA RTX 5000 Ada Generation', longitude=None, latitude=None, ram_total_size=62.50331497192383, tracking_mode='process', on_cloud='N', pue=1.0)\n",
      "[codecarbon INFO @ 12:34:18] 0.002691 g.CO2eq/s mean an estimation of 84.87355072018654 kg.CO2eq/year\n",
      "[codecarbon DEBUG @ 12:34:18] last_duration=14.977006928000264\n",
      "------------------------\n"
     ]
    },
    {
     "name": "stdout",
     "output_type": "stream",
     "text": [
      "[253/1000] ./test/pdf/772.pdf\n"
     ]
    },
    {
     "name": "stderr",
     "output_type": "stream",
     "text": [
      "[codecarbon INFO @ 12:34:33] Energy consumed for RAM : 0.000117 kWh. RAM Power : 0.08809232711791992 W\n",
      "[codecarbon DEBUG @ 12:34:33] RAM : 0.09 W during 14.97 s [measurement time: 0.0150]\n",
      "[codecarbon INFO @ 12:34:33] Energy consumed for all CPUs : 0.056827 kWh. Total CPU Power : 42.5 W\n",
      "[codecarbon DEBUG @ 12:34:33] CPU : 42.50 W during 15.00 s [measurement time: 0.0004]\n",
      "[codecarbon INFO @ 12:34:33] Energy consumed for all GPUs : 0.018512 kWh. Total GPU Power : 13.744493591162415 W\n",
      "[codecarbon DEBUG @ 12:34:33] GPU : 13.74 W during 15.00 s [measurement time: 0.0027]\n",
      "[codecarbon INFO @ 12:34:33] 0.075456 kWh of electricity used since the beginning.\n",
      "[codecarbon DEBUG @ 12:34:33] last_duration=14.971817307999117\n",
      "------------------------\n"
     ]
    },
    {
     "name": "stdout",
     "output_type": "stream",
     "text": [
      "[254/1000] ./test/pdf/773.pdf\n"
     ]
    },
    {
     "name": "stderr",
     "output_type": "stream",
     "text": [
      "[codecarbon INFO @ 12:34:48] Energy consumed for RAM : 0.000118 kWh. RAM Power : 0.08809232711791992 W\n",
      "[codecarbon DEBUG @ 12:34:48] RAM : 0.09 W during 14.97 s [measurement time: 0.0103]\n",
      "[codecarbon INFO @ 12:34:48] Energy consumed for all CPUs : 0.057004 kWh. Total CPU Power : 42.5 W\n",
      "[codecarbon DEBUG @ 12:34:48] CPU : 42.50 W during 14.99 s [measurement time: 0.0006]\n",
      "[codecarbon INFO @ 12:34:48] Energy consumed for all GPUs : 0.018568 kWh. Total GPU Power : 13.315498830864046 W\n",
      "[codecarbon DEBUG @ 12:34:48] GPU : 13.32 W during 14.99 s [measurement time: 0.0059]\n",
      "[codecarbon INFO @ 12:34:48] 0.075689 kWh of electricity used since the beginning.\n",
      "[codecarbon DEBUG @ 12:34:48] last_duration=14.971443157000067\n",
      "------------------------\n",
      "[codecarbon INFO @ 12:35:03] Energy consumed for RAM : 0.000118 kWh. RAM Power : 0.08809232711791992 W\n",
      "[codecarbon DEBUG @ 12:35:03] RAM : 0.09 W during 14.98 s [measurement time: 0.0121]\n",
      "[codecarbon INFO @ 12:35:03] Energy consumed for all CPUs : 0.057181 kWh. Total CPU Power : 42.5 W\n",
      "[codecarbon DEBUG @ 12:35:03] CPU : 42.50 W during 15.00 s [measurement time: 0.0004]\n",
      "[codecarbon INFO @ 12:35:03] Energy consumed for all GPUs : 0.018625 kWh. Total GPU Power : 13.663469637081832 W\n",
      "[codecarbon DEBUG @ 12:35:03] GPU : 13.66 W during 15.00 s [measurement time: 0.0053]\n",
      "[codecarbon INFO @ 12:35:03] 0.075923 kWh of electricity used since the beginning.\n",
      "[codecarbon DEBUG @ 12:35:03] last_duration=14.975821179999912\n",
      "------------------------\n"
     ]
    },
    {
     "name": "stdout",
     "output_type": "stream",
     "text": [
      "[255/1000] ./test/pdf/774.pdf\n"
     ]
    },
    {
     "name": "stderr",
     "output_type": "stream",
     "text": [
      "[codecarbon INFO @ 12:35:18] Energy consumed for RAM : 0.000119 kWh. RAM Power : 0.08809232711791992 W\n",
      "[codecarbon DEBUG @ 12:35:18] RAM : 0.09 W during 14.97 s [measurement time: 0.0161]\n",
      "[codecarbon INFO @ 12:35:18] Energy consumed for all CPUs : 0.057358 kWh. Total CPU Power : 42.5 W\n",
      "[codecarbon DEBUG @ 12:35:18] CPU : 42.50 W during 15.00 s [measurement time: 0.0003]\n",
      "[codecarbon INFO @ 12:35:18] Energy consumed for all GPUs : 0.018680 kWh. Total GPU Power : 13.234824980162871 W\n",
      "[codecarbon DEBUG @ 12:35:18] GPU : 13.23 W during 15.00 s [measurement time: 0.0067]\n",
      "[codecarbon INFO @ 12:35:18] 0.076156 kWh of electricity used since the beginning.\n",
      "[codecarbon DEBUG @ 12:35:18] last_duration=14.970265459000075\n",
      "------------------------\n"
     ]
    },
    {
     "name": "stdout",
     "output_type": "stream",
     "text": [
      "[256/1000] ./test/pdf/775.pdf\n"
     ]
    },
    {
     "name": "stderr",
     "output_type": "stream",
     "text": [
      "[codecarbon INFO @ 12:35:33] Energy consumed for RAM : 0.000119 kWh. RAM Power : 0.08809232711791992 W\n",
      "[codecarbon DEBUG @ 12:35:33] RAM : 0.09 W during 14.97 s [measurement time: 0.0096]\n",
      "[codecarbon INFO @ 12:35:33] Energy consumed for all CPUs : 0.057535 kWh. Total CPU Power : 42.5 W\n",
      "[codecarbon DEBUG @ 12:35:33] CPU : 42.50 W during 14.99 s [measurement time: 0.0005]\n",
      "[codecarbon INFO @ 12:35:33] Energy consumed for all GPUs : 0.018738 kWh. Total GPU Power : 14.052039562499125 W\n",
      "[codecarbon DEBUG @ 12:35:33] GPU : 14.05 W during 14.99 s [measurement time: 0.0034]\n",
      "[codecarbon INFO @ 12:35:33] 0.076392 kWh of electricity used since the beginning.\n",
      "[codecarbon DEBUG @ 12:35:33] last_duration=14.966993555000045\n",
      "------------------------\n"
     ]
    },
    {
     "name": "stdout",
     "output_type": "stream",
     "text": [
      "[257/1000] ./test/pdf/776.pdf\n"
     ]
    },
    {
     "name": "stderr",
     "output_type": "stream",
     "text": [
      "[codecarbon INFO @ 12:35:48] Energy consumed for RAM : 0.000119 kWh. RAM Power : 0.08809232711791992 W\n",
      "[codecarbon DEBUG @ 12:35:48] RAM : 0.09 W during 14.98 s [measurement time: 0.0147]\n",
      "[codecarbon INFO @ 12:35:48] Energy consumed for all CPUs : 0.057712 kWh. Total CPU Power : 42.5 W\n",
      "[codecarbon DEBUG @ 12:35:48] CPU : 42.50 W during 15.00 s [measurement time: 0.0005]\n",
      "[codecarbon INFO @ 12:35:48] Energy consumed for all GPUs : 0.018789 kWh. Total GPU Power : 12.285268193955686 W\n",
      "[codecarbon DEBUG @ 12:35:48] GPU : 12.29 W during 15.00 s [measurement time: 0.0021]\n",
      "[codecarbon INFO @ 12:35:48] 0.076620 kWh of electricity used since the beginning.\n",
      "[codecarbon DEBUG @ 12:35:48] last_duration=14.975605910999548\n",
      "------------------------\n",
      "[codecarbon INFO @ 12:36:03] Energy consumed for RAM : 0.000120 kWh. RAM Power : 0.08809232711791992 W\n",
      "[codecarbon DEBUG @ 12:36:03] RAM : 0.09 W during 14.97 s [measurement time: 0.0114]\n",
      "[codecarbon INFO @ 12:36:03] Energy consumed for all CPUs : 0.057889 kWh. Total CPU Power : 42.5 W\n",
      "[codecarbon DEBUG @ 12:36:03] CPU : 42.50 W during 14.99 s [measurement time: 0.0005]\n",
      "[codecarbon INFO @ 12:36:03] Energy consumed for all GPUs : 0.018848 kWh. Total GPU Power : 14.133346830047785 W\n",
      "[codecarbon DEBUG @ 12:36:03] GPU : 14.13 W during 14.99 s [measurement time: 0.0020]\n",
      "[codecarbon INFO @ 12:36:03] 0.076856 kWh of electricity used since the beginning.\n",
      "[codecarbon DEBUG @ 12:36:03] last_duration=14.97415298299984\n",
      "------------------------\n"
     ]
    },
    {
     "name": "stdout",
     "output_type": "stream",
     "text": [
      "[258/1000] ./test/pdf/777.pdf\n"
     ]
    },
    {
     "name": "stderr",
     "output_type": "stream",
     "text": [
      "[codecarbon INFO @ 12:36:18] Energy consumed for RAM : 0.000120 kWh. RAM Power : 0.08809232711791992 W\n",
      "[codecarbon DEBUG @ 12:36:18] RAM : 0.09 W during 14.98 s [measurement time: 0.0109]\n",
      "[codecarbon INFO @ 12:36:18] Energy consumed for all CPUs : 0.058066 kWh. Total CPU Power : 42.5 W\n",
      "[codecarbon DEBUG @ 12:36:18] CPU : 42.50 W during 15.00 s [measurement time: 0.0003]\n",
      "[codecarbon INFO @ 12:36:18] Energy consumed for all GPUs : 0.018902 kWh. Total GPU Power : 12.992262997018466 W\n",
      "[codecarbon DEBUG @ 12:36:18] GPU : 12.99 W during 15.00 s [measurement time: 0.0037]\n",
      "[codecarbon INFO @ 12:36:18] 0.077088 kWh of electricity used since the beginning.\n",
      "[codecarbon DEBUG @ 12:36:18] We apply an energy mix of 174 g.CO2eq/kWh for Spain\n",
      "[codecarbon DEBUG @ 12:36:18] EmissionsData(timestamp='2025-04-13T12:36:18', project_name='codecarbon', run_id='868e486c-ef2f-47f1-8b33-54ddf9c190fd', experiment_id='5b0fa12a-3dd7-45bb-9766-cc326314d9f1', duration=4920.297653728, emissions=0.0134171679107162, emissions_rate=2.726901674444494e-06, cpu_power=42.5, gpu_power=12.992262997018466, ram_power=0.08809232711791992, cpu_energy=0.05806570100253746, gpu_energy=0.018902324010736, ram_energy=0.00011998366650926795, energy_consumed=0.07708800867978281, country_name='Spain', country_iso_code='ESP', region=None, cloud_provider='', cloud_region='', os='Linux-6.8.0-57-generic-x86_64-with-glibc2.35', python_version='3.12.9', codecarbon_version='2.8.3', cpu_count=32, cpu_model='13th Gen Intel(R) Core(TM) i9-13900', gpu_count=1, gpu_model='1 x NVIDIA RTX 5000 Ada Generation', longitude=None, latitude=None, ram_total_size=62.50331497192383, tracking_mode='process', on_cloud='N', pue=1.0)\n",
      "[codecarbon INFO @ 12:36:18] 0.002707 g.CO2eq/s mean an estimation of 85.37223601541488 kg.CO2eq/year\n",
      "[codecarbon DEBUG @ 12:36:18] last_duration=14.979189919999953\n",
      "------------------------\n"
     ]
    },
    {
     "name": "stdout",
     "output_type": "stream",
     "text": [
      "[259/1000] ./test/pdf/778.pdf\n"
     ]
    },
    {
     "name": "stderr",
     "output_type": "stream",
     "text": [
      "[codecarbon INFO @ 12:36:33] Energy consumed for RAM : 0.000120 kWh. RAM Power : 0.08809232711791992 W\n",
      "[codecarbon DEBUG @ 12:36:33] RAM : 0.09 W during 14.97 s [measurement time: 0.0112]\n",
      "[codecarbon INFO @ 12:36:33] Energy consumed for all CPUs : 0.058243 kWh. Total CPU Power : 42.5 W\n",
      "[codecarbon DEBUG @ 12:36:33] CPU : 42.50 W during 14.99 s [measurement time: 0.0002]\n",
      "[codecarbon INFO @ 12:36:33] Energy consumed for all GPUs : 0.018956 kWh. Total GPU Power : 12.835065252729397 W\n",
      "[codecarbon DEBUG @ 12:36:33] GPU : 12.84 W during 14.99 s [measurement time: 0.0057]\n",
      "[codecarbon INFO @ 12:36:33] 0.077319 kWh of electricity used since the beginning.\n",
      "[codecarbon DEBUG @ 12:36:33] last_duration=14.97487043000001\n",
      "------------------------\n"
     ]
    },
    {
     "name": "stdout",
     "output_type": "stream",
     "text": [
      "[260/1000] ./test/pdf/779.pdf\n"
     ]
    },
    {
     "name": "stderr",
     "output_type": "stream",
     "text": [
      "[codecarbon INFO @ 12:36:48] Energy consumed for RAM : 0.000121 kWh. RAM Power : 0.08809232711791992 W\n",
      "[codecarbon DEBUG @ 12:36:48] RAM : 0.09 W during 14.98 s [measurement time: 0.0138]\n",
      "[codecarbon INFO @ 12:36:48] Energy consumed for all CPUs : 0.058420 kWh. Total CPU Power : 42.5 W\n",
      "[codecarbon DEBUG @ 12:36:48] CPU : 42.50 W during 15.00 s [measurement time: 0.0002]\n",
      "[codecarbon INFO @ 12:36:48] Energy consumed for all GPUs : 0.019010 kWh. Total GPU Power : 13.080730804875088 W\n",
      "[codecarbon DEBUG @ 12:36:48] GPU : 13.08 W during 15.00 s [measurement time: 0.0025]\n",
      "[codecarbon INFO @ 12:36:48] 0.077551 kWh of electricity used since the beginning.\n",
      "[codecarbon DEBUG @ 12:36:48] last_duration=14.975999129999764\n",
      "------------------------\n"
     ]
    },
    {
     "name": "stdout",
     "output_type": "stream",
     "text": [
      "[261/1000] ./test/pdf/78.pdf\n"
     ]
    },
    {
     "name": "stderr",
     "output_type": "stream",
     "text": [
      "[codecarbon INFO @ 12:37:03] Energy consumed for RAM : 0.000121 kWh. RAM Power : 0.08809232711791992 W\n",
      "[codecarbon DEBUG @ 12:37:03] RAM : 0.09 W during 14.97 s [measurement time: 0.0131]\n",
      "[codecarbon INFO @ 12:37:03] Energy consumed for all CPUs : 0.058597 kWh. Total CPU Power : 42.5 W\n",
      "[codecarbon DEBUG @ 12:37:03] CPU : 42.50 W during 15.00 s [measurement time: 0.0003]\n",
      "[codecarbon INFO @ 12:37:03] Energy consumed for all GPUs : 0.019066 kWh. Total GPU Power : 13.410477000869877 W\n",
      "[codecarbon DEBUG @ 12:37:03] GPU : 13.41 W during 15.00 s [measurement time: 0.0023]\n",
      "[codecarbon INFO @ 12:37:03] 0.077784 kWh of electricity used since the beginning.\n",
      "[codecarbon DEBUG @ 12:37:03] last_duration=14.97375201199975\n",
      "------------------------\n"
     ]
    },
    {
     "name": "stdout",
     "output_type": "stream",
     "text": [
      "[262/1000] ./test/pdf/780.pdf\n"
     ]
    },
    {
     "name": "stderr",
     "output_type": "stream",
     "text": [
      "[codecarbon INFO @ 12:37:18] Energy consumed for RAM : 0.000121 kWh. RAM Power : 0.08809232711791992 W\n",
      "[codecarbon DEBUG @ 12:37:18] RAM : 0.09 W during 14.98 s [measurement time: 0.0146]\n",
      "[codecarbon INFO @ 12:37:18] Energy consumed for all CPUs : 0.058774 kWh. Total CPU Power : 42.5 W\n",
      "[codecarbon DEBUG @ 12:37:18] CPU : 42.50 W during 15.00 s [measurement time: 0.0004]\n",
      "[codecarbon INFO @ 12:37:18] Energy consumed for all GPUs : 0.019123 kWh. Total GPU Power : 13.667903527908683 W\n",
      "[codecarbon DEBUG @ 12:37:18] GPU : 13.67 W during 15.00 s [measurement time: 0.0043]\n",
      "[codecarbon INFO @ 12:37:18] 0.078018 kWh of electricity used since the beginning.\n",
      "[codecarbon DEBUG @ 12:37:18] last_duration=14.975129738999385\n",
      "------------------------\n",
      "[codecarbon INFO @ 12:37:33] Energy consumed for RAM : 0.000122 kWh. RAM Power : 0.08809232711791992 W\n",
      "[codecarbon DEBUG @ 12:37:33] RAM : 0.09 W during 14.97 s [measurement time: 0.0111]\n",
      "[codecarbon INFO @ 12:37:33] Energy consumed for all CPUs : 0.058951 kWh. Total CPU Power : 42.5 W\n",
      "[codecarbon DEBUG @ 12:37:33] CPU : 42.50 W during 14.99 s [measurement time: 0.0002]\n",
      "[codecarbon INFO @ 12:37:33] Energy consumed for all GPUs : 0.019180 kWh. Total GPU Power : 13.720970801366594 W\n",
      "[codecarbon DEBUG @ 12:37:33] GPU : 13.72 W during 14.99 s [measurement time: 0.0026]\n",
      "[codecarbon INFO @ 12:37:33] 0.078253 kWh of electricity used since the beginning.\n",
      "[codecarbon DEBUG @ 12:37:33] last_duration=14.97111399700043\n",
      "------------------------\n",
      "[codecarbon INFO @ 12:37:48] Energy consumed for RAM : 0.000122 kWh. RAM Power : 0.08809232711791992 W\n",
      "[codecarbon DEBUG @ 12:37:48] RAM : 0.09 W during 14.98 s [measurement time: 0.0098]\n",
      "[codecarbon INFO @ 12:37:48] Energy consumed for all CPUs : 0.059128 kWh. Total CPU Power : 42.5 W\n",
      "[codecarbon DEBUG @ 12:37:48] CPU : 42.50 W during 14.99 s [measurement time: 0.0004]\n",
      "[codecarbon INFO @ 12:37:48] Energy consumed for all GPUs : 0.019235 kWh. Total GPU Power : 13.059341492942425 W\n",
      "[codecarbon DEBUG @ 12:37:48] GPU : 13.06 W during 15.00 s [measurement time: 0.0028]\n",
      "[codecarbon INFO @ 12:37:48] 0.078485 kWh of electricity used since the beginning.\n",
      "[codecarbon DEBUG @ 12:37:48] last_duration=14.976390675000403\n",
      "------------------------\n"
     ]
    },
    {
     "name": "stdout",
     "output_type": "stream",
     "text": [
      "[263/1000] ./test/pdf/781.pdf\n"
     ]
    },
    {
     "name": "stderr",
     "output_type": "stream",
     "text": [
      "[codecarbon INFO @ 12:38:03] Energy consumed for RAM : 0.000123 kWh. RAM Power : 0.08809232711791992 W\n",
      "[codecarbon DEBUG @ 12:38:03] RAM : 0.09 W during 14.98 s [measurement time: 0.0150]\n",
      "[codecarbon INFO @ 12:38:03] Energy consumed for all CPUs : 0.059305 kWh. Total CPU Power : 42.5 W\n",
      "[codecarbon DEBUG @ 12:38:03] CPU : 42.50 W during 15.00 s [measurement time: 0.0004]\n",
      "[codecarbon INFO @ 12:38:03] Energy consumed for all GPUs : 0.019292 kWh. Total GPU Power : 13.787423260260848 W\n",
      "[codecarbon DEBUG @ 12:38:03] GPU : 13.79 W during 15.00 s [measurement time: 0.0053]\n",
      "[codecarbon INFO @ 12:38:03] 0.078720 kWh of electricity used since the beginning.\n",
      "[codecarbon DEBUG @ 12:38:03] last_duration=14.97881157699976\n",
      "------------------------\n"
     ]
    },
    {
     "name": "stdout",
     "output_type": "stream",
     "text": [
      "[264/1000] ./test/pdf/782.pdf\n"
     ]
    },
    {
     "name": "stderr",
     "output_type": "stream",
     "text": [
      "[codecarbon INFO @ 12:38:18] Energy consumed for RAM : 0.000123 kWh. RAM Power : 0.08809232711791992 W\n",
      "[codecarbon DEBUG @ 12:38:18] RAM : 0.09 W during 14.97 s [measurement time: 0.0139]\n",
      "[codecarbon INFO @ 12:38:18] Energy consumed for all CPUs : 0.059482 kWh. Total CPU Power : 42.5 W\n",
      "[codecarbon DEBUG @ 12:38:18] CPU : 42.50 W during 14.99 s [measurement time: 0.0006]\n",
      "[codecarbon INFO @ 12:38:18] Energy consumed for all GPUs : 0.019351 kWh. Total GPU Power : 14.157545653168931 W\n",
      "[codecarbon DEBUG @ 12:38:18] GPU : 14.16 W during 14.99 s [measurement time: 0.0027]\n",
      "[codecarbon INFO @ 12:38:18] 0.078956 kWh of electricity used since the beginning.\n",
      "[codecarbon DEBUG @ 12:38:18] We apply an energy mix of 174 g.CO2eq/kWh for Spain\n",
      "[codecarbon DEBUG @ 12:38:18] EmissionsData(timestamp='2025-04-13T12:38:18', project_name='codecarbon', run_id='868e486c-ef2f-47f1-8b33-54ddf9c190fd', experiment_id='5b0fa12a-3dd7-45bb-9766-cc326314d9f1', duration=5040.304599369, emissions=0.013742284249311364, emissions_rate=2.7264789217365495e-06, cpu_power=42.5, gpu_power=14.157545653168931, ram_power=0.08809232711791992, cpu_energy=0.059481987716984645, gpu_energy=0.019351053814164004, ram_energy=0.00012291508655517906, energy_consumed=0.0789559566177039, country_name='Spain', country_iso_code='ESP', region=None, cloud_provider='', cloud_region='', os='Linux-6.8.0-57-generic-x86_64-with-glibc2.35', python_version='3.12.9', codecarbon_version='2.8.3', cpu_count=32, cpu_model='13th Gen Intel(R) Core(TM) i9-13900', gpu_count=1, gpu_model='1 x NVIDIA RTX 5000 Ada Generation', longitude=None, latitude=None, ram_total_size=62.50331497192383, tracking_mode='process', on_cloud='N', pue=1.0)\n",
      "[codecarbon INFO @ 12:38:18] 0.002709 g.CO2eq/s mean an estimation of 85.43562873942716 kg.CO2eq/year\n",
      "[codecarbon DEBUG @ 12:38:18] last_duration=14.969887068999924\n",
      "------------------------\n"
     ]
    },
    {
     "name": "stdout",
     "output_type": "stream",
     "text": [
      "[265/1000] ./test/pdf/783.pdf\n"
     ]
    },
    {
     "name": "stderr",
     "output_type": "stream",
     "text": [
      "[codecarbon INFO @ 12:38:33] Energy consumed for RAM : 0.000123 kWh. RAM Power : 0.08809232711791992 W\n",
      "[codecarbon DEBUG @ 12:38:33] RAM : 0.09 W during 14.98 s [measurement time: 0.0111]\n",
      "[codecarbon INFO @ 12:38:33] Energy consumed for all CPUs : 0.059659 kWh. Total CPU Power : 42.5 W\n",
      "[codecarbon DEBUG @ 12:38:33] CPU : 42.50 W during 15.00 s [measurement time: 0.0008]\n",
      "[codecarbon INFO @ 12:38:33] Energy consumed for all GPUs : 0.019405 kWh. Total GPU Power : 12.902292679666733 W\n",
      "[codecarbon DEBUG @ 12:38:33] GPU : 12.90 W during 15.00 s [measurement time: 0.0031]\n",
      "[codecarbon INFO @ 12:38:33] 0.079187 kWh of electricity used since the beginning.\n",
      "[codecarbon DEBUG @ 12:38:33] last_duration=14.975105316000736\n",
      "------------------------\n"
     ]
    },
    {
     "name": "stdout",
     "output_type": "stream",
     "text": [
      "[266/1000] ./test/pdf/784.pdf\n"
     ]
    },
    {
     "name": "stderr",
     "output_type": "stream",
     "text": [
      "[codecarbon INFO @ 12:38:48] Energy consumed for RAM : 0.000124 kWh. RAM Power : 0.08809232711791992 W\n",
      "[codecarbon DEBUG @ 12:38:48] RAM : 0.09 W during 14.97 s [measurement time: 0.0134]\n",
      "[codecarbon INFO @ 12:38:48] Energy consumed for all CPUs : 0.059836 kWh. Total CPU Power : 42.5 W\n",
      "[codecarbon DEBUG @ 12:38:48] CPU : 42.50 W during 15.00 s [measurement time: 0.0005]\n",
      "[codecarbon INFO @ 12:38:48] Energy consumed for all GPUs : 0.019465 kWh. Total GPU Power : 14.333422408720052 W\n",
      "[codecarbon DEBUG @ 12:38:48] GPU : 14.33 W during 15.00 s [measurement time: 0.0027]\n",
      "[codecarbon INFO @ 12:38:48] 0.079424 kWh of electricity used since the beginning.\n",
      "[codecarbon DEBUG @ 12:38:48] last_duration=14.973075048999817\n",
      "------------------------\n"
     ]
    },
    {
     "name": "stdout",
     "output_type": "stream",
     "text": [
      "[267/1000] ./test/pdf/785.pdf\n"
     ]
    },
    {
     "name": "stderr",
     "output_type": "stream",
     "text": [
      "[codecarbon INFO @ 12:39:03] Energy consumed for RAM : 0.000124 kWh. RAM Power : 0.08809232711791992 W\n",
      "[codecarbon DEBUG @ 12:39:03] RAM : 0.09 W during 14.97 s [measurement time: 0.0145]\n",
      "[codecarbon INFO @ 12:39:03] Energy consumed for all CPUs : 0.060013 kWh. Total CPU Power : 42.5 W\n",
      "[codecarbon DEBUG @ 12:39:03] CPU : 42.50 W during 15.00 s [measurement time: 0.0006]\n",
      "[codecarbon INFO @ 12:39:03] Energy consumed for all GPUs : 0.019523 kWh. Total GPU Power : 13.999607732088881 W\n",
      "[codecarbon DEBUG @ 12:39:03] GPU : 14.00 W during 15.00 s [measurement time: 0.0035]\n",
      "[codecarbon INFO @ 12:39:03] 0.079660 kWh of electricity used since the beginning.\n",
      "[codecarbon DEBUG @ 12:39:03] last_duration=14.974244363000253\n",
      "------------------------\n",
      "[codecarbon INFO @ 12:39:18] Energy consumed for RAM : 0.000124 kWh. RAM Power : 0.08809232711791992 W\n",
      "[codecarbon DEBUG @ 12:39:18] RAM : 0.09 W during 14.97 s [measurement time: 0.0135]\n",
      "[codecarbon INFO @ 12:39:18] Energy consumed for all CPUs : 0.060190 kWh. Total CPU Power : 42.5 W\n",
      "[codecarbon DEBUG @ 12:39:18] CPU : 42.50 W during 15.00 s [measurement time: 0.0007]\n",
      "[codecarbon INFO @ 12:39:18] Energy consumed for all GPUs : 0.019582 kWh. Total GPU Power : 14.147336154480477 W\n",
      "[codecarbon DEBUG @ 12:39:18] GPU : 14.15 W during 15.00 s [measurement time: 0.0028]\n",
      "[codecarbon INFO @ 12:39:18] 0.079896 kWh of electricity used since the beginning.\n",
      "[codecarbon DEBUG @ 12:39:18] last_duration=14.972821315000147\n",
      "------------------------\n",
      "[codecarbon INFO @ 12:39:33] Energy consumed for RAM : 0.000125 kWh. RAM Power : 0.08809232711791992 W\n",
      "[codecarbon DEBUG @ 12:39:33] RAM : 0.09 W during 14.97 s [measurement time: 0.0121]\n",
      "[codecarbon INFO @ 12:39:33] Energy consumed for all CPUs : 0.060367 kWh. Total CPU Power : 42.5 W\n",
      "[codecarbon DEBUG @ 12:39:33] CPU : 42.50 W during 15.00 s [measurement time: 0.0004]\n",
      "[codecarbon INFO @ 12:39:33] Energy consumed for all GPUs : 0.019640 kWh. Total GPU Power : 14.043836353915644 W\n",
      "[codecarbon DEBUG @ 12:39:33] GPU : 14.04 W during 15.00 s [measurement time: 0.0025]\n",
      "[codecarbon INFO @ 12:39:33] 0.080132 kWh of electricity used since the beginning.\n",
      "[codecarbon DEBUG @ 12:39:33] last_duration=14.973473557999569\n",
      "------------------------\n"
     ]
    },
    {
     "name": "stdout",
     "output_type": "stream",
     "text": [
      "[268/1000] ./test/pdf/786.pdf\n"
     ]
    },
    {
     "name": "stderr",
     "output_type": "stream",
     "text": [
      "[codecarbon INFO @ 12:39:48] Energy consumed for RAM : 0.000125 kWh. RAM Power : 0.08809232711791992 W\n",
      "[codecarbon DEBUG @ 12:39:48] RAM : 0.09 W during 14.97 s [measurement time: 0.0148]\n",
      "[codecarbon INFO @ 12:39:48] Energy consumed for all CPUs : 0.060544 kWh. Total CPU Power : 42.5 W\n",
      "[codecarbon DEBUG @ 12:39:48] CPU : 42.50 W during 14.99 s [measurement time: 0.0005]\n",
      "[codecarbon INFO @ 12:39:48] Energy consumed for all GPUs : 0.019697 kWh. Total GPU Power : 13.538117227586755 W\n",
      "[codecarbon DEBUG @ 12:39:48] GPU : 13.54 W during 14.99 s [measurement time: 0.0022]\n",
      "[codecarbon INFO @ 12:39:48] 0.080366 kWh of electricity used since the beginning.\n",
      "[codecarbon DEBUG @ 12:39:48] last_duration=14.973649264000414\n",
      "------------------------\n",
      "[codecarbon INFO @ 12:40:03] Energy consumed for RAM : 0.000125 kWh. RAM Power : 0.08809232711791992 W\n",
      "[codecarbon DEBUG @ 12:40:03] RAM : 0.09 W during 14.98 s [measurement time: 0.0135]\n",
      "[codecarbon INFO @ 12:40:03] Energy consumed for all CPUs : 0.060721 kWh. Total CPU Power : 42.5 W\n",
      "[codecarbon DEBUG @ 12:40:03] CPU : 42.50 W during 15.00 s [measurement time: 0.0008]\n",
      "[codecarbon INFO @ 12:40:03] Energy consumed for all GPUs : 0.019753 kWh. Total GPU Power : 13.45990264996895 W\n",
      "[codecarbon DEBUG @ 12:40:03] GPU : 13.46 W during 15.00 s [measurement time: 0.0040]\n",
      "[codecarbon INFO @ 12:40:03] 0.080599 kWh of electricity used since the beginning.\n",
      "[codecarbon DEBUG @ 12:40:03] last_duration=14.977324207000493\n",
      "------------------------\n"
     ]
    },
    {
     "name": "stdout",
     "output_type": "stream",
     "text": [
      "[269/1000] ./test/pdf/787.pdf\n"
     ]
    },
    {
     "name": "stderr",
     "output_type": "stream",
     "text": [
      "[codecarbon INFO @ 12:40:18] Energy consumed for RAM : 0.000126 kWh. RAM Power : 0.08809232711791992 W\n",
      "[codecarbon DEBUG @ 12:40:18] RAM : 0.09 W during 14.97 s [measurement time: 0.0104]\n",
      "[codecarbon INFO @ 12:40:18] Energy consumed for all CPUs : 0.060898 kWh. Total CPU Power : 42.5 W\n",
      "[codecarbon DEBUG @ 12:40:18] CPU : 42.50 W during 14.99 s [measurement time: 0.0005]\n",
      "[codecarbon INFO @ 12:40:18] Energy consumed for all GPUs : 0.019809 kWh. Total GPU Power : 13.465341805106455 W\n",
      "[codecarbon DEBUG @ 12:40:18] GPU : 13.47 W during 14.99 s [measurement time: 0.0033]\n",
      "[codecarbon INFO @ 12:40:18] 0.080833 kWh of electricity used since the beginning.\n",
      "[codecarbon DEBUG @ 12:40:18] We apply an energy mix of 174 g.CO2eq/kWh for Spain\n",
      "[codecarbon DEBUG @ 12:40:18] EmissionsData(timestamp='2025-04-13T12:40:18', project_name='codecarbon', run_id='868e486c-ef2f-47f1-8b33-54ddf9c190fd', experiment_id='5b0fa12a-3dd7-45bb-9766-cc326314d9f1', duration=5160.3109499970005, emissions=0.014068968606220634, emissions_rate=2.7263800074351745e-06, cpu_power=42.5, gpu_power=13.465341805106455, ram_power=0.08809232711791992, cpu_energy=0.060898240153576325, gpu_energy=0.01980882695816, ram_energy=0.00012584645459874581, energy_consumed=0.08083291356633515, country_name='Spain', country_iso_code='ESP', region=None, cloud_provider='', cloud_region='', os='Linux-6.8.0-57-generic-x86_64-with-glibc2.35', python_version='3.12.9', codecarbon_version='2.8.3', cpu_count=32, cpu_model='13th Gen Intel(R) Core(TM) i9-13900', gpu_count=1, gpu_model='1 x NVIDIA RTX 5000 Ada Generation', longitude=None, latitude=None, ram_total_size=62.50331497192383, tracking_mode='process', on_cloud='N', pue=1.0)\n",
      "[codecarbon INFO @ 12:40:18] 0.002722 g.CO2eq/s mean an estimation of 85.84810575088825 kg.CO2eq/year\n",
      "[codecarbon DEBUG @ 12:40:18] last_duration=14.974128059999202\n",
      "------------------------\n",
      "[codecarbon INFO @ 12:40:33] Energy consumed for RAM : 0.000126 kWh. RAM Power : 0.08809232711791992 W\n",
      "[codecarbon DEBUG @ 12:40:33] RAM : 0.09 W during 14.98 s [measurement time: 0.0167]\n",
      "[codecarbon INFO @ 12:40:33] Energy consumed for all CPUs : 0.061075 kWh. Total CPU Power : 42.5 W\n",
      "[codecarbon DEBUG @ 12:40:33] CPU : 42.50 W during 15.00 s [measurement time: 0.0002]\n",
      "[codecarbon INFO @ 12:40:33] Energy consumed for all GPUs : 0.019867 kWh. Total GPU Power : 14.07667707327555 W\n",
      "[codecarbon DEBUG @ 12:40:33] GPU : 14.08 W during 15.00 s [measurement time: 0.0019]\n",
      "[codecarbon INFO @ 12:40:33] 0.081069 kWh of electricity used since the beginning.\n",
      "[codecarbon DEBUG @ 12:40:33] last_duration=14.976002389000314\n",
      "------------------------\n"
     ]
    },
    {
     "name": "stdout",
     "output_type": "stream",
     "text": [
      "[270/1000] ./test/pdf/788.pdf\n"
     ]
    },
    {
     "name": "stderr",
     "output_type": "stream",
     "text": [
      "[codecarbon INFO @ 12:40:48] Energy consumed for RAM : 0.000127 kWh. RAM Power : 0.08809232711791992 W\n",
      "[codecarbon DEBUG @ 12:40:48] RAM : 0.09 W during 14.98 s [measurement time: 0.0108]\n",
      "[codecarbon INFO @ 12:40:48] Energy consumed for all CPUs : 0.061252 kWh. Total CPU Power : 42.5 W\n",
      "[codecarbon DEBUG @ 12:40:48] CPU : 42.50 W during 14.99 s [measurement time: 0.0005]\n",
      "[codecarbon INFO @ 12:40:48] Energy consumed for all GPUs : 0.019920 kWh. Total GPU Power : 12.710431704531912 W\n",
      "[codecarbon DEBUG @ 12:40:48] GPU : 12.71 W during 15.00 s [measurement time: 0.0029]\n",
      "[codecarbon INFO @ 12:40:48] 0.081299 kWh of electricity used since the beginning.\n",
      "[codecarbon DEBUG @ 12:40:48] last_duration=14.976750709000044\n",
      "------------------------\n"
     ]
    },
    {
     "name": "stdout",
     "output_type": "stream",
     "text": [
      "[271/1000] ./test/pdf/789.pdf\n"
     ]
    },
    {
     "name": "stderr",
     "output_type": "stream",
     "text": [
      "[codecarbon INFO @ 12:41:03] Energy consumed for RAM : 0.000127 kWh. RAM Power : 0.08809232711791992 W\n",
      "[codecarbon DEBUG @ 12:41:03] RAM : 0.09 W during 14.98 s [measurement time: 0.0114]\n",
      "[codecarbon INFO @ 12:41:03] Energy consumed for all CPUs : 0.061429 kWh. Total CPU Power : 42.5 W\n",
      "[codecarbon DEBUG @ 12:41:03] CPU : 42.50 W during 15.00 s [measurement time: 0.0005]\n",
      "[codecarbon INFO @ 12:41:03] Energy consumed for all GPUs : 0.019982 kWh. Total GPU Power : 14.842793271928517 W\n",
      "[codecarbon DEBUG @ 12:41:03] GPU : 14.84 W during 15.00 s [measurement time: 0.0043]\n",
      "[codecarbon INFO @ 12:41:03] 0.081539 kWh of electricity used since the beginning.\n",
      "[codecarbon DEBUG @ 12:41:03] last_duration=14.97872975899918\n",
      "------------------------\n"
     ]
    },
    {
     "name": "stdout",
     "output_type": "stream",
     "text": [
      "[272/1000] ./test/pdf/79.pdf\n"
     ]
    },
    {
     "name": "stderr",
     "output_type": "stream",
     "text": [
      "[codecarbon INFO @ 12:41:18] Energy consumed for RAM : 0.000127 kWh. RAM Power : 0.08809232711791992 W\n",
      "[codecarbon DEBUG @ 12:41:18] RAM : 0.09 W during 14.98 s [measurement time: 0.0094]\n",
      "[codecarbon INFO @ 12:41:18] Energy consumed for all CPUs : 0.061606 kWh. Total CPU Power : 42.5 W\n",
      "[codecarbon DEBUG @ 12:41:18] CPU : 42.50 W during 14.99 s [measurement time: 0.0005]\n",
      "[codecarbon INFO @ 12:41:18] Energy consumed for all GPUs : 0.020036 kWh. Total GPU Power : 12.855631045355722 W\n",
      "[codecarbon DEBUG @ 12:41:18] GPU : 12.86 W during 14.99 s [measurement time: 0.0021]\n",
      "[codecarbon INFO @ 12:41:18] 0.081769 kWh of electricity used since the beginning.\n",
      "[codecarbon DEBUG @ 12:41:18] last_duration=14.97664648800037\n",
      "------------------------\n"
     ]
    },
    {
     "name": "stdout",
     "output_type": "stream",
     "text": [
      "[273/1000] ./test/pdf/790.pdf\n"
     ]
    },
    {
     "name": "stderr",
     "output_type": "stream",
     "text": [
      "[codecarbon INFO @ 12:41:33] Energy consumed for RAM : 0.000128 kWh. RAM Power : 0.08809232711791992 W\n",
      "[codecarbon DEBUG @ 12:41:33] RAM : 0.09 W during 14.98 s [measurement time: 0.0126]\n",
      "[codecarbon INFO @ 12:41:33] Energy consumed for all CPUs : 0.061783 kWh. Total CPU Power : 42.5 W\n",
      "[codecarbon DEBUG @ 12:41:33] CPU : 42.50 W during 15.00 s [measurement time: 0.0005]\n",
      "[codecarbon INFO @ 12:41:33] Energy consumed for all GPUs : 0.020091 kWh. Total GPU Power : 13.342742064300243 W\n",
      "[codecarbon DEBUG @ 12:41:33] GPU : 13.34 W during 15.00 s [measurement time: 0.0019]\n",
      "[codecarbon INFO @ 12:41:33] 0.082002 kWh of electricity used since the beginning.\n",
      "[codecarbon DEBUG @ 12:41:33] last_duration=14.979379555000378\n",
      "------------------------\n"
     ]
    },
    {
     "name": "stdout",
     "output_type": "stream",
     "text": [
      "[274/1000] ./test/pdf/791.pdf\n"
     ]
    },
    {
     "name": "stderr",
     "output_type": "stream",
     "text": [
      "[codecarbon INFO @ 12:41:48] Energy consumed for RAM : 0.000128 kWh. RAM Power : 0.08809232711791992 W\n",
      "[codecarbon DEBUG @ 12:41:48] RAM : 0.09 W during 14.98 s [measurement time: 0.0053]\n",
      "[codecarbon INFO @ 12:41:48] Energy consumed for all CPUs : 0.061960 kWh. Total CPU Power : 42.5 W\n",
      "[codecarbon DEBUG @ 12:41:48] CPU : 42.50 W during 14.99 s [measurement time: 0.0003]\n",
      "[codecarbon INFO @ 12:41:48] Energy consumed for all GPUs : 0.020148 kWh. Total GPU Power : 13.661151730543127 W\n",
      "[codecarbon DEBUG @ 12:41:48] GPU : 13.66 W during 14.99 s [measurement time: 0.0036]\n",
      "[codecarbon INFO @ 12:41:48] 0.082237 kWh of electricity used since the beginning.\n",
      "[codecarbon DEBUG @ 12:41:48] last_duration=14.980141103000278\n",
      "------------------------\n",
      "[codecarbon INFO @ 12:42:03] Energy consumed for RAM : 0.000128 kWh. RAM Power : 0.08809232711791992 W\n",
      "[codecarbon DEBUG @ 12:42:03] RAM : 0.09 W during 14.99 s [measurement time: 0.0110]\n",
      "[codecarbon INFO @ 12:42:03] Energy consumed for all CPUs : 0.062138 kWh. Total CPU Power : 42.5 W\n",
      "[codecarbon DEBUG @ 12:42:03] CPU : 42.50 W during 15.00 s [measurement time: 0.0003]\n",
      "[codecarbon INFO @ 12:42:03] Energy consumed for all GPUs : 0.020204 kWh. Total GPU Power : 13.3881206077216 W\n",
      "[codecarbon DEBUG @ 12:42:03] GPU : 13.39 W during 15.00 s [measurement time: 0.0032]\n",
      "[codecarbon INFO @ 12:42:03] 0.082470 kWh of electricity used since the beginning.\n",
      "[codecarbon DEBUG @ 12:42:03] last_duration=14.986675076999745\n",
      "------------------------\n"
     ]
    },
    {
     "name": "stdout",
     "output_type": "stream",
     "text": [
      "[275/1000] ./test/pdf/792.pdf\n"
     ]
    },
    {
     "name": "stderr",
     "output_type": "stream",
     "text": [
      "[codecarbon INFO @ 12:42:18] Energy consumed for RAM : 0.000129 kWh. RAM Power : 0.08818387985229492 W\n",
      "[codecarbon DEBUG @ 12:42:18] RAM : 0.09 W during 14.98 s [measurement time: 0.0110]\n",
      "[codecarbon INFO @ 12:42:18] Energy consumed for all CPUs : 0.062315 kWh. Total CPU Power : 42.5 W\n",
      "[codecarbon DEBUG @ 12:42:18] CPU : 42.50 W during 15.00 s [measurement time: 0.0005]\n",
      "[codecarbon INFO @ 12:42:18] Energy consumed for all GPUs : 0.020263 kWh. Total GPU Power : 14.191462984977441 W\n",
      "[codecarbon DEBUG @ 12:42:18] GPU : 14.19 W during 15.00 s [measurement time: 0.0027]\n",
      "[codecarbon INFO @ 12:42:18] 0.082707 kWh of electricity used since the beginning.\n",
      "[codecarbon DEBUG @ 12:42:18] We apply an energy mix of 174 g.CO2eq/kWh for Spain\n",
      "[codecarbon DEBUG @ 12:42:18] EmissionsData(timestamp='2025-04-13T12:42:18', project_name='codecarbon', run_id='868e486c-ef2f-47f1-8b33-54ddf9c190fd', experiment_id='5b0fa12a-3dd7-45bb-9766-cc326314d9f1', duration=5280.319677902001, emissions=0.014395077733588967, emissions_rate=2.7261754233994562e-06, cpu_power=42.5, gpu_power=14.191462984977441, ram_power=0.08818387985229492, cpu_energy=0.0623145837907055, gpu_energy=0.020263202599438, ram_energy=0.0001287791576241066, energy_consumed=0.08270656554776769, country_name='Spain', country_iso_code='ESP', region=None, cloud_provider='', cloud_region='', os='Linux-6.8.0-57-generic-x86_64-with-glibc2.35', python_version='3.12.9', codecarbon_version='2.8.3', cpu_count=32, cpu_model='13th Gen Intel(R) Core(TM) i9-13900', gpu_count=1, gpu_model='1 x NVIDIA RTX 5000 Ada Generation', longitude=None, latitude=None, ram_total_size=62.50331497192383, tracking_mode='process', on_cloud='N', pue=1.0)\n",
      "[codecarbon INFO @ 12:42:18] 0.002717 g.CO2eq/s mean an estimation of 85.69524583935895 kg.CO2eq/year\n",
      "[codecarbon DEBUG @ 12:42:18] last_duration=14.978506229000232\n",
      "------------------------\n"
     ]
    },
    {
     "name": "stdout",
     "output_type": "stream",
     "text": [
      "[276/1000] ./test/pdf/793.pdf\n"
     ]
    },
    {
     "name": "stderr",
     "output_type": "stream",
     "text": [
      "[codecarbon INFO @ 12:42:33] Energy consumed for RAM : 0.000129 kWh. RAM Power : 0.08818387985229492 W\n",
      "[codecarbon DEBUG @ 12:42:33] RAM : 0.09 W during 14.97 s [measurement time: 0.0117]\n",
      "[codecarbon INFO @ 12:42:33] Energy consumed for all CPUs : 0.062492 kWh. Total CPU Power : 42.5 W\n",
      "[codecarbon DEBUG @ 12:42:33] CPU : 42.50 W during 15.00 s [measurement time: 0.0009]\n",
      "[codecarbon INFO @ 12:42:33] Energy consumed for all GPUs : 0.020319 kWh. Total GPU Power : 13.50206332508478 W\n",
      "[codecarbon DEBUG @ 12:42:33] GPU : 13.50 W during 15.00 s [measurement time: 0.0064]\n",
      "[codecarbon INFO @ 12:42:33] 0.082940 kWh of electricity used since the beginning.\n",
      "[codecarbon DEBUG @ 12:42:33] last_duration=14.97412613600045\n",
      "------------------------\n",
      "[codecarbon INFO @ 12:42:48] Energy consumed for RAM : 0.000130 kWh. RAM Power : 0.08818387985229492 W\n",
      "[codecarbon DEBUG @ 12:42:48] RAM : 0.09 W during 14.97 s [measurement time: 0.0135]\n",
      "[codecarbon INFO @ 12:42:48] Energy consumed for all CPUs : 0.062669 kWh. Total CPU Power : 42.5 W\n",
      "[codecarbon DEBUG @ 12:42:48] CPU : 42.50 W during 14.99 s [measurement time: 0.0007]\n",
      "[codecarbon INFO @ 12:42:48] Energy consumed for all GPUs : 0.020378 kWh. Total GPU Power : 14.162380193279281 W\n",
      "[codecarbon DEBUG @ 12:42:48] GPU : 14.16 W during 14.99 s [measurement time: 0.0021]\n",
      "[codecarbon INFO @ 12:42:48] 0.083177 kWh of electricity used since the beginning.\n",
      "[codecarbon DEBUG @ 12:42:48] last_duration=14.96763024900065\n",
      "------------------------\n"
     ]
    },
    {
     "name": "stdout",
     "output_type": "stream",
     "text": [
      "[277/1000] ./test/pdf/794.pdf\n"
     ]
    },
    {
     "name": "stderr",
     "output_type": "stream",
     "text": [
      "[codecarbon INFO @ 12:43:03] Energy consumed for RAM : 0.000130 kWh. RAM Power : 0.08818387985229492 W\n",
      "[codecarbon DEBUG @ 12:43:03] RAM : 0.09 W during 14.98 s [measurement time: 0.0140]\n",
      "[codecarbon INFO @ 12:43:03] Energy consumed for all CPUs : 0.062846 kWh. Total CPU Power : 42.5 W\n",
      "[codecarbon DEBUG @ 12:43:03] CPU : 42.50 W during 15.00 s [measurement time: 0.0004]\n",
      "[codecarbon INFO @ 12:43:03] Energy consumed for all GPUs : 0.020437 kWh. Total GPU Power : 13.937150633722814 W\n",
      "[codecarbon DEBUG @ 12:43:03] GPU : 13.94 W during 15.00 s [measurement time: 0.0029]\n",
      "[codecarbon INFO @ 12:43:03] 0.083412 kWh of electricity used since the beginning.\n",
      "[codecarbon DEBUG @ 12:43:03] last_duration=14.975116061000335\n",
      "------------------------\n"
     ]
    },
    {
     "name": "stdout",
     "output_type": "stream",
     "text": [
      "[278/1000] ./test/pdf/795.pdf\n"
     ]
    },
    {
     "name": "stderr",
     "output_type": "stream",
     "text": [
      "[codecarbon INFO @ 12:43:18] Energy consumed for RAM : 0.000130 kWh. RAM Power : 0.08818387985229492 W\n",
      "[codecarbon DEBUG @ 12:43:18] RAM : 0.09 W during 14.97 s [measurement time: 0.0121]\n",
      "[codecarbon INFO @ 12:43:18] Energy consumed for all CPUs : 0.063023 kWh. Total CPU Power : 42.5 W\n",
      "[codecarbon DEBUG @ 12:43:18] CPU : 42.50 W during 14.99 s [measurement time: 0.0005]\n",
      "[codecarbon INFO @ 12:43:18] Energy consumed for all GPUs : 0.020493 kWh. Total GPU Power : 13.614915906485349 W\n",
      "[codecarbon DEBUG @ 12:43:18] GPU : 13.61 W during 14.99 s [measurement time: 0.0025]\n",
      "[codecarbon INFO @ 12:43:18] 0.083646 kWh of electricity used since the beginning.\n",
      "[codecarbon DEBUG @ 12:43:18] last_duration=14.972118104999936\n",
      "------------------------\n",
      "[codecarbon INFO @ 12:43:33] Energy consumed for RAM : 0.000131 kWh. RAM Power : 0.08818387985229492 W\n",
      "[codecarbon DEBUG @ 12:43:33] RAM : 0.09 W during 14.98 s [measurement time: 0.0134]\n",
      "[codecarbon INFO @ 12:43:33] Energy consumed for all CPUs : 0.063200 kWh. Total CPU Power : 42.5 W\n",
      "[codecarbon DEBUG @ 12:43:33] CPU : 42.50 W during 15.00 s [measurement time: 0.0004]\n",
      "[codecarbon INFO @ 12:43:33] Energy consumed for all GPUs : 0.020553 kWh. Total GPU Power : 14.248887276757129 W\n",
      "[codecarbon DEBUG @ 12:43:33] GPU : 14.25 W during 15.00 s [measurement time: 0.0020]\n",
      "[codecarbon INFO @ 12:43:33] 0.083883 kWh of electricity used since the beginning.\n",
      "[codecarbon DEBUG @ 12:43:33] last_duration=14.977009004999672\n",
      "------------------------\n"
     ]
    },
    {
     "name": "stdout",
     "output_type": "stream",
     "text": [
      "[279/1000] ./test/pdf/796.pdf\n"
     ]
    },
    {
     "name": "stderr",
     "output_type": "stream",
     "text": [
      "[codecarbon INFO @ 12:43:48] Energy consumed for RAM : 0.000131 kWh. RAM Power : 0.08818387985229492 W\n",
      "[codecarbon DEBUG @ 12:43:48] RAM : 0.09 W during 14.97 s [measurement time: 0.0105]\n",
      "[codecarbon INFO @ 12:43:48] Energy consumed for all CPUs : 0.063377 kWh. Total CPU Power : 42.5 W\n",
      "[codecarbon DEBUG @ 12:43:48] CPU : 42.50 W during 14.99 s [measurement time: 0.0005]\n",
      "[codecarbon INFO @ 12:43:48] Energy consumed for all GPUs : 0.020610 kWh. Total GPU Power : 13.827678603353812 W\n",
      "[codecarbon DEBUG @ 12:43:48] GPU : 13.83 W during 14.99 s [measurement time: 0.0026]\n",
      "[codecarbon INFO @ 12:43:48] 0.084118 kWh of electricity used since the beginning.\n",
      "[codecarbon DEBUG @ 12:43:48] last_duration=14.970977126000435\n",
      "------------------------\n"
     ]
    },
    {
     "name": "stdout",
     "output_type": "stream",
     "text": [
      "[280/1000] ./test/pdf/797.pdf\n"
     ]
    },
    {
     "name": "stderr",
     "output_type": "stream",
     "text": [
      "[codecarbon INFO @ 12:44:03] Energy consumed for RAM : 0.000131 kWh. RAM Power : 0.08818387985229492 W\n",
      "[codecarbon DEBUG @ 12:44:03] RAM : 0.09 W during 14.98 s [measurement time: 0.0123]\n",
      "[codecarbon INFO @ 12:44:03] Energy consumed for all CPUs : 0.063554 kWh. Total CPU Power : 42.5 W\n",
      "[codecarbon DEBUG @ 12:44:03] CPU : 42.50 W during 15.00 s [measurement time: 0.0005]\n",
      "[codecarbon INFO @ 12:44:03] Energy consumed for all GPUs : 0.020665 kWh. Total GPU Power : 13.088226471886427 W\n",
      "[codecarbon DEBUG @ 12:44:03] GPU : 13.09 W during 15.00 s [measurement time: 0.0027]\n",
      "[codecarbon INFO @ 12:44:03] 0.084350 kWh of electricity used since the beginning.\n",
      "[codecarbon DEBUG @ 12:44:03] last_duration=14.976314145000288\n",
      "------------------------\n"
     ]
    },
    {
     "name": "stdout",
     "output_type": "stream",
     "text": [
      "[281/1000] ./test/pdf/798.pdf\n"
     ]
    },
    {
     "name": "stderr",
     "output_type": "stream",
     "text": [
      "[codecarbon INFO @ 12:44:18] Energy consumed for RAM : 0.000132 kWh. RAM Power : 0.08818387985229492 W\n",
      "[codecarbon DEBUG @ 12:44:18] RAM : 0.09 W during 14.98 s [measurement time: 0.0116]\n",
      "[codecarbon INFO @ 12:44:18] Energy consumed for all CPUs : 0.063731 kWh. Total CPU Power : 42.5 W\n",
      "[codecarbon DEBUG @ 12:44:18] CPU : 42.50 W during 15.00 s [measurement time: 0.0009]\n",
      "[codecarbon INFO @ 12:44:18] Energy consumed for all GPUs : 0.020723 kWh. Total GPU Power : 14.056141263992616 W\n",
      "[codecarbon DEBUG @ 12:44:18] GPU : 14.06 W during 15.00 s [measurement time: 0.0026]\n",
      "[codecarbon INFO @ 12:44:18] 0.084586 kWh of electricity used since the beginning.\n",
      "[codecarbon DEBUG @ 12:44:18] We apply an energy mix of 174 g.CO2eq/kWh for Spain\n",
      "[codecarbon DEBUG @ 12:44:18] EmissionsData(timestamp='2025-04-13T12:44:18', project_name='codecarbon', run_id='868e486c-ef2f-47f1-8b33-54ddf9c190fd', experiment_id='5b0fa12a-3dd7-45bb-9766-cc326314d9f1', duration=5400.325598765, emissions=0.014722160627095407, emissions_rate=2.7261616652266703e-06, cpu_power=42.5, gpu_power=14.056141263992616, ram_power=0.08818387985229492, cpu_energy=0.06373083974061869, gpu_energy=0.020723259078594, ram_energy=0.00013171345941636006, energy_consumed=0.08458581227862916, country_name='Spain', country_iso_code='ESP', region=None, cloud_provider='', cloud_region='', os='Linux-6.8.0-57-generic-x86_64-with-glibc2.35', python_version='3.12.9', codecarbon_version='2.8.3', cpu_count=32, cpu_model='13th Gen Intel(R) Core(TM) i9-13900', gpu_count=1, gpu_model='1 x NVIDIA RTX 5000 Ada Generation', longitude=None, latitude=None, ram_total_size=62.50331497192383, tracking_mode='process', on_cloud='N', pue=1.0)\n",
      "[codecarbon INFO @ 12:44:18] 0.002726 g.CO2eq/s mean an estimation of 85.95314344027034 kg.CO2eq/year\n",
      "[codecarbon DEBUG @ 12:44:18] last_duration=14.975941990000138\n",
      "------------------------\n"
     ]
    },
    {
     "name": "stdout",
     "output_type": "stream",
     "text": [
      "[282/1000] ./test/pdf/799.pdf\n"
     ]
    },
    {
     "name": "stderr",
     "output_type": "stream",
     "text": [
      "[codecarbon INFO @ 12:44:33] Energy consumed for RAM : 0.000132 kWh. RAM Power : 0.08818387985229492 W\n",
      "[codecarbon DEBUG @ 12:44:33] RAM : 0.09 W during 14.97 s [measurement time: 0.0166]\n",
      "[codecarbon INFO @ 12:44:33] Energy consumed for all CPUs : 0.063908 kWh. Total CPU Power : 42.5 W\n",
      "[codecarbon DEBUG @ 12:44:33] CPU : 42.50 W during 15.00 s [measurement time: 0.0003]\n",
      "[codecarbon INFO @ 12:44:33] Energy consumed for all GPUs : 0.020779 kWh. Total GPU Power : 13.417186081622523 W\n",
      "[codecarbon DEBUG @ 12:44:33] GPU : 13.42 W during 15.00 s [measurement time: 0.0019]\n",
      "[codecarbon INFO @ 12:44:33] 0.084819 kWh of electricity used since the beginning.\n",
      "[codecarbon DEBUG @ 12:44:33] last_duration=14.974957101000655\n",
      "------------------------\n"
     ]
    },
    {
     "name": "stdout",
     "output_type": "stream",
     "text": [
      "[283/1000] ./test/pdf/8.pdf\n"
     ]
    },
    {
     "name": "stderr",
     "output_type": "stream",
     "text": [
      "[codecarbon INFO @ 12:44:48] Energy consumed for RAM : 0.000132 kWh. RAM Power : 0.08818387985229492 W\n",
      "[codecarbon DEBUG @ 12:44:48] RAM : 0.09 W during 14.97 s [measurement time: 0.0156]\n",
      "[codecarbon INFO @ 12:44:48] Energy consumed for all CPUs : 0.064085 kWh. Total CPU Power : 42.5 W\n",
      "[codecarbon DEBUG @ 12:44:48] CPU : 42.50 W during 15.00 s [measurement time: 0.0004]\n",
      "[codecarbon INFO @ 12:44:48] Energy consumed for all GPUs : 0.020836 kWh. Total GPU Power : 13.659144278297772 W\n",
      "[codecarbon DEBUG @ 12:44:48] GPU : 13.66 W during 15.00 s [measurement time: 0.0022]\n",
      "[codecarbon INFO @ 12:44:48] 0.085054 kWh of electricity used since the beginning.\n",
      "[codecarbon DEBUG @ 12:44:48] last_duration=14.97320708999996\n",
      "------------------------\n"
     ]
    },
    {
     "name": "stdout",
     "output_type": "stream",
     "text": [
      "[284/1000] ./test/pdf/80.pdf\n"
     ]
    },
    {
     "name": "stderr",
     "output_type": "stream",
     "text": [
      "[codecarbon INFO @ 12:45:03] Energy consumed for RAM : 0.000133 kWh. RAM Power : 0.08818387985229492 W\n",
      "[codecarbon DEBUG @ 12:45:03] RAM : 0.09 W during 14.97 s [measurement time: 0.0136]\n",
      "[codecarbon INFO @ 12:45:03] Energy consumed for all CPUs : 0.064262 kWh. Total CPU Power : 42.5 W\n",
      "[codecarbon DEBUG @ 12:45:03] CPU : 42.50 W during 14.99 s [measurement time: 0.0006]\n",
      "[codecarbon INFO @ 12:45:03] Energy consumed for all GPUs : 0.020894 kWh. Total GPU Power : 13.926043012931615 W\n",
      "[codecarbon DEBUG @ 12:45:03] GPU : 13.93 W during 14.99 s [measurement time: 0.0024]\n",
      "[codecarbon INFO @ 12:45:03] 0.085289 kWh of electricity used since the beginning.\n",
      "[codecarbon DEBUG @ 12:45:03] last_duration=14.97160426299979\n",
      "------------------------\n",
      "[codecarbon INFO @ 12:45:18] Energy consumed for RAM : 0.000133 kWh. RAM Power : 0.08818387985229492 W\n",
      "[codecarbon DEBUG @ 12:45:18] RAM : 0.09 W during 14.98 s [measurement time: 0.0099]\n",
      "[codecarbon INFO @ 12:45:18] Energy consumed for all CPUs : 0.064439 kWh. Total CPU Power : 42.5 W\n",
      "[codecarbon DEBUG @ 12:45:18] CPU : 42.50 W during 14.99 s [measurement time: 0.0003]\n",
      "[codecarbon INFO @ 12:45:18] Energy consumed for all GPUs : 0.020949 kWh. Total GPU Power : 13.200871055245546 W\n",
      "[codecarbon DEBUG @ 12:45:18] GPU : 13.20 W during 14.99 s [measurement time: 0.0029]\n",
      "[codecarbon INFO @ 12:45:18] 0.085521 kWh of electricity used since the beginning.\n",
      "[codecarbon DEBUG @ 12:45:18] last_duration=14.977046276000692\n",
      "------------------------\n"
     ]
    },
    {
     "name": "stdout",
     "output_type": "stream",
     "text": [
      "[285/1000] ./test/pdf/800.pdf\n"
     ]
    },
    {
     "name": "stderr",
     "output_type": "stream",
     "text": [
      "[codecarbon INFO @ 12:45:33] Energy consumed for RAM : 0.000134 kWh. RAM Power : 0.08818387985229492 W\n",
      "[codecarbon DEBUG @ 12:45:33] RAM : 0.09 W during 14.98 s [measurement time: 0.0119]\n",
      "[codecarbon INFO @ 12:45:33] Energy consumed for all CPUs : 0.064616 kWh. Total CPU Power : 42.5 W\n",
      "[codecarbon DEBUG @ 12:45:33] CPU : 42.50 W during 15.01 s [measurement time: 0.0007]\n",
      "[codecarbon INFO @ 12:45:33] Energy consumed for all GPUs : 0.021004 kWh. Total GPU Power : 13.280729307142309 W\n",
      "[codecarbon DEBUG @ 12:45:33] GPU : 13.28 W during 15.01 s [measurement time: 0.0023]\n",
      "[codecarbon INFO @ 12:45:33] 0.085754 kWh of electricity used since the beginning.\n",
      "[codecarbon DEBUG @ 12:45:33] last_duration=14.982020999999804\n",
      "------------------------\n"
     ]
    },
    {
     "name": "stdout",
     "output_type": "stream",
     "text": [
      "[286/1000] ./test/pdf/801.pdf\n"
     ]
    },
    {
     "name": "stderr",
     "output_type": "stream",
     "text": [
      "[codecarbon INFO @ 12:45:48] Energy consumed for RAM : 0.000134 kWh. RAM Power : 0.08818387985229492 W\n",
      "[codecarbon DEBUG @ 12:45:48] RAM : 0.09 W during 14.97 s [measurement time: 0.0139]\n",
      "[codecarbon INFO @ 12:45:48] Energy consumed for all CPUs : 0.064793 kWh. Total CPU Power : 42.5 W\n",
      "[codecarbon DEBUG @ 12:45:48] CPU : 42.50 W during 14.99 s [measurement time: 0.0003]\n",
      "[codecarbon INFO @ 12:45:48] Energy consumed for all GPUs : 0.021060 kWh. Total GPU Power : 13.41816840783595 W\n",
      "[codecarbon DEBUG @ 12:45:48] GPU : 13.42 W during 14.99 s [measurement time: 0.0021]\n",
      "[codecarbon INFO @ 12:45:48] 0.085987 kWh of electricity used since the beginning.\n",
      "[codecarbon DEBUG @ 12:45:48] last_duration=14.970399087999795\n",
      "------------------------\n",
      "[codecarbon INFO @ 12:46:03] Energy consumed for RAM : 0.000134 kWh. RAM Power : 0.08818387985229492 W\n",
      "[codecarbon DEBUG @ 12:46:03] RAM : 0.09 W during 14.98 s [measurement time: 0.0106]\n",
      "[codecarbon INFO @ 12:46:03] Energy consumed for all CPUs : 0.064970 kWh. Total CPU Power : 42.5 W\n",
      "[codecarbon DEBUG @ 12:46:03] CPU : 42.50 W during 15.00 s [measurement time: 0.0004]\n",
      "[codecarbon INFO @ 12:46:03] Energy consumed for all GPUs : 0.021118 kWh. Total GPU Power : 13.79663454667836 W\n",
      "[codecarbon DEBUG @ 12:46:03] GPU : 13.80 W during 15.00 s [measurement time: 0.0018]\n",
      "[codecarbon INFO @ 12:46:03] 0.086222 kWh of electricity used since the beginning.\n",
      "[codecarbon DEBUG @ 12:46:03] last_duration=14.979084888000216\n",
      "------------------------\n"
     ]
    },
    {
     "name": "stdout",
     "output_type": "stream",
     "text": [
      "[287/1000] ./test/pdf/802.pdf\n"
     ]
    },
    {
     "name": "stderr",
     "output_type": "stream",
     "text": [
      "[codecarbon INFO @ 12:46:18] Energy consumed for RAM : 0.000135 kWh. RAM Power : 0.08818387985229492 W\n",
      "[codecarbon DEBUG @ 12:46:18] RAM : 0.09 W during 14.98 s [measurement time: 0.0137]\n",
      "[codecarbon INFO @ 12:46:18] Energy consumed for all CPUs : 0.065147 kWh. Total CPU Power : 42.5 W\n",
      "[codecarbon DEBUG @ 12:46:18] CPU : 42.50 W during 15.01 s [measurement time: 0.0008]\n",
      "[codecarbon INFO @ 12:46:18] Energy consumed for all GPUs : 0.021173 kWh. Total GPU Power : 13.34658061860616 W\n",
      "[codecarbon DEBUG @ 12:46:18] GPU : 13.35 W during 15.01 s [measurement time: 0.0021]\n",
      "[codecarbon INFO @ 12:46:18] 0.086455 kWh of electricity used since the beginning.\n",
      "[codecarbon DEBUG @ 12:46:18] We apply an energy mix of 174 g.CO2eq/kWh for Spain\n",
      "[codecarbon DEBUG @ 12:46:18] EmissionsData(timestamp='2025-04-13T12:46:18', project_name='codecarbon', run_id='868e486c-ef2f-47f1-8b33-54ddf9c190fd', experiment_id='5b0fa12a-3dd7-45bb-9766-cc326314d9f1', duration=5520.337324546001, emissions=0.01504754653423903, emissions_rate=2.7258382322635615e-06, cpu_power=42.5, gpu_power=13.34658061860616, ram_power=0.08818387985229492, cpu_energy=0.06514726245540829, gpu_energy=0.021173398327594, ram_energy=0.00013464823302188785, energy_consumed=0.0864553090160243, country_name='Spain', country_iso_code='ESP', region=None, cloud_provider='', cloud_region='', os='Linux-6.8.0-57-generic-x86_64-with-glibc2.35', python_version='3.12.9', codecarbon_version='2.8.3', cpu_count=32, cpu_model='13th Gen Intel(R) Core(TM) i9-13900', gpu_count=1, gpu_model='1 x NVIDIA RTX 5000 Ada Generation', longitude=None, latitude=None, ram_total_size=62.50331497192383, tracking_mode='process', on_cloud='N', pue=1.0)\n",
      "[codecarbon INFO @ 12:46:18] 0.002711 g.CO2eq/s mean an estimation of 85.50306147922926 kg.CO2eq/year\n",
      "[codecarbon DEBUG @ 12:46:18] last_duration=14.980167167000218\n",
      "------------------------\n"
     ]
    },
    {
     "name": "stdout",
     "output_type": "stream",
     "text": [
      "[288/1000] ./test/pdf/803.pdf\n"
     ]
    },
    {
     "name": "stderr",
     "output_type": "stream",
     "text": [
      "[codecarbon INFO @ 12:46:33] Energy consumed for RAM : 0.000135 kWh. RAM Power : 0.08818387985229492 W\n",
      "[codecarbon DEBUG @ 12:46:33] RAM : 0.09 W during 14.97 s [measurement time: 0.0145]\n",
      "[codecarbon INFO @ 12:46:33] Energy consumed for all CPUs : 0.065324 kWh. Total CPU Power : 42.5 W\n",
      "[codecarbon DEBUG @ 12:46:33] CPU : 42.50 W during 14.99 s [measurement time: 0.0005]\n",
      "[codecarbon INFO @ 12:46:33] Energy consumed for all GPUs : 0.021228 kWh. Total GPU Power : 13.031802381768781 W\n",
      "[codecarbon DEBUG @ 12:46:33] GPU : 13.03 W during 14.99 s [measurement time: 0.0026]\n",
      "[codecarbon INFO @ 12:46:33] 0.086687 kWh of electricity used since the beginning.\n",
      "[codecarbon DEBUG @ 12:46:33] last_duration=14.970811960999526\n",
      "------------------------\n",
      "[codecarbon INFO @ 12:46:48] Energy consumed for RAM : 0.000135 kWh. RAM Power : 0.08818387985229492 W\n",
      "[codecarbon DEBUG @ 12:46:48] RAM : 0.09 W during 14.97 s [measurement time: 0.0100]\n",
      "[codecarbon INFO @ 12:46:48] Energy consumed for all CPUs : 0.065501 kWh. Total CPU Power : 42.5 W\n",
      "[codecarbon DEBUG @ 12:46:48] CPU : 42.50 W during 14.99 s [measurement time: 0.0006]\n",
      "[codecarbon INFO @ 12:46:48] Energy consumed for all GPUs : 0.021281 kWh. Total GPU Power : 12.902980531853155 W\n",
      "[codecarbon DEBUG @ 12:46:48] GPU : 12.90 W during 14.99 s [measurement time: 0.0035]\n",
      "[codecarbon INFO @ 12:46:48] 0.086918 kWh of electricity used since the beginning.\n",
      "[codecarbon DEBUG @ 12:46:48] last_duration=14.974610358000064\n",
      "------------------------\n"
     ]
    },
    {
     "name": "stdout",
     "output_type": "stream",
     "text": [
      "[289/1000] ./test/pdf/804.pdf\n"
     ]
    },
    {
     "name": "stderr",
     "output_type": "stream",
     "text": [
      "[codecarbon INFO @ 12:47:03] Energy consumed for RAM : 0.000136 kWh. RAM Power : 0.08818387985229492 W\n",
      "[codecarbon DEBUG @ 12:47:03] RAM : 0.09 W during 14.98 s [measurement time: 0.0144]\n",
      "[codecarbon INFO @ 12:47:03] Energy consumed for all CPUs : 0.065678 kWh. Total CPU Power : 42.5 W\n",
      "[codecarbon DEBUG @ 12:47:03] CPU : 42.50 W during 15.00 s [measurement time: 0.0004]\n",
      "[codecarbon INFO @ 12:47:03] Energy consumed for all GPUs : 0.021342 kWh. Total GPU Power : 14.431453576072942 W\n",
      "[codecarbon DEBUG @ 12:47:03] GPU : 14.43 W during 15.00 s [measurement time: 0.0020]\n",
      "[codecarbon INFO @ 12:47:03] 0.087156 kWh of electricity used since the beginning.\n",
      "[codecarbon DEBUG @ 12:47:03] last_duration=14.978337847000148\n",
      "------------------------\n"
     ]
    },
    {
     "name": "stdout",
     "output_type": "stream",
     "text": [
      "[290/1000] ./test/pdf/805.pdf\n"
     ]
    },
    {
     "name": "stderr",
     "output_type": "stream",
     "text": [
      "[codecarbon INFO @ 12:47:18] Energy consumed for RAM : 0.000136 kWh. RAM Power : 0.08818387985229492 W\n",
      "[codecarbon DEBUG @ 12:47:18] RAM : 0.09 W during 14.98 s [measurement time: 0.0143]\n",
      "[codecarbon INFO @ 12:47:18] Energy consumed for all CPUs : 0.065855 kWh. Total CPU Power : 42.5 W\n",
      "[codecarbon DEBUG @ 12:47:18] CPU : 42.50 W during 15.00 s [measurement time: 0.0006]\n",
      "[codecarbon INFO @ 12:47:18] Energy consumed for all GPUs : 0.021398 kWh. Total GPU Power : 13.50610286304187 W\n",
      "[codecarbon DEBUG @ 12:47:18] GPU : 13.51 W during 15.00 s [measurement time: 0.0043]\n",
      "[codecarbon INFO @ 12:47:18] 0.087389 kWh of electricity used since the beginning.\n",
      "[codecarbon DEBUG @ 12:47:18] last_duration=14.977622319000147\n",
      "------------------------\n"
     ]
    },
    {
     "name": "stdout",
     "output_type": "stream",
     "text": [
      "[291/1000] ./test/pdf/806.pdf\n"
     ]
    },
    {
     "name": "stderr",
     "output_type": "stream",
     "text": [
      "[codecarbon INFO @ 12:47:33] Energy consumed for RAM : 0.000136 kWh. RAM Power : 0.08818387985229492 W\n",
      "[codecarbon DEBUG @ 12:47:33] RAM : 0.09 W during 14.97 s [measurement time: 0.0148]\n",
      "[codecarbon INFO @ 12:47:33] Energy consumed for all CPUs : 0.066032 kWh. Total CPU Power : 42.5 W\n",
      "[codecarbon DEBUG @ 12:47:33] CPU : 42.50 W during 14.99 s [measurement time: 0.0004]\n",
      "[codecarbon INFO @ 12:47:33] Energy consumed for all GPUs : 0.021457 kWh. Total GPU Power : 14.11864273459814 W\n",
      "[codecarbon DEBUG @ 12:47:33] GPU : 14.12 W during 15.00 s [measurement time: 0.0026]\n",
      "[codecarbon INFO @ 12:47:33] 0.087625 kWh of electricity used since the beginning.\n",
      "[codecarbon DEBUG @ 12:47:33] last_duration=14.973972988000241\n",
      "------------------------\n"
     ]
    },
    {
     "name": "stdout",
     "output_type": "stream",
     "text": [
      "[292/1000] ./test/pdf/807.pdf\n"
     ]
    },
    {
     "name": "stderr",
     "output_type": "stream",
     "text": [
      "[codecarbon INFO @ 12:47:48] Energy consumed for RAM : 0.000137 kWh. RAM Power : 0.08818387985229492 W\n",
      "[codecarbon DEBUG @ 12:47:48] RAM : 0.09 W during 14.98 s [measurement time: 0.0139]\n",
      "[codecarbon INFO @ 12:47:48] Energy consumed for all CPUs : 0.066209 kWh. Total CPU Power : 42.5 W\n",
      "[codecarbon DEBUG @ 12:47:48] CPU : 42.50 W during 15.00 s [measurement time: 0.0012]\n",
      "[codecarbon INFO @ 12:47:48] Energy consumed for all GPUs : 0.021513 kWh. Total GPU Power : 13.481746088953509 W\n",
      "[codecarbon DEBUG @ 12:47:48] GPU : 13.48 W during 15.00 s [measurement time: 0.0067]\n",
      "[codecarbon INFO @ 12:47:48] 0.087859 kWh of electricity used since the beginning.\n",
      "[codecarbon DEBUG @ 12:47:48] last_duration=14.97617842300042\n",
      "------------------------\n"
     ]
    },
    {
     "name": "stdout",
     "output_type": "stream",
     "text": [
      "[293/1000] ./test/pdf/808.pdf\n"
     ]
    },
    {
     "name": "stderr",
     "output_type": "stream",
     "text": [
      "[codecarbon INFO @ 12:48:03] Energy consumed for RAM : 0.000137 kWh. RAM Power : 0.08818387985229492 W\n",
      "[codecarbon DEBUG @ 12:48:03] RAM : 0.09 W during 14.97 s [measurement time: 0.0133]\n",
      "[codecarbon INFO @ 12:48:03] Energy consumed for all CPUs : 0.066386 kWh. Total CPU Power : 42.5 W\n",
      "[codecarbon DEBUG @ 12:48:03] CPU : 42.50 W during 14.99 s [measurement time: 0.0004]\n",
      "[codecarbon INFO @ 12:48:03] Energy consumed for all GPUs : 0.021570 kWh. Total GPU Power : 13.70123717195223 W\n",
      "[codecarbon DEBUG @ 12:48:03] GPU : 13.70 W during 14.99 s [measurement time: 0.0083]\n",
      "[codecarbon INFO @ 12:48:03] 0.088093 kWh of electricity used since the beginning.\n",
      "[codecarbon DEBUG @ 12:48:03] last_duration=14.966965190999872\n",
      "------------------------\n"
     ]
    },
    {
     "name": "stdout",
     "output_type": "stream",
     "text": [
      "[294/1000] ./test/pdf/809.pdf\n"
     ]
    },
    {
     "name": "stderr",
     "output_type": "stream",
     "text": [
      "[codecarbon INFO @ 12:48:18] Energy consumed for RAM : 0.000138 kWh. RAM Power : 0.08818387985229492 W\n",
      "[codecarbon DEBUG @ 12:48:18] RAM : 0.09 W during 14.97 s [measurement time: 0.0110]\n",
      "[codecarbon INFO @ 12:48:18] Energy consumed for all CPUs : 0.066563 kWh. Total CPU Power : 42.5 W\n",
      "[codecarbon DEBUG @ 12:48:18] CPU : 42.50 W during 14.99 s [measurement time: 0.0006]\n",
      "[codecarbon INFO @ 12:48:18] Energy consumed for all GPUs : 0.021626 kWh. Total GPU Power : 13.492869278186815 W\n",
      "[codecarbon DEBUG @ 12:48:18] GPU : 13.49 W during 14.99 s [measurement time: 0.0053]\n",
      "[codecarbon INFO @ 12:48:18] 0.088327 kWh of electricity used since the beginning.\n",
      "[codecarbon DEBUG @ 12:48:18] We apply an energy mix of 174 g.CO2eq/kWh for Spain\n",
      "[codecarbon DEBUG @ 12:48:18] EmissionsData(timestamp='2025-04-13T12:48:18', project_name='codecarbon', run_id='868e486c-ef2f-47f1-8b33-54ddf9c190fd', experiment_id='5b0fa12a-3dd7-45bb-9766-cc326314d9f1', duration=5640.336794909001, emissions=0.015373299567043645, emissions_rate=2.725599574287775e-06, cpu_power=42.5, gpu_power=13.492869278186815, ram_power=0.08818387985229492, cpu_energy=0.0665633179914833, gpu_energy=0.02162601452302, ram_energy=0.00013758255038393615, energy_consumed=0.08832691506488735, country_name='Spain', country_iso_code='ESP', region=None, cloud_provider='', cloud_region='', os='Linux-6.8.0-57-generic-x86_64-with-glibc2.35', python_version='3.12.9', codecarbon_version='2.8.3', cpu_count=32, cpu_model='13th Gen Intel(R) Core(TM) i9-13900', gpu_count=1, gpu_model='1 x NVIDIA RTX 5000 Ada Generation', longitude=None, latitude=None, ram_total_size=62.50331497192383, tracking_mode='process', on_cloud='N', pue=1.0)\n",
      "[codecarbon INFO @ 12:48:18] 0.002715 g.CO2eq/s mean an estimation of 85.60827486530171 kg.CO2eq/year\n",
      "[codecarbon DEBUG @ 12:48:18] last_duration=14.971356353999909\n",
      "------------------------\n",
      "[codecarbon INFO @ 12:48:33] Energy consumed for RAM : 0.000138 kWh. RAM Power : 0.08818387985229492 W\n",
      "[codecarbon DEBUG @ 12:48:33] RAM : 0.09 W during 14.98 s [measurement time: 0.0164]\n",
      "[codecarbon INFO @ 12:48:33] Energy consumed for all CPUs : 0.066740 kWh. Total CPU Power : 42.5 W\n",
      "[codecarbon DEBUG @ 12:48:33] CPU : 42.50 W during 15.00 s [measurement time: 0.0002]\n",
      "[codecarbon INFO @ 12:48:33] Energy consumed for all GPUs : 0.021685 kWh. Total GPU Power : 14.114410509524014 W\n",
      "[codecarbon DEBUG @ 12:48:33] GPU : 14.11 W during 15.00 s [measurement time: 0.0025]\n",
      "[codecarbon INFO @ 12:48:33] 0.088563 kWh of electricity used since the beginning.\n",
      "[codecarbon DEBUG @ 12:48:33] last_duration=14.978579468000135\n",
      "------------------------\n"
     ]
    },
    {
     "name": "stdout",
     "output_type": "stream",
     "text": [
      "[295/1000] ./test/pdf/81.pdf\n"
     ]
    },
    {
     "name": "stderr",
     "output_type": "stream",
     "text": [
      "[codecarbon INFO @ 12:48:48] Energy consumed for RAM : 0.000138 kWh. RAM Power : 0.08818387985229492 W\n",
      "[codecarbon DEBUG @ 12:48:48] RAM : 0.09 W during 14.97 s [measurement time: 0.0125]\n",
      "[codecarbon INFO @ 12:48:48] Energy consumed for all CPUs : 0.066918 kWh. Total CPU Power : 42.5 W\n",
      "[codecarbon DEBUG @ 12:48:48] CPU : 42.50 W during 15.00 s [measurement time: 0.0007]\n",
      "[codecarbon INFO @ 12:48:48] Energy consumed for all GPUs : 0.021741 kWh. Total GPU Power : 13.572496627588418 W\n",
      "[codecarbon DEBUG @ 12:48:48] GPU : 13.57 W during 15.00 s [measurement time: 0.0030]\n",
      "[codecarbon INFO @ 12:48:48] 0.088797 kWh of electricity used since the beginning.\n",
      "[codecarbon DEBUG @ 12:48:48] last_duration=14.974084000999937\n",
      "------------------------\n"
     ]
    },
    {
     "name": "stdout",
     "output_type": "stream",
     "text": [
      "[296/1000] ./test/pdf/810.pdf\n"
     ]
    },
    {
     "name": "stderr",
     "output_type": "stream",
     "text": [
      "[codecarbon INFO @ 12:49:03] Energy consumed for RAM : 0.000139 kWh. RAM Power : 0.08818387985229492 W\n",
      "[codecarbon DEBUG @ 12:49:03] RAM : 0.09 W during 14.97 s [measurement time: 0.0104]\n",
      "[codecarbon INFO @ 12:49:03] Energy consumed for all CPUs : 0.067094 kWh. Total CPU Power : 42.5 W\n",
      "[codecarbon DEBUG @ 12:49:03] CPU : 42.50 W during 14.99 s [measurement time: 0.0007]\n",
      "[codecarbon INFO @ 12:49:03] Energy consumed for all GPUs : 0.021799 kWh. Total GPU Power : 13.804437958177818 W\n",
      "[codecarbon DEBUG @ 12:49:03] GPU : 13.80 W during 14.99 s [measurement time: 0.0034]\n",
      "[codecarbon INFO @ 12:49:03] 0.089032 kWh of electricity used since the beginning.\n",
      "[codecarbon DEBUG @ 12:49:03] last_duration=14.970472954999423\n",
      "------------------------\n",
      "[codecarbon INFO @ 12:49:18] Energy consumed for RAM : 0.000139 kWh. RAM Power : 0.08818387985229492 W\n",
      "[codecarbon DEBUG @ 12:49:18] RAM : 0.09 W during 14.97 s [measurement time: 0.0140]\n",
      "[codecarbon INFO @ 12:49:18] Energy consumed for all CPUs : 0.067272 kWh. Total CPU Power : 42.5 W\n",
      "[codecarbon DEBUG @ 12:49:18] CPU : 42.50 W during 15.00 s [measurement time: 0.0008]\n",
      "[codecarbon INFO @ 12:49:18] Energy consumed for all GPUs : 0.021858 kWh. Total GPU Power : 14.250306927961097 W\n",
      "[codecarbon DEBUG @ 12:49:18] GPU : 14.25 W during 15.00 s [measurement time: 0.0020]\n",
      "[codecarbon INFO @ 12:49:18] 0.089269 kWh of electricity used since the beginning.\n",
      "[codecarbon DEBUG @ 12:49:18] last_duration=14.974328394999247\n",
      "------------------------\n"
     ]
    },
    {
     "name": "stdout",
     "output_type": "stream",
     "text": [
      "[297/1000] ./test/pdf/811.pdf\n"
     ]
    },
    {
     "name": "stderr",
     "output_type": "stream",
     "text": [
      "[codecarbon INFO @ 12:49:33] Energy consumed for RAM : 0.000139 kWh. RAM Power : 0.08818387985229492 W\n",
      "[codecarbon DEBUG @ 12:49:33] RAM : 0.09 W during 14.97 s [measurement time: 0.0122]\n",
      "[codecarbon INFO @ 12:49:33] Energy consumed for all CPUs : 0.067449 kWh. Total CPU Power : 42.5 W\n",
      "[codecarbon DEBUG @ 12:49:33] CPU : 42.50 W during 14.99 s [measurement time: 0.0007]\n",
      "[codecarbon INFO @ 12:49:33] Energy consumed for all GPUs : 0.021914 kWh. Total GPU Power : 13.264594055775309 W\n",
      "[codecarbon DEBUG @ 12:49:33] GPU : 13.26 W during 14.99 s [measurement time: 0.0018]\n",
      "[codecarbon INFO @ 12:49:33] 0.089501 kWh of electricity used since the beginning.\n",
      "[codecarbon DEBUG @ 12:49:33] last_duration=14.970473203999973\n",
      "------------------------\n",
      "[codecarbon INFO @ 12:49:48] Energy consumed for RAM : 0.000140 kWh. RAM Power : 0.08818387985229492 W\n",
      "[codecarbon DEBUG @ 12:49:48] RAM : 0.09 W during 14.98 s [measurement time: 0.0111]\n",
      "[codecarbon INFO @ 12:49:48] Energy consumed for all CPUs : 0.067626 kWh. Total CPU Power : 42.5 W\n",
      "[codecarbon DEBUG @ 12:49:48] CPU : 42.50 W during 15.00 s [measurement time: 0.0008]\n",
      "[codecarbon INFO @ 12:49:48] Energy consumed for all GPUs : 0.021968 kWh. Total GPU Power : 13.172077514046435 W\n",
      "[codecarbon DEBUG @ 12:49:48] GPU : 13.17 W during 15.00 s [measurement time: 0.0064]\n",
      "[codecarbon INFO @ 12:49:48] 0.089734 kWh of electricity used since the beginning.\n",
      "[codecarbon DEBUG @ 12:49:48] last_duration=14.975751150000178\n",
      "------------------------\n"
     ]
    },
    {
     "name": "stdout",
     "output_type": "stream",
     "text": [
      "[298/1000] ./test/pdf/812.pdf\n"
     ]
    },
    {
     "name": "stderr",
     "output_type": "stream",
     "text": [
      "[codecarbon INFO @ 12:50:03] Energy consumed for RAM : 0.000140 kWh. RAM Power : 0.08818387985229492 W\n",
      "[codecarbon DEBUG @ 12:50:03] RAM : 0.09 W during 14.97 s [measurement time: 0.0105]\n",
      "[codecarbon INFO @ 12:50:03] Energy consumed for all CPUs : 0.067803 kWh. Total CPU Power : 42.5 W\n",
      "[codecarbon DEBUG @ 12:50:03] CPU : 42.50 W during 14.99 s [measurement time: 0.0009]\n",
      "[codecarbon INFO @ 12:50:03] Energy consumed for all GPUs : 0.022027 kWh. Total GPU Power : 14.140294087621008 W\n",
      "[codecarbon DEBUG @ 12:50:03] GPU : 14.14 W during 14.99 s [measurement time: 0.0030]\n",
      "[codecarbon INFO @ 12:50:03] 0.089970 kWh of electricity used since the beginning.\n",
      "[codecarbon DEBUG @ 12:50:03] last_duration=14.970302903999254\n",
      "------------------------\n"
     ]
    },
    {
     "name": "stdout",
     "output_type": "stream",
     "text": [
      "[299/1000] ./test/pdf/813.pdf\n"
     ]
    },
    {
     "name": "stderr",
     "output_type": "stream",
     "text": [
      "[codecarbon INFO @ 12:50:18] Energy consumed for RAM : 0.000141 kWh. RAM Power : 0.08818387985229492 W\n",
      "[codecarbon DEBUG @ 12:50:18] RAM : 0.09 W during 14.98 s [measurement time: 0.0129]\n",
      "[codecarbon INFO @ 12:50:18] Energy consumed for all CPUs : 0.067980 kWh. Total CPU Power : 42.5 W\n",
      "[codecarbon DEBUG @ 12:50:18] CPU : 42.50 W during 15.01 s [measurement time: 0.0006]\n",
      "[codecarbon INFO @ 12:50:18] Energy consumed for all GPUs : 0.022086 kWh. Total GPU Power : 14.053752693122878 W\n",
      "[codecarbon DEBUG @ 12:50:18] GPU : 14.05 W during 15.01 s [measurement time: 0.0063]\n",
      "[codecarbon INFO @ 12:50:18] 0.090206 kWh of electricity used since the beginning.\n",
      "[codecarbon DEBUG @ 12:50:18] We apply an energy mix of 174 g.CO2eq/kWh for Spain\n",
      "[codecarbon DEBUG @ 12:50:18] EmissionsData(timestamp='2025-04-13T12:50:18', project_name='codecarbon', run_id='868e486c-ef2f-47f1-8b33-54ddf9c190fd', experiment_id='5b0fa12a-3dd7-45bb-9766-cc326314d9f1', duration=5760.358567315, emissions=0.01570036656151524, emissions_rate=2.7255884122563305e-06, cpu_power=42.5, gpu_power=14.053752693122878, ram_power=0.08818387985229492, cpu_energy=0.06797970589511315, gpu_energy=0.022085847668664, ram_energy=0.00014051688445736854, energy_consumed=0.09020607044823464, country_name='Spain', country_iso_code='ESP', region=None, cloud_provider='', cloud_region='', os='Linux-6.8.0-57-generic-x86_64-with-glibc2.35', python_version='3.12.9', codecarbon_version='2.8.3', cpu_count=32, cpu_model='13th Gen Intel(R) Core(TM) i9-13900', gpu_count=1, gpu_model='1 x NVIDIA RTX 5000 Ada Generation', longitude=None, latitude=None, ram_total_size=62.50331497192383, tracking_mode='process', on_cloud='N', pue=1.0)\n",
      "[codecarbon INFO @ 12:50:18] 0.002725 g.CO2eq/s mean an estimation of 85.93761390863015 kg.CO2eq/year\n",
      "[codecarbon DEBUG @ 12:50:18] last_duration=14.976558900999407\n",
      "------------------------\n"
     ]
    },
    {
     "name": "stdout",
     "output_type": "stream",
     "text": [
      "[300/1000] ./test/pdf/814.pdf\n"
     ]
    },
    {
     "name": "stderr",
     "output_type": "stream",
     "text": [
      "[codecarbon INFO @ 12:50:33] Energy consumed for RAM : 0.000141 kWh. RAM Power : 0.08818387985229492 W\n",
      "[codecarbon DEBUG @ 12:50:33] RAM : 0.09 W during 14.96 s [measurement time: 0.0137]\n",
      "[codecarbon INFO @ 12:50:33] Energy consumed for all CPUs : 0.068157 kWh. Total CPU Power : 42.5 W\n",
      "[codecarbon DEBUG @ 12:50:33] CPU : 42.50 W during 14.99 s [measurement time: 0.0012]\n",
      "[codecarbon INFO @ 12:50:33] Energy consumed for all GPUs : 0.022142 kWh. Total GPU Power : 13.509079482802505 W\n",
      "[codecarbon DEBUG @ 12:50:33] GPU : 13.51 W during 14.99 s [measurement time: 0.0026]\n",
      "[codecarbon INFO @ 12:50:33] 0.090440 kWh of electricity used since the beginning.\n",
      "[codecarbon DEBUG @ 12:50:33] last_duration=14.964553353000156\n",
      "------------------------\n"
     ]
    },
    {
     "name": "stdout",
     "output_type": "stream",
     "text": [
      "[301/1000] ./test/pdf/815.pdf\n"
     ]
    },
    {
     "name": "stderr",
     "output_type": "stream",
     "text": [
      "[codecarbon INFO @ 12:50:48] Energy consumed for RAM : 0.000141 kWh. RAM Power : 0.08818387985229492 W\n",
      "[codecarbon DEBUG @ 12:50:48] RAM : 0.09 W during 14.97 s [measurement time: 0.0108]\n",
      "[codecarbon INFO @ 12:50:48] Energy consumed for all CPUs : 0.068334 kWh. Total CPU Power : 42.5 W\n",
      "[codecarbon DEBUG @ 12:50:48] CPU : 42.50 W during 14.99 s [measurement time: 0.0004]\n",
      "[codecarbon INFO @ 12:50:48] Energy consumed for all GPUs : 0.022196 kWh. Total GPU Power : 12.85768815137177 W\n",
      "[codecarbon DEBUG @ 12:50:48] GPU : 12.86 W during 14.99 s [measurement time: 0.0075]\n",
      "[codecarbon INFO @ 12:50:48] 0.090670 kWh of electricity used since the beginning.\n",
      "[codecarbon DEBUG @ 12:50:48] last_duration=14.971706283999993\n",
      "------------------------\n",
      "[codecarbon INFO @ 12:51:03] Energy consumed for RAM : 0.000142 kWh. RAM Power : 0.08818387985229492 W\n",
      "[codecarbon DEBUG @ 12:51:03] RAM : 0.09 W during 14.97 s [measurement time: 0.0136]\n",
      "[codecarbon INFO @ 12:51:03] Energy consumed for all CPUs : 0.068511 kWh. Total CPU Power : 42.5 W\n",
      "[codecarbon DEBUG @ 12:51:03] CPU : 42.50 W during 15.00 s [measurement time: 0.0008]\n",
      "[codecarbon INFO @ 12:51:03] Energy consumed for all GPUs : 0.022255 kWh. Total GPU Power : 14.218165245958847 W\n",
      "[codecarbon DEBUG @ 12:51:03] GPU : 14.22 W during 15.01 s [measurement time: 0.0024]\n",
      "[codecarbon INFO @ 12:51:03] 0.090907 kWh of electricity used since the beginning.\n",
      "[codecarbon DEBUG @ 12:51:03] last_duration=14.974794388999726\n",
      "------------------------\n",
      "[codecarbon INFO @ 12:51:18] Energy consumed for RAM : 0.000142 kWh. RAM Power : 0.08818387985229492 W\n",
      "[codecarbon DEBUG @ 12:51:18] RAM : 0.09 W during 14.97 s [measurement time: 0.0148]\n",
      "[codecarbon INFO @ 12:51:18] Energy consumed for all CPUs : 0.068688 kWh. Total CPU Power : 42.5 W\n",
      "[codecarbon DEBUG @ 12:51:18] CPU : 42.50 W during 14.99 s [measurement time: 0.0004]\n",
      "[codecarbon INFO @ 12:51:18] Energy consumed for all GPUs : 0.022306 kWh. Total GPU Power : 12.351191718775564 W\n",
      "[codecarbon DEBUG @ 12:51:18] GPU : 12.35 W during 14.99 s [measurement time: 0.0022]\n",
      "[codecarbon INFO @ 12:51:18] 0.091136 kWh of electricity used since the beginning.\n",
      "[codecarbon DEBUG @ 12:51:18] last_duration=14.966129249000005\n",
      "------------------------\n"
     ]
    },
    {
     "name": "stdout",
     "output_type": "stream",
     "text": [
      "[302/1000] ./test/pdf/816.pdf\n"
     ]
    },
    {
     "name": "stderr",
     "output_type": "stream",
     "text": [
      "[codecarbon INFO @ 12:51:33] Energy consumed for RAM : 0.000142 kWh. RAM Power : 0.08818387985229492 W\n",
      "[codecarbon DEBUG @ 12:51:33] RAM : 0.09 W during 14.97 s [measurement time: 0.0109]\n",
      "[codecarbon INFO @ 12:51:33] Energy consumed for all CPUs : 0.068865 kWh. Total CPU Power : 42.5 W\n",
      "[codecarbon DEBUG @ 12:51:33] CPU : 42.50 W during 14.99 s [measurement time: 0.0005]\n",
      "[codecarbon INFO @ 12:51:33] Energy consumed for all GPUs : 0.022361 kWh. Total GPU Power : 13.0721105639866 W\n",
      "[codecarbon DEBUG @ 12:51:33] GPU : 13.07 W during 14.99 s [measurement time: 0.0025]\n",
      "[codecarbon INFO @ 12:51:33] 0.091368 kWh of electricity used since the beginning.\n",
      "[codecarbon DEBUG @ 12:51:33] last_duration=14.971793994000109\n",
      "------------------------\n",
      "[codecarbon INFO @ 12:51:48] Energy consumed for RAM : 0.000143 kWh. RAM Power : 0.08818387985229492 W\n",
      "[codecarbon DEBUG @ 12:51:48] RAM : 0.09 W during 14.98 s [measurement time: 0.0132]\n",
      "[codecarbon INFO @ 12:51:48] Energy consumed for all CPUs : 0.069042 kWh. Total CPU Power : 42.5 W\n",
      "[codecarbon DEBUG @ 12:51:48] CPU : 42.50 W during 14.99 s [measurement time: 0.0003]\n",
      "[codecarbon INFO @ 12:51:48] Energy consumed for all GPUs : 0.022412 kWh. Total GPU Power : 12.194060292989416 W\n",
      "[codecarbon DEBUG @ 12:51:48] GPU : 12.19 W during 14.99 s [measurement time: 0.0027]\n",
      "[codecarbon INFO @ 12:51:48] 0.091596 kWh of electricity used since the beginning.\n",
      "[codecarbon DEBUG @ 12:51:48] last_duration=14.976780405999307\n",
      "------------------------\n"
     ]
    },
    {
     "name": "stdout",
     "output_type": "stream",
     "text": [
      "[303/1000] ./test/pdf/817.pdf\n"
     ]
    },
    {
     "name": "stderr",
     "output_type": "stream",
     "text": [
      "[codecarbon INFO @ 12:52:03] Energy consumed for RAM : 0.000143 kWh. RAM Power : 0.08818387985229492 W\n",
      "[codecarbon DEBUG @ 12:52:03] RAM : 0.09 W during 14.98 s [measurement time: 0.0121]\n",
      "[codecarbon INFO @ 12:52:03] Energy consumed for all CPUs : 0.069219 kWh. Total CPU Power : 42.5 W\n",
      "[codecarbon DEBUG @ 12:52:03] CPU : 42.50 W during 15.01 s [measurement time: 0.0008]\n",
      "[codecarbon INFO @ 12:52:03] Energy consumed for all GPUs : 0.022469 kWh. Total GPU Power : 13.865955759781528 W\n",
      "[codecarbon DEBUG @ 12:52:03] GPU : 13.87 W during 15.01 s [measurement time: 0.0025]\n",
      "[codecarbon INFO @ 12:52:03] 0.091831 kWh of electricity used since the beginning.\n",
      "[codecarbon DEBUG @ 12:52:03] last_duration=14.979514959999506\n",
      "------------------------\n"
     ]
    },
    {
     "name": "stdout",
     "output_type": "stream",
     "text": [
      "[304/1000] ./test/pdf/818.pdf\n"
     ]
    },
    {
     "name": "stderr",
     "output_type": "stream",
     "text": [
      "[codecarbon INFO @ 12:52:18] Energy consumed for RAM : 0.000143 kWh. RAM Power : 0.08818387985229492 W\n",
      "[codecarbon DEBUG @ 12:52:18] RAM : 0.09 W during 14.97 s [measurement time: 0.0124]\n",
      "[codecarbon INFO @ 12:52:18] Energy consumed for all CPUs : 0.069396 kWh. Total CPU Power : 42.5 W\n",
      "[codecarbon DEBUG @ 12:52:18] CPU : 42.50 W during 15.00 s [measurement time: 0.0007]\n",
      "[codecarbon INFO @ 12:52:18] Energy consumed for all GPUs : 0.022528 kWh. Total GPU Power : 14.100024207376292 W\n",
      "[codecarbon DEBUG @ 12:52:18] GPU : 14.10 W during 15.00 s [measurement time: 0.0043]\n",
      "[codecarbon INFO @ 12:52:18] 0.092067 kWh of electricity used since the beginning.\n",
      "[codecarbon DEBUG @ 12:52:18] We apply an energy mix of 174 g.CO2eq/kWh for Spain\n",
      "[codecarbon DEBUG @ 12:52:18] EmissionsData(timestamp='2025-04-13T12:52:18', project_name='codecarbon', run_id='868e486c-ef2f-47f1-8b33-54ddf9c190fd', experiment_id='5b0fa12a-3dd7-45bb-9766-cc326314d9f1', duration=5880.3645891450005, emissions=0.016024344558546788, emissions_rate=2.7250596992110505e-06, cpu_power=42.5, gpu_power=14.100024207376292, ram_power=0.08818387985229492, cpu_energy=0.06939591145343744, gpu_energy=0.022528115800255998, ram_energy=0.00014345081896822062, energy_consumed=0.0920674780726618, country_name='Spain', country_iso_code='ESP', region=None, cloud_provider='', cloud_region='', os='Linux-6.8.0-57-generic-x86_64-with-glibc2.35', python_version='3.12.9', codecarbon_version='2.8.3', cpu_count=32, cpu_model='13th Gen Intel(R) Core(TM) i9-13900', gpu_count=1, gpu_model='1 x NVIDIA RTX 5000 Ada Generation', longitude=None, latitude=None, ram_total_size=62.50331497192383, tracking_mode='process', on_cloud='N', pue=1.0)\n",
      "[codecarbon INFO @ 12:52:18] 0.002700 g.CO2eq/s mean an estimation of 85.13714527476084 kg.CO2eq/year\n",
      "[codecarbon DEBUG @ 12:52:18] last_duration=14.96895575399958\n",
      "------------------------\n"
     ]
    },
    {
     "name": "stdout",
     "output_type": "stream",
     "text": [
      "[305/1000] ./test/pdf/819.pdf\n"
     ]
    },
    {
     "name": "stderr",
     "output_type": "stream",
     "text": [
      "[codecarbon INFO @ 12:52:33] Energy consumed for RAM : 0.000144 kWh. RAM Power : 0.08818387985229492 W\n",
      "[codecarbon DEBUG @ 12:52:33] RAM : 0.09 W during 14.97 s [measurement time: 0.0107]\n",
      "[codecarbon INFO @ 12:52:33] Energy consumed for all CPUs : 0.069573 kWh. Total CPU Power : 42.5 W\n",
      "[codecarbon DEBUG @ 12:52:33] CPU : 42.50 W during 14.98 s [measurement time: 0.0005]\n",
      "[codecarbon INFO @ 12:52:33] Energy consumed for all GPUs : 0.022587 kWh. Total GPU Power : 14.085441907075952 W\n",
      "[codecarbon DEBUG @ 12:52:33] GPU : 14.09 W during 14.99 s [measurement time: 0.0066]\n",
      "[codecarbon INFO @ 12:52:33] 0.092303 kWh of electricity used since the beginning.\n",
      "[codecarbon DEBUG @ 12:52:33] last_duration=14.966276815000128\n",
      "------------------------\n",
      "[codecarbon INFO @ 12:52:48] Energy consumed for RAM : 0.000144 kWh. RAM Power : 0.08818387985229492 W\n",
      "[codecarbon DEBUG @ 12:52:48] RAM : 0.09 W during 14.97 s [measurement time: 0.0122]\n",
      "[codecarbon INFO @ 12:52:48] Energy consumed for all CPUs : 0.069750 kWh. Total CPU Power : 42.5 W\n",
      "[codecarbon DEBUG @ 12:52:48] CPU : 42.50 W during 15.00 s [measurement time: 0.0008]\n",
      "[codecarbon INFO @ 12:52:48] Energy consumed for all GPUs : 0.022642 kWh. Total GPU Power : 13.313858806368213 W\n",
      "[codecarbon DEBUG @ 12:52:48] GPU : 13.31 W during 15.01 s [measurement time: 0.0025]\n",
      "[codecarbon INFO @ 12:52:48] 0.092536 kWh of electricity used since the beginning.\n",
      "[codecarbon DEBUG @ 12:52:48] last_duration=14.974465559000237\n",
      "------------------------\n"
     ]
    },
    {
     "name": "stdout",
     "output_type": "stream",
     "text": [
      "[306/1000] ./test/pdf/82.pdf\n"
     ]
    },
    {
     "name": "stderr",
     "output_type": "stream",
     "text": [
      "[codecarbon INFO @ 12:53:03] Energy consumed for RAM : 0.000145 kWh. RAM Power : 0.08818387985229492 W\n",
      "[codecarbon DEBUG @ 12:53:03] RAM : 0.09 W during 14.97 s [measurement time: 0.0101]\n",
      "[codecarbon INFO @ 12:53:03] Energy consumed for all CPUs : 0.069927 kWh. Total CPU Power : 42.5 W\n",
      "[codecarbon DEBUG @ 12:53:03] CPU : 42.50 W during 14.98 s [measurement time: 0.0005]\n",
      "[codecarbon INFO @ 12:53:03] Energy consumed for all GPUs : 0.022698 kWh. Total GPU Power : 13.503406133166642 W\n",
      "[codecarbon DEBUG @ 12:53:03] GPU : 13.50 W during 14.98 s [measurement time: 0.0020]\n",
      "[codecarbon INFO @ 12:53:03] 0.092770 kWh of electricity used since the beginning.\n",
      "[codecarbon DEBUG @ 12:53:03] last_duration=14.966502596000282\n",
      "------------------------\n",
      "[codecarbon INFO @ 12:53:18] Energy consumed for RAM : 0.000145 kWh. RAM Power : 0.08818387985229492 W\n",
      "[codecarbon DEBUG @ 12:53:18] RAM : 0.09 W during 14.98 s [measurement time: 0.0158]\n",
      "[codecarbon INFO @ 12:53:18] Energy consumed for all CPUs : 0.070104 kWh. Total CPU Power : 42.5 W\n",
      "[codecarbon DEBUG @ 12:53:18] CPU : 42.50 W during 15.00 s [measurement time: 0.0003]\n",
      "[codecarbon INFO @ 12:53:18] Energy consumed for all GPUs : 0.022754 kWh. Total GPU Power : 13.330820546119478 W\n",
      "[codecarbon DEBUG @ 12:53:18] GPU : 13.33 W during 15.00 s [measurement time: 0.0019]\n",
      "[codecarbon INFO @ 12:53:18] 0.093003 kWh of electricity used since the beginning.\n",
      "[codecarbon DEBUG @ 12:53:18] last_duration=14.980114585000592\n",
      "------------------------\n"
     ]
    },
    {
     "name": "stdout",
     "output_type": "stream",
     "text": [
      "[307/1000] ./test/pdf/820.pdf\n"
     ]
    },
    {
     "name": "stderr",
     "output_type": "stream",
     "text": [
      "[codecarbon INFO @ 12:53:33] Energy consumed for RAM : 0.000145 kWh. RAM Power : 0.08818387985229492 W\n",
      "[codecarbon DEBUG @ 12:53:33] RAM : 0.09 W during 14.98 s [measurement time: 0.0110]\n",
      "[codecarbon INFO @ 12:53:33] Energy consumed for all CPUs : 0.070281 kWh. Total CPU Power : 42.5 W\n",
      "[codecarbon DEBUG @ 12:53:33] CPU : 42.50 W during 15.00 s [measurement time: 0.0006]\n",
      "[codecarbon INFO @ 12:53:33] Energy consumed for all GPUs : 0.022810 kWh. Total GPU Power : 13.366881607126931 W\n",
      "[codecarbon DEBUG @ 12:53:33] GPU : 13.37 W during 15.00 s [measurement time: 0.0033]\n",
      "[codecarbon INFO @ 12:53:33] 0.093236 kWh of electricity used since the beginning.\n",
      "[codecarbon DEBUG @ 12:53:33] last_duration=14.97748972699992\n",
      "------------------------\n"
     ]
    },
    {
     "name": "stdout",
     "output_type": "stream",
     "text": [
      "[308/1000] ./test/pdf/821.pdf\n"
     ]
    },
    {
     "name": "stderr",
     "output_type": "stream",
     "text": [
      "[codecarbon INFO @ 12:53:48] Energy consumed for RAM : 0.000146 kWh. RAM Power : 0.08818387985229492 W\n",
      "[codecarbon DEBUG @ 12:53:48] RAM : 0.09 W during 14.98 s [measurement time: 0.0095]\n",
      "[codecarbon INFO @ 12:53:48] Energy consumed for all CPUs : 0.070458 kWh. Total CPU Power : 42.5 W\n",
      "[codecarbon DEBUG @ 12:53:48] CPU : 42.50 W during 14.99 s [measurement time: 0.0004]\n",
      "[codecarbon INFO @ 12:53:48] Energy consumed for all GPUs : 0.022868 kWh. Total GPU Power : 13.973383902364288 W\n",
      "[codecarbon DEBUG @ 12:53:48] GPU : 13.97 W during 14.99 s [measurement time: 0.0019]\n",
      "[codecarbon INFO @ 12:53:48] 0.093472 kWh of electricity used since the beginning.\n",
      "[codecarbon DEBUG @ 12:53:48] last_duration=14.97658825200051\n",
      "------------------------\n",
      "[codecarbon INFO @ 12:54:03] Energy consumed for RAM : 0.000146 kWh. RAM Power : 0.08818387985229492 W\n",
      "[codecarbon DEBUG @ 12:54:03] RAM : 0.09 W during 14.98 s [measurement time: 0.0100]\n",
      "[codecarbon INFO @ 12:54:03] Energy consumed for all CPUs : 0.070635 kWh. Total CPU Power : 42.5 W\n",
      "[codecarbon DEBUG @ 12:54:03] CPU : 42.50 W during 15.00 s [measurement time: 0.0007]\n",
      "[codecarbon INFO @ 12:54:03] Energy consumed for all GPUs : 0.022923 kWh. Total GPU Power : 13.2352849078151 W\n",
      "[codecarbon DEBUG @ 12:54:03] GPU : 13.24 W during 15.00 s [measurement time: 0.0019]\n",
      "[codecarbon INFO @ 12:54:03] 0.093704 kWh of electricity used since the beginning.\n",
      "[codecarbon DEBUG @ 12:54:03] last_duration=14.9810892280002\n",
      "------------------------\n"
     ]
    },
    {
     "name": "stdout",
     "output_type": "stream",
     "text": [
      "[309/1000] ./test/pdf/822.pdf\n"
     ]
    },
    {
     "name": "stderr",
     "output_type": "stream",
     "text": [
      "[codecarbon INFO @ 12:54:18] Energy consumed for RAM : 0.000146 kWh. RAM Power : 0.08818387985229492 W\n",
      "[codecarbon DEBUG @ 12:54:18] RAM : 0.09 W during 14.98 s [measurement time: 0.0144]\n",
      "[codecarbon INFO @ 12:54:18] Energy consumed for all CPUs : 0.070812 kWh. Total CPU Power : 42.5 W\n",
      "[codecarbon DEBUG @ 12:54:18] CPU : 42.50 W during 15.00 s [measurement time: 0.0008]\n",
      "[codecarbon INFO @ 12:54:18] Energy consumed for all GPUs : 0.022986 kWh. Total GPU Power : 15.179980751499235 W\n",
      "[codecarbon DEBUG @ 12:54:18] GPU : 15.18 W during 15.01 s [measurement time: 0.0028]\n",
      "[codecarbon INFO @ 12:54:18] 0.093945 kWh of electricity used since the beginning.\n",
      "[codecarbon DEBUG @ 12:54:18] We apply an energy mix of 174 g.CO2eq/kWh for Spain\n",
      "[codecarbon DEBUG @ 12:54:18] EmissionsData(timestamp='2025-04-13T12:54:18', project_name='codecarbon', run_id='868e486c-ef2f-47f1-8b33-54ddf9c190fd', experiment_id='5b0fa12a-3dd7-45bb-9766-cc326314d9f1', duration=6000.368211565001, emissions=0.016351102355428544, emissions_rate=2.7250164954733487e-06, cpu_power=42.5, gpu_power=15.179980751499235, ram_power=0.08818387985229492, cpu_energy=0.0708121673461527, gpu_energy=0.022986304222362, ram_energy=0.00014638540033631972, energy_consumed=0.09394485696885115, country_name='Spain', country_iso_code='ESP', region=None, cloud_provider='', cloud_region='', os='Linux-6.8.0-57-generic-x86_64-with-glibc2.35', python_version='3.12.9', codecarbon_version='2.8.3', cpu_count=32, cpu_model='13th Gen Intel(R) Core(TM) i9-13900', gpu_count=1, gpu_model='1 x NVIDIA RTX 5000 Ada Generation', longitude=None, latitude=None, ram_total_size=62.50331497192383, tracking_mode='process', on_cloud='N', pue=1.0)\n",
      "[codecarbon INFO @ 12:54:18] 0.002723 g.CO2eq/s mean an estimation of 85.86935689656005 kg.CO2eq/year\n",
      "[codecarbon DEBUG @ 12:54:18] last_duration=14.978123363999657\n",
      "------------------------\n"
     ]
    },
    {
     "name": "stdout",
     "output_type": "stream",
     "text": [
      "[310/1000] ./test/pdf/823.pdf\n"
     ]
    },
    {
     "name": "stderr",
     "output_type": "stream",
     "text": [
      "[codecarbon INFO @ 12:54:33] Energy consumed for RAM : 0.000147 kWh. RAM Power : 0.08818387985229492 W\n",
      "[codecarbon DEBUG @ 12:54:33] RAM : 0.09 W during 14.97 s [measurement time: 0.0139]\n",
      "[codecarbon INFO @ 12:54:33] Energy consumed for all CPUs : 0.070989 kWh. Total CPU Power : 42.5 W\n",
      "[codecarbon DEBUG @ 12:54:33] CPU : 42.50 W during 14.99 s [measurement time: 0.0004]\n",
      "[codecarbon INFO @ 12:54:33] Energy consumed for all GPUs : 0.023043 kWh. Total GPU Power : 13.599869538266283 W\n",
      "[codecarbon DEBUG @ 12:54:33] GPU : 13.60 W during 14.99 s [measurement time: 0.0028]\n",
      "[codecarbon INFO @ 12:54:33] 0.094179 kWh of electricity used since the beginning.\n",
      "[codecarbon DEBUG @ 12:54:33] last_duration=14.97007948099963\n",
      "------------------------\n",
      "[codecarbon INFO @ 12:54:48] Energy consumed for RAM : 0.000147 kWh. RAM Power : 0.08818387985229492 W\n",
      "[codecarbon DEBUG @ 12:54:48] RAM : 0.09 W during 14.98 s [measurement time: 0.0124]\n",
      "[codecarbon INFO @ 12:54:48] Energy consumed for all CPUs : 0.071166 kWh. Total CPU Power : 42.5 W\n",
      "[codecarbon DEBUG @ 12:54:48] CPU : 42.50 W during 15.00 s [measurement time: 0.0006]\n",
      "[codecarbon INFO @ 12:54:48] Energy consumed for all GPUs : 0.023100 kWh. Total GPU Power : 13.594140719325434 W\n",
      "[codecarbon DEBUG @ 12:54:48] GPU : 13.59 W during 15.00 s [measurement time: 0.0019]\n",
      "[codecarbon INFO @ 12:54:48] 0.094413 kWh of electricity used since the beginning.\n",
      "[codecarbon DEBUG @ 12:54:48] last_duration=14.975812318999488\n",
      "------------------------\n"
     ]
    },
    {
     "name": "stdout",
     "output_type": "stream",
     "text": [
      "[311/1000] ./test/pdf/824.pdf\n"
     ]
    },
    {
     "name": "stderr",
     "output_type": "stream",
     "text": [
      "[codecarbon INFO @ 12:55:03] Energy consumed for RAM : 0.000147 kWh. RAM Power : 0.08818387985229492 W\n",
      "[codecarbon DEBUG @ 12:55:03] RAM : 0.09 W during 14.98 s [measurement time: 0.0130]\n",
      "[codecarbon INFO @ 12:55:03] Energy consumed for all CPUs : 0.071343 kWh. Total CPU Power : 42.5 W\n",
      "[codecarbon DEBUG @ 12:55:03] CPU : 42.50 W during 15.01 s [measurement time: 0.0007]\n",
      "[codecarbon INFO @ 12:55:03] Energy consumed for all GPUs : 0.023159 kWh. Total GPU Power : 14.156227815291246 W\n",
      "[codecarbon DEBUG @ 12:55:03] GPU : 14.16 W during 15.01 s [measurement time: 0.0031]\n",
      "[codecarbon INFO @ 12:55:03] 0.094649 kWh of electricity used since the beginning.\n",
      "[codecarbon DEBUG @ 12:55:03] last_duration=14.97760555900004\n",
      "------------------------\n"
     ]
    },
    {
     "name": "stdout",
     "output_type": "stream",
     "text": [
      "[312/1000] ./test/pdf/825.pdf\n"
     ]
    },
    {
     "name": "stderr",
     "output_type": "stream",
     "text": [
      "[codecarbon INFO @ 12:55:18] Energy consumed for RAM : 0.000148 kWh. RAM Power : 0.08818387985229492 W\n",
      "[codecarbon DEBUG @ 12:55:18] RAM : 0.09 W during 14.97 s [measurement time: 0.0099]\n",
      "[codecarbon INFO @ 12:55:18] Energy consumed for all CPUs : 0.071520 kWh. Total CPU Power : 42.5 W\n",
      "[codecarbon DEBUG @ 12:55:18] CPU : 42.50 W during 14.98 s [measurement time: 0.0004]\n",
      "[codecarbon INFO @ 12:55:18] Energy consumed for all GPUs : 0.023215 kWh. Total GPU Power : 13.589274330155657 W\n",
      "[codecarbon DEBUG @ 12:55:18] GPU : 13.59 W during 14.98 s [measurement time: 0.0025]\n",
      "[codecarbon INFO @ 12:55:18] 0.094883 kWh of electricity used since the beginning.\n",
      "[codecarbon DEBUG @ 12:55:18] last_duration=14.965650965999885\n",
      "------------------------\n"
     ]
    },
    {
     "name": "stdout",
     "output_type": "stream",
     "text": [
      "[313/1000] ./test/pdf/826.pdf\n"
     ]
    },
    {
     "name": "stderr",
     "output_type": "stream",
     "text": [
      "[codecarbon INFO @ 12:55:33] Energy consumed for RAM : 0.000148 kWh. RAM Power : 0.08818387985229492 W\n",
      "[codecarbon DEBUG @ 12:55:33] RAM : 0.09 W during 14.98 s [measurement time: 0.0113]\n",
      "[codecarbon INFO @ 12:55:33] Energy consumed for all CPUs : 0.071697 kWh. Total CPU Power : 42.5 W\n",
      "[codecarbon DEBUG @ 12:55:33] CPU : 42.50 W during 15.00 s [measurement time: 0.0003]\n",
      "[codecarbon INFO @ 12:55:33] Energy consumed for all GPUs : 0.023272 kWh. Total GPU Power : 13.53578361731581 W\n",
      "[codecarbon DEBUG @ 12:55:33] GPU : 13.54 W during 15.00 s [measurement time: 0.0026]\n",
      "[codecarbon INFO @ 12:55:33] 0.095117 kWh of electricity used since the beginning.\n",
      "[codecarbon DEBUG @ 12:55:33] last_duration=14.982677205999607\n",
      "------------------------\n"
     ]
    },
    {
     "name": "stdout",
     "output_type": "stream",
     "text": [
      "[314/1000] ./test/pdf/827.pdf\n"
     ]
    },
    {
     "name": "stderr",
     "output_type": "stream",
     "text": [
      "[codecarbon INFO @ 12:55:48] Energy consumed for RAM : 0.000149 kWh. RAM Power : 0.08818387985229492 W\n",
      "[codecarbon DEBUG @ 12:55:48] RAM : 0.09 W during 14.98 s [measurement time: 0.0052]\n",
      "[codecarbon INFO @ 12:55:48] Energy consumed for all CPUs : 0.071874 kWh. Total CPU Power : 42.5 W\n",
      "[codecarbon DEBUG @ 12:55:48] CPU : 42.50 W during 14.99 s [measurement time: 0.0002]\n",
      "[codecarbon INFO @ 12:55:48] Energy consumed for all GPUs : 0.023325 kWh. Total GPU Power : 12.923398123510644 W\n",
      "[codecarbon DEBUG @ 12:55:48] GPU : 12.92 W during 14.99 s [measurement time: 0.0054]\n",
      "[codecarbon INFO @ 12:55:48] 0.095348 kWh of electricity used since the beginning.\n",
      "[codecarbon DEBUG @ 12:55:48] last_duration=14.97627114199986\n",
      "------------------------\n",
      "[codecarbon INFO @ 12:56:03] Energy consumed for RAM : 0.000149 kWh. RAM Power : 0.08818387985229492 W\n",
      "[codecarbon DEBUG @ 12:56:03] RAM : 0.09 W during 14.98 s [measurement time: 0.0131]\n",
      "[codecarbon INFO @ 12:56:03] Energy consumed for all CPUs : 0.072051 kWh. Total CPU Power : 42.5 W\n",
      "[codecarbon DEBUG @ 12:56:03] CPU : 42.50 W during 15.00 s [measurement time: 0.0002]\n",
      "[codecarbon INFO @ 12:56:03] Energy consumed for all GPUs : 0.023384 kWh. Total GPU Power : 14.129566807271942 W\n",
      "[codecarbon DEBUG @ 12:56:03] GPU : 14.13 W during 15.00 s [measurement time: 0.0018]\n",
      "[codecarbon INFO @ 12:56:03] 0.095585 kWh of electricity used since the beginning.\n",
      "[codecarbon DEBUG @ 12:56:03] last_duration=14.979688687999442\n",
      "------------------------\n"
     ]
    },
    {
     "name": "stdout",
     "output_type": "stream",
     "text": [
      "[315/1000] ./test/pdf/828.pdf\n"
     ]
    },
    {
     "name": "stderr",
     "output_type": "stream",
     "text": [
      "[codecarbon INFO @ 12:56:18] Energy consumed for RAM : 0.000149 kWh. RAM Power : 0.08818387985229492 W\n",
      "[codecarbon DEBUG @ 12:56:18] RAM : 0.09 W during 14.97 s [measurement time: 0.0128]\n",
      "[codecarbon INFO @ 12:56:18] Energy consumed for all CPUs : 0.072228 kWh. Total CPU Power : 42.5 W\n",
      "[codecarbon DEBUG @ 12:56:18] CPU : 42.50 W during 15.00 s [measurement time: 0.0011]\n",
      "[codecarbon INFO @ 12:56:18] Energy consumed for all GPUs : 0.023442 kWh. Total GPU Power : 13.953115855481082 W\n",
      "[codecarbon DEBUG @ 12:56:18] GPU : 13.95 W during 15.00 s [measurement time: 0.0031]\n",
      "[codecarbon INFO @ 12:56:18] 0.095820 kWh of electricity used since the beginning.\n",
      "[codecarbon DEBUG @ 12:56:18] We apply an energy mix of 174 g.CO2eq/kWh for Spain\n",
      "[codecarbon DEBUG @ 12:56:18] EmissionsData(timestamp='2025-04-13T12:56:18', project_name='codecarbon', run_id='868e486c-ef2f-47f1-8b33-54ddf9c190fd', experiment_id='5b0fa12a-3dd7-45bb-9766-cc326314d9f1', duration=6120.3732792010005, emissions=0.016677495923803225, emissions_rate=2.7249148316621024e-06, cpu_power=42.5, gpu_power=13.953115855481082, ram_power=0.08818387985229492, cpu_energy=0.07222843916067839, gpu_energy=0.02344238403167, ram_energy=0.00014932000675074727, energy_consumed=0.09582014319909925, country_name='Spain', country_iso_code='ESP', region=None, cloud_provider='', cloud_region='', os='Linux-6.8.0-57-generic-x86_64-with-glibc2.35', python_version='3.12.9', codecarbon_version='2.8.3', cpu_count=32, cpu_model='13th Gen Intel(R) Core(TM) i9-13900', gpu_count=1, gpu_model='1 x NVIDIA RTX 5000 Ada Generation', longitude=None, latitude=None, ram_total_size=62.50331497192383, tracking_mode='process', on_cloud='N', pue=1.0)\n",
      "[codecarbon INFO @ 12:56:18] 0.002720 g.CO2eq/s mean an estimation of 85.77260756591733 kg.CO2eq/year\n",
      "[codecarbon DEBUG @ 12:56:18] last_duration=14.973881182999321\n",
      "------------------------\n"
     ]
    },
    {
     "name": "stdout",
     "output_type": "stream",
     "text": [
      "[316/1000] ./test/pdf/829.pdf\n"
     ]
    },
    {
     "name": "stderr",
     "output_type": "stream",
     "text": [
      "[codecarbon INFO @ 12:56:33] Energy consumed for RAM : 0.000150 kWh. RAM Power : 0.08818387985229492 W\n",
      "[codecarbon DEBUG @ 12:56:33] RAM : 0.09 W during 14.97 s [measurement time: 0.0148]\n",
      "[codecarbon INFO @ 12:56:33] Energy consumed for all CPUs : 0.072405 kWh. Total CPU Power : 42.5 W\n",
      "[codecarbon DEBUG @ 12:56:33] CPU : 42.50 W during 14.99 s [measurement time: 0.0007]\n",
      "[codecarbon INFO @ 12:56:33] Energy consumed for all GPUs : 0.023499 kWh. Total GPU Power : 13.521289735279474 W\n",
      "[codecarbon DEBUG @ 12:56:33] GPU : 13.52 W during 15.00 s [measurement time: 0.0040]\n",
      "[codecarbon INFO @ 12:56:33] 0.096054 kWh of electricity used since the beginning.\n",
      "[codecarbon DEBUG @ 12:56:33] last_duration=14.971495517000221\n",
      "------------------------\n"
     ]
    },
    {
     "name": "stdout",
     "output_type": "stream",
     "text": [
      "[317/1000] ./test/pdf/83.pdf\n"
     ]
    },
    {
     "name": "stderr",
     "output_type": "stream",
     "text": [
      "[codecarbon INFO @ 12:56:48] Energy consumed for RAM : 0.000150 kWh. RAM Power : 0.08818387985229492 W\n",
      "[codecarbon DEBUG @ 12:56:48] RAM : 0.09 W during 14.97 s [measurement time: 0.0144]\n",
      "[codecarbon INFO @ 12:56:48] Energy consumed for all CPUs : 0.072582 kWh. Total CPU Power : 42.5 W\n",
      "[codecarbon DEBUG @ 12:56:48] CPU : 42.50 W during 15.00 s [measurement time: 0.0004]\n",
      "[codecarbon INFO @ 12:56:48] Energy consumed for all GPUs : 0.023556 kWh. Total GPU Power : 13.829039962299365 W\n",
      "[codecarbon DEBUG @ 12:56:48] GPU : 13.83 W during 15.00 s [measurement time: 0.0022]\n",
      "[codecarbon INFO @ 12:56:48] 0.096289 kWh of electricity used since the beginning.\n",
      "[codecarbon DEBUG @ 12:56:48] last_duration=14.969717328000115\n",
      "------------------------\n"
     ]
    },
    {
     "name": "stdout",
     "output_type": "stream",
     "text": [
      "[318/1000] ./test/pdf/830.pdf\n"
     ]
    },
    {
     "name": "stderr",
     "output_type": "stream",
     "text": [
      "[codecarbon INFO @ 12:57:03] Energy consumed for RAM : 0.000150 kWh. RAM Power : 0.08818387985229492 W\n",
      "[codecarbon DEBUG @ 12:57:03] RAM : 0.09 W during 14.97 s [measurement time: 0.0143]\n",
      "[codecarbon INFO @ 12:57:03] Energy consumed for all CPUs : 0.072760 kWh. Total CPU Power : 42.5 W\n",
      "[codecarbon DEBUG @ 12:57:03] CPU : 42.50 W during 15.00 s [measurement time: 0.0007]\n",
      "[codecarbon INFO @ 12:57:03] Energy consumed for all GPUs : 0.023612 kWh. Total GPU Power : 13.305568592344923 W\n",
      "[codecarbon DEBUG @ 12:57:03] GPU : 13.31 W during 15.00 s [measurement time: 0.0025]\n",
      "[codecarbon INFO @ 12:57:03] 0.096522 kWh of electricity used since the beginning.\n",
      "[codecarbon DEBUG @ 12:57:03] last_duration=14.970804829000372\n",
      "------------------------\n"
     ]
    },
    {
     "name": "stdout",
     "output_type": "stream",
     "text": [
      "[319/1000] ./test/pdf/831.pdf\n"
     ]
    },
    {
     "name": "stderr",
     "output_type": "stream",
     "text": [
      "[codecarbon INFO @ 12:57:18] Energy consumed for RAM : 0.000151 kWh. RAM Power : 0.08818387985229492 W\n",
      "[codecarbon DEBUG @ 12:57:18] RAM : 0.09 W during 14.97 s [measurement time: 0.0111]\n",
      "[codecarbon INFO @ 12:57:18] Energy consumed for all CPUs : 0.072936 kWh. Total CPU Power : 42.5 W\n",
      "[codecarbon DEBUG @ 12:57:18] CPU : 42.50 W during 14.98 s [measurement time: 0.0004]\n",
      "[codecarbon INFO @ 12:57:18] Energy consumed for all GPUs : 0.023671 kWh. Total GPU Power : 14.217784780599661 W\n",
      "[codecarbon DEBUG @ 12:57:18] GPU : 14.22 W during 14.99 s [measurement time: 0.0021]\n",
      "[codecarbon INFO @ 12:57:18] 0.096758 kWh of electricity used since the beginning.\n",
      "[codecarbon DEBUG @ 12:57:18] last_duration=14.96645532599996\n",
      "------------------------\n"
     ]
    },
    {
     "name": "stdout",
     "output_type": "stream",
     "text": [
      "[320/1000] ./test/pdf/832.pdf\n"
     ]
    },
    {
     "name": "stderr",
     "output_type": "stream",
     "text": [
      "[codecarbon INFO @ 12:57:33] Energy consumed for RAM : 0.000151 kWh. RAM Power : 0.08818387985229492 W\n",
      "[codecarbon DEBUG @ 12:57:33] RAM : 0.09 W during 14.98 s [measurement time: 0.0159]\n",
      "[codecarbon INFO @ 12:57:33] Energy consumed for all CPUs : 0.073114 kWh. Total CPU Power : 42.5 W\n",
      "[codecarbon DEBUG @ 12:57:33] CPU : 42.50 W during 15.01 s [measurement time: 0.0005]\n",
      "[codecarbon INFO @ 12:57:33] Energy consumed for all GPUs : 0.023727 kWh. Total GPU Power : 13.511944447210649 W\n",
      "[codecarbon DEBUG @ 12:57:33] GPU : 13.51 W during 15.01 s [measurement time: 0.0068]\n",
      "[codecarbon INFO @ 12:57:33] 0.096992 kWh of electricity used since the beginning.\n",
      "[codecarbon DEBUG @ 12:57:33] last_duration=14.978671585000484\n",
      "------------------------\n",
      "[codecarbon INFO @ 12:57:48] Energy consumed for RAM : 0.000152 kWh. RAM Power : 0.08818387985229492 W\n",
      "[codecarbon DEBUG @ 12:57:48] RAM : 0.09 W during 14.97 s [measurement time: 0.0129]\n",
      "[codecarbon INFO @ 12:57:48] Energy consumed for all CPUs : 0.073291 kWh. Total CPU Power : 42.5 W\n",
      "[codecarbon DEBUG @ 12:57:48] CPU : 42.50 W during 14.99 s [measurement time: 0.0003]\n",
      "[codecarbon INFO @ 12:57:48] Energy consumed for all GPUs : 0.023782 kWh. Total GPU Power : 13.065161610486907 W\n",
      "[codecarbon DEBUG @ 12:57:48] GPU : 13.07 W during 14.99 s [measurement time: 0.0077]\n",
      "[codecarbon INFO @ 12:57:48] 0.097224 kWh of electricity used since the beginning.\n",
      "[codecarbon DEBUG @ 12:57:48] last_duration=14.966068794999956\n",
      "------------------------\n"
     ]
    },
    {
     "name": "stdout",
     "output_type": "stream",
     "text": [
      "[321/1000] ./test/pdf/833.pdf\n"
     ]
    },
    {
     "name": "stderr",
     "output_type": "stream",
     "text": [
      "[codecarbon INFO @ 12:58:03] Energy consumed for RAM : 0.000152 kWh. RAM Power : 0.08818387985229492 W\n",
      "[codecarbon DEBUG @ 12:58:03] RAM : 0.09 W during 14.97 s [measurement time: 0.0110]\n",
      "[codecarbon INFO @ 12:58:03] Energy consumed for all CPUs : 0.073468 kWh. Total CPU Power : 42.5 W\n",
      "[codecarbon DEBUG @ 12:58:03] CPU : 42.50 W during 14.99 s [measurement time: 0.0005]\n",
      "[codecarbon INFO @ 12:58:03] Energy consumed for all GPUs : 0.023838 kWh. Total GPU Power : 13.511191018976206 W\n",
      "[codecarbon DEBUG @ 12:58:03] GPU : 13.51 W during 14.99 s [measurement time: 0.0023]\n",
      "[codecarbon INFO @ 12:58:03] 0.097457 kWh of electricity used since the beginning.\n",
      "[codecarbon DEBUG @ 12:58:03] last_duration=14.971454233999793\n",
      "------------------------\n"
     ]
    },
    {
     "name": "stdout",
     "output_type": "stream",
     "text": [
      "[322/1000] ./test/pdf/834.pdf\n"
     ]
    },
    {
     "name": "stderr",
     "output_type": "stream",
     "text": [
      "[codecarbon INFO @ 12:58:18] Energy consumed for RAM : 0.000152 kWh. RAM Power : 0.08818387985229492 W\n",
      "[codecarbon DEBUG @ 12:58:18] RAM : 0.09 W during 14.98 s [measurement time: 0.0133]\n",
      "[codecarbon INFO @ 12:58:18] Energy consumed for all CPUs : 0.073645 kWh. Total CPU Power : 42.5 W\n",
      "[codecarbon DEBUG @ 12:58:18] CPU : 42.50 W during 15.01 s [measurement time: 0.0008]\n",
      "[codecarbon INFO @ 12:58:18] Energy consumed for all GPUs : 0.023898 kWh. Total GPU Power : 14.406206735381394 W\n",
      "[codecarbon DEBUG @ 12:58:18] GPU : 14.41 W during 15.01 s [measurement time: 0.0066]\n",
      "[codecarbon INFO @ 12:58:18] 0.097695 kWh of electricity used since the beginning.\n",
      "[codecarbon DEBUG @ 12:58:18] We apply an energy mix of 174 g.CO2eq/kWh for Spain\n",
      "[codecarbon DEBUG @ 12:58:18] EmissionsData(timestamp='2025-04-13T12:58:18', project_name='codecarbon', run_id='868e486c-ef2f-47f1-8b33-54ddf9c190fd', experiment_id='5b0fa12a-3dd7-45bb-9766-cc326314d9f1', duration=6240.386142656001, emissions=0.017003793956351907, emissions_rate=2.7247983646593446e-06, cpu_power=42.5, gpu_power=14.406206735381394, ram_power=0.08818387985229492, cpu_energy=0.07364465165334995, gpu_energy=0.023897974951698, ram_energy=0.00015225392555756907, energy_consumed=0.0976948805306056, country_name='Spain', country_iso_code='ESP', region=None, cloud_provider='', cloud_region='', os='Linux-6.8.0-57-generic-x86_64-with-glibc2.35', python_version='3.12.9', codecarbon_version='2.8.3', cpu_count=32, cpu_model='13th Gen Intel(R) Core(TM) i9-13900', gpu_count=1, gpu_model='1 x NVIDIA RTX 5000 Ada Generation', longitude=None, latitude=None, ram_total_size=62.50331497192383, tracking_mode='process', on_cloud='N', pue=1.0)\n",
      "[codecarbon INFO @ 12:58:18] 0.002719 g.CO2eq/s mean an estimation of 85.74193180811491 kg.CO2eq/year\n",
      "[codecarbon DEBUG @ 12:58:18] last_duration=14.978922206999414\n",
      "------------------------\n"
     ]
    },
    {
     "name": "stdout",
     "output_type": "stream",
     "text": [
      "[323/1000] ./test/pdf/835.pdf\n"
     ]
    },
    {
     "name": "stderr",
     "output_type": "stream",
     "text": [
      "[codecarbon INFO @ 12:58:33] Energy consumed for RAM : 0.000153 kWh. RAM Power : 0.08818387985229492 W\n",
      "[codecarbon DEBUG @ 12:58:33] RAM : 0.09 W during 14.97 s [measurement time: 0.0218]\n",
      "[codecarbon INFO @ 12:58:33] Energy consumed for all CPUs : 0.073822 kWh. Total CPU Power : 42.5 W\n",
      "[codecarbon DEBUG @ 12:58:33] CPU : 42.50 W during 15.00 s [measurement time: 0.0009]\n",
      "[codecarbon INFO @ 12:58:33] Energy consumed for all GPUs : 0.023953 kWh. Total GPU Power : 13.171482640263896 W\n",
      "[codecarbon DEBUG @ 12:58:33] GPU : 13.17 W during 15.00 s [measurement time: 0.0026]\n",
      "[codecarbon INFO @ 12:58:33] 0.097927 kWh of electricity used since the beginning.\n",
      "[codecarbon DEBUG @ 12:58:33] last_duration=14.96532114799993\n",
      "------------------------\n",
      "[codecarbon INFO @ 12:58:48] Energy consumed for RAM : 0.000153 kWh. RAM Power : 0.08818387985229492 W\n",
      "[codecarbon DEBUG @ 12:58:48] RAM : 0.09 W during 14.96 s [measurement time: 0.0141]\n",
      "[codecarbon INFO @ 12:58:48] Energy consumed for all CPUs : 0.073999 kWh. Total CPU Power : 42.5 W\n",
      "[codecarbon DEBUG @ 12:58:48] CPU : 42.50 W during 14.99 s [measurement time: 0.0007]\n",
      "[codecarbon INFO @ 12:58:48] Energy consumed for all GPUs : 0.024006 kWh. Total GPU Power : 12.712008055922166 W\n",
      "[codecarbon DEBUG @ 12:58:48] GPU : 12.71 W during 14.99 s [measurement time: 0.0025]\n",
      "[codecarbon INFO @ 12:58:48] 0.098157 kWh of electricity used since the beginning.\n",
      "[codecarbon DEBUG @ 12:58:48] last_duration=14.963401897999574\n",
      "------------------------\n"
     ]
    },
    {
     "name": "stdout",
     "output_type": "stream",
     "text": [
      "[324/1000] ./test/pdf/836.pdf\n"
     ]
    },
    {
     "name": "stderr",
     "output_type": "stream",
     "text": [
      "[codecarbon INFO @ 12:59:03] Energy consumed for RAM : 0.000153 kWh. RAM Power : 0.08818387985229492 W\n",
      "[codecarbon DEBUG @ 12:59:03] RAM : 0.09 W during 14.97 s [measurement time: 0.0140]\n",
      "[codecarbon INFO @ 12:59:03] Energy consumed for all CPUs : 0.074176 kWh. Total CPU Power : 42.5 W\n",
      "[codecarbon DEBUG @ 12:59:03] CPU : 42.50 W during 14.99 s [measurement time: 0.0005]\n",
      "[codecarbon INFO @ 12:59:03] Energy consumed for all GPUs : 0.024060 kWh. Total GPU Power : 13.05609007111828 W\n",
      "[codecarbon DEBUG @ 12:59:03] GPU : 13.06 W during 15.00 s [measurement time: 0.0017]\n",
      "[codecarbon INFO @ 12:59:03] 0.098389 kWh of electricity used since the beginning.\n",
      "[codecarbon DEBUG @ 12:59:03] last_duration=14.974035045000164\n",
      "------------------------\n",
      "[codecarbon INFO @ 12:59:18] Energy consumed for RAM : 0.000154 kWh. RAM Power : 0.08818387985229492 W\n",
      "[codecarbon DEBUG @ 12:59:18] RAM : 0.09 W during 14.98 s [measurement time: 0.0147]\n",
      "[codecarbon INFO @ 12:59:18] Energy consumed for all CPUs : 0.074353 kWh. Total CPU Power : 42.5 W\n",
      "[codecarbon DEBUG @ 12:59:18] CPU : 42.50 W during 15.00 s [measurement time: 0.0004]\n",
      "[codecarbon INFO @ 12:59:18] Energy consumed for all GPUs : 0.024116 kWh. Total GPU Power : 13.460243528377056 W\n",
      "[codecarbon DEBUG @ 12:59:18] GPU : 13.46 W during 15.00 s [measurement time: 0.0026]\n",
      "[codecarbon INFO @ 12:59:18] 0.098623 kWh of electricity used since the beginning.\n",
      "[codecarbon DEBUG @ 12:59:18] last_duration=14.97684681499959\n",
      "------------------------\n"
     ]
    },
    {
     "name": "stdout",
     "output_type": "stream",
     "text": [
      "[325/1000] ./test/pdf/837.pdf\n"
     ]
    },
    {
     "name": "stderr",
     "output_type": "stream",
     "text": [
      "[codecarbon INFO @ 12:59:33] Energy consumed for RAM : 0.000154 kWh. RAM Power : 0.08818387985229492 W\n",
      "[codecarbon DEBUG @ 12:59:33] RAM : 0.09 W during 14.98 s [measurement time: 0.0155]\n",
      "[codecarbon INFO @ 12:59:33] Energy consumed for all CPUs : 0.074530 kWh. Total CPU Power : 42.5 W\n",
      "[codecarbon DEBUG @ 12:59:33] CPU : 42.50 W during 15.00 s [measurement time: 0.0004]\n",
      "[codecarbon INFO @ 12:59:33] Energy consumed for all GPUs : 0.024172 kWh. Total GPU Power : 13.38758576893814 W\n",
      "[codecarbon DEBUG @ 12:59:33] GPU : 13.39 W during 15.00 s [measurement time: 0.0027]\n",
      "[codecarbon INFO @ 12:59:33] 0.098856 kWh of electricity used since the beginning.\n",
      "[codecarbon DEBUG @ 12:59:33] last_duration=14.976089226999648\n",
      "------------------------\n",
      "[codecarbon INFO @ 12:59:48] Energy consumed for RAM : 0.000154 kWh. RAM Power : 0.08818387985229492 W\n",
      "[codecarbon DEBUG @ 12:59:48] RAM : 0.09 W during 14.97 s [measurement time: 0.0155]\n",
      "[codecarbon INFO @ 12:59:48] Energy consumed for all CPUs : 0.074707 kWh. Total CPU Power : 42.5 W\n",
      "[codecarbon DEBUG @ 12:59:48] CPU : 42.50 W during 15.00 s [measurement time: 0.0008]\n",
      "[codecarbon INFO @ 12:59:48] Energy consumed for all GPUs : 0.024229 kWh. Total GPU Power : 13.6711451020485 W\n",
      "[codecarbon DEBUG @ 12:59:48] GPU : 13.67 W during 15.00 s [measurement time: 0.0023]\n",
      "[codecarbon INFO @ 12:59:48] 0.099090 kWh of electricity used since the beginning.\n",
      "[codecarbon DEBUG @ 12:59:48] last_duration=14.969660501999897\n",
      "------------------------\n"
     ]
    },
    {
     "name": "stdout",
     "output_type": "stream",
     "text": [
      "[326/1000] ./test/pdf/838.pdf\n"
     ]
    },
    {
     "name": "stderr",
     "output_type": "stream",
     "text": [
      "[codecarbon INFO @ 13:00:03] Energy consumed for RAM : 0.000155 kWh. RAM Power : 0.08818387985229492 W\n",
      "[codecarbon DEBUG @ 13:00:03] RAM : 0.09 W during 14.97 s [measurement time: 0.0142]\n",
      "[codecarbon INFO @ 13:00:03] Energy consumed for all CPUs : 0.074884 kWh. Total CPU Power : 42.5 W\n",
      "[codecarbon DEBUG @ 13:00:03] CPU : 42.50 W during 14.99 s [measurement time: 0.0007]\n",
      "[codecarbon INFO @ 13:00:03] Energy consumed for all GPUs : 0.024289 kWh. Total GPU Power : 14.388170935510772 W\n",
      "[codecarbon DEBUG @ 13:00:03] GPU : 14.39 W during 14.99 s [measurement time: 0.0024]\n",
      "[codecarbon INFO @ 13:00:03] 0.099328 kWh of electricity used since the beginning.\n",
      "[codecarbon DEBUG @ 13:00:03] last_duration=14.969178807999924\n",
      "------------------------\n"
     ]
    },
    {
     "name": "stdout",
     "output_type": "stream",
     "text": [
      "[327/1000] ./test/pdf/839.pdf\n"
     ]
    },
    {
     "name": "stderr",
     "output_type": "stream",
     "text": [
      "[codecarbon INFO @ 13:00:18] Energy consumed for RAM : 0.000155 kWh. RAM Power : 0.08818387985229492 W\n",
      "[codecarbon DEBUG @ 13:00:18] RAM : 0.09 W during 14.98 s [measurement time: 0.0155]\n",
      "[codecarbon INFO @ 13:00:18] Energy consumed for all CPUs : 0.075061 kWh. Total CPU Power : 42.5 W\n",
      "[codecarbon DEBUG @ 13:00:18] CPU : 42.50 W during 15.00 s [measurement time: 0.0004]\n",
      "[codecarbon INFO @ 13:00:18] Energy consumed for all GPUs : 0.024346 kWh. Total GPU Power : 13.79208256568666 W\n",
      "[codecarbon DEBUG @ 13:00:18] GPU : 13.79 W during 15.00 s [measurement time: 0.0075]\n",
      "[codecarbon INFO @ 13:00:18] 0.099562 kWh of electricity used since the beginning.\n",
      "[codecarbon DEBUG @ 13:00:18] We apply an energy mix of 174 g.CO2eq/kWh for Spain\n",
      "[codecarbon DEBUG @ 13:00:18] EmissionsData(timestamp='2025-04-13T13:00:18', project_name='codecarbon', run_id='868e486c-ef2f-47f1-8b33-54ddf9c190fd', experiment_id='5b0fa12a-3dd7-45bb-9766-cc326314d9f1', duration=6360.386107900001, emissions=0.01732882836475828, emissions_rate=2.724493147237521e-06, cpu_power=42.5, gpu_power=13.79208256568666, ram_power=0.08818387985229492, cpu_energy=0.0750608240994048, gpu_energy=0.02434634586595, ram_energy=0.0001551877752844463, energy_consumed=0.09956235774063935, country_name='Spain', country_iso_code='ESP', region=None, cloud_provider='', cloud_region='', os='Linux-6.8.0-57-generic-x86_64-with-glibc2.35', python_version='3.12.9', codecarbon_version='2.8.3', cpu_count=32, cpu_model='13th Gen Intel(R) Core(TM) i9-13900', gpu_count=1, gpu_model='1 x NVIDIA RTX 5000 Ada Generation', longitude=None, latitude=None, ram_total_size=62.50331497192383, tracking_mode='process', on_cloud='N', pue=1.0)\n",
      "[codecarbon INFO @ 13:00:18] 0.002709 g.CO2eq/s mean an estimation of 85.41906726940393 kg.CO2eq/year\n",
      "[codecarbon DEBUG @ 13:00:18] last_duration=14.976233966999644\n",
      "------------------------\n"
     ]
    },
    {
     "name": "stdout",
     "output_type": "stream",
     "text": [
      "[328/1000] ./test/pdf/84.pdf\n"
     ]
    },
    {
     "name": "stderr",
     "output_type": "stream",
     "text": [
      "[codecarbon INFO @ 13:00:33] Energy consumed for RAM : 0.000156 kWh. RAM Power : 0.08818387985229492 W\n",
      "[codecarbon DEBUG @ 13:00:33] RAM : 0.09 W during 14.97 s [measurement time: 0.0063]\n",
      "[codecarbon INFO @ 13:00:33] Energy consumed for all CPUs : 0.075238 kWh. Total CPU Power : 42.5 W\n",
      "[codecarbon DEBUG @ 13:00:33] CPU : 42.50 W during 14.98 s [measurement time: 0.0003]\n",
      "[codecarbon INFO @ 13:00:33] Energy consumed for all GPUs : 0.024405 kWh. Total GPU Power : 14.012283793767613 W\n",
      "[codecarbon DEBUG @ 13:00:33] GPU : 14.01 W during 14.98 s [measurement time: 0.0019]\n",
      "[codecarbon INFO @ 13:00:33] 0.099798 kWh of electricity used since the beginning.\n",
      "[codecarbon DEBUG @ 13:00:33] last_duration=14.97205155500069\n",
      "------------------------\n"
     ]
    },
    {
     "name": "stdout",
     "output_type": "stream",
     "text": [
      "[329/1000] ./test/pdf/840.pdf\n"
     ]
    },
    {
     "name": "stderr",
     "output_type": "stream",
     "text": [
      "[codecarbon INFO @ 13:00:48] Energy consumed for RAM : 0.000156 kWh. RAM Power : 0.08818387985229492 W\n",
      "[codecarbon DEBUG @ 13:00:48] RAM : 0.09 W during 14.99 s [measurement time: 0.0142]\n",
      "[codecarbon INFO @ 13:00:48] Energy consumed for all CPUs : 0.075415 kWh. Total CPU Power : 42.5 W\n",
      "[codecarbon DEBUG @ 13:00:48] CPU : 42.50 W during 15.01 s [measurement time: 0.0004]\n",
      "[codecarbon INFO @ 13:00:48] Energy consumed for all GPUs : 0.024462 kWh. Total GPU Power : 13.79395868363478 W\n",
      "[codecarbon DEBUG @ 13:00:48] GPU : 13.79 W during 15.01 s [measurement time: 0.0020]\n",
      "[codecarbon INFO @ 13:00:48] 0.100033 kWh of electricity used since the beginning.\n",
      "[codecarbon DEBUG @ 13:00:48] last_duration=14.987063698999918\n",
      "------------------------\n"
     ]
    },
    {
     "name": "stdout",
     "output_type": "stream",
     "text": [
      "[330/1000] ./test/pdf/841.pdf\n"
     ]
    },
    {
     "name": "stderr",
     "output_type": "stream",
     "text": [
      "[codecarbon INFO @ 13:01:03] Energy consumed for RAM : 0.000156 kWh. RAM Power : 0.08827543258666992 W\n",
      "[codecarbon DEBUG @ 13:01:03] RAM : 0.09 W during 14.97 s [measurement time: 0.0171]\n",
      "[codecarbon INFO @ 13:01:03] Energy consumed for all CPUs : 0.075592 kWh. Total CPU Power : 42.5 W\n",
      "[codecarbon DEBUG @ 13:01:03] CPU : 42.50 W during 15.01 s [measurement time: 0.0006]\n",
      "[codecarbon INFO @ 13:01:03] Energy consumed for all GPUs : 0.024519 kWh. Total GPU Power : 13.707106916699738 W\n",
      "[codecarbon DEBUG @ 13:01:03] GPU : 13.71 W during 15.01 s [measurement time: 0.0022]\n",
      "[codecarbon INFO @ 13:01:03] 0.100268 kWh of electricity used since the beginning.\n",
      "[codecarbon DEBUG @ 13:01:03] last_duration=14.972563983999862\n",
      "------------------------\n"
     ]
    },
    {
     "name": "stdout",
     "output_type": "stream",
     "text": [
      "[331/1000] ./test/pdf/842.pdf\n"
     ]
    },
    {
     "name": "stderr",
     "output_type": "stream",
     "text": [
      "[codecarbon INFO @ 13:01:18] Energy consumed for RAM : 0.000157 kWh. RAM Power : 0.08827543258666992 W\n",
      "[codecarbon DEBUG @ 13:01:18] RAM : 0.09 W during 14.96 s [measurement time: 0.0109]\n",
      "[codecarbon INFO @ 13:01:18] Energy consumed for all CPUs : 0.075769 kWh. Total CPU Power : 42.5 W\n",
      "[codecarbon DEBUG @ 13:01:18] CPU : 42.50 W during 14.98 s [measurement time: 0.0004]\n",
      "[codecarbon INFO @ 13:01:18] Energy consumed for all GPUs : 0.024579 kWh. Total GPU Power : 14.349600181360472 W\n",
      "[codecarbon DEBUG @ 13:01:18] GPU : 14.35 W during 14.98 s [measurement time: 0.0053]\n",
      "[codecarbon INFO @ 13:01:18] 0.100505 kWh of electricity used since the beginning.\n",
      "[codecarbon DEBUG @ 13:01:18] last_duration=14.963799804999326\n",
      "------------------------\n"
     ]
    },
    {
     "name": "stdout",
     "output_type": "stream",
     "text": [
      "[332/1000] ./test/pdf/843.pdf\n"
     ]
    },
    {
     "name": "stderr",
     "output_type": "stream",
     "text": [
      "[codecarbon INFO @ 13:01:33] Energy consumed for RAM : 0.000157 kWh. RAM Power : 0.08827543258666992 W\n",
      "[codecarbon DEBUG @ 13:01:33] RAM : 0.09 W during 14.97 s [measurement time: 0.0111]\n",
      "[codecarbon INFO @ 13:01:33] Energy consumed for all CPUs : 0.075946 kWh. Total CPU Power : 42.5 W\n",
      "[codecarbon DEBUG @ 13:01:33] CPU : 42.50 W during 14.99 s [measurement time: 0.0005]\n",
      "[codecarbon INFO @ 13:01:33] Energy consumed for all GPUs : 0.024636 kWh. Total GPU Power : 13.786849667244446 W\n",
      "[codecarbon DEBUG @ 13:01:33] GPU : 13.79 W during 15.00 s [measurement time: 0.0020]\n",
      "[codecarbon INFO @ 13:01:33] 0.100739 kWh of electricity used since the beginning.\n",
      "[codecarbon DEBUG @ 13:01:33] last_duration=14.974856390999776\n",
      "------------------------\n"
     ]
    },
    {
     "name": "stdout",
     "output_type": "stream",
     "text": [
      "[333/1000] ./test/pdf/844.pdf\n"
     ]
    },
    {
     "name": "stderr",
     "output_type": "stream",
     "text": [
      "[codecarbon INFO @ 13:01:48] Energy consumed for RAM : 0.000157 kWh. RAM Power : 0.08827543258666992 W\n",
      "[codecarbon DEBUG @ 13:01:48] RAM : 0.09 W during 14.98 s [measurement time: 0.0127]\n",
      "[codecarbon INFO @ 13:01:48] Energy consumed for all CPUs : 0.076123 kWh. Total CPU Power : 42.5 W\n",
      "[codecarbon DEBUG @ 13:01:48] CPU : 42.50 W during 15.00 s [measurement time: 0.0006]\n",
      "[codecarbon INFO @ 13:01:48] Energy consumed for all GPUs : 0.024692 kWh. Total GPU Power : 13.436383427796047 W\n",
      "[codecarbon DEBUG @ 13:01:48] GPU : 13.44 W during 15.00 s [measurement time: 0.0030]\n",
      "[codecarbon INFO @ 13:01:48] 0.100973 kWh of electricity used since the beginning.\n",
      "[codecarbon DEBUG @ 13:01:48] last_duration=14.977572265999697\n",
      "------------------------\n",
      "[codecarbon INFO @ 13:02:03] Energy consumed for RAM : 0.000158 kWh. RAM Power : 0.08827543258666992 W\n",
      "[codecarbon DEBUG @ 13:02:03] RAM : 0.09 W during 14.98 s [measurement time: 0.0132]\n",
      "[codecarbon INFO @ 13:02:03] Energy consumed for all CPUs : 0.076300 kWh. Total CPU Power : 42.5 W\n",
      "[codecarbon DEBUG @ 13:02:03] CPU : 42.50 W during 14.99 s [measurement time: 0.0006]\n",
      "[codecarbon INFO @ 13:02:03] Energy consumed for all GPUs : 0.024751 kWh. Total GPU Power : 14.119751977252118 W\n",
      "[codecarbon DEBUG @ 13:02:03] GPU : 14.12 W during 14.99 s [measurement time: 0.0023]\n",
      "[codecarbon INFO @ 13:02:03] 0.101209 kWh of electricity used since the beginning.\n",
      "[codecarbon DEBUG @ 13:02:03] last_duration=14.976052945999982\n",
      "------------------------\n"
     ]
    },
    {
     "name": "stdout",
     "output_type": "stream",
     "text": [
      "[334/1000] ./test/pdf/845.pdf\n"
     ]
    },
    {
     "name": "stderr",
     "output_type": "stream",
     "text": [
      "[codecarbon INFO @ 13:02:18] Energy consumed for RAM : 0.000158 kWh. RAM Power : 0.08827543258666992 W\n",
      "[codecarbon DEBUG @ 13:02:18] RAM : 0.09 W during 14.98 s [measurement time: 0.0136]\n",
      "[codecarbon INFO @ 13:02:18] Energy consumed for all CPUs : 0.076477 kWh. Total CPU Power : 42.5 W\n",
      "[codecarbon DEBUG @ 13:02:18] CPU : 42.50 W during 15.00 s [measurement time: 0.0006]\n",
      "[codecarbon INFO @ 13:02:18] Energy consumed for all GPUs : 0.024811 kWh. Total GPU Power : 14.326806609215557 W\n",
      "[codecarbon DEBUG @ 13:02:18] GPU : 14.33 W during 15.00 s [measurement time: 0.0044]\n",
      "[codecarbon INFO @ 13:02:18] 0.101446 kWh of electricity used since the beginning.\n",
      "[codecarbon DEBUG @ 13:02:18] We apply an energy mix of 174 g.CO2eq/kWh for Spain\n",
      "[codecarbon DEBUG @ 13:02:18] EmissionsData(timestamp='2025-04-13T13:02:18', project_name='codecarbon', run_id='868e486c-ef2f-47f1-8b33-54ddf9c190fd', experiment_id='5b0fa12a-3dd7-45bb-9766-cc326314d9f1', duration=6480.391489097001, emissions=0.017656708351439364, emissions_rate=2.7246360626740018e-06, cpu_power=42.5, gpu_power=14.326806609215557, ram_power=0.08827543258666992, cpu_energy=0.07647709458820201, gpu_energy=0.024810964848756, ram_energy=0.00015812471379953838, energy_consumed=0.10144618415075762, country_name='Spain', country_iso_code='ESP', region=None, cloud_provider='', cloud_region='', os='Linux-6.8.0-57-generic-x86_64-with-glibc2.35', python_version='3.12.9', codecarbon_version='2.8.3', cpu_count=32, cpu_model='13th Gen Intel(R) Core(TM) i9-13900', gpu_count=1, gpu_model='1 x NVIDIA RTX 5000 Ada Generation', longitude=None, latitude=None, ram_total_size=62.50331497192383, tracking_mode='process', on_cloud='N', pue=1.0)\n",
      "[codecarbon INFO @ 13:02:18] 0.002732 g.CO2eq/s mean an estimation of 86.1629966659623 kg.CO2eq/year\n",
      "[codecarbon DEBUG @ 13:02:18] last_duration=14.979634675999478\n",
      "------------------------\n"
     ]
    },
    {
     "name": "stdout",
     "output_type": "stream",
     "text": [
      "[335/1000] ./test/pdf/846.pdf\n"
     ]
    },
    {
     "name": "stderr",
     "output_type": "stream",
     "text": [
      "[codecarbon INFO @ 13:02:33] Energy consumed for RAM : 0.000158 kWh. RAM Power : 0.08827543258666992 W\n",
      "[codecarbon DEBUG @ 13:02:33] RAM : 0.09 W during 14.97 s [measurement time: 0.0149]\n",
      "[codecarbon INFO @ 13:02:33] Energy consumed for all CPUs : 0.076654 kWh. Total CPU Power : 42.5 W\n",
      "[codecarbon DEBUG @ 13:02:33] CPU : 42.50 W during 15.00 s [measurement time: 0.0003]\n",
      "[codecarbon INFO @ 13:02:33] Energy consumed for all GPUs : 0.024867 kWh. Total GPU Power : 13.53971792818506 W\n",
      "[codecarbon DEBUG @ 13:02:33] GPU : 13.54 W during 15.00 s [measurement time: 0.0031]\n",
      "[codecarbon INFO @ 13:02:33] 0.101680 kWh of electricity used since the beginning.\n",
      "[codecarbon DEBUG @ 13:02:33] last_duration=14.973987160999968\n",
      "------------------------\n"
     ]
    },
    {
     "name": "stdout",
     "output_type": "stream",
     "text": [
      "[336/1000] ./test/pdf/847.pdf\n"
     ]
    },
    {
     "name": "stderr",
     "output_type": "stream",
     "text": [
      "[codecarbon INFO @ 13:02:48] Energy consumed for RAM : 0.000159 kWh. RAM Power : 0.08827543258666992 W\n",
      "[codecarbon DEBUG @ 13:02:48] RAM : 0.09 W during 14.97 s [measurement time: 0.0155]\n",
      "[codecarbon INFO @ 13:02:48] Energy consumed for all CPUs : 0.076831 kWh. Total CPU Power : 42.5 W\n",
      "[codecarbon DEBUG @ 13:02:48] CPU : 42.50 W during 15.00 s [measurement time: 0.0003]\n",
      "[codecarbon INFO @ 13:02:48] Energy consumed for all GPUs : 0.024925 kWh. Total GPU Power : 13.71566131911751 W\n",
      "[codecarbon DEBUG @ 13:02:48] GPU : 13.72 W during 15.00 s [measurement time: 0.0020]\n",
      "[codecarbon INFO @ 13:02:48] 0.101915 kWh of electricity used since the beginning.\n",
      "[codecarbon DEBUG @ 13:02:48] last_duration=14.970224339999731\n",
      "------------------------\n",
      "[codecarbon INFO @ 13:03:03] Energy consumed for RAM : 0.000159 kWh. RAM Power : 0.08827543258666992 W\n",
      "[codecarbon DEBUG @ 13:03:03] RAM : 0.09 W during 14.97 s [measurement time: 0.0148]\n",
      "[codecarbon INFO @ 13:03:03] Energy consumed for all CPUs : 0.077008 kWh. Total CPU Power : 42.5 W\n",
      "[codecarbon DEBUG @ 13:03:03] CPU : 42.50 W during 15.00 s [measurement time: 0.0005]\n",
      "[codecarbon INFO @ 13:03:03] Energy consumed for all GPUs : 0.024981 kWh. Total GPU Power : 13.585703937550917 W\n",
      "[codecarbon DEBUG @ 13:03:03] GPU : 13.59 W during 15.00 s [measurement time: 0.0022]\n",
      "[codecarbon INFO @ 13:03:03] 0.102149 kWh of electricity used since the beginning.\n",
      "[codecarbon DEBUG @ 13:03:03] last_duration=14.972991734999596\n",
      "------------------------\n"
     ]
    },
    {
     "name": "stdout",
     "output_type": "stream",
     "text": [
      "[337/1000] ./test/pdf/848.pdf\n"
     ]
    },
    {
     "name": "stderr",
     "output_type": "stream",
     "text": [
      "[codecarbon INFO @ 13:03:18] Energy consumed for RAM : 0.000160 kWh. RAM Power : 0.08818387985229492 W\n",
      "[codecarbon DEBUG @ 13:03:18] RAM : 0.09 W during 14.97 s [measurement time: 0.0144]\n",
      "[codecarbon INFO @ 13:03:18] Energy consumed for all CPUs : 0.077185 kWh. Total CPU Power : 42.5 W\n",
      "[codecarbon DEBUG @ 13:03:18] CPU : 42.50 W during 15.00 s [measurement time: 0.0005]\n",
      "[codecarbon INFO @ 13:03:18] Energy consumed for all GPUs : 0.025042 kWh. Total GPU Power : 14.66592279877482 W\n",
      "[codecarbon DEBUG @ 13:03:18] GPU : 14.67 W during 15.00 s [measurement time: 0.0053]\n",
      "[codecarbon INFO @ 13:03:18] 0.102387 kWh of electricity used since the beginning.\n",
      "[codecarbon DEBUG @ 13:03:18] last_duration=14.973235327000111\n",
      "------------------------\n"
     ]
    },
    {
     "name": "stdout",
     "output_type": "stream",
     "text": [
      "[338/1000] ./test/pdf/849.pdf\n"
     ]
    },
    {
     "name": "stderr",
     "output_type": "stream",
     "text": [
      "[codecarbon INFO @ 13:03:33] Energy consumed for RAM : 0.000160 kWh. RAM Power : 0.08818387985229492 W\n",
      "[codecarbon DEBUG @ 13:03:33] RAM : 0.09 W during 14.97 s [measurement time: 0.0128]\n",
      "[codecarbon INFO @ 13:03:33] Energy consumed for all CPUs : 0.077362 kWh. Total CPU Power : 42.5 W\n",
      "[codecarbon DEBUG @ 13:03:33] CPU : 42.50 W during 14.99 s [measurement time: 0.0006]\n",
      "[codecarbon INFO @ 13:03:33] Energy consumed for all GPUs : 0.025095 kWh. Total GPU Power : 12.634322872638238 W\n",
      "[codecarbon DEBUG @ 13:03:33] GPU : 12.63 W during 14.99 s [measurement time: 0.0103]\n",
      "[codecarbon INFO @ 13:03:33] 0.102617 kWh of electricity used since the beginning.\n",
      "[codecarbon DEBUG @ 13:03:33] last_duration=14.971496902000581\n",
      "------------------------\n"
     ]
    },
    {
     "name": "stdout",
     "output_type": "stream",
     "text": [
      "[339/1000] ./test/pdf/85.pdf\n"
     ]
    },
    {
     "name": "stderr",
     "output_type": "stream",
     "text": [
      "[codecarbon INFO @ 13:03:48] Energy consumed for RAM : 0.000160 kWh. RAM Power : 0.08818387985229492 W\n",
      "[codecarbon DEBUG @ 13:03:48] RAM : 0.09 W during 14.97 s [measurement time: 0.0116]\n",
      "[codecarbon INFO @ 13:03:48] Energy consumed for all CPUs : 0.077539 kWh. Total CPU Power : 42.5 W\n",
      "[codecarbon DEBUG @ 13:03:48] CPU : 42.50 W during 15.00 s [measurement time: 0.0003]\n",
      "[codecarbon INFO @ 13:03:48] Energy consumed for all GPUs : 0.025155 kWh. Total GPU Power : 14.332664045489649 W\n",
      "[codecarbon DEBUG @ 13:03:48] GPU : 14.33 W during 15.00 s [measurement time: 0.0019]\n",
      "[codecarbon INFO @ 13:03:48] 0.102854 kWh of electricity used since the beginning.\n",
      "[codecarbon DEBUG @ 13:03:48] last_duration=14.96758301799946\n",
      "------------------------\n"
     ]
    },
    {
     "name": "stdout",
     "output_type": "stream",
     "text": [
      "[340/1000] ./test/pdf/850.pdf\n"
     ]
    },
    {
     "name": "stderr",
     "output_type": "stream",
     "text": [
      "[codecarbon INFO @ 13:04:03] Energy consumed for RAM : 0.000161 kWh. RAM Power : 0.08818387985229492 W\n",
      "[codecarbon DEBUG @ 13:04:03] RAM : 0.09 W during 14.97 s [measurement time: 0.0180]\n",
      "[codecarbon INFO @ 13:04:03] Energy consumed for all CPUs : 0.077716 kWh. Total CPU Power : 42.5 W\n",
      "[codecarbon DEBUG @ 13:04:03] CPU : 42.50 W during 15.00 s [measurement time: 0.0007]\n",
      "[codecarbon INFO @ 13:04:03] Energy consumed for all GPUs : 0.025212 kWh. Total GPU Power : 13.837869054559889 W\n",
      "[codecarbon DEBUG @ 13:04:03] GPU : 13.84 W during 15.00 s [measurement time: 0.0024]\n",
      "[codecarbon INFO @ 13:04:03] 0.103089 kWh of electricity used since the beginning.\n",
      "[codecarbon DEBUG @ 13:04:03] last_duration=14.96908913400057\n",
      "------------------------\n",
      "[codecarbon INFO @ 13:04:18] Energy consumed for RAM : 0.000161 kWh. RAM Power : 0.08818387985229492 W\n",
      "[codecarbon DEBUG @ 13:04:18] RAM : 0.09 W during 14.96 s [measurement time: 0.0154]\n",
      "[codecarbon INFO @ 13:04:18] Energy consumed for all CPUs : 0.077893 kWh. Total CPU Power : 42.5 W\n",
      "[codecarbon DEBUG @ 13:04:18] CPU : 42.50 W during 14.99 s [measurement time: 0.0004]\n",
      "[codecarbon INFO @ 13:04:18] Energy consumed for all GPUs : 0.025273 kWh. Total GPU Power : 14.479166592341745 W\n",
      "[codecarbon DEBUG @ 13:04:18] GPU : 14.48 W during 14.99 s [measurement time: 0.0021]\n",
      "[codecarbon INFO @ 13:04:18] 0.103327 kWh of electricity used since the beginning.\n",
      "[codecarbon DEBUG @ 13:04:18] We apply an energy mix of 174 g.CO2eq/kWh for Spain\n",
      "[codecarbon DEBUG @ 13:04:18] EmissionsData(timestamp='2025-04-13T13:04:18', project_name='codecarbon', run_id='868e486c-ef2f-47f1-8b33-54ddf9c190fd', experiment_id='5b0fa12a-3dd7-45bb-9766-cc326314d9f1', duration=6600.402829789001, emissions=0.017984054974080243, emissions_rate=2.724690513269044e-06, cpu_power=42.5, gpu_power=14.479166592341745, ram_power=0.08818387985229492, cpu_energy=0.07789338582897007, gpu_energy=0.02527250077354, ram_energy=0.00016105952837319572, energy_consumed=0.10332694613088332, country_name='Spain', country_iso_code='ESP', region=None, cloud_provider='', cloud_region='', os='Linux-6.8.0-57-generic-x86_64-with-glibc2.35', python_version='3.12.9', codecarbon_version='2.8.3', cpu_count=32, cpu_model='13th Gen Intel(R) Core(TM) i9-13900', gpu_count=1, gpu_model='1 x NVIDIA RTX 5000 Ada Generation', longitude=None, latitude=None, ram_total_size=62.50331497192383, tracking_mode='process', on_cloud='N', pue=1.0)\n",
      "[codecarbon INFO @ 13:04:18] 0.002728 g.CO2eq/s mean an estimation of 86.01856317976217 kg.CO2eq/year\n",
      "[codecarbon DEBUG @ 13:04:18] last_duration=14.96491090299969\n",
      "------------------------\n"
     ]
    },
    {
     "name": "stdout",
     "output_type": "stream",
     "text": [
      "[341/1000] ./test/pdf/851.pdf\n"
     ]
    },
    {
     "name": "stderr",
     "output_type": "stream",
     "text": [
      "[codecarbon INFO @ 13:04:33] Energy consumed for RAM : 0.000161 kWh. RAM Power : 0.08818387985229492 W\n",
      "[codecarbon DEBUG @ 13:04:33] RAM : 0.09 W during 14.97 s [measurement time: 0.0166]\n",
      "[codecarbon INFO @ 13:04:33] Energy consumed for all CPUs : 0.078070 kWh. Total CPU Power : 42.5 W\n",
      "[codecarbon DEBUG @ 13:04:33] CPU : 42.50 W during 15.00 s [measurement time: 0.0004]\n",
      "[codecarbon INFO @ 13:04:33] Energy consumed for all GPUs : 0.025327 kWh. Total GPU Power : 13.030464960817763 W\n",
      "[codecarbon DEBUG @ 13:04:33] GPU : 13.03 W during 15.00 s [measurement time: 0.0023]\n",
      "[codecarbon INFO @ 13:04:33] 0.103559 kWh of electricity used since the beginning.\n",
      "[codecarbon DEBUG @ 13:04:33] last_duration=14.970059131000198\n",
      "------------------------\n"
     ]
    },
    {
     "name": "stdout",
     "output_type": "stream",
     "text": [
      "[342/1000] ./test/pdf/852.pdf\n"
     ]
    },
    {
     "name": "stderr",
     "output_type": "stream",
     "text": [
      "[codecarbon INFO @ 13:04:48] Energy consumed for RAM : 0.000162 kWh. RAM Power : 0.08818387985229492 W\n",
      "[codecarbon DEBUG @ 13:04:48] RAM : 0.09 W during 14.97 s [measurement time: 0.0126]\n",
      "[codecarbon INFO @ 13:04:48] Energy consumed for all CPUs : 0.078247 kWh. Total CPU Power : 42.5 W\n",
      "[codecarbon DEBUG @ 13:04:48] CPU : 42.50 W during 14.99 s [measurement time: 0.0003]\n",
      "[codecarbon INFO @ 13:04:48] Energy consumed for all GPUs : 0.025383 kWh. Total GPU Power : 13.473661758086847 W\n",
      "[codecarbon DEBUG @ 13:04:48] GPU : 13.47 W during 14.99 s [measurement time: 0.0041]\n",
      "[codecarbon INFO @ 13:04:48] 0.103792 kWh of electricity used since the beginning.\n",
      "[codecarbon DEBUG @ 13:04:48] last_duration=14.971058563000042\n",
      "------------------------\n"
     ]
    },
    {
     "name": "stdout",
     "output_type": "stream",
     "text": [
      "[343/1000] ./test/pdf/853.pdf\n"
     ]
    },
    {
     "name": "stderr",
     "output_type": "stream",
     "text": [
      "[codecarbon INFO @ 13:05:03] Energy consumed for RAM : 0.000162 kWh. RAM Power : 0.08818387985229492 W\n",
      "[codecarbon DEBUG @ 13:05:03] RAM : 0.09 W during 14.97 s [measurement time: 0.0177]\n",
      "[codecarbon INFO @ 13:05:03] Energy consumed for all CPUs : 0.078425 kWh. Total CPU Power : 42.5 W\n",
      "[codecarbon DEBUG @ 13:05:03] CPU : 42.50 W during 15.00 s [measurement time: 0.0006]\n",
      "[codecarbon INFO @ 13:05:03] Energy consumed for all GPUs : 0.025442 kWh. Total GPU Power : 14.282962457962434 W\n",
      "[codecarbon DEBUG @ 13:05:03] GPU : 14.28 W during 15.01 s [measurement time: 0.0068]\n",
      "[codecarbon INFO @ 13:05:03] 0.104029 kWh of electricity used since the beginning.\n",
      "[codecarbon DEBUG @ 13:05:03] last_duration=14.973203958999875\n",
      "------------------------\n",
      "[codecarbon INFO @ 13:05:18] Energy consumed for RAM : 0.000163 kWh. RAM Power : 0.08818387985229492 W\n",
      "[codecarbon DEBUG @ 13:05:18] RAM : 0.09 W during 14.96 s [measurement time: 0.0135]\n",
      "[codecarbon INFO @ 13:05:18] Energy consumed for all CPUs : 0.078601 kWh. Total CPU Power : 42.5 W\n",
      "[codecarbon DEBUG @ 13:05:18] CPU : 42.50 W during 14.99 s [measurement time: 0.0009]\n",
      "[codecarbon INFO @ 13:05:18] Energy consumed for all GPUs : 0.025498 kWh. Total GPU Power : 13.241952801276112 W\n",
      "[codecarbon DEBUG @ 13:05:18] GPU : 13.24 W during 14.99 s [measurement time: 0.0103]\n",
      "[codecarbon INFO @ 13:05:18] 0.104262 kWh of electricity used since the beginning.\n",
      "[codecarbon DEBUG @ 13:05:18] last_duration=14.960810445999414\n",
      "------------------------\n"
     ]
    },
    {
     "name": "stdout",
     "output_type": "stream",
     "text": [
      "[344/1000] ./test/pdf/854.pdf\n"
     ]
    },
    {
     "name": "stderr",
     "output_type": "stream",
     "text": [
      "[codecarbon INFO @ 13:05:33] Energy consumed for RAM : 0.000163 kWh. RAM Power : 0.08818387985229492 W\n",
      "[codecarbon DEBUG @ 13:05:33] RAM : 0.09 W during 14.96 s [measurement time: 0.0124]\n",
      "[codecarbon INFO @ 13:05:33] Energy consumed for all CPUs : 0.078778 kWh. Total CPU Power : 42.5 W\n",
      "[codecarbon DEBUG @ 13:05:33] CPU : 42.50 W during 14.98 s [measurement time: 0.0005]\n",
      "[codecarbon INFO @ 13:05:33] Energy consumed for all GPUs : 0.025556 kWh. Total GPU Power : 14.152427480149699 W\n",
      "[codecarbon DEBUG @ 13:05:33] GPU : 14.15 W during 14.98 s [measurement time: 0.0022]\n",
      "[codecarbon INFO @ 13:05:33] 0.104498 kWh of electricity used since the beginning.\n",
      "[codecarbon DEBUG @ 13:05:33] last_duration=14.964372964999711\n",
      "------------------------\n",
      "[codecarbon INFO @ 13:05:48] Energy consumed for RAM : 0.000163 kWh. RAM Power : 0.08818387985229492 W\n",
      "[codecarbon DEBUG @ 13:05:48] RAM : 0.09 W during 14.98 s [measurement time: 0.0173]\n",
      "[codecarbon INFO @ 13:05:48] Energy consumed for all CPUs : 0.078956 kWh. Total CPU Power : 42.5 W\n",
      "[codecarbon DEBUG @ 13:05:48] CPU : 42.50 W during 15.01 s [measurement time: 0.0005]\n",
      "[codecarbon INFO @ 13:05:48] Energy consumed for all GPUs : 0.025613 kWh. Total GPU Power : 13.45175845212168 W\n",
      "[codecarbon DEBUG @ 13:05:48] GPU : 13.45 W during 15.01 s [measurement time: 0.0021]\n",
      "[codecarbon INFO @ 13:05:48] 0.104731 kWh of electricity used since the beginning.\n",
      "[codecarbon DEBUG @ 13:05:48] last_duration=14.980154466000386\n",
      "------------------------\n"
     ]
    },
    {
     "name": "stdout",
     "output_type": "stream",
     "text": [
      "[345/1000] ./test/pdf/855.pdf\n"
     ]
    },
    {
     "name": "stderr",
     "output_type": "stream",
     "text": [
      "[codecarbon INFO @ 13:06:03] Energy consumed for RAM : 0.000164 kWh. RAM Power : 0.08818387985229492 W\n",
      "[codecarbon DEBUG @ 13:06:03] RAM : 0.09 W during 14.97 s [measurement time: 0.0123]\n",
      "[codecarbon INFO @ 13:06:03] Energy consumed for all CPUs : 0.079132 kWh. Total CPU Power : 42.5 W\n",
      "[codecarbon DEBUG @ 13:06:03] CPU : 42.50 W during 14.98 s [measurement time: 0.0005]\n",
      "[codecarbon INFO @ 13:06:03] Energy consumed for all GPUs : 0.025672 kWh. Total GPU Power : 14.309444487013845 W\n",
      "[codecarbon DEBUG @ 13:06:03] GPU : 14.31 W during 14.99 s [measurement time: 0.0020]\n",
      "[codecarbon INFO @ 13:06:03] 0.104968 kWh of electricity used since the beginning.\n",
      "[codecarbon DEBUG @ 13:06:03] last_duration=14.96850411899959\n",
      "------------------------\n"
     ]
    },
    {
     "name": "stdout",
     "output_type": "stream",
     "text": [
      "[346/1000] ./test/pdf/856.pdf\n"
     ]
    },
    {
     "name": "stderr",
     "output_type": "stream",
     "text": [
      "[codecarbon INFO @ 13:06:18] Energy consumed for RAM : 0.000164 kWh. RAM Power : 0.08818387985229492 W\n",
      "[codecarbon DEBUG @ 13:06:18] RAM : 0.09 W during 14.98 s [measurement time: 0.0137]\n",
      "[codecarbon INFO @ 13:06:18] Energy consumed for all CPUs : 0.079310 kWh. Total CPU Power : 42.5 W\n",
      "[codecarbon DEBUG @ 13:06:18] CPU : 42.50 W during 15.00 s [measurement time: 0.0009]\n",
      "[codecarbon INFO @ 13:06:18] Energy consumed for all GPUs : 0.025732 kWh. Total GPU Power : 14.255164770383349 W\n",
      "[codecarbon DEBUG @ 13:06:18] GPU : 14.26 W during 15.00 s [measurement time: 0.0034]\n",
      "[codecarbon INFO @ 13:06:18] 0.105205 kWh of electricity used since the beginning.\n",
      "[codecarbon DEBUG @ 13:06:18] We apply an energy mix of 174 g.CO2eq/kWh for Spain\n",
      "[codecarbon DEBUG @ 13:06:18] EmissionsData(timestamp='2025-04-13T13:06:18', project_name='codecarbon', run_id='868e486c-ef2f-47f1-8b33-54ddf9c190fd', experiment_id='5b0fa12a-3dd7-45bb-9766-cc326314d9f1', duration=6720.404389736001, emissions=0.01831093206911487, emissions_rate=2.7246771186985342e-06, cpu_power=42.5, gpu_power=14.255164770383349, ram_power=0.08818387985229492, cpu_energy=0.07930950570475617, gpu_energy=0.025731511418526, ram_energy=0.0001639933283975806, energy_consumed=0.10520501045167979, country_name='Spain', country_iso_code='ESP', region=None, cloud_provider='', cloud_region='', os='Linux-6.8.0-57-generic-x86_64-with-glibc2.35', python_version='3.12.9', codecarbon_version='2.8.3', cpu_count=32, cpu_model='13th Gen Intel(R) Core(TM) i9-13900', gpu_count=1, gpu_model='1 x NVIDIA RTX 5000 Ada Generation', longitude=None, latitude=None, ram_total_size=62.50331497192383, tracking_mode='process', on_cloud='N', pue=1.0)\n",
      "[codecarbon INFO @ 13:06:18] 0.002724 g.CO2eq/s mean an estimation of 85.9021838846494 kg.CO2eq/year\n",
      "[codecarbon DEBUG @ 13:06:18] last_duration=14.980581024000458\n",
      "------------------------\n"
     ]
    },
    {
     "name": "stdout",
     "output_type": "stream",
     "text": [
      "[347/1000] ./test/pdf/857.pdf\n"
     ]
    },
    {
     "name": "stderr",
     "output_type": "stream",
     "text": [
      "[codecarbon INFO @ 13:06:33] Energy consumed for RAM : 0.000164 kWh. RAM Power : 0.08818387985229492 W\n",
      "[codecarbon DEBUG @ 13:06:33] RAM : 0.09 W during 14.98 s [measurement time: 0.0129]\n",
      "[codecarbon INFO @ 13:06:33] Energy consumed for all CPUs : 0.079487 kWh. Total CPU Power : 42.5 W\n",
      "[codecarbon DEBUG @ 13:06:33] CPU : 42.50 W during 15.00 s [measurement time: 0.0005]\n",
      "[codecarbon INFO @ 13:06:33] Energy consumed for all GPUs : 0.025787 kWh. Total GPU Power : 13.218703918668893 W\n",
      "[codecarbon DEBUG @ 13:06:33] GPU : 13.22 W during 15.00 s [measurement time: 0.0024]\n",
      "[codecarbon INFO @ 13:06:33] 0.105437 kWh of electricity used since the beginning.\n",
      "[codecarbon DEBUG @ 13:06:33] last_duration=14.975461936000102\n",
      "------------------------\n",
      "[codecarbon INFO @ 13:06:48] Energy consumed for RAM : 0.000165 kWh. RAM Power : 0.08818387985229492 W\n",
      "[codecarbon DEBUG @ 13:06:48] RAM : 0.09 W during 14.98 s [measurement time: 0.0120]\n",
      "[codecarbon INFO @ 13:06:48] Energy consumed for all CPUs : 0.079664 kWh. Total CPU Power : 42.5 W\n",
      "[codecarbon DEBUG @ 13:06:48] CPU : 42.50 W during 14.99 s [measurement time: 0.0004]\n",
      "[codecarbon INFO @ 13:06:48] Energy consumed for all GPUs : 0.025839 kWh. Total GPU Power : 12.637685576854253 W\n",
      "[codecarbon DEBUG @ 13:06:48] GPU : 12.64 W during 14.99 s [measurement time: 0.0019]\n",
      "[codecarbon INFO @ 13:06:48] 0.105667 kWh of electricity used since the beginning.\n",
      "[codecarbon DEBUG @ 13:06:48] last_duration=14.97559373600052\n",
      "------------------------\n"
     ]
    },
    {
     "name": "stdout",
     "output_type": "stream",
     "text": [
      "[348/1000] ./test/pdf/858.pdf\n"
     ]
    },
    {
     "name": "stderr",
     "output_type": "stream",
     "text": [
      "[codecarbon INFO @ 13:07:03] Energy consumed for RAM : 0.000165 kWh. RAM Power : 0.08818387985229492 W\n",
      "[codecarbon DEBUG @ 13:07:03] RAM : 0.09 W during 14.98 s [measurement time: 0.0124]\n",
      "[codecarbon INFO @ 13:07:03] Energy consumed for all CPUs : 0.079841 kWh. Total CPU Power : 42.5 W\n",
      "[codecarbon DEBUG @ 13:07:03] CPU : 42.50 W during 15.00 s [measurement time: 0.0004]\n",
      "[codecarbon INFO @ 13:07:03] Energy consumed for all GPUs : 0.025894 kWh. Total GPU Power : 13.187775115823246 W\n",
      "[codecarbon DEBUG @ 13:07:03] GPU : 13.19 W during 15.00 s [measurement time: 0.0041]\n",
      "[codecarbon INFO @ 13:07:03] 0.105900 kWh of electricity used since the beginning.\n",
      "[codecarbon DEBUG @ 13:07:03] last_duration=14.980442605999997\n",
      "------------------------\n"
     ]
    },
    {
     "name": "stdout",
     "output_type": "stream",
     "text": [
      "[349/1000] ./test/pdf/859.pdf\n"
     ]
    },
    {
     "name": "stderr",
     "output_type": "stream",
     "text": [
      "[codecarbon INFO @ 13:07:18] Energy consumed for RAM : 0.000165 kWh. RAM Power : 0.08818387985229492 W\n",
      "[codecarbon DEBUG @ 13:07:18] RAM : 0.09 W during 14.97 s [measurement time: 0.0137]\n",
      "[codecarbon INFO @ 13:07:18] Energy consumed for all CPUs : 0.080018 kWh. Total CPU Power : 42.5 W\n",
      "[codecarbon DEBUG @ 13:07:18] CPU : 42.50 W during 15.00 s [measurement time: 0.0004]\n",
      "[codecarbon INFO @ 13:07:18] Energy consumed for all GPUs : 0.025948 kWh. Total GPU Power : 12.86186694307944 W\n",
      "[codecarbon DEBUG @ 13:07:18] GPU : 12.86 W during 15.00 s [measurement time: 0.0029]\n",
      "[codecarbon INFO @ 13:07:18] 0.106131 kWh of electricity used since the beginning.\n",
      "[codecarbon DEBUG @ 13:07:18] last_duration=14.974658745999477\n",
      "------------------------\n"
     ]
    },
    {
     "name": "stdout",
     "output_type": "stream",
     "text": [
      "[350/1000] ./test/pdf/86.pdf\n"
     ]
    },
    {
     "name": "stderr",
     "output_type": "stream",
     "text": [
      "[codecarbon INFO @ 13:07:33] Energy consumed for RAM : 0.000166 kWh. RAM Power : 0.08818387985229492 W\n",
      "[codecarbon DEBUG @ 13:07:33] RAM : 0.09 W during 14.97 s [measurement time: 0.0056]\n",
      "[codecarbon INFO @ 13:07:33] Energy consumed for all CPUs : 0.080195 kWh. Total CPU Power : 42.5 W\n",
      "[codecarbon DEBUG @ 13:07:33] CPU : 42.50 W during 14.98 s [measurement time: 0.0004]\n",
      "[codecarbon INFO @ 13:07:33] Energy consumed for all GPUs : 0.026004 kWh. Total GPU Power : 13.417342702247208 W\n",
      "[codecarbon DEBUG @ 13:07:33] GPU : 13.42 W during 14.98 s [measurement time: 0.0019]\n",
      "[codecarbon INFO @ 13:07:33] 0.106364 kWh of electricity used since the beginning.\n",
      "[codecarbon DEBUG @ 13:07:33] last_duration=14.970313324000017\n",
      "------------------------\n"
     ]
    },
    {
     "name": "stdout",
     "output_type": "stream",
     "text": [
      "[351/1000] ./test/pdf/860.pdf\n"
     ]
    },
    {
     "name": "stderr",
     "output_type": "stream",
     "text": [
      "[codecarbon INFO @ 13:07:48] Energy consumed for RAM : 0.000166 kWh. RAM Power : 0.08818387985229492 W\n",
      "[codecarbon DEBUG @ 13:07:48] RAM : 0.09 W during 14.99 s [measurement time: 0.0139]\n",
      "[codecarbon INFO @ 13:07:48] Energy consumed for all CPUs : 0.080372 kWh. Total CPU Power : 42.5 W\n",
      "[codecarbon DEBUG @ 13:07:48] CPU : 42.50 W during 15.01 s [measurement time: 0.0005]\n",
      "[codecarbon INFO @ 13:07:48] Energy consumed for all GPUs : 0.026059 kWh. Total GPU Power : 13.38942584004931 W\n",
      "[codecarbon DEBUG @ 13:07:48] GPU : 13.39 W during 15.01 s [measurement time: 0.0028]\n",
      "[codecarbon INFO @ 13:07:48] 0.106597 kWh of electricity used since the beginning.\n",
      "[codecarbon DEBUG @ 13:07:48] last_duration=14.98737653399985\n",
      "------------------------\n",
      "[codecarbon INFO @ 13:08:03] Energy consumed for RAM : 0.000167 kWh. RAM Power : 0.08818387985229492 W\n",
      "[codecarbon DEBUG @ 13:08:03] RAM : 0.09 W during 14.97 s [measurement time: 0.0153]\n",
      "[codecarbon INFO @ 13:08:03] Energy consumed for all CPUs : 0.080549 kWh. Total CPU Power : 42.5 W\n",
      "[codecarbon DEBUG @ 13:08:03] CPU : 42.50 W during 15.00 s [measurement time: 0.0005]\n",
      "[codecarbon INFO @ 13:08:03] Energy consumed for all GPUs : 0.026117 kWh. Total GPU Power : 13.89565117622512 W\n",
      "[codecarbon DEBUG @ 13:08:03] GPU : 13.90 W during 15.00 s [measurement time: 0.0039]\n",
      "[codecarbon INFO @ 13:08:03] 0.106833 kWh of electricity used since the beginning.\n",
      "[codecarbon DEBUG @ 13:08:03] last_duration=14.970682166999723\n",
      "------------------------\n"
     ]
    },
    {
     "name": "stdout",
     "output_type": "stream",
     "text": [
      "[352/1000] ./test/pdf/861.pdf\n"
     ]
    },
    {
     "name": "stderr",
     "output_type": "stream",
     "text": [
      "[codecarbon INFO @ 13:08:18] Energy consumed for RAM : 0.000167 kWh. RAM Power : 0.08818387985229492 W\n",
      "[codecarbon DEBUG @ 13:08:18] RAM : 0.09 W during 14.97 s [measurement time: 0.0115]\n",
      "[codecarbon INFO @ 13:08:18] Energy consumed for all CPUs : 0.080726 kWh. Total CPU Power : 42.5 W\n",
      "[codecarbon DEBUG @ 13:08:18] CPU : 42.50 W during 15.00 s [measurement time: 0.0011]\n",
      "[codecarbon INFO @ 13:08:18] Energy consumed for all GPUs : 0.026173 kWh. Total GPU Power : 13.389439224576687 W\n",
      "[codecarbon DEBUG @ 13:08:18] GPU : 13.39 W during 15.00 s [measurement time: 0.0026]\n",
      "[codecarbon INFO @ 13:08:18] 0.107066 kWh of electricity used since the beginning.\n",
      "[codecarbon DEBUG @ 13:08:18] We apply an energy mix of 174 g.CO2eq/kWh for Spain\n",
      "[codecarbon DEBUG @ 13:08:18] EmissionsData(timestamp='2025-04-13T13:08:18', project_name='codecarbon', run_id='868e486c-ef2f-47f1-8b33-54ddf9c190fd', experiment_id='5b0fa12a-3dd7-45bb-9766-cc326314d9f1', duration=6840.419766331001, emissions=0.018634823336301943, emissions_rate=2.724222192916256e-06, cpu_power=42.5, gpu_power=13.389439224576687, ram_power=0.08818387985229492, cpu_energy=0.08072588086537494, gpu_energy=0.026173110938472, ram_energy=0.0001669279680688193, energy_consumed=0.10706591977191579, country_name='Spain', country_iso_code='ESP', region=None, cloud_provider='', cloud_region='', os='Linux-6.8.0-57-generic-x86_64-with-glibc2.35', python_version='3.12.9', codecarbon_version='2.8.3', cpu_count=32, cpu_model='13th Gen Intel(R) Core(TM) i9-13900', gpu_count=1, gpu_model='1 x NVIDIA RTX 5000 Ada Generation', longitude=None, latitude=None, ram_total_size=62.50331497192383, tracking_mode='process', on_cloud='N', pue=1.0)\n",
      "[codecarbon INFO @ 13:08:18] 0.002699 g.CO2eq/s mean an estimation of 85.10771945898408 kg.CO2eq/year\n",
      "[codecarbon DEBUG @ 13:08:18] last_duration=14.968495158000223\n",
      "------------------------\n"
     ]
    },
    {
     "name": "stdout",
     "output_type": "stream",
     "text": [
      "[353/1000] ./test/pdf/862.pdf\n"
     ]
    },
    {
     "name": "stderr",
     "output_type": "stream",
     "text": [
      "[codecarbon INFO @ 13:08:33] Energy consumed for RAM : 0.000167 kWh. RAM Power : 0.08818387985229492 W\n",
      "[codecarbon DEBUG @ 13:08:33] RAM : 0.09 W during 14.97 s [measurement time: 0.0111]\n",
      "[codecarbon INFO @ 13:08:33] Energy consumed for all CPUs : 0.080903 kWh. Total CPU Power : 42.5 W\n",
      "[codecarbon DEBUG @ 13:08:33] CPU : 42.50 W during 14.98 s [measurement time: 0.0003]\n",
      "[codecarbon INFO @ 13:08:33] Energy consumed for all GPUs : 0.026224 kWh. Total GPU Power : 12.331313611428998 W\n",
      "[codecarbon DEBUG @ 13:08:33] GPU : 12.33 W during 14.98 s [measurement time: 0.0029]\n",
      "[codecarbon INFO @ 13:08:33] 0.107294 kWh of electricity used since the beginning.\n",
      "[codecarbon DEBUG @ 13:08:33] last_duration=14.966268755999408\n",
      "------------------------\n",
      "[codecarbon INFO @ 13:08:48] Energy consumed for RAM : 0.000168 kWh. RAM Power : 0.08818387985229492 W\n",
      "[codecarbon DEBUG @ 13:08:48] RAM : 0.09 W during 14.98 s [measurement time: 0.0118]\n",
      "[codecarbon INFO @ 13:08:48] Energy consumed for all CPUs : 0.081080 kWh. Total CPU Power : 42.5 W\n",
      "[codecarbon DEBUG @ 13:08:48] CPU : 42.50 W during 15.00 s [measurement time: 0.0005]\n",
      "[codecarbon INFO @ 13:08:48] Energy consumed for all GPUs : 0.026280 kWh. Total GPU Power : 13.241504220352862 W\n",
      "[codecarbon DEBUG @ 13:08:48] GPU : 13.24 W during 15.00 s [measurement time: 0.0022]\n",
      "[codecarbon INFO @ 13:08:48] 0.107527 kWh of electricity used since the beginning.\n",
      "[codecarbon DEBUG @ 13:08:48] last_duration=14.980932149000182\n",
      "------------------------\n"
     ]
    },
    {
     "name": "stdout",
     "output_type": "stream",
     "text": [
      "[354/1000] ./test/pdf/863.pdf\n"
     ]
    },
    {
     "name": "stderr",
     "output_type": "stream",
     "text": [
      "[codecarbon INFO @ 13:09:03] Energy consumed for RAM : 0.000168 kWh. RAM Power : 0.08818387985229492 W\n",
      "[codecarbon DEBUG @ 13:09:03] RAM : 0.09 W during 14.98 s [measurement time: 0.0113]\n",
      "[codecarbon INFO @ 13:09:03] Energy consumed for all CPUs : 0.081257 kWh. Total CPU Power : 42.5 W\n",
      "[codecarbon DEBUG @ 13:09:03] CPU : 42.50 W during 15.00 s [measurement time: 0.0005]\n",
      "[codecarbon INFO @ 13:09:03] Energy consumed for all GPUs : 0.026336 kWh. Total GPU Power : 13.469944719701408 W\n",
      "[codecarbon DEBUG @ 13:09:03] GPU : 13.47 W during 15.00 s [measurement time: 0.0065]\n",
      "[codecarbon INFO @ 13:09:03] 0.107761 kWh of electricity used since the beginning.\n",
      "[codecarbon DEBUG @ 13:09:03] last_duration=14.980469181999979\n",
      "------------------------\n",
      "[codecarbon INFO @ 13:09:18] Energy consumed for RAM : 0.000168 kWh. RAM Power : 0.08818387985229492 W\n",
      "[codecarbon DEBUG @ 13:09:18] RAM : 0.09 W during 14.97 s [measurement time: 0.0145]\n",
      "[codecarbon INFO @ 13:09:18] Energy consumed for all CPUs : 0.081434 kWh. Total CPU Power : 42.5 W\n",
      "[codecarbon DEBUG @ 13:09:18] CPU : 42.50 W during 15.00 s [measurement time: 0.0003]\n",
      "[codecarbon INFO @ 13:09:18] Energy consumed for all GPUs : 0.026394 kWh. Total GPU Power : 14.008506006828423 W\n",
      "[codecarbon DEBUG @ 13:09:18] GPU : 14.01 W during 15.00 s [measurement time: 0.0019]\n",
      "[codecarbon INFO @ 13:09:18] 0.107996 kWh of electricity used since the beginning.\n",
      "[codecarbon DEBUG @ 13:09:18] last_duration=14.972177716999795\n",
      "------------------------\n"
     ]
    },
    {
     "name": "stdout",
     "output_type": "stream",
     "text": [
      "[355/1000] ./test/pdf/864.pdf\n"
     ]
    },
    {
     "name": "stderr",
     "output_type": "stream",
     "text": [
      "[codecarbon INFO @ 13:09:33] Energy consumed for RAM : 0.000169 kWh. RAM Power : 0.08818387985229492 W\n",
      "[codecarbon DEBUG @ 13:09:33] RAM : 0.09 W during 14.97 s [measurement time: 0.0150]\n",
      "[codecarbon INFO @ 13:09:33] Energy consumed for all CPUs : 0.081611 kWh. Total CPU Power : 42.5 W\n",
      "[codecarbon DEBUG @ 13:09:33] CPU : 42.50 W during 15.00 s [measurement time: 0.0005]\n",
      "[codecarbon INFO @ 13:09:33] Energy consumed for all GPUs : 0.026450 kWh. Total GPU Power : 13.51432734482158 W\n",
      "[codecarbon DEBUG @ 13:09:33] GPU : 13.51 W during 15.00 s [measurement time: 0.0022]\n",
      "[codecarbon INFO @ 13:09:33] 0.108230 kWh of electricity used since the beginning.\n",
      "[codecarbon DEBUG @ 13:09:33] last_duration=14.974343918000159\n",
      "------------------------\n"
     ]
    },
    {
     "name": "stdout",
     "output_type": "stream",
     "text": [
      "[356/1000] ./test/pdf/865.pdf\n"
     ]
    },
    {
     "name": "stderr",
     "output_type": "stream",
     "text": [
      "[codecarbon INFO @ 13:09:48] Energy consumed for RAM : 0.000169 kWh. RAM Power : 0.08818387985229492 W\n",
      "[codecarbon DEBUG @ 13:09:48] RAM : 0.09 W during 14.97 s [measurement time: 0.0158]\n",
      "[codecarbon INFO @ 13:09:48] Energy consumed for all CPUs : 0.081788 kWh. Total CPU Power : 42.5 W\n",
      "[codecarbon DEBUG @ 13:09:48] CPU : 42.50 W during 15.00 s [measurement time: 0.0006]\n",
      "[codecarbon INFO @ 13:09:48] Energy consumed for all GPUs : 0.026506 kWh. Total GPU Power : 13.420829527387651 W\n",
      "[codecarbon DEBUG @ 13:09:48] GPU : 13.42 W during 15.00 s [measurement time: 0.0044]\n",
      "[codecarbon INFO @ 13:09:48] 0.108464 kWh of electricity used since the beginning.\n",
      "[codecarbon DEBUG @ 13:09:48] last_duration=14.96822908500053\n",
      "------------------------\n"
     ]
    },
    {
     "name": "stdout",
     "output_type": "stream",
     "text": [
      "[357/1000] ./test/pdf/866.pdf\n"
     ]
    },
    {
     "name": "stderr",
     "output_type": "stream",
     "text": [
      "[codecarbon INFO @ 13:10:03] Energy consumed for RAM : 0.000169 kWh. RAM Power : 0.08818387985229492 W\n",
      "[codecarbon DEBUG @ 13:10:03] RAM : 0.09 W during 14.96 s [measurement time: 0.0098]\n",
      "[codecarbon INFO @ 13:10:03] Energy consumed for all CPUs : 0.081965 kWh. Total CPU Power : 42.5 W\n",
      "[codecarbon DEBUG @ 13:10:03] CPU : 42.50 W during 14.98 s [measurement time: 0.0004]\n",
      "[codecarbon INFO @ 13:10:03] Energy consumed for all GPUs : 0.026566 kWh. Total GPU Power : 14.321526444500345 W\n",
      "[codecarbon DEBUG @ 13:10:03] GPU : 14.32 W during 14.98 s [measurement time: 0.0021]\n",
      "[codecarbon INFO @ 13:10:03] 0.108700 kWh of electricity used since the beginning.\n",
      "[codecarbon DEBUG @ 13:10:03] last_duration=14.964540646999922\n",
      "------------------------\n",
      "[codecarbon INFO @ 13:10:18] Energy consumed for RAM : 0.000170 kWh. RAM Power : 0.08818387985229492 W\n",
      "[codecarbon DEBUG @ 13:10:18] RAM : 0.09 W during 14.98 s [measurement time: 0.0142]\n",
      "[codecarbon INFO @ 13:10:18] Energy consumed for all CPUs : 0.082142 kWh. Total CPU Power : 42.5 W\n",
      "[codecarbon DEBUG @ 13:10:18] CPU : 42.50 W during 15.01 s [measurement time: 0.0003]\n",
      "[codecarbon INFO @ 13:10:18] Energy consumed for all GPUs : 0.026625 kWh. Total GPU Power : 14.220629361890342 W\n",
      "[codecarbon DEBUG @ 13:10:18] GPU : 14.22 W during 15.01 s [measurement time: 0.0019]\n",
      "[codecarbon INFO @ 13:10:18] 0.108937 kWh of electricity used since the beginning.\n",
      "[codecarbon DEBUG @ 13:10:18] We apply an energy mix of 174 g.CO2eq/kWh for Spain\n",
      "[codecarbon DEBUG @ 13:10:18] EmissionsData(timestamp='2025-04-13T13:10:18', project_name='codecarbon', run_id='868e486c-ef2f-47f1-8b33-54ddf9c190fd', experiment_id='5b0fa12a-3dd7-45bb-9766-cc326314d9f1', duration=6960.420273611, emissions=0.018960518628617654, emissions_rate=2.7240479573485747e-06, cpu_power=42.5, gpu_power=14.220629361890342, ram_power=0.08818387985229492, cpu_energy=0.08214212411861384, gpu_energy=0.026625207689037998, ram_energy=0.00016986226656620453, energy_consumed=0.10893719407421805, country_name='Spain', country_iso_code='ESP', region=None, cloud_provider='', cloud_region='', os='Linux-6.8.0-57-generic-x86_64-with-glibc2.35', python_version='3.12.9', codecarbon_version='2.8.3', cpu_count=32, cpu_model='13th Gen Intel(R) Core(TM) i9-13900', gpu_count=1, gpu_model='1 x NVIDIA RTX 5000 Ada Generation', longitude=None, latitude=None, ram_total_size=62.50331497192383, tracking_mode='process', on_cloud='N', pue=1.0)\n",
      "[codecarbon INFO @ 13:10:18] 0.002714 g.CO2eq/s mean an estimation of 85.59236099312841 kg.CO2eq/year\n",
      "[codecarbon DEBUG @ 13:10:18] last_duration=14.982144728999629\n",
      "------------------------\n"
     ]
    },
    {
     "name": "stdout",
     "output_type": "stream",
     "text": [
      "[358/1000] ./test/pdf/867.pdf\n"
     ]
    },
    {
     "name": "stderr",
     "output_type": "stream",
     "text": [
      "[codecarbon INFO @ 13:10:33] Energy consumed for RAM : 0.000170 kWh. RAM Power : 0.08818387985229492 W\n",
      "[codecarbon DEBUG @ 13:10:33] RAM : 0.09 W during 14.97 s [measurement time: 0.0166]\n",
      "[codecarbon INFO @ 13:10:33] Energy consumed for all CPUs : 0.082319 kWh. Total CPU Power : 42.5 W\n",
      "[codecarbon DEBUG @ 13:10:33] CPU : 42.50 W during 15.00 s [measurement time: 0.0005]\n",
      "[codecarbon INFO @ 13:10:33] Energy consumed for all GPUs : 0.026683 kWh. Total GPU Power : 13.794692897003728 W\n",
      "[codecarbon DEBUG @ 13:10:33] GPU : 13.79 W during 15.00 s [measurement time: 0.0019]\n",
      "[codecarbon INFO @ 13:10:33] 0.109172 kWh of electricity used since the beginning.\n",
      "[codecarbon DEBUG @ 13:10:33] last_duration=14.972069252999972\n",
      "------------------------\n"
     ]
    },
    {
     "name": "stdout",
     "output_type": "stream",
     "text": [
      "[359/1000] ./test/pdf/868.pdf\n"
     ]
    },
    {
     "name": "stderr",
     "output_type": "stream",
     "text": [
      "[codecarbon INFO @ 13:10:48] Energy consumed for RAM : 0.000171 kWh. RAM Power : 0.08818387985229492 W\n",
      "[codecarbon DEBUG @ 13:10:48] RAM : 0.09 W during 14.97 s [measurement time: 0.0142]\n",
      "[codecarbon INFO @ 13:10:48] Energy consumed for all CPUs : 0.082496 kWh. Total CPU Power : 42.5 W\n",
      "[codecarbon DEBUG @ 13:10:48] CPU : 42.50 W during 14.99 s [measurement time: 0.0004]\n",
      "[codecarbon INFO @ 13:10:48] Energy consumed for all GPUs : 0.026737 kWh. Total GPU Power : 13.080972784225173 W\n",
      "[codecarbon DEBUG @ 13:10:48] GPU : 13.08 W during 14.99 s [measurement time: 0.0020]\n",
      "[codecarbon INFO @ 13:10:48] 0.109404 kWh of electricity used since the beginning.\n",
      "[codecarbon DEBUG @ 13:10:48] last_duration=14.970076137000433\n",
      "------------------------\n"
     ]
    },
    {
     "name": "stdout",
     "output_type": "stream",
     "text": [
      "[360/1000] ./test/pdf/869.pdf\n"
     ]
    },
    {
     "name": "stderr",
     "output_type": "stream",
     "text": [
      "[codecarbon INFO @ 13:11:03] Energy consumed for RAM : 0.000171 kWh. RAM Power : 0.08818387985229492 W\n",
      "[codecarbon DEBUG @ 13:11:03] RAM : 0.09 W during 14.98 s [measurement time: 0.0139]\n",
      "[codecarbon INFO @ 13:11:03] Energy consumed for all CPUs : 0.082673 kWh. Total CPU Power : 42.5 W\n",
      "[codecarbon DEBUG @ 13:11:03] CPU : 42.50 W during 15.00 s [measurement time: 0.0004]\n",
      "[codecarbon INFO @ 13:11:03] Energy consumed for all GPUs : 0.026793 kWh. Total GPU Power : 13.510689510516038 W\n",
      "[codecarbon DEBUG @ 13:11:03] GPU : 13.51 W during 15.00 s [measurement time: 0.0019]\n",
      "[codecarbon INFO @ 13:11:03] 0.109638 kWh of electricity used since the beginning.\n",
      "[codecarbon DEBUG @ 13:11:03] last_duration=14.975749352999628\n",
      "------------------------\n"
     ]
    },
    {
     "name": "stdout",
     "output_type": "stream",
     "text": [
      "[361/1000] ./test/pdf/87.pdf\n"
     ]
    },
    {
     "name": "stderr",
     "output_type": "stream",
     "text": [
      "[codecarbon INFO @ 13:11:18] Energy consumed for RAM : 0.000171 kWh. RAM Power : 0.08818387985229492 W\n",
      "[codecarbon DEBUG @ 13:11:18] RAM : 0.09 W during 14.98 s [measurement time: 0.0141]\n",
      "[codecarbon INFO @ 13:11:18] Energy consumed for all CPUs : 0.082850 kWh. Total CPU Power : 42.5 W\n",
      "[codecarbon DEBUG @ 13:11:18] CPU : 42.50 W during 15.00 s [measurement time: 0.0010]\n",
      "[codecarbon INFO @ 13:11:18] Energy consumed for all GPUs : 0.026847 kWh. Total GPU Power : 12.830549249981864 W\n",
      "[codecarbon DEBUG @ 13:11:18] GPU : 12.83 W during 15.01 s [measurement time: 0.0038]\n",
      "[codecarbon INFO @ 13:11:18] 0.109869 kWh of electricity used since the beginning.\n",
      "[codecarbon DEBUG @ 13:11:18] last_duration=14.975735523999901\n",
      "------------------------\n"
     ]
    },
    {
     "name": "stdout",
     "output_type": "stream",
     "text": [
      "[362/1000] ./test/pdf/870.pdf\n"
     ]
    },
    {
     "name": "stderr",
     "output_type": "stream",
     "text": [
      "[codecarbon INFO @ 13:11:33] Energy consumed for RAM : 0.000172 kWh. RAM Power : 0.08818387985229492 W\n",
      "[codecarbon DEBUG @ 13:11:33] RAM : 0.09 W during 14.97 s [measurement time: 0.0114]\n",
      "[codecarbon INFO @ 13:11:33] Energy consumed for all CPUs : 0.083027 kWh. Total CPU Power : 42.5 W\n",
      "[codecarbon DEBUG @ 13:11:33] CPU : 42.50 W during 14.98 s [measurement time: 0.0002]\n",
      "[codecarbon INFO @ 13:11:33] Energy consumed for all GPUs : 0.026901 kWh. Total GPU Power : 12.904402143531563 W\n",
      "[codecarbon DEBUG @ 13:11:33] GPU : 12.90 W during 14.98 s [measurement time: 0.0019]\n",
      "[codecarbon INFO @ 13:11:33] 0.110100 kWh of electricity used since the beginning.\n",
      "[codecarbon DEBUG @ 13:11:33] last_duration=14.965470658999948\n",
      "------------------------\n"
     ]
    },
    {
     "name": "stdout",
     "output_type": "stream",
     "text": [
      "[363/1000] ./test/pdf/871.pdf\n"
     ]
    },
    {
     "name": "stderr",
     "output_type": "stream",
     "text": [
      "[codecarbon INFO @ 13:11:48] Energy consumed for RAM : 0.000172 kWh. RAM Power : 0.08818387985229492 W\n",
      "[codecarbon DEBUG @ 13:11:48] RAM : 0.09 W during 14.98 s [measurement time: 0.0135]\n",
      "[codecarbon INFO @ 13:11:48] Energy consumed for all CPUs : 0.083204 kWh. Total CPU Power : 42.5 W\n",
      "[codecarbon DEBUG @ 13:11:48] CPU : 42.50 W during 15.00 s [measurement time: 0.0004]\n",
      "[codecarbon INFO @ 13:11:48] Energy consumed for all GPUs : 0.026957 kWh. Total GPU Power : 13.571014621392747 W\n",
      "[codecarbon DEBUG @ 13:11:48] GPU : 13.57 W during 15.00 s [measurement time: 0.0025]\n",
      "[codecarbon INFO @ 13:11:48] 0.110334 kWh of electricity used since the beginning.\n",
      "[codecarbon DEBUG @ 13:11:48] last_duration=14.981205502000194\n",
      "------------------------\n"
     ]
    },
    {
     "name": "stdout",
     "output_type": "stream",
     "text": [
      "[364/1000] ./test/pdf/872.pdf\n"
     ]
    },
    {
     "name": "stderr",
     "output_type": "stream",
     "text": [
      "[codecarbon INFO @ 13:12:03] Energy consumed for RAM : 0.000172 kWh. RAM Power : 0.08818387985229492 W\n",
      "[codecarbon DEBUG @ 13:12:03] RAM : 0.09 W during 14.98 s [measurement time: 0.0127]\n",
      "[codecarbon INFO @ 13:12:03] Energy consumed for all CPUs : 0.083381 kWh. Total CPU Power : 42.5 W\n",
      "[codecarbon DEBUG @ 13:12:03] CPU : 42.50 W during 15.00 s [measurement time: 0.0007]\n",
      "[codecarbon INFO @ 13:12:03] Energy consumed for all GPUs : 0.027016 kWh. Total GPU Power : 14.122853996096369 W\n",
      "[codecarbon DEBUG @ 13:12:03] GPU : 14.12 W during 15.00 s [measurement time: 0.0022]\n",
      "[codecarbon INFO @ 13:12:03] 0.110570 kWh of electricity used since the beginning.\n",
      "[codecarbon DEBUG @ 13:12:03] last_duration=14.975329296999917\n",
      "------------------------\n"
     ]
    },
    {
     "name": "stdout",
     "output_type": "stream",
     "text": [
      "[365/1000] ./test/pdf/873.pdf\n"
     ]
    },
    {
     "name": "stderr",
     "output_type": "stream",
     "text": [
      "[codecarbon INFO @ 13:12:18] Energy consumed for RAM : 0.000173 kWh. RAM Power : 0.08818387985229492 W\n",
      "[codecarbon DEBUG @ 13:12:18] RAM : 0.09 W during 14.97 s [measurement time: 0.0142]\n",
      "[codecarbon INFO @ 13:12:18] Energy consumed for all CPUs : 0.083558 kWh. Total CPU Power : 42.5 W\n",
      "[codecarbon DEBUG @ 13:12:18] CPU : 42.50 W during 14.99 s [measurement time: 0.0007]\n",
      "[codecarbon INFO @ 13:12:18] Energy consumed for all GPUs : 0.027075 kWh. Total GPU Power : 14.04203539317773 W\n",
      "[codecarbon DEBUG @ 13:12:18] GPU : 14.04 W during 15.00 s [measurement time: 0.0022]\n",
      "[codecarbon INFO @ 13:12:18] 0.110806 kWh of electricity used since the beginning.\n",
      "[codecarbon DEBUG @ 13:12:18] We apply an energy mix of 174 g.CO2eq/kWh for Spain\n",
      "[codecarbon DEBUG @ 13:12:18] EmissionsData(timestamp='2025-04-13T13:12:18', project_name='codecarbon', run_id='868e486c-ef2f-47f1-8b33-54ddf9c190fd', experiment_id='5b0fa12a-3dd7-45bb-9766-cc326314d9f1', duration=7080.428413922001, emissions=0.019285753346940524, emissions_rate=2.723811642388703e-06, cpu_power=42.5, gpu_power=14.04203539317773, ram_power=0.08818387985229492, cpu_energy=0.08355847683042564, gpu_energy=0.027074548881844, ram_energy=0.00017279644768739181, energy_consumed=0.11080582215995703, country_name='Spain', country_iso_code='ESP', region=None, cloud_provider='', cloud_region='', os='Linux-6.8.0-57-generic-x86_64-with-glibc2.35', python_version='3.12.9', codecarbon_version='2.8.3', cpu_count=32, cpu_model='13th Gen Intel(R) Core(TM) i9-13900', gpu_count=1, gpu_model='1 x NVIDIA RTX 5000 Ada Generation', longitude=None, latitude=None, ram_total_size=62.50331497192383, tracking_mode='process', on_cloud='N', pue=1.0)\n",
      "[codecarbon INFO @ 13:12:18] 0.002710 g.CO2eq/s mean an estimation of 85.46588631779555 kg.CO2eq/year\n",
      "[codecarbon DEBUG @ 13:12:18] last_duration=14.96866413600037\n",
      "------------------------\n"
     ]
    },
    {
     "name": "stdout",
     "output_type": "stream",
     "text": [
      "[366/1000] ./test/pdf/874.pdf\n"
     ]
    },
    {
     "name": "stderr",
     "output_type": "stream",
     "text": [
      "[codecarbon INFO @ 13:12:33] Energy consumed for RAM : 0.000173 kWh. RAM Power : 0.08818387985229492 W\n",
      "[codecarbon DEBUG @ 13:12:33] RAM : 0.09 W during 14.97 s [measurement time: 0.0151]\n",
      "[codecarbon INFO @ 13:12:33] Energy consumed for all CPUs : 0.083736 kWh. Total CPU Power : 42.5 W\n",
      "[codecarbon DEBUG @ 13:12:33] CPU : 42.50 W during 15.00 s [measurement time: 0.0005]\n",
      "[codecarbon INFO @ 13:12:33] Energy consumed for all GPUs : 0.027131 kWh. Total GPU Power : 13.568062442888305 W\n",
      "[codecarbon DEBUG @ 13:12:33] GPU : 13.57 W during 15.00 s [measurement time: 0.0043]\n",
      "[codecarbon INFO @ 13:12:33] 0.111040 kWh of electricity used since the beginning.\n",
      "[codecarbon DEBUG @ 13:12:33] last_duration=14.97056222900028\n",
      "------------------------\n",
      "[codecarbon INFO @ 13:12:48] Energy consumed for RAM : 0.000174 kWh. RAM Power : 0.08818387985229492 W\n",
      "[codecarbon DEBUG @ 13:12:48] RAM : 0.09 W during 14.97 s [measurement time: 0.0077]\n",
      "[codecarbon INFO @ 13:12:48] Energy consumed for all CPUs : 0.083912 kWh. Total CPU Power : 42.5 W\n",
      "[codecarbon DEBUG @ 13:12:48] CPU : 42.50 W during 14.99 s [measurement time: 0.0005]\n",
      "[codecarbon INFO @ 13:12:48] Energy consumed for all GPUs : 0.027190 kWh. Total GPU Power : 14.114246600172578 W\n",
      "[codecarbon DEBUG @ 13:12:48] GPU : 14.11 W during 14.99 s [measurement time: 0.0020]\n",
      "[codecarbon INFO @ 13:12:48] 0.111276 kWh of electricity used since the beginning.\n",
      "[codecarbon DEBUG @ 13:12:48] last_duration=14.969692030999795\n",
      "------------------------\n",
      "[codecarbon INFO @ 13:13:03] Energy consumed for RAM : 0.000174 kWh. RAM Power : 0.08818387985229492 W\n",
      "[codecarbon DEBUG @ 13:13:03] RAM : 0.09 W during 14.98 s [measurement time: 0.0135]\n",
      "[codecarbon INFO @ 13:13:03] Energy consumed for all CPUs : 0.084090 kWh. Total CPU Power : 42.5 W\n",
      "[codecarbon DEBUG @ 13:13:03] CPU : 42.50 W during 15.00 s [measurement time: 0.0004]\n",
      "[codecarbon INFO @ 13:13:03] Energy consumed for all GPUs : 0.027246 kWh. Total GPU Power : 13.41610590323937 W\n",
      "[codecarbon DEBUG @ 13:13:03] GPU : 13.42 W during 15.00 s [measurement time: 0.0021]\n",
      "[codecarbon INFO @ 13:13:03] 0.111509 kWh of electricity used since the beginning.\n",
      "[codecarbon DEBUG @ 13:13:03] last_duration=14.98110608999923\n",
      "------------------------\n"
     ]
    },
    {
     "name": "stdout",
     "output_type": "stream",
     "text": [
      "[367/1000] ./test/pdf/875.pdf\n"
     ]
    },
    {
     "name": "stderr",
     "output_type": "stream",
     "text": [
      "[codecarbon INFO @ 13:13:18] Energy consumed for RAM : 0.000174 kWh. RAM Power : 0.08818387985229492 W\n",
      "[codecarbon DEBUG @ 13:13:18] RAM : 0.09 W during 14.98 s [measurement time: 0.0106]\n",
      "[codecarbon INFO @ 13:13:18] Energy consumed for all CPUs : 0.084267 kWh. Total CPU Power : 42.5 W\n",
      "[codecarbon DEBUG @ 13:13:18] CPU : 42.50 W during 15.00 s [measurement time: 0.0005]\n",
      "[codecarbon INFO @ 13:13:18] Energy consumed for all GPUs : 0.027304 kWh. Total GPU Power : 14.037085029786743 W\n",
      "[codecarbon DEBUG @ 13:13:18] GPU : 14.04 W during 15.00 s [measurement time: 0.0058]\n",
      "[codecarbon INFO @ 13:13:18] 0.111745 kWh of electricity used since the beginning.\n",
      "[codecarbon DEBUG @ 13:13:18] last_duration=14.975068570000076\n",
      "------------------------\n"
     ]
    },
    {
     "name": "stdout",
     "output_type": "stream",
     "text": [
      "[368/1000] ./test/pdf/876.pdf\n"
     ]
    },
    {
     "name": "stderr",
     "output_type": "stream",
     "text": [
      "[codecarbon INFO @ 13:13:33] Energy consumed for RAM : 0.000175 kWh. RAM Power : 0.08818387985229492 W\n",
      "[codecarbon DEBUG @ 13:13:33] RAM : 0.09 W during 14.97 s [measurement time: 0.0163]\n",
      "[codecarbon INFO @ 13:13:33] Energy consumed for all CPUs : 0.084444 kWh. Total CPU Power : 42.5 W\n",
      "[codecarbon DEBUG @ 13:13:33] CPU : 42.50 W during 15.01 s [measurement time: 0.0008]\n",
      "[codecarbon INFO @ 13:13:33] Energy consumed for all GPUs : 0.027362 kWh. Total GPU Power : 13.969967643342132 W\n",
      "[codecarbon DEBUG @ 13:13:33] GPU : 13.97 W during 15.01 s [measurement time: 0.0024]\n",
      "[codecarbon INFO @ 13:13:33] 0.111981 kWh of electricity used since the beginning.\n",
      "[codecarbon DEBUG @ 13:13:33] last_duration=14.97213368300072\n",
      "------------------------\n"
     ]
    },
    {
     "name": "stdout",
     "output_type": "stream",
     "text": [
      "[369/1000] ./test/pdf/877.pdf\n"
     ]
    },
    {
     "name": "stderr",
     "output_type": "stream",
     "text": [
      "[codecarbon INFO @ 13:13:48] Energy consumed for RAM : 0.000175 kWh. RAM Power : 0.08818387985229492 W\n",
      "[codecarbon DEBUG @ 13:13:48] RAM : 0.09 W during 14.96 s [measurement time: 0.0116]\n",
      "[codecarbon INFO @ 13:13:48] Energy consumed for all CPUs : 0.084621 kWh. Total CPU Power : 42.5 W\n",
      "[codecarbon DEBUG @ 13:13:48] CPU : 42.50 W during 14.98 s [measurement time: 0.0004]\n",
      "[codecarbon INFO @ 13:13:48] Energy consumed for all GPUs : 0.027422 kWh. Total GPU Power : 14.38691591014629 W\n",
      "[codecarbon DEBUG @ 13:13:48] GPU : 14.39 W during 14.98 s [measurement time: 0.0046]\n",
      "[codecarbon INFO @ 13:13:48] 0.112218 kWh of electricity used since the beginning.\n",
      "[codecarbon DEBUG @ 13:13:48] last_duration=14.962976191000052\n",
      "------------------------\n"
     ]
    },
    {
     "name": "stdout",
     "output_type": "stream",
     "text": [
      "[370/1000] ./test/pdf/878.pdf\n"
     ]
    },
    {
     "name": "stderr",
     "output_type": "stream",
     "text": [
      "[codecarbon INFO @ 13:14:03] Energy consumed for RAM : 0.000175 kWh. RAM Power : 0.08818387985229492 W\n",
      "[codecarbon DEBUG @ 13:14:03] RAM : 0.09 W during 14.98 s [measurement time: 0.0062]\n",
      "[codecarbon INFO @ 13:14:03] Energy consumed for all CPUs : 0.084798 kWh. Total CPU Power : 42.5 W\n",
      "[codecarbon DEBUG @ 13:14:03] CPU : 42.50 W during 14.99 s [measurement time: 0.0004]\n",
      "[codecarbon INFO @ 13:14:03] Energy consumed for all GPUs : 0.027476 kWh. Total GPU Power : 12.817343052994897 W\n",
      "[codecarbon DEBUG @ 13:14:03] GPU : 12.82 W during 14.99 s [measurement time: 0.0035]\n",
      "[codecarbon INFO @ 13:14:03] 0.112449 kWh of electricity used since the beginning.\n",
      "[codecarbon DEBUG @ 13:14:03] last_duration=14.977367663000223\n",
      "------------------------\n"
     ]
    },
    {
     "name": "stdout",
     "output_type": "stream",
     "text": [
      "[371/1000] ./test/pdf/879.pdf\n"
     ]
    },
    {
     "name": "stderr",
     "output_type": "stream",
     "text": [
      "[codecarbon INFO @ 13:14:18] Energy consumed for RAM : 0.000176 kWh. RAM Power : 0.08818387985229492 W\n",
      "[codecarbon DEBUG @ 13:14:18] RAM : 0.09 W during 14.98 s [measurement time: 0.0159]\n",
      "[codecarbon INFO @ 13:14:18] Energy consumed for all CPUs : 0.084975 kWh. Total CPU Power : 42.5 W\n",
      "[codecarbon DEBUG @ 13:14:18] CPU : 42.50 W during 15.01 s [measurement time: 0.0005]\n",
      "[codecarbon INFO @ 13:14:18] Energy consumed for all GPUs : 0.027533 kWh. Total GPU Power : 13.768408200376571 W\n",
      "[codecarbon DEBUG @ 13:14:18] GPU : 13.77 W during 15.01 s [measurement time: 0.0019]\n",
      "[codecarbon INFO @ 13:14:18] 0.112683 kWh of electricity used since the beginning.\n",
      "[codecarbon DEBUG @ 13:14:18] We apply an energy mix of 174 g.CO2eq/kWh for Spain\n",
      "[codecarbon DEBUG @ 13:14:18] EmissionsData(timestamp='2025-04-13T13:14:18', project_name='codecarbon', run_id='868e486c-ef2f-47f1-8b33-54ddf9c190fd', experiment_id='5b0fa12a-3dd7-45bb-9766-cc326314d9f1', duration=7200.428960897, emissions=0.019612560622033526, emissions_rate=2.723804474503179e-06, cpu_power=42.5, gpu_power=13.768408200376571, ram_power=0.08818387985229492, cpu_energy=0.08497467245417423, gpu_energy=0.027533082026448, ram_energy=0.00017573085137156225, energy_consumed=0.11268348533199382, country_name='Spain', country_iso_code='ESP', region=None, cloud_provider='', cloud_region='', os='Linux-6.8.0-57-generic-x86_64-with-glibc2.35', python_version='3.12.9', codecarbon_version='2.8.3', cpu_count=32, cpu_model='13th Gen Intel(R) Core(TM) i9-13900', gpu_count=1, gpu_model='1 x NVIDIA RTX 5000 Ada Generation', longitude=None, latitude=None, ram_total_size=62.50331497192383, tracking_mode='process', on_cloud='N', pue=1.0)\n",
      "[codecarbon INFO @ 13:14:18] 0.002723 g.CO2eq/s mean an estimation of 85.88456042187943 kg.CO2eq/year\n",
      "[codecarbon DEBUG @ 13:14:18] last_duration=14.9844914159994\n",
      "------------------------\n"
     ]
    },
    {
     "name": "stdout",
     "output_type": "stream",
     "text": [
      "[372/1000] ./test/pdf/88.pdf\n"
     ]
    },
    {
     "name": "stderr",
     "output_type": "stream",
     "text": [
      "[codecarbon INFO @ 13:14:33] Energy consumed for RAM : 0.000176 kWh. RAM Power : 0.08818387985229492 W\n",
      "[codecarbon DEBUG @ 13:14:33] RAM : 0.09 W during 14.98 s [measurement time: 0.0126]\n",
      "[codecarbon INFO @ 13:14:33] Energy consumed for all CPUs : 0.085152 kWh. Total CPU Power : 42.5 W\n",
      "[codecarbon DEBUG @ 13:14:33] CPU : 42.50 W during 14.99 s [measurement time: 0.0003]\n",
      "[codecarbon INFO @ 13:14:33] Energy consumed for all GPUs : 0.027589 kWh. Total GPU Power : 13.474343488816466 W\n",
      "[codecarbon DEBUG @ 13:14:33] GPU : 13.47 W during 14.99 s [measurement time: 0.0041]\n",
      "[codecarbon INFO @ 13:14:33] 0.112917 kWh of electricity used since the beginning.\n",
      "[codecarbon DEBUG @ 13:14:33] last_duration=14.976344579999932\n",
      "------------------------\n",
      "[codecarbon INFO @ 13:14:48] Energy consumed for RAM : 0.000176 kWh. RAM Power : 0.08818387985229492 W\n",
      "[codecarbon DEBUG @ 13:14:48] RAM : 0.09 W during 14.98 s [measurement time: 0.0107]\n",
      "[codecarbon INFO @ 13:14:48] Energy consumed for all CPUs : 0.085329 kWh. Total CPU Power : 42.5 W\n",
      "[codecarbon DEBUG @ 13:14:48] CPU : 42.50 W during 15.00 s [measurement time: 0.0007]\n",
      "[codecarbon INFO @ 13:14:48] Energy consumed for all GPUs : 0.027645 kWh. Total GPU Power : 13.29968057050827 W\n",
      "[codecarbon DEBUG @ 13:14:48] GPU : 13.30 W during 15.00 s [measurement time: 0.0036]\n",
      "[codecarbon INFO @ 13:14:48] 0.113150 kWh of electricity used since the beginning.\n",
      "[codecarbon DEBUG @ 13:14:48] last_duration=14.977388051000162\n",
      "------------------------\n"
     ]
    },
    {
     "name": "stdout",
     "output_type": "stream",
     "text": [
      "[373/1000] ./test/pdf/880.pdf\n"
     ]
    },
    {
     "name": "stderr",
     "output_type": "stream",
     "text": [
      "[codecarbon INFO @ 13:15:03] Energy consumed for RAM : 0.000177 kWh. RAM Power : 0.08827543258666992 W\n",
      "[codecarbon DEBUG @ 13:15:03] RAM : 0.09 W during 14.98 s [measurement time: 0.0163]\n",
      "[codecarbon INFO @ 13:15:03] Energy consumed for all CPUs : 0.085506 kWh. Total CPU Power : 42.5 W\n",
      "[codecarbon DEBUG @ 13:15:03] CPU : 42.50 W during 15.00 s [measurement time: 0.0005]\n",
      "[codecarbon INFO @ 13:15:03] Energy consumed for all GPUs : 0.027702 kWh. Total GPU Power : 13.774255721458596 W\n",
      "[codecarbon DEBUG @ 13:15:03] GPU : 13.77 W during 15.00 s [measurement time: 0.0025]\n",
      "[codecarbon INFO @ 13:15:03] 0.113385 kWh of electricity used since the beginning.\n",
      "[codecarbon DEBUG @ 13:15:03] last_duration=14.97565947000021\n",
      "------------------------\n"
     ]
    },
    {
     "name": "stdout",
     "output_type": "stream",
     "text": [
      "[374/1000] ./test/pdf/881.pdf\n"
     ]
    },
    {
     "name": "stderr",
     "output_type": "stream",
     "text": [
      "[codecarbon INFO @ 13:15:18] Energy consumed for RAM : 0.000177 kWh. RAM Power : 0.08827543258666992 W\n",
      "[codecarbon DEBUG @ 13:15:18] RAM : 0.09 W during 14.97 s [measurement time: 0.0143]\n",
      "[codecarbon INFO @ 13:15:18] Energy consumed for all CPUs : 0.085683 kWh. Total CPU Power : 42.5 W\n",
      "[codecarbon DEBUG @ 13:15:18] CPU : 42.50 W during 14.99 s [measurement time: 0.0004]\n",
      "[codecarbon INFO @ 13:15:18] Energy consumed for all GPUs : 0.027759 kWh. Total GPU Power : 13.725370642144597 W\n",
      "[codecarbon DEBUG @ 13:15:18] GPU : 13.73 W during 14.99 s [measurement time: 0.0070]\n",
      "[codecarbon INFO @ 13:15:18] 0.113619 kWh of electricity used since the beginning.\n",
      "[codecarbon DEBUG @ 13:15:18] last_duration=14.969902189000095\n",
      "------------------------\n"
     ]
    },
    {
     "name": "stdout",
     "output_type": "stream",
     "text": [
      "[375/1000] ./test/pdf/882.pdf\n"
     ]
    },
    {
     "name": "stderr",
     "output_type": "stream",
     "text": [
      "[codecarbon INFO @ 13:15:33] Energy consumed for RAM : 0.000178 kWh. RAM Power : 0.08827543258666992 W\n",
      "[codecarbon DEBUG @ 13:15:33] RAM : 0.09 W during 14.97 s [measurement time: 0.0138]\n",
      "[codecarbon INFO @ 13:15:33] Energy consumed for all CPUs : 0.085860 kWh. Total CPU Power : 42.5 W\n",
      "[codecarbon DEBUG @ 13:15:33] CPU : 42.50 W during 14.99 s [measurement time: 0.0004]\n",
      "[codecarbon INFO @ 13:15:33] Energy consumed for all GPUs : 0.027816 kWh. Total GPU Power : 13.679297958809665 W\n",
      "[codecarbon DEBUG @ 13:15:33] GPU : 13.68 W during 14.99 s [measurement time: 0.0019]\n",
      "[codecarbon INFO @ 13:15:33] 0.113854 kWh of electricity used since the beginning.\n",
      "[codecarbon DEBUG @ 13:15:33] last_duration=14.96988053899986\n",
      "------------------------\n",
      "[codecarbon INFO @ 13:15:48] Energy consumed for RAM : 0.000178 kWh. RAM Power : 0.08827543258666992 W\n",
      "[codecarbon DEBUG @ 13:15:48] RAM : 0.09 W during 14.98 s [measurement time: 0.0090]\n",
      "[codecarbon INFO @ 13:15:48] Energy consumed for all CPUs : 0.086037 kWh. Total CPU Power : 42.5 W\n",
      "[codecarbon DEBUG @ 13:15:48] CPU : 42.50 W during 14.99 s [measurement time: 0.0009]\n",
      "[codecarbon INFO @ 13:15:48] Energy consumed for all GPUs : 0.027869 kWh. Total GPU Power : 12.799091151012249 W\n",
      "[codecarbon DEBUG @ 13:15:48] GPU : 12.80 W during 14.99 s [measurement time: 0.0025]\n",
      "[codecarbon INFO @ 13:15:48] 0.114084 kWh of electricity used since the beginning.\n",
      "[codecarbon DEBUG @ 13:15:48] last_duration=14.975743361999776\n",
      "------------------------\n"
     ]
    },
    {
     "name": "stdout",
     "output_type": "stream",
     "text": [
      "[376/1000] ./test/pdf/883.pdf\n"
     ]
    },
    {
     "name": "stderr",
     "output_type": "stream",
     "text": [
      "[codecarbon INFO @ 13:16:03] Energy consumed for RAM : 0.000178 kWh. RAM Power : 0.08827543258666992 W\n",
      "[codecarbon DEBUG @ 13:16:03] RAM : 0.09 W during 14.98 s [measurement time: 0.0123]\n",
      "[codecarbon INFO @ 13:16:03] Energy consumed for all CPUs : 0.086214 kWh. Total CPU Power : 42.5 W\n",
      "[codecarbon DEBUG @ 13:16:03] CPU : 42.50 W during 15.00 s [measurement time: 0.0005]\n",
      "[codecarbon INFO @ 13:16:03] Energy consumed for all GPUs : 0.027926 kWh. Total GPU Power : 13.596194522291565 W\n",
      "[codecarbon DEBUG @ 13:16:03] GPU : 13.60 W during 15.00 s [measurement time: 0.0022]\n",
      "[codecarbon INFO @ 13:16:03] 0.114318 kWh of electricity used since the beginning.\n",
      "[codecarbon DEBUG @ 13:16:03] last_duration=14.979719826999826\n",
      "------------------------\n"
     ]
    },
    {
     "name": "stdout",
     "output_type": "stream",
     "text": [
      "[377/1000] ./test/pdf/884.pdf\n"
     ]
    },
    {
     "name": "stderr",
     "output_type": "stream",
     "text": [
      "[codecarbon INFO @ 13:16:18] Energy consumed for RAM : 0.000179 kWh. RAM Power : 0.08827543258666992 W\n",
      "[codecarbon DEBUG @ 13:16:18] RAM : 0.09 W during 14.98 s [measurement time: 0.0115]\n",
      "[codecarbon INFO @ 13:16:18] Energy consumed for all CPUs : 0.086391 kWh. Total CPU Power : 42.5 W\n",
      "[codecarbon DEBUG @ 13:16:18] CPU : 42.50 W during 15.00 s [measurement time: 0.0005]\n",
      "[codecarbon INFO @ 13:16:18] Energy consumed for all GPUs : 0.027982 kWh. Total GPU Power : 13.362540629304386 W\n",
      "[codecarbon DEBUG @ 13:16:18] GPU : 13.36 W during 15.00 s [measurement time: 0.0067]\n",
      "[codecarbon INFO @ 13:16:18] 0.114551 kWh of electricity used since the beginning.\n",
      "[codecarbon DEBUG @ 13:16:18] We apply an energy mix of 174 g.CO2eq/kWh for Spain\n",
      "[codecarbon DEBUG @ 13:16:18] EmissionsData(timestamp='2025-04-13T13:16:18', project_name='codecarbon', run_id='868e486c-ef2f-47f1-8b33-54ddf9c190fd', experiment_id='5b0fa12a-3dd7-45bb-9766-cc326314d9f1', duration=7320.44153841, emissions=0.019937662041864954, emissions_rate=2.7235600390021574e-06, cpu_power=42.5, gpu_power=13.362540629304386, ram_power=0.08827543258666992, cpu_energy=0.08639090743526036, gpu_energy=0.0279817723854, ram_energy=0.00017866773386388427, energy_consumed=0.11455134755452429, country_name='Spain', country_iso_code='ESP', region=None, cloud_provider='', cloud_region='', os='Linux-6.8.0-57-generic-x86_64-with-glibc2.35', python_version='3.12.9', codecarbon_version='2.8.3', cpu_count=32, cpu_model='13th Gen Intel(R) Core(TM) i9-13900', gpu_count=1, gpu_model='1 x NVIDIA RTX 5000 Ada Generation', longitude=None, latitude=None, ram_total_size=62.50331497192383, tracking_mode='process', on_cloud='N', pue=1.0)\n",
      "[codecarbon INFO @ 13:16:18] 0.002709 g.CO2eq/s mean an estimation of 85.42769923171883 kg.CO2eq/year\n",
      "[codecarbon DEBUG @ 13:16:18] last_duration=14.976667033000012\n",
      "------------------------\n"
     ]
    },
    {
     "name": "stdout",
     "output_type": "stream",
     "text": [
      "[378/1000] ./test/pdf/885.pdf\n"
     ]
    },
    {
     "name": "stderr",
     "output_type": "stream",
     "text": [
      "[codecarbon INFO @ 13:16:33] Energy consumed for RAM : 0.000179 kWh. RAM Power : 0.08827543258666992 W\n",
      "[codecarbon DEBUG @ 13:16:33] RAM : 0.09 W during 14.97 s [measurement time: 0.0159]\n",
      "[codecarbon INFO @ 13:16:33] Energy consumed for all CPUs : 0.086568 kWh. Total CPU Power : 42.5 W\n",
      "[codecarbon DEBUG @ 13:16:33] CPU : 42.50 W during 15.00 s [measurement time: 0.0006]\n",
      "[codecarbon INFO @ 13:16:33] Energy consumed for all GPUs : 0.028039 kWh. Total GPU Power : 13.756027551249492 W\n",
      "[codecarbon DEBUG @ 13:16:33] GPU : 13.76 W during 15.00 s [measurement time: 0.0022]\n",
      "[codecarbon INFO @ 13:16:33] 0.114786 kWh of electricity used since the beginning.\n",
      "[codecarbon DEBUG @ 13:16:33] last_duration=14.970671435999975\n",
      "------------------------\n",
      "[codecarbon INFO @ 13:16:48] Energy consumed for RAM : 0.000179 kWh. RAM Power : 0.08827543258666992 W\n",
      "[codecarbon DEBUG @ 13:16:48] RAM : 0.09 W during 14.97 s [measurement time: 0.0176]\n",
      "[codecarbon INFO @ 13:16:48] Energy consumed for all CPUs : 0.086745 kWh. Total CPU Power : 42.5 W\n",
      "[codecarbon DEBUG @ 13:16:48] CPU : 42.50 W during 14.99 s [measurement time: 0.0004]\n",
      "[codecarbon INFO @ 13:16:48] Energy consumed for all GPUs : 0.028094 kWh. Total GPU Power : 13.203405151042581 W\n",
      "[codecarbon DEBUG @ 13:16:48] GPU : 13.20 W during 14.99 s [measurement time: 0.0027]\n",
      "[codecarbon INFO @ 13:16:48] 0.115018 kWh of electricity used since the beginning.\n",
      "[codecarbon DEBUG @ 13:16:48] last_duration=14.965680700999656\n",
      "------------------------\n",
      "[codecarbon INFO @ 13:17:03] Energy consumed for RAM : 0.000180 kWh. RAM Power : 0.08827543258666992 W\n",
      "[codecarbon DEBUG @ 13:17:03] RAM : 0.09 W during 14.97 s [measurement time: 0.0143]\n",
      "[codecarbon INFO @ 13:17:03] Energy consumed for all CPUs : 0.086922 kWh. Total CPU Power : 42.5 W\n",
      "[codecarbon DEBUG @ 13:17:03] CPU : 42.50 W during 14.99 s [measurement time: 0.0007]\n",
      "[codecarbon INFO @ 13:17:03] Energy consumed for all GPUs : 0.028152 kWh. Total GPU Power : 13.90407927712715 W\n",
      "[codecarbon DEBUG @ 13:17:03] GPU : 13.90 W during 15.00 s [measurement time: 0.0077]\n",
      "[codecarbon INFO @ 13:17:03] 0.115254 kWh of electricity used since the beginning.\n",
      "[codecarbon DEBUG @ 13:17:03] last_duration=14.971434047000002\n",
      "------------------------\n"
     ]
    },
    {
     "name": "stdout",
     "output_type": "stream",
     "text": [
      "[379/1000] ./test/pdf/886.pdf\n"
     ]
    },
    {
     "name": "stderr",
     "output_type": "stream",
     "text": [
      "[codecarbon INFO @ 13:17:18] Energy consumed for RAM : 0.000180 kWh. RAM Power : 0.08827543258666992 W\n",
      "[codecarbon DEBUG @ 13:17:18] RAM : 0.09 W during 14.97 s [measurement time: 0.0167]\n",
      "[codecarbon INFO @ 13:17:18] Energy consumed for all CPUs : 0.087099 kWh. Total CPU Power : 42.5 W\n",
      "[codecarbon DEBUG @ 13:17:18] CPU : 42.50 W during 15.00 s [measurement time: 0.0009]\n",
      "[codecarbon INFO @ 13:17:18] Energy consumed for all GPUs : 0.028209 kWh. Total GPU Power : 13.606376583881628 W\n",
      "[codecarbon DEBUG @ 13:17:18] GPU : 13.61 W during 15.00 s [measurement time: 0.0023]\n",
      "[codecarbon INFO @ 13:17:18] 0.115488 kWh of electricity used since the beginning.\n",
      "[codecarbon DEBUG @ 13:17:18] last_duration=14.966509505000431\n",
      "------------------------\n"
     ]
    },
    {
     "name": "stdout",
     "output_type": "stream",
     "text": [
      "[380/1000] ./test/pdf/887.pdf\n"
     ]
    },
    {
     "name": "stderr",
     "output_type": "stream",
     "text": [
      "[codecarbon INFO @ 13:17:33] Energy consumed for RAM : 0.000181 kWh. RAM Power : 0.08827543258666992 W\n",
      "[codecarbon DEBUG @ 13:17:33] RAM : 0.09 W during 14.97 s [measurement time: 0.0115]\n",
      "[codecarbon INFO @ 13:17:33] Energy consumed for all CPUs : 0.087276 kWh. Total CPU Power : 42.5 W\n",
      "[codecarbon DEBUG @ 13:17:33] CPU : 42.50 W during 14.99 s [measurement time: 0.0005]\n",
      "[codecarbon INFO @ 13:17:33] Energy consumed for all GPUs : 0.028265 kWh. Total GPU Power : 13.471850432304642 W\n",
      "[codecarbon DEBUG @ 13:17:33] GPU : 13.47 W during 14.99 s [measurement time: 0.0028]\n",
      "[codecarbon INFO @ 13:17:33] 0.115721 kWh of electricity used since the beginning.\n",
      "[codecarbon DEBUG @ 13:17:33] last_duration=14.967474207999658\n",
      "------------------------\n",
      "[codecarbon INFO @ 13:17:48] Energy consumed for RAM : 0.000181 kWh. RAM Power : 0.08827543258666992 W\n",
      "[codecarbon DEBUG @ 13:17:48] RAM : 0.09 W during 14.98 s [measurement time: 0.0134]\n",
      "[codecarbon INFO @ 13:17:48] Energy consumed for all CPUs : 0.087453 kWh. Total CPU Power : 42.5 W\n",
      "[codecarbon DEBUG @ 13:17:48] CPU : 42.50 W during 15.00 s [measurement time: 0.0009]\n",
      "[codecarbon INFO @ 13:17:48] Energy consumed for all GPUs : 0.028320 kWh. Total GPU Power : 13.330974236006657 W\n",
      "[codecarbon DEBUG @ 13:17:48] GPU : 13.33 W during 15.00 s [measurement time: 0.0025]\n",
      "[codecarbon INFO @ 13:17:48] 0.115954 kWh of electricity used since the beginning.\n",
      "[codecarbon DEBUG @ 13:17:48] last_duration=14.975659746999554\n",
      "------------------------\n"
     ]
    },
    {
     "name": "stdout",
     "output_type": "stream",
     "text": [
      "[381/1000] ./test/pdf/888.pdf\n",
      "[382/1000] ./test/pdf/889.pdf\n"
     ]
    },
    {
     "name": "stderr",
     "output_type": "stream",
     "text": [
      "[codecarbon INFO @ 13:18:03] Energy consumed for RAM : 0.000181 kWh. RAM Power : 0.08827543258666992 W\n",
      "[codecarbon DEBUG @ 13:18:03] RAM : 0.09 W during 14.97 s [measurement time: 0.0063]\n",
      "[codecarbon INFO @ 13:18:03] Energy consumed for all CPUs : 0.087630 kWh. Total CPU Power : 42.5 W\n",
      "[codecarbon DEBUG @ 13:18:03] CPU : 42.50 W during 14.98 s [measurement time: 0.0003]\n",
      "[codecarbon INFO @ 13:18:03] Energy consumed for all GPUs : 0.028378 kWh. Total GPU Power : 13.774608585197644 W\n",
      "[codecarbon DEBUG @ 13:18:03] GPU : 13.77 W during 14.99 s [measurement time: 0.0019]\n",
      "[codecarbon INFO @ 13:18:03] 0.116189 kWh of electricity used since the beginning.\n",
      "[codecarbon DEBUG @ 13:18:03] last_duration=14.973416965999604\n",
      "------------------------\n",
      "[codecarbon INFO @ 13:18:18] Energy consumed for RAM : 0.000182 kWh. RAM Power : 0.08827543258666992 W\n",
      "[codecarbon DEBUG @ 13:18:18] RAM : 0.09 W during 14.99 s [measurement time: 0.0113]\n",
      "[codecarbon INFO @ 13:18:18] Energy consumed for all CPUs : 0.087807 kWh. Total CPU Power : 42.5 W\n",
      "[codecarbon DEBUG @ 13:18:18] CPU : 42.50 W during 15.00 s [measurement time: 0.0004]\n",
      "[codecarbon INFO @ 13:18:18] Energy consumed for all GPUs : 0.028439 kWh. Total GPU Power : 14.635256261513574 W\n",
      "[codecarbon DEBUG @ 13:18:18] GPU : 14.64 W during 15.00 s [measurement time: 0.0060]\n",
      "[codecarbon INFO @ 13:18:18] 0.116427 kWh of electricity used since the beginning.\n",
      "[codecarbon DEBUG @ 13:18:18] We apply an energy mix of 174 g.CO2eq/kWh for Spain\n",
      "[codecarbon DEBUG @ 13:18:18] EmissionsData(timestamp='2025-04-13T13:18:18', project_name='codecarbon', run_id='868e486c-ef2f-47f1-8b33-54ddf9c190fd', experiment_id='5b0fa12a-3dd7-45bb-9766-cc326314d9f1', duration=7440.441242014001, emissions=0.020264168335609876, emissions_rate=2.723517016865079e-06, cpu_power=42.5, gpu_power=14.635256261513574, ram_power=0.08827543258666992, cpu_energy=0.08780703139825968, gpu_energy=0.028438645250898002, ram_energy=0.00018160479646062196, energy_consumed=0.11642728144561836, country_name='Spain', country_iso_code='ESP', region=None, cloud_provider='', cloud_region='', os='Linux-6.8.0-57-generic-x86_64-with-glibc2.35', python_version='3.12.9', codecarbon_version='2.8.3', cpu_count=32, cpu_model='13th Gen Intel(R) Core(TM) i9-13900', gpu_count=1, gpu_model='1 x NVIDIA RTX 5000 Ada Generation', longitude=None, latitude=None, ram_total_size=62.50331497192383, tracking_mode='process', on_cloud='N', pue=1.0)\n",
      "[codecarbon INFO @ 13:18:18] 0.002721 g.CO2eq/s mean an estimation of 85.80606593428774 kg.CO2eq/year\n",
      "[codecarbon DEBUG @ 13:18:18] last_duration=14.986741476999669\n",
      "------------------------\n"
     ]
    },
    {
     "name": "stdout",
     "output_type": "stream",
     "text": [
      "[383/1000] ./test/pdf/89.pdf\n"
     ]
    },
    {
     "name": "stderr",
     "output_type": "stream",
     "text": [
      "[codecarbon INFO @ 13:18:33] Energy consumed for RAM : 0.000182 kWh. RAM Power : 0.08827543258666992 W\n",
      "[codecarbon DEBUG @ 13:18:33] RAM : 0.09 W during 14.98 s [measurement time: 0.0199]\n",
      "[codecarbon INFO @ 13:18:33] Energy consumed for all CPUs : 0.087984 kWh. Total CPU Power : 42.5 W\n",
      "[codecarbon DEBUG @ 13:18:33] CPU : 42.50 W during 15.01 s [measurement time: 0.0004]\n",
      "[codecarbon INFO @ 13:18:33] Energy consumed for all GPUs : 0.028495 kWh. Total GPU Power : 13.5383446053593 W\n",
      "[codecarbon DEBUG @ 13:18:33] GPU : 13.54 W during 15.01 s [measurement time: 0.0060]\n",
      "[codecarbon INFO @ 13:18:33] 0.116661 kWh of electricity used since the beginning.\n",
      "[codecarbon DEBUG @ 13:18:33] last_duration=14.976782796999942\n",
      "------------------------\n"
     ]
    },
    {
     "name": "stdout",
     "output_type": "stream",
     "text": [
      "[384/1000] ./test/pdf/890.pdf\n"
     ]
    },
    {
     "name": "stderr",
     "output_type": "stream",
     "text": [
      "[codecarbon INFO @ 13:18:48] Energy consumed for RAM : 0.000182 kWh. RAM Power : 0.08827543258666992 W\n",
      "[codecarbon DEBUG @ 13:18:48] RAM : 0.09 W during 14.96 s [measurement time: 0.0123]\n",
      "[codecarbon INFO @ 13:18:48] Energy consumed for all CPUs : 0.088161 kWh. Total CPU Power : 42.5 W\n",
      "[codecarbon DEBUG @ 13:18:48] CPU : 42.50 W during 14.98 s [measurement time: 0.0005]\n",
      "[codecarbon INFO @ 13:18:48] Energy consumed for all GPUs : 0.028553 kWh. Total GPU Power : 13.8341021207471 W\n",
      "[codecarbon DEBUG @ 13:18:48] GPU : 13.83 W during 14.98 s [measurement time: 0.0025]\n",
      "[codecarbon INFO @ 13:18:48] 0.116896 kWh of electricity used since the beginning.\n",
      "[codecarbon DEBUG @ 13:18:48] last_duration=14.962616370999967\n",
      "------------------------\n"
     ]
    },
    {
     "name": "stdout",
     "output_type": "stream",
     "text": [
      "[385/1000] ./test/pdf/891.pdf\n"
     ]
    },
    {
     "name": "stderr",
     "output_type": "stream",
     "text": [
      "[codecarbon INFO @ 13:19:03] Energy consumed for RAM : 0.000183 kWh. RAM Power : 0.08827543258666992 W\n",
      "[codecarbon DEBUG @ 13:19:03] RAM : 0.09 W during 14.98 s [measurement time: 0.0161]\n",
      "[codecarbon INFO @ 13:19:03] Energy consumed for all CPUs : 0.088338 kWh. Total CPU Power : 42.5 W\n",
      "[codecarbon DEBUG @ 13:19:03] CPU : 42.50 W during 15.01 s [measurement time: 0.0006]\n",
      "[codecarbon INFO @ 13:19:03] Energy consumed for all GPUs : 0.028605 kWh. Total GPU Power : 12.553378535083153 W\n",
      "[codecarbon DEBUG @ 13:19:03] GPU : 12.55 W during 15.01 s [measurement time: 0.0025]\n",
      "[codecarbon INFO @ 13:19:03] 0.117126 kWh of electricity used since the beginning.\n",
      "[codecarbon DEBUG @ 13:19:03] last_duration=14.977286258000277\n",
      "------------------------\n"
     ]
    },
    {
     "name": "stdout",
     "output_type": "stream",
     "text": [
      "[386/1000] ./test/pdf/892.pdf\n"
     ]
    },
    {
     "name": "stderr",
     "output_type": "stream",
     "text": [
      "[codecarbon INFO @ 13:19:18] Energy consumed for RAM : 0.000183 kWh. RAM Power : 0.08827543258666992 W\n",
      "[codecarbon DEBUG @ 13:19:18] RAM : 0.09 W during 14.97 s [measurement time: 0.0146]\n",
      "[codecarbon INFO @ 13:19:18] Energy consumed for all CPUs : 0.088515 kWh. Total CPU Power : 42.5 W\n",
      "[codecarbon DEBUG @ 13:19:18] CPU : 42.50 W during 14.99 s [measurement time: 0.0004]\n",
      "[codecarbon INFO @ 13:19:18] Energy consumed for all GPUs : 0.028662 kWh. Total GPU Power : 13.672186455740043 W\n",
      "[codecarbon DEBUG @ 13:19:18] GPU : 13.67 W during 14.99 s [measurement time: 0.0028]\n",
      "[codecarbon INFO @ 13:19:18] 0.117360 kWh of electricity used since the beginning.\n",
      "[codecarbon DEBUG @ 13:19:18] last_duration=14.967560076000154\n",
      "------------------------\n",
      "[codecarbon INFO @ 13:19:33] Energy consumed for RAM : 0.000183 kWh. RAM Power : 0.08827543258666992 W\n",
      "[codecarbon DEBUG @ 13:19:33] RAM : 0.09 W during 14.98 s [measurement time: 0.0140]\n",
      "[codecarbon INFO @ 13:19:33] Energy consumed for all CPUs : 0.088692 kWh. Total CPU Power : 42.5 W\n",
      "[codecarbon DEBUG @ 13:19:33] CPU : 42.50 W during 15.00 s [measurement time: 0.0006]\n",
      "[codecarbon INFO @ 13:19:33] Energy consumed for all GPUs : 0.028720 kWh. Total GPU Power : 13.951405732905291 W\n",
      "[codecarbon DEBUG @ 13:19:33] GPU : 13.95 W during 15.00 s [measurement time: 0.0045]\n",
      "[codecarbon INFO @ 13:19:33] 0.117596 kWh of electricity used since the beginning.\n",
      "[codecarbon DEBUG @ 13:19:33] last_duration=14.97613795899997\n",
      "------------------------\n"
     ]
    },
    {
     "name": "stdout",
     "output_type": "stream",
     "text": [
      "[387/1000] ./test/pdf/893.pdf\n"
     ]
    },
    {
     "name": "stderr",
     "output_type": "stream",
     "text": [
      "[codecarbon INFO @ 13:19:48] Energy consumed for RAM : 0.000184 kWh. RAM Power : 0.08836698532104494 W\n",
      "[codecarbon DEBUG @ 13:19:48] RAM : 0.09 W during 14.97 s [measurement time: 0.0144]\n",
      "[codecarbon INFO @ 13:19:48] Energy consumed for all CPUs : 0.088869 kWh. Total CPU Power : 42.5 W\n",
      "[codecarbon DEBUG @ 13:19:48] CPU : 42.50 W during 15.00 s [measurement time: 0.0007]\n",
      "[codecarbon INFO @ 13:19:48] Energy consumed for all GPUs : 0.028778 kWh. Total GPU Power : 13.847361425594412 W\n",
      "[codecarbon DEBUG @ 13:19:48] GPU : 13.85 W during 15.00 s [measurement time: 0.0036]\n",
      "[codecarbon INFO @ 13:19:48] 0.117831 kWh of electricity used since the beginning.\n",
      "[codecarbon DEBUG @ 13:19:48] last_duration=14.973329403999742\n",
      "------------------------\n",
      "[codecarbon INFO @ 13:20:03] Energy consumed for RAM : 0.000184 kWh. RAM Power : 0.08836698532104494 W\n",
      "[codecarbon DEBUG @ 13:20:03] RAM : 0.09 W during 14.97 s [measurement time: 0.0144]\n",
      "[codecarbon INFO @ 13:20:03] Energy consumed for all CPUs : 0.089046 kWh. Total CPU Power : 42.5 W\n",
      "[codecarbon DEBUG @ 13:20:03] CPU : 42.50 W during 14.99 s [measurement time: 0.0005]\n",
      "[codecarbon INFO @ 13:20:03] Energy consumed for all GPUs : 0.028834 kWh. Total GPU Power : 13.617880997892309 W\n",
      "[codecarbon DEBUG @ 13:20:03] GPU : 13.62 W during 14.99 s [measurement time: 0.0027]\n",
      "[codecarbon INFO @ 13:20:03] 0.118065 kWh of electricity used since the beginning.\n",
      "[codecarbon DEBUG @ 13:20:03] last_duration=14.968499304999568\n",
      "------------------------\n",
      "[codecarbon INFO @ 13:20:18] Energy consumed for RAM : 0.000185 kWh. RAM Power : 0.08836698532104494 W\n",
      "[codecarbon DEBUG @ 13:20:18] RAM : 0.09 W during 14.97 s [measurement time: 0.0101]\n",
      "[codecarbon INFO @ 13:20:18] Energy consumed for all CPUs : 0.089223 kWh. Total CPU Power : 42.5 W\n",
      "[codecarbon DEBUG @ 13:20:18] CPU : 42.50 W during 14.99 s [measurement time: 0.0003]\n",
      "[codecarbon INFO @ 13:20:18] Energy consumed for all GPUs : 0.028893 kWh. Total GPU Power : 14.050135732633038 W\n",
      "[codecarbon DEBUG @ 13:20:18] GPU : 14.05 W during 14.99 s [measurement time: 0.0068]\n",
      "[codecarbon INFO @ 13:20:18] 0.118301 kWh of electricity used since the beginning.\n",
      "[codecarbon DEBUG @ 13:20:18] We apply an energy mix of 174 g.CO2eq/kWh for Spain\n",
      "[codecarbon DEBUG @ 13:20:18] EmissionsData(timestamp='2025-04-13T13:20:18', project_name='codecarbon', run_id='868e486c-ef2f-47f1-8b33-54ddf9c190fd', experiment_id='5b0fa12a-3dd7-45bb-9766-cc326314d9f1', duration=7560.446579263001, emissions=0.020590235416400197, emissions_rate=2.7234152375172726e-06, cpu_power=42.5, gpu_power=14.050135732633038, ram_power=0.08836698532104494, cpu_energy=0.08922320131296732, gpu_energy=0.028892947558784, ram_energy=0.00018454297771827385, energy_consumed=0.11830069184946967, country_name='Spain', country_iso_code='ESP', region=None, cloud_provider='', cloud_region='', os='Linux-6.8.0-57-generic-x86_64-with-glibc2.35', python_version='3.12.9', codecarbon_version='2.8.3', cpu_count=32, cpu_model='13th Gen Intel(R) Core(TM) i9-13900', gpu_count=1, gpu_model='1 x NVIDIA RTX 5000 Ada Generation', longitude=None, latitude=None, ram_total_size=62.50331497192383, tracking_mode='process', on_cloud='N', pue=1.0)\n",
      "[codecarbon INFO @ 13:20:18] 0.002717 g.CO2eq/s mean an estimation of 85.68661774157266 kg.CO2eq/year\n",
      "[codecarbon DEBUG @ 13:20:18] last_duration=14.974408553000103\n",
      "------------------------\n"
     ]
    },
    {
     "name": "stdout",
     "output_type": "stream",
     "text": [
      "[388/1000] ./test/pdf/894.pdf\n"
     ]
    },
    {
     "name": "stderr",
     "output_type": "stream",
     "text": [
      "[codecarbon INFO @ 13:20:33] Energy consumed for RAM : 0.000185 kWh. RAM Power : 0.08836698532104494 W\n",
      "[codecarbon DEBUG @ 13:20:33] RAM : 0.09 W during 14.98 s [measurement time: 0.0133]\n",
      "[codecarbon INFO @ 13:20:33] Energy consumed for all CPUs : 0.089400 kWh. Total CPU Power : 42.5 W\n",
      "[codecarbon DEBUG @ 13:20:33] CPU : 42.50 W during 15.00 s [measurement time: 0.0004]\n",
      "[codecarbon INFO @ 13:20:33] Energy consumed for all GPUs : 0.028951 kWh. Total GPU Power : 13.938383778340402 W\n",
      "[codecarbon DEBUG @ 13:20:33] GPU : 13.94 W during 15.00 s [measurement time: 0.0021]\n",
      "[codecarbon INFO @ 13:20:33] 0.118536 kWh of electricity used since the beginning.\n",
      "[codecarbon DEBUG @ 13:20:33] last_duration=14.97834464600055\n",
      "------------------------\n"
     ]
    },
    {
     "name": "stdout",
     "output_type": "stream",
     "text": [
      "[389/1000] ./test/pdf/895.pdf\n"
     ]
    },
    {
     "name": "stderr",
     "output_type": "stream",
     "text": [
      "[codecarbon INFO @ 13:20:48] Energy consumed for RAM : 0.000185 kWh. RAM Power : 0.08836698532104494 W\n",
      "[codecarbon DEBUG @ 13:20:48] RAM : 0.09 W during 14.98 s [measurement time: 0.0136]\n",
      "[codecarbon INFO @ 13:20:48] Energy consumed for all CPUs : 0.089577 kWh. Total CPU Power : 42.5 W\n",
      "[codecarbon DEBUG @ 13:20:48] CPU : 42.50 W during 15.00 s [measurement time: 0.0008]\n",
      "[codecarbon INFO @ 13:20:48] Energy consumed for all GPUs : 0.029004 kWh. Total GPU Power : 12.702082099439865 W\n",
      "[codecarbon DEBUG @ 13:20:48] GPU : 12.70 W during 15.00 s [measurement time: 0.0064]\n",
      "[codecarbon INFO @ 13:20:48] 0.118767 kWh of electricity used since the beginning.\n",
      "[codecarbon DEBUG @ 13:20:48] last_duration=14.975075069000013\n",
      "------------------------\n"
     ]
    },
    {
     "name": "stdout",
     "output_type": "stream",
     "text": [
      "[390/1000] ./test/pdf/896.pdf\n"
     ]
    },
    {
     "name": "stderr",
     "output_type": "stream",
     "text": [
      "[codecarbon INFO @ 13:21:03] Energy consumed for RAM : 0.000186 kWh. RAM Power : 0.08836698532104494 W\n",
      "[codecarbon DEBUG @ 13:21:03] RAM : 0.09 W during 14.97 s [measurement time: 0.0119]\n",
      "[codecarbon INFO @ 13:21:03] Energy consumed for all CPUs : 0.089754 kWh. Total CPU Power : 42.5 W\n",
      "[codecarbon DEBUG @ 13:21:03] CPU : 42.50 W during 14.99 s [measurement time: 0.0006]\n",
      "[codecarbon INFO @ 13:21:03] Energy consumed for all GPUs : 0.029061 kWh. Total GPU Power : 13.739192207380501 W\n",
      "[codecarbon DEBUG @ 13:21:03] GPU : 13.74 W during 14.99 s [measurement time: 0.0025]\n",
      "[codecarbon INFO @ 13:21:03] 0.119001 kWh of electricity used since the beginning.\n",
      "[codecarbon DEBUG @ 13:21:03] last_duration=14.971241780000128\n",
      "------------------------\n",
      "[codecarbon INFO @ 13:21:18] Energy consumed for RAM : 0.000186 kWh. RAM Power : 0.08836698532104494 W\n",
      "[codecarbon DEBUG @ 13:21:18] RAM : 0.09 W during 14.98 s [measurement time: 0.0145]\n",
      "[codecarbon INFO @ 13:21:18] Energy consumed for all CPUs : 0.089931 kWh. Total CPU Power : 42.5 W\n",
      "[codecarbon DEBUG @ 13:21:18] CPU : 42.50 W during 15.00 s [measurement time: 0.0005]\n",
      "[codecarbon INFO @ 13:21:18] Energy consumed for all GPUs : 0.029116 kWh. Total GPU Power : 13.271425137612352 W\n",
      "[codecarbon DEBUG @ 13:21:18] GPU : 13.27 W during 15.00 s [measurement time: 0.0019]\n",
      "[codecarbon INFO @ 13:21:18] 0.119234 kWh of electricity used since the beginning.\n",
      "[codecarbon DEBUG @ 13:21:18] last_duration=14.976616957999795\n",
      "------------------------\n"
     ]
    },
    {
     "name": "stdout",
     "output_type": "stream",
     "text": [
      "[391/1000] ./test/pdf/897.pdf\n"
     ]
    },
    {
     "name": "stderr",
     "output_type": "stream",
     "text": [
      "[codecarbon INFO @ 13:21:33] Energy consumed for RAM : 0.000186 kWh. RAM Power : 0.08836698532104494 W\n",
      "[codecarbon DEBUG @ 13:21:33] RAM : 0.09 W during 14.97 s [measurement time: 0.0088]\n",
      "[codecarbon INFO @ 13:21:33] Energy consumed for all CPUs : 0.090108 kWh. Total CPU Power : 42.5 W\n",
      "[codecarbon DEBUG @ 13:21:33] CPU : 42.50 W during 14.99 s [measurement time: 0.0003]\n",
      "[codecarbon INFO @ 13:21:33] Energy consumed for all GPUs : 0.029172 kWh. Total GPU Power : 13.439620007636869 W\n",
      "[codecarbon DEBUG @ 13:21:33] GPU : 13.44 W during 14.99 s [measurement time: 0.0019]\n",
      "[codecarbon INFO @ 13:21:33] 0.119467 kWh of electricity used since the beginning.\n",
      "[codecarbon DEBUG @ 13:21:33] last_duration=14.974422264000168\n",
      "------------------------\n"
     ]
    },
    {
     "name": "stdout",
     "output_type": "stream",
     "text": [
      "[392/1000] ./test/pdf/898.pdf\n"
     ]
    },
    {
     "name": "stderr",
     "output_type": "stream",
     "text": [
      "[codecarbon INFO @ 13:21:48] Energy consumed for RAM : 0.000187 kWh. RAM Power : 0.08845853805541992 W\n",
      "[codecarbon DEBUG @ 13:21:48] RAM : 0.09 W during 14.98 s [measurement time: 0.0176]\n",
      "[codecarbon INFO @ 13:21:48] Energy consumed for all CPUs : 0.090286 kWh. Total CPU Power : 42.5 W\n",
      "[codecarbon DEBUG @ 13:21:48] CPU : 42.50 W during 15.01 s [measurement time: 0.0004]\n",
      "[codecarbon INFO @ 13:21:48] Energy consumed for all GPUs : 0.029225 kWh. Total GPU Power : 12.676822325025894 W\n",
      "[codecarbon DEBUG @ 13:21:48] GPU : 12.68 W during 15.02 s [measurement time: 0.0018]\n",
      "[codecarbon INFO @ 13:21:48] 0.119698 kWh of electricity used since the beginning.\n",
      "[codecarbon DEBUG @ 13:21:48] last_duration=14.984146122999846\n",
      "------------------------\n"
     ]
    },
    {
     "name": "stdout",
     "output_type": "stream",
     "text": [
      "[393/1000] ./test/pdf/899.pdf\n"
     ]
    },
    {
     "name": "stderr",
     "output_type": "stream",
     "text": [
      "[codecarbon INFO @ 13:22:03] Energy consumed for RAM : 0.000187 kWh. RAM Power : 0.08845853805541992 W\n",
      "[codecarbon DEBUG @ 13:22:03] RAM : 0.09 W during 14.97 s [measurement time: 0.0081]\n",
      "[codecarbon INFO @ 13:22:03] Energy consumed for all CPUs : 0.090462 kWh. Total CPU Power : 42.5 W\n",
      "[codecarbon DEBUG @ 13:22:03] CPU : 42.50 W during 14.98 s [measurement time: 0.0004]\n",
      "[codecarbon INFO @ 13:22:03] Energy consumed for all GPUs : 0.029283 kWh. Total GPU Power : 13.937990452904687 W\n",
      "[codecarbon DEBUG @ 13:22:03] GPU : 13.94 W during 14.98 s [measurement time: 0.0059]\n",
      "[codecarbon INFO @ 13:22:03] 0.119933 kWh of electricity used since the beginning.\n",
      "[codecarbon DEBUG @ 13:22:03] last_duration=14.967446480000035\n",
      "------------------------\n",
      "[codecarbon INFO @ 13:22:18] Energy consumed for RAM : 0.000187 kWh. RAM Power : 0.08845853805541992 W\n",
      "[codecarbon DEBUG @ 13:22:18] RAM : 0.09 W during 14.98 s [measurement time: 0.0113]\n",
      "[codecarbon INFO @ 13:22:18] Energy consumed for all CPUs : 0.090640 kWh. Total CPU Power : 42.5 W\n",
      "[codecarbon DEBUG @ 13:22:18] CPU : 42.50 W during 15.00 s [measurement time: 0.0003]\n",
      "[codecarbon INFO @ 13:22:18] Energy consumed for all GPUs : 0.029340 kWh. Total GPU Power : 13.521382408617344 W\n",
      "[codecarbon DEBUG @ 13:22:18] GPU : 13.52 W during 15.00 s [measurement time: 0.0027]\n",
      "[codecarbon INFO @ 13:22:18] 0.120167 kWh of electricity used since the beginning.\n",
      "[codecarbon DEBUG @ 13:22:18] We apply an energy mix of 174 g.CO2eq/kWh for Spain\n",
      "[codecarbon DEBUG @ 13:22:18] EmissionsData(timestamp='2025-04-13T13:22:18', project_name='codecarbon', run_id='868e486c-ef2f-47f1-8b33-54ddf9c190fd', experiment_id='5b0fa12a-3dd7-45bb-9766-cc326314d9f1', duration=7680.456782558001, emissions=0.020915003798476293, emissions_rate=2.723145822000249e-06, cpu_power=42.5, gpu_power=13.521382408617344, ram_power=0.08845853805541992, cpu_energy=0.09063951912892633, gpu_energy=0.029339636527246, ram_energy=0.0001874849555845065, energy_consumed=0.12016664061175691, country_name='Spain', country_iso_code='ESP', region=None, cloud_provider='', cloud_region='', os='Linux-6.8.0-57-generic-x86_64-with-glibc2.35', python_version='3.12.9', codecarbon_version='2.8.3', cpu_count=32, cpu_model='13th Gen Intel(R) Core(TM) i9-13900', gpu_count=1, gpu_model='1 x NVIDIA RTX 5000 Ada Generation', longitude=None, latitude=None, ram_total_size=62.50331497192383, tracking_mode='process', on_cloud='N', pue=1.0)\n",
      "[codecarbon INFO @ 13:22:18] 0.002706 g.CO2eq/s mean an estimation of 85.3418744069279 kg.CO2eq/year\n",
      "[codecarbon DEBUG @ 13:22:18] last_duration=14.979893516999255\n",
      "------------------------\n"
     ]
    },
    {
     "name": "stdout",
     "output_type": "stream",
     "text": [
      "[394/1000] ./test/pdf/9.pdf\n"
     ]
    },
    {
     "name": "stderr",
     "output_type": "stream",
     "text": [
      "[codecarbon INFO @ 13:22:33] Energy consumed for RAM : 0.000188 kWh. RAM Power : 0.08845853805541992 W\n",
      "[codecarbon DEBUG @ 13:22:33] RAM : 0.09 W during 14.97 s [measurement time: 0.0149]\n",
      "[codecarbon INFO @ 13:22:33] Energy consumed for all CPUs : 0.090817 kWh. Total CPU Power : 42.5 W\n",
      "[codecarbon DEBUG @ 13:22:33] CPU : 42.50 W during 15.01 s [measurement time: 0.0007]\n",
      "[codecarbon INFO @ 13:22:33] Energy consumed for all GPUs : 0.029398 kWh. Total GPU Power : 14.060699836466238 W\n",
      "[codecarbon DEBUG @ 13:22:33] GPU : 14.06 W during 15.01 s [measurement time: 0.0032]\n",
      "[codecarbon INFO @ 13:22:33] 0.120403 kWh of electricity used since the beginning.\n",
      "[codecarbon DEBUG @ 13:22:33] last_duration=14.974408943000526\n",
      "------------------------\n",
      "[codecarbon INFO @ 13:22:48] Energy consumed for RAM : 0.000188 kWh. RAM Power : 0.08845853805541992 W\n",
      "[codecarbon DEBUG @ 13:22:48] RAM : 0.09 W during 14.96 s [measurement time: 0.0139]\n",
      "[codecarbon INFO @ 13:22:48] Energy consumed for all CPUs : 0.090994 kWh. Total CPU Power : 42.5 W\n",
      "[codecarbon DEBUG @ 13:22:48] CPU : 42.50 W during 14.99 s [measurement time: 0.0004]\n",
      "[codecarbon INFO @ 13:22:48] Energy consumed for all GPUs : 0.029456 kWh. Total GPU Power : 13.944133861943243 W\n",
      "[codecarbon DEBUG @ 13:22:48] GPU : 13.94 W during 14.99 s [measurement time: 0.0044]\n",
      "[codecarbon INFO @ 13:22:48] 0.120638 kWh of electricity used since the beginning.\n",
      "[codecarbon DEBUG @ 13:22:48] last_duration=14.963863391999439\n",
      "------------------------\n"
     ]
    },
    {
     "name": "stdout",
     "output_type": "stream",
     "text": [
      "[395/1000] ./test/pdf/90.pdf\n"
     ]
    },
    {
     "name": "stderr",
     "output_type": "stream",
     "text": [
      "[codecarbon INFO @ 13:23:03] Energy consumed for RAM : 0.000189 kWh. RAM Power : 0.08845853805541992 W\n",
      "[codecarbon DEBUG @ 13:23:03] RAM : 0.09 W during 14.97 s [measurement time: 0.0135]\n",
      "[codecarbon INFO @ 13:23:03] Energy consumed for all CPUs : 0.091171 kWh. Total CPU Power : 42.5 W\n",
      "[codecarbon DEBUG @ 13:23:03] CPU : 42.50 W during 15.00 s [measurement time: 0.0009]\n",
      "[codecarbon INFO @ 13:23:03] Energy consumed for all GPUs : 0.029514 kWh. Total GPU Power : 13.838048040600668 W\n",
      "[codecarbon DEBUG @ 13:23:03] GPU : 13.84 W during 15.00 s [measurement time: 0.0029]\n",
      "[codecarbon INFO @ 13:23:03] 0.120873 kWh of electricity used since the beginning.\n",
      "[codecarbon DEBUG @ 13:23:03] last_duration=14.971377914000186\n",
      "------------------------\n"
     ]
    },
    {
     "name": "stdout",
     "output_type": "stream",
     "text": [
      "[396/1000] ./test/pdf/900.pdf\n"
     ]
    },
    {
     "name": "stderr",
     "output_type": "stream",
     "text": [
      "[codecarbon INFO @ 13:23:18] Energy consumed for RAM : 0.000189 kWh. RAM Power : 0.08845853805541992 W\n",
      "[codecarbon DEBUG @ 13:23:18] RAM : 0.09 W during 14.97 s [measurement time: 0.0140]\n",
      "[codecarbon INFO @ 13:23:18] Energy consumed for all CPUs : 0.091348 kWh. Total CPU Power : 42.5 W\n",
      "[codecarbon DEBUG @ 13:23:18] CPU : 42.50 W during 15.00 s [measurement time: 0.0010]\n",
      "[codecarbon INFO @ 13:23:18] Energy consumed for all GPUs : 0.029570 kWh. Total GPU Power : 13.44912789733943 W\n",
      "[codecarbon DEBUG @ 13:23:18] GPU : 13.45 W during 15.00 s [measurement time: 0.0023]\n",
      "[codecarbon INFO @ 13:23:18] 0.121107 kWh of electricity used since the beginning.\n",
      "[codecarbon DEBUG @ 13:23:18] last_duration=14.96805085699998\n",
      "------------------------\n"
     ]
    },
    {
     "name": "stdout",
     "output_type": "stream",
     "text": [
      "[397/1000] ./test/pdf/901.pdf\n"
     ]
    },
    {
     "name": "stderr",
     "output_type": "stream",
     "text": [
      "[codecarbon INFO @ 13:23:33] Energy consumed for RAM : 0.000189 kWh. RAM Power : 0.08845853805541992 W\n",
      "[codecarbon DEBUG @ 13:23:33] RAM : 0.09 W during 14.97 s [measurement time: 0.0142]\n",
      "[codecarbon INFO @ 13:23:33] Energy consumed for all CPUs : 0.091525 kWh. Total CPU Power : 42.5 W\n",
      "[codecarbon DEBUG @ 13:23:33] CPU : 42.50 W during 14.99 s [measurement time: 0.0007]\n",
      "[codecarbon INFO @ 13:23:33] Energy consumed for all GPUs : 0.029621 kWh. Total GPU Power : 12.18980127059987 W\n",
      "[codecarbon DEBUG @ 13:23:33] GPU : 12.19 W during 14.99 s [measurement time: 0.0026]\n",
      "[codecarbon INFO @ 13:23:33] 0.121335 kWh of electricity used since the beginning.\n",
      "[codecarbon DEBUG @ 13:23:33] last_duration=14.966600744999596\n",
      "------------------------\n",
      "[codecarbon INFO @ 13:23:48] Energy consumed for RAM : 0.000190 kWh. RAM Power : 0.08845853805541992 W\n",
      "[codecarbon DEBUG @ 13:23:48] RAM : 0.09 W during 14.97 s [measurement time: 0.0135]\n",
      "[codecarbon INFO @ 13:23:48] Energy consumed for all CPUs : 0.091702 kWh. Total CPU Power : 42.5 W\n",
      "[codecarbon DEBUG @ 13:23:48] CPU : 42.50 W during 14.99 s [measurement time: 0.0003]\n",
      "[codecarbon INFO @ 13:23:48] Energy consumed for all GPUs : 0.029678 kWh. Total GPU Power : 13.625986683170938 W\n",
      "[codecarbon DEBUG @ 13:23:48] GPU : 13.63 W during 14.99 s [measurement time: 0.0019]\n",
      "[codecarbon INFO @ 13:23:48] 0.121569 kWh of electricity used since the beginning.\n",
      "[codecarbon DEBUG @ 13:23:48] last_duration=14.974570525999297\n",
      "------------------------\n"
     ]
    },
    {
     "name": "stdout",
     "output_type": "stream",
     "text": [
      "[398/1000] ./test/pdf/902.pdf\n"
     ]
    },
    {
     "name": "stderr",
     "output_type": "stream",
     "text": [
      "[codecarbon INFO @ 13:24:03] Energy consumed for RAM : 0.000190 kWh. RAM Power : 0.08845853805541992 W\n",
      "[codecarbon DEBUG @ 13:24:03] RAM : 0.09 W during 14.98 s [measurement time: 0.0154]\n",
      "[codecarbon INFO @ 13:24:03] Energy consumed for all CPUs : 0.091879 kWh. Total CPU Power : 42.5 W\n",
      "[codecarbon DEBUG @ 13:24:03] CPU : 42.50 W during 15.01 s [measurement time: 0.0005]\n",
      "[codecarbon INFO @ 13:24:03] Energy consumed for all GPUs : 0.029736 kWh. Total GPU Power : 14.084832719960243 W\n",
      "[codecarbon DEBUG @ 13:24:03] GPU : 14.08 W during 15.01 s [measurement time: 0.0028]\n",
      "[codecarbon INFO @ 13:24:03] 0.121805 kWh of electricity used since the beginning.\n",
      "[codecarbon DEBUG @ 13:24:03] last_duration=14.978731745000005\n",
      "------------------------\n"
     ]
    },
    {
     "name": "stdout",
     "output_type": "stream",
     "text": [
      "[399/1000] ./test/pdf/903.pdf\n"
     ]
    },
    {
     "name": "stderr",
     "output_type": "stream",
     "text": [
      "[codecarbon INFO @ 13:24:18] Energy consumed for RAM : 0.000190 kWh. RAM Power : 0.08845853805541992 W\n",
      "[codecarbon DEBUG @ 13:24:18] RAM : 0.09 W during 14.97 s [measurement time: 0.0135]\n",
      "[codecarbon INFO @ 13:24:18] Energy consumed for all CPUs : 0.092056 kWh. Total CPU Power : 42.5 W\n",
      "[codecarbon DEBUG @ 13:24:18] CPU : 42.50 W during 14.99 s [measurement time: 0.0006]\n",
      "[codecarbon INFO @ 13:24:18] Energy consumed for all GPUs : 0.029798 kWh. Total GPU Power : 14.852129329125747 W\n",
      "[codecarbon DEBUG @ 13:24:18] GPU : 14.85 W during 14.99 s [measurement time: 0.0054]\n",
      "[codecarbon INFO @ 13:24:18] 0.122044 kWh of electricity used since the beginning.\n",
      "[codecarbon DEBUG @ 13:24:18] We apply an energy mix of 174 g.CO2eq/kWh for Spain\n",
      "[codecarbon DEBUG @ 13:24:18] EmissionsData(timestamp='2025-04-13T13:24:18', project_name='codecarbon', run_id='868e486c-ef2f-47f1-8b33-54ddf9c190fd', experiment_id='5b0fa12a-3dd7-45bb-9766-cc326314d9f1', duration=7800.4679064090005, emissions=0.021241808964459798, emissions_rate=2.7231454855428807e-06, cpu_power=42.5, gpu_power=14.852129329125747, ram_power=0.08845853805541992, cpu_energy=0.092055795321743, gpu_energy=0.029798068560658, ram_energy=0.00019042778355576594, energy_consumed=0.12204429166595689, country_name='Spain', country_iso_code='ESP', region=None, cloud_provider='', cloud_region='', os='Linux-6.8.0-57-generic-x86_64-with-glibc2.35', python_version='3.12.9', codecarbon_version='2.8.3', cpu_count=32, cpu_model='13th Gen Intel(R) Core(TM) i9-13900', gpu_count=1, gpu_model='1 x NVIDIA RTX 5000 Ada Generation', longitude=None, latitude=None, ram_total_size=62.50331497192383, tracking_mode='process', on_cloud='N', pue=1.0)\n",
      "[codecarbon INFO @ 13:24:18] 0.002723 g.CO2eq/s mean an estimation of 85.87643698138673 kg.CO2eq/year\n",
      "[codecarbon DEBUG @ 13:24:18] last_duration=14.966673584000091\n",
      "------------------------\n"
     ]
    },
    {
     "name": "stdout",
     "output_type": "stream",
     "text": [
      "[400/1000] ./test/pdf/904.pdf\n"
     ]
    },
    {
     "name": "stderr",
     "output_type": "stream",
     "text": [
      "[codecarbon INFO @ 13:24:33] Energy consumed for RAM : 0.000191 kWh. RAM Power : 0.08845853805541992 W\n",
      "[codecarbon DEBUG @ 13:24:33] RAM : 0.09 W during 14.97 s [measurement time: 0.0205]\n",
      "[codecarbon INFO @ 13:24:33] Energy consumed for all CPUs : 0.092233 kWh. Total CPU Power : 42.5 W\n",
      "[codecarbon DEBUG @ 13:24:33] CPU : 42.50 W during 15.00 s [measurement time: 0.0005]\n",
      "[codecarbon INFO @ 13:24:33] Energy consumed for all GPUs : 0.029855 kWh. Total GPU Power : 13.602145667078117 W\n",
      "[codecarbon DEBUG @ 13:24:33] GPU : 13.60 W during 15.00 s [measurement time: 0.0032]\n",
      "[codecarbon INFO @ 13:24:33] 0.122278 kWh of electricity used since the beginning.\n",
      "[codecarbon DEBUG @ 13:24:33] last_duration=14.969814713000233\n",
      "------------------------\n"
     ]
    },
    {
     "name": "stdout",
     "output_type": "stream",
     "text": [
      "[401/1000] ./test/pdf/905.pdf\n"
     ]
    },
    {
     "name": "stderr",
     "output_type": "stream",
     "text": [
      "[codecarbon INFO @ 13:24:48] Energy consumed for RAM : 0.000191 kWh. RAM Power : 0.08845853805541992 W\n",
      "[codecarbon DEBUG @ 13:24:48] RAM : 0.09 W during 14.97 s [measurement time: 0.0140]\n",
      "[codecarbon INFO @ 13:24:48] Energy consumed for all CPUs : 0.092410 kWh. Total CPU Power : 42.5 W\n",
      "[codecarbon DEBUG @ 13:24:48] CPU : 42.50 W during 14.99 s [measurement time: 0.0007]\n",
      "[codecarbon INFO @ 13:24:48] Energy consumed for all GPUs : 0.029912 kWh. Total GPU Power : 13.756296842222625 W\n",
      "[codecarbon DEBUG @ 13:24:48] GPU : 13.76 W during 14.99 s [measurement time: 0.0026]\n",
      "[codecarbon INFO @ 13:24:48] 0.122513 kWh of electricity used since the beginning.\n",
      "[codecarbon DEBUG @ 13:24:48] last_duration=14.96982533299979\n",
      "------------------------\n"
     ]
    },
    {
     "name": "stdout",
     "output_type": "stream",
     "text": [
      "[402/1000] ./test/pdf/906.pdf\n"
     ]
    },
    {
     "name": "stderr",
     "output_type": "stream",
     "text": [
      "[codecarbon INFO @ 13:25:03] Energy consumed for RAM : 0.000192 kWh. RAM Power : 0.08845853805541992 W\n",
      "[codecarbon DEBUG @ 13:25:03] RAM : 0.09 W during 14.97 s [measurement time: 0.0130]\n",
      "[codecarbon INFO @ 13:25:03] Energy consumed for all CPUs : 0.092587 kWh. Total CPU Power : 42.5 W\n",
      "[codecarbon DEBUG @ 13:25:03] CPU : 42.50 W during 15.00 s [measurement time: 0.0005]\n",
      "[codecarbon INFO @ 13:25:03] Energy consumed for all GPUs : 0.029971 kWh. Total GPU Power : 14.13591382766902 W\n",
      "[codecarbon DEBUG @ 13:25:03] GPU : 14.14 W during 15.00 s [measurement time: 0.0020]\n",
      "[codecarbon INFO @ 13:25:03] 0.122749 kWh of electricity used since the beginning.\n",
      "[codecarbon DEBUG @ 13:25:03] last_duration=14.974132106999605\n",
      "------------------------\n",
      "[codecarbon INFO @ 13:25:18] Energy consumed for RAM : 0.000192 kWh. RAM Power : 0.08845853805541992 W\n",
      "[codecarbon DEBUG @ 13:25:18] RAM : 0.09 W during 14.97 s [measurement time: 0.0116]\n",
      "[codecarbon INFO @ 13:25:18] Energy consumed for all CPUs : 0.092764 kWh. Total CPU Power : 42.5 W\n",
      "[codecarbon DEBUG @ 13:25:18] CPU : 42.50 W during 14.99 s [measurement time: 0.0007]\n",
      "[codecarbon INFO @ 13:25:18] Energy consumed for all GPUs : 0.030027 kWh. Total GPU Power : 13.383242632769846 W\n",
      "[codecarbon DEBUG @ 13:25:18] GPU : 13.38 W during 14.99 s [measurement time: 0.0022]\n",
      "[codecarbon INFO @ 13:25:18] 0.122982 kWh of electricity used since the beginning.\n",
      "[codecarbon DEBUG @ 13:25:18] last_duration=14.973081396999987\n",
      "------------------------\n",
      "[codecarbon INFO @ 13:25:33] Energy consumed for RAM : 0.000192 kWh. RAM Power : 0.08845853805541992 W\n",
      "[codecarbon DEBUG @ 13:25:33] RAM : 0.09 W during 14.98 s [measurement time: 0.0116]\n",
      "[codecarbon INFO @ 13:25:33] Energy consumed for all CPUs : 0.092941 kWh. Total CPU Power : 42.5 W\n",
      "[codecarbon DEBUG @ 13:25:33] CPU : 42.50 W during 15.00 s [measurement time: 0.0007]\n",
      "[codecarbon INFO @ 13:25:33] Energy consumed for all GPUs : 0.030087 kWh. Total GPU Power : 14.599935505558712 W\n",
      "[codecarbon DEBUG @ 13:25:33] GPU : 14.60 W during 15.00 s [measurement time: 0.0028]\n",
      "[codecarbon INFO @ 13:25:33] 0.123221 kWh of electricity used since the beginning.\n",
      "[codecarbon DEBUG @ 13:25:33] last_duration=14.978227186999902\n",
      "------------------------\n",
      "[codecarbon INFO @ 13:25:48] Energy consumed for RAM : 0.000193 kWh. RAM Power : 0.08845853805541992 W\n",
      "[codecarbon DEBUG @ 13:25:48] RAM : 0.09 W during 14.97 s [measurement time: 0.0165]\n",
      "[codecarbon INFO @ 13:25:48] Energy consumed for all CPUs : 0.093118 kWh. Total CPU Power : 42.5 W\n",
      "[codecarbon DEBUG @ 13:25:48] CPU : 42.50 W during 15.00 s [measurement time: 0.0004]\n",
      "[codecarbon INFO @ 13:25:48] Energy consumed for all GPUs : 0.030138 kWh. Total GPU Power : 12.02538422554407 W\n",
      "[codecarbon DEBUG @ 13:25:48] GPU : 12.03 W during 15.00 s [measurement time: 0.0020]\n",
      "[codecarbon INFO @ 13:25:48] 0.123448 kWh of electricity used since the beginning.\n",
      "[codecarbon DEBUG @ 13:25:48] last_duration=14.972878338000555\n",
      "------------------------\n"
     ]
    },
    {
     "name": "stdout",
     "output_type": "stream",
     "text": [
      "[403/1000] ./test/pdf/907.pdf\n"
     ]
    },
    {
     "name": "stderr",
     "output_type": "stream",
     "text": [
      "[codecarbon INFO @ 13:26:03] Energy consumed for RAM : 0.000193 kWh. RAM Power : 0.08845853805541992 W\n",
      "[codecarbon DEBUG @ 13:26:03] RAM : 0.09 W during 14.97 s [measurement time: 0.0089]\n",
      "[codecarbon INFO @ 13:26:03] Energy consumed for all CPUs : 0.093295 kWh. Total CPU Power : 42.5 W\n",
      "[codecarbon DEBUG @ 13:26:03] CPU : 42.50 W during 14.99 s [measurement time: 0.0006]\n",
      "[codecarbon INFO @ 13:26:03] Energy consumed for all GPUs : 0.030197 kWh. Total GPU Power : 14.23343889129218 W\n",
      "[codecarbon DEBUG @ 13:26:03] GPU : 14.23 W during 14.99 s [measurement time: 0.0028]\n",
      "[codecarbon INFO @ 13:26:03] 0.123685 kWh of electricity used since the beginning.\n",
      "[codecarbon DEBUG @ 13:26:03] last_duration=14.971252703000573\n",
      "------------------------\n",
      "[codecarbon INFO @ 13:26:18] Energy consumed for RAM : 0.000193 kWh. RAM Power : 0.08845853805541992 W\n",
      "[codecarbon DEBUG @ 13:26:18] RAM : 0.09 W during 14.98 s [measurement time: 0.0154]\n",
      "[codecarbon INFO @ 13:26:18] Energy consumed for all CPUs : 0.093472 kWh. Total CPU Power : 42.5 W\n",
      "[codecarbon DEBUG @ 13:26:18] CPU : 42.50 W during 15.01 s [measurement time: 0.0011]\n",
      "[codecarbon INFO @ 13:26:18] Energy consumed for all GPUs : 0.030255 kWh. Total GPU Power : 13.974416788535128 W\n",
      "[codecarbon DEBUG @ 13:26:18] GPU : 13.97 W during 15.01 s [measurement time: 0.0024]\n",
      "[codecarbon INFO @ 13:26:18] 0.123921 kWh of electricity used since the beginning.\n",
      "[codecarbon DEBUG @ 13:26:18] We apply an energy mix of 174 g.CO2eq/kWh for Spain\n",
      "[codecarbon DEBUG @ 13:26:18] EmissionsData(timestamp='2025-04-13T13:26:18', project_name='codecarbon', run_id='868e486c-ef2f-47f1-8b33-54ddf9c190fd', experiment_id='5b0fa12a-3dd7-45bb-9766-cc326314d9f1', duration=7920.481068469, emissions=0.021568397268407515, emissions_rate=2.7231170786166156e-06, cpu_power=42.5, gpu_power=13.974416788535128, ram_power=0.08845853805541992, cpu_energy=0.09347218242886382, gpu_energy=0.030255143092983997, ram_energy=0.00019337122280881807, energy_consumed=0.12392069674465678, country_name='Spain', country_iso_code='ESP', region=None, cloud_provider='', cloud_region='', os='Linux-6.8.0-57-generic-x86_64-with-glibc2.35', python_version='3.12.9', codecarbon_version='2.8.3', cpu_count=32, cpu_model='13th Gen Intel(R) Core(TM) i9-13900', gpu_count=1, gpu_model='1 x NVIDIA RTX 5000 Ada Generation', longitude=None, latitude=None, ram_total_size=62.50331497192383, tracking_mode='process', on_cloud='N', pue=1.0)\n",
      "[codecarbon INFO @ 13:26:18] 0.002721 g.CO2eq/s mean an estimation of 85.81799343097184 kg.CO2eq/year\n",
      "[codecarbon DEBUG @ 13:26:18] last_duration=14.97995483900013\n",
      "------------------------\n"
     ]
    },
    {
     "name": "stdout",
     "output_type": "stream",
     "text": [
      "[404/1000] ./test/pdf/908.pdf\n"
     ]
    },
    {
     "name": "stderr",
     "output_type": "stream",
     "text": [
      "[codecarbon INFO @ 13:26:33] Energy consumed for RAM : 0.000194 kWh. RAM Power : 0.08845853805541992 W\n",
      "[codecarbon DEBUG @ 13:26:33] RAM : 0.09 W during 14.96 s [measurement time: 0.0157]\n",
      "[codecarbon INFO @ 13:26:33] Energy consumed for all CPUs : 0.093649 kWh. Total CPU Power : 42.5 W\n",
      "[codecarbon DEBUG @ 13:26:33] CPU : 42.50 W during 15.00 s [measurement time: 0.0011]\n",
      "[codecarbon INFO @ 13:26:33] Energy consumed for all GPUs : 0.030313 kWh. Total GPU Power : 13.886718365061023 W\n",
      "[codecarbon DEBUG @ 13:26:33] GPU : 13.89 W during 15.00 s [measurement time: 0.0063]\n",
      "[codecarbon INFO @ 13:26:33] 0.124156 kWh of electricity used since the beginning.\n",
      "[codecarbon DEBUG @ 13:26:33] last_duration=14.963543119999485\n",
      "------------------------\n"
     ]
    },
    {
     "name": "stdout",
     "output_type": "stream",
     "text": [
      "[405/1000] ./test/pdf/909.pdf\n"
     ]
    },
    {
     "name": "stderr",
     "output_type": "stream",
     "text": [
      "[codecarbon INFO @ 13:26:48] Energy consumed for RAM : 0.000194 kWh. RAM Power : 0.08845853805541992 W\n",
      "[codecarbon DEBUG @ 13:26:48] RAM : 0.09 W during 14.96 s [measurement time: 0.0125]\n",
      "[codecarbon INFO @ 13:26:48] Energy consumed for all CPUs : 0.093826 kWh. Total CPU Power : 42.5 W\n",
      "[codecarbon DEBUG @ 13:26:48] CPU : 42.50 W during 14.99 s [measurement time: 0.0007]\n",
      "[codecarbon INFO @ 13:26:48] Energy consumed for all GPUs : 0.030371 kWh. Total GPU Power : 13.878597983998437 W\n",
      "[codecarbon DEBUG @ 13:26:48] GPU : 13.88 W during 14.99 s [measurement time: 0.0023]\n",
      "[codecarbon INFO @ 13:26:48] 0.124391 kWh of electricity used since the beginning.\n",
      "[codecarbon DEBUG @ 13:26:48] last_duration=14.95960926600037\n",
      "------------------------\n"
     ]
    },
    {
     "name": "stdout",
     "output_type": "stream",
     "text": [
      "[406/1000] ./test/pdf/91.pdf\n"
     ]
    },
    {
     "name": "stderr",
     "output_type": "stream",
     "text": [
      "[codecarbon INFO @ 13:27:03] Energy consumed for RAM : 0.000194 kWh. RAM Power : 0.08845853805541992 W\n",
      "[codecarbon DEBUG @ 13:27:03] RAM : 0.09 W during 14.97 s [measurement time: 0.0107]\n",
      "[codecarbon INFO @ 13:27:03] Energy consumed for all CPUs : 0.094003 kWh. Total CPU Power : 42.5 W\n",
      "[codecarbon DEBUG @ 13:27:03] CPU : 42.50 W during 14.99 s [measurement time: 0.0005]\n",
      "[codecarbon INFO @ 13:27:03] Energy consumed for all GPUs : 0.030428 kWh. Total GPU Power : 13.702039372420407 W\n",
      "[codecarbon DEBUG @ 13:27:03] GPU : 13.70 W during 14.99 s [measurement time: 0.0096]\n",
      "[codecarbon INFO @ 13:27:03] 0.124625 kWh of electricity used since the beginning.\n",
      "[codecarbon DEBUG @ 13:27:03] last_duration=14.9675295119996\n",
      "------------------------\n"
     ]
    },
    {
     "name": "stdout",
     "output_type": "stream",
     "text": [
      "[407/1000] ./test/pdf/910.pdf\n"
     ]
    },
    {
     "name": "stderr",
     "output_type": "stream",
     "text": [
      "[codecarbon INFO @ 13:27:18] Energy consumed for RAM : 0.000195 kWh. RAM Power : 0.08845853805541992 W\n",
      "[codecarbon DEBUG @ 13:27:18] RAM : 0.09 W during 14.97 s [measurement time: 0.0110]\n",
      "[codecarbon INFO @ 13:27:18] Energy consumed for all CPUs : 0.094180 kWh. Total CPU Power : 42.5 W\n",
      "[codecarbon DEBUG @ 13:27:18] CPU : 42.50 W during 14.99 s [measurement time: 0.0005]\n",
      "[codecarbon INFO @ 13:27:18] Energy consumed for all GPUs : 0.030487 kWh. Total GPU Power : 14.124091153067672 W\n",
      "[codecarbon DEBUG @ 13:27:18] GPU : 14.12 W during 14.99 s [measurement time: 0.0021]\n",
      "[codecarbon INFO @ 13:27:18] 0.124862 kWh of electricity used since the beginning.\n",
      "[codecarbon DEBUG @ 13:27:18] last_duration=14.968563552999512\n",
      "------------------------\n"
     ]
    },
    {
     "name": "stdout",
     "output_type": "stream",
     "text": [
      "[408/1000] ./test/pdf/911.pdf\n"
     ]
    },
    {
     "name": "stderr",
     "output_type": "stream",
     "text": [
      "[codecarbon INFO @ 13:27:33] Energy consumed for RAM : 0.000195 kWh. RAM Power : 0.08845853805541992 W\n",
      "[codecarbon DEBUG @ 13:27:33] RAM : 0.09 W during 14.98 s [measurement time: 0.0137]\n",
      "[codecarbon INFO @ 13:27:33] Energy consumed for all CPUs : 0.094357 kWh. Total CPU Power : 42.5 W\n",
      "[codecarbon DEBUG @ 13:27:33] CPU : 42.50 W during 15.00 s [measurement time: 0.0004]\n",
      "[codecarbon INFO @ 13:27:33] Energy consumed for all GPUs : 0.030542 kWh. Total GPU Power : 13.292767716480052 W\n",
      "[codecarbon DEBUG @ 13:27:33] GPU : 13.29 W during 15.00 s [measurement time: 0.0023]\n",
      "[codecarbon INFO @ 13:27:33] 0.125094 kWh of electricity used since the beginning.\n",
      "[codecarbon DEBUG @ 13:27:33] last_duration=14.975375418999647\n",
      "------------------------\n",
      "[codecarbon INFO @ 13:27:48] Energy consumed for RAM : 0.000196 kWh. RAM Power : 0.08845853805541992 W\n",
      "[codecarbon DEBUG @ 13:27:48] RAM : 0.09 W during 14.97 s [measurement time: 0.0158]\n",
      "[codecarbon INFO @ 13:27:48] Energy consumed for all CPUs : 0.094534 kWh. Total CPU Power : 42.5 W\n",
      "[codecarbon DEBUG @ 13:27:48] CPU : 42.50 W during 15.00 s [measurement time: 0.0006]\n",
      "[codecarbon INFO @ 13:27:48] Energy consumed for all GPUs : 0.030600 kWh. Total GPU Power : 13.919233375498958 W\n",
      "[codecarbon DEBUG @ 13:27:48] GPU : 13.92 W during 15.00 s [measurement time: 0.0026]\n",
      "[codecarbon INFO @ 13:27:48] 0.125330 kWh of electricity used since the beginning.\n",
      "[codecarbon DEBUG @ 13:27:48] last_duration=14.974385893000544\n",
      "------------------------\n"
     ]
    },
    {
     "name": "stdout",
     "output_type": "stream",
     "text": [
      "[409/1000] ./test/pdf/912.pdf\n"
     ]
    },
    {
     "name": "stderr",
     "output_type": "stream",
     "text": [
      "[codecarbon INFO @ 13:28:03] Energy consumed for RAM : 0.000196 kWh. RAM Power : 0.08845853805541992 W\n",
      "[codecarbon DEBUG @ 13:28:03] RAM : 0.09 W during 14.97 s [measurement time: 0.0128]\n",
      "[codecarbon INFO @ 13:28:03] Energy consumed for all CPUs : 0.094711 kWh. Total CPU Power : 42.5 W\n",
      "[codecarbon DEBUG @ 13:28:03] CPU : 42.50 W during 15.00 s [measurement time: 0.0007]\n",
      "[codecarbon INFO @ 13:28:03] Energy consumed for all GPUs : 0.030659 kWh. Total GPU Power : 14.248423527613 W\n",
      "[codecarbon DEBUG @ 13:28:03] GPU : 14.25 W during 15.00 s [measurement time: 0.0025]\n",
      "[codecarbon INFO @ 13:28:03] 0.125567 kWh of electricity used since the beginning.\n",
      "[codecarbon DEBUG @ 13:28:03] last_duration=14.970655803000227\n",
      "------------------------\n",
      "[codecarbon INFO @ 13:28:18] Energy consumed for RAM : 0.000196 kWh. RAM Power : 0.08845853805541992 W\n",
      "[codecarbon DEBUG @ 13:28:18] RAM : 0.09 W during 14.97 s [measurement time: 0.0095]\n",
      "[codecarbon INFO @ 13:28:18] Energy consumed for all CPUs : 0.094888 kWh. Total CPU Power : 42.5 W\n",
      "[codecarbon DEBUG @ 13:28:18] CPU : 42.50 W during 14.98 s [measurement time: 0.0005]\n",
      "[codecarbon INFO @ 13:28:18] Energy consumed for all GPUs : 0.030714 kWh. Total GPU Power : 13.171493371990733 W\n",
      "[codecarbon DEBUG @ 13:28:18] GPU : 13.17 W during 14.98 s [measurement time: 0.0069]\n",
      "[codecarbon INFO @ 13:28:18] 0.125799 kWh of electricity used since the beginning.\n",
      "[codecarbon DEBUG @ 13:28:18] We apply an energy mix of 174 g.CO2eq/kWh for Spain\n",
      "[codecarbon DEBUG @ 13:28:18] EmissionsData(timestamp='2025-04-13T13:28:18', project_name='codecarbon', run_id='868e486c-ef2f-47f1-8b33-54ddf9c190fd', experiment_id='5b0fa12a-3dd7-45bb-9766-cc326314d9f1', duration=8040.472392947, emissions=0.021895260762574063, emissions_rate=2.7231311411230396e-06, cpu_power=42.5, gpu_power=13.171493371990733, ram_power=0.08845853805541992, cpu_energy=0.09488815081373048, gpu_energy=0.030714218460244, ram_energy=0.00019631364802513476, energy_consumed=0.12579868292199978, country_name='Spain', country_iso_code='ESP', region=None, cloud_provider='', cloud_region='', os='Linux-6.8.0-57-generic-x86_64-with-glibc2.35', python_version='3.12.9', codecarbon_version='2.8.3', cpu_count=32, cpu_model='13th Gen Intel(R) Core(TM) i9-13900', gpu_count=1, gpu_model='1 x NVIDIA RTX 5000 Ada Generation', longitude=None, latitude=None, ram_total_size=62.50331497192383, tracking_mode='process', on_cloud='N', pue=1.0)\n",
      "[codecarbon INFO @ 13:28:18] 0.002724 g.CO2eq/s mean an estimation of 85.90593692401646 kg.CO2eq/year\n",
      "[codecarbon DEBUG @ 13:28:18] last_duration=14.968230348999896\n",
      "------------------------\n"
     ]
    },
    {
     "name": "stdout",
     "output_type": "stream",
     "text": [
      "[410/1000] ./test/pdf/913.pdf\n"
     ]
    },
    {
     "name": "stderr",
     "output_type": "stream",
     "text": [
      "[codecarbon INFO @ 13:28:33] Energy consumed for RAM : 0.000197 kWh. RAM Power : 0.08845853805541992 W\n",
      "[codecarbon DEBUG @ 13:28:33] RAM : 0.09 W during 14.98 s [measurement time: 0.0144]\n",
      "[codecarbon INFO @ 13:28:33] Energy consumed for all CPUs : 0.095065 kWh. Total CPU Power : 42.5 W\n",
      "[codecarbon DEBUG @ 13:28:33] CPU : 42.50 W during 15.01 s [measurement time: 0.0006]\n",
      "[codecarbon INFO @ 13:28:33] Energy consumed for all GPUs : 0.030771 kWh. Total GPU Power : 13.540763585528813 W\n",
      "[codecarbon DEBUG @ 13:28:33] GPU : 13.54 W during 15.01 s [measurement time: 0.0080]\n",
      "[codecarbon INFO @ 13:28:33] 0.126033 kWh of electricity used since the beginning.\n",
      "[codecarbon DEBUG @ 13:28:33] last_duration=14.978475347999847\n",
      "------------------------\n"
     ]
    },
    {
     "name": "stdout",
     "output_type": "stream",
     "text": [
      "[411/1000] ./test/pdf/914.pdf\n"
     ]
    },
    {
     "name": "stderr",
     "output_type": "stream",
     "text": [
      "[codecarbon INFO @ 13:28:48] Energy consumed for RAM : 0.000197 kWh. RAM Power : 0.08845853805541992 W\n",
      "[codecarbon DEBUG @ 13:28:48] RAM : 0.09 W during 14.96 s [measurement time: 0.0164]\n",
      "[codecarbon INFO @ 13:28:48] Energy consumed for all CPUs : 0.095242 kWh. Total CPU Power : 42.5 W\n",
      "[codecarbon DEBUG @ 13:28:48] CPU : 42.50 W during 14.99 s [measurement time: 0.0005]\n",
      "[codecarbon INFO @ 13:28:48] Energy consumed for all GPUs : 0.030828 kWh. Total GPU Power : 13.830640268651388 W\n",
      "[codecarbon DEBUG @ 13:28:48] GPU : 13.83 W during 14.99 s [measurement time: 0.0035]\n",
      "[codecarbon INFO @ 13:28:48] 0.126268 kWh of electricity used since the beginning.\n",
      "[codecarbon DEBUG @ 13:28:48] last_duration=14.96255527700032\n",
      "------------------------\n"
     ]
    },
    {
     "name": "stdout",
     "output_type": "stream",
     "text": [
      "[412/1000] ./test/pdf/915.pdf\n"
     ]
    },
    {
     "name": "stderr",
     "output_type": "stream",
     "text": [
      "[codecarbon INFO @ 13:29:03] Energy consumed for RAM : 0.000197 kWh. RAM Power : 0.08845853805541992 W\n",
      "[codecarbon DEBUG @ 13:29:03] RAM : 0.09 W during 14.97 s [measurement time: 0.0118]\n",
      "[codecarbon INFO @ 13:29:03] Energy consumed for all CPUs : 0.095419 kWh. Total CPU Power : 42.5 W\n",
      "[codecarbon DEBUG @ 13:29:03] CPU : 42.50 W during 15.00 s [measurement time: 0.0004]\n",
      "[codecarbon INFO @ 13:29:03] Energy consumed for all GPUs : 0.030886 kWh. Total GPU Power : 13.904453789553267 W\n",
      "[codecarbon DEBUG @ 13:29:03] GPU : 13.90 W during 15.00 s [measurement time: 0.0041]\n",
      "[codecarbon INFO @ 13:29:03] 0.126503 kWh of electricity used since the beginning.\n",
      "[codecarbon DEBUG @ 13:29:03] last_duration=14.969736240999737\n",
      "------------------------\n"
     ]
    },
    {
     "name": "stdout",
     "output_type": "stream",
     "text": [
      "[413/1000] ./test/pdf/916.pdf\n"
     ]
    },
    {
     "name": "stderr",
     "output_type": "stream",
     "text": [
      "[codecarbon INFO @ 13:29:18] Energy consumed for RAM : 0.000198 kWh. RAM Power : 0.08845853805541992 W\n",
      "[codecarbon DEBUG @ 13:29:18] RAM : 0.09 W during 14.97 s [measurement time: 0.0113]\n",
      "[codecarbon INFO @ 13:29:18] Energy consumed for all CPUs : 0.095596 kWh. Total CPU Power : 42.5 W\n",
      "[codecarbon DEBUG @ 13:29:18] CPU : 42.50 W during 14.99 s [measurement time: 0.0006]\n",
      "[codecarbon INFO @ 13:29:18] Energy consumed for all GPUs : 0.030945 kWh. Total GPU Power : 14.237627711956753 W\n",
      "[codecarbon DEBUG @ 13:29:18] GPU : 14.24 W during 14.99 s [measurement time: 0.0022]\n",
      "[codecarbon INFO @ 13:29:18] 0.126740 kWh of electricity used since the beginning.\n",
      "[codecarbon DEBUG @ 13:29:18] last_duration=14.969765633000861\n",
      "------------------------\n"
     ]
    },
    {
     "name": "stdout",
     "output_type": "stream",
     "text": [
      "[414/1000] ./test/pdf/917.pdf\n"
     ]
    },
    {
     "name": "stderr",
     "output_type": "stream",
     "text": [
      "[codecarbon INFO @ 13:29:33] Energy consumed for RAM : 0.000198 kWh. RAM Power : 0.08845853805541992 W\n",
      "[codecarbon DEBUG @ 13:29:33] RAM : 0.09 W during 14.98 s [measurement time: 0.0110]\n",
      "[codecarbon INFO @ 13:29:33] Energy consumed for all CPUs : 0.095773 kWh. Total CPU Power : 42.5 W\n",
      "[codecarbon DEBUG @ 13:29:33] CPU : 42.50 W during 15.00 s [measurement time: 0.0007]\n",
      "[codecarbon INFO @ 13:29:33] Energy consumed for all GPUs : 0.031002 kWh. Total GPU Power : 13.537788706251344 W\n",
      "[codecarbon DEBUG @ 13:29:33] GPU : 13.54 W during 15.00 s [measurement time: 0.0027]\n",
      "[codecarbon INFO @ 13:29:33] 0.126973 kWh of electricity used since the beginning.\n",
      "[codecarbon DEBUG @ 13:29:33] last_duration=14.975791553000818\n",
      "------------------------\n"
     ]
    },
    {
     "name": "stdout",
     "output_type": "stream",
     "text": [
      "[415/1000] ./test/pdf/918.pdf\n"
     ]
    },
    {
     "name": "stderr",
     "output_type": "stream",
     "text": [
      "[codecarbon INFO @ 13:29:48] Energy consumed for RAM : 0.000199 kWh. RAM Power : 0.08845853805541992 W\n",
      "[codecarbon DEBUG @ 13:29:48] RAM : 0.09 W during 14.98 s [measurement time: 0.0136]\n",
      "[codecarbon INFO @ 13:29:48] Energy consumed for all CPUs : 0.095950 kWh. Total CPU Power : 42.5 W\n",
      "[codecarbon DEBUG @ 13:29:48] CPU : 42.50 W during 15.00 s [measurement time: 0.0005]\n",
      "[codecarbon INFO @ 13:29:48] Energy consumed for all GPUs : 0.031058 kWh. Total GPU Power : 13.362424562888647 W\n",
      "[codecarbon DEBUG @ 13:29:48] GPU : 13.36 W during 15.00 s [measurement time: 0.0076]\n",
      "[codecarbon INFO @ 13:29:48] 0.127206 kWh of electricity used since the beginning.\n",
      "[codecarbon DEBUG @ 13:29:48] last_duration=14.97660151799937\n",
      "------------------------\n"
     ]
    },
    {
     "name": "stdout",
     "output_type": "stream",
     "text": [
      "[416/1000] ./test/pdf/919.pdf\n"
     ]
    },
    {
     "name": "stderr",
     "output_type": "stream",
     "text": [
      "[codecarbon INFO @ 13:30:03] Energy consumed for RAM : 0.000199 kWh. RAM Power : 0.08845853805541992 W\n",
      "[codecarbon DEBUG @ 13:30:03] RAM : 0.09 W during 14.97 s [measurement time: 0.0095]\n",
      "[codecarbon INFO @ 13:30:03] Energy consumed for all CPUs : 0.096127 kWh. Total CPU Power : 42.5 W\n",
      "[codecarbon DEBUG @ 13:30:03] CPU : 42.50 W during 14.99 s [measurement time: 0.0005]\n",
      "[codecarbon INFO @ 13:30:03] Energy consumed for all GPUs : 0.031117 kWh. Total GPU Power : 14.317581333184215 W\n",
      "[codecarbon DEBUG @ 13:30:03] GPU : 14.32 W during 14.99 s [measurement time: 0.0031]\n",
      "[codecarbon INFO @ 13:30:03] 0.127443 kWh of electricity used since the beginning.\n",
      "[codecarbon DEBUG @ 13:30:03] last_duration=14.969423684999128\n",
      "------------------------\n"
     ]
    },
    {
     "name": "stdout",
     "output_type": "stream",
     "text": [
      "[417/1000] ./test/pdf/92.pdf\n"
     ]
    },
    {
     "name": "stderr",
     "output_type": "stream",
     "text": [
      "[codecarbon INFO @ 13:30:18] Energy consumed for RAM : 0.000199 kWh. RAM Power : 0.08845853805541992 W\n",
      "[codecarbon DEBUG @ 13:30:18] RAM : 0.09 W during 14.98 s [measurement time: 0.0158]\n",
      "[codecarbon INFO @ 13:30:18] Energy consumed for all CPUs : 0.096304 kWh. Total CPU Power : 42.5 W\n",
      "[codecarbon DEBUG @ 13:30:18] CPU : 42.50 W during 15.00 s [measurement time: 0.0004]\n",
      "[codecarbon INFO @ 13:30:18] Energy consumed for all GPUs : 0.031176 kWh. Total GPU Power : 14.001804653249426 W\n",
      "[codecarbon DEBUG @ 13:30:18] GPU : 14.00 W during 15.01 s [measurement time: 0.0034]\n",
      "[codecarbon INFO @ 13:30:18] 0.127679 kWh of electricity used since the beginning.\n",
      "[codecarbon DEBUG @ 13:30:18] We apply an energy mix of 174 g.CO2eq/kWh for Spain\n",
      "[codecarbon DEBUG @ 13:30:18] EmissionsData(timestamp='2025-04-13T13:30:18', project_name='codecarbon', run_id='868e486c-ef2f-47f1-8b33-54ddf9c190fd', experiment_id='5b0fa12a-3dd7-45bb-9766-cc326314d9f1', duration=8160.489091256001, emissions=0.022222561876849744, emissions_rate=2.7231899495658065e-06, cpu_power=42.5, gpu_power=14.001804653249426, ram_power=0.08845853805541992, cpu_energy=0.09630442134336313, gpu_energy=0.031175505218161998, ram_energy=0.0001992568734056891, energy_consumed=0.127679183434931, country_name='Spain', country_iso_code='ESP', region=None, cloud_provider='', cloud_region='', os='Linux-6.8.0-57-generic-x86_64-with-glibc2.35', python_version='3.12.9', codecarbon_version='2.8.3', cpu_count=32, cpu_model='13th Gen Intel(R) Core(TM) i9-13900', gpu_count=1, gpu_model='1 x NVIDIA RTX 5000 Ada Generation', longitude=None, latitude=None, ram_total_size=62.50331497192383, tracking_mode='process', on_cloud='N', pue=1.0)\n",
      "[codecarbon INFO @ 13:30:18] 0.002727 g.CO2eq/s mean an estimation of 86.00276532539603 kg.CO2eq/year\n",
      "[codecarbon DEBUG @ 13:30:18] last_duration=14.978108736999275\n",
      "------------------------\n"
     ]
    },
    {
     "name": "stdout",
     "output_type": "stream",
     "text": [
      "[418/1000] ./test/pdf/920.pdf\n"
     ]
    },
    {
     "name": "stderr",
     "output_type": "stream",
     "text": [
      "[codecarbon INFO @ 13:30:33] Energy consumed for RAM : 0.000200 kWh. RAM Power : 0.08845853805541992 W\n",
      "[codecarbon DEBUG @ 13:30:33] RAM : 0.09 W during 14.97 s [measurement time: 0.0161]\n",
      "[codecarbon INFO @ 13:30:33] Energy consumed for all CPUs : 0.096481 kWh. Total CPU Power : 42.5 W\n",
      "[codecarbon DEBUG @ 13:30:33] CPU : 42.50 W during 15.00 s [measurement time: 0.0009]\n",
      "[codecarbon INFO @ 13:30:33] Energy consumed for all GPUs : 0.031238 kWh. Total GPU Power : 14.898811234636225 W\n",
      "[codecarbon DEBUG @ 13:30:33] GPU : 14.90 W during 15.00 s [measurement time: 0.0054]\n",
      "[codecarbon INFO @ 13:30:33] 0.127919 kWh of electricity used since the beginning.\n",
      "[codecarbon DEBUG @ 13:30:33] last_duration=14.968402971000614\n",
      "------------------------\n"
     ]
    },
    {
     "name": "stdout",
     "output_type": "stream",
     "text": [
      "[419/1000] ./test/pdf/921.pdf\n"
     ]
    },
    {
     "name": "stderr",
     "output_type": "stream",
     "text": [
      "[codecarbon INFO @ 13:30:48] Energy consumed for RAM : 0.000200 kWh. RAM Power : 0.08845853805541992 W\n",
      "[codecarbon DEBUG @ 13:30:48] RAM : 0.09 W during 14.96 s [measurement time: 0.0119]\n",
      "[codecarbon INFO @ 13:30:48] Energy consumed for all CPUs : 0.096658 kWh. Total CPU Power : 42.5 W\n",
      "[codecarbon DEBUG @ 13:30:48] CPU : 42.50 W during 14.98 s [measurement time: 0.0003]\n",
      "[codecarbon INFO @ 13:30:48] Energy consumed for all GPUs : 0.031291 kWh. Total GPU Power : 12.750393873883954 W\n",
      "[codecarbon DEBUG @ 13:30:48] GPU : 12.75 W during 14.98 s [measurement time: 0.0074]\n",
      "[codecarbon INFO @ 13:30:48] 0.128149 kWh of electricity used since the beginning.\n",
      "[codecarbon DEBUG @ 13:30:48] last_duration=14.964127613000528\n",
      "------------------------\n"
     ]
    },
    {
     "name": "stdout",
     "output_type": "stream",
     "text": [
      "[420/1000] ./test/pdf/922.pdf\n"
     ]
    },
    {
     "name": "stderr",
     "output_type": "stream",
     "text": [
      "[codecarbon INFO @ 13:31:03] Energy consumed for RAM : 0.000200 kWh. RAM Power : 0.08845853805541992 W\n",
      "[codecarbon DEBUG @ 13:31:03] RAM : 0.09 W during 14.98 s [measurement time: 0.0145]\n",
      "[codecarbon INFO @ 13:31:03] Energy consumed for all CPUs : 0.096835 kWh. Total CPU Power : 42.5 W\n",
      "[codecarbon DEBUG @ 13:31:03] CPU : 42.50 W during 15.00 s [measurement time: 0.0006]\n",
      "[codecarbon INFO @ 13:31:03] Energy consumed for all GPUs : 0.031347 kWh. Total GPU Power : 13.424543168720438 W\n",
      "[codecarbon DEBUG @ 13:31:03] GPU : 13.42 W during 15.00 s [measurement time: 0.0022]\n",
      "[codecarbon INFO @ 13:31:03] 0.128382 kWh of electricity used since the beginning.\n",
      "[codecarbon DEBUG @ 13:31:03] last_duration=14.975794938000035\n",
      "------------------------\n"
     ]
    },
    {
     "name": "stdout",
     "output_type": "stream",
     "text": [
      "[421/1000] ./test/pdf/923.pdf\n",
      "[422/1000] ./test/pdf/924.pdf\n"
     ]
    },
    {
     "name": "stderr",
     "output_type": "stream",
     "text": [
      "[codecarbon INFO @ 13:31:18] Energy consumed for RAM : 0.000201 kWh. RAM Power : 0.08845853805541992 W\n",
      "[codecarbon DEBUG @ 13:31:18] RAM : 0.09 W during 14.97 s [measurement time: 0.0146]\n",
      "[codecarbon INFO @ 13:31:18] Energy consumed for all CPUs : 0.097012 kWh. Total CPU Power : 42.5 W\n",
      "[codecarbon DEBUG @ 13:31:18] CPU : 42.50 W during 15.00 s [measurement time: 0.0006]\n",
      "[codecarbon INFO @ 13:31:18] Energy consumed for all GPUs : 0.031402 kWh. Total GPU Power : 13.206038825056641 W\n",
      "[codecarbon DEBUG @ 13:31:18] GPU : 13.21 W during 15.00 s [measurement time: 0.0072]\n",
      "[codecarbon INFO @ 13:31:18] 0.128615 kWh of electricity used since the beginning.\n",
      "[codecarbon DEBUG @ 13:31:18] last_duration=14.971188192001136\n",
      "------------------------\n"
     ]
    },
    {
     "name": "stdout",
     "output_type": "stream",
     "text": [
      "[423/1000] ./test/pdf/925.pdf\n"
     ]
    },
    {
     "name": "stderr",
     "output_type": "stream",
     "text": [
      "[codecarbon INFO @ 13:31:33] Energy consumed for RAM : 0.000201 kWh. RAM Power : 0.08845853805541992 W\n",
      "[codecarbon DEBUG @ 13:31:33] RAM : 0.09 W during 14.97 s [measurement time: 0.0155]\n",
      "[codecarbon INFO @ 13:31:33] Energy consumed for all CPUs : 0.097190 kWh. Total CPU Power : 42.5 W\n",
      "[codecarbon DEBUG @ 13:31:33] CPU : 42.50 W during 15.00 s [measurement time: 0.0010]\n",
      "[codecarbon INFO @ 13:31:33] Energy consumed for all GPUs : 0.031457 kWh. Total GPU Power : 13.27498177312526 W\n",
      "[codecarbon DEBUG @ 13:31:33] GPU : 13.27 W during 15.00 s [measurement time: 0.0042]\n",
      "[codecarbon INFO @ 13:31:33] 0.128848 kWh of electricity used since the beginning.\n",
      "[codecarbon DEBUG @ 13:31:33] last_duration=14.967517421999219\n",
      "------------------------\n"
     ]
    },
    {
     "name": "stdout",
     "output_type": "stream",
     "text": [
      "[424/1000] ./test/pdf/926.pdf\n"
     ]
    },
    {
     "name": "stderr",
     "output_type": "stream",
     "text": [
      "[codecarbon INFO @ 13:31:48] Energy consumed for RAM : 0.000201 kWh. RAM Power : 0.08845853805541992 W\n",
      "[codecarbon DEBUG @ 13:31:48] RAM : 0.09 W during 14.96 s [measurement time: 0.0147]\n",
      "[codecarbon INFO @ 13:31:48] Energy consumed for all CPUs : 0.097366 kWh. Total CPU Power : 42.5 W\n",
      "[codecarbon DEBUG @ 13:31:48] CPU : 42.50 W during 14.98 s [measurement time: 0.0003]\n",
      "[codecarbon INFO @ 13:31:48] Energy consumed for all GPUs : 0.031511 kWh. Total GPU Power : 13.116041919174481 W\n",
      "[codecarbon DEBUG @ 13:31:48] GPU : 13.12 W during 14.98 s [measurement time: 0.0040]\n",
      "[codecarbon INFO @ 13:31:48] 0.129079 kWh of electricity used since the beginning.\n",
      "[codecarbon DEBUG @ 13:31:48] last_duration=14.963171489998786\n",
      "------------------------\n"
     ]
    },
    {
     "name": "stdout",
     "output_type": "stream",
     "text": [
      "[425/1000] ./test/pdf/927.pdf\n"
     ]
    },
    {
     "name": "stderr",
     "output_type": "stream",
     "text": [
      "[codecarbon INFO @ 13:32:03] Energy consumed for RAM : 0.000202 kWh. RAM Power : 0.08845853805541992 W\n",
      "[codecarbon DEBUG @ 13:32:03] RAM : 0.09 W during 14.98 s [measurement time: 0.0133]\n",
      "[codecarbon INFO @ 13:32:03] Energy consumed for all CPUs : 0.097544 kWh. Total CPU Power : 42.5 W\n",
      "[codecarbon DEBUG @ 13:32:03] CPU : 42.50 W during 15.00 s [measurement time: 0.0007]\n",
      "[codecarbon INFO @ 13:32:03] Energy consumed for all GPUs : 0.031571 kWh. Total GPU Power : 14.17169965366161 W\n",
      "[codecarbon DEBUG @ 13:32:03] GPU : 14.17 W during 15.00 s [measurement time: 0.0021]\n",
      "[codecarbon INFO @ 13:32:03] 0.129316 kWh of electricity used since the beginning.\n",
      "[codecarbon DEBUG @ 13:32:03] last_duration=14.976189211998644\n",
      "------------------------\n"
     ]
    },
    {
     "name": "stdout",
     "output_type": "stream",
     "text": [
      "[426/1000] ./test/pdf/928.pdf\n"
     ]
    },
    {
     "name": "stderr",
     "output_type": "stream",
     "text": [
      "[codecarbon INFO @ 13:32:18] Energy consumed for RAM : 0.000202 kWh. RAM Power : 0.08845853805541992 W\n",
      "[codecarbon DEBUG @ 13:32:18] RAM : 0.09 W during 14.97 s [measurement time: 0.0148]\n",
      "[codecarbon INFO @ 13:32:18] Energy consumed for all CPUs : 0.097721 kWh. Total CPU Power : 42.5 W\n",
      "[codecarbon DEBUG @ 13:32:18] CPU : 42.50 W during 15.00 s [measurement time: 0.0004]\n",
      "[codecarbon INFO @ 13:32:18] Energy consumed for all GPUs : 0.031626 kWh. Total GPU Power : 13.36716278272761 W\n",
      "[codecarbon DEBUG @ 13:32:18] GPU : 13.37 W during 15.00 s [measurement time: 0.0027]\n",
      "[codecarbon INFO @ 13:32:18] 0.129549 kWh of electricity used since the beginning.\n",
      "[codecarbon DEBUG @ 13:32:18] We apply an energy mix of 174 g.CO2eq/kWh for Spain\n",
      "[codecarbon DEBUG @ 13:32:18] EmissionsData(timestamp='2025-04-13T13:32:18', project_name='codecarbon', run_id='868e486c-ef2f-47f1-8b33-54ddf9c190fd', experiment_id='5b0fa12a-3dd7-45bb-9766-cc326314d9f1', duration=8280.495601503999, emissions=0.02254800960463196, emissions_rate=2.7230265783290233e-06, cpu_power=42.5, gpu_power=13.36716278272761, ram_power=0.08845853805541992, cpu_energy=0.09772057886921451, gpu_energy=0.031626256967652006, ram_energy=0.0002021995244200414, energy_consumed=0.12954903536128676, country_name='Spain', country_iso_code='ESP', region=None, cloud_provider='', cloud_region='', os='Linux-6.8.0-57-generic-x86_64-with-glibc2.35', python_version='3.12.9', codecarbon_version='2.8.3', cpu_count=32, cpu_model='13th Gen Intel(R) Core(TM) i9-13900', gpu_count=1, gpu_model='1 x NVIDIA RTX 5000 Ada Generation', longitude=None, latitude=None, ram_total_size=62.50331497192383, tracking_mode='process', on_cloud='N', pue=1.0)\n",
      "[codecarbon INFO @ 13:32:18] 0.002712 g.CO2eq/s mean an estimation of 85.5230230604195 kg.CO2eq/year\n",
      "[codecarbon DEBUG @ 13:32:18] last_duration=14.970688679999512\n",
      "------------------------\n"
     ]
    },
    {
     "name": "stdout",
     "output_type": "stream",
     "text": [
      "[427/1000] ./test/pdf/929.pdf\n"
     ]
    },
    {
     "name": "stderr",
     "output_type": "stream",
     "text": [
      "[codecarbon INFO @ 13:32:33] Energy consumed for RAM : 0.000203 kWh. RAM Power : 0.08845853805541992 W\n",
      "[codecarbon DEBUG @ 13:32:33] RAM : 0.09 W during 14.97 s [measurement time: 0.0135]\n",
      "[codecarbon INFO @ 13:32:33] Energy consumed for all CPUs : 0.097898 kWh. Total CPU Power : 42.5 W\n",
      "[codecarbon DEBUG @ 13:32:33] CPU : 42.50 W during 14.99 s [measurement time: 0.0004]\n",
      "[codecarbon INFO @ 13:32:33] Energy consumed for all GPUs : 0.031684 kWh. Total GPU Power : 13.826920418003139 W\n",
      "[codecarbon DEBUG @ 13:32:33] GPU : 13.83 W during 14.99 s [measurement time: 0.0020]\n",
      "[codecarbon INFO @ 13:32:33] 0.129784 kWh of electricity used since the beginning.\n",
      "[codecarbon DEBUG @ 13:32:33] last_duration=14.968749645000571\n",
      "------------------------\n"
     ]
    },
    {
     "name": "stdout",
     "output_type": "stream",
     "text": [
      "[428/1000] ./test/pdf/93.pdf\n"
     ]
    },
    {
     "name": "stderr",
     "output_type": "stream",
     "text": [
      "[codecarbon INFO @ 13:32:48] Energy consumed for RAM : 0.000203 kWh. RAM Power : 0.08845853805541992 W\n",
      "[codecarbon DEBUG @ 13:32:48] RAM : 0.09 W during 14.97 s [measurement time: 0.0119]\n",
      "[codecarbon INFO @ 13:32:48] Energy consumed for all CPUs : 0.098075 kWh. Total CPU Power : 42.5 W\n",
      "[codecarbon DEBUG @ 13:32:48] CPU : 42.50 W during 15.00 s [measurement time: 0.0009]\n",
      "[codecarbon INFO @ 13:32:48] Energy consumed for all GPUs : 0.031743 kWh. Total GPU Power : 14.096506627245992 W\n",
      "[codecarbon DEBUG @ 13:32:48] GPU : 14.10 W during 15.00 s [measurement time: 0.0027]\n",
      "[codecarbon INFO @ 13:32:48] 0.130020 kWh of electricity used since the beginning.\n",
      "[codecarbon DEBUG @ 13:32:48] last_duration=14.973246284000197\n",
      "------------------------\n"
     ]
    },
    {
     "name": "stdout",
     "output_type": "stream",
     "text": [
      "[429/1000] ./test/pdf/930.pdf\n"
     ]
    },
    {
     "name": "stderr",
     "output_type": "stream",
     "text": [
      "[codecarbon INFO @ 13:33:03] Energy consumed for RAM : 0.000203 kWh. RAM Power : 0.08845853805541992 W\n",
      "[codecarbon DEBUG @ 13:33:03] RAM : 0.09 W during 14.97 s [measurement time: 0.0112]\n",
      "[codecarbon INFO @ 13:33:03] Energy consumed for all CPUs : 0.098252 kWh. Total CPU Power : 42.5 W\n",
      "[codecarbon DEBUG @ 13:33:03] CPU : 42.50 W during 14.99 s [measurement time: 0.0002]\n",
      "[codecarbon INFO @ 13:33:03] Energy consumed for all GPUs : 0.031802 kWh. Total GPU Power : 14.312460177429445 W\n",
      "[codecarbon DEBUG @ 13:33:03] GPU : 14.31 W during 14.99 s [measurement time: 0.0051]\n",
      "[codecarbon INFO @ 13:33:03] 0.130257 kWh of electricity used since the beginning.\n",
      "[codecarbon DEBUG @ 13:33:03] last_duration=14.966778899999554\n",
      "------------------------\n",
      "[codecarbon INFO @ 13:33:18] Energy consumed for RAM : 0.000204 kWh. RAM Power : 0.08845853805541992 W\n",
      "[codecarbon DEBUG @ 13:33:18] RAM : 0.09 W during 14.98 s [measurement time: 0.0175]\n",
      "[codecarbon INFO @ 13:33:18] Energy consumed for all CPUs : 0.098429 kWh. Total CPU Power : 42.5 W\n",
      "[codecarbon DEBUG @ 13:33:18] CPU : 42.50 W during 15.01 s [measurement time: 0.0008]\n",
      "[codecarbon INFO @ 13:33:18] Energy consumed for all GPUs : 0.031858 kWh. Total GPU Power : 13.275038580902303 W\n",
      "[codecarbon DEBUG @ 13:33:18] GPU : 13.28 W during 15.01 s [measurement time: 0.0023]\n",
      "[codecarbon INFO @ 13:33:18] 0.130490 kWh of electricity used since the beginning.\n",
      "[codecarbon DEBUG @ 13:33:18] last_duration=14.975738470999204\n",
      "------------------------\n"
     ]
    },
    {
     "name": "stdout",
     "output_type": "stream",
     "text": [
      "[430/1000] ./test/pdf/931.pdf\n"
     ]
    },
    {
     "name": "stderr",
     "output_type": "stream",
     "text": [
      "[codecarbon INFO @ 13:33:33] Energy consumed for RAM : 0.000204 kWh. RAM Power : 0.08845853805541992 W\n",
      "[codecarbon DEBUG @ 13:33:33] RAM : 0.09 W during 14.96 s [measurement time: 0.0151]\n",
      "[codecarbon INFO @ 13:33:33] Energy consumed for all CPUs : 0.098606 kWh. Total CPU Power : 42.5 W\n",
      "[codecarbon DEBUG @ 13:33:33] CPU : 42.50 W during 14.99 s [measurement time: 0.0005]\n",
      "[codecarbon INFO @ 13:33:33] Energy consumed for all GPUs : 0.031910 kWh. Total GPU Power : 12.53991666742429 W\n",
      "[codecarbon DEBUG @ 13:33:33] GPU : 12.54 W during 14.99 s [measurement time: 0.0029]\n",
      "[codecarbon INFO @ 13:33:33] 0.130720 kWh of electricity used since the beginning.\n",
      "[codecarbon DEBUG @ 13:33:33] last_duration=14.962701648999428\n",
      "------------------------\n"
     ]
    },
    {
     "name": "stdout",
     "output_type": "stream",
     "text": [
      "[431/1000] ./test/pdf/932.pdf\n"
     ]
    },
    {
     "name": "stderr",
     "output_type": "stream",
     "text": [
      "[codecarbon INFO @ 13:33:48] Energy consumed for RAM : 0.000204 kWh. RAM Power : 0.08845853805541992 W\n",
      "[codecarbon DEBUG @ 13:33:48] RAM : 0.09 W during 14.97 s [measurement time: 0.0139]\n",
      "[codecarbon INFO @ 13:33:48] Energy consumed for all CPUs : 0.098783 kWh. Total CPU Power : 42.5 W\n",
      "[codecarbon DEBUG @ 13:33:48] CPU : 42.50 W during 14.99 s [measurement time: 0.0006]\n",
      "[codecarbon INFO @ 13:33:48] Energy consumed for all GPUs : 0.031964 kWh. Total GPU Power : 13.125822183551625 W\n",
      "[codecarbon DEBUG @ 13:33:48] GPU : 13.13 W during 14.99 s [measurement time: 0.0022]\n",
      "[codecarbon INFO @ 13:33:48] 0.130952 kWh of electricity used since the beginning.\n",
      "[codecarbon DEBUG @ 13:33:48] last_duration=14.969699396000578\n",
      "------------------------\n"
     ]
    },
    {
     "name": "stdout",
     "output_type": "stream",
     "text": [
      "[432/1000] ./test/pdf/933.pdf\n"
     ]
    },
    {
     "name": "stderr",
     "output_type": "stream",
     "text": [
      "[codecarbon INFO @ 13:34:03] Energy consumed for RAM : 0.000205 kWh. RAM Power : 0.08845853805541992 W\n",
      "[codecarbon DEBUG @ 13:34:03] RAM : 0.09 W during 14.98 s [measurement time: 0.0064]\n",
      "[codecarbon INFO @ 13:34:03] Energy consumed for all CPUs : 0.098960 kWh. Total CPU Power : 42.5 W\n",
      "[codecarbon DEBUG @ 13:34:03] CPU : 42.50 W during 14.99 s [measurement time: 0.0004]\n",
      "[codecarbon INFO @ 13:34:03] Energy consumed for all GPUs : 0.032021 kWh. Total GPU Power : 13.602639790607046 W\n",
      "[codecarbon DEBUG @ 13:34:03] GPU : 13.60 W during 14.99 s [measurement time: 0.0020]\n",
      "[codecarbon INFO @ 13:34:03] 0.131185 kWh of electricity used since the beginning.\n",
      "[codecarbon DEBUG @ 13:34:03] last_duration=14.975583650999397\n",
      "------------------------\n"
     ]
    },
    {
     "name": "stdout",
     "output_type": "stream",
     "text": [
      "[433/1000] ./test/pdf/934.pdf\n"
     ]
    },
    {
     "name": "stderr",
     "output_type": "stream",
     "text": [
      "[codecarbon INFO @ 13:34:18] Energy consumed for RAM : 0.000205 kWh. RAM Power : 0.08845853805541992 W\n",
      "[codecarbon DEBUG @ 13:34:18] RAM : 0.09 W during 14.99 s [measurement time: 0.0122]\n",
      "[codecarbon INFO @ 13:34:18] Energy consumed for all CPUs : 0.099137 kWh. Total CPU Power : 42.5 W\n",
      "[codecarbon DEBUG @ 13:34:18] CPU : 42.50 W during 15.01 s [measurement time: 0.0005]\n",
      "[codecarbon INFO @ 13:34:18] Energy consumed for all GPUs : 0.032082 kWh. Total GPU Power : 14.538770426025104 W\n",
      "[codecarbon DEBUG @ 13:34:18] GPU : 14.54 W during 15.01 s [measurement time: 0.0027]\n",
      "[codecarbon INFO @ 13:34:18] 0.131424 kWh of electricity used since the beginning.\n",
      "[codecarbon DEBUG @ 13:34:18] We apply an energy mix of 174 g.CO2eq/kWh for Spain\n",
      "[codecarbon DEBUG @ 13:34:18] EmissionsData(timestamp='2025-04-13T13:34:18', project_name='codecarbon', run_id='868e486c-ef2f-47f1-8b33-54ddf9c190fd', experiment_id='5b0fa12a-3dd7-45bb-9766-cc326314d9f1', duration=8400.49619219, emissions=0.022874276720601466, emissions_rate=2.7229673339853238e-06, cpu_power=42.5, gpu_power=14.538770426025104, ram_power=0.08845853805541992, cpu_energy=0.09913680919962009, gpu_energy=0.032081643165294, ram_energy=0.00020514269743252694, energy_consumed=0.13142359506234683, country_name='Spain', country_iso_code='ESP', region=None, cloud_provider='', cloud_region='', os='Linux-6.8.0-57-generic-x86_64-with-glibc2.35', python_version='3.12.9', codecarbon_version='2.8.3', cpu_count=32, cpu_model='13th Gen Intel(R) Core(TM) i9-13900', gpu_count=1, gpu_model='1 x NVIDIA RTX 5000 Ada Generation', longitude=None, latitude=None, ram_total_size=62.50331497192383, tracking_mode='process', on_cloud='N', pue=1.0)\n",
      "[codecarbon INFO @ 13:34:18] 0.002719 g.CO2eq/s mean an estimation of 85.74257601895873 kg.CO2eq/year\n",
      "[codecarbon DEBUG @ 13:34:18] last_duration=14.985828624001442\n",
      "------------------------\n",
      "[codecarbon INFO @ 13:34:33] Energy consumed for RAM : 0.000206 kWh. RAM Power : 0.08845853805541992 W\n",
      "[codecarbon DEBUG @ 13:34:33] RAM : 0.09 W during 14.97 s [measurement time: 0.0149]\n",
      "[codecarbon INFO @ 13:34:33] Energy consumed for all CPUs : 0.099314 kWh. Total CPU Power : 42.5 W\n",
      "[codecarbon DEBUG @ 13:34:33] CPU : 42.50 W during 15.00 s [measurement time: 0.0004]\n",
      "[codecarbon INFO @ 13:34:33] Energy consumed for all GPUs : 0.032141 kWh. Total GPU Power : 14.176318088013542 W\n",
      "[codecarbon DEBUG @ 13:34:33] GPU : 14.18 W during 15.00 s [measurement time: 0.0026]\n",
      "[codecarbon INFO @ 13:34:33] 0.131660 kWh of electricity used since the beginning.\n",
      "[codecarbon DEBUG @ 13:34:33] last_duration=14.974499382000431\n",
      "------------------------\n"
     ]
    },
    {
     "name": "stdout",
     "output_type": "stream",
     "text": [
      "[434/1000] ./test/pdf/935.pdf\n",
      "[435/1000] ./test/pdf/936.pdf\n"
     ]
    },
    {
     "name": "stderr",
     "output_type": "stream",
     "text": [
      "[codecarbon INFO @ 13:34:48] Energy consumed for RAM : 0.000206 kWh. RAM Power : 0.08855009078979492 W\n",
      "[codecarbon DEBUG @ 13:34:48] RAM : 0.09 W during 14.97 s [measurement time: 0.0142]\n",
      "[codecarbon INFO @ 13:34:48] Energy consumed for all CPUs : 0.099491 kWh. Total CPU Power : 42.5 W\n",
      "[codecarbon DEBUG @ 13:34:48] CPU : 42.50 W during 15.00 s [measurement time: 0.0006]\n",
      "[codecarbon INFO @ 13:34:48] Energy consumed for all GPUs : 0.032196 kWh. Total GPU Power : 13.260904082096063 W\n",
      "[codecarbon DEBUG @ 13:34:48] GPU : 13.26 W during 15.00 s [measurement time: 0.0060]\n",
      "[codecarbon INFO @ 13:34:48] 0.131893 kWh of electricity used since the beginning.\n",
      "[codecarbon DEBUG @ 13:34:48] last_duration=14.970714020000742\n",
      "------------------------\n"
     ]
    },
    {
     "name": "stdout",
     "output_type": "stream",
     "text": [
      "[436/1000] ./test/pdf/937.pdf\n"
     ]
    },
    {
     "name": "stderr",
     "output_type": "stream",
     "text": [
      "[codecarbon INFO @ 13:35:03] Energy consumed for RAM : 0.000206 kWh. RAM Power : 0.08855009078979492 W\n",
      "[codecarbon DEBUG @ 13:35:03] RAM : 0.09 W during 14.97 s [measurement time: 0.0101]\n",
      "[codecarbon INFO @ 13:35:03] Energy consumed for all CPUs : 0.099668 kWh. Total CPU Power : 42.5 W\n",
      "[codecarbon DEBUG @ 13:35:03] CPU : 42.50 W during 14.99 s [measurement time: 0.0005]\n",
      "[codecarbon INFO @ 13:35:03] Energy consumed for all GPUs : 0.032255 kWh. Total GPU Power : 14.170214567212184 W\n",
      "[codecarbon DEBUG @ 13:35:03] GPU : 14.17 W during 14.99 s [measurement time: 0.0063]\n",
      "[codecarbon INFO @ 13:35:03] 0.132129 kWh of electricity used since the beginning.\n",
      "[codecarbon DEBUG @ 13:35:03] last_duration=14.968835609000962\n",
      "------------------------\n"
     ]
    },
    {
     "name": "stdout",
     "output_type": "stream",
     "text": [
      "[437/1000] ./test/pdf/938.pdf\n"
     ]
    },
    {
     "name": "stderr",
     "output_type": "stream",
     "text": [
      "[codecarbon INFO @ 13:35:18] Energy consumed for RAM : 0.000207 kWh. RAM Power : 0.08855009078979492 W\n",
      "[codecarbon DEBUG @ 13:35:18] RAM : 0.09 W during 14.97 s [measurement time: 0.0104]\n",
      "[codecarbon INFO @ 13:35:18] Energy consumed for all CPUs : 0.099845 kWh. Total CPU Power : 42.5 W\n",
      "[codecarbon DEBUG @ 13:35:18] CPU : 42.50 W during 15.00 s [measurement time: 0.0009]\n",
      "[codecarbon INFO @ 13:35:18] Energy consumed for all GPUs : 0.032312 kWh. Total GPU Power : 13.671381077191283 W\n",
      "[codecarbon DEBUG @ 13:35:18] GPU : 13.67 W during 15.00 s [measurement time: 0.0031]\n",
      "[codecarbon INFO @ 13:35:18] 0.132363 kWh of electricity used since the beginning.\n",
      "[codecarbon DEBUG @ 13:35:18] last_duration=14.974150334001024\n",
      "------------------------\n",
      "[codecarbon INFO @ 13:35:33] Energy consumed for RAM : 0.000207 kWh. RAM Power : 0.08855009078979492 W\n",
      "[codecarbon DEBUG @ 13:35:33] RAM : 0.09 W during 14.97 s [measurement time: 0.0138]\n",
      "[codecarbon INFO @ 13:35:33] Energy consumed for all CPUs : 0.100022 kWh. Total CPU Power : 42.5 W\n",
      "[codecarbon DEBUG @ 13:35:33] CPU : 42.50 W during 15.00 s [measurement time: 0.0003]\n",
      "[codecarbon INFO @ 13:35:33] Energy consumed for all GPUs : 0.032368 kWh. Total GPU Power : 13.494786818568135 W\n",
      "[codecarbon DEBUG @ 13:35:33] GPU : 13.49 W during 15.00 s [measurement time: 0.0019]\n",
      "[codecarbon INFO @ 13:35:33] 0.132597 kWh of electricity used since the beginning.\n",
      "[codecarbon DEBUG @ 13:35:33] last_duration=14.971169119000479\n",
      "------------------------\n"
     ]
    },
    {
     "name": "stdout",
     "output_type": "stream",
     "text": [
      "[438/1000] ./test/pdf/939.pdf\n"
     ]
    },
    {
     "name": "stderr",
     "output_type": "stream",
     "text": [
      "[codecarbon INFO @ 13:35:48] Energy consumed for RAM : 0.000207 kWh. RAM Power : 0.08855009078979492 W\n",
      "[codecarbon DEBUG @ 13:35:48] RAM : 0.09 W during 14.97 s [measurement time: 0.0174]\n",
      "[codecarbon INFO @ 13:35:48] Energy consumed for all CPUs : 0.100199 kWh. Total CPU Power : 42.5 W\n",
      "[codecarbon DEBUG @ 13:35:48] CPU : 42.50 W during 15.00 s [measurement time: 0.0009]\n",
      "[codecarbon INFO @ 13:35:48] Energy consumed for all GPUs : 0.032422 kWh. Total GPU Power : 12.957379451961774 W\n",
      "[codecarbon DEBUG @ 13:35:48] GPU : 12.96 W during 15.00 s [measurement time: 0.0032]\n",
      "[codecarbon INFO @ 13:35:48] 0.132829 kWh of electricity used since the beginning.\n",
      "[codecarbon DEBUG @ 13:35:48] last_duration=14.973203898000065\n",
      "------------------------\n"
     ]
    },
    {
     "name": "stdout",
     "output_type": "stream",
     "text": [
      "[439/1000] ./test/pdf/94.pdf\n"
     ]
    },
    {
     "name": "stderr",
     "output_type": "stream",
     "text": [
      "[codecarbon INFO @ 13:36:03] Energy consumed for RAM : 0.000208 kWh. RAM Power : 0.08855009078979492 W\n",
      "[codecarbon DEBUG @ 13:36:03] RAM : 0.09 W during 14.97 s [measurement time: 0.0157]\n",
      "[codecarbon INFO @ 13:36:03] Energy consumed for all CPUs : 0.100376 kWh. Total CPU Power : 42.5 W\n",
      "[codecarbon DEBUG @ 13:36:03] CPU : 42.50 W during 14.99 s [measurement time: 0.0005]\n",
      "[codecarbon INFO @ 13:36:03] Energy consumed for all GPUs : 0.032478 kWh. Total GPU Power : 13.4371188543274 W\n",
      "[codecarbon DEBUG @ 13:36:03] GPU : 13.44 W during 14.99 s [measurement time: 0.0027]\n",
      "[codecarbon INFO @ 13:36:03] 0.133062 kWh of electricity used since the beginning.\n",
      "[codecarbon DEBUG @ 13:36:03] last_duration=14.965922235998733\n",
      "------------------------\n",
      "[codecarbon INFO @ 13:36:18] Energy consumed for RAM : 0.000208 kWh. RAM Power : 0.08855009078979492 W\n",
      "[codecarbon DEBUG @ 13:36:18] RAM : 0.09 W during 14.97 s [measurement time: 0.0143]\n",
      "[codecarbon INFO @ 13:36:18] Energy consumed for all CPUs : 0.100553 kWh. Total CPU Power : 42.5 W\n",
      "[codecarbon DEBUG @ 13:36:18] CPU : 42.50 W during 14.99 s [measurement time: 0.0004]\n",
      "[codecarbon INFO @ 13:36:18] Energy consumed for all GPUs : 0.032535 kWh. Total GPU Power : 13.68350034776101 W\n",
      "[codecarbon DEBUG @ 13:36:18] GPU : 13.68 W during 14.99 s [measurement time: 0.0024]\n",
      "[codecarbon INFO @ 13:36:18] 0.133296 kWh of electricity used since the beginning.\n",
      "[codecarbon DEBUG @ 13:36:18] We apply an energy mix of 174 g.CO2eq/kWh for Spain\n",
      "[codecarbon DEBUG @ 13:36:18] EmissionsData(timestamp='2025-04-13T13:36:18', project_name='codecarbon', run_id='868e486c-ef2f-47f1-8b33-54ddf9c190fd', experiment_id='5b0fa12a-3dd7-45bb-9766-cc326314d9f1', duration=8520.503473286999, emissions=0.023200202950157418, emissions_rate=2.7228676125646076e-06, cpu_power=42.5, gpu_power=13.68350034776101, ram_power=0.08855009078979492, cpu_energy=0.1005530299744791, gpu_energy=0.032535077972486004, ram_energy=0.00020808826192533685, energy_consumed=0.13329619620889063, country_name='Spain', country_iso_code='ESP', region=None, cloud_provider='', cloud_region='', os='Linux-6.8.0-57-generic-x86_64-with-glibc2.35', python_version='3.12.9', codecarbon_version='2.8.3', cpu_count=32, cpu_model='13th Gen Intel(R) Core(TM) i9-13900', gpu_count=1, gpu_model='1 x NVIDIA RTX 5000 Ada Generation', longitude=None, latitude=None, ram_total_size=62.50331497192383, tracking_mode='process', on_cloud='N', pue=1.0)\n",
      "[codecarbon INFO @ 13:36:18] 0.002716 g.CO2eq/s mean an estimation of 85.64821635254482 kg.CO2eq/year\n",
      "[codecarbon DEBUG @ 13:36:18] last_duration=14.968696080999507\n",
      "------------------------\n"
     ]
    },
    {
     "name": "stdout",
     "output_type": "stream",
     "text": [
      "[440/1000] ./test/pdf/940.pdf\n"
     ]
    },
    {
     "name": "stderr",
     "output_type": "stream",
     "text": [
      "[codecarbon INFO @ 13:36:33] Energy consumed for RAM : 0.000208 kWh. RAM Power : 0.08855009078979492 W\n",
      "[codecarbon DEBUG @ 13:36:33] RAM : 0.09 W during 14.97 s [measurement time: 0.0126]\n",
      "[codecarbon INFO @ 13:36:33] Energy consumed for all CPUs : 0.100730 kWh. Total CPU Power : 42.5 W\n",
      "[codecarbon DEBUG @ 13:36:33] CPU : 42.50 W during 15.00 s [measurement time: 0.0012]\n",
      "[codecarbon INFO @ 13:36:33] Energy consumed for all GPUs : 0.032593 kWh. Total GPU Power : 13.866758122856885 W\n",
      "[codecarbon DEBUG @ 13:36:33] GPU : 13.87 W during 15.00 s [measurement time: 0.0023]\n",
      "[codecarbon INFO @ 13:36:33] 0.133531 kWh of electricity used since the beginning.\n",
      "[codecarbon DEBUG @ 13:36:33] last_duration=14.973932634000448\n",
      "------------------------\n"
     ]
    },
    {
     "name": "stdout",
     "output_type": "stream",
     "text": [
      "[441/1000] ./test/pdf/941.pdf\n"
     ]
    },
    {
     "name": "stderr",
     "output_type": "stream",
     "text": [
      "[codecarbon INFO @ 13:36:48] Energy consumed for RAM : 0.000209 kWh. RAM Power : 0.08855009078979492 W\n",
      "[codecarbon DEBUG @ 13:36:48] RAM : 0.09 W during 14.97 s [measurement time: 0.0130]\n",
      "[codecarbon INFO @ 13:36:48] Energy consumed for all CPUs : 0.100907 kWh. Total CPU Power : 42.5 W\n",
      "[codecarbon DEBUG @ 13:36:48] CPU : 42.50 W during 14.99 s [measurement time: 0.0003]\n",
      "[codecarbon INFO @ 13:36:48] Energy consumed for all GPUs : 0.032650 kWh. Total GPU Power : 13.712933630564105 W\n",
      "[codecarbon DEBUG @ 13:36:48] GPU : 13.71 W during 14.99 s [measurement time: 0.0073]\n",
      "[codecarbon INFO @ 13:36:48] 0.133766 kWh of electricity used since the beginning.\n",
      "[codecarbon DEBUG @ 13:36:48] last_duration=14.968083814999773\n",
      "------------------------\n"
     ]
    },
    {
     "name": "stdout",
     "output_type": "stream",
     "text": [
      "[442/1000] ./test/pdf/942.pdf\n"
     ]
    },
    {
     "name": "stderr",
     "output_type": "stream",
     "text": [
      "[codecarbon INFO @ 13:37:03] Energy consumed for RAM : 0.000209 kWh. RAM Power : 0.08855009078979492 W\n",
      "[codecarbon DEBUG @ 13:37:03] RAM : 0.09 W during 14.97 s [measurement time: 0.0143]\n",
      "[codecarbon INFO @ 13:37:03] Energy consumed for all CPUs : 0.101084 kWh. Total CPU Power : 42.5 W\n",
      "[codecarbon DEBUG @ 13:37:03] CPU : 42.50 W during 15.00 s [measurement time: 0.0002]\n",
      "[codecarbon INFO @ 13:37:03] Energy consumed for all GPUs : 0.032714 kWh. Total GPU Power : 15.363474974453105 W\n",
      "[codecarbon DEBUG @ 13:37:03] GPU : 15.36 W during 15.00 s [measurement time: 0.0019]\n",
      "[codecarbon INFO @ 13:37:03] 0.134007 kWh of electricity used since the beginning.\n",
      "[codecarbon DEBUG @ 13:37:03] last_duration=14.973986572000285\n",
      "------------------------\n"
     ]
    },
    {
     "name": "stdout",
     "output_type": "stream",
     "text": [
      "[443/1000] ./test/pdf/943.pdf\n"
     ]
    },
    {
     "name": "stderr",
     "output_type": "stream",
     "text": [
      "[codecarbon INFO @ 13:37:18] Energy consumed for RAM : 0.000210 kWh. RAM Power : 0.08855009078979492 W\n",
      "[codecarbon DEBUG @ 13:37:18] RAM : 0.09 W during 14.97 s [measurement time: 0.0127]\n",
      "[codecarbon INFO @ 13:37:18] Energy consumed for all CPUs : 0.101261 kWh. Total CPU Power : 42.5 W\n",
      "[codecarbon DEBUG @ 13:37:18] CPU : 42.50 W during 15.00 s [measurement time: 0.0003]\n",
      "[codecarbon INFO @ 13:37:18] Energy consumed for all GPUs : 0.032776 kWh. Total GPU Power : 15.013094438753669 W\n",
      "[codecarbon DEBUG @ 13:37:18] GPU : 15.01 W during 15.00 s [measurement time: 0.0054]\n",
      "[codecarbon INFO @ 13:37:18] 0.134247 kWh of electricity used since the beginning.\n",
      "[codecarbon DEBUG @ 13:37:18] last_duration=14.974802517999706\n",
      "------------------------\n"
     ]
    },
    {
     "name": "stdout",
     "output_type": "stream",
     "text": [
      "[444/1000] ./test/pdf/944.pdf\n"
     ]
    },
    {
     "name": "stderr",
     "output_type": "stream",
     "text": [
      "[codecarbon INFO @ 13:37:33] Energy consumed for RAM : 0.000210 kWh. RAM Power : 0.08855009078979492 W\n",
      "[codecarbon DEBUG @ 13:37:33] RAM : 0.09 W during 14.97 s [measurement time: 0.0134]\n",
      "[codecarbon INFO @ 13:37:33] Energy consumed for all CPUs : 0.101438 kWh. Total CPU Power : 42.5 W\n",
      "[codecarbon DEBUG @ 13:37:33] CPU : 42.50 W during 14.99 s [measurement time: 0.0003]\n",
      "[codecarbon INFO @ 13:37:33] Energy consumed for all GPUs : 0.032841 kWh. Total GPU Power : 15.386451568554827 W\n",
      "[codecarbon DEBUG @ 13:37:33] GPU : 15.39 W during 14.99 s [measurement time: 0.0083]\n",
      "[codecarbon INFO @ 13:37:33] 0.134489 kWh of electricity used since the beginning.\n",
      "[codecarbon DEBUG @ 13:37:33] last_duration=14.973609795000812\n",
      "------------------------\n",
      "[codecarbon INFO @ 13:37:48] Energy consumed for RAM : 0.000210 kWh. RAM Power : 0.08855009078979492 W\n",
      "[codecarbon DEBUG @ 13:37:48] RAM : 0.09 W during 14.97 s [measurement time: 0.0096]\n",
      "[codecarbon INFO @ 13:37:48] Energy consumed for all CPUs : 0.101615 kWh. Total CPU Power : 42.5 W\n",
      "[codecarbon DEBUG @ 13:37:48] CPU : 42.50 W during 14.99 s [measurement time: 0.0006]\n",
      "[codecarbon INFO @ 13:37:48] Energy consumed for all GPUs : 0.032903 kWh. Total GPU Power : 14.949018667750885 W\n",
      "[codecarbon DEBUG @ 13:37:48] GPU : 14.95 W during 14.99 s [measurement time: 0.0044]\n",
      "[codecarbon INFO @ 13:37:48] 0.134728 kWh of electricity used since the beginning.\n",
      "[codecarbon DEBUG @ 13:37:48] last_duration=14.971666643999924\n",
      "------------------------\n"
     ]
    },
    {
     "name": "stdout",
     "output_type": "stream",
     "text": [
      "[445/1000] ./test/pdf/945.pdf\n"
     ]
    },
    {
     "name": "stderr",
     "output_type": "stream",
     "text": [
      "[codecarbon INFO @ 13:38:03] Energy consumed for RAM : 0.000211 kWh. RAM Power : 0.08855009078979492 W\n",
      "[codecarbon DEBUG @ 13:38:03] RAM : 0.09 W during 14.98 s [measurement time: 0.0063]\n",
      "[codecarbon INFO @ 13:38:03] Energy consumed for all CPUs : 0.101792 kWh. Total CPU Power : 42.5 W\n",
      "[codecarbon DEBUG @ 13:38:03] CPU : 42.50 W during 14.99 s [measurement time: 0.0002]\n",
      "[codecarbon INFO @ 13:38:03] Energy consumed for all GPUs : 0.032970 kWh. Total GPU Power : 16.038015656956812 W\n",
      "[codecarbon DEBUG @ 13:38:03] GPU : 16.04 W during 14.99 s [measurement time: 0.0060]\n",
      "[codecarbon INFO @ 13:38:03] 0.134972 kWh of electricity used since the beginning.\n",
      "[codecarbon DEBUG @ 13:38:03] last_duration=14.975567247000072\n",
      "------------------------\n",
      "[codecarbon INFO @ 13:38:18] Energy consumed for RAM : 0.000211 kWh. RAM Power : 0.08855009078979492 W\n",
      "[codecarbon DEBUG @ 13:38:18] RAM : 0.09 W during 14.98 s [measurement time: 0.0056]\n",
      "[codecarbon INFO @ 13:38:18] Energy consumed for all CPUs : 0.101969 kWh. Total CPU Power : 42.5 W\n",
      "[codecarbon DEBUG @ 13:38:18] CPU : 42.50 W during 14.99 s [measurement time: 0.0004]\n",
      "[codecarbon INFO @ 13:38:18] Energy consumed for all GPUs : 0.033034 kWh. Total GPU Power : 15.448098480157588 W\n",
      "[codecarbon DEBUG @ 13:38:18] GPU : 15.45 W during 14.99 s [measurement time: 0.0021]\n",
      "[codecarbon INFO @ 13:38:18] 0.135214 kWh of electricity used since the beginning.\n",
      "[codecarbon DEBUG @ 13:38:18] We apply an energy mix of 174 g.CO2eq/kWh for Spain\n",
      "[codecarbon DEBUG @ 13:38:18] EmissionsData(timestamp='2025-04-13T13:38:18', project_name='codecarbon', run_id='868e486c-ef2f-47f1-8b33-54ddf9c190fd', experiment_id='5b0fa12a-3dd7-45bb-9766-cc326314d9f1', duration=8640.495714073999, emissions=0.02353399517898319, emissions_rate=2.72368576500189e-06, cpu_power=42.5, gpu_power=15.448098480157588, ram_power=0.08855009078979492, cpu_energy=0.10196901800629302, gpu_energy=0.033033938371574006, ram_energy=0.0002110348831680855, energy_consumed=0.13521399126103528, country_name='Spain', country_iso_code='ESP', region=None, cloud_provider='', cloud_region='', os='Linux-6.8.0-57-generic-x86_64-with-glibc2.35', python_version='3.12.9', codecarbon_version='2.8.3', cpu_count=32, cpu_model='13th Gen Intel(R) Core(TM) i9-13900', gpu_count=1, gpu_model='1 x NVIDIA RTX 5000 Ada Generation', longitude=None, latitude=None, ram_total_size=62.50331497192383, tracking_mode='process', on_cloud='N', pue=1.0)\n",
      "[codecarbon INFO @ 13:38:18] 0.002782 g.CO2eq/s mean an estimation of 87.72627012554341 kg.CO2eq/year\n",
      "[codecarbon DEBUG @ 13:38:18] last_duration=14.98298481799975\n",
      "------------------------\n"
     ]
    },
    {
     "name": "stdout",
     "output_type": "stream",
     "text": [
      "[446/1000] ./test/pdf/946.pdf\n"
     ]
    },
    {
     "name": "stderr",
     "output_type": "stream",
     "text": [
      "[codecarbon INFO @ 13:38:33] Energy consumed for RAM : 0.000211 kWh. RAM Power : 0.08855009078979492 W\n",
      "[codecarbon DEBUG @ 13:38:33] RAM : 0.09 W during 14.99 s [measurement time: 0.0096]\n",
      "[codecarbon INFO @ 13:38:33] Energy consumed for all CPUs : 0.102146 kWh. Total CPU Power : 42.5 W\n",
      "[codecarbon DEBUG @ 13:38:33] CPU : 42.50 W during 15.00 s [measurement time: 0.0004]\n",
      "[codecarbon INFO @ 13:38:33] Energy consumed for all GPUs : 0.033100 kWh. Total GPU Power : 15.747822526190705 W\n",
      "[codecarbon DEBUG @ 13:38:33] GPU : 15.75 W during 15.00 s [measurement time: 0.0025]\n",
      "[codecarbon INFO @ 13:38:33] 0.135457 kWh of electricity used since the beginning.\n",
      "[codecarbon DEBUG @ 13:38:33] last_duration=14.98716719299955\n",
      "------------------------\n"
     ]
    },
    {
     "name": "stdout",
     "output_type": "stream",
     "text": [
      "[447/1000] ./test/pdf/947.pdf\n"
     ]
    },
    {
     "name": "stderr",
     "output_type": "stream",
     "text": [
      "[codecarbon INFO @ 13:38:48] Energy consumed for RAM : 0.000212 kWh. RAM Power : 0.08855009078979492 W\n",
      "[codecarbon DEBUG @ 13:38:48] RAM : 0.09 W during 14.98 s [measurement time: 0.0133]\n",
      "[codecarbon INFO @ 13:38:48] Energy consumed for all CPUs : 0.102323 kWh. Total CPU Power : 42.5 W\n",
      "[codecarbon DEBUG @ 13:38:48] CPU : 42.50 W during 15.00 s [measurement time: 0.0004]\n",
      "[codecarbon INFO @ 13:38:48] Energy consumed for all GPUs : 0.033166 kWh. Total GPU Power : 16.011045681633068 W\n",
      "[codecarbon DEBUG @ 13:38:48] GPU : 16.01 W during 15.00 s [measurement time: 0.0020]\n",
      "[codecarbon INFO @ 13:38:48] 0.135701 kWh of electricity used since the beginning.\n",
      "[codecarbon DEBUG @ 13:38:48] last_duration=14.98112573799881\n",
      "------------------------\n"
     ]
    },
    {
     "name": "stdout",
     "output_type": "stream",
     "text": [
      "[448/1000] ./test/pdf/948.pdf\n"
     ]
    },
    {
     "name": "stderr",
     "output_type": "stream",
     "text": [
      "[codecarbon INFO @ 13:39:03] Energy consumed for RAM : 0.000212 kWh. RAM Power : 0.08855009078979492 W\n",
      "[codecarbon DEBUG @ 13:39:03] RAM : 0.09 W during 14.98 s [measurement time: 0.0140]\n",
      "[codecarbon INFO @ 13:39:03] Energy consumed for all CPUs : 0.102500 kWh. Total CPU Power : 42.5 W\n",
      "[codecarbon DEBUG @ 13:39:03] CPU : 42.50 W during 15.00 s [measurement time: 0.0003]\n",
      "[codecarbon INFO @ 13:39:03] Energy consumed for all GPUs : 0.033233 kWh. Total GPU Power : 15.936564410125861 W\n",
      "[codecarbon DEBUG @ 13:39:03] GPU : 15.94 W during 15.00 s [measurement time: 0.0022]\n",
      "[codecarbon INFO @ 13:39:03] 0.135945 kWh of electricity used since the beginning.\n",
      "[codecarbon DEBUG @ 13:39:03] last_duration=14.975407428000835\n",
      "------------------------\n"
     ]
    },
    {
     "name": "stdout",
     "output_type": "stream",
     "text": [
      "[449/1000] ./test/pdf/949.pdf\n"
     ]
    },
    {
     "name": "stderr",
     "output_type": "stream",
     "text": [
      "[codecarbon INFO @ 13:39:18] Energy consumed for RAM : 0.000213 kWh. RAM Power : 0.08855009078979492 W\n",
      "[codecarbon DEBUG @ 13:39:18] RAM : 0.09 W during 14.97 s [measurement time: 0.0147]\n",
      "[codecarbon INFO @ 13:39:18] Energy consumed for all CPUs : 0.102677 kWh. Total CPU Power : 42.5 W\n",
      "[codecarbon DEBUG @ 13:39:18] CPU : 42.50 W during 15.00 s [measurement time: 0.0003]\n",
      "[codecarbon INFO @ 13:39:19] Energy consumed for all GPUs : 0.033299 kWh. Total GPU Power : 15.91009806537684 W\n",
      "[codecarbon DEBUG @ 13:39:19] GPU : 15.91 W during 15.00 s [measurement time: 0.0084]\n",
      "[codecarbon INFO @ 13:39:19] 0.136189 kWh of electricity used since the beginning.\n",
      "[codecarbon DEBUG @ 13:39:19] last_duration=14.972830696999154\n",
      "------------------------\n"
     ]
    },
    {
     "name": "stdout",
     "output_type": "stream",
     "text": [
      "[450/1000] ./test/pdf/95.pdf\n"
     ]
    },
    {
     "name": "stderr",
     "output_type": "stream",
     "text": [
      "[codecarbon INFO @ 13:39:33] Energy consumed for RAM : 0.000213 kWh. RAM Power : 0.08855009078979492 W\n",
      "[codecarbon DEBUG @ 13:39:33] RAM : 0.09 W during 14.97 s [measurement time: 0.0151]\n",
      "[codecarbon INFO @ 13:39:33] Energy consumed for all CPUs : 0.102854 kWh. Total CPU Power : 42.5 W\n",
      "[codecarbon DEBUG @ 13:39:33] CPU : 42.50 W during 14.99 s [measurement time: 0.0002]\n",
      "[codecarbon INFO @ 13:39:33] Energy consumed for all GPUs : 0.033365 kWh. Total GPU Power : 15.93513057318404 W\n",
      "[codecarbon DEBUG @ 13:39:33] GPU : 15.94 W during 14.99 s [measurement time: 0.0030]\n",
      "[codecarbon INFO @ 13:39:33] 0.136433 kWh of electricity used since the beginning.\n",
      "[codecarbon DEBUG @ 13:39:33] last_duration=14.966161888998613\n",
      "------------------------\n"
     ]
    },
    {
     "name": "stdout",
     "output_type": "stream",
     "text": [
      "[451/1000] ./test/pdf/950.pdf\n"
     ]
    },
    {
     "name": "stderr",
     "output_type": "stream",
     "text": [
      "[codecarbon INFO @ 13:39:48] Energy consumed for RAM : 0.000213 kWh. RAM Power : 0.08855009078979492 W\n",
      "[codecarbon DEBUG @ 13:39:48] RAM : 0.09 W during 14.97 s [measurement time: 0.0126]\n",
      "[codecarbon INFO @ 13:39:48] Energy consumed for all CPUs : 0.103031 kWh. Total CPU Power : 42.5 W\n",
      "[codecarbon DEBUG @ 13:39:48] CPU : 42.50 W during 14.99 s [measurement time: 0.0004]\n",
      "[codecarbon INFO @ 13:39:48] Energy consumed for all GPUs : 0.033427 kWh. Total GPU Power : 14.86647453088524 W\n",
      "[codecarbon DEBUG @ 13:39:48] GPU : 14.87 W during 14.99 s [measurement time: 0.0027]\n",
      "[codecarbon INFO @ 13:39:48] 0.136672 kWh of electricity used since the beginning.\n",
      "[codecarbon DEBUG @ 13:39:48] last_duration=14.971629780000512\n",
      "------------------------\n",
      "[codecarbon INFO @ 13:40:03] Energy consumed for RAM : 0.000214 kWh. RAM Power : 0.08855009078979492 W\n",
      "[codecarbon DEBUG @ 13:40:03] RAM : 0.09 W during 14.98 s [measurement time: 0.0136]\n",
      "[codecarbon INFO @ 13:40:03] Energy consumed for all CPUs : 0.103208 kWh. Total CPU Power : 42.5 W\n",
      "[codecarbon DEBUG @ 13:40:03] CPU : 42.50 W during 15.00 s [measurement time: 0.0005]\n",
      "[codecarbon INFO @ 13:40:03] Energy consumed for all GPUs : 0.033491 kWh. Total GPU Power : 15.265555569126837 W\n",
      "[codecarbon DEBUG @ 13:40:03] GPU : 15.27 W during 15.00 s [measurement time: 0.0023]\n",
      "[codecarbon INFO @ 13:40:03] 0.136913 kWh of electricity used since the beginning.\n",
      "[codecarbon DEBUG @ 13:40:03] last_duration=14.977678594999816\n",
      "------------------------\n"
     ]
    },
    {
     "name": "stdout",
     "output_type": "stream",
     "text": [
      "[452/1000] ./test/pdf/951.pdf\n"
     ]
    },
    {
     "name": "stderr",
     "output_type": "stream",
     "text": [
      "[codecarbon INFO @ 13:40:18] Energy consumed for RAM : 0.000214 kWh. RAM Power : 0.08855009078979492 W\n",
      "[codecarbon DEBUG @ 13:40:18] RAM : 0.09 W during 14.98 s [measurement time: 0.0137]\n",
      "[codecarbon INFO @ 13:40:18] Energy consumed for all CPUs : 0.103386 kWh. Total CPU Power : 42.5 W\n",
      "[codecarbon DEBUG @ 13:40:18] CPU : 42.50 W during 15.00 s [measurement time: 0.0005]\n",
      "[codecarbon INFO @ 13:40:18] Energy consumed for all GPUs : 0.033555 kWh. Total GPU Power : 15.403846650368639 W\n",
      "[codecarbon DEBUG @ 13:40:18] GPU : 15.40 W during 15.00 s [measurement time: 0.0024]\n",
      "[codecarbon INFO @ 13:40:18] 0.137155 kWh of electricity used since the beginning.\n",
      "[codecarbon DEBUG @ 13:40:19] We apply an energy mix of 174 g.CO2eq/kWh for Spain\n",
      "[codecarbon DEBUG @ 13:40:19] EmissionsData(timestamp='2025-04-13T13:40:19', project_name='codecarbon', run_id='868e486c-ef2f-47f1-8b33-54ddf9c190fd', experiment_id='5b0fa12a-3dd7-45bb-9766-cc326314d9f1', duration=8760.518185325, emissions=0.023871755081317256, emissions_rate=2.7249250074391185e-06, cpu_power=42.5, gpu_power=15.403846650368639, ram_power=0.08855009078979492, cpu_energy=0.10338553853031104, gpu_energy=0.033555062121806006, ram_energy=0.00021398183175085552, energy_consumed=0.13715458248386816, country_name='Spain', country_iso_code='ESP', region=None, cloud_provider='', cloud_region='', os='Linux-6.8.0-57-generic-x86_64-with-glibc2.35', python_version='3.12.9', codecarbon_version='2.8.3', cpu_count=32, cpu_model='13th Gen Intel(R) Core(TM) i9-13900', gpu_count=1, gpu_model='1 x NVIDIA RTX 5000 Ada Generation', longitude=None, latitude=None, ram_total_size=62.50331497192383, tracking_mode='process', on_cloud='N', pue=1.0)\n",
      "[codecarbon INFO @ 13:40:19] 0.002814 g.CO2eq/s mean an estimation of 88.74668359170504 kg.CO2eq/year\n",
      "[codecarbon DEBUG @ 13:40:19] last_duration=14.975974705001136\n",
      "------------------------\n"
     ]
    },
    {
     "name": "stdout",
     "output_type": "stream",
     "text": [
      "[453/1000] ./test/pdf/952.pdf\n"
     ]
    },
    {
     "name": "stderr",
     "output_type": "stream",
     "text": [
      "[codecarbon INFO @ 13:40:33] Energy consumed for RAM : 0.000214 kWh. RAM Power : 0.08855009078979492 W\n",
      "[codecarbon DEBUG @ 13:40:33] RAM : 0.09 W during 14.97 s [measurement time: 0.0164]\n",
      "[codecarbon INFO @ 13:40:33] Energy consumed for all CPUs : 0.103563 kWh. Total CPU Power : 42.5 W\n",
      "[codecarbon DEBUG @ 13:40:33] CPU : 42.50 W during 15.00 s [measurement time: 0.0004]\n",
      "[codecarbon INFO @ 13:40:33] Energy consumed for all GPUs : 0.033610 kWh. Total GPU Power : 13.295076577416554 W\n",
      "[codecarbon DEBUG @ 13:40:33] GPU : 13.30 W during 15.00 s [measurement time: 0.0019]\n",
      "[codecarbon INFO @ 13:40:33] 0.137387 kWh of electricity used since the beginning.\n",
      "[codecarbon DEBUG @ 13:40:33] last_duration=14.970590041999458\n",
      "------------------------\n"
     ]
    },
    {
     "name": "stdout",
     "output_type": "stream",
     "text": [
      "[454/1000] ./test/pdf/953.pdf\n"
     ]
    },
    {
     "name": "stderr",
     "output_type": "stream",
     "text": [
      "[codecarbon INFO @ 13:40:48] Energy consumed for RAM : 0.000215 kWh. RAM Power : 0.08855009078979492 W\n",
      "[codecarbon DEBUG @ 13:40:48] RAM : 0.09 W during 14.97 s [measurement time: 0.0148]\n",
      "[codecarbon INFO @ 13:40:48] Energy consumed for all CPUs : 0.103740 kWh. Total CPU Power : 42.5 W\n",
      "[codecarbon DEBUG @ 13:40:48] CPU : 42.50 W during 14.99 s [measurement time: 0.0004]\n",
      "[codecarbon INFO @ 13:40:48] Energy consumed for all GPUs : 0.033674 kWh. Total GPU Power : 15.320040061560897 W\n",
      "[codecarbon DEBUG @ 13:40:48] GPU : 15.32 W during 15.00 s [measurement time: 0.0028]\n",
      "[codecarbon INFO @ 13:40:48] 0.137629 kWh of electricity used since the beginning.\n",
      "[codecarbon DEBUG @ 13:40:48] last_duration=14.97242884699881\n",
      "------------------------\n"
     ]
    },
    {
     "name": "stdout",
     "output_type": "stream",
     "text": [
      "[455/1000] ./test/pdf/954.pdf\n"
     ]
    },
    {
     "name": "stderr",
     "output_type": "stream",
     "text": [
      "[codecarbon INFO @ 13:41:03] Energy consumed for RAM : 0.000215 kWh. RAM Power : 0.08855009078979492 W\n",
      "[codecarbon DEBUG @ 13:41:03] RAM : 0.09 W during 14.97 s [measurement time: 0.0125]\n",
      "[codecarbon INFO @ 13:41:03] Energy consumed for all CPUs : 0.103917 kWh. Total CPU Power : 42.5 W\n",
      "[codecarbon DEBUG @ 13:41:03] CPU : 42.50 W during 14.99 s [measurement time: 0.0004]\n",
      "[codecarbon INFO @ 13:41:03] Energy consumed for all GPUs : 0.033735 kWh. Total GPU Power : 14.683205818584577 W\n",
      "[codecarbon DEBUG @ 13:41:03] GPU : 14.68 W during 15.00 s [measurement time: 0.0024]\n",
      "[codecarbon INFO @ 13:41:03] 0.137867 kWh of electricity used since the beginning.\n",
      "[codecarbon DEBUG @ 13:41:03] last_duration=14.974415476999638\n",
      "------------------------\n"
     ]
    },
    {
     "name": "stdout",
     "output_type": "stream",
     "text": [
      "[456/1000] ./test/pdf/955.pdf\n"
     ]
    },
    {
     "name": "stderr",
     "output_type": "stream",
     "text": [
      "[codecarbon INFO @ 13:41:18] Energy consumed for RAM : 0.000215 kWh. RAM Power : 0.08855009078979492 W\n",
      "[codecarbon DEBUG @ 13:41:18] RAM : 0.09 W during 14.98 s [measurement time: 0.0117]\n",
      "[codecarbon INFO @ 13:41:18] Energy consumed for all CPUs : 0.104094 kWh. Total CPU Power : 42.5 W\n",
      "[codecarbon DEBUG @ 13:41:18] CPU : 42.50 W during 15.00 s [measurement time: 0.0006]\n",
      "[codecarbon INFO @ 13:41:18] Energy consumed for all GPUs : 0.033798 kWh. Total GPU Power : 15.049800650468041 W\n",
      "[codecarbon DEBUG @ 13:41:18] GPU : 15.05 W during 15.00 s [measurement time: 0.0063]\n",
      "[codecarbon INFO @ 13:41:18] 0.138107 kWh of electricity used since the beginning.\n",
      "[codecarbon DEBUG @ 13:41:18] last_duration=14.976740096999492\n",
      "------------------------\n"
     ]
    },
    {
     "name": "stdout",
     "output_type": "stream",
     "text": [
      "[457/1000] ./test/pdf/956.pdf\n"
     ]
    },
    {
     "name": "stderr",
     "output_type": "stream",
     "text": [
      "[codecarbon INFO @ 13:41:33] Energy consumed for RAM : 0.000216 kWh. RAM Power : 0.08855009078979492 W\n",
      "[codecarbon DEBUG @ 13:41:33] RAM : 0.09 W during 14.97 s [measurement time: 0.0119]\n",
      "[codecarbon INFO @ 13:41:33] Energy consumed for all CPUs : 0.104271 kWh. Total CPU Power : 42.5 W\n",
      "[codecarbon DEBUG @ 13:41:33] CPU : 42.50 W during 14.99 s [measurement time: 0.0003]\n",
      "[codecarbon INFO @ 13:41:33] Energy consumed for all GPUs : 0.033863 kWh. Total GPU Power : 15.696421337923281 W\n",
      "[codecarbon DEBUG @ 13:41:33] GPU : 15.70 W during 14.99 s [measurement time: 0.0039]\n",
      "[codecarbon INFO @ 13:41:33] 0.138350 kWh of electricity used since the beginning.\n",
      "[codecarbon DEBUG @ 13:41:33] last_duration=14.973900450000656\n",
      "------------------------\n",
      "[codecarbon INFO @ 13:41:48] Energy consumed for RAM : 0.000216 kWh. RAM Power : 0.08855009078979492 W\n",
      "[codecarbon DEBUG @ 13:41:48] RAM : 0.09 W during 14.98 s [measurement time: 0.0139]\n",
      "[codecarbon INFO @ 13:41:48] Energy consumed for all CPUs : 0.104448 kWh. Total CPU Power : 42.5 W\n",
      "[codecarbon DEBUG @ 13:41:48] CPU : 42.50 W during 14.99 s [measurement time: 0.0003]\n",
      "[codecarbon INFO @ 13:41:48] Energy consumed for all GPUs : 0.033964 kWh. Total GPU Power : 24.15900779010053 W\n",
      "[codecarbon DEBUG @ 13:41:48] GPU : 24.16 W during 14.99 s [measurement time: 0.0023]\n",
      "[codecarbon INFO @ 13:41:48] 0.138628 kWh of electricity used since the beginning.\n",
      "[codecarbon DEBUG @ 13:41:48] last_duration=14.975761032001174\n",
      "------------------------\n"
     ]
    },
    {
     "name": "stdout",
     "output_type": "stream",
     "text": [
      "[458/1000] ./test/pdf/957.pdf\n"
     ]
    },
    {
     "name": "stderr",
     "output_type": "stream",
     "text": [
      "[codecarbon INFO @ 13:42:03] Energy consumed for RAM : 0.000217 kWh. RAM Power : 0.08855009078979492 W\n",
      "[codecarbon DEBUG @ 13:42:03] RAM : 0.09 W during 14.98 s [measurement time: 0.0055]\n",
      "[codecarbon INFO @ 13:42:03] Energy consumed for all CPUs : 0.104625 kWh. Total CPU Power : 42.5 W\n",
      "[codecarbon DEBUG @ 13:42:03] CPU : 42.50 W during 14.99 s [measurement time: 0.0002]\n",
      "[codecarbon INFO @ 13:42:03] Energy consumed for all GPUs : 0.034049 kWh. Total GPU Power : 20.349028639271094 W\n",
      "[codecarbon DEBUG @ 13:42:03] GPU : 20.35 W during 14.99 s [measurement time: 0.0030]\n",
      "[codecarbon INFO @ 13:42:03] 0.138890 kWh of electricity used since the beginning.\n",
      "[codecarbon DEBUG @ 13:42:03] last_duration=14.97851198799981\n",
      "------------------------\n"
     ]
    },
    {
     "name": "stdout",
     "output_type": "stream",
     "text": [
      "[459/1000] ./test/pdf/958.pdf\n"
     ]
    },
    {
     "name": "stderr",
     "output_type": "stream",
     "text": [
      "[codecarbon INFO @ 13:42:18] Energy consumed for RAM : 0.000217 kWh. RAM Power : 0.08855009078979492 W\n",
      "[codecarbon DEBUG @ 13:42:19] RAM : 0.09 W during 14.99 s [measurement time: 0.0161]\n",
      "[codecarbon INFO @ 13:42:19] Energy consumed for all CPUs : 0.104802 kWh. Total CPU Power : 42.5 W\n",
      "[codecarbon DEBUG @ 13:42:19] CPU : 42.50 W during 15.01 s [measurement time: 0.0005]\n",
      "[codecarbon INFO @ 13:42:19] Energy consumed for all GPUs : 0.034115 kWh. Total GPU Power : 15.886423590354779 W\n",
      "[codecarbon DEBUG @ 13:42:19] GPU : 15.89 W during 15.01 s [measurement time: 0.0025]\n",
      "[codecarbon INFO @ 13:42:19] 0.139134 kWh of electricity used since the beginning.\n",
      "[codecarbon DEBUG @ 13:42:19] We apply an energy mix of 174 g.CO2eq/kWh for Spain\n",
      "[codecarbon DEBUG @ 13:42:19] EmissionsData(timestamp='2025-04-13T13:42:19', project_name='codecarbon', run_id='868e486c-ef2f-47f1-8b33-54ddf9c190fd', experiment_id='5b0fa12a-3dd7-45bb-9766-cc326314d9f1', duration=8880.523372161999, emissions=0.024216252101066364, emissions_rate=2.7268946982311495e-06, cpu_power=42.5, gpu_power=15.886423590354779, ram_power=0.08855009078979492, cpu_energy=0.10480185304822287, gpu_energy=0.034115099792058005, ram_energy=0.00021692880905155163, energy_consumed=0.13913388164933274, country_name='Spain', country_iso_code='ESP', region=None, cloud_provider='', cloud_region='', os='Linux-6.8.0-57-generic-x86_64-with-glibc2.35', python_version='3.12.9', codecarbon_version='2.8.3', cpu_count=32, cpu_model='13th Gen Intel(R) Core(TM) i9-13900', gpu_count=1, gpu_model='1 x NVIDIA RTX 5000 Ada Generation', longitude=None, latitude=None, ram_total_size=62.50331497192383, tracking_mode='process', on_cloud='N', pue=1.0)\n",
      "[codecarbon INFO @ 13:42:19] 0.002871 g.CO2eq/s mean an estimation of 90.52990375794596 kg.CO2eq/year\n",
      "[codecarbon DEBUG @ 13:42:19] last_duration=14.986803859001157\n",
      "------------------------\n"
     ]
    },
    {
     "name": "stdout",
     "output_type": "stream",
     "text": [
      "[460/1000] ./test/pdf/959.pdf\n"
     ]
    },
    {
     "name": "stderr",
     "output_type": "stream",
     "text": [
      "[codecarbon INFO @ 13:42:33] Energy consumed for RAM : 0.000217 kWh. RAM Power : 0.08855009078979492 W\n",
      "[codecarbon DEBUG @ 13:42:33] RAM : 0.09 W during 14.97 s [measurement time: 0.0105]\n",
      "[codecarbon INFO @ 13:42:33] Energy consumed for all CPUs : 0.104979 kWh. Total CPU Power : 42.5 W\n",
      "[codecarbon DEBUG @ 13:42:33] CPU : 42.50 W during 14.99 s [measurement time: 0.0004]\n",
      "[codecarbon INFO @ 13:42:33] Energy consumed for all GPUs : 0.034185 kWh. Total GPU Power : 16.788960606035943 W\n",
      "[codecarbon DEBUG @ 13:42:33] GPU : 16.79 W during 14.99 s [measurement time: 0.0027]\n",
      "[codecarbon INFO @ 13:42:33] 0.139381 kWh of electricity used since the beginning.\n",
      "[codecarbon DEBUG @ 13:42:33] last_duration=14.971102468000026\n",
      "------------------------\n"
     ]
    },
    {
     "name": "stdout",
     "output_type": "stream",
     "text": [
      "[461/1000] ./test/pdf/96.pdf\n"
     ]
    },
    {
     "name": "stderr",
     "output_type": "stream",
     "text": [
      "[codecarbon INFO @ 13:42:48] Energy consumed for RAM : 0.000218 kWh. RAM Power : 0.08855009078979492 W\n",
      "[codecarbon DEBUG @ 13:42:48] RAM : 0.09 W during 14.98 s [measurement time: 0.0102]\n",
      "[codecarbon INFO @ 13:42:48] Energy consumed for all CPUs : 0.105156 kWh. Total CPU Power : 42.5 W\n",
      "[codecarbon DEBUG @ 13:42:48] CPU : 42.50 W during 15.00 s [measurement time: 0.0010]\n",
      "[codecarbon INFO @ 13:42:49] Energy consumed for all GPUs : 0.034255 kWh. Total GPU Power : 16.87515186634678 W\n",
      "[codecarbon DEBUG @ 13:42:49] GPU : 16.88 W during 15.00 s [measurement time: 0.0027]\n",
      "[codecarbon INFO @ 13:42:49] 0.139629 kWh of electricity used since the beginning.\n",
      "[codecarbon DEBUG @ 13:42:49] last_duration=14.97897989500052\n",
      "------------------------\n"
     ]
    },
    {
     "name": "stdout",
     "output_type": "stream",
     "text": [
      "[462/1000] ./test/pdf/960.pdf\n"
     ]
    },
    {
     "name": "stderr",
     "output_type": "stream",
     "text": [
      "[codecarbon INFO @ 13:43:03] Energy consumed for RAM : 0.000218 kWh. RAM Power : 0.08855009078979492 W\n",
      "[codecarbon DEBUG @ 13:43:04] RAM : 0.09 W during 14.97 s [measurement time: 0.0133]\n",
      "[codecarbon INFO @ 13:43:04] Energy consumed for all CPUs : 0.105333 kWh. Total CPU Power : 42.5 W\n",
      "[codecarbon DEBUG @ 13:43:04] CPU : 42.50 W during 15.00 s [measurement time: 0.0005]\n",
      "[codecarbon INFO @ 13:43:04] Energy consumed for all GPUs : 0.034325 kWh. Total GPU Power : 16.697433845516308 W\n",
      "[codecarbon DEBUG @ 13:43:04] GPU : 16.70 W during 15.00 s [measurement time: 0.0027]\n",
      "[codecarbon INFO @ 13:43:04] 0.139876 kWh of electricity used since the beginning.\n",
      "[codecarbon DEBUG @ 13:43:04] last_duration=14.973787957998866\n",
      "------------------------\n"
     ]
    },
    {
     "name": "stdout",
     "output_type": "stream",
     "text": [
      "[463/1000] ./test/pdf/961.pdf\n"
     ]
    },
    {
     "name": "stderr",
     "output_type": "stream",
     "text": [
      "[codecarbon INFO @ 13:43:18] Energy consumed for RAM : 0.000218 kWh. RAM Power : 0.08855009078979492 W\n",
      "[codecarbon DEBUG @ 13:43:18] RAM : 0.09 W during 14.97 s [measurement time: 0.0164]\n",
      "[codecarbon INFO @ 13:43:18] Energy consumed for all CPUs : 0.105510 kWh. Total CPU Power : 42.5 W\n",
      "[codecarbon DEBUG @ 13:43:19] CPU : 42.50 W during 14.99 s [measurement time: 0.0003]\n",
      "[codecarbon INFO @ 13:43:19] Energy consumed for all GPUs : 0.034395 kWh. Total GPU Power : 16.768363350019275 W\n",
      "[codecarbon DEBUG @ 13:43:19] GPU : 16.77 W during 14.99 s [measurement time: 0.0059]\n",
      "[codecarbon INFO @ 13:43:19] 0.140123 kWh of electricity used since the beginning.\n",
      "[codecarbon DEBUG @ 13:43:19] last_duration=14.970252105000327\n",
      "------------------------\n",
      "[codecarbon INFO @ 13:43:33] Energy consumed for RAM : 0.000219 kWh. RAM Power : 0.08855009078979492 W\n",
      "[codecarbon DEBUG @ 13:43:34] RAM : 0.09 W during 14.97 s [measurement time: 0.0155]\n",
      "[codecarbon INFO @ 13:43:34] Energy consumed for all CPUs : 0.105687 kWh. Total CPU Power : 42.5 W\n",
      "[codecarbon DEBUG @ 13:43:34] CPU : 42.50 W during 15.00 s [measurement time: 0.0003]\n",
      "[codecarbon INFO @ 13:43:34] Energy consumed for all GPUs : 0.034465 kWh. Total GPU Power : 16.86771897689632 W\n",
      "[codecarbon DEBUG @ 13:43:34] GPU : 16.87 W during 15.00 s [measurement time: 0.0076]\n",
      "[codecarbon INFO @ 13:43:34] 0.140371 kWh of electricity used since the beginning.\n",
      "[codecarbon DEBUG @ 13:43:34] last_duration=14.972605344999465\n",
      "------------------------\n"
     ]
    },
    {
     "name": "stdout",
     "output_type": "stream",
     "text": [
      "[464/1000] ./test/pdf/962.pdf\n"
     ]
    },
    {
     "name": "stderr",
     "output_type": "stream",
     "text": [
      "[codecarbon INFO @ 13:43:48] Energy consumed for RAM : 0.000219 kWh. RAM Power : 0.08855009078979492 W\n",
      "[codecarbon DEBUG @ 13:43:48] RAM : 0.09 W during 14.96 s [measurement time: 0.0100]\n",
      "[codecarbon INFO @ 13:43:48] Energy consumed for all CPUs : 0.105864 kWh. Total CPU Power : 42.5 W\n",
      "[codecarbon DEBUG @ 13:43:48] CPU : 42.50 W during 14.98 s [measurement time: 0.0003]\n",
      "[codecarbon INFO @ 13:43:48] Energy consumed for all GPUs : 0.034537 kWh. Total GPU Power : 17.31613337799945 W\n",
      "[codecarbon DEBUG @ 13:43:48] GPU : 17.32 W during 14.98 s [measurement time: 0.0022]\n",
      "[codecarbon INFO @ 13:43:48] 0.140620 kWh of electricity used since the beginning.\n",
      "[codecarbon DEBUG @ 13:43:48] last_duration=14.964529554001274\n",
      "------------------------\n",
      "[codecarbon INFO @ 13:44:03] Energy consumed for RAM : 0.000220 kWh. RAM Power : 0.08855009078979492 W\n",
      "[codecarbon DEBUG @ 13:44:04] RAM : 0.09 W during 14.98 s [measurement time: 0.0146]\n",
      "[codecarbon INFO @ 13:44:04] Energy consumed for all CPUs : 0.106041 kWh. Total CPU Power : 42.5 W\n",
      "[codecarbon DEBUG @ 13:44:04] CPU : 42.50 W during 15.00 s [measurement time: 0.0005]\n",
      "[codecarbon INFO @ 13:44:04] Energy consumed for all GPUs : 0.034607 kWh. Total GPU Power : 16.742951216992456 W\n",
      "[codecarbon DEBUG @ 13:44:04] GPU : 16.74 W during 15.00 s [measurement time: 0.0072]\n",
      "[codecarbon INFO @ 13:44:04] 0.140867 kWh of electricity used since the beginning.\n",
      "[codecarbon DEBUG @ 13:44:04] last_duration=14.980936632000521\n",
      "------------------------\n"
     ]
    },
    {
     "name": "stdout",
     "output_type": "stream",
     "text": [
      "[465/1000] ./test/pdf/963.pdf\n",
      "[466/1000] ./test/pdf/964.pdf\n"
     ]
    },
    {
     "name": "stderr",
     "output_type": "stream",
     "text": [
      "[codecarbon INFO @ 13:44:18] Energy consumed for RAM : 0.000220 kWh. RAM Power : 0.08855009078979492 W\n",
      "[codecarbon DEBUG @ 13:44:19] RAM : 0.09 W during 14.97 s [measurement time: 0.0156]\n",
      "[codecarbon INFO @ 13:44:19] Energy consumed for all CPUs : 0.106218 kWh. Total CPU Power : 42.5 W\n",
      "[codecarbon DEBUG @ 13:44:19] CPU : 42.50 W during 14.99 s [measurement time: 0.0002]\n",
      "[codecarbon INFO @ 13:44:19] Energy consumed for all GPUs : 0.034676 kWh. Total GPU Power : 16.52531404458895 W\n",
      "[codecarbon DEBUG @ 13:44:19] GPU : 16.53 W during 15.00 s [measurement time: 0.0023]\n",
      "[codecarbon INFO @ 13:44:19] 0.141114 kWh of electricity used since the beginning.\n",
      "[codecarbon DEBUG @ 13:44:19] We apply an energy mix of 174 g.CO2eq/kWh for Spain\n",
      "[codecarbon DEBUG @ 13:44:19] EmissionsData(timestamp='2025-04-13T13:44:19', project_name='codecarbon', run_id='868e486c-ef2f-47f1-8b33-54ddf9c190fd', experiment_id='5b0fa12a-3dd7-45bb-9766-cc326314d9f1', duration=9000.528047591, emissions=0.024560823179352608, emissions_rate=2.7288202480438172e-06, cpu_power=42.5, gpu_power=16.52531404458895, ram_power=0.08855009078979492, cpu_energy=0.1062180329116611, gpu_energy=0.034675698296092, ram_energy=0.00021987510855000527, energy_consumed=0.1411136063163034, country_name='Spain', country_iso_code='ESP', region=None, cloud_provider='', cloud_region='', os='Linux-6.8.0-57-generic-x86_64-with-glibc2.35', python_version='3.12.9', codecarbon_version='2.8.3', cpu_count=32, cpu_model='13th Gen Intel(R) Core(TM) i9-13900', gpu_count=1, gpu_model='1 x NVIDIA RTX 5000 Ada Generation', longitude=None, latitude=None, ram_total_size=62.50331497192383, tracking_mode='process', on_cloud='N', pue=1.0)\n",
      "[codecarbon INFO @ 13:44:19] 0.002871 g.CO2eq/s mean an estimation of 90.5497513825108 kg.CO2eq/year\n",
      "[codecarbon DEBUG @ 13:44:19] last_duration=14.96939723900141\n",
      "------------------------\n"
     ]
    },
    {
     "name": "stdout",
     "output_type": "stream",
     "text": [
      "[467/1000] ./test/pdf/965.pdf\n"
     ]
    },
    {
     "name": "stderr",
     "output_type": "stream",
     "text": [
      "[codecarbon INFO @ 13:44:33] Energy consumed for RAM : 0.000220 kWh. RAM Power : 0.08855009078979492 W\n",
      "[codecarbon DEBUG @ 13:44:34] RAM : 0.09 W during 14.97 s [measurement time: 0.0137]\n",
      "[codecarbon INFO @ 13:44:34] Energy consumed for all CPUs : 0.106395 kWh. Total CPU Power : 42.5 W\n",
      "[codecarbon DEBUG @ 13:44:34] CPU : 42.50 W during 14.99 s [measurement time: 0.0004]\n",
      "[codecarbon INFO @ 13:44:34] Energy consumed for all GPUs : 0.034744 kWh. Total GPU Power : 16.29941242396346 W\n",
      "[codecarbon DEBUG @ 13:44:34] GPU : 16.30 W during 14.99 s [measurement time: 0.0030]\n",
      "[codecarbon INFO @ 13:44:34] 0.141359 kWh of electricity used since the beginning.\n",
      "[codecarbon DEBUG @ 13:44:34] last_duration=14.971968533998734\n",
      "------------------------\n",
      "[codecarbon INFO @ 13:44:48] Energy consumed for RAM : 0.000221 kWh. RAM Power : 0.08855009078979492 W\n",
      "[codecarbon DEBUG @ 13:44:49] RAM : 0.09 W during 14.98 s [measurement time: 0.0127]\n",
      "[codecarbon INFO @ 13:44:49] Energy consumed for all CPUs : 0.106572 kWh. Total CPU Power : 42.5 W\n",
      "[codecarbon DEBUG @ 13:44:49] CPU : 42.50 W during 15.00 s [measurement time: 0.0003]\n",
      "[codecarbon INFO @ 13:44:49] Energy consumed for all GPUs : 0.034805 kWh. Total GPU Power : 14.81355490739453 W\n",
      "[codecarbon DEBUG @ 13:44:49] GPU : 14.81 W during 15.00 s [measurement time: 0.0064]\n",
      "[codecarbon INFO @ 13:44:49] 0.141598 kWh of electricity used since the beginning.\n",
      "[codecarbon DEBUG @ 13:44:49] last_duration=14.975499789999958\n",
      "------------------------\n"
     ]
    },
    {
     "name": "stdout",
     "output_type": "stream",
     "text": [
      "[468/1000] ./test/pdf/966.pdf\n"
     ]
    },
    {
     "name": "stderr",
     "output_type": "stream",
     "text": [
      "[codecarbon INFO @ 13:45:03] Energy consumed for RAM : 0.000221 kWh. RAM Power : 0.08855009078979492 W\n",
      "[codecarbon DEBUG @ 13:45:04] RAM : 0.09 W during 14.97 s [measurement time: 0.0134]\n",
      "[codecarbon INFO @ 13:45:04] Energy consumed for all CPUs : 0.106749 kWh. Total CPU Power : 42.5 W\n",
      "[codecarbon DEBUG @ 13:45:04] CPU : 42.50 W during 15.00 s [measurement time: 0.0005]\n",
      "[codecarbon INFO @ 13:45:04] Energy consumed for all GPUs : 0.034865 kWh. Total GPU Power : 14.447548548075114 W\n",
      "[codecarbon DEBUG @ 13:45:04] GPU : 14.45 W during 15.00 s [measurement time: 0.0023]\n",
      "[codecarbon INFO @ 13:45:04] 0.141836 kWh of electricity used since the beginning.\n",
      "[codecarbon DEBUG @ 13:45:04] last_duration=14.97233805399992\n",
      "------------------------\n"
     ]
    },
    {
     "name": "stdout",
     "output_type": "stream",
     "text": [
      "[469/1000] ./test/pdf/967.pdf\n"
     ]
    },
    {
     "name": "stderr",
     "output_type": "stream",
     "text": [
      "[codecarbon INFO @ 13:45:18] Energy consumed for RAM : 0.000221 kWh. RAM Power : 0.08855009078979492 W\n",
      "[codecarbon DEBUG @ 13:45:18] RAM : 0.09 W during 14.97 s [measurement time: 0.0056]\n",
      "[codecarbon INFO @ 13:45:18] Energy consumed for all CPUs : 0.106926 kWh. Total CPU Power : 42.5 W\n",
      "[codecarbon DEBUG @ 13:45:18] CPU : 42.50 W during 14.99 s [measurement time: 0.0005]\n",
      "[codecarbon INFO @ 13:45:19] Energy consumed for all GPUs : 0.034932 kWh. Total GPU Power : 15.873086038019405 W\n",
      "[codecarbon DEBUG @ 13:45:19] GPU : 15.87 W during 14.99 s [measurement time: 0.0038]\n",
      "[codecarbon INFO @ 13:45:19] 0.142079 kWh of electricity used since the beginning.\n",
      "[codecarbon DEBUG @ 13:45:19] last_duration=14.973257063000347\n",
      "------------------------\n",
      "[codecarbon INFO @ 13:45:33] Energy consumed for RAM : 0.000222 kWh. RAM Power : 0.08855009078979492 W\n",
      "[codecarbon DEBUG @ 13:45:34] RAM : 0.09 W during 14.98 s [measurement time: 0.0123]\n",
      "[codecarbon INFO @ 13:45:34] Energy consumed for all CPUs : 0.107103 kWh. Total CPU Power : 42.5 W\n",
      "[codecarbon DEBUG @ 13:45:34] CPU : 42.50 W during 15.00 s [measurement time: 0.0003]\n",
      "[codecarbon INFO @ 13:45:34] Energy consumed for all GPUs : 0.034995 kWh. Total GPU Power : 15.123391085688272 W\n",
      "[codecarbon DEBUG @ 13:45:34] GPU : 15.12 W during 15.00 s [measurement time: 0.0029]\n",
      "[codecarbon INFO @ 13:45:34] 0.142319 kWh of electricity used since the beginning.\n",
      "[codecarbon DEBUG @ 13:45:34] last_duration=14.980283839000549\n",
      "------------------------\n"
     ]
    },
    {
     "name": "stdout",
     "output_type": "stream",
     "text": [
      "[470/1000] ./test/pdf/968.pdf\n"
     ]
    },
    {
     "name": "stderr",
     "output_type": "stream",
     "text": [
      "[codecarbon INFO @ 13:45:48] Energy consumed for RAM : 0.000222 kWh. RAM Power : 0.08864164352416992 W\n",
      "[codecarbon DEBUG @ 13:45:49] RAM : 0.09 W during 14.98 s [measurement time: 0.0131]\n",
      "[codecarbon INFO @ 13:45:49] Energy consumed for all CPUs : 0.107280 kWh. Total CPU Power : 42.5 W\n",
      "[codecarbon DEBUG @ 13:45:49] CPU : 42.50 W during 15.00 s [measurement time: 0.0004]\n",
      "[codecarbon INFO @ 13:45:49] Energy consumed for all GPUs : 0.035056 kWh. Total GPU Power : 14.764621602649202 W\n",
      "[codecarbon DEBUG @ 13:45:49] GPU : 14.76 W during 15.00 s [measurement time: 0.0056]\n",
      "[codecarbon INFO @ 13:45:49] 0.142558 kWh of electricity used since the beginning.\n",
      "[codecarbon DEBUG @ 13:45:49] last_duration=14.975999354999658\n",
      "------------------------\n"
     ]
    },
    {
     "name": "stdout",
     "output_type": "stream",
     "text": [
      "[471/1000] ./test/pdf/969.pdf\n"
     ]
    },
    {
     "name": "stderr",
     "output_type": "stream",
     "text": [
      "[codecarbon INFO @ 13:46:03] Energy consumed for RAM : 0.000222 kWh. RAM Power : 0.08864164352416992 W\n",
      "[codecarbon DEBUG @ 13:46:03] RAM : 0.09 W during 14.97 s [measurement time: 0.0054]\n",
      "[codecarbon INFO @ 13:46:03] Energy consumed for all CPUs : 0.107457 kWh. Total CPU Power : 42.5 W\n",
      "[codecarbon DEBUG @ 13:46:03] CPU : 42.50 W during 14.98 s [measurement time: 0.0002]\n",
      "[codecarbon INFO @ 13:46:03] Energy consumed for all GPUs : 0.035119 kWh. Total GPU Power : 15.125503157988142 W\n",
      "[codecarbon DEBUG @ 13:46:03] GPU : 15.13 W during 14.98 s [measurement time: 0.0030]\n",
      "[codecarbon INFO @ 13:46:03] 0.142799 kWh of electricity used since the beginning.\n",
      "[codecarbon DEBUG @ 13:46:03] last_duration=14.97460162599964\n",
      "------------------------\n",
      "[codecarbon INFO @ 13:46:18] Energy consumed for RAM : 0.000223 kWh. RAM Power : 0.08864164352416992 W\n",
      "[codecarbon DEBUG @ 13:46:19] RAM : 0.09 W during 14.99 s [measurement time: 0.0130]\n",
      "[codecarbon INFO @ 13:46:19] Energy consumed for all CPUs : 0.107634 kWh. Total CPU Power : 42.5 W\n",
      "[codecarbon DEBUG @ 13:46:19] CPU : 42.50 W during 15.01 s [measurement time: 0.0005]\n",
      "[codecarbon INFO @ 13:46:19] Energy consumed for all GPUs : 0.035185 kWh. Total GPU Power : 15.731681282223505 W\n",
      "[codecarbon DEBUG @ 13:46:19] GPU : 15.73 W during 15.01 s [measurement time: 0.0040]\n",
      "[codecarbon INFO @ 13:46:19] 0.143042 kWh of electricity used since the beginning.\n",
      "[codecarbon DEBUG @ 13:46:19] We apply an energy mix of 174 g.CO2eq/kWh for Spain\n",
      "[codecarbon DEBUG @ 13:46:19] EmissionsData(timestamp='2025-04-13T13:46:19', project_name='codecarbon', run_id='868e486c-ef2f-47f1-8b33-54ddf9c190fd', experiment_id='5b0fa12a-3dd7-45bb-9766-cc326314d9f1', duration=9120.531210232, emissions=0.024896410536489933, emissions_rate=2.729710579638117e-06, cpu_power=42.5, gpu_power=15.731681282223505, ram_power=0.08864164352416992, cpu_energy=0.10763425075053747, gpu_energy=0.035184641203246006, ram_energy=0.00022282328028652818, energy_consumed=0.14304171523407028, country_name='Spain', country_iso_code='ESP', region=None, cloud_provider='', cloud_region='', os='Linux-6.8.0-57-generic-x86_64-with-glibc2.35', python_version='3.12.9', codecarbon_version='2.8.3', cpu_count=32, cpu_model='13th Gen Intel(R) Core(TM) i9-13900', gpu_count=1, gpu_model='1 x NVIDIA RTX 5000 Ada Generation', longitude=None, latitude=None, ram_total_size=62.50331497192383, tracking_mode='process', on_cloud='N', pue=1.0)\n",
      "[codecarbon INFO @ 13:46:19] 0.002796 g.CO2eq/s mean an estimation of 88.190033177233 kg.CO2eq/year\n",
      "[codecarbon DEBUG @ 13:46:19] last_duration=14.987312618999567\n",
      "------------------------\n"
     ]
    },
    {
     "name": "stdout",
     "output_type": "stream",
     "text": [
      "[472/1000] ./test/pdf/97.pdf\n"
     ]
    },
    {
     "name": "stderr",
     "output_type": "stream",
     "text": [
      "[codecarbon INFO @ 13:46:34] Energy consumed for RAM : 0.000223 kWh. RAM Power : 0.08864164352416992 W\n",
      "[codecarbon DEBUG @ 13:46:34] RAM : 0.09 W during 14.97 s [measurement time: 0.0139]\n",
      "[codecarbon INFO @ 13:46:34] Energy consumed for all CPUs : 0.107811 kWh. Total CPU Power : 42.5 W\n",
      "[codecarbon DEBUG @ 13:46:34] CPU : 42.50 W during 14.99 s [measurement time: 0.0005]\n",
      "[codecarbon INFO @ 13:46:34] Energy consumed for all GPUs : 0.035232 kWh. Total GPU Power : 11.386896764174583 W\n",
      "[codecarbon DEBUG @ 13:46:34] GPU : 11.39 W during 15.00 s [measurement time: 0.0022]\n",
      "[codecarbon INFO @ 13:46:34] 0.143267 kWh of electricity used since the beginning.\n",
      "[codecarbon DEBUG @ 13:46:34] last_duration=14.974285959000554\n",
      "------------------------\n",
      "[codecarbon INFO @ 13:46:49] Energy consumed for RAM : 0.000224 kWh. RAM Power : 0.08864164352416992 W\n",
      "[codecarbon DEBUG @ 13:46:49] RAM : 0.09 W during 14.98 s [measurement time: 0.0135]\n",
      "[codecarbon INFO @ 13:46:49] Energy consumed for all CPUs : 0.107988 kWh. Total CPU Power : 42.5 W\n",
      "[codecarbon DEBUG @ 13:46:49] CPU : 42.50 W during 15.00 s [measurement time: 0.0009]\n",
      "[codecarbon INFO @ 13:46:49] Energy consumed for all GPUs : 0.035288 kWh. Total GPU Power : 13.460968675891838 W\n",
      "[codecarbon DEBUG @ 13:46:49] GPU : 13.46 W during 15.00 s [measurement time: 0.0029]\n",
      "[codecarbon INFO @ 13:46:49] 0.143500 kWh of electricity used since the beginning.\n",
      "[codecarbon DEBUG @ 13:46:49] last_duration=14.976283541000157\n",
      "------------------------\n"
     ]
    },
    {
     "name": "stdout",
     "output_type": "stream",
     "text": [
      "[473/1000] ./test/pdf/970.pdf\n"
     ]
    },
    {
     "name": "stderr",
     "output_type": "stream",
     "text": [
      "[codecarbon INFO @ 13:47:04] Energy consumed for RAM : 0.000224 kWh. RAM Power : 0.08864164352416992 W\n",
      "[codecarbon DEBUG @ 13:47:04] RAM : 0.09 W during 14.97 s [measurement time: 0.0142]\n",
      "[codecarbon INFO @ 13:47:04] Energy consumed for all CPUs : 0.108165 kWh. Total CPU Power : 42.5 W\n",
      "[codecarbon DEBUG @ 13:47:04] CPU : 42.50 W during 15.00 s [measurement time: 0.0004]\n",
      "[codecarbon INFO @ 13:47:04] Energy consumed for all GPUs : 0.035342 kWh. Total GPU Power : 12.833456791356575 W\n",
      "[codecarbon DEBUG @ 13:47:04] GPU : 12.83 W during 15.00 s [measurement time: 0.0021]\n",
      "[codecarbon INFO @ 13:47:04] 0.143731 kWh of electricity used since the beginning.\n",
      "[codecarbon DEBUG @ 13:47:04] last_duration=14.973384840001017\n",
      "------------------------\n",
      "[codecarbon INFO @ 13:47:19] Energy consumed for RAM : 0.000224 kWh. RAM Power : 0.08864164352416992 W\n",
      "[codecarbon DEBUG @ 13:47:19] RAM : 0.09 W during 14.97 s [measurement time: 0.0156]\n",
      "[codecarbon INFO @ 13:47:19] Energy consumed for all CPUs : 0.108342 kWh. Total CPU Power : 42.5 W\n",
      "[codecarbon DEBUG @ 13:47:19] CPU : 42.50 W during 15.00 s [measurement time: 0.0004]\n",
      "[codecarbon INFO @ 13:47:19] Energy consumed for all GPUs : 0.035399 kWh. Total GPU Power : 13.7339468658388 W\n",
      "[codecarbon DEBUG @ 13:47:19] GPU : 13.73 W during 15.00 s [measurement time: 0.0055]\n",
      "[codecarbon INFO @ 13:47:19] 0.143966 kWh of electricity used since the beginning.\n",
      "[codecarbon DEBUG @ 13:47:19] last_duration=14.972486194999874\n",
      "------------------------\n"
     ]
    },
    {
     "name": "stdout",
     "output_type": "stream",
     "text": [
      "[474/1000] ./test/pdf/971.pdf\n"
     ]
    },
    {
     "name": "stderr",
     "output_type": "stream",
     "text": [
      "[codecarbon INFO @ 13:47:34] Energy consumed for RAM : 0.000225 kWh. RAM Power : 0.08864164352416992 W\n",
      "[codecarbon DEBUG @ 13:47:34] RAM : 0.09 W during 14.97 s [measurement time: 0.0113]\n",
      "[codecarbon INFO @ 13:47:34] Energy consumed for all CPUs : 0.108519 kWh. Total CPU Power : 42.5 W\n",
      "[codecarbon DEBUG @ 13:47:34] CPU : 42.50 W during 14.98 s [measurement time: 0.0004]\n",
      "[codecarbon INFO @ 13:47:34] Energy consumed for all GPUs : 0.035465 kWh. Total GPU Power : 15.896220778584665 W\n",
      "[codecarbon DEBUG @ 13:47:34] GPU : 15.90 W during 14.98 s [measurement time: 0.0025]\n",
      "[codecarbon INFO @ 13:47:34] 0.144209 kWh of electricity used since the beginning.\n",
      "[codecarbon DEBUG @ 13:47:34] last_duration=14.967236780999883\n",
      "------------------------\n"
     ]
    },
    {
     "name": "stdout",
     "output_type": "stream",
     "text": [
      "[475/1000] ./test/pdf/972.pdf\n"
     ]
    },
    {
     "name": "stderr",
     "output_type": "stream",
     "text": [
      "[codecarbon INFO @ 13:47:49] Energy consumed for RAM : 0.000225 kWh. RAM Power : 0.08864164352416992 W\n",
      "[codecarbon DEBUG @ 13:47:49] RAM : 0.09 W during 14.98 s [measurement time: 0.0141]\n",
      "[codecarbon INFO @ 13:47:49] Energy consumed for all CPUs : 0.108696 kWh. Total CPU Power : 42.5 W\n",
      "[codecarbon DEBUG @ 13:47:49] CPU : 42.50 W during 15.00 s [measurement time: 0.0002]\n",
      "[codecarbon INFO @ 13:47:49] Energy consumed for all GPUs : 0.035531 kWh. Total GPU Power : 15.845494232461531 W\n",
      "[codecarbon DEBUG @ 13:47:49] GPU : 15.85 W during 15.00 s [measurement time: 0.0069]\n",
      "[codecarbon INFO @ 13:47:49] 0.144453 kWh of electricity used since the beginning.\n",
      "[codecarbon DEBUG @ 13:47:49] last_duration=14.981389196000237\n",
      "------------------------\n",
      "[codecarbon INFO @ 13:48:04] Energy consumed for RAM : 0.000225 kWh. RAM Power : 0.08864164352416992 W\n",
      "[codecarbon DEBUG @ 13:48:04] RAM : 0.09 W during 14.97 s [measurement time: 0.0100]\n",
      "[codecarbon INFO @ 13:48:04] Energy consumed for all CPUs : 0.108873 kWh. Total CPU Power : 42.5 W\n",
      "[codecarbon DEBUG @ 13:48:04] CPU : 42.50 W during 14.99 s [measurement time: 0.0004]\n",
      "[codecarbon INFO @ 13:48:04] Energy consumed for all GPUs : 0.035599 kWh. Total GPU Power : 16.383933145161954 W\n",
      "[codecarbon DEBUG @ 13:48:04] GPU : 16.38 W during 14.99 s [measurement time: 0.0045]\n",
      "[codecarbon INFO @ 13:48:04] 0.144698 kWh of electricity used since the beginning.\n",
      "[codecarbon DEBUG @ 13:48:04] last_duration=14.970025791999433\n",
      "------------------------\n"
     ]
    },
    {
     "name": "stdout",
     "output_type": "stream",
     "text": [
      "[476/1000] ./test/pdf/973.pdf\n",
      "[477/1000] ./test/pdf/974.pdf\n"
     ]
    },
    {
     "name": "stderr",
     "output_type": "stream",
     "text": [
      "[codecarbon INFO @ 13:48:19] Energy consumed for RAM : 0.000226 kWh. RAM Power : 0.08864164352416992 W\n",
      "[codecarbon DEBUG @ 13:48:19] RAM : 0.09 W during 14.98 s [measurement time: 0.0120]\n",
      "[codecarbon INFO @ 13:48:19] Energy consumed for all CPUs : 0.109050 kWh. Total CPU Power : 42.5 W\n",
      "[codecarbon DEBUG @ 13:48:19] CPU : 42.50 W during 15.00 s [measurement time: 0.0006]\n",
      "[codecarbon INFO @ 13:48:19] Energy consumed for all GPUs : 0.035671 kWh. Total GPU Power : 17.141217780126098 W\n",
      "[codecarbon DEBUG @ 13:48:19] GPU : 17.14 W during 15.00 s [measurement time: 0.0072]\n",
      "[codecarbon INFO @ 13:48:19] 0.144947 kWh of electricity used since the beginning.\n",
      "[codecarbon DEBUG @ 13:48:19] We apply an energy mix of 174 g.CO2eq/kWh for Spain\n",
      "[codecarbon DEBUG @ 13:48:19] EmissionsData(timestamp='2025-04-13T13:48:19', project_name='codecarbon', run_id='868e486c-ef2f-47f1-8b33-54ddf9c190fd', experiment_id='5b0fa12a-3dd7-45bb-9766-cc326314d9f1', duration=9240.54283363, emissions=0.02522801999900893, emissions_rate=2.7301448035275765e-06, cpu_power=42.5, gpu_power=17.141217780126098, ram_power=0.08864164352416992, cpu_energy=0.10905049612659232, gpu_energy=0.035670700203204, ram_energy=0.00022577292621573495, energy_consumed=0.14494696925601222, country_name='Spain', country_iso_code='ESP', region=None, cloud_provider='', cloud_region='', os='Linux-6.8.0-57-generic-x86_64-with-glibc2.35', python_version='3.12.9', codecarbon_version='2.8.3', cpu_count=32, cpu_model='13th Gen Intel(R) Core(TM) i9-13900', gpu_count=1, gpu_model='1 x NVIDIA RTX 5000 Ada Generation', longitude=None, latitude=None, ram_total_size=62.50331497192383, tracking_mode='process', on_cloud='N', pue=1.0)\n",
      "[codecarbon INFO @ 13:48:19] 0.002763 g.CO2eq/s mean an estimation of 87.13852636855019 kg.CO2eq/year\n",
      "[codecarbon DEBUG @ 13:48:19] last_duration=14.978685480000422\n",
      "------------------------\n"
     ]
    },
    {
     "name": "stdout",
     "output_type": "stream",
     "text": [
      "[478/1000] ./test/pdf/975.pdf\n"
     ]
    },
    {
     "name": "stderr",
     "output_type": "stream",
     "text": [
      "[codecarbon INFO @ 13:48:34] Energy consumed for RAM : 0.000226 kWh. RAM Power : 0.08864164352416992 W\n",
      "[codecarbon DEBUG @ 13:48:34] RAM : 0.09 W during 14.97 s [measurement time: 0.0114]\n",
      "[codecarbon INFO @ 13:48:34] Energy consumed for all CPUs : 0.109227 kWh. Total CPU Power : 42.5 W\n",
      "[codecarbon DEBUG @ 13:48:34] CPU : 42.50 W during 14.99 s [measurement time: 0.0005]\n",
      "[codecarbon INFO @ 13:48:34] Energy consumed for all GPUs : 0.035728 kWh. Total GPU Power : 13.878977747193975 W\n",
      "[codecarbon DEBUG @ 13:48:34] GPU : 13.88 W during 14.99 s [measurement time: 0.0050]\n",
      "[codecarbon INFO @ 13:48:34] 0.145182 kWh of electricity used since the beginning.\n",
      "[codecarbon DEBUG @ 13:48:34] last_duration=14.968490152999948\n",
      "------------------------\n"
     ]
    },
    {
     "name": "stdout",
     "output_type": "stream",
     "text": [
      "[479/1000] ./test/pdf/976.pdf\n"
     ]
    },
    {
     "name": "stderr",
     "output_type": "stream",
     "text": [
      "[codecarbon INFO @ 13:48:49] Energy consumed for RAM : 0.000227 kWh. RAM Power : 0.08864164352416992 W\n",
      "[codecarbon DEBUG @ 13:48:49] RAM : 0.09 W during 14.97 s [measurement time: 0.0122]\n",
      "[codecarbon INFO @ 13:48:49] Energy consumed for all CPUs : 0.109405 kWh. Total CPU Power : 42.5 W\n",
      "[codecarbon DEBUG @ 13:48:49] CPU : 42.50 W during 15.00 s [measurement time: 0.0010]\n",
      "[codecarbon INFO @ 13:48:49] Energy consumed for all GPUs : 0.035797 kWh. Total GPU Power : 16.524350546405206 W\n",
      "[codecarbon DEBUG @ 13:48:49] GPU : 16.52 W during 15.00 s [measurement time: 0.0028]\n",
      "[codecarbon INFO @ 13:48:49] 0.145428 kWh of electricity used since the beginning.\n",
      "[codecarbon DEBUG @ 13:48:49] last_duration=14.973917064000489\n",
      "------------------------\n"
     ]
    },
    {
     "name": "stdout",
     "output_type": "stream",
     "text": [
      "[480/1000] ./test/pdf/977.pdf\n"
     ]
    },
    {
     "name": "stderr",
     "output_type": "stream",
     "text": [
      "[codecarbon INFO @ 13:49:04] Energy consumed for RAM : 0.000227 kWh. RAM Power : 0.08864164352416992 W\n",
      "[codecarbon DEBUG @ 13:49:04] RAM : 0.09 W during 14.97 s [measurement time: 0.0098]\n",
      "[codecarbon INFO @ 13:49:04] Energy consumed for all CPUs : 0.109581 kWh. Total CPU Power : 42.5 W\n",
      "[codecarbon DEBUG @ 13:49:04] CPU : 42.50 W during 14.99 s [measurement time: 0.0003]\n",
      "[codecarbon INFO @ 13:49:04] Energy consumed for all GPUs : 0.035866 kWh. Total GPU Power : 16.50696219630577 W\n",
      "[codecarbon DEBUG @ 13:49:04] GPU : 16.51 W during 14.99 s [measurement time: 0.0031]\n",
      "[codecarbon INFO @ 13:49:04] 0.145674 kWh of electricity used since the beginning.\n",
      "[codecarbon DEBUG @ 13:49:04] last_duration=14.970728333000807\n",
      "------------------------\n"
     ]
    },
    {
     "name": "stdout",
     "output_type": "stream",
     "text": [
      "[481/1000] ./test/pdf/978.pdf\n"
     ]
    },
    {
     "name": "stderr",
     "output_type": "stream",
     "text": [
      "[codecarbon INFO @ 13:49:19] Energy consumed for RAM : 0.000227 kWh. RAM Power : 0.08864164352416992 W\n",
      "[codecarbon DEBUG @ 13:49:19] RAM : 0.09 W during 14.98 s [measurement time: 0.0141]\n",
      "[codecarbon INFO @ 13:49:19] Energy consumed for all CPUs : 0.109759 kWh. Total CPU Power : 42.5 W\n",
      "[codecarbon DEBUG @ 13:49:19] CPU : 42.50 W during 15.00 s [measurement time: 0.0004]\n",
      "[codecarbon INFO @ 13:49:19] Energy consumed for all GPUs : 0.035932 kWh. Total GPU Power : 15.77710903581241 W\n",
      "[codecarbon DEBUG @ 13:49:19] GPU : 15.78 W during 15.00 s [measurement time: 0.0090]\n",
      "[codecarbon INFO @ 13:49:19] 0.145918 kWh of electricity used since the beginning.\n",
      "[codecarbon DEBUG @ 13:49:19] last_duration=14.977532765999058\n",
      "------------------------\n"
     ]
    },
    {
     "name": "stdout",
     "output_type": "stream",
     "text": [
      "[482/1000] ./test/pdf/979.pdf\n"
     ]
    },
    {
     "name": "stderr",
     "output_type": "stream",
     "text": [
      "[codecarbon INFO @ 13:49:34] Energy consumed for RAM : 0.000228 kWh. RAM Power : 0.08864164352416992 W\n",
      "[codecarbon DEBUG @ 13:49:34] RAM : 0.09 W during 14.97 s [measurement time: 0.0143]\n",
      "[codecarbon INFO @ 13:49:34] Energy consumed for all CPUs : 0.109936 kWh. Total CPU Power : 42.5 W\n",
      "[codecarbon DEBUG @ 13:49:34] CPU : 42.50 W during 15.00 s [measurement time: 0.0008]\n",
      "[codecarbon INFO @ 13:49:34] Energy consumed for all GPUs : 0.036003 kWh. Total GPU Power : 17.180518027785638 W\n",
      "[codecarbon DEBUG @ 13:49:34] GPU : 17.18 W during 15.00 s [measurement time: 0.0031]\n",
      "[codecarbon INFO @ 13:49:34] 0.146167 kWh of electricity used since the beginning.\n",
      "[codecarbon DEBUG @ 13:49:34] last_duration=14.967947080000158\n",
      "------------------------\n"
     ]
    },
    {
     "name": "stdout",
     "output_type": "stream",
     "text": [
      "[483/1000] ./test/pdf/98.pdf\n"
     ]
    },
    {
     "name": "stderr",
     "output_type": "stream",
     "text": [
      "[codecarbon INFO @ 13:49:49] Energy consumed for RAM : 0.000228 kWh. RAM Power : 0.08864164352416992 W\n",
      "[codecarbon DEBUG @ 13:49:49] RAM : 0.09 W during 14.97 s [measurement time: 0.0106]\n",
      "[codecarbon INFO @ 13:49:49] Energy consumed for all CPUs : 0.110112 kWh. Total CPU Power : 42.5 W\n",
      "[codecarbon DEBUG @ 13:49:49] CPU : 42.50 W during 14.99 s [measurement time: 0.0004]\n",
      "[codecarbon INFO @ 13:49:49] Energy consumed for all GPUs : 0.036065 kWh. Total GPU Power : 14.750620076056098 W\n",
      "[codecarbon DEBUG @ 13:49:49] GPU : 14.75 W during 14.99 s [measurement time: 0.0037]\n",
      "[codecarbon INFO @ 13:49:49] 0.146405 kWh of electricity used since the beginning.\n",
      "[codecarbon DEBUG @ 13:49:49] last_duration=14.967935362001299\n",
      "------------------------\n"
     ]
    },
    {
     "name": "stdout",
     "output_type": "stream",
     "text": [
      "[484/1000] ./test/pdf/980.pdf\n"
     ]
    },
    {
     "name": "stderr",
     "output_type": "stream",
     "text": [
      "[codecarbon INFO @ 13:50:04] Energy consumed for RAM : 0.000228 kWh. RAM Power : 0.08864164352416992 W\n",
      "[codecarbon DEBUG @ 13:50:04] RAM : 0.09 W during 14.98 s [measurement time: 0.0075]\n",
      "[codecarbon INFO @ 13:50:04] Energy consumed for all CPUs : 0.110289 kWh. Total CPU Power : 42.5 W\n",
      "[codecarbon DEBUG @ 13:50:04] CPU : 42.50 W during 14.99 s [measurement time: 0.0004]\n",
      "[codecarbon INFO @ 13:50:04] Energy consumed for all GPUs : 0.036130 kWh. Total GPU Power : 15.600559713348733 W\n",
      "[codecarbon DEBUG @ 13:50:04] GPU : 15.60 W during 14.99 s [measurement time: 0.0054]\n",
      "[codecarbon INFO @ 13:50:04] 0.146648 kWh of electricity used since the beginning.\n",
      "[codecarbon DEBUG @ 13:50:04] last_duration=14.97791217700069\n",
      "------------------------\n",
      "[codecarbon INFO @ 13:50:19] Energy consumed for RAM : 0.000229 kWh. RAM Power : 0.08864164352416992 W\n",
      "[codecarbon DEBUG @ 13:50:19] RAM : 0.09 W during 14.98 s [measurement time: 0.0139]\n",
      "[codecarbon INFO @ 13:50:19] Energy consumed for all CPUs : 0.110467 kWh. Total CPU Power : 42.5 W\n",
      "[codecarbon DEBUG @ 13:50:19] CPU : 42.50 W during 15.00 s [measurement time: 0.0008]\n",
      "[codecarbon INFO @ 13:50:19] Energy consumed for all GPUs : 0.036190 kWh. Total GPU Power : 14.509967297588123 W\n",
      "[codecarbon DEBUG @ 13:50:19] GPU : 14.51 W during 15.00 s [measurement time: 0.0024]\n",
      "[codecarbon INFO @ 13:50:19] 0.146886 kWh of electricity used since the beginning.\n",
      "[codecarbon DEBUG @ 13:50:19] We apply an energy mix of 174 g.CO2eq/kWh for Spain\n",
      "[codecarbon DEBUG @ 13:50:19] EmissionsData(timestamp='2025-04-13T13:50:19', project_name='codecarbon', run_id='868e486c-ef2f-47f1-8b33-54ddf9c190fd', experiment_id='5b0fa12a-3dd7-45bb-9766-cc326314d9f1', duration=9360.540295185, emissions=0.025565422534545263, emissions_rate=2.7311909065437118e-06, cpu_power=42.5, gpu_power=14.509967297588123, ram_power=0.08864164352416992, cpu_energy=0.11046656117933817, gpu_energy=0.036190223674378005, ram_energy=0.00022872238296998436, energy_consumed=0.14688550723668636, country_name='Spain', country_iso_code='ESP', region=None, cloud_provider='', cloud_region='', os='Linux-6.8.0-57-generic-x86_64-with-glibc2.35', python_version='3.12.9', codecarbon_version='2.8.3', cpu_count=32, cpu_model='13th Gen Intel(R) Core(TM) i9-13900', gpu_count=1, gpu_model='1 x NVIDIA RTX 5000 Ada Generation', longitude=None, latitude=None, ram_total_size=62.50331497192383, tracking_mode='process', on_cloud='N', pue=1.0)\n",
      "[codecarbon INFO @ 13:50:19] 0.002812 g.CO2eq/s mean an estimation of 88.67126206496401 kg.CO2eq/year\n",
      "[codecarbon DEBUG @ 13:50:19] last_duration=14.981642413000372\n",
      "------------------------\n"
     ]
    },
    {
     "name": "stdout",
     "output_type": "stream",
     "text": [
      "[485/1000] ./test/pdf/981.pdf\n",
      "[486/1000] ./test/pdf/982.pdf\n"
     ]
    },
    {
     "name": "stderr",
     "output_type": "stream",
     "text": [
      "[codecarbon INFO @ 13:50:34] Energy consumed for RAM : 0.000229 kWh. RAM Power : 0.08864164352416992 W\n",
      "[codecarbon DEBUG @ 13:50:34] RAM : 0.09 W during 14.98 s [measurement time: 0.0117]\n",
      "[codecarbon INFO @ 13:50:34] Energy consumed for all CPUs : 0.110644 kWh. Total CPU Power : 42.5 W\n",
      "[codecarbon DEBUG @ 13:50:34] CPU : 42.50 W during 15.00 s [measurement time: 0.0004]\n",
      "[codecarbon INFO @ 13:50:34] Energy consumed for all GPUs : 0.036248 kWh. Total GPU Power : 13.839703330035864 W\n",
      "[codecarbon DEBUG @ 13:50:34] GPU : 13.84 W during 15.00 s [measurement time: 0.0024]\n",
      "[codecarbon INFO @ 13:50:34] 0.147121 kWh of electricity used since the beginning.\n",
      "[codecarbon DEBUG @ 13:50:34] last_duration=14.976739985000677\n",
      "------------------------\n"
     ]
    },
    {
     "name": "stdout",
     "output_type": "stream",
     "text": [
      "[487/1000] ./test/pdf/983.pdf\n"
     ]
    },
    {
     "name": "stderr",
     "output_type": "stream",
     "text": [
      "[codecarbon INFO @ 13:50:49] Energy consumed for RAM : 0.000229 kWh. RAM Power : 0.08864164352416992 W\n",
      "[codecarbon DEBUG @ 13:50:49] RAM : 0.09 W during 14.98 s [measurement time: 0.0126]\n",
      "[codecarbon INFO @ 13:50:49] Energy consumed for all CPUs : 0.110821 kWh. Total CPU Power : 42.5 W\n",
      "[codecarbon DEBUG @ 13:50:49] CPU : 42.50 W during 15.00 s [measurement time: 0.0005]\n",
      "[codecarbon INFO @ 13:50:49] Energy consumed for all GPUs : 0.036302 kWh. Total GPU Power : 13.10697242553922 W\n",
      "[codecarbon DEBUG @ 13:50:49] GPU : 13.11 W during 15.00 s [measurement time: 0.0031]\n",
      "[codecarbon INFO @ 13:50:49] 0.147353 kWh of electricity used since the beginning.\n",
      "[codecarbon DEBUG @ 13:50:49] last_duration=14.978545105999729\n",
      "------------------------\n"
     ]
    },
    {
     "name": "stdout",
     "output_type": "stream",
     "text": [
      "[488/1000] ./test/pdf/984.pdf\n"
     ]
    },
    {
     "name": "stderr",
     "output_type": "stream",
     "text": [
      "[codecarbon INFO @ 13:51:04] Energy consumed for RAM : 0.000230 kWh. RAM Power : 0.08864164352416992 W\n",
      "[codecarbon DEBUG @ 13:51:04] RAM : 0.09 W during 14.97 s [measurement time: 0.0107]\n",
      "[codecarbon INFO @ 13:51:04] Energy consumed for all CPUs : 0.110998 kWh. Total CPU Power : 42.5 W\n",
      "[codecarbon DEBUG @ 13:51:04] CPU : 42.50 W during 14.99 s [measurement time: 0.0003]\n",
      "[codecarbon INFO @ 13:51:04] Energy consumed for all GPUs : 0.036362 kWh. Total GPU Power : 14.378890085493193 W\n",
      "[codecarbon DEBUG @ 13:51:04] GPU : 14.38 W during 14.99 s [measurement time: 0.0020]\n",
      "[codecarbon INFO @ 13:51:04] 0.147590 kWh of electricity used since the beginning.\n",
      "[codecarbon DEBUG @ 13:51:04] last_duration=14.973665898000036\n",
      "------------------------\n"
     ]
    },
    {
     "name": "stdout",
     "output_type": "stream",
     "text": [
      "[489/1000] ./test/pdf/985.pdf\n"
     ]
    },
    {
     "name": "stderr",
     "output_type": "stream",
     "text": [
      "[codecarbon INFO @ 13:51:19] Energy consumed for RAM : 0.000230 kWh. RAM Power : 0.08864164352416992 W\n",
      "[codecarbon DEBUG @ 13:51:19] RAM : 0.09 W during 14.98 s [measurement time: 0.0132]\n",
      "[codecarbon INFO @ 13:51:19] Energy consumed for all CPUs : 0.111175 kWh. Total CPU Power : 42.5 W\n",
      "[codecarbon DEBUG @ 13:51:19] CPU : 42.50 W during 15.01 s [measurement time: 0.0003]\n",
      "[codecarbon INFO @ 13:51:19] Energy consumed for all GPUs : 0.036425 kWh. Total GPU Power : 14.975528244463773 W\n",
      "[codecarbon DEBUG @ 13:51:19] GPU : 14.98 W during 15.01 s [measurement time: 0.0048]\n",
      "[codecarbon INFO @ 13:51:19] 0.147830 kWh of electricity used since the beginning.\n",
      "[codecarbon DEBUG @ 13:51:19] last_duration=14.981873214001098\n",
      "------------------------\n"
     ]
    },
    {
     "name": "stdout",
     "output_type": "stream",
     "text": [
      "[490/1000] ./test/pdf/986.pdf\n"
     ]
    },
    {
     "name": "stderr",
     "output_type": "stream",
     "text": [
      "[codecarbon INFO @ 13:51:34] Energy consumed for RAM : 0.000231 kWh. RAM Power : 0.08864164352416992 W\n",
      "[codecarbon DEBUG @ 13:51:34] RAM : 0.09 W during 14.97 s [measurement time: 0.0106]\n",
      "[codecarbon INFO @ 13:51:34] Energy consumed for all CPUs : 0.111352 kWh. Total CPU Power : 42.5 W\n",
      "[codecarbon DEBUG @ 13:51:34] CPU : 42.50 W during 14.99 s [measurement time: 0.0004]\n",
      "[codecarbon INFO @ 13:51:34] Energy consumed for all GPUs : 0.036488 kWh. Total GPU Power : 15.232632390404797 W\n",
      "[codecarbon DEBUG @ 13:51:34] GPU : 15.23 W during 14.99 s [measurement time: 0.0030]\n",
      "[codecarbon INFO @ 13:51:34] 0.148071 kWh of electricity used since the beginning.\n",
      "[codecarbon DEBUG @ 13:51:34] last_duration=14.970817617999273\n",
      "------------------------\n"
     ]
    },
    {
     "name": "stdout",
     "output_type": "stream",
     "text": [
      "[491/1000] ./test/pdf/987.pdf\n"
     ]
    },
    {
     "name": "stderr",
     "output_type": "stream",
     "text": [
      "[codecarbon INFO @ 13:51:49] Energy consumed for RAM : 0.000231 kWh. RAM Power : 0.08864164352416992 W\n",
      "[codecarbon DEBUG @ 13:51:49] RAM : 0.09 W during 14.98 s [measurement time: 0.0153]\n",
      "[codecarbon INFO @ 13:51:49] Energy consumed for all CPUs : 0.111529 kWh. Total CPU Power : 42.5 W\n",
      "[codecarbon DEBUG @ 13:51:49] CPU : 42.50 W during 15.00 s [measurement time: 0.0002]\n",
      "[codecarbon INFO @ 13:51:49] Energy consumed for all GPUs : 0.036553 kWh. Total GPU Power : 15.552938014235576 W\n",
      "[codecarbon DEBUG @ 13:51:49] GPU : 15.55 W during 15.00 s [measurement time: 0.0033]\n",
      "[codecarbon INFO @ 13:51:49] 0.148313 kWh of electricity used since the beginning.\n",
      "[codecarbon DEBUG @ 13:51:49] last_duration=14.978236723000009\n",
      "------------------------\n"
     ]
    },
    {
     "name": "stdout",
     "output_type": "stream",
     "text": [
      "[492/1000] ./test/pdf/988.pdf\n"
     ]
    },
    {
     "name": "stderr",
     "output_type": "stream",
     "text": [
      "[codecarbon INFO @ 13:52:04] Energy consumed for RAM : 0.000231 kWh. RAM Power : 0.08864164352416992 W\n",
      "[codecarbon DEBUG @ 13:52:04] RAM : 0.09 W during 14.97 s [measurement time: 0.0130]\n",
      "[codecarbon INFO @ 13:52:04] Energy consumed for all CPUs : 0.111706 kWh. Total CPU Power : 42.5 W\n",
      "[codecarbon DEBUG @ 13:52:04] CPU : 42.50 W during 14.99 s [measurement time: 0.0003]\n",
      "[codecarbon INFO @ 13:52:04] Energy consumed for all GPUs : 0.036623 kWh. Total GPU Power : 16.834061143936964 W\n",
      "[codecarbon DEBUG @ 13:52:04] GPU : 16.83 W during 14.99 s [measurement time: 0.0134]\n",
      "[codecarbon INFO @ 13:52:04] 0.148560 kWh of electricity used since the beginning.\n",
      "[codecarbon DEBUG @ 13:52:04] last_duration=14.972359151001001\n",
      "------------------------\n",
      "[codecarbon INFO @ 13:52:19] Energy consumed for RAM : 0.000232 kWh. RAM Power : 0.08864164352416992 W\n",
      "[codecarbon DEBUG @ 13:52:19] RAM : 0.09 W during 14.96 s [measurement time: 0.0140]\n",
      "[codecarbon INFO @ 13:52:19] Energy consumed for all CPUs : 0.111883 kWh. Total CPU Power : 42.5 W\n",
      "[codecarbon DEBUG @ 13:52:19] CPU : 42.50 W during 14.99 s [measurement time: 0.0004]\n",
      "[codecarbon INFO @ 13:52:19] Energy consumed for all GPUs : 0.036695 kWh. Total GPU Power : 17.311136473963906 W\n",
      "[codecarbon DEBUG @ 13:52:19] GPU : 17.31 W during 14.99 s [measurement time: 0.0026]\n",
      "[codecarbon INFO @ 13:52:19] 0.148810 kWh of electricity used since the beginning.\n",
      "[codecarbon DEBUG @ 13:52:19] We apply an energy mix of 174 g.CO2eq/kWh for Spain\n",
      "[codecarbon DEBUG @ 13:52:19] EmissionsData(timestamp='2025-04-13T13:52:19', project_name='codecarbon', run_id='868e486c-ef2f-47f1-8b33-54ddf9c190fd', experiment_id='5b0fa12a-3dd7-45bb-9766-cc326314d9f1', duration=9480.547580245, emissions=0.02590032335288345, emissions_rate=2.7319438179766117e-06, cpu_power=42.5, gpu_power=17.311136473963906, ram_power=0.08864164352416992, cpu_energy=0.11188278464035069, gpu_energy=0.03669521491170401, ram_energy=0.00023167211059056653, energy_consumed=0.1488096716626455, country_name='Spain', country_iso_code='ESP', region=None, cloud_provider='', cloud_region='', os='Linux-6.8.0-57-generic-x86_64-with-glibc2.35', python_version='3.12.9', codecarbon_version='2.8.3', cpu_count=32, cpu_model='13th Gen Intel(R) Core(TM) i9-13900', gpu_count=1, gpu_model='1 x NVIDIA RTX 5000 Ada Generation', longitude=None, latitude=None, ram_total_size=62.50331497192383, tracking_mode='process', on_cloud='N', pue=1.0)\n",
      "[codecarbon INFO @ 13:52:19] 0.002791 g.CO2eq/s mean an estimation of 88.0065922817321 kg.CO2eq/year\n",
      "[codecarbon DEBUG @ 13:52:19] last_duration=14.96487118100049\n",
      "------------------------\n"
     ]
    },
    {
     "name": "stdout",
     "output_type": "stream",
     "text": [
      "[493/1000] ./test/pdf/989.pdf\n"
     ]
    },
    {
     "name": "stderr",
     "output_type": "stream",
     "text": [
      "[codecarbon INFO @ 13:52:34] Energy consumed for RAM : 0.000232 kWh. RAM Power : 0.08864164352416992 W\n",
      "[codecarbon DEBUG @ 13:52:34] RAM : 0.09 W during 14.97 s [measurement time: 0.0113]\n",
      "[codecarbon INFO @ 13:52:34] Energy consumed for all CPUs : 0.112060 kWh. Total CPU Power : 42.5 W\n",
      "[codecarbon DEBUG @ 13:52:34] CPU : 42.50 W during 14.99 s [measurement time: 0.0006]\n",
      "[codecarbon INFO @ 13:52:34] Energy consumed for all GPUs : 0.036767 kWh. Total GPU Power : 17.18997069370294 W\n",
      "[codecarbon DEBUG @ 13:52:34] GPU : 17.19 W during 14.99 s [measurement time: 0.0026]\n",
      "[codecarbon INFO @ 13:52:34] 0.149059 kWh of electricity used since the beginning.\n",
      "[codecarbon DEBUG @ 13:52:34] last_duration=14.974869566000052\n",
      "------------------------\n"
     ]
    },
    {
     "name": "stdout",
     "output_type": "stream",
     "text": [
      "[494/1000] ./test/pdf/99.pdf\n"
     ]
    },
    {
     "name": "stderr",
     "output_type": "stream",
     "text": [
      "[codecarbon INFO @ 13:52:49] Energy consumed for RAM : 0.000232 kWh. RAM Power : 0.08864164352416992 W\n",
      "[codecarbon DEBUG @ 13:52:49] RAM : 0.09 W during 14.98 s [measurement time: 0.0137]\n",
      "[codecarbon INFO @ 13:52:49] Energy consumed for all CPUs : 0.112237 kWh. Total CPU Power : 42.5 W\n",
      "[codecarbon DEBUG @ 13:52:49] CPU : 42.50 W during 15.01 s [measurement time: 0.0005]\n",
      "[codecarbon INFO @ 13:52:49] Energy consumed for all GPUs : 0.036837 kWh. Total GPU Power : 16.72524273822833 W\n",
      "[codecarbon DEBUG @ 13:52:49] GPU : 16.73 W during 15.01 s [measurement time: 0.0049]\n",
      "[codecarbon INFO @ 13:52:49] 0.149306 kWh of electricity used since the beginning.\n",
      "[codecarbon DEBUG @ 13:52:49] last_duration=14.978858878999745\n",
      "------------------------\n",
      "[codecarbon INFO @ 13:53:04] Energy consumed for RAM : 0.000233 kWh. RAM Power : 0.08864164352416992 W\n",
      "[codecarbon DEBUG @ 13:53:04] RAM : 0.09 W during 14.97 s [measurement time: 0.0159]\n",
      "[codecarbon INFO @ 13:53:04] Energy consumed for all CPUs : 0.112414 kWh. Total CPU Power : 42.5 W\n",
      "[codecarbon DEBUG @ 13:53:04] CPU : 42.50 W during 14.99 s [measurement time: 0.0004]\n",
      "[codecarbon INFO @ 13:53:04] Energy consumed for all GPUs : 0.036910 kWh. Total GPU Power : 17.685345083592374 W\n",
      "[codecarbon DEBUG @ 13:53:04] GPU : 17.69 W during 15.00 s [measurement time: 0.0042]\n",
      "[codecarbon INFO @ 13:53:04] 0.149557 kWh of electricity used since the beginning.\n",
      "[codecarbon DEBUG @ 13:53:04] last_duration=14.967768604999947\n",
      "------------------------\n"
     ]
    },
    {
     "name": "stdout",
     "output_type": "stream",
     "text": [
      "[495/1000] ./test/pdf/990.pdf\n"
     ]
    },
    {
     "name": "stderr",
     "output_type": "stream",
     "text": [
      "[codecarbon INFO @ 13:53:19] Energy consumed for RAM : 0.000233 kWh. RAM Power : 0.08864164352416992 W\n",
      "[codecarbon DEBUG @ 13:53:19] RAM : 0.09 W during 14.97 s [measurement time: 0.0127]\n",
      "[codecarbon INFO @ 13:53:19] Energy consumed for all CPUs : 0.112591 kWh. Total CPU Power : 42.5 W\n",
      "[codecarbon DEBUG @ 13:53:19] CPU : 42.50 W during 14.99 s [measurement time: 0.0004]\n",
      "[codecarbon INFO @ 13:53:19] Energy consumed for all GPUs : 0.036999 kWh. Total GPU Power : 21.320669634814237 W\n",
      "[codecarbon DEBUG @ 13:53:19] GPU : 21.32 W during 14.99 s [measurement time: 0.0016]\n",
      "[codecarbon INFO @ 13:53:19] 0.149823 kWh of electricity used since the beginning.\n",
      "[codecarbon DEBUG @ 13:53:19] last_duration=14.968024444999173\n",
      "------------------------\n"
     ]
    },
    {
     "name": "stdout",
     "output_type": "stream",
     "text": [
      "[496/1000] ./test/pdf/991.pdf\n"
     ]
    },
    {
     "name": "stderr",
     "output_type": "stream",
     "text": [
      "[codecarbon INFO @ 13:53:34] Energy consumed for RAM : 0.000234 kWh. RAM Power : 0.08864164352416992 W\n",
      "[codecarbon DEBUG @ 13:53:34] RAM : 0.09 W during 14.98 s [measurement time: 0.0082]\n",
      "[codecarbon INFO @ 13:53:34] Energy consumed for all CPUs : 0.112768 kWh. Total CPU Power : 42.5 W\n",
      "[codecarbon DEBUG @ 13:53:34] CPU : 42.50 W during 14.99 s [measurement time: 0.0004]\n",
      "[codecarbon INFO @ 13:53:34] Energy consumed for all GPUs : 0.037101 kWh. Total GPU Power : 24.379443224563314 W\n",
      "[codecarbon DEBUG @ 13:53:34] GPU : 24.38 W during 14.99 s [measurement time: 0.0086]\n",
      "[codecarbon INFO @ 13:53:34] 0.150102 kWh of electricity used since the beginning.\n",
      "[codecarbon DEBUG @ 13:53:34] last_duration=14.977026239001134\n",
      "------------------------\n"
     ]
    },
    {
     "name": "stdout",
     "output_type": "stream",
     "text": [
      "[497/1000] ./test/pdf/992.pdf\n"
     ]
    },
    {
     "name": "stderr",
     "output_type": "stream",
     "text": [
      "[codecarbon INFO @ 13:53:49] Energy consumed for RAM : 0.000234 kWh. RAM Power : 0.08864164352416992 W\n",
      "[codecarbon DEBUG @ 13:53:49] RAM : 0.09 W during 14.97 s [measurement time: 0.0133]\n",
      "[codecarbon INFO @ 13:53:49] Energy consumed for all CPUs : 0.112945 kWh. Total CPU Power : 42.5 W\n",
      "[codecarbon DEBUG @ 13:53:49] CPU : 42.50 W during 15.00 s [measurement time: 0.0003]\n",
      "[codecarbon INFO @ 13:53:49] Energy consumed for all GPUs : 0.037166 kWh. Total GPU Power : 15.728106273404558 W\n",
      "[codecarbon DEBUG @ 13:53:49] GPU : 15.73 W during 15.00 s [measurement time: 0.0035]\n",
      "[codecarbon INFO @ 13:53:49] 0.150345 kWh of electricity used since the beginning.\n",
      "[codecarbon DEBUG @ 13:53:49] last_duration=14.974720304000584\n",
      "------------------------\n"
     ]
    },
    {
     "name": "stdout",
     "output_type": "stream",
     "text": [
      "[498/1000] ./test/pdf/993.pdf\n"
     ]
    },
    {
     "name": "stderr",
     "output_type": "stream",
     "text": [
      "[codecarbon INFO @ 13:54:04] Energy consumed for RAM : 0.000234 kWh. RAM Power : 0.08864164352416992 W\n",
      "[codecarbon DEBUG @ 13:54:04] RAM : 0.09 W during 14.98 s [measurement time: 0.0065]\n",
      "[codecarbon INFO @ 13:54:04] Energy consumed for all CPUs : 0.113122 kWh. Total CPU Power : 42.5 W\n",
      "[codecarbon DEBUG @ 13:54:04] CPU : 42.50 W during 14.99 s [measurement time: 0.0002]\n",
      "[codecarbon INFO @ 13:54:04] Energy consumed for all GPUs : 0.037230 kWh. Total GPU Power : 15.482711265153643 W\n",
      "[codecarbon DEBUG @ 13:54:04] GPU : 15.48 W during 14.99 s [measurement time: 0.0030]\n",
      "[codecarbon INFO @ 13:54:04] 0.150587 kWh of electricity used since the beginning.\n",
      "[codecarbon DEBUG @ 13:54:04] last_duration=14.975175751000279\n",
      "------------------------\n"
     ]
    },
    {
     "name": "stdout",
     "output_type": "stream",
     "text": [
      "[499/1000] ./test/pdf/994.pdf\n"
     ]
    },
    {
     "name": "stderr",
     "output_type": "stream",
     "text": [
      "[codecarbon INFO @ 13:54:19] Energy consumed for RAM : 0.000235 kWh. RAM Power : 0.08864164352416992 W\n",
      "[codecarbon DEBUG @ 13:54:19] RAM : 0.09 W during 14.99 s [measurement time: 0.0107]\n",
      "[codecarbon INFO @ 13:54:19] Energy consumed for all CPUs : 0.113299 kWh. Total CPU Power : 42.5 W\n",
      "[codecarbon DEBUG @ 13:54:19] CPU : 42.50 W during 15.00 s [measurement time: 0.0005]\n",
      "[codecarbon INFO @ 13:54:19] Energy consumed for all GPUs : 0.037296 kWh. Total GPU Power : 15.768125774771018 W\n",
      "[codecarbon DEBUG @ 13:54:19] GPU : 15.77 W during 15.00 s [measurement time: 0.0048]\n",
      "[codecarbon INFO @ 13:54:19] 0.150830 kWh of electricity used since the beginning.\n",
      "[codecarbon DEBUG @ 13:54:19] We apply an energy mix of 174 g.CO2eq/kWh for Spain\n",
      "[codecarbon DEBUG @ 13:54:19] EmissionsData(timestamp='2025-04-13T13:54:19', project_name='codecarbon', run_id='868e486c-ef2f-47f1-8b33-54ddf9c190fd', experiment_id='5b0fa12a-3dd7-45bb-9766-cc326314d9f1', duration=9600.549312276, emissions=0.026251919413340135, emissions_rate=2.734418475385821e-06, cpu_power=42.5, gpu_power=15.768125774771018, ram_power=0.08864164352416992, cpu_energy=0.11329894861697015, gpu_energy=0.037296187614704004, ram_energy=0.00023462196045501718, energy_consumed=0.15082975819212946, country_name='Spain', country_iso_code='ESP', region=None, cloud_provider='', cloud_region='', os='Linux-6.8.0-57-generic-x86_64-with-glibc2.35', python_version='3.12.9', codecarbon_version='2.8.3', cpu_count=32, cpu_model='13th Gen Intel(R) Core(TM) i9-13900', gpu_count=1, gpu_model='1 x NVIDIA RTX 5000 Ada Generation', longitude=None, latitude=None, ram_total_size=62.50331497192383, tracking_mode='process', on_cloud='N', pue=1.0)\n",
      "[codecarbon INFO @ 13:54:19] 0.002930 g.CO2eq/s mean an estimation of 92.398111051411 kg.CO2eq/year\n",
      "[codecarbon DEBUG @ 13:54:19] last_duration=14.985633371001313\n",
      "------------------------\n"
     ]
    },
    {
     "name": "stdout",
     "output_type": "stream",
     "text": [
      "[500/1000] ./test/pdf/995.pdf\n"
     ]
    },
    {
     "name": "stderr",
     "output_type": "stream",
     "text": [
      "[codecarbon INFO @ 13:54:34] Energy consumed for RAM : 0.000235 kWh. RAM Power : 0.08864164352416992 W\n",
      "[codecarbon DEBUG @ 13:54:34] RAM : 0.09 W during 14.98 s [measurement time: 0.0102]\n",
      "[codecarbon INFO @ 13:54:34] Energy consumed for all CPUs : 0.113476 kWh. Total CPU Power : 42.5 W\n",
      "[codecarbon DEBUG @ 13:54:34] CPU : 42.50 W during 15.00 s [measurement time: 0.0005]\n",
      "[codecarbon INFO @ 13:54:34] Energy consumed for all GPUs : 0.037360 kWh. Total GPU Power : 15.227796254954239 W\n",
      "[codecarbon DEBUG @ 13:54:34] GPU : 15.23 W during 15.00 s [measurement time: 0.0030]\n",
      "[codecarbon INFO @ 13:54:34] 0.151071 kWh of electricity used since the beginning.\n",
      "[codecarbon DEBUG @ 13:54:34] last_duration=14.978318739000315\n",
      "------------------------\n",
      "[codecarbon INFO @ 13:54:49] Energy consumed for RAM : 0.000235 kWh. RAM Power : 0.08864164352416992 W\n",
      "[codecarbon DEBUG @ 13:54:49] RAM : 0.09 W during 14.98 s [measurement time: 0.0140]\n",
      "[codecarbon INFO @ 13:54:49] Energy consumed for all CPUs : 0.113653 kWh. Total CPU Power : 42.5 W\n",
      "[codecarbon DEBUG @ 13:54:49] CPU : 42.50 W during 15.00 s [measurement time: 0.0008]\n",
      "[codecarbon INFO @ 13:54:49] Energy consumed for all GPUs : 0.037423 kWh. Total GPU Power : 15.135059567663255 W\n",
      "[codecarbon DEBUG @ 13:54:49] GPU : 15.14 W during 15.00 s [measurement time: 0.0055]\n",
      "[codecarbon INFO @ 13:54:49] 0.151311 kWh of electricity used since the beginning.\n",
      "[codecarbon DEBUG @ 13:54:49] last_duration=14.978281797000818\n",
      "------------------------\n",
      "[codecarbon INFO @ 13:55:04] Energy consumed for RAM : 0.000236 kWh. RAM Power : 0.08864164352416992 W\n",
      "[codecarbon DEBUG @ 13:55:04] RAM : 0.09 W during 14.97 s [measurement time: 0.0143]\n",
      "[codecarbon INFO @ 13:55:04] Energy consumed for all CPUs : 0.113830 kWh. Total CPU Power : 42.5 W\n",
      "[codecarbon DEBUG @ 13:55:04] CPU : 42.50 W during 14.99 s [measurement time: 0.0006]\n",
      "[codecarbon INFO @ 13:55:04] Energy consumed for all GPUs : 0.037488 kWh. Total GPU Power : 15.684429631240855 W\n",
      "[codecarbon DEBUG @ 13:55:04] GPU : 15.68 W during 15.00 s [measurement time: 0.0034]\n",
      "[codecarbon INFO @ 13:55:04] 0.151554 kWh of electricity used since the beginning.\n",
      "[codecarbon DEBUG @ 13:55:04] last_duration=14.970358639000551\n",
      "------------------------\n",
      "[codecarbon INFO @ 13:55:19] Energy consumed for RAM : 0.000236 kWh. RAM Power : 0.08864164352416992 W\n",
      "[codecarbon DEBUG @ 13:55:19] RAM : 0.09 W during 14.97 s [measurement time: 0.0101]\n",
      "[codecarbon INFO @ 13:55:19] Energy consumed for all CPUs : 0.114007 kWh. Total CPU Power : 42.5 W\n",
      "[codecarbon DEBUG @ 13:55:19] CPU : 42.50 W during 14.99 s [measurement time: 0.0006]\n",
      "[codecarbon INFO @ 13:55:19] Energy consumed for all GPUs : 0.037556 kWh. Total GPU Power : 16.39071564887862 W\n",
      "[codecarbon DEBUG @ 13:55:19] GPU : 16.39 W during 14.99 s [measurement time: 0.0029]\n",
      "[codecarbon INFO @ 13:55:19] 0.151799 kWh of electricity used since the beginning.\n",
      "[codecarbon DEBUG @ 13:55:19] last_duration=14.971210130001054\n",
      "------------------------\n"
     ]
    },
    {
     "name": "stdout",
     "output_type": "stream",
     "text": [
      "[501/1000] ./test/pdf/996.pdf\n"
     ]
    },
    {
     "name": "stderr",
     "output_type": "stream",
     "text": [
      "[codecarbon INFO @ 13:55:34] Energy consumed for RAM : 0.000236 kWh. RAM Power : 0.08864164352416992 W\n",
      "[codecarbon DEBUG @ 13:55:34] RAM : 0.09 W during 14.98 s [measurement time: 0.0101]\n",
      "[codecarbon INFO @ 13:55:34] Energy consumed for all CPUs : 0.114184 kWh. Total CPU Power : 42.5 W\n",
      "[codecarbon DEBUG @ 13:55:34] CPU : 42.50 W during 15.00 s [measurement time: 0.0005]\n",
      "[codecarbon INFO @ 13:55:34] Energy consumed for all GPUs : 0.037627 kWh. Total GPU Power : 17.038083038139238 W\n",
      "[codecarbon DEBUG @ 13:55:34] GPU : 17.04 W during 15.00 s [measurement time: 0.0036]\n",
      "[codecarbon INFO @ 13:55:34] 0.152048 kWh of electricity used since the beginning.\n",
      "[codecarbon DEBUG @ 13:55:34] last_duration=14.978894572999707\n",
      "------------------------\n"
     ]
    },
    {
     "name": "stdout",
     "output_type": "stream",
     "text": [
      "[502/1000] ./test/pdf/997.pdf\n"
     ]
    },
    {
     "name": "stderr",
     "output_type": "stream",
     "text": [
      "[codecarbon INFO @ 13:55:49] Energy consumed for RAM : 0.000237 kWh. RAM Power : 0.08864164352416992 W\n",
      "[codecarbon DEBUG @ 13:55:49] RAM : 0.09 W during 14.98 s [measurement time: 0.0138]\n",
      "[codecarbon INFO @ 13:55:49] Energy consumed for all CPUs : 0.114361 kWh. Total CPU Power : 42.5 W\n",
      "[codecarbon DEBUG @ 13:55:49] CPU : 42.50 W during 15.00 s [measurement time: 0.0003]\n",
      "[codecarbon INFO @ 13:55:49] Energy consumed for all GPUs : 0.037695 kWh. Total GPU Power : 16.218956146896815 W\n",
      "[codecarbon DEBUG @ 13:55:49] GPU : 16.22 W during 15.00 s [measurement time: 0.0047]\n",
      "[codecarbon INFO @ 13:55:49] 0.152293 kWh of electricity used since the beginning.\n",
      "[codecarbon DEBUG @ 13:55:49] last_duration=14.97625959600009\n",
      "------------------------\n",
      "[codecarbon INFO @ 13:56:04] Energy consumed for RAM : 0.000237 kWh. RAM Power : 0.08864164352416992 W\n",
      "[codecarbon DEBUG @ 13:56:04] RAM : 0.09 W during 14.97 s [measurement time: 0.0146]\n",
      "[codecarbon INFO @ 13:56:04] Energy consumed for all CPUs : 0.114538 kWh. Total CPU Power : 42.5 W\n",
      "[codecarbon DEBUG @ 13:56:04] CPU : 42.50 W during 15.00 s [measurement time: 0.0005]\n",
      "[codecarbon INFO @ 13:56:04] Energy consumed for all GPUs : 0.037766 kWh. Total GPU Power : 17.085065814836646 W\n",
      "[codecarbon DEBUG @ 13:56:04] GPU : 17.09 W during 15.00 s [measurement time: 0.0030]\n",
      "[codecarbon INFO @ 13:56:04] 0.152541 kWh of electricity used since the beginning.\n",
      "[codecarbon DEBUG @ 13:56:04] last_duration=14.971314483000242\n",
      "------------------------\n"
     ]
    },
    {
     "name": "stdout",
     "output_type": "stream",
     "text": [
      "[503/1000] ./test/pdf/998.pdf\n"
     ]
    },
    {
     "name": "stderr",
     "output_type": "stream",
     "text": [
      "[codecarbon INFO @ 13:56:19] Energy consumed for RAM : 0.000238 kWh. RAM Power : 0.08864164352416992 W\n",
      "[codecarbon DEBUG @ 13:56:19] RAM : 0.09 W during 14.97 s [measurement time: 0.0137]\n",
      "[codecarbon INFO @ 13:56:19] Energy consumed for all CPUs : 0.114715 kWh. Total CPU Power : 42.5 W\n",
      "[codecarbon DEBUG @ 13:56:19] CPU : 42.50 W during 14.99 s [measurement time: 0.0002]\n",
      "[codecarbon INFO @ 13:56:19] Energy consumed for all GPUs : 0.037835 kWh. Total GPU Power : 16.620738525369642 W\n",
      "[codecarbon DEBUG @ 13:56:19] GPU : 16.62 W during 14.99 s [measurement time: 0.0045]\n",
      "[codecarbon INFO @ 13:56:19] 0.152788 kWh of electricity used since the beginning.\n",
      "[codecarbon DEBUG @ 13:56:19] We apply an energy mix of 174 g.CO2eq/kWh for Spain\n",
      "[codecarbon DEBUG @ 13:56:19] EmissionsData(timestamp='2025-04-13T13:56:19', project_name='codecarbon', run_id='868e486c-ef2f-47f1-8b33-54ddf9c190fd', experiment_id='5b0fa12a-3dd7-45bb-9766-cc326314d9f1', duration=9720.558401774, emissions=0.026592752937912533, emissions_rate=2.7357227680520247e-06, cpu_power=42.5, gpu_power=16.620738525369642, ram_power=0.08864164352416992, cpu_energy=0.11471520439788684, gpu_energy=0.037835232768162, ram_energy=0.00023757166998950315, energy_consumed=0.15278800883603869, country_name='Spain', country_iso_code='ESP', region=None, cloud_provider='', cloud_region='', os='Linux-6.8.0-57-generic-x86_64-with-glibc2.35', python_version='3.12.9', codecarbon_version='2.8.3', cpu_count=32, cpu_model='13th Gen Intel(R) Core(TM) i9-13900', gpu_count=1, gpu_model='1 x NVIDIA RTX 5000 Ada Generation', longitude=None, latitude=None, ram_total_size=62.50331497192383, tracking_mode='process', on_cloud='N', pue=1.0)\n",
      "[codecarbon INFO @ 13:56:19] 0.002840 g.CO2eq/s mean an estimation of 89.56426613914313 kg.CO2eq/year\n",
      "[codecarbon DEBUG @ 13:56:19] last_duration=14.971739336999235\n",
      "------------------------\n"
     ]
    },
    {
     "name": "stdout",
     "output_type": "stream",
     "text": [
      "[504/1000] ./test/pdf/999.pdf\n"
     ]
    },
    {
     "name": "stderr",
     "output_type": "stream",
     "text": [
      "[codecarbon INFO @ 13:56:34] Energy consumed for RAM : 0.000238 kWh. RAM Power : 0.08864164352416992 W\n",
      "[codecarbon DEBUG @ 13:56:34] RAM : 0.09 W during 14.97 s [measurement time: 0.0138]\n",
      "[codecarbon INFO @ 13:56:34] Energy consumed for all CPUs : 0.114892 kWh. Total CPU Power : 42.5 W\n",
      "[codecarbon DEBUG @ 13:56:34] CPU : 42.50 W during 15.00 s [measurement time: 0.0005]\n",
      "[codecarbon INFO @ 13:56:34] Energy consumed for all GPUs : 0.037904 kWh. Total GPU Power : 16.503001916881463 W\n",
      "[codecarbon DEBUG @ 13:56:34] GPU : 16.50 W during 15.00 s [measurement time: 0.0067]\n",
      "[codecarbon INFO @ 13:56:34] 0.153034 kWh of electricity used since the beginning.\n",
      "[codecarbon DEBUG @ 13:56:34] last_duration=14.974911097000586\n",
      "------------------------\n",
      "[codecarbon INFO @ 13:56:41] Energy consumed for RAM : 0.000238 kWh. RAM Power : 0.08864164352416992 W\n",
      "[codecarbon DEBUG @ 13:56:41] RAM : 0.09 W during 7.81 s [measurement time: 0.0128]\n",
      "[codecarbon INFO @ 13:56:41] Energy consumed for all CPUs : 0.114985 kWh. Total CPU Power : 42.5 W\n",
      "[codecarbon DEBUG @ 13:56:41] CPU : 42.50 W during 7.83 s [measurement time: 0.0004]\n",
      "[codecarbon INFO @ 13:56:41] Energy consumed for all GPUs : 0.037937 kWh. Total GPU Power : 15.331166459070253 W\n",
      "[codecarbon DEBUG @ 13:56:41] GPU : 15.33 W during 7.83 s [measurement time: 0.0023]\n",
      "[codecarbon INFO @ 13:56:41] 0.153160 kWh of electricity used since the beginning.\n",
      "[codecarbon DEBUG @ 13:56:41] last_duration=7.806065970000418\n",
      "------------------------\n",
      "[codecarbon DEBUG @ 13:56:41] We apply an energy mix of 174 g.CO2eq/kWh for Spain\n",
      "[codecarbon DEBUG @ 13:56:41] EmissionsData(timestamp='2025-04-13T13:56:41', project_name='codecarbon', run_id='868e486c-ef2f-47f1-8b33-54ddf9c190fd', experiment_id='5b0fa12a-3dd7-45bb-9766-cc326314d9f1', duration=9743.394063779, emissions=0.026657517850567632, emissions_rate=2.7359580938706737e-06, cpu_power=42.5, gpu_power=15.331166459070253, ram_power=0.08864164352416992, cpu_energy=0.11498465860208129, gpu_energy=0.037937322849834004, ram_energy=0.00023813259903311722, energy_consumed=0.15316011405094876, country_name='Spain', country_iso_code='ESP', region=None, cloud_provider='', cloud_region='', os='Linux-6.8.0-57-generic-x86_64-with-glibc2.35', python_version='3.12.9', codecarbon_version='2.8.3', cpu_count=32, cpu_model='13th Gen Intel(R) Core(TM) i9-13900', gpu_count=1, gpu_model='1 x NVIDIA RTX 5000 Ada Generation', longitude=None, latitude=None, ram_total_size=62.50331497192383, tracking_mode='process', on_cloud='N', pue=1.0)\n"
     ]
    }
   ],
   "source": [
    "import os, re, fastwer\n",
    "import google.generativeai as genai\n",
    "from pathlib import Path\n",
    "from codecarbon import EmissionsTracker\n",
    "\n",
    "from codecarbon import OfflineEmissionsTracker\n",
    "\n",
    "config = {\n",
    "    \"save_to_file\": True,            # Save emission data to a CSV file\n",
    "    \"log_level\": \"DEBUG\",            # Set logging level to DEBUG for detailed output\n",
    "    \"tracking_mode\": \"process\",      # Track emissions of the current process only\n",
    "    \"output_dir\": \".\",               # Directory to save the emissions file; '.' denotes the current directory\n",
    "    \"country_iso_code\": \"ESP\",       # ISO code of the country; 'ESP' stands for Spain\n",
    "    \"gpu_ids\": [0],                  # List of GPU IDs to monitor; [0] tracks the first GPU\n",
    "    \"allow_multiple_runs\": True      # Allow the tracker to be used across multiple runs without overwriting data\n",
    "}\n",
    "\n",
    "tracker = OfflineEmissionsTracker(**config)\n",
    "\n",
    "### UTIL FUNCTIONS #################################################################\n",
    "\n",
    "def save_text_file(text, output_file):\n",
    "    if text != \"\":\n",
    "        with open(output_file, 'w', encoding='utf-8') as file:\n",
    "            file.write(text)\n",
    "\n",
    "def verify_text(text, Ref):\n",
    "    def normalize_text(input_text):\n",
    "        input_text = re.sub(r'\\s*biblioteca\\s+nacional\\s+de\\s+españa\\s*$', '', input_text, flags=re.IGNORECASE)\n",
    "        #input_text = re.sub(r'\\s*biblioteca\\s+nacional\\s+de\\s+españa[\\s`]*$', '', input_text, flags=re.IGNORECASE)\n",
    "        input_text = re.sub(r'\\s*BIBLIOTECA\\s+NACIONAL', '', input_text, flags=re.IGNORECASE)\n",
    "        lines = input_text.split('\\n')\n",
    "        if lines and len(lines) > 0:\n",
    "            lines[0] = re.sub(r'\\d+', '', lines[0])\n",
    "            if len(lines) > 1:\n",
    "                lines[1] = re.sub(r'\\d+', '', lines[1])\n",
    "        text_clean = '\\n'.join(lines)\n",
    "        text_clean = re.sub(r'[\"„©¶»«—]', '', text_clean)\n",
    "        text_clean = '\\n'.join(line.strip() for line in text_clean.split('\\n'))\n",
    "        text_clean = re.sub(r'\\n', ' ', text_clean)\n",
    "        text_clean = re.sub(r' +', ' ', text_clean)\n",
    "        text_clean = re.sub(r' +\\.', '.', text_clean)\n",
    "        text_clean = re.sub(r'\\s+,', ',', text_clean)\n",
    "        text_clean = re.sub(r',,', ' ', text_clean)\n",
    "        pattern = r'(\\w+)[\\-\\u00AD\\u2010\\u2011]+\\s+(\\w+)'\n",
    "        text_clean = re.sub(pattern, r'\\1\\2', text_clean)\n",
    "        return text_clean\n",
    "\n",
    "    normalized_text = normalize_text(text)\n",
    "    normalized_ref = normalize_text(Ref)\n",
    "    \n",
    "    #print(\"[text]\\n\", normalized_text)\n",
    "    #print(\"[Ref]\\n\", normalized_ref)\n",
    "    \n",
    "    cer = fastwer.score_sent(normalized_text, normalized_ref, char_level=True)\n",
    "    wer = fastwer.score_sent(normalized_text, normalized_ref)\n",
    "    print(f'CER:{cer:.2f} - WER:{wer:.2f}')\n",
    "    return cer, wer\n",
    "\n",
    "def postprocess(text):\n",
    "    text = re.sub(r'^\\s*```text\\s*\\n?', '', text)\n",
    "    text = re.sub(r'```\\s*$', '', text)\n",
    "    return text\n",
    "\n",
    "### API MODELS #################################################################\n",
    "\n",
    "gemini_api_key = \"XXXXXXXXXXXXXXXX\"\n",
    "genai.configure(api_key=gemini_api_key)\n",
    "gmodel = genai.GenerativeModel('gemini-2.5-pro-preview-03-25')\n",
    "#gmodel = genai.GenerativeModel('gemini-2.5-pro-exp-03-25')\n",
    "#gmodel = genai.GenerativeModel('gemini-2.0-flash-thinking-exp-01-21')\n",
    " \n",
    "def ocr_gemini(filepath):\n",
    "    text = \"\"\n",
    "    try:\n",
    "        prompt = \"\"\"\n",
    "        Perform OCR (Optical Character Recognition) on this image.\n",
    "        Extract ALL visible text without modernizing or modifying Old Spanish.\n",
    "        Correct spelling and punctuation while preserving the original language and format.\n",
    "        Respond ONLY with the extracted text, without additional comments.\n",
    "        \"\"\"\n",
    "        file_content = Path(filepath).read_bytes()\n",
    "        file_part = {\"mime_type\": \"application/pdf\", \"data\": file_content}\n",
    "        respuesta = gmodel.generate_content([prompt, file_part])\n",
    "        text = respuesta.text\n",
    "    except Exception as e:\n",
    "        print(f\"Error[ocr_gemini]: {str(e)}\")\n",
    "    return text\n",
    "### PROCESS FLOW #################################################################\n",
    "\n",
    "def process_directory(directory, directory_ocr, directory_out):\n",
    "    \"\"\" Esta función lee un directorio que contiene imagenes y llama a gemini-2.5-pro-preview-03-25 para extraer el texto. Posteriormente  post procesa el texto obtenido\"\"\"\n",
    "    global check  # Asegurarse de que se use la variable global\n",
    "    batch = 1000\n",
    "    count = 1\n",
    "    for file in sorted(os.scandir(directory), key=lambda x: x.name.lower()):\n",
    "        try:\n",
    "            if file.is_file() and file.name.lower().endswith('.pdf'):\n",
    "                filepath = file.path\n",
    "                base_name = os.path.splitext(file.name)[0]\n",
    "                ocr_name = base_name + '.txt'\n",
    "                file_out = os.path.join(directory_out, ocr_name)\n",
    "                if not os.path.exists(file_out):\n",
    "                    print(f\"[{count}/{batch}]\", filepath)\n",
    "                    text = ocr_gemini(filepath)\n",
    "                    text = postprocess(text)\n",
    "                    save_text_file(text, file_out)\n",
    "                    count += 1\n",
    "                    if count >= batch:\n",
    "                        break\n",
    "                if verify:\n",
    "                    ocr_path = os.path.join(directory_ocr, ocr_name)\n",
    "                    if not os.path.exists(ocr_path):\n",
    "                        print(f\"Error: El archivo {ocr_path} no existe.\")\n",
    "                        continue\n",
    "                    with open(ocr_path, 'r', encoding='utf-8') as file:\n",
    "                        Ref = file.read()\n",
    "                    if not os.path.exists(file_out):\n",
    "                        print(f\"Error: El archivo {file_out} no existe.\")\n",
    "                        continue\n",
    "                    with open(file_out, 'r', encoding='utf-8') as f:\n",
    "                        text = f.read()\n",
    "                    verify_text(text, Ref)\n",
    "        except Exception as e:\n",
    "            print(f\"Error processing file {filepath}: {str(e)}\")\n",
    "    \n",
    "directory_in = \"./test/pdf/\"\n",
    "directory_ocr = \"./dev/test2/\"\n",
    "directory_out = \"./test/txt/\"\n",
    "verify = False\n",
    "\n",
    "tracker.start()\n",
    "process_directory(directory_in, directory_ocr, directory_out)\n",
    "emissions = tracker.stop()\n"
   ]
  },
  {
   "cell_type": "code",
   "execution_count": null,
   "id": "1595a815-11ad-47b8-a93c-61b68b17cecb",
   "metadata": {},
   "outputs": [],
   "source": []
  }
 ],
 "metadata": {
  "kernelspec": {
   "display_name": "Python 3 (ipykernel)",
   "language": "python",
   "name": "python3"
  },
  "language_info": {
   "codemirror_mode": {
    "name": "ipython",
    "version": 3
   },
   "file_extension": ".py",
   "mimetype": "text/x-python",
   "name": "python",
   "nbconvert_exporter": "python",
   "pygments_lexer": "ipython3",
   "version": "3.12.9"
  }
 },
 "nbformat": 4,
 "nbformat_minor": 5
}
