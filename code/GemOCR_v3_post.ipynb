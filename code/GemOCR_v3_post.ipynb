{
 "cells": [
  {
   "cell_type": "code",
   "execution_count": 23,
   "id": "07ed39d8",
   "metadata": {},
   "outputs": [
    {
     "name": "stdout",
     "output_type": "stream",
     "text": [
      "Process finished. 3000 files processed.\n"
     ]
    }
   ],
   "source": [
    "import os\n",
    "import re\n",
    "from pathlib import Path\n",
    "\n",
    "### UTIL FUNCTIONS #################################################################\n",
    "\n",
    "def save_text_file(text, output_file):\n",
    "    \"\"\"Guarda texto en un archivo solo si no está vacío.\"\"\"\n",
    "    with open(output_file, 'w', encoding='utf-8') as file:\n",
    "        file.write(text)\n",
    "\n",
    "def postprocess(text):\n",
    "    \"\"\"Limpia el texto de patrones indeseados.\"\"\"\n",
    "    # Eliminar menciones a la Biblioteca Nacional\n",
    "    text = re.sub(r'\\s*biblioteca\\s+nacional\\s+de\\s+españa\\s*$', '', text, flags=re.IGNORECASE)\n",
    "    text = re.sub(r'\\s*BIBLIOTECA\\s+NACIONAL', '', text, flags=re.IGNORECASE)\n",
    "    text = re.sub(r'[©¶]', '', text, flags=re.MULTILINE)\n",
    "\n",
    "    # Eliminar números en las primeras dos líneas\n",
    "    lines = text.splitlines()\n",
    "    for i in range(min(2, len(lines))):\n",
    "        lines[i] = re.sub(r'\\d+', '', lines[i])\n",
    "\n",
    "    text = '\\n'.join(lines)\n",
    "\n",
    "    # Limpiar caracteres repetidos o extraños al principio\n",
    "    #text = re.sub(r'[\"„©¶»«—]', '', text)\n",
    "    text = re.sub(r'^[\"„©¶»«]', '', text, flags=re.MULTILINE)\n",
    "    text = re.sub(r'^,,', '', text, flags=re.MULTILINE)\n",
    "    text = re.sub(r'^,', '', text, flags=re.MULTILINE)\n",
    "    text = re.sub(r'^>>', '', text, flags=re.MULTILINE)\n",
    "    text = re.sub(r'^<\"', '', text, flags=re.MULTILINE)\n",
    "    text = re.sub(r'\\s,', ',', text, flags=re.MULTILINE)\n",
    "    lines = text.splitlines()\n",
    "    stripped_lines = [line.strip() for line in lines]\n",
    "    if stripped_lines and stripped_lines[0] == '':\n",
    "        stripped_lines = stripped_lines[1:]\n",
    "    text = '\\n'.join(stripped_lines)\n",
    "    return text\n",
    "\n",
    "def process_directory(directory_in, directory_out):\n",
    "    \"\"\"Procesa todos los .txt en un directorio, aplicando postprocesamiento.\"\"\"\n",
    "    Path(directory_out).mkdir(parents=True, exist_ok=True)\n",
    "    count = 0\n",
    "    for file in sorted(Path(directory_in).glob(\"*.txt\")):\n",
    "        try:\n",
    "            base_name = file.stem + \".txt\"\n",
    "            output_path = Path(directory_out) / base_name\n",
    "\n",
    "            if not output_path.exists():\n",
    "                file_content = file.read_text(encoding='utf-8', errors='ignore')\n",
    "                cleaned_text = postprocess(file_content)\n",
    "                save_text_file(cleaned_text, output_path)\n",
    "                count += 1\n",
    "        except Exception as e:\n",
    "            print(f\"⚠️ Error procesando {file.name}: {e}\")\n",
    "    return count\n",
    "\n",
    "### CONFIGURACIÓN ###################################################################\n",
    "\n",
    "if __name__ == \"__main__\":\n",
    "    directory_in = \"./test/txt/\"\n",
    "    directory_out = \"./test/txt_revised/\"\n",
    "    count = process_directory(directory_in, directory_out)\n",
    "\n",
    "    print(f\"Process finished. {count} files processed.\")"
   ]
  },
  {
   "cell_type": "code",
   "execution_count": null,
   "id": "1595a815-11ad-47b8-a93c-61b68b17cecb",
   "metadata": {},
   "outputs": [],
   "source": []
  }
 ],
 "metadata": {
  "kernelspec": {
   "display_name": "Python 3 (ipykernel)",
   "language": "python",
   "name": "python3"
  },
  "language_info": {
   "codemirror_mode": {
    "name": "ipython",
    "version": 3
   },
   "file_extension": ".py",
   "mimetype": "text/x-python",
   "name": "python",
   "nbconvert_exporter": "python",
   "pygments_lexer": "ipython3",
   "version": "3.12.9"
  }
 },
 "nbformat": 4,
 "nbformat_minor": 5
}
